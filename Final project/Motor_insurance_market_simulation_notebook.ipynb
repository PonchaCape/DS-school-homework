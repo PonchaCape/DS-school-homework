{
  "nbformat": 4,
  "nbformat_minor": 0,
  "metadata": {
    "kernelspec": {
      "display_name": "Python 3",
      "language": "python",
      "name": "python3"
    },
    "language_info": {
      "codemirror_mode": {
        "name": "ipython",
        "version": 3
      },
      "file_extension": ".py",
      "mimetype": "text/x-python",
      "name": "python",
      "nbconvert_exporter": "python",
      "pygments_lexer": "ipython3",
      "version": "3.6.10"
    },
    "colab": {
      "name": "Motor insurance market simulation. Submission №6 catboost notebook (Python) project report",
      "provenance": [],
      "collapsed_sections": []
    }
  },
  "cells": [
    {
      "cell_type": "markdown",
      "metadata": {
        "id": "rWq4q0Gfp1Ha"
      },
      "source": [
        "<div style=\"text-align: center\">\n",
        "  <img alt=\"AIcrowd\" src=\"https://gitlab.aicrowd.com/jyotish/pricing-game-notebook-scripts/raw/master/pricing-game-banner.png\">\n",
        "</div>"
      ]
    },
    {
      "cell_type": "markdown",
      "metadata": {
        "id": "uIBNi6PiHFfD"
      },
      "source": [
        "# How to use this notebook 📝\n",
        "\n",
        "1. **Copy the notebook**. This is a shared template and any edits you make here will not be saved. _You should copy it into your own drive folder._ For this, click the \"File\" menu (top-left), then \"Save a Copy in Drive\". You can edit your copy however you like.\n",
        "2. **Link it to your AICrowd account**. In order to submit your code to AICrowd, you need to provide your account's API key (see [_\"Configure static variables\"_](#static-var) for details).\n",
        "3. **Stick to the function definitions**. The submission to AICrowd will look for the pre-defined function names:\n",
        "  - `fit_model`\n",
        "  - `save_model`\n",
        "  - `load_model`\n",
        "  - `predict_expected_claim`\n",
        "  - `predict_premium`\n",
        "\n",
        "    Anything else you write outside of these functions will not be part of the final submission (including constants and utility functions), so make sure everything is defined within them, except for:\n",
        "4. **Define your preprocessing**. In addition to the functions above, anything in the cell labelled [_\"Define your data preprocessing\"_](#data-preprocessing) will also be imported into your final submission. "
      ]
    },
    {
      "cell_type": "markdown",
      "metadata": {
        "id": "uor1bk8ud9Yf"
      },
      "source": [
        "# Your pricing model 🕵️\n",
        "\n",
        "In this notebook, you can play with the data, and define and train your pricing model. You can then directly submit it to the AICrowd, with some magic code at the end.\n",
        "\n",
        "### Baseline logistic regression 💪\n",
        "You can also play with a baseline logistic regression model [implemented here](https://colab.research.google.com/drive/1iDgDgWUw9QzOkbTYjeyY3i3DGuCoghs3?usp=sharing). "
      ]
    },
    {
      "cell_type": "markdown",
      "metadata": {
        "id": "KOG9aspEPfLo"
      },
      "source": [
        "# Setup the notebook 🛠"
      ]
    },
    {
      "cell_type": "code",
      "metadata": {
        "id": "Cc9aD_S9w_Qs",
        "colab": {
          "base_uri": "https://localhost:8080/"
        },
        "outputId": "87ea0d4a-d227-4cf1-8a6d-a6fcfbf9b3b2"
      },
      "source": [
        "!bash <(curl -sL https://gitlab.aicrowd.com/jyotish/pricing-game-notebook-scripts/raw/master/python/setup.sh)\n",
        "from aicrowd_helpers import *"
      ],
      "execution_count": null,
      "outputs": [
        {
          "output_type": "stream",
          "text": [
            "⚙️ Installing AIcrowd utilities...\n",
            "  Running command git clone -q https://gitlab.aicrowd.com/yoogottamk/aicrowd-cli /tmp/pip-req-build-tt38br9g\n",
            "✅ Installed AIcrowd utilities\n"
          ],
          "name": "stdout"
        }
      ]
    },
    {
      "cell_type": "markdown",
      "metadata": {
        "id": "oWAkvr2mPqhO"
      },
      "source": [
        "# Configure static variables 📎\n",
        "<a name=\"static-var\"></a>\n",
        "\n",
        "In order to submit using this notebook, you must visit this URL https://aicrowd.com/participants/me and copy your API key. \n",
        "\n",
        "Then you must set the value of `AICROWD_API_KEY` wuth the value."
      ]
    },
    {
      "cell_type": "code",
      "metadata": {
        "id": "3Z8nmleFd9Yf"
      },
      "source": [
        "import sklearn\n",
        "\n",
        "class Config:\n",
        "    TRAINING_DATA_PATH = 'training.csv'\n",
        "    MODEL_OUTPUT_PATH = 'model.pkl'\n",
        "    AICROWD_API_KEY = '****5'  # You can get the key from https://aicrowd.com/participants/me\n",
        "    ADDITIONAL_PACKAGES = [\n",
        "        'numpy',  # you can define versions as well, numpy==0.19.2\n",
        "        'pandas',\n",
        "        'scikit-learn==' + sklearn.__version__,\n",
        "        'catboost',\n",
        "        'matplotlib',\n",
        "        'seaborn'\n",
        "    # NOTE THAT ANY TENSORFLOW VERSION HAS TO BE LOWER THAN 2.4. So 2.3XXX would work. \n",
        "  ]"
      ],
      "execution_count": null,
      "outputs": []
    },
    {
      "cell_type": "markdown",
      "metadata": {
        "id": "iK8Ki2WUjVoX"
      },
      "source": [
        "# Download dataset files 💾"
      ]
    },
    {
      "cell_type": "code",
      "metadata": {
        "id": "cgKzpAV0jVFQ",
        "colab": {
          "base_uri": "https://localhost:8080/"
        },
        "outputId": "be2d088c-0041-4100-947d-568d08b8b02a"
      },
      "source": [
        "# Make sure to offically join the challenge and accept the challenge rules! Otherwise you will not be able to download the data\n",
        "%download_aicrowd_dataset"
      ],
      "execution_count": null,
      "outputs": [
        {
          "output_type": "stream",
          "text": [
            "💾 Downloading dataset...\n",
            "Verifying API Key...\n",
            "API Key valid\n",
            "Saved API Key successfully!\n",
            "✅ Downloaded dataset\n"
          ],
          "name": "stdout"
        }
      ]
    },
    {
      "cell_type": "markdown",
      "metadata": {
        "id": "5wrBpC0qd9Yg"
      },
      "source": [
        "# Packages 🗃\n",
        "\n",
        "<a name=\"packages\"></a>\n",
        "\n",
        "Import here all the packages you need to define your model. **You will need to include all of these packages in `Config.ADDITIONAL_PACKAGES` for your code to run properly once submitted.**"
      ]
    },
    {
      "cell_type": "code",
      "metadata": {
        "id": "rKgm8HuP0F4a",
        "colab": {
          "base_uri": "https://localhost:8080/"
        },
        "outputId": "c817eecd-536c-4b92-ecee-576dcdcf6d02"
      },
      "source": [
        "!pip install catboost"
      ],
      "execution_count": null,
      "outputs": [
        {
          "output_type": "stream",
          "text": [
            "Collecting catboost\n",
            "\u001b[?25l  Downloading https://files.pythonhosted.org/packages/20/37/bc4e0ddc30c07a96482abf1de7ed1ca54e59bba2026a33bca6d2ef286e5b/catboost-0.24.4-cp36-none-manylinux1_x86_64.whl (65.7MB)\n",
            "\u001b[K     |████████████████████████████████| 65.8MB 57kB/s \n",
            "\u001b[?25hRequirement already satisfied: six in /usr/local/lib/python3.6/dist-packages (from catboost) (1.15.0)\n",
            "Requirement already satisfied: plotly in /usr/local/lib/python3.6/dist-packages (from catboost) (4.4.1)\n",
            "Requirement already satisfied: matplotlib in /usr/local/lib/python3.6/dist-packages (from catboost) (3.2.2)\n",
            "Requirement already satisfied: graphviz in /usr/local/lib/python3.6/dist-packages (from catboost) (0.10.1)\n",
            "Requirement already satisfied: pandas>=0.24.0 in /usr/local/lib/python3.6/dist-packages (from catboost) (1.1.5)\n",
            "Requirement already satisfied: numpy>=1.16.0 in /usr/local/lib/python3.6/dist-packages (from catboost) (1.19.5)\n",
            "Requirement already satisfied: scipy in /usr/local/lib/python3.6/dist-packages (from catboost) (1.4.1)\n",
            "Requirement already satisfied: retrying>=1.3.3 in /usr/local/lib/python3.6/dist-packages (from plotly->catboost) (1.3.3)\n",
            "Requirement already satisfied: pyparsing!=2.0.4,!=2.1.2,!=2.1.6,>=2.0.1 in /usr/local/lib/python3.6/dist-packages (from matplotlib->catboost) (2.4.7)\n",
            "Requirement already satisfied: cycler>=0.10 in /usr/local/lib/python3.6/dist-packages (from matplotlib->catboost) (0.10.0)\n",
            "Requirement already satisfied: python-dateutil>=2.1 in /usr/local/lib/python3.6/dist-packages (from matplotlib->catboost) (2.8.1)\n",
            "Requirement already satisfied: kiwisolver>=1.0.1 in /usr/local/lib/python3.6/dist-packages (from matplotlib->catboost) (1.3.1)\n",
            "Requirement already satisfied: pytz>=2017.2 in /usr/local/lib/python3.6/dist-packages (from pandas>=0.24.0->catboost) (2018.9)\n",
            "Installing collected packages: catboost\n",
            "Successfully installed catboost-0.24.4\n"
          ],
          "name": "stdout"
        }
      ]
    },
    {
      "cell_type": "code",
      "metadata": {
        "id": "4q4C50Fsd9Yg"
      },
      "source": [
        "%%track_imports\n",
        "\n",
        "import numpy as np\n",
        "import pandas as pd\n",
        "import pickle\n",
        "import matplotlib.pyplot as plt\n",
        "import seaborn as sns\n",
        "import catboost\n",
        "import sklearn"
      ],
      "execution_count": null,
      "outputs": []
    },
    {
      "cell_type": "code",
      "metadata": {
        "id": "lR62QOUGd9Yg"
      },
      "source": [
        "import importlib\n",
        "import global_imports\n",
        "importlib.reload(global_imports)\n",
        "from global_imports import *  # do not change this"
      ],
      "execution_count": null,
      "outputs": []
    },
    {
      "cell_type": "markdown",
      "metadata": {
        "id": "YRgsbwWwd9Yg"
      },
      "source": [
        "# Loading the data 📲"
      ]
    },
    {
      "cell_type": "code",
      "metadata": {
        "id": "vQQghMU7d9Yg"
      },
      "source": [
        "df = pd.read_csv(Config.TRAINING_DATA_PATH)\n",
        "X_train = df.drop(columns=['claim_amount'])\n",
        "y_train = df['claim_amount']"
      ],
      "execution_count": null,
      "outputs": []
    },
    {
      "cell_type": "markdown",
      "metadata": {
        "id": "WArx8uDQd9Yh"
      },
      "source": [
        "## How does the data look like? 🔍"
      ]
    },
    {
      "cell_type": "markdown",
      "metadata": {
        "id": "iOFLMCTVZuhl"
      },
      "source": [
        "Смотрим на набор признаков их значения"
      ]
    },
    {
      "cell_type": "code",
      "metadata": {
        "id": "O_dyebPyQbSO",
        "colab": {
          "base_uri": "https://localhost:8080/",
          "height": 195
        },
        "outputId": "27f2291e-7a64-4ccf-b82e-0cdb64d394e6"
      },
      "source": [
        "X_train.sample(n=4)"
      ],
      "execution_count": null,
      "outputs": [
        {
          "output_type": "execute_result",
          "data": {
            "text/html": [
              "<div>\n",
              "<style scoped>\n",
              "    .dataframe tbody tr th:only-of-type {\n",
              "        vertical-align: middle;\n",
              "    }\n",
              "\n",
              "    .dataframe tbody tr th {\n",
              "        vertical-align: top;\n",
              "    }\n",
              "\n",
              "    .dataframe thead th {\n",
              "        text-align: right;\n",
              "    }\n",
              "</style>\n",
              "<table border=\"1\" class=\"dataframe\">\n",
              "  <thead>\n",
              "    <tr style=\"text-align: right;\">\n",
              "      <th></th>\n",
              "      <th>id_policy</th>\n",
              "      <th>year</th>\n",
              "      <th>pol_no_claims_discount</th>\n",
              "      <th>pol_coverage</th>\n",
              "      <th>pol_duration</th>\n",
              "      <th>pol_sit_duration</th>\n",
              "      <th>pol_pay_freq</th>\n",
              "      <th>pol_payd</th>\n",
              "      <th>pol_usage</th>\n",
              "      <th>drv_sex1</th>\n",
              "      <th>drv_age1</th>\n",
              "      <th>drv_age_lic1</th>\n",
              "      <th>drv_drv2</th>\n",
              "      <th>drv_sex2</th>\n",
              "      <th>drv_age2</th>\n",
              "      <th>drv_age_lic2</th>\n",
              "      <th>vh_make_model</th>\n",
              "      <th>vh_age</th>\n",
              "      <th>vh_fuel</th>\n",
              "      <th>vh_type</th>\n",
              "      <th>vh_speed</th>\n",
              "      <th>vh_value</th>\n",
              "      <th>vh_weight</th>\n",
              "      <th>population</th>\n",
              "      <th>town_surface_area</th>\n",
              "    </tr>\n",
              "  </thead>\n",
              "  <tbody>\n",
              "    <tr>\n",
              "      <th>124994</th>\n",
              "      <td>PL051186</td>\n",
              "      <td>3.0</td>\n",
              "      <td>0.000</td>\n",
              "      <td>Max</td>\n",
              "      <td>7</td>\n",
              "      <td>3</td>\n",
              "      <td>Yearly</td>\n",
              "      <td>No</td>\n",
              "      <td>Retired</td>\n",
              "      <td>M</td>\n",
              "      <td>73.0</td>\n",
              "      <td>52.0</td>\n",
              "      <td>Yes</td>\n",
              "      <td>F</td>\n",
              "      <td>67.0</td>\n",
              "      <td>41.0</td>\n",
              "      <td>lqqciehjjdtelpwa</td>\n",
              "      <td>4.0</td>\n",
              "      <td>Diesel</td>\n",
              "      <td>Tourism</td>\n",
              "      <td>184.0</td>\n",
              "      <td>35168.0</td>\n",
              "      <td>1388.0</td>\n",
              "      <td>760.0</td>\n",
              "      <td>39.5</td>\n",
              "    </tr>\n",
              "    <tr>\n",
              "      <th>15550</th>\n",
              "      <td>PL018075</td>\n",
              "      <td>1.0</td>\n",
              "      <td>0.369</td>\n",
              "      <td>Max</td>\n",
              "      <td>1</td>\n",
              "      <td>1</td>\n",
              "      <td>Yearly</td>\n",
              "      <td>No</td>\n",
              "      <td>WorkPrivate</td>\n",
              "      <td>M</td>\n",
              "      <td>29.0</td>\n",
              "      <td>11.0</td>\n",
              "      <td>No</td>\n",
              "      <td>0</td>\n",
              "      <td>NaN</td>\n",
              "      <td>NaN</td>\n",
              "      <td>tdgkjlphosocwbgu</td>\n",
              "      <td>3.0</td>\n",
              "      <td>Diesel</td>\n",
              "      <td>Tourism</td>\n",
              "      <td>200.0</td>\n",
              "      <td>19422.0</td>\n",
              "      <td>1315.0</td>\n",
              "      <td>470.0</td>\n",
              "      <td>47.8</td>\n",
              "    </tr>\n",
              "    <tr>\n",
              "      <th>82032</th>\n",
              "      <td>PL067166</td>\n",
              "      <td>2.0</td>\n",
              "      <td>0.000</td>\n",
              "      <td>Med2</td>\n",
              "      <td>12</td>\n",
              "      <td>2</td>\n",
              "      <td>Monthly</td>\n",
              "      <td>No</td>\n",
              "      <td>Retired</td>\n",
              "      <td>M</td>\n",
              "      <td>61.0</td>\n",
              "      <td>43.0</td>\n",
              "      <td>No</td>\n",
              "      <td>0</td>\n",
              "      <td>NaN</td>\n",
              "      <td>NaN</td>\n",
              "      <td>mpwepwxyokmciojj</td>\n",
              "      <td>9.0</td>\n",
              "      <td>Diesel</td>\n",
              "      <td>Commercial</td>\n",
              "      <td>131.0</td>\n",
              "      <td>18621.0</td>\n",
              "      <td>747.0</td>\n",
              "      <td>170.0</td>\n",
              "      <td>147.4</td>\n",
              "    </tr>\n",
              "    <tr>\n",
              "      <th>742</th>\n",
              "      <td>PL041297</td>\n",
              "      <td>1.0</td>\n",
              "      <td>0.000</td>\n",
              "      <td>Min</td>\n",
              "      <td>9</td>\n",
              "      <td>2</td>\n",
              "      <td>Yearly</td>\n",
              "      <td>No</td>\n",
              "      <td>Retired</td>\n",
              "      <td>M</td>\n",
              "      <td>58.0</td>\n",
              "      <td>38.0</td>\n",
              "      <td>Yes</td>\n",
              "      <td>F</td>\n",
              "      <td>61.0</td>\n",
              "      <td>42.0</td>\n",
              "      <td>wyqgeeclrqbihfpk</td>\n",
              "      <td>13.0</td>\n",
              "      <td>Gasoline</td>\n",
              "      <td>Tourism</td>\n",
              "      <td>138.0</td>\n",
              "      <td>10238.0</td>\n",
              "      <td>339.0</td>\n",
              "      <td>90.0</td>\n",
              "      <td>113.3</td>\n",
              "    </tr>\n",
              "  </tbody>\n",
              "</table>\n",
              "</div>"
            ],
            "text/plain": [
              "       id_policy  year  ...  population town_surface_area\n",
              "124994  PL051186   3.0  ...       760.0              39.5\n",
              "15550   PL018075   1.0  ...       470.0              47.8\n",
              "82032   PL067166   2.0  ...       170.0             147.4\n",
              "742     PL041297   1.0  ...        90.0             113.3\n",
              "\n",
              "[4 rows x 25 columns]"
            ]
          },
          "metadata": {
            "tags": []
          },
          "execution_count": 8
        }
      ]
    },
    {
      "cell_type": "markdown",
      "metadata": {
        "id": "4HRepAVLZ392"
      },
      "source": [
        "Теперь посмотрим, как выглядит целевая переменная."
      ]
    },
    {
      "cell_type": "code",
      "metadata": {
        "id": "WoJEQhxMQtq9",
        "colab": {
          "base_uri": "https://localhost:8080/"
        },
        "outputId": "dc9c9886-0d8d-4df6-9f1d-d7f2bf62e700"
      },
      "source": [
        "y_train.sample(n=4)"
      ],
      "execution_count": null,
      "outputs": [
        {
          "output_type": "execute_result",
          "data": {
            "text/plain": [
              "125781       0.00\n",
              "23795     1257.41\n",
              "104622       0.00\n",
              "56045        0.00\n",
              "Name: claim_amount, dtype: float64"
            ]
          },
          "metadata": {
            "tags": []
          },
          "execution_count": 12
        }
      ]
    },
    {
      "cell_type": "code",
      "metadata": {
        "colab": {
          "base_uri": "https://localhost:8080/"
        },
        "id": "d8e5is4EUZze",
        "outputId": "4af373df-ec32-459e-e88d-cd7c96ee4718"
      },
      "source": [
        "y_train.value_counts()"
      ],
      "execution_count": null,
      "outputs": [
        {
          "output_type": "execute_result",
          "data": {
            "text/plain": [
              "0.00       204924\n",
              "1236.00       843\n",
              "1242.00       399\n",
              "1276.00       377\n",
              "922.04        222\n",
              "            ...  \n",
              "4220.70         1\n",
              "744.94          1\n",
              "507.60          1\n",
              "94.10           1\n",
              "1228.79         1\n",
              "Name: claim_amount, Length: 17532, dtype: int64"
            ]
          },
          "metadata": {
            "tags": []
          },
          "execution_count": 14
        }
      ]
    },
    {
      "cell_type": "markdown",
      "metadata": {
        "id": "QP_ywtaMZ_Ir"
      },
      "source": [
        "Статистика по датасету и далее гистограммы распределений. Здесь не отображены категориальные признаки"
      ]
    },
    {
      "cell_type": "code",
      "metadata": {
        "id": "E2ervyz-1Wpx",
        "colab": {
          "base_uri": "https://localhost:8080/",
          "height": 520
        },
        "outputId": "21e72912-1ca5-4995-ea56-e1e731aaf0a2"
      },
      "source": [
        "df.describe().transpose()"
      ],
      "execution_count": null,
      "outputs": [
        {
          "output_type": "execute_result",
          "data": {
            "text/html": [
              "<div>\n",
              "<style scoped>\n",
              "    .dataframe tbody tr th:only-of-type {\n",
              "        vertical-align: middle;\n",
              "    }\n",
              "\n",
              "    .dataframe tbody tr th {\n",
              "        vertical-align: top;\n",
              "    }\n",
              "\n",
              "    .dataframe thead th {\n",
              "        text-align: right;\n",
              "    }\n",
              "</style>\n",
              "<table border=\"1\" class=\"dataframe\">\n",
              "  <thead>\n",
              "    <tr style=\"text-align: right;\">\n",
              "      <th></th>\n",
              "      <th>count</th>\n",
              "      <th>mean</th>\n",
              "      <th>std</th>\n",
              "      <th>min</th>\n",
              "      <th>25%</th>\n",
              "      <th>50%</th>\n",
              "      <th>75%</th>\n",
              "      <th>max</th>\n",
              "    </tr>\n",
              "  </thead>\n",
              "  <tbody>\n",
              "    <tr>\n",
              "      <th>year</th>\n",
              "      <td>228216.0</td>\n",
              "      <td>2.500000</td>\n",
              "      <td>1.118036</td>\n",
              "      <td>1.0</td>\n",
              "      <td>1.75</td>\n",
              "      <td>2.5</td>\n",
              "      <td>3.25</td>\n",
              "      <td>4.0</td>\n",
              "    </tr>\n",
              "    <tr>\n",
              "      <th>pol_no_claims_discount</th>\n",
              "      <td>228216.0</td>\n",
              "      <td>0.044383</td>\n",
              "      <td>0.118354</td>\n",
              "      <td>0.0</td>\n",
              "      <td>0.00</td>\n",
              "      <td>0.0</td>\n",
              "      <td>0.00</td>\n",
              "      <td>1.0</td>\n",
              "    </tr>\n",
              "    <tr>\n",
              "      <th>pol_duration</th>\n",
              "      <td>228216.0</td>\n",
              "      <td>12.608651</td>\n",
              "      <td>8.638768</td>\n",
              "      <td>1.0</td>\n",
              "      <td>5.00</td>\n",
              "      <td>11.0</td>\n",
              "      <td>18.00</td>\n",
              "      <td>44.0</td>\n",
              "    </tr>\n",
              "    <tr>\n",
              "      <th>pol_sit_duration</th>\n",
              "      <td>228216.0</td>\n",
              "      <td>4.245049</td>\n",
              "      <td>2.622117</td>\n",
              "      <td>1.0</td>\n",
              "      <td>3.00</td>\n",
              "      <td>4.0</td>\n",
              "      <td>5.00</td>\n",
              "      <td>26.0</td>\n",
              "    </tr>\n",
              "    <tr>\n",
              "      <th>drv_age1</th>\n",
              "      <td>228216.0</td>\n",
              "      <td>56.339328</td>\n",
              "      <td>14.978742</td>\n",
              "      <td>19.0</td>\n",
              "      <td>45.00</td>\n",
              "      <td>56.0</td>\n",
              "      <td>67.00</td>\n",
              "      <td>104.0</td>\n",
              "    </tr>\n",
              "    <tr>\n",
              "      <th>drv_age_lic1</th>\n",
              "      <td>228216.0</td>\n",
              "      <td>34.132366</td>\n",
              "      <td>13.901112</td>\n",
              "      <td>1.0</td>\n",
              "      <td>24.00</td>\n",
              "      <td>34.0</td>\n",
              "      <td>44.00</td>\n",
              "      <td>80.0</td>\n",
              "    </tr>\n",
              "    <tr>\n",
              "      <th>drv_age2</th>\n",
              "      <td>75320.0</td>\n",
              "      <td>48.569888</td>\n",
              "      <td>16.338162</td>\n",
              "      <td>18.0</td>\n",
              "      <td>36.00</td>\n",
              "      <td>47.0</td>\n",
              "      <td>61.00</td>\n",
              "      <td>102.0</td>\n",
              "    </tr>\n",
              "    <tr>\n",
              "      <th>drv_age_lic2</th>\n",
              "      <td>75320.0</td>\n",
              "      <td>26.686564</td>\n",
              "      <td>14.943528</td>\n",
              "      <td>1.0</td>\n",
              "      <td>15.00</td>\n",
              "      <td>25.0</td>\n",
              "      <td>38.00</td>\n",
              "      <td>83.0</td>\n",
              "    </tr>\n",
              "    <tr>\n",
              "      <th>vh_age</th>\n",
              "      <td>228212.0</td>\n",
              "      <td>11.139774</td>\n",
              "      <td>7.135487</td>\n",
              "      <td>1.0</td>\n",
              "      <td>6.00</td>\n",
              "      <td>10.0</td>\n",
              "      <td>15.00</td>\n",
              "      <td>64.0</td>\n",
              "    </tr>\n",
              "    <tr>\n",
              "      <th>vh_speed</th>\n",
              "      <td>225664.0</td>\n",
              "      <td>170.946434</td>\n",
              "      <td>25.550016</td>\n",
              "      <td>95.0</td>\n",
              "      <td>155.00</td>\n",
              "      <td>174.0</td>\n",
              "      <td>183.00</td>\n",
              "      <td>251.0</td>\n",
              "    </tr>\n",
              "    <tr>\n",
              "      <th>vh_value</th>\n",
              "      <td>225664.0</td>\n",
              "      <td>17699.659476</td>\n",
              "      <td>10535.606269</td>\n",
              "      <td>1113.0</td>\n",
              "      <td>11490.00</td>\n",
              "      <td>16321.0</td>\n",
              "      <td>22067.00</td>\n",
              "      <td>101525.0</td>\n",
              "    </tr>\n",
              "    <tr>\n",
              "      <th>vh_weight</th>\n",
              "      <td>225664.0</td>\n",
              "      <td>1098.728924</td>\n",
              "      <td>397.594911</td>\n",
              "      <td>0.0</td>\n",
              "      <td>950.00</td>\n",
              "      <td>1145.0</td>\n",
              "      <td>1315.00</td>\n",
              "      <td>2554.0</td>\n",
              "    </tr>\n",
              "    <tr>\n",
              "      <th>population</th>\n",
              "      <td>228216.0</td>\n",
              "      <td>570.630850</td>\n",
              "      <td>673.142877</td>\n",
              "      <td>0.0</td>\n",
              "      <td>170.00</td>\n",
              "      <td>320.0</td>\n",
              "      <td>610.00</td>\n",
              "      <td>2550.0</td>\n",
              "    </tr>\n",
              "    <tr>\n",
              "      <th>town_surface_area</th>\n",
              "      <td>228216.0</td>\n",
              "      <td>205.036609</td>\n",
              "      <td>163.295454</td>\n",
              "      <td>18.5</td>\n",
              "      <td>82.10</td>\n",
              "      <td>155.1</td>\n",
              "      <td>288.10</td>\n",
              "      <td>745.4</td>\n",
              "    </tr>\n",
              "    <tr>\n",
              "      <th>claim_amount</th>\n",
              "      <td>228216.0</td>\n",
              "      <td>113.093451</td>\n",
              "      <td>581.652385</td>\n",
              "      <td>0.0</td>\n",
              "      <td>0.00</td>\n",
              "      <td>0.0</td>\n",
              "      <td>0.00</td>\n",
              "      <td>50000.0</td>\n",
              "    </tr>\n",
              "  </tbody>\n",
              "</table>\n",
              "</div>"
            ],
            "text/plain": [
              "                           count          mean  ...       75%       max\n",
              "year                    228216.0      2.500000  ...      3.25       4.0\n",
              "pol_no_claims_discount  228216.0      0.044383  ...      0.00       1.0\n",
              "pol_duration            228216.0     12.608651  ...     18.00      44.0\n",
              "pol_sit_duration        228216.0      4.245049  ...      5.00      26.0\n",
              "drv_age1                228216.0     56.339328  ...     67.00     104.0\n",
              "drv_age_lic1            228216.0     34.132366  ...     44.00      80.0\n",
              "drv_age2                 75320.0     48.569888  ...     61.00     102.0\n",
              "drv_age_lic2             75320.0     26.686564  ...     38.00      83.0\n",
              "vh_age                  228212.0     11.139774  ...     15.00      64.0\n",
              "vh_speed                225664.0    170.946434  ...    183.00     251.0\n",
              "vh_value                225664.0  17699.659476  ...  22067.00  101525.0\n",
              "vh_weight               225664.0   1098.728924  ...   1315.00    2554.0\n",
              "population              228216.0    570.630850  ...    610.00    2550.0\n",
              "town_surface_area       228216.0    205.036609  ...    288.10     745.4\n",
              "claim_amount            228216.0    113.093451  ...      0.00   50000.0\n",
              "\n",
              "[15 rows x 8 columns]"
            ]
          },
          "metadata": {
            "tags": []
          },
          "execution_count": 10
        }
      ]
    },
    {
      "cell_type": "code",
      "metadata": {
        "id": "ak7RMFkWOOYr",
        "colab": {
          "base_uri": "https://localhost:8080/",
          "height": 607
        },
        "outputId": "c151f4db-4535-4f6b-a7fb-7e79997accac"
      },
      "source": [
        "df.hist(figsize=(15,10))\n",
        "plt.show()"
      ],
      "execution_count": null,
      "outputs": [
        {
          "output_type": "display_data",
          "data": {
            "image/png": "[encoded data removed]",
            "text/plain": [
              "<Figure size 1080x720 with 16 Axes>"
            ]
          },
          "metadata": {
            "tags": [],
            "needs_background": "light"
          }
        }
      ]
    },
    {
      "cell_type": "markdown",
      "metadata": {
        "id": "KxwhOaZ6aiuA"
      },
      "source": [
        "Посмотрим на типы столбцов и на наличие пропущенных значений."
      ]
    },
    {
      "cell_type": "code",
      "metadata": {
        "id": "_shHgDmH04c8",
        "colab": {
          "base_uri": "https://localhost:8080/"
        },
        "outputId": "fb53c58e-6b99-402f-f6e7-6b1e5d91a087"
      },
      "source": [
        "df.info()"
      ],
      "execution_count": null,
      "outputs": [
        {
          "output_type": "stream",
          "text": [
            "<class 'pandas.core.frame.DataFrame'>\n",
            "RangeIndex: 228216 entries, 0 to 228215\n",
            "Data columns (total 26 columns):\n",
            " #   Column                  Non-Null Count   Dtype  \n",
            "---  ------                  --------------   -----  \n",
            " 0   id_policy               228216 non-null  object \n",
            " 1   year                    228216 non-null  float64\n",
            " 2   pol_no_claims_discount  228216 non-null  float64\n",
            " 3   pol_coverage            228216 non-null  object \n",
            " 4   pol_duration            228216 non-null  int64  \n",
            " 5   pol_sit_duration        228216 non-null  int64  \n",
            " 6   pol_pay_freq            228216 non-null  object \n",
            " 7   pol_payd                228216 non-null  object \n",
            " 8   pol_usage               228216 non-null  object \n",
            " 9   drv_sex1                228216 non-null  object \n",
            " 10  drv_age1                228216 non-null  float64\n",
            " 11  drv_age_lic1            228216 non-null  float64\n",
            " 12  drv_drv2                228216 non-null  object \n",
            " 13  drv_sex2                228216 non-null  object \n",
            " 14  drv_age2                75320 non-null   float64\n",
            " 15  drv_age_lic2            75320 non-null   float64\n",
            " 16  vh_make_model           228216 non-null  object \n",
            " 17  vh_age                  228212 non-null  float64\n",
            " 18  vh_fuel                 228216 non-null  object \n",
            " 19  vh_type                 228216 non-null  object \n",
            " 20  vh_speed                225664 non-null  float64\n",
            " 21  vh_value                225664 non-null  float64\n",
            " 22  vh_weight               225664 non-null  float64\n",
            " 23  population              228216 non-null  float64\n",
            " 24  town_surface_area       228216 non-null  float64\n",
            " 25  claim_amount            228216 non-null  float64\n",
            "dtypes: float64(13), int64(2), object(11)\n",
            "memory usage: 45.3+ MB\n"
          ],
          "name": "stdout"
        }
      ]
    },
    {
      "cell_type": "markdown",
      "metadata": {
        "id": "7aWOlEh0aybD"
      },
      "source": [
        "В следующих ячейках я преобразую категориальные столбцы в числовые методом one hot encoding, чтобы посмотреть статистику по этим данным и построить графики распределений для них."
      ]
    },
    {
      "cell_type": "code",
      "metadata": {
        "id": "F3B1MMj923LB"
      },
      "source": [
        "categorial_columns = ['id_policy',\n",
        "                      'pol_coverage',\n",
        "                      'pol_pay_freq',\n",
        "                      'pol_payd',\n",
        "                      'pol_usage',\n",
        "                      'drv_sex1',\n",
        "                      'drv_drv2',\n",
        "                      'drv_sex2',\n",
        "                      'vh_make_model',\n",
        "                      'vh_fuel',\n",
        "                      'vh_type']"
      ],
      "execution_count": null,
      "outputs": []
    },
    {
      "cell_type": "code",
      "metadata": {
        "colab": {
          "base_uri": "https://localhost:8080/",
          "height": 444
        },
        "id": "A4LzhENktKQl",
        "outputId": "6699409e-0fb5-4969-8a4e-e3c8444a2b12"
      },
      "source": [
        "from sklearn.preprocessing import LabelEncoder\n",
        "Encoded_dataset = df.copy()\n",
        "for column in categorial_columns:\n",
        "    Encoded_dataset[column] = LabelEncoder().fit_transform(Encoded_dataset[column])\n",
        "Encoded_dataset"
      ],
      "execution_count": null,
      "outputs": [
        {
          "output_type": "execute_result",
          "data": {
            "text/html": [
              "<div>\n",
              "<style scoped>\n",
              "    .dataframe tbody tr th:only-of-type {\n",
              "        vertical-align: middle;\n",
              "    }\n",
              "\n",
              "    .dataframe tbody tr th {\n",
              "        vertical-align: top;\n",
              "    }\n",
              "\n",
              "    .dataframe thead th {\n",
              "        text-align: right;\n",
              "    }\n",
              "</style>\n",
              "<table border=\"1\" class=\"dataframe\">\n",
              "  <thead>\n",
              "    <tr style=\"text-align: right;\">\n",
              "      <th></th>\n",
              "      <th>id_policy</th>\n",
              "      <th>year</th>\n",
              "      <th>pol_no_claims_discount</th>\n",
              "      <th>pol_coverage</th>\n",
              "      <th>pol_duration</th>\n",
              "      <th>pol_sit_duration</th>\n",
              "      <th>pol_pay_freq</th>\n",
              "      <th>pol_payd</th>\n",
              "      <th>pol_usage</th>\n",
              "      <th>drv_sex1</th>\n",
              "      <th>drv_age1</th>\n",
              "      <th>drv_age_lic1</th>\n",
              "      <th>drv_drv2</th>\n",
              "      <th>drv_sex2</th>\n",
              "      <th>drv_age2</th>\n",
              "      <th>drv_age_lic2</th>\n",
              "      <th>vh_make_model</th>\n",
              "      <th>vh_age</th>\n",
              "      <th>vh_fuel</th>\n",
              "      <th>vh_type</th>\n",
              "      <th>vh_speed</th>\n",
              "      <th>vh_value</th>\n",
              "      <th>vh_weight</th>\n",
              "      <th>population</th>\n",
              "      <th>town_surface_area</th>\n",
              "      <th>claim_amount</th>\n",
              "    </tr>\n",
              "  </thead>\n",
              "  <tbody>\n",
              "    <tr>\n",
              "      <th>0</th>\n",
              "      <td>0</td>\n",
              "      <td>1.0</td>\n",
              "      <td>0.332</td>\n",
              "      <td>2</td>\n",
              "      <td>5</td>\n",
              "      <td>1</td>\n",
              "      <td>1</td>\n",
              "      <td>0</td>\n",
              "      <td>3</td>\n",
              "      <td>1</td>\n",
              "      <td>35.0</td>\n",
              "      <td>16.0</td>\n",
              "      <td>1</td>\n",
              "      <td>1</td>\n",
              "      <td>26.0</td>\n",
              "      <td>1.0</td>\n",
              "      <td>33</td>\n",
              "      <td>8.0</td>\n",
              "      <td>1</td>\n",
              "      <td>1</td>\n",
              "      <td>174.0</td>\n",
              "      <td>11040.0</td>\n",
              "      <td>1143.0</td>\n",
              "      <td>1270.0</td>\n",
              "      <td>33.1</td>\n",
              "      <td>0.0</td>\n",
              "    </tr>\n",
              "    <tr>\n",
              "      <th>1</th>\n",
              "      <td>25382</td>\n",
              "      <td>1.0</td>\n",
              "      <td>0.000</td>\n",
              "      <td>2</td>\n",
              "      <td>6</td>\n",
              "      <td>1</td>\n",
              "      <td>1</td>\n",
              "      <td>0</td>\n",
              "      <td>3</td>\n",
              "      <td>1</td>\n",
              "      <td>60.0</td>\n",
              "      <td>41.0</td>\n",
              "      <td>0</td>\n",
              "      <td>0</td>\n",
              "      <td>NaN</td>\n",
              "      <td>NaN</td>\n",
              "      <td>33</td>\n",
              "      <td>10.0</td>\n",
              "      <td>0</td>\n",
              "      <td>1</td>\n",
              "      <td>174.0</td>\n",
              "      <td>11040.0</td>\n",
              "      <td>1143.0</td>\n",
              "      <td>1290.0</td>\n",
              "      <td>51.3</td>\n",
              "      <td>0.0</td>\n",
              "    </tr>\n",
              "    <tr>\n",
              "      <th>2</th>\n",
              "      <td>25383</td>\n",
              "      <td>1.0</td>\n",
              "      <td>0.196</td>\n",
              "      <td>1</td>\n",
              "      <td>2</td>\n",
              "      <td>1</td>\n",
              "      <td>3</td>\n",
              "      <td>1</td>\n",
              "      <td>2</td>\n",
              "      <td>1</td>\n",
              "      <td>55.0</td>\n",
              "      <td>35.0</td>\n",
              "      <td>1</td>\n",
              "      <td>1</td>\n",
              "      <td>57.0</td>\n",
              "      <td>38.0</td>\n",
              "      <td>341</td>\n",
              "      <td>8.0</td>\n",
              "      <td>0</td>\n",
              "      <td>0</td>\n",
              "      <td>150.0</td>\n",
              "      <td>14159.0</td>\n",
              "      <td>1193.0</td>\n",
              "      <td>1020.0</td>\n",
              "      <td>262.8</td>\n",
              "      <td>0.0</td>\n",
              "    </tr>\n",
              "    <tr>\n",
              "      <th>3</th>\n",
              "      <td>25384</td>\n",
              "      <td>1.0</td>\n",
              "      <td>0.000</td>\n",
              "      <td>2</td>\n",
              "      <td>8</td>\n",
              "      <td>5</td>\n",
              "      <td>3</td>\n",
              "      <td>0</td>\n",
              "      <td>3</td>\n",
              "      <td>0</td>\n",
              "      <td>54.0</td>\n",
              "      <td>31.0</td>\n",
              "      <td>0</td>\n",
              "      <td>0</td>\n",
              "      <td>NaN</td>\n",
              "      <td>NaN</td>\n",
              "      <td>416</td>\n",
              "      <td>4.0</td>\n",
              "      <td>1</td>\n",
              "      <td>1</td>\n",
              "      <td>149.0</td>\n",
              "      <td>17233.0</td>\n",
              "      <td>1012.0</td>\n",
              "      <td>180.0</td>\n",
              "      <td>219.7</td>\n",
              "      <td>0.0</td>\n",
              "    </tr>\n",
              "    <tr>\n",
              "      <th>4</th>\n",
              "      <td>25385</td>\n",
              "      <td>1.0</td>\n",
              "      <td>0.000</td>\n",
              "      <td>1</td>\n",
              "      <td>2</td>\n",
              "      <td>2</td>\n",
              "      <td>3</td>\n",
              "      <td>0</td>\n",
              "      <td>2</td>\n",
              "      <td>0</td>\n",
              "      <td>65.0</td>\n",
              "      <td>38.0</td>\n",
              "      <td>0</td>\n",
              "      <td>0</td>\n",
              "      <td>NaN</td>\n",
              "      <td>NaN</td>\n",
              "      <td>709</td>\n",
              "      <td>13.0</td>\n",
              "      <td>1</td>\n",
              "      <td>1</td>\n",
              "      <td>200.0</td>\n",
              "      <td>19422.0</td>\n",
              "      <td>1315.0</td>\n",
              "      <td>30.0</td>\n",
              "      <td>70.3</td>\n",
              "      <td>0.0</td>\n",
              "    </tr>\n",
              "    <tr>\n",
              "      <th>...</th>\n",
              "      <td>...</td>\n",
              "      <td>...</td>\n",
              "      <td>...</td>\n",
              "      <td>...</td>\n",
              "      <td>...</td>\n",
              "      <td>...</td>\n",
              "      <td>...</td>\n",
              "      <td>...</td>\n",
              "      <td>...</td>\n",
              "      <td>...</td>\n",
              "      <td>...</td>\n",
              "      <td>...</td>\n",
              "      <td>...</td>\n",
              "      <td>...</td>\n",
              "      <td>...</td>\n",
              "      <td>...</td>\n",
              "      <td>...</td>\n",
              "      <td>...</td>\n",
              "      <td>...</td>\n",
              "      <td>...</td>\n",
              "      <td>...</td>\n",
              "      <td>...</td>\n",
              "      <td>...</td>\n",
              "      <td>...</td>\n",
              "      <td>...</td>\n",
              "      <td>...</td>\n",
              "    </tr>\n",
              "    <tr>\n",
              "      <th>228211</th>\n",
              "      <td>5240</td>\n",
              "      <td>4.0</td>\n",
              "      <td>0.087</td>\n",
              "      <td>2</td>\n",
              "      <td>4</td>\n",
              "      <td>4</td>\n",
              "      <td>1</td>\n",
              "      <td>0</td>\n",
              "      <td>3</td>\n",
              "      <td>0</td>\n",
              "      <td>50.0</td>\n",
              "      <td>28.0</td>\n",
              "      <td>1</td>\n",
              "      <td>1</td>\n",
              "      <td>23.0</td>\n",
              "      <td>5.0</td>\n",
              "      <td>750</td>\n",
              "      <td>15.0</td>\n",
              "      <td>0</td>\n",
              "      <td>1</td>\n",
              "      <td>179.0</td>\n",
              "      <td>16047.0</td>\n",
              "      <td>955.0</td>\n",
              "      <td>1030.0</td>\n",
              "      <td>95.3</td>\n",
              "      <td>0.0</td>\n",
              "    </tr>\n",
              "    <tr>\n",
              "      <th>228212</th>\n",
              "      <td>32820</td>\n",
              "      <td>4.0</td>\n",
              "      <td>0.000</td>\n",
              "      <td>0</td>\n",
              "      <td>14</td>\n",
              "      <td>5</td>\n",
              "      <td>1</td>\n",
              "      <td>0</td>\n",
              "      <td>3</td>\n",
              "      <td>1</td>\n",
              "      <td>40.0</td>\n",
              "      <td>22.0</td>\n",
              "      <td>1</td>\n",
              "      <td>1</td>\n",
              "      <td>34.0</td>\n",
              "      <td>12.0</td>\n",
              "      <td>243</td>\n",
              "      <td>5.0</td>\n",
              "      <td>0</td>\n",
              "      <td>1</td>\n",
              "      <td>139.0</td>\n",
              "      <td>11985.0</td>\n",
              "      <td>1264.0</td>\n",
              "      <td>30.0</td>\n",
              "      <td>89.6</td>\n",
              "      <td>0.0</td>\n",
              "    </tr>\n",
              "    <tr>\n",
              "      <th>228213</th>\n",
              "      <td>36771</td>\n",
              "      <td>4.0</td>\n",
              "      <td>0.181</td>\n",
              "      <td>0</td>\n",
              "      <td>10</td>\n",
              "      <td>4</td>\n",
              "      <td>3</td>\n",
              "      <td>0</td>\n",
              "      <td>2</td>\n",
              "      <td>0</td>\n",
              "      <td>71.0</td>\n",
              "      <td>37.0</td>\n",
              "      <td>0</td>\n",
              "      <td>0</td>\n",
              "      <td>NaN</td>\n",
              "      <td>NaN</td>\n",
              "      <td>693</td>\n",
              "      <td>15.0</td>\n",
              "      <td>1</td>\n",
              "      <td>1</td>\n",
              "      <td>175.0</td>\n",
              "      <td>23900.0</td>\n",
              "      <td>1285.0</td>\n",
              "      <td>290.0</td>\n",
              "      <td>106.1</td>\n",
              "      <td>0.0</td>\n",
              "    </tr>\n",
              "    <tr>\n",
              "      <th>228214</th>\n",
              "      <td>36347</td>\n",
              "      <td>4.0</td>\n",
              "      <td>0.000</td>\n",
              "      <td>0</td>\n",
              "      <td>25</td>\n",
              "      <td>15</td>\n",
              "      <td>0</td>\n",
              "      <td>0</td>\n",
              "      <td>1</td>\n",
              "      <td>1</td>\n",
              "      <td>49.0</td>\n",
              "      <td>31.0</td>\n",
              "      <td>0</td>\n",
              "      <td>0</td>\n",
              "      <td>NaN</td>\n",
              "      <td>NaN</td>\n",
              "      <td>578</td>\n",
              "      <td>31.0</td>\n",
              "      <td>0</td>\n",
              "      <td>1</td>\n",
              "      <td>198.0</td>\n",
              "      <td>20002.0</td>\n",
              "      <td>1320.0</td>\n",
              "      <td>30.0</td>\n",
              "      <td>104.4</td>\n",
              "      <td>0.0</td>\n",
              "    </tr>\n",
              "    <tr>\n",
              "      <th>228215</th>\n",
              "      <td>31125</td>\n",
              "      <td>4.0</td>\n",
              "      <td>0.000</td>\n",
              "      <td>0</td>\n",
              "      <td>7</td>\n",
              "      <td>6</td>\n",
              "      <td>0</td>\n",
              "      <td>0</td>\n",
              "      <td>3</td>\n",
              "      <td>0</td>\n",
              "      <td>63.0</td>\n",
              "      <td>32.0</td>\n",
              "      <td>1</td>\n",
              "      <td>2</td>\n",
              "      <td>55.0</td>\n",
              "      <td>35.0</td>\n",
              "      <td>341</td>\n",
              "      <td>7.0</td>\n",
              "      <td>0</td>\n",
              "      <td>1</td>\n",
              "      <td>150.0</td>\n",
              "      <td>14159.0</td>\n",
              "      <td>1193.0</td>\n",
              "      <td>280.0</td>\n",
              "      <td>147.8</td>\n",
              "      <td>0.0</td>\n",
              "    </tr>\n",
              "  </tbody>\n",
              "</table>\n",
              "<p>228216 rows × 26 columns</p>\n",
              "</div>"
            ],
            "text/plain": [
              "        id_policy  year  ...  town_surface_area  claim_amount\n",
              "0               0   1.0  ...               33.1           0.0\n",
              "1           25382   1.0  ...               51.3           0.0\n",
              "2           25383   1.0  ...              262.8           0.0\n",
              "3           25384   1.0  ...              219.7           0.0\n",
              "4           25385   1.0  ...               70.3           0.0\n",
              "...           ...   ...  ...                ...           ...\n",
              "228211       5240   4.0  ...               95.3           0.0\n",
              "228212      32820   4.0  ...               89.6           0.0\n",
              "228213      36771   4.0  ...              106.1           0.0\n",
              "228214      36347   4.0  ...              104.4           0.0\n",
              "228215      31125   4.0  ...              147.8           0.0\n",
              "\n",
              "[228216 rows x 26 columns]"
            ]
          },
          "metadata": {
            "tags": []
          },
          "execution_count": 14
        }
      ]
    },
    {
      "cell_type": "code",
      "metadata": {
        "colab": {
          "base_uri": "https://localhost:8080/",
          "height": 865
        },
        "id": "4w2ve8FXtzvM",
        "outputId": "bf8d1333-bff9-491e-ebc8-461e8b5aadd9"
      },
      "source": [
        "Encoded_dataset.describe().transpose()"
      ],
      "execution_count": null,
      "outputs": [
        {
          "output_type": "execute_result",
          "data": {
            "text/html": [
              "<div>\n",
              "<style scoped>\n",
              "    .dataframe tbody tr th:only-of-type {\n",
              "        vertical-align: middle;\n",
              "    }\n",
              "\n",
              "    .dataframe tbody tr th {\n",
              "        vertical-align: top;\n",
              "    }\n",
              "\n",
              "    .dataframe thead th {\n",
              "        text-align: right;\n",
              "    }\n",
              "</style>\n",
              "<table border=\"1\" class=\"dataframe\">\n",
              "  <thead>\n",
              "    <tr style=\"text-align: right;\">\n",
              "      <th></th>\n",
              "      <th>count</th>\n",
              "      <th>mean</th>\n",
              "      <th>std</th>\n",
              "      <th>min</th>\n",
              "      <th>25%</th>\n",
              "      <th>50%</th>\n",
              "      <th>75%</th>\n",
              "      <th>max</th>\n",
              "    </tr>\n",
              "  </thead>\n",
              "  <tbody>\n",
              "    <tr>\n",
              "      <th>id_policy</th>\n",
              "      <td>228216.0</td>\n",
              "      <td>28526.500000</td>\n",
              "      <td>16470.107211</td>\n",
              "      <td>0.0</td>\n",
              "      <td>14263.00</td>\n",
              "      <td>28526.5</td>\n",
              "      <td>42790.00</td>\n",
              "      <td>57053.0</td>\n",
              "    </tr>\n",
              "    <tr>\n",
              "      <th>year</th>\n",
              "      <td>228216.0</td>\n",
              "      <td>2.500000</td>\n",
              "      <td>1.118036</td>\n",
              "      <td>1.0</td>\n",
              "      <td>1.75</td>\n",
              "      <td>2.5</td>\n",
              "      <td>3.25</td>\n",
              "      <td>4.0</td>\n",
              "    </tr>\n",
              "    <tr>\n",
              "      <th>pol_no_claims_discount</th>\n",
              "      <td>228216.0</td>\n",
              "      <td>0.044383</td>\n",
              "      <td>0.118354</td>\n",
              "      <td>0.0</td>\n",
              "      <td>0.00</td>\n",
              "      <td>0.0</td>\n",
              "      <td>0.00</td>\n",
              "      <td>1.0</td>\n",
              "    </tr>\n",
              "    <tr>\n",
              "      <th>pol_coverage</th>\n",
              "      <td>228216.0</td>\n",
              "      <td>0.707418</td>\n",
              "      <td>1.039069</td>\n",
              "      <td>0.0</td>\n",
              "      <td>0.00</td>\n",
              "      <td>0.0</td>\n",
              "      <td>2.00</td>\n",
              "      <td>3.0</td>\n",
              "    </tr>\n",
              "    <tr>\n",
              "      <th>pol_duration</th>\n",
              "      <td>228216.0</td>\n",
              "      <td>12.608651</td>\n",
              "      <td>8.638768</td>\n",
              "      <td>1.0</td>\n",
              "      <td>5.00</td>\n",
              "      <td>11.0</td>\n",
              "      <td>18.00</td>\n",
              "      <td>44.0</td>\n",
              "    </tr>\n",
              "    <tr>\n",
              "      <th>pol_sit_duration</th>\n",
              "      <td>228216.0</td>\n",
              "      <td>4.245049</td>\n",
              "      <td>2.622117</td>\n",
              "      <td>1.0</td>\n",
              "      <td>3.00</td>\n",
              "      <td>4.0</td>\n",
              "      <td>5.00</td>\n",
              "      <td>26.0</td>\n",
              "    </tr>\n",
              "    <tr>\n",
              "      <th>pol_pay_freq</th>\n",
              "      <td>228216.0</td>\n",
              "      <td>1.477679</td>\n",
              "      <td>1.256894</td>\n",
              "      <td>0.0</td>\n",
              "      <td>0.00</td>\n",
              "      <td>1.0</td>\n",
              "      <td>3.00</td>\n",
              "      <td>3.0</td>\n",
              "    </tr>\n",
              "    <tr>\n",
              "      <th>pol_payd</th>\n",
              "      <td>228216.0</td>\n",
              "      <td>0.041715</td>\n",
              "      <td>0.199937</td>\n",
              "      <td>0.0</td>\n",
              "      <td>0.00</td>\n",
              "      <td>0.0</td>\n",
              "      <td>0.00</td>\n",
              "      <td>1.0</td>\n",
              "    </tr>\n",
              "    <tr>\n",
              "      <th>pol_usage</th>\n",
              "      <td>228216.0</td>\n",
              "      <td>2.585042</td>\n",
              "      <td>0.623572</td>\n",
              "      <td>0.0</td>\n",
              "      <td>2.00</td>\n",
              "      <td>3.0</td>\n",
              "      <td>3.00</td>\n",
              "      <td>3.0</td>\n",
              "    </tr>\n",
              "    <tr>\n",
              "      <th>drv_sex1</th>\n",
              "      <td>228216.0</td>\n",
              "      <td>0.604112</td>\n",
              "      <td>0.489042</td>\n",
              "      <td>0.0</td>\n",
              "      <td>0.00</td>\n",
              "      <td>1.0</td>\n",
              "      <td>1.00</td>\n",
              "      <td>1.0</td>\n",
              "    </tr>\n",
              "    <tr>\n",
              "      <th>drv_age1</th>\n",
              "      <td>228216.0</td>\n",
              "      <td>56.339328</td>\n",
              "      <td>14.978742</td>\n",
              "      <td>19.0</td>\n",
              "      <td>45.00</td>\n",
              "      <td>56.0</td>\n",
              "      <td>67.00</td>\n",
              "      <td>104.0</td>\n",
              "    </tr>\n",
              "    <tr>\n",
              "      <th>drv_age_lic1</th>\n",
              "      <td>228216.0</td>\n",
              "      <td>34.132366</td>\n",
              "      <td>13.901112</td>\n",
              "      <td>1.0</td>\n",
              "      <td>24.00</td>\n",
              "      <td>34.0</td>\n",
              "      <td>44.00</td>\n",
              "      <td>80.0</td>\n",
              "    </tr>\n",
              "    <tr>\n",
              "      <th>drv_drv2</th>\n",
              "      <td>228216.0</td>\n",
              "      <td>0.330038</td>\n",
              "      <td>0.470228</td>\n",
              "      <td>0.0</td>\n",
              "      <td>0.00</td>\n",
              "      <td>0.0</td>\n",
              "      <td>1.00</td>\n",
              "      <td>1.0</td>\n",
              "    </tr>\n",
              "    <tr>\n",
              "      <th>drv_sex2</th>\n",
              "      <td>228216.0</td>\n",
              "      <td>0.458618</td>\n",
              "      <td>0.710950</td>\n",
              "      <td>0.0</td>\n",
              "      <td>0.00</td>\n",
              "      <td>0.0</td>\n",
              "      <td>1.00</td>\n",
              "      <td>2.0</td>\n",
              "    </tr>\n",
              "    <tr>\n",
              "      <th>drv_age2</th>\n",
              "      <td>75320.0</td>\n",
              "      <td>48.569888</td>\n",
              "      <td>16.338162</td>\n",
              "      <td>18.0</td>\n",
              "      <td>36.00</td>\n",
              "      <td>47.0</td>\n",
              "      <td>61.00</td>\n",
              "      <td>102.0</td>\n",
              "    </tr>\n",
              "    <tr>\n",
              "      <th>drv_age_lic2</th>\n",
              "      <td>75320.0</td>\n",
              "      <td>26.686564</td>\n",
              "      <td>14.943528</td>\n",
              "      <td>1.0</td>\n",
              "      <td>15.00</td>\n",
              "      <td>25.0</td>\n",
              "      <td>38.00</td>\n",
              "      <td>83.0</td>\n",
              "    </tr>\n",
              "    <tr>\n",
              "      <th>vh_make_model</th>\n",
              "      <td>228216.0</td>\n",
              "      <td>503.607810</td>\n",
              "      <td>263.930851</td>\n",
              "      <td>0.0</td>\n",
              "      <td>314.00</td>\n",
              "      <td>508.0</td>\n",
              "      <td>693.00</td>\n",
              "      <td>974.0</td>\n",
              "    </tr>\n",
              "    <tr>\n",
              "      <th>vh_age</th>\n",
              "      <td>228212.0</td>\n",
              "      <td>11.139774</td>\n",
              "      <td>7.135487</td>\n",
              "      <td>1.0</td>\n",
              "      <td>6.00</td>\n",
              "      <td>10.0</td>\n",
              "      <td>15.00</td>\n",
              "      <td>64.0</td>\n",
              "    </tr>\n",
              "    <tr>\n",
              "      <th>vh_fuel</th>\n",
              "      <td>228216.0</td>\n",
              "      <td>0.457812</td>\n",
              "      <td>0.500009</td>\n",
              "      <td>0.0</td>\n",
              "      <td>0.00</td>\n",
              "      <td>0.0</td>\n",
              "      <td>1.00</td>\n",
              "      <td>2.0</td>\n",
              "    </tr>\n",
              "    <tr>\n",
              "      <th>vh_type</th>\n",
              "      <td>228216.0</td>\n",
              "      <td>0.900445</td>\n",
              "      <td>0.299406</td>\n",
              "      <td>0.0</td>\n",
              "      <td>1.00</td>\n",
              "      <td>1.0</td>\n",
              "      <td>1.00</td>\n",
              "      <td>1.0</td>\n",
              "    </tr>\n",
              "    <tr>\n",
              "      <th>vh_speed</th>\n",
              "      <td>225664.0</td>\n",
              "      <td>170.946434</td>\n",
              "      <td>25.550016</td>\n",
              "      <td>95.0</td>\n",
              "      <td>155.00</td>\n",
              "      <td>174.0</td>\n",
              "      <td>183.00</td>\n",
              "      <td>251.0</td>\n",
              "    </tr>\n",
              "    <tr>\n",
              "      <th>vh_value</th>\n",
              "      <td>225664.0</td>\n",
              "      <td>17699.659476</td>\n",
              "      <td>10535.606269</td>\n",
              "      <td>1113.0</td>\n",
              "      <td>11490.00</td>\n",
              "      <td>16321.0</td>\n",
              "      <td>22067.00</td>\n",
              "      <td>101525.0</td>\n",
              "    </tr>\n",
              "    <tr>\n",
              "      <th>vh_weight</th>\n",
              "      <td>225664.0</td>\n",
              "      <td>1098.728924</td>\n",
              "      <td>397.594911</td>\n",
              "      <td>0.0</td>\n",
              "      <td>950.00</td>\n",
              "      <td>1145.0</td>\n",
              "      <td>1315.00</td>\n",
              "      <td>2554.0</td>\n",
              "    </tr>\n",
              "    <tr>\n",
              "      <th>population</th>\n",
              "      <td>228216.0</td>\n",
              "      <td>570.630850</td>\n",
              "      <td>673.142877</td>\n",
              "      <td>0.0</td>\n",
              "      <td>170.00</td>\n",
              "      <td>320.0</td>\n",
              "      <td>610.00</td>\n",
              "      <td>2550.0</td>\n",
              "    </tr>\n",
              "    <tr>\n",
              "      <th>town_surface_area</th>\n",
              "      <td>228216.0</td>\n",
              "      <td>205.036609</td>\n",
              "      <td>163.295454</td>\n",
              "      <td>18.5</td>\n",
              "      <td>82.10</td>\n",
              "      <td>155.1</td>\n",
              "      <td>288.10</td>\n",
              "      <td>745.4</td>\n",
              "    </tr>\n",
              "    <tr>\n",
              "      <th>claim_amount</th>\n",
              "      <td>228216.0</td>\n",
              "      <td>113.093451</td>\n",
              "      <td>581.652385</td>\n",
              "      <td>0.0</td>\n",
              "      <td>0.00</td>\n",
              "      <td>0.0</td>\n",
              "      <td>0.00</td>\n",
              "      <td>50000.0</td>\n",
              "    </tr>\n",
              "  </tbody>\n",
              "</table>\n",
              "</div>"
            ],
            "text/plain": [
              "                           count          mean  ...       75%       max\n",
              "id_policy               228216.0  28526.500000  ...  42790.00   57053.0\n",
              "year                    228216.0      2.500000  ...      3.25       4.0\n",
              "pol_no_claims_discount  228216.0      0.044383  ...      0.00       1.0\n",
              "pol_coverage            228216.0      0.707418  ...      2.00       3.0\n",
              "pol_duration            228216.0     12.608651  ...     18.00      44.0\n",
              "pol_sit_duration        228216.0      4.245049  ...      5.00      26.0\n",
              "pol_pay_freq            228216.0      1.477679  ...      3.00       3.0\n",
              "pol_payd                228216.0      0.041715  ...      0.00       1.0\n",
              "pol_usage               228216.0      2.585042  ...      3.00       3.0\n",
              "drv_sex1                228216.0      0.604112  ...      1.00       1.0\n",
              "drv_age1                228216.0     56.339328  ...     67.00     104.0\n",
              "drv_age_lic1            228216.0     34.132366  ...     44.00      80.0\n",
              "drv_drv2                228216.0      0.330038  ...      1.00       1.0\n",
              "drv_sex2                228216.0      0.458618  ...      1.00       2.0\n",
              "drv_age2                 75320.0     48.569888  ...     61.00     102.0\n",
              "drv_age_lic2             75320.0     26.686564  ...     38.00      83.0\n",
              "vh_make_model           228216.0    503.607810  ...    693.00     974.0\n",
              "vh_age                  228212.0     11.139774  ...     15.00      64.0\n",
              "vh_fuel                 228216.0      0.457812  ...      1.00       2.0\n",
              "vh_type                 228216.0      0.900445  ...      1.00       1.0\n",
              "vh_speed                225664.0    170.946434  ...    183.00     251.0\n",
              "vh_value                225664.0  17699.659476  ...  22067.00  101525.0\n",
              "vh_weight               225664.0   1098.728924  ...   1315.00    2554.0\n",
              "population              228216.0    570.630850  ...    610.00    2550.0\n",
              "town_surface_area       228216.0    205.036609  ...    288.10     745.4\n",
              "claim_amount            228216.0    113.093451  ...      0.00   50000.0\n",
              "\n",
              "[26 rows x 8 columns]"
            ]
          },
          "metadata": {
            "tags": []
          },
          "execution_count": 15
        }
      ]
    },
    {
      "cell_type": "code",
      "metadata": {
        "colab": {
          "base_uri": "https://localhost:8080/",
          "height": 879
        },
        "id": "Le08sjlqTpeP",
        "outputId": "8cc20265-f275-4731-a843-a9941272c2cd"
      },
      "source": [
        "Encoded_dataset.hist(figsize=(20,15))\n",
        "plt.show()"
      ],
      "execution_count": null,
      "outputs": [
        {
          "output_type": "display_data",
          "data": {
            "image/png": "[encoded data removed]",
            "text/plain": [
              "<Figure size 1440x1080 with 30 Axes>"
            ]
          },
          "metadata": {
            "tags": [],
            "needs_background": "light"
          }
        }
      ]
    },
    {
      "cell_type": "markdown",
      "metadata": {
        "id": "-LnkhT9dbbXm"
      },
      "source": [
        "Видно, что целевая переменная - claim amount - сильно несбалансирована. Какие-то признаки имеют нормальное распределение, какие-то плохо сбалансированы.\n",
        "Столбцы drv_age2 и drv_age_lic2 имеют много пропущенных значений, посмотрим на значения связанного с ними столбца drv_drv2"
      ]
    },
    {
      "cell_type": "code",
      "metadata": {
        "id": "KMfS1epLxUq6",
        "colab": {
          "base_uri": "https://localhost:8080/"
        },
        "outputId": "23bc05c6-654d-4753-cb9f-893a93fa0998"
      },
      "source": [
        "df.drv_drv2.value_counts()"
      ],
      "execution_count": null,
      "outputs": [
        {
          "output_type": "execute_result",
          "data": {
            "text/plain": [
              "No     152896\n",
              "Yes     75320\n",
              "Name: drv_drv2, dtype: int64"
            ]
          },
          "metadata": {
            "tags": []
          },
          "execution_count": 17
        }
      ]
    },
    {
      "cell_type": "markdown",
      "metadata": {
        "id": "pvjT7V84eFQl"
      },
      "source": [
        "Видно, что количество значений \"Yes\" в этом столбце соответствует количеству значений в вышеупомянутых столбцах с пропусками. Соответственно, количество пропусков будет соответствовать значеням \"No\".\n",
        "drv_drv2 - наличие второго водителя. Age2 и age_lic2 - его возраст и стаж вождения соответственно. Соответствие пропусков имеет логику. Но почему столбец drv_sex2 (пол второго водителя) не имеет пропусков?"
      ]
    },
    {
      "cell_type": "code",
      "metadata": {
        "id": "J1hgTiCZyMeO",
        "colab": {
          "base_uri": "https://localhost:8080/"
        },
        "outputId": "021bd5bb-8f56-49a3-f8f6-2e07a9134900"
      },
      "source": [
        "df.drv_sex2.value_counts()"
      ],
      "execution_count": null,
      "outputs": [
        {
          "output_type": "execute_result",
          "data": {
            "text/plain": [
              "0    152896\n",
              "F     45976\n",
              "M     29344\n",
              "Name: drv_sex2, dtype: int64"
            ]
          },
          "metadata": {
            "tags": []
          },
          "execution_count": 18
        }
      ]
    },
    {
      "cell_type": "markdown",
      "metadata": {
        "id": "uKtUy_m0feuH"
      },
      "source": [
        "Видим, что в датасете все эти пропуски предварительно заполнены нулями. Для наглядности нарисуем график наличия пропусков."
      ]
    },
    {
      "cell_type": "code",
      "metadata": {
        "id": "q0sV0tTYoQKk",
        "colab": {
          "base_uri": "https://localhost:8080/",
          "height": 715
        },
        "outputId": "83db431b-7855-492f-ebd2-d00c9eaacef7"
      },
      "source": [
        "plt.figure(figsize=(15,10))\n",
        "plt.title('Missing values')\n",
        "sns.heatmap(df.isna())\n",
        "plt.show()"
      ],
      "execution_count": null,
      "outputs": [
        {
          "output_type": "display_data",
          "data": {
            "image/png": "[encoded data removed]",
            "text/plain": [
              "<Figure size 1080x720 with 2 Axes>"
            ]
          },
          "metadata": {
            "tags": [],
            "needs_background": "light"
          }
        }
      ]
    },
    {
      "cell_type": "markdown",
      "metadata": {
        "id": "LQ4TsVcmf2Xz"
      },
      "source": [
        "Помимо указанных столбцов с большим количеством пропусков есть также незначительное количество пропусков в других столбцах. Мы с ними расправимся в разделе предобработки данных.\n",
        "Пока посмотрим на корреляционную карту в нашем датасете.\n"
      ]
    },
    {
      "cell_type": "code",
      "metadata": {
        "colab": {
          "base_uri": "https://localhost:8080/",
          "height": 824
        },
        "id": "wI0drN17akd8",
        "outputId": "7925ff65-500f-444c-9f7d-5a66c72437b0"
      },
      "source": [
        "plt.figure(figsize=(15,12))\n",
        "plt.title('Correlation heatmap')\n",
        "sns.heatmap(Encoded_dataset.corr())\n",
        "plt.show()"
      ],
      "execution_count": null,
      "outputs": [
        {
          "output_type": "display_data",
          "data": {
            "image/png": "[encoded data removed]",
            "text/plain": [
              "<Figure size 1080x864 with 2 Axes>"
            ]
          },
          "metadata": {
            "tags": [],
            "needs_background": "light"
          }
        }
      ]
    },
    {
      "cell_type": "markdown",
      "metadata": {
        "id": "jyQXligJgS4V"
      },
      "source": [
        "Столбцы с пропусками сильно коррелируют между собой и столбцами drv_drv2 и drv_sex2. В таком случае их лучше удалить."
      ]
    },
    {
      "cell_type": "markdown",
      "metadata": {
        "id": "ynDfq7F_d9Yh"
      },
      "source": [
        "# Training the model 🚀\n",
        "\n",
        "You must first define your first function: `fit_model`. This function takes training data as arguments, and outputs a \"model\" object -- that you define as you wish. For instance, this could be an array of parameter values."
      ]
    },
    {
      "cell_type": "markdown",
      "metadata": {
        "id": "CpW0yH_Lj2hG"
      },
      "source": [
        "## Define your data preprocessing\n",
        "\n",
        "<a name=\"data-preprocessing\"></a>\n",
        "\n",
        "You can add any class or function in this cell for preprocessing. Just make sure that you use the functions here in the `fit_model`, `predict_expected_claim` and `predict_premium` functions if necessary. *italicised text*"
      ]
    },
    {
      "cell_type": "markdown",
      "metadata": {
        "id": "Vjq_MSICiwoD"
      },
      "source": [
        "Здесь у меня добавлены функции для предобработки данных. В качестве предобработки я решил избавиться от ненужных столбцов и удалить пропуски, а также перевести категориальные признаки в числовые с помощью LabelEncoder."
      ]
    },
    {
      "cell_type": "code",
      "metadata": {
        "id": "buq4-7IIjsUq"
      },
      "source": [
        "%%aicrowd_include\n",
        "# This magical command saves all code in this cell to a utils module.\n",
        "\n",
        "# include your preprocessing functions and classes here. \n",
        "\n",
        "def delete_na(raw_X, raw_y):\n",
        "    Cleaned_X = raw_X.copy()\n",
        "    Cleaned_X = Cleaned_X.drop(columns = ['drv_age2', 'drv_age_lic2'])\n",
        "    Cleaned_X = Cleaned_X.dropna()\n",
        "    shortened_y = raw_y[Cleaned_X.index]\n",
        "    return Cleaned_X, shortened_y\n",
        "\n",
        "def encode_categorical(raw_X):\n",
        "    from sklearn.preprocessing import LabelEncoder\n",
        "    categorial_columns = ['id_policy',\n",
        "                          'pol_coverage',\n",
        "                          'pol_pay_freq',\n",
        "                          'pol_payd',\n",
        "                          'pol_usage',\n",
        "                          'drv_sex1',\n",
        "                          'drv_drv2',\n",
        "                          'drv_sex2',\n",
        "                          'vh_make_model',\n",
        "                          'vh_fuel',\n",
        "                          'vh_type']\n",
        "    for column in categorial_columns:\n",
        "        raw_X[column] = LabelEncoder().fit_transform(raw_X[column])\n",
        "    return raw_X"
      ],
      "execution_count": null,
      "outputs": []
    },
    {
      "cell_type": "code",
      "metadata": {
        "id": "CtL2L7SgFg0c"
      },
      "source": [
        "import importlib\n",
        "import utils\n",
        "importlib.reload(utils)\n",
        "from utils import *  # do not change this"
      ],
      "execution_count": null,
      "outputs": []
    },
    {
      "cell_type": "markdown",
      "metadata": {
        "id": "NAaNQuVxRTUs"
      },
      "source": [
        "## Define the training logic"
      ]
    },
    {
      "cell_type": "markdown",
      "metadata": {
        "id": "DTxvRrinjSqp"
      },
      "source": [
        "В этой функции я инициализировал модель с нужными мне параметрами, а также добавил функции предобработки данных, таким образом, могу подавать в эту функцию \"сырые\" данные. "
      ]
    },
    {
      "cell_type": "code",
      "metadata": {
        "id": "ffOanSIvd9Yh"
      },
      "source": [
        "def fit_model(X_raw, y_raw):\n",
        "    \"\"\"Model training function: given training data (X_raw, y_raw), train this pricing model.\n",
        "\n",
        "    Parameters\n",
        "    ----------\n",
        "    X_raw : Pandas dataframe, with the columns described in the data dictionary.\n",
        "        Each row is a different contract. This data has not been processed.\n",
        "    y_raw : a Numpy array, with the value of the claims, in the same order as contracts in X_raw.\n",
        "        A one dimensional array, with values either 0 (most entries) or >0.\n",
        "\n",
        "    Returns\n",
        "    -------\n",
        "    self: this instance of the fitted model. This can be anything, as long as it is compatible\n",
        "        with your prediction methods.\n",
        "\n",
        "    \"\"\"\n",
        "\n",
        "    # TODO: train your model here.\n",
        "    # Don't forget any preprocessing of the raw data here\n",
        "    \n",
        "    Cleaned_X, fitted_y = delete_na(X_raw, y_raw)\n",
        "    Encoded_X = encode_categorical(Cleaned_X)\n",
        "   \n",
        "    model = catboost.CatBoostRegressor(iterations = 40, learning_rate = 0.25)\n",
        "    model.fit(Encoded_X, fitted_y)\n",
        "    return model"
      ],
      "execution_count": null,
      "outputs": []
    },
    {
      "cell_type": "markdown",
      "metadata": {
        "id": "CfjGFHcXd9Yh"
      },
      "source": [
        "## Train your model"
      ]
    },
    {
      "cell_type": "markdown",
      "metadata": {
        "id": "hIvPfwS5j5DB"
      },
      "source": [
        "Следующая ячейка мне необходима для валидации модели и проверки её показателей на имеющихся данных (реальная тестовая часть в соревновании мне недоступна)."
      ]
    },
    {
      "cell_type": "code",
      "metadata": {
        "colab": {
          "base_uri": "https://localhost:8080/"
        },
        "id": "85ym8JggfRiU",
        "outputId": "66284ba8-0b22-4f62-80a8-d255cf4a9bcc"
      },
      "source": [
        "\n",
        "from sklearn import metrics\n",
        "from sklearn.model_selection import train_test_split\n",
        "train_X, test_X, train_y, test_y = train_test_split(X_train, y_train)\n",
        "testing_model = fit_model(train_X, train_y)\n",
        "test_X, test_y = delete_na(test_X, test_y)\n",
        "test_X = encode_categorical(test_X)\n",
        "test_preds = testing_model.predict(test_X)\n",
        "print('Показатель метрики RMSE: ', sklearn.metrics.mean_squared_error(test_y, test_preds, squared=False))\n",
        "print('Показатель метрики MAE: ',sklearn.metrics.mean_absolute_error(test_y, test_preds))\n"
      ],
      "execution_count": null,
      "outputs": [
        {
          "output_type": "stream",
          "text": [
            "0:\tlearn: 588.0048640\ttotal: 38.1ms\tremaining: 1.49s\n",
            "1:\tlearn: 586.9885304\ttotal: 74.6ms\tremaining: 1.42s\n",
            "2:\tlearn: 586.3324024\ttotal: 113ms\tremaining: 1.4s\n",
            "3:\tlearn: 585.8913653\ttotal: 143ms\tremaining: 1.29s\n",
            "4:\tlearn: 585.6021771\ttotal: 176ms\tremaining: 1.23s\n",
            "5:\tlearn: 585.3660876\ttotal: 206ms\tremaining: 1.17s\n",
            "6:\tlearn: 584.7512258\ttotal: 238ms\tremaining: 1.12s\n",
            "7:\tlearn: 584.4623046\ttotal: 272ms\tremaining: 1.09s\n",
            "8:\tlearn: 584.3357246\ttotal: 307ms\tremaining: 1.06s\n",
            "9:\tlearn: 583.8804487\ttotal: 336ms\tremaining: 1.01s\n",
            "10:\tlearn: 583.7363749\ttotal: 367ms\tremaining: 969ms\n",
            "11:\tlearn: 583.6742681\ttotal: 398ms\tremaining: 928ms\n",
            "12:\tlearn: 582.4969721\ttotal: 427ms\tremaining: 886ms\n",
            "13:\tlearn: 581.9056061\ttotal: 459ms\tremaining: 853ms\n",
            "14:\tlearn: 581.8342800\ttotal: 493ms\tremaining: 822ms\n",
            "15:\tlearn: 580.2759806\ttotal: 525ms\tremaining: 787ms\n",
            "16:\tlearn: 580.1573359\ttotal: 552ms\tremaining: 747ms\n",
            "17:\tlearn: 580.0037710\ttotal: 583ms\tremaining: 712ms\n",
            "18:\tlearn: 579.9079218\ttotal: 611ms\tremaining: 675ms\n",
            "19:\tlearn: 579.7960924\ttotal: 640ms\tremaining: 640ms\n",
            "20:\tlearn: 579.7413558\ttotal: 673ms\tremaining: 609ms\n",
            "21:\tlearn: 579.6924818\ttotal: 707ms\tremaining: 579ms\n",
            "22:\tlearn: 579.5430600\ttotal: 738ms\tremaining: 546ms\n",
            "23:\tlearn: 578.3524506\ttotal: 768ms\tremaining: 512ms\n",
            "24:\tlearn: 577.6527570\ttotal: 809ms\tremaining: 485ms\n",
            "25:\tlearn: 577.2894633\ttotal: 842ms\tremaining: 454ms\n",
            "26:\tlearn: 576.8690073\ttotal: 881ms\tremaining: 424ms\n",
            "27:\tlearn: 576.7711429\ttotal: 909ms\tremaining: 390ms\n",
            "28:\tlearn: 576.6365455\ttotal: 943ms\tremaining: 358ms\n",
            "29:\tlearn: 575.2388071\ttotal: 977ms\tremaining: 326ms\n",
            "30:\tlearn: 575.1952584\ttotal: 1.01s\tremaining: 292ms\n",
            "31:\tlearn: 574.4616850\ttotal: 1.04s\tremaining: 259ms\n",
            "32:\tlearn: 574.3835656\ttotal: 1.07s\tremaining: 227ms\n",
            "33:\tlearn: 572.8149974\ttotal: 1.11s\tremaining: 196ms\n",
            "34:\tlearn: 572.7711315\ttotal: 1.14s\tremaining: 163ms\n",
            "35:\tlearn: 572.4929371\ttotal: 1.17s\tremaining: 130ms\n",
            "36:\tlearn: 572.3820501\ttotal: 1.19s\tremaining: 96.8ms\n",
            "37:\tlearn: 571.9595138\ttotal: 1.22s\tremaining: 64.4ms\n",
            "38:\tlearn: 571.8445932\ttotal: 1.25s\tremaining: 32.1ms\n",
            "39:\tlearn: 571.5321811\ttotal: 1.28s\tremaining: 0us\n",
            "Показатель метрики RMSE:  565.0152648115279\n",
            "Показатель метрики MAE:  200.4290460052875\n"
          ],
          "name": "stdout"
        }
      ]
    },
    {
      "cell_type": "markdown",
      "metadata": {
        "id": "MJxftsSLkecc"
      },
      "source": [
        "Здесь я проверяю важность признаков для обучения модели. Они значительно менялись при изменении параметров модели."
      ]
    },
    {
      "cell_type": "code",
      "metadata": {
        "colab": {
          "base_uri": "https://localhost:8080/",
          "height": 771
        },
        "id": "Zfp3T9oWreQ8",
        "outputId": "b1c7728d-07c6-4f83-f99a-a04cbc545d6a"
      },
      "source": [
        "testing_model.get_feature_importance(prettified=True)"
      ],
      "execution_count": null,
      "outputs": [
        {
          "output_type": "execute_result",
          "data": {
            "text/html": [
              "<div>\n",
              "<style scoped>\n",
              "    .dataframe tbody tr th:only-of-type {\n",
              "        vertical-align: middle;\n",
              "    }\n",
              "\n",
              "    .dataframe tbody tr th {\n",
              "        vertical-align: top;\n",
              "    }\n",
              "\n",
              "    .dataframe thead th {\n",
              "        text-align: right;\n",
              "    }\n",
              "</style>\n",
              "<table border=\"1\" class=\"dataframe\">\n",
              "  <thead>\n",
              "    <tr style=\"text-align: right;\">\n",
              "      <th></th>\n",
              "      <th>Feature Id</th>\n",
              "      <th>Importances</th>\n",
              "    </tr>\n",
              "  </thead>\n",
              "  <tbody>\n",
              "    <tr>\n",
              "      <th>0</th>\n",
              "      <td>town_surface_area</td>\n",
              "      <td>11.017798</td>\n",
              "    </tr>\n",
              "    <tr>\n",
              "      <th>1</th>\n",
              "      <td>vh_age</td>\n",
              "      <td>10.909734</td>\n",
              "    </tr>\n",
              "    <tr>\n",
              "      <th>2</th>\n",
              "      <td>vh_make_model</td>\n",
              "      <td>10.372078</td>\n",
              "    </tr>\n",
              "    <tr>\n",
              "      <th>3</th>\n",
              "      <td>drv_age1</td>\n",
              "      <td>7.922037</td>\n",
              "    </tr>\n",
              "    <tr>\n",
              "      <th>4</th>\n",
              "      <td>id_policy</td>\n",
              "      <td>6.874892</td>\n",
              "    </tr>\n",
              "    <tr>\n",
              "      <th>5</th>\n",
              "      <td>vh_value</td>\n",
              "      <td>6.580443</td>\n",
              "    </tr>\n",
              "    <tr>\n",
              "      <th>6</th>\n",
              "      <td>pol_no_claims_discount</td>\n",
              "      <td>5.753852</td>\n",
              "    </tr>\n",
              "    <tr>\n",
              "      <th>7</th>\n",
              "      <td>population</td>\n",
              "      <td>5.685327</td>\n",
              "    </tr>\n",
              "    <tr>\n",
              "      <th>8</th>\n",
              "      <td>drv_age_lic1</td>\n",
              "      <td>4.696914</td>\n",
              "    </tr>\n",
              "    <tr>\n",
              "      <th>9</th>\n",
              "      <td>pol_coverage</td>\n",
              "      <td>4.566442</td>\n",
              "    </tr>\n",
              "    <tr>\n",
              "      <th>10</th>\n",
              "      <td>pol_duration</td>\n",
              "      <td>4.346126</td>\n",
              "    </tr>\n",
              "    <tr>\n",
              "      <th>11</th>\n",
              "      <td>pol_sit_duration</td>\n",
              "      <td>4.015394</td>\n",
              "    </tr>\n",
              "    <tr>\n",
              "      <th>12</th>\n",
              "      <td>year</td>\n",
              "      <td>2.974933</td>\n",
              "    </tr>\n",
              "    <tr>\n",
              "      <th>13</th>\n",
              "      <td>pol_pay_freq</td>\n",
              "      <td>2.825133</td>\n",
              "    </tr>\n",
              "    <tr>\n",
              "      <th>14</th>\n",
              "      <td>pol_usage</td>\n",
              "      <td>2.519418</td>\n",
              "    </tr>\n",
              "    <tr>\n",
              "      <th>15</th>\n",
              "      <td>vh_speed</td>\n",
              "      <td>2.422310</td>\n",
              "    </tr>\n",
              "    <tr>\n",
              "      <th>16</th>\n",
              "      <td>vh_weight</td>\n",
              "      <td>2.270415</td>\n",
              "    </tr>\n",
              "    <tr>\n",
              "      <th>17</th>\n",
              "      <td>drv_sex1</td>\n",
              "      <td>2.249170</td>\n",
              "    </tr>\n",
              "    <tr>\n",
              "      <th>18</th>\n",
              "      <td>vh_fuel</td>\n",
              "      <td>1.493943</td>\n",
              "    </tr>\n",
              "    <tr>\n",
              "      <th>19</th>\n",
              "      <td>drv_sex2</td>\n",
              "      <td>0.276635</td>\n",
              "    </tr>\n",
              "    <tr>\n",
              "      <th>20</th>\n",
              "      <td>pol_payd</td>\n",
              "      <td>0.198748</td>\n",
              "    </tr>\n",
              "    <tr>\n",
              "      <th>21</th>\n",
              "      <td>vh_type</td>\n",
              "      <td>0.028259</td>\n",
              "    </tr>\n",
              "    <tr>\n",
              "      <th>22</th>\n",
              "      <td>drv_drv2</td>\n",
              "      <td>0.000000</td>\n",
              "    </tr>\n",
              "  </tbody>\n",
              "</table>\n",
              "</div>"
            ],
            "text/plain": [
              "                Feature Id  Importances\n",
              "0        town_surface_area    11.017798\n",
              "1                   vh_age    10.909734\n",
              "2            vh_make_model    10.372078\n",
              "3                 drv_age1     7.922037\n",
              "4                id_policy     6.874892\n",
              "5                 vh_value     6.580443\n",
              "6   pol_no_claims_discount     5.753852\n",
              "7               population     5.685327\n",
              "8             drv_age_lic1     4.696914\n",
              "9             pol_coverage     4.566442\n",
              "10            pol_duration     4.346126\n",
              "11        pol_sit_duration     4.015394\n",
              "12                    year     2.974933\n",
              "13            pol_pay_freq     2.825133\n",
              "14               pol_usage     2.519418\n",
              "15                vh_speed     2.422310\n",
              "16               vh_weight     2.270415\n",
              "17                drv_sex1     2.249170\n",
              "18                 vh_fuel     1.493943\n",
              "19                drv_sex2     0.276635\n",
              "20                pol_payd     0.198748\n",
              "21                 vh_type     0.028259\n",
              "22                drv_drv2     0.000000"
            ]
          },
          "metadata": {
            "tags": []
          },
          "execution_count": 38
        }
      ]
    },
    {
      "cell_type": "markdown",
      "metadata": {
        "id": "69qq2LGrl3_7"
      },
      "source": [
        "В следующей ячейке я перебирал различные параметры для итоговой модели. Это был очень долгий процесс, который повторялся несколько раз с различными вариациями параметров. Стоить отметить, что количество итераций последних моделей значительно ниже значения по умолчанию, скорость обучения несколько выше."
      ]
    },
    {
      "cell_type": "code",
      "metadata": {
        "id": "FRLthNQL9-Dh"
      },
      "source": [
        "'''\n",
        "Kitty = catboost.CatBoostRegressor(iterations = 30,)\n",
        "Kitty_search = Kitty.grid_search(param_grid={'learning_rate': np.linspace(0.01,0.45,45)}, \n",
        "                                 X=X_train, \n",
        "                                 y=y_train,\n",
        "                                 plot = True)\n",
        "Kitty_search\n",
        "'''"
      ],
      "execution_count": null,
      "outputs": []
    },
    {
      "cell_type": "markdown",
      "metadata": {
        "id": "tx3M3rUenJHo"
      },
      "source": [
        "Ниже я вызываю функцию для обучения модели."
      ]
    },
    {
      "cell_type": "code",
      "metadata": {
        "id": "0wtCLn_Xd9Yi",
        "colab": {
          "base_uri": "https://localhost:8080/"
        },
        "outputId": "cad1fb3b-5036-422f-cb83-c037d383b768"
      },
      "source": [
        "trained_model = fit_model(X_train, y_train)"
      ],
      "execution_count": null,
      "outputs": [
        {
          "output_type": "stream",
          "text": [
            "0:\tlearn: 582.6754057\ttotal: 99.1ms\tremaining: 3.86s\n",
            "1:\tlearn: 581.8598362\ttotal: 145ms\tremaining: 2.75s\n",
            "2:\tlearn: 581.2648741\ttotal: 186ms\tremaining: 2.3s\n",
            "3:\tlearn: 580.3270103\ttotal: 226ms\tremaining: 2.04s\n",
            "4:\tlearn: 580.0967463\ttotal: 268ms\tremaining: 1.88s\n",
            "5:\tlearn: 579.5191638\ttotal: 315ms\tremaining: 1.78s\n",
            "6:\tlearn: 579.3261440\ttotal: 356ms\tremaining: 1.68s\n",
            "7:\tlearn: 579.2156365\ttotal: 394ms\tremaining: 1.58s\n",
            "8:\tlearn: 579.1073317\ttotal: 433ms\tremaining: 1.49s\n",
            "9:\tlearn: 579.0017168\ttotal: 474ms\tremaining: 1.42s\n",
            "10:\tlearn: 578.9221080\ttotal: 512ms\tremaining: 1.35s\n",
            "11:\tlearn: 578.7772057\ttotal: 558ms\tremaining: 1.3s\n",
            "12:\tlearn: 578.6899024\ttotal: 602ms\tremaining: 1.25s\n",
            "13:\tlearn: 578.5725854\ttotal: 648ms\tremaining: 1.2s\n",
            "14:\tlearn: 578.4653563\ttotal: 694ms\tremaining: 1.16s\n",
            "15:\tlearn: 578.4013657\ttotal: 739ms\tremaining: 1.11s\n",
            "16:\tlearn: 578.3415146\ttotal: 787ms\tremaining: 1.06s\n",
            "17:\tlearn: 577.6999517\ttotal: 823ms\tremaining: 1.01s\n",
            "18:\tlearn: 577.6346987\ttotal: 864ms\tremaining: 955ms\n",
            "19:\tlearn: 577.5742230\ttotal: 904ms\tremaining: 904ms\n",
            "20:\tlearn: 577.4866443\ttotal: 944ms\tremaining: 854ms\n",
            "21:\tlearn: 577.4557479\ttotal: 983ms\tremaining: 804ms\n",
            "22:\tlearn: 577.2363136\ttotal: 1.03s\tremaining: 763ms\n",
            "23:\tlearn: 576.0609286\ttotal: 1.07s\tremaining: 715ms\n",
            "24:\tlearn: 576.0196474\ttotal: 1.11s\tremaining: 668ms\n",
            "25:\tlearn: 575.9122538\ttotal: 1.15s\tremaining: 621ms\n",
            "26:\tlearn: 575.8330253\ttotal: 1.19s\tremaining: 572ms\n",
            "27:\tlearn: 575.5037036\ttotal: 1.23s\tremaining: 525ms\n",
            "28:\tlearn: 574.9677268\ttotal: 1.27s\tremaining: 482ms\n",
            "29:\tlearn: 574.9070296\ttotal: 1.31s\tremaining: 436ms\n",
            "30:\tlearn: 574.8786094\ttotal: 1.34s\tremaining: 390ms\n",
            "31:\tlearn: 574.8417435\ttotal: 1.38s\tremaining: 345ms\n",
            "32:\tlearn: 574.1383712\ttotal: 1.43s\tremaining: 303ms\n",
            "33:\tlearn: 574.0870465\ttotal: 1.47s\tremaining: 259ms\n",
            "34:\tlearn: 573.8185891\ttotal: 1.52s\tremaining: 217ms\n",
            "35:\tlearn: 573.4590462\ttotal: 1.55s\tremaining: 172ms\n",
            "36:\tlearn: 573.3866149\ttotal: 1.59s\tremaining: 129ms\n",
            "37:\tlearn: 573.1759317\ttotal: 1.63s\tremaining: 85.7ms\n",
            "38:\tlearn: 573.1158675\ttotal: 1.69s\tremaining: 43.3ms\n",
            "39:\tlearn: 573.0622204\ttotal: 1.74s\tremaining: 0us\n"
          ],
          "name": "stdout"
        }
      ]
    },
    {
      "cell_type": "markdown",
      "metadata": {
        "id": "NjUk7tfjd9Yi"
      },
      "source": [
        "**Important note**: your training code should be able to run in under 10 minutes (since this notebook is re-run entirely on the server side). \n",
        "\n",
        "If you run into an issue here we recommend using the *zip file submission* (see the [challenge page](https://www.aicrowd.com/challenges/insurance-pricing-game/#how-to%20submit)). In short, you can simply do this by copy-pasting your `fit_model`, `predict_expected_claim` and `predict_premium` functions to the `model.py` file.\n",
        "\n",
        "Note that if you want to perform extensive cross-validation/hyper-parameter selection, it is better to do them offline, in a separate notebook."
      ]
    },
    {
      "cell_type": "markdown",
      "metadata": {
        "id": "LWYcr_Ued9Yi"
      },
      "source": [
        "## Saving your model\n",
        "\n",
        "You can save your model to a file here, so you don't need to retrain it every time."
      ]
    },
    {
      "cell_type": "code",
      "metadata": {
        "id": "O6iWwkmHd9Yi"
      },
      "source": [
        "def save_model(model_path):  # some models such xgboost models or keras models don't pickle very reliably. Please use the package provided saving functions instead. \n",
        "  with open(model_path, 'wb') as target_file:\n",
        "      pickle.dump(trained_model, target_file)"
      ],
      "execution_count": null,
      "outputs": []
    },
    {
      "cell_type": "code",
      "metadata": {
        "id": "zwEEP95EMow4"
      },
      "source": [
        "save_model(Config.MODEL_OUTPUT_PATH)"
      ],
      "execution_count": null,
      "outputs": []
    },
    {
      "cell_type": "markdown",
      "metadata": {
        "id": "9G3KPnlsd9Yi"
      },
      "source": [
        "If you need to load it from file, you can use this code:"
      ]
    },
    {
      "cell_type": "code",
      "metadata": {
        "id": "ICY88PT5d9Yi"
      },
      "source": [
        "def load_model(model_path): # some models such xgboost models or keras models don't pickle very reliably. Please use the package provided saving functions instead. \n",
        "  with open(model_path, 'rb') as target:\n",
        "      return pickle.load(target)"
      ],
      "execution_count": null,
      "outputs": []
    },
    {
      "cell_type": "code",
      "metadata": {
        "id": "dxTX1TYOMsWK"
      },
      "source": [
        "trained_model = load_model(Config.MODEL_OUTPUT_PATH)"
      ],
      "execution_count": null,
      "outputs": []
    },
    {
      "cell_type": "markdown",
      "metadata": {
        "id": "tVeJiR1Ud9Yi"
      },
      "source": [
        "# Predicting the claims 💵\n",
        "\n",
        "The second function, `predict_expected_claim`, takes your trained model and a dataframe of contracts, and outputs a prediction for the (expected) claim incurred by each contract. This expected claim can be seen as the probability of an accident multiplied by the cost of that accident.\n",
        "\n",
        "This is the function used to compute the _RMSE_ leaderboard, where the model best able to predict claims wins."
      ]
    },
    {
      "cell_type": "code",
      "metadata": {
        "id": "rgM1xNf0d9Yi"
      },
      "source": [
        "def predict_expected_claim(model, X_raw):\n",
        "    \"\"\"Model prediction function: predicts the expected claim based on the pricing model.\n",
        "\n",
        "    This functions estimates the expected claim made by a contract (typically, as the product\n",
        "    of the probability of having a claim multiplied by the expected cost of a claim if it occurs),\n",
        "    for each contract in the dataset X_raw.\n",
        "\n",
        "    This is the function used in the RMSE leaderboard, and hence the output should be as close\n",
        "    as possible to the expected cost of a contract.\n",
        "\n",
        "    Parameters\n",
        "    ----------\n",
        "    model: a Python object that describes your model. This can be anything, as long\n",
        "        as it is consistent with what `fit` outpurs.\n",
        "    X_raw : Pandas dataframe, with the columns described in the data dictionary.\n",
        "        Each row is a different contract. This data has not been processed.\n",
        "\n",
        "    Returns\n",
        "    -------\n",
        "    avg_claims: a one-dimensional Numpy array of the same length as X_raw, with one\n",
        "        expected claim per contract (in same order). These expected claims must be POSITIVE (>0).\n",
        "    \"\"\"\n",
        "\n",
        "    # TODO: estimate the expected claim of every contract.\n",
        "    # Don't forget any preprocessing of the raw data here\n",
        "\n",
        "    encoded_X = encode_categorical(X_raw)\n",
        "\n",
        "    predictions = model.predict(encoded_X)\n",
        "    return predictions"
      ],
      "execution_count": null,
      "outputs": []
    },
    {
      "cell_type": "markdown",
      "metadata": {
        "id": "FN7RqHcld9Yi"
      },
      "source": [
        "To test your function, run it on your training data:"
      ]
    },
    {
      "cell_type": "code",
      "metadata": {
        "id": "P7Pu1UE-d9Yi",
        "colab": {
          "base_uri": "https://localhost:8080/"
        },
        "outputId": "1757bfb7-c174-4de0-f7d7-dc96fa0944a3"
      },
      "source": [
        "predict_expected_claim(trained_model, X_train)"
      ],
      "execution_count": null,
      "outputs": [
        {
          "output_type": "execute_result",
          "data": {
            "text/plain": [
              "array([121.95538482,  75.484131  ,  98.57413975, ..., 168.32001396,\n",
              "        93.95178955, 137.45903624])"
            ]
          },
          "metadata": {
            "tags": []
          },
          "execution_count": 32
        }
      ]
    },
    {
      "cell_type": "markdown",
      "metadata": {
        "id": "2LuitAiQd9Yi"
      },
      "source": [
        "# Pricing contracts 💰💰\n",
        "\n",
        "The third and final function, `predict_premium`, takes your trained model and a dataframe of contracts, and outputs a _price_ for each of these contracts. **You are free to set this prices however you want!** These prices will then be used in competition with other models: contracts will choose the model offering the lowest price, and this model will have to pay the cost if an accident occurs.\n",
        "\n",
        "This is the function used to compute the _profit_ leaderboard: your model will participate in many markets of size 10, populated by other participants' model, and we compute the average profit of your model over all the markets it participated in."
      ]
    },
    {
      "cell_type": "code",
      "metadata": {
        "id": "agmv13hnd9Yi"
      },
      "source": [
        "def predict_premium(model, X_raw):\n",
        "    \"\"\"Model prediction function: predicts premiums based on the pricing model.\n",
        "\n",
        "    This function outputs the prices that will be offered to the contracts in X_raw.\n",
        "    premium will typically depend on the average claim predicted in \n",
        "    predict_average_claim, and will add some pricing strategy on top.\n",
        "\n",
        "    This is the function used in the average profit leaderboard. Prices output here will\n",
        "    be used in competition with other models, so feel free to use a pricing strategy.\n",
        "\n",
        "    Parameters\n",
        "    ----------\n",
        "    model: a Python object that describes your model. This can be anything, as long\n",
        "        as it is consistent with what `fit` outpurs.\n",
        "    X_raw : Pandas dataframe, with the columns described in the data dictionary.\n",
        "        Each row is a different contract. This data has not been processed.\n",
        "\n",
        "    Returns\n",
        "    -------\n",
        "    prices: a one-dimensional Numpy array of the same length as X_raw, with one\n",
        "        price per contract (in same order). These prices must be POSITIVE (>0).\n",
        "    \"\"\"\n",
        "\n",
        "    # TODO: return a price for everyone.\n",
        "    # Don't forget any preprocessing of the raw data here\n",
        "\n",
        "    encoded_X = encode_categorical(X_raw)\n",
        "\n",
        "    Claims = predict_expected_claim(model,encoded_X)\n",
        "    Claims[Claims < 1] = 1 \n",
        "    return Claims * 1.05"
      ],
      "execution_count": null,
      "outputs": []
    },
    {
      "cell_type": "markdown",
      "metadata": {
        "id": "tu7T3lQ_d9Yi"
      },
      "source": [
        "To test your function, run it on your training data."
      ]
    },
    {
      "cell_type": "code",
      "metadata": {
        "id": "P2Ej-1zcd9Yi"
      },
      "source": [
        "prices = predict_premium(trained_model, X_train)"
      ],
      "execution_count": null,
      "outputs": []
    },
    {
      "cell_type": "markdown",
      "metadata": {
        "id": "vcU5hWPHd9Yi"
      },
      "source": [
        "#### Profit on training data\n",
        "\n",
        "In order for your model to be considered in the profit competition, it needs to make nonnegative profit over its training set. You can check that your model satisfies this condition below:"
      ]
    },
    {
      "cell_type": "code",
      "metadata": {
        "id": "hf389fhYd9Yi",
        "colab": {
          "base_uri": "https://localhost:8080/"
        },
        "outputId": "d6d070a3-594f-46b0-e3e4-f1b3a7c571a3"
      },
      "source": [
        "print('Income:', prices.sum())\n",
        "print('Losses:', y_train.sum())\n",
        "\n",
        "if prices.sum() < y_train.sum():\n",
        "    print('Your model loses money on the training data! It does not satisfy market rule 1: Non-negative training profit.')\n",
        "    print('This model will be disqualified from the weekly profit leaderboard, but can be submitted for educational purposes to the RMSE leaderboard.')\n",
        "else:\n",
        "    print('Your model passes the non-negative training profit test!')"
      ],
      "execution_count": null,
      "outputs": [
        {
          "output_type": "stream",
          "text": [
            "Income: 27492402.692738637\n",
            "Losses: 25809734.920000006\n",
            "Your model passes the non-negative training profit test!\n"
          ],
          "name": "stdout"
        }
      ]
    },
    {
      "cell_type": "markdown",
      "metadata": {
        "id": "AQlsVqDqd9Yi"
      },
      "source": [
        "# Ready? Submit to AIcrowd 🚀\n",
        "\n",
        "If you are satisfied with your code, run the code below to send your code to the AICrowd servers for evaluation! This requires the variable `trained_model` to be defined by your previous code.\n",
        "\n",
        "**Make sure you have included all packages needed to run your code in the [_\"Packages\"_](#packages) section.**\n",
        "\n",
        "**NOTE**: If you submit the baseline RMSE model without any change whatsoever, your model will not be entered into the market. "
      ]
    },
    {
      "cell_type": "code",
      "metadata": {
        "id": "ovm0PyTEd9Yi",
        "colab": {
          "base_uri": "https://localhost:8080/"
        },
        "outputId": "b0bfede9-9bfa-4760-ad9a-8b34d03424f5"
      },
      "source": [
        "%aicrowd_submit"
      ],
      "execution_count": null,
      "outputs": [
        {
          "output_type": "stream",
          "text": [
            "🚀 Preparing to submit...\n",
            "⚙️ Collecting the submission code...\n",
            "💾 Preparing the submission zip file...\n",
            "adding: predict_expected_claim.py (deflated 52%)\n",
            "adding: save_model.py (deflated 37%)\n",
            "adding: config.json (deflated 8%)\n",
            "adding: fit_model.py (deflated 48%)\n",
            "adding: predict.py (deflated 52%)\n",
            "adding: global_imports.py (deflated 38%)\n",
            "adding: requirements.txt (deflated 4%)\n",
            "adding: predict_premium.py (deflated 52%)\n",
            "adding: utils.py (deflated 60%)\n",
            "adding: model.pkl (deflated 47%)\n",
            "adding: load_model.py (deflated 35%)\n",
            "Verifying API Key...\n",
            "API Key valid\n",
            "Saved API Key successfully!\n",
            "╭─────────────────────────╮\n",
            "│ Successfully submitted! │\n",
            "╰─────────────────────────╯\n",
            "Important links\n",
            "┌──────────────────┬───────────────────────────────────────────────────────────────────────────────────────────┐\n",
            "│  This submission │ https://www.aicrowd.com/challenges/insurance-pricing-game/submissions/120984              │\n",
            "│                  │                                                                                           │\n",
            "│  All submissions │ https://www.aicrowd.com/challenges/insurance-pricing-game/submissions?my_submissions=true │\n",
            "│                  │                                                                                           │\n",
            "│      Leaderboard │ https://www.aicrowd.com/challenges/insurance-pricing-game/leaderboards                    │\n",
            "│                  │                                                                                           │\n",
            "│ Discussion forum │ https://discourse.aicrowd.com/c/insurance-pricing-game                                    │\n",
            "│                  │                                                                                           │\n",
            "│   Challenge page │ https://www.aicrowd.com/challenges/insurance-pricing-game                                 │\n",
            "└──────────────────┴───────────────────────────────────────────────────────────────────────────────────────────┘\n"
          ],
          "name": "stdout"
        }
      ]
    }
  ]
}