{
  "nbformat": 4,
  "nbformat_minor": 0,
  "metadata": {
    "colab": {
      "name": "Большое_ДЗ_1.ipynb",
      "provenance": [],
      "collapsed_sections": [],
      "include_colab_link": true
    },
    "kernelspec": {
      "name": "python3",
      "display_name": "Python 3"
    }
  },
  "cells": [
    {
      "cell_type": "markdown",
      "metadata": {
        "id": "view-in-github",
        "colab_type": "text"
      },
      "source": [
        "<a href=\"https://colab.research.google.com/github/PonchaCape/DS-school-homework/blob/main/%D0%91%D0%BE%D0%BB%D1%8C%D1%88%D0%BE%D0%B5_%D0%94%D0%97_1.ipynb\" target=\"_parent\"><img src=\"https://colab.research.google.com/assets/colab-badge.svg\" alt=\"Open In Colab\"/></a>"
      ]
    },
    {
      "cell_type": "markdown",
      "metadata": {
        "id": "JmblmG7LLIWl"
      },
      "source": [
        "<h2 style=\"text-align: center;\"><b>Домашнее задание. Предобработка данных. Кластеризация при помощи kNN.\n",
        "</b></h2>\n",
        "\n",
        "Ссылка на дз в колаб: \n",
        "https://colab.research.google.com/drive/1bxkOBIWNySWmfTzCxwkYLE6lvu--anwh?usp=sharing\n",
        "\n",
        "В этом домашнем задании нам нужно закрепить базовые понятия машинного обучения и научиться работать с простейшим метрическим алгоритмом кластеризации - kNN.\n",
        "\n",
        "**Правила:**\n",
        "\n",
        "- **Мягкий дедлайн:** 15 января 23:59. При отправке решения до этого момента вы можете исправить найденные ошибки без штрафа до жёсткого дедлайна.\n",
        "- **Жёсткий дедлайн:** 22 января 23:59. Решения, отправленные позже, проверяться не будут, кроме случаев наличия уважительной причины.\n",
        "\n",
        "\n",
        "Решения, размещенные на каких-либо интернет-ресурсах, не принимаются.\n",
        "Для выполнения задания используйте этот ноутбук в качестве основы, ничего не удаляя из него. Пропущенные описания принимаемых аргументов дописать на русском. \n",
        "\n",
        "**ОБЯЗАТЕЛЬНО!**\n",
        "При написании кода придерживайтесь `pep8` и используйте `type hints`.\n",
        "\n",
        "\n",
        "**После жесткого дедлайна задания не принимаются.**"
      ]
    },
    {
      "cell_type": "markdown",
      "metadata": {
        "id": "Vfwl19gBLIUH"
      },
      "source": [
        "## Предсказание оттока телеком компании"
      ]
    },
    {
      "cell_type": "markdown",
      "metadata": {
        "id": "zzuwnvz6LIY4"
      },
      "source": [
        "#### Что такое \"скорость оттока\"?\n",
        "\n",
        "Коэффициент оттока - это процент подписчиков на услугу, которые прекращают свою подписку на услугу в течение заданного периода времени. Для того чтобы компания могла расширить свою клиентуру, ее темпы роста, измеряемые числом новых клиентов, должны превышать темпы оттока. Этот показатель обычно выражается в процентах."
      ]
    },
    {
      "cell_type": "markdown",
      "metadata": {
        "id": "xGQIRZDALIbT"
      },
      "source": [
        "#### Почему отток так важен?\n",
        "\n",
        "Отток клиентов - это термин, используемый в компаний с подписочной моделью ведения бизнеса, для описания потери клиентов. Например, если 10 из 100 подписчиков интернет-провайдера (ISP) отменили свои подписки, скорость оттока для этого провайдера составит 10%.\n",
        "\n",
        "Отток важен, потому что он напрямую влияет на прибыльность вашего сервиса. Принято считать, что прибыльность услуги напрямую связана с ростом ее клиентской базы. Это может привести владельцев бизнеса к выводу, что для того, чтобы увеличить свою клиентскую базу, скорость приобретения новых клиентов должна превышать скорость оттока."
      ]
    },
    {
      "cell_type": "markdown",
      "metadata": {
        "id": "uBE-CE01LIdr"
      },
      "source": [
        "#### Что из себя представляет датасет?\n",
        "\n",
        "Датасет представляет из себя 3333 записи из истории компании о клиентах с 20 колонками. Каждая колонка описывает клиента - его штат проживания, время использования услуги, номер, перечень подписок, время разговора, прочее."
      ]
    },
    {
      "cell_type": "markdown",
      "metadata": {
        "id": "sH_zBlcELIgF"
      },
      "source": [
        "#### В чем состоит ваше задание?\n",
        "\n",
        "Ниже будет представлен конвейер (pipeline) обработки датасета с комментариями. На основе комментариев и результатов уже выполненых ячеек вам нужно будет восстановить код (на основе материалов занятий) по загрузке, обработке и построении модели наших данных. Желательно придерживаться в обработке результатов, которые вы уже увидите в ячейках."
      ]
    },
    {
      "cell_type": "markdown",
      "metadata": {
        "id": "zgQBiSeHLIiU"
      },
      "source": [
        "------\n",
        "\n",
        "## Загрузка данных\n",
        "\n",
        "Загрузка данных может зависить от среды, где вы работаете. \n",
        "\n",
        "Если это гугл колаб - вам необходимо выполнить следующие комманды:\n",
        "\n",
        "В первой вам необходимо перейти по ссылке, авторизироваться со своим аккаунтом, скопировать код из окна и вставить в поле выполнения ячейки."
      ]
    },
    {
      "cell_type": "markdown",
      "metadata": {
        "id": "sjqior08MTAq"
      },
      "source": [
        "Загружаем все необходимые библиотеки"
      ]
    },
    {
      "cell_type": "code",
      "metadata": {
        "id": "_oEKlPQ3MKmo"
      },
      "source": [
        "import pandas as pd\n",
        "import numpy as np\n",
        "import matplotlib.pyplot as plt\n",
        "import seaborn as sns\n",
        "import sklearn"
      ],
      "execution_count": 32,
      "outputs": []
    },
    {
      "cell_type": "markdown",
      "metadata": {
        "id": "dY8V2o78MY80"
      },
      "source": [
        "Открываем склонированную папку"
      ]
    },
    {
      "cell_type": "code",
      "metadata": {
        "id": "_y1OKScqLbEg"
      },
      "source": [
        "df = pd.read_csv('https://raw.githubusercontent.com/tixonsit/Sberbank_materials/master/telecom_churn.csv')"
      ],
      "execution_count": 33,
      "outputs": []
    },
    {
      "cell_type": "markdown",
      "metadata": {
        "id": "83DjKz7cMkhI"
      },
      "source": [
        "Отображаем данные"
      ]
    },
    {
      "cell_type": "code",
      "metadata": {
        "id": "cUmSqnqsMBCL",
        "colab": {
          "base_uri": "https://localhost:8080/",
          "height": 241
        },
        "outputId": "106b7727-f15a-459e-db9a-95a1f3bae0e8"
      },
      "source": [
        "df.head()"
      ],
      "execution_count": 34,
      "outputs": [
        {
          "output_type": "execute_result",
          "data": {
            "text/html": [
              "<div>\n",
              "<style scoped>\n",
              "    .dataframe tbody tr th:only-of-type {\n",
              "        vertical-align: middle;\n",
              "    }\n",
              "\n",
              "    .dataframe tbody tr th {\n",
              "        vertical-align: top;\n",
              "    }\n",
              "\n",
              "    .dataframe thead th {\n",
              "        text-align: right;\n",
              "    }\n",
              "</style>\n",
              "<table border=\"1\" class=\"dataframe\">\n",
              "  <thead>\n",
              "    <tr style=\"text-align: right;\">\n",
              "      <th></th>\n",
              "      <th>state</th>\n",
              "      <th>account length</th>\n",
              "      <th>area code</th>\n",
              "      <th>phone number</th>\n",
              "      <th>international plan</th>\n",
              "      <th>voice mail plan</th>\n",
              "      <th>number vmail messages</th>\n",
              "      <th>total day minutes</th>\n",
              "      <th>total day calls</th>\n",
              "      <th>total day charge</th>\n",
              "      <th>total eve minutes</th>\n",
              "      <th>total eve calls</th>\n",
              "      <th>total eve charge</th>\n",
              "      <th>total night minutes</th>\n",
              "      <th>total night calls</th>\n",
              "      <th>total night charge</th>\n",
              "      <th>total intl minutes</th>\n",
              "      <th>total intl calls</th>\n",
              "      <th>total intl charge</th>\n",
              "      <th>customer service calls</th>\n",
              "      <th>churn</th>\n",
              "    </tr>\n",
              "  </thead>\n",
              "  <tbody>\n",
              "    <tr>\n",
              "      <th>0</th>\n",
              "      <td>KS</td>\n",
              "      <td>128</td>\n",
              "      <td>415</td>\n",
              "      <td>382-4657</td>\n",
              "      <td>no</td>\n",
              "      <td>yes</td>\n",
              "      <td>25</td>\n",
              "      <td>265.1</td>\n",
              "      <td>110</td>\n",
              "      <td>45.07</td>\n",
              "      <td>197.4</td>\n",
              "      <td>99</td>\n",
              "      <td>16.78</td>\n",
              "      <td>244.7</td>\n",
              "      <td>91</td>\n",
              "      <td>11.01</td>\n",
              "      <td>10.0</td>\n",
              "      <td>3</td>\n",
              "      <td>2.70</td>\n",
              "      <td>1</td>\n",
              "      <td>False</td>\n",
              "    </tr>\n",
              "    <tr>\n",
              "      <th>1</th>\n",
              "      <td>OH</td>\n",
              "      <td>107</td>\n",
              "      <td>415</td>\n",
              "      <td>371-7191</td>\n",
              "      <td>no</td>\n",
              "      <td>yes</td>\n",
              "      <td>26</td>\n",
              "      <td>161.6</td>\n",
              "      <td>123</td>\n",
              "      <td>27.47</td>\n",
              "      <td>195.5</td>\n",
              "      <td>103</td>\n",
              "      <td>16.62</td>\n",
              "      <td>254.4</td>\n",
              "      <td>103</td>\n",
              "      <td>11.45</td>\n",
              "      <td>13.7</td>\n",
              "      <td>3</td>\n",
              "      <td>3.70</td>\n",
              "      <td>1</td>\n",
              "      <td>False</td>\n",
              "    </tr>\n",
              "    <tr>\n",
              "      <th>2</th>\n",
              "      <td>NJ</td>\n",
              "      <td>137</td>\n",
              "      <td>415</td>\n",
              "      <td>358-1921</td>\n",
              "      <td>no</td>\n",
              "      <td>no</td>\n",
              "      <td>0</td>\n",
              "      <td>243.4</td>\n",
              "      <td>114</td>\n",
              "      <td>41.38</td>\n",
              "      <td>121.2</td>\n",
              "      <td>110</td>\n",
              "      <td>10.30</td>\n",
              "      <td>162.6</td>\n",
              "      <td>104</td>\n",
              "      <td>7.32</td>\n",
              "      <td>12.2</td>\n",
              "      <td>5</td>\n",
              "      <td>3.29</td>\n",
              "      <td>0</td>\n",
              "      <td>False</td>\n",
              "    </tr>\n",
              "    <tr>\n",
              "      <th>3</th>\n",
              "      <td>OH</td>\n",
              "      <td>84</td>\n",
              "      <td>408</td>\n",
              "      <td>375-9999</td>\n",
              "      <td>yes</td>\n",
              "      <td>no</td>\n",
              "      <td>0</td>\n",
              "      <td>299.4</td>\n",
              "      <td>71</td>\n",
              "      <td>50.90</td>\n",
              "      <td>61.9</td>\n",
              "      <td>88</td>\n",
              "      <td>5.26</td>\n",
              "      <td>196.9</td>\n",
              "      <td>89</td>\n",
              "      <td>8.86</td>\n",
              "      <td>6.6</td>\n",
              "      <td>7</td>\n",
              "      <td>1.78</td>\n",
              "      <td>2</td>\n",
              "      <td>False</td>\n",
              "    </tr>\n",
              "    <tr>\n",
              "      <th>4</th>\n",
              "      <td>OK</td>\n",
              "      <td>75</td>\n",
              "      <td>415</td>\n",
              "      <td>330-6626</td>\n",
              "      <td>yes</td>\n",
              "      <td>no</td>\n",
              "      <td>0</td>\n",
              "      <td>166.7</td>\n",
              "      <td>113</td>\n",
              "      <td>28.34</td>\n",
              "      <td>148.3</td>\n",
              "      <td>122</td>\n",
              "      <td>12.61</td>\n",
              "      <td>186.9</td>\n",
              "      <td>121</td>\n",
              "      <td>8.41</td>\n",
              "      <td>10.1</td>\n",
              "      <td>3</td>\n",
              "      <td>2.73</td>\n",
              "      <td>3</td>\n",
              "      <td>False</td>\n",
              "    </tr>\n",
              "  </tbody>\n",
              "</table>\n",
              "</div>"
            ],
            "text/plain": [
              "  state  account length  ...  customer service calls  churn\n",
              "0    KS             128  ...                       1  False\n",
              "1    OH             107  ...                       1  False\n",
              "2    NJ             137  ...                       0  False\n",
              "3    OH              84  ...                       2  False\n",
              "4    OK              75  ...                       3  False\n",
              "\n",
              "[5 rows x 21 columns]"
            ]
          },
          "metadata": {
            "tags": []
          },
          "execution_count": 34
        }
      ]
    },
    {
      "cell_type": "markdown",
      "metadata": {
        "id": "WwR8Kt8zMpdy"
      },
      "source": [
        "В случае, если вы работаете из среды анаконда - вам необходимо положить файл рядом с ноутбуком и выполнить:\n",
        "\n",
        "```\n",
        "df = pd.read_csv('./telecom_churn.csv')\n",
        "```\n",
        "\n",
        " "
      ]
    },
    {
      "cell_type": "markdown",
      "metadata": {
        "id": "OoLBh9biNFX3"
      },
      "source": [
        "## Работа с признаками"
      ]
    },
    {
      "cell_type": "markdown",
      "metadata": {
        "id": "KsnMxQ_JVfKi"
      },
      "source": [
        "#### Визуальный анализ"
      ]
    },
    {
      "cell_type": "markdown",
      "metadata": {
        "id": "fJWb61hmNNm8"
      },
      "source": [
        "Изучим наши данные, какие признаки исходного датасета никак не повлияют на результат прогноза? Выбросим такие столбцы и отобразим результат."
      ]
    },
    {
      "cell_type": "code",
      "metadata": {
        "id": "ejcapc6EMCD-",
        "colab": {
          "base_uri": "https://localhost:8080/",
          "height": 241
        },
        "outputId": "2ea4d5e6-b584-45d5-a692-0bcc174c64e1"
      },
      "source": [
        "df = df.drop(columns=[\"phone number\"])\n",
        "df.head()"
      ],
      "execution_count": 35,
      "outputs": [
        {
          "output_type": "execute_result",
          "data": {
            "text/html": [
              "<div>\n",
              "<style scoped>\n",
              "    .dataframe tbody tr th:only-of-type {\n",
              "        vertical-align: middle;\n",
              "    }\n",
              "\n",
              "    .dataframe tbody tr th {\n",
              "        vertical-align: top;\n",
              "    }\n",
              "\n",
              "    .dataframe thead th {\n",
              "        text-align: right;\n",
              "    }\n",
              "</style>\n",
              "<table border=\"1\" class=\"dataframe\">\n",
              "  <thead>\n",
              "    <tr style=\"text-align: right;\">\n",
              "      <th></th>\n",
              "      <th>state</th>\n",
              "      <th>account length</th>\n",
              "      <th>area code</th>\n",
              "      <th>international plan</th>\n",
              "      <th>voice mail plan</th>\n",
              "      <th>number vmail messages</th>\n",
              "      <th>total day minutes</th>\n",
              "      <th>total day calls</th>\n",
              "      <th>total day charge</th>\n",
              "      <th>total eve minutes</th>\n",
              "      <th>total eve calls</th>\n",
              "      <th>total eve charge</th>\n",
              "      <th>total night minutes</th>\n",
              "      <th>total night calls</th>\n",
              "      <th>total night charge</th>\n",
              "      <th>total intl minutes</th>\n",
              "      <th>total intl calls</th>\n",
              "      <th>total intl charge</th>\n",
              "      <th>customer service calls</th>\n",
              "      <th>churn</th>\n",
              "    </tr>\n",
              "  </thead>\n",
              "  <tbody>\n",
              "    <tr>\n",
              "      <th>0</th>\n",
              "      <td>KS</td>\n",
              "      <td>128</td>\n",
              "      <td>415</td>\n",
              "      <td>no</td>\n",
              "      <td>yes</td>\n",
              "      <td>25</td>\n",
              "      <td>265.1</td>\n",
              "      <td>110</td>\n",
              "      <td>45.07</td>\n",
              "      <td>197.4</td>\n",
              "      <td>99</td>\n",
              "      <td>16.78</td>\n",
              "      <td>244.7</td>\n",
              "      <td>91</td>\n",
              "      <td>11.01</td>\n",
              "      <td>10.0</td>\n",
              "      <td>3</td>\n",
              "      <td>2.70</td>\n",
              "      <td>1</td>\n",
              "      <td>False</td>\n",
              "    </tr>\n",
              "    <tr>\n",
              "      <th>1</th>\n",
              "      <td>OH</td>\n",
              "      <td>107</td>\n",
              "      <td>415</td>\n",
              "      <td>no</td>\n",
              "      <td>yes</td>\n",
              "      <td>26</td>\n",
              "      <td>161.6</td>\n",
              "      <td>123</td>\n",
              "      <td>27.47</td>\n",
              "      <td>195.5</td>\n",
              "      <td>103</td>\n",
              "      <td>16.62</td>\n",
              "      <td>254.4</td>\n",
              "      <td>103</td>\n",
              "      <td>11.45</td>\n",
              "      <td>13.7</td>\n",
              "      <td>3</td>\n",
              "      <td>3.70</td>\n",
              "      <td>1</td>\n",
              "      <td>False</td>\n",
              "    </tr>\n",
              "    <tr>\n",
              "      <th>2</th>\n",
              "      <td>NJ</td>\n",
              "      <td>137</td>\n",
              "      <td>415</td>\n",
              "      <td>no</td>\n",
              "      <td>no</td>\n",
              "      <td>0</td>\n",
              "      <td>243.4</td>\n",
              "      <td>114</td>\n",
              "      <td>41.38</td>\n",
              "      <td>121.2</td>\n",
              "      <td>110</td>\n",
              "      <td>10.30</td>\n",
              "      <td>162.6</td>\n",
              "      <td>104</td>\n",
              "      <td>7.32</td>\n",
              "      <td>12.2</td>\n",
              "      <td>5</td>\n",
              "      <td>3.29</td>\n",
              "      <td>0</td>\n",
              "      <td>False</td>\n",
              "    </tr>\n",
              "    <tr>\n",
              "      <th>3</th>\n",
              "      <td>OH</td>\n",
              "      <td>84</td>\n",
              "      <td>408</td>\n",
              "      <td>yes</td>\n",
              "      <td>no</td>\n",
              "      <td>0</td>\n",
              "      <td>299.4</td>\n",
              "      <td>71</td>\n",
              "      <td>50.90</td>\n",
              "      <td>61.9</td>\n",
              "      <td>88</td>\n",
              "      <td>5.26</td>\n",
              "      <td>196.9</td>\n",
              "      <td>89</td>\n",
              "      <td>8.86</td>\n",
              "      <td>6.6</td>\n",
              "      <td>7</td>\n",
              "      <td>1.78</td>\n",
              "      <td>2</td>\n",
              "      <td>False</td>\n",
              "    </tr>\n",
              "    <tr>\n",
              "      <th>4</th>\n",
              "      <td>OK</td>\n",
              "      <td>75</td>\n",
              "      <td>415</td>\n",
              "      <td>yes</td>\n",
              "      <td>no</td>\n",
              "      <td>0</td>\n",
              "      <td>166.7</td>\n",
              "      <td>113</td>\n",
              "      <td>28.34</td>\n",
              "      <td>148.3</td>\n",
              "      <td>122</td>\n",
              "      <td>12.61</td>\n",
              "      <td>186.9</td>\n",
              "      <td>121</td>\n",
              "      <td>8.41</td>\n",
              "      <td>10.1</td>\n",
              "      <td>3</td>\n",
              "      <td>2.73</td>\n",
              "      <td>3</td>\n",
              "      <td>False</td>\n",
              "    </tr>\n",
              "  </tbody>\n",
              "</table>\n",
              "</div>"
            ],
            "text/plain": [
              "  state  account length  ...  customer service calls  churn\n",
              "0    KS             128  ...                       1  False\n",
              "1    OH             107  ...                       1  False\n",
              "2    NJ             137  ...                       0  False\n",
              "3    OH              84  ...                       2  False\n",
              "4    OK              75  ...                       3  False\n",
              "\n",
              "[5 rows x 20 columns]"
            ]
          },
          "metadata": {
            "tags": []
          },
          "execution_count": 35
        }
      ]
    },
    {
      "cell_type": "markdown",
      "metadata": {
        "id": "j4HurSGIOwnC"
      },
      "source": [
        "Посмотрим на описательную статистику, которая суммирует центральную тенденцию, дисперсию и форму распределения набора данных. Корректно ли все заполнено?"
      ]
    },
    {
      "cell_type": "code",
      "metadata": {
        "id": "fJ_tT6qrNnzX",
        "colab": {
          "base_uri": "https://localhost:8080/",
          "height": 318
        },
        "outputId": "eadaf2ee-3264-459b-f175-1f1fe3cf1a7e"
      },
      "source": [
        "df.describe()"
      ],
      "execution_count": 36,
      "outputs": [
        {
          "output_type": "execute_result",
          "data": {
            "text/html": [
              "<div>\n",
              "<style scoped>\n",
              "    .dataframe tbody tr th:only-of-type {\n",
              "        vertical-align: middle;\n",
              "    }\n",
              "\n",
              "    .dataframe tbody tr th {\n",
              "        vertical-align: top;\n",
              "    }\n",
              "\n",
              "    .dataframe thead th {\n",
              "        text-align: right;\n",
              "    }\n",
              "</style>\n",
              "<table border=\"1\" class=\"dataframe\">\n",
              "  <thead>\n",
              "    <tr style=\"text-align: right;\">\n",
              "      <th></th>\n",
              "      <th>account length</th>\n",
              "      <th>area code</th>\n",
              "      <th>number vmail messages</th>\n",
              "      <th>total day minutes</th>\n",
              "      <th>total day calls</th>\n",
              "      <th>total day charge</th>\n",
              "      <th>total eve minutes</th>\n",
              "      <th>total eve calls</th>\n",
              "      <th>total eve charge</th>\n",
              "      <th>total night minutes</th>\n",
              "      <th>total night calls</th>\n",
              "      <th>total night charge</th>\n",
              "      <th>total intl minutes</th>\n",
              "      <th>total intl calls</th>\n",
              "      <th>total intl charge</th>\n",
              "      <th>customer service calls</th>\n",
              "    </tr>\n",
              "  </thead>\n",
              "  <tbody>\n",
              "    <tr>\n",
              "      <th>count</th>\n",
              "      <td>3333.000000</td>\n",
              "      <td>3333.000000</td>\n",
              "      <td>3333.000000</td>\n",
              "      <td>3333.000000</td>\n",
              "      <td>3333.000000</td>\n",
              "      <td>3333.000000</td>\n",
              "      <td>3333.000000</td>\n",
              "      <td>3333.000000</td>\n",
              "      <td>3333.000000</td>\n",
              "      <td>3333.000000</td>\n",
              "      <td>3333.000000</td>\n",
              "      <td>3333.000000</td>\n",
              "      <td>3333.000000</td>\n",
              "      <td>3333.000000</td>\n",
              "      <td>3333.000000</td>\n",
              "      <td>3333.000000</td>\n",
              "    </tr>\n",
              "    <tr>\n",
              "      <th>mean</th>\n",
              "      <td>101.064806</td>\n",
              "      <td>437.182418</td>\n",
              "      <td>8.099010</td>\n",
              "      <td>179.775098</td>\n",
              "      <td>100.435644</td>\n",
              "      <td>30.562307</td>\n",
              "      <td>200.980348</td>\n",
              "      <td>100.114311</td>\n",
              "      <td>17.083540</td>\n",
              "      <td>200.872037</td>\n",
              "      <td>100.107711</td>\n",
              "      <td>9.039325</td>\n",
              "      <td>10.237294</td>\n",
              "      <td>4.479448</td>\n",
              "      <td>2.764581</td>\n",
              "      <td>1.562856</td>\n",
              "    </tr>\n",
              "    <tr>\n",
              "      <th>std</th>\n",
              "      <td>39.822106</td>\n",
              "      <td>42.371290</td>\n",
              "      <td>13.688365</td>\n",
              "      <td>54.467389</td>\n",
              "      <td>20.069084</td>\n",
              "      <td>9.259435</td>\n",
              "      <td>50.713844</td>\n",
              "      <td>19.922625</td>\n",
              "      <td>4.310668</td>\n",
              "      <td>50.573847</td>\n",
              "      <td>19.568609</td>\n",
              "      <td>2.275873</td>\n",
              "      <td>2.791840</td>\n",
              "      <td>2.461214</td>\n",
              "      <td>0.753773</td>\n",
              "      <td>1.315491</td>\n",
              "    </tr>\n",
              "    <tr>\n",
              "      <th>min</th>\n",
              "      <td>1.000000</td>\n",
              "      <td>408.000000</td>\n",
              "      <td>0.000000</td>\n",
              "      <td>0.000000</td>\n",
              "      <td>0.000000</td>\n",
              "      <td>0.000000</td>\n",
              "      <td>0.000000</td>\n",
              "      <td>0.000000</td>\n",
              "      <td>0.000000</td>\n",
              "      <td>23.200000</td>\n",
              "      <td>33.000000</td>\n",
              "      <td>1.040000</td>\n",
              "      <td>0.000000</td>\n",
              "      <td>0.000000</td>\n",
              "      <td>0.000000</td>\n",
              "      <td>0.000000</td>\n",
              "    </tr>\n",
              "    <tr>\n",
              "      <th>25%</th>\n",
              "      <td>74.000000</td>\n",
              "      <td>408.000000</td>\n",
              "      <td>0.000000</td>\n",
              "      <td>143.700000</td>\n",
              "      <td>87.000000</td>\n",
              "      <td>24.430000</td>\n",
              "      <td>166.600000</td>\n",
              "      <td>87.000000</td>\n",
              "      <td>14.160000</td>\n",
              "      <td>167.000000</td>\n",
              "      <td>87.000000</td>\n",
              "      <td>7.520000</td>\n",
              "      <td>8.500000</td>\n",
              "      <td>3.000000</td>\n",
              "      <td>2.300000</td>\n",
              "      <td>1.000000</td>\n",
              "    </tr>\n",
              "    <tr>\n",
              "      <th>50%</th>\n",
              "      <td>101.000000</td>\n",
              "      <td>415.000000</td>\n",
              "      <td>0.000000</td>\n",
              "      <td>179.400000</td>\n",
              "      <td>101.000000</td>\n",
              "      <td>30.500000</td>\n",
              "      <td>201.400000</td>\n",
              "      <td>100.000000</td>\n",
              "      <td>17.120000</td>\n",
              "      <td>201.200000</td>\n",
              "      <td>100.000000</td>\n",
              "      <td>9.050000</td>\n",
              "      <td>10.300000</td>\n",
              "      <td>4.000000</td>\n",
              "      <td>2.780000</td>\n",
              "      <td>1.000000</td>\n",
              "    </tr>\n",
              "    <tr>\n",
              "      <th>75%</th>\n",
              "      <td>127.000000</td>\n",
              "      <td>510.000000</td>\n",
              "      <td>20.000000</td>\n",
              "      <td>216.400000</td>\n",
              "      <td>114.000000</td>\n",
              "      <td>36.790000</td>\n",
              "      <td>235.300000</td>\n",
              "      <td>114.000000</td>\n",
              "      <td>20.000000</td>\n",
              "      <td>235.300000</td>\n",
              "      <td>113.000000</td>\n",
              "      <td>10.590000</td>\n",
              "      <td>12.100000</td>\n",
              "      <td>6.000000</td>\n",
              "      <td>3.270000</td>\n",
              "      <td>2.000000</td>\n",
              "    </tr>\n",
              "    <tr>\n",
              "      <th>max</th>\n",
              "      <td>243.000000</td>\n",
              "      <td>510.000000</td>\n",
              "      <td>51.000000</td>\n",
              "      <td>350.800000</td>\n",
              "      <td>165.000000</td>\n",
              "      <td>59.640000</td>\n",
              "      <td>363.700000</td>\n",
              "      <td>170.000000</td>\n",
              "      <td>30.910000</td>\n",
              "      <td>395.000000</td>\n",
              "      <td>175.000000</td>\n",
              "      <td>17.770000</td>\n",
              "      <td>20.000000</td>\n",
              "      <td>20.000000</td>\n",
              "      <td>5.400000</td>\n",
              "      <td>9.000000</td>\n",
              "    </tr>\n",
              "  </tbody>\n",
              "</table>\n",
              "</div>"
            ],
            "text/plain": [
              "       account length    area code  ...  total intl charge  customer service calls\n",
              "count     3333.000000  3333.000000  ...        3333.000000             3333.000000\n",
              "mean       101.064806   437.182418  ...           2.764581                1.562856\n",
              "std         39.822106    42.371290  ...           0.753773                1.315491\n",
              "min          1.000000   408.000000  ...           0.000000                0.000000\n",
              "25%         74.000000   408.000000  ...           2.300000                1.000000\n",
              "50%        101.000000   415.000000  ...           2.780000                1.000000\n",
              "75%        127.000000   510.000000  ...           3.270000                2.000000\n",
              "max        243.000000   510.000000  ...           5.400000                9.000000\n",
              "\n",
              "[8 rows x 16 columns]"
            ]
          },
          "metadata": {
            "tags": []
          },
          "execution_count": 36
        }
      ]
    },
    {
      "cell_type": "markdown",
      "metadata": {
        "id": "ISnrHbhF6VgI"
      },
      "source": [
        "Исследуем на наличие пропусков"
      ]
    },
    {
      "cell_type": "code",
      "metadata": {
        "id": "9XwJF37R6YsM",
        "colab": {
          "base_uri": "https://localhost:8080/"
        },
        "outputId": "7f6c819d-587b-429d-8daf-18e97fd92867"
      },
      "source": [
        "df.info()"
      ],
      "execution_count": 37,
      "outputs": [
        {
          "output_type": "stream",
          "text": [
            "<class 'pandas.core.frame.DataFrame'>\n",
            "RangeIndex: 3333 entries, 0 to 3332\n",
            "Data columns (total 20 columns):\n",
            " #   Column                  Non-Null Count  Dtype  \n",
            "---  ------                  --------------  -----  \n",
            " 0   state                   3333 non-null   object \n",
            " 1   account length          3333 non-null   int64  \n",
            " 2   area code               3333 non-null   int64  \n",
            " 3   international plan      3333 non-null   object \n",
            " 4   voice mail plan         3333 non-null   object \n",
            " 5   number vmail messages   3333 non-null   int64  \n",
            " 6   total day minutes       3333 non-null   float64\n",
            " 7   total day calls         3333 non-null   int64  \n",
            " 8   total day charge        3333 non-null   float64\n",
            " 9   total eve minutes       3333 non-null   float64\n",
            " 10  total eve calls         3333 non-null   int64  \n",
            " 11  total eve charge        3333 non-null   float64\n",
            " 12  total night minutes     3333 non-null   float64\n",
            " 13  total night calls       3333 non-null   int64  \n",
            " 14  total night charge      3333 non-null   float64\n",
            " 15  total intl minutes      3333 non-null   float64\n",
            " 16  total intl calls        3333 non-null   int64  \n",
            " 17  total intl charge       3333 non-null   float64\n",
            " 18  customer service calls  3333 non-null   int64  \n",
            " 19  churn                   3333 non-null   bool   \n",
            "dtypes: bool(1), float64(8), int64(8), object(3)\n",
            "memory usage: 498.1+ KB\n"
          ],
          "name": "stdout"
        }
      ]
    },
    {
      "cell_type": "markdown",
      "metadata": {
        "id": "T_ehN03yPA2I"
      },
      "source": [
        "Посмотрим на типы данных наших столбцов:"
      ]
    },
    {
      "cell_type": "code",
      "metadata": {
        "id": "eMDxN9dcOu1R",
        "colab": {
          "base_uri": "https://localhost:8080/"
        },
        "outputId": "0109ae0c-2a2c-4a7d-9234-e97a69f8a800"
      },
      "source": [
        "df.dtypes"
      ],
      "execution_count": 38,
      "outputs": [
        {
          "output_type": "execute_result",
          "data": {
            "text/plain": [
              "state                      object\n",
              "account length              int64\n",
              "area code                   int64\n",
              "international plan         object\n",
              "voice mail plan            object\n",
              "number vmail messages       int64\n",
              "total day minutes         float64\n",
              "total day calls             int64\n",
              "total day charge          float64\n",
              "total eve minutes         float64\n",
              "total eve calls             int64\n",
              "total eve charge          float64\n",
              "total night minutes       float64\n",
              "total night calls           int64\n",
              "total night charge        float64\n",
              "total intl minutes        float64\n",
              "total intl calls            int64\n",
              "total intl charge         float64\n",
              "customer service calls      int64\n",
              "churn                        bool\n",
              "dtype: object"
            ]
          },
          "metadata": {
            "tags": []
          },
          "execution_count": 38
        }
      ]
    },
    {
      "cell_type": "markdown",
      "metadata": {
        "id": "kR0_MssXPPz2"
      },
      "source": [
        "Посмотрим как сбалансированны наши классы, можно распечатать или отобразить на грфике. Если не помните почему надо балансировать классы - [тык](https://www.coursera.org/lecture/supervised-learning/niesbalansirovannyie-dannyie-M97UX)\n",
        "\n",
        "Можно увидеть, что данные несбалансированны.\n"
      ]
    },
    {
      "cell_type": "code",
      "metadata": {
        "id": "udw2u9M0PlhQ",
        "colab": {
          "base_uri": "https://localhost:8080/",
          "height": 334
        },
        "outputId": "765df900-d28a-4459-9b1e-dbd51335b3f8"
      },
      "source": [
        "Churn_count = df.churn.value_counts()\n",
        "print(Churn_count)\n",
        "print('Процент данных показывающих целевую группу \"отток\"', round(Churn_count[True]/Churn_count.sum(), 2))\n",
        "Churn_values = df.churn.unique()\n",
        "Churn_plot = plt.bar(Churn_values, Churn_count, color = [\"steelblue\", \"darkorange\"], tick_label = ['False', 'True'])\n"
      ],
      "execution_count": 39,
      "outputs": [
        {
          "output_type": "stream",
          "text": [
            "False    2850\n",
            "True      483\n",
            "Name: churn, dtype: int64\n",
            "Процент данных показывающих целевую группу \"отток\" 0.14\n"
          ],
          "name": "stdout"
        },
        {
          "output_type": "display_data",
          "data": {
            "image/png": "[encoded data removed]",
            "text/plain": [
              "<Figure size 432x288 with 1 Axes>"
            ]
          },
          "metadata": {
            "tags": [],
            "needs_background": "light"
          }
        }
      ]
    },
    {
      "cell_type": "markdown",
      "metadata": {
        "id": "4Id4rTSKVk5S"
      },
      "source": [
        "#### Работа с категориальными признаками"
      ]
    },
    {
      "cell_type": "markdown",
      "metadata": {
        "id": "4ZCHmMXqQQ12"
      },
      "source": [
        "Если вы не понимаете логику за работой с котегориальными признаками - посмотрите [сюда](https://www.coursera.org/lecture/supervised-learning/rabota-s-katieghorial-nymi-priznakami-pqU2j), если же не знаете как это сделать в коде - [сюда](https://colab.research.google.com/drive/17UJ3zkE6dUL5UpQnLiaQp3f7BpV6iEss#scrollTo=_238K7-NQajf), пункт про категориальные признаки.\n",
        "\n",
        "Посмотрим на те колонки, в которых тип данных object (строка) и перекодируем их, воспользуемся кодом с занятия."
      ]
    },
    {
      "cell_type": "code",
      "metadata": {
        "id": "likInih_Pljn",
        "colab": {
          "base_uri": "https://localhost:8080/",
          "height": 241
        },
        "outputId": "9bba0783-724c-4511-807a-b4f44df58244"
      },
      "source": [
        "from sklearn import preprocessing\n",
        "def number_encode_features(init_df):\n",
        "    result = init_df.copy()\n",
        "    encoders = {}\n",
        "    for column in result.columns:\n",
        "        if result.dtypes[column] == np.object:\n",
        "            encoders[column] = preprocessing.LabelEncoder()\n",
        "            result[column] = encoders[column].fit_transform(result[column])\n",
        "    return result, encoders\n",
        "encoded_data = number_encode_features(df)[0]\n",
        "encoded_data.head()"
      ],
      "execution_count": 40,
      "outputs": [
        {
          "output_type": "execute_result",
          "data": {
            "text/html": [
              "<div>\n",
              "<style scoped>\n",
              "    .dataframe tbody tr th:only-of-type {\n",
              "        vertical-align: middle;\n",
              "    }\n",
              "\n",
              "    .dataframe tbody tr th {\n",
              "        vertical-align: top;\n",
              "    }\n",
              "\n",
              "    .dataframe thead th {\n",
              "        text-align: right;\n",
              "    }\n",
              "</style>\n",
              "<table border=\"1\" class=\"dataframe\">\n",
              "  <thead>\n",
              "    <tr style=\"text-align: right;\">\n",
              "      <th></th>\n",
              "      <th>state</th>\n",
              "      <th>account length</th>\n",
              "      <th>area code</th>\n",
              "      <th>international plan</th>\n",
              "      <th>voice mail plan</th>\n",
              "      <th>number vmail messages</th>\n",
              "      <th>total day minutes</th>\n",
              "      <th>total day calls</th>\n",
              "      <th>total day charge</th>\n",
              "      <th>total eve minutes</th>\n",
              "      <th>total eve calls</th>\n",
              "      <th>total eve charge</th>\n",
              "      <th>total night minutes</th>\n",
              "      <th>total night calls</th>\n",
              "      <th>total night charge</th>\n",
              "      <th>total intl minutes</th>\n",
              "      <th>total intl calls</th>\n",
              "      <th>total intl charge</th>\n",
              "      <th>customer service calls</th>\n",
              "      <th>churn</th>\n",
              "    </tr>\n",
              "  </thead>\n",
              "  <tbody>\n",
              "    <tr>\n",
              "      <th>0</th>\n",
              "      <td>16</td>\n",
              "      <td>128</td>\n",
              "      <td>415</td>\n",
              "      <td>0</td>\n",
              "      <td>1</td>\n",
              "      <td>25</td>\n",
              "      <td>265.1</td>\n",
              "      <td>110</td>\n",
              "      <td>45.07</td>\n",
              "      <td>197.4</td>\n",
              "      <td>99</td>\n",
              "      <td>16.78</td>\n",
              "      <td>244.7</td>\n",
              "      <td>91</td>\n",
              "      <td>11.01</td>\n",
              "      <td>10.0</td>\n",
              "      <td>3</td>\n",
              "      <td>2.70</td>\n",
              "      <td>1</td>\n",
              "      <td>False</td>\n",
              "    </tr>\n",
              "    <tr>\n",
              "      <th>1</th>\n",
              "      <td>35</td>\n",
              "      <td>107</td>\n",
              "      <td>415</td>\n",
              "      <td>0</td>\n",
              "      <td>1</td>\n",
              "      <td>26</td>\n",
              "      <td>161.6</td>\n",
              "      <td>123</td>\n",
              "      <td>27.47</td>\n",
              "      <td>195.5</td>\n",
              "      <td>103</td>\n",
              "      <td>16.62</td>\n",
              "      <td>254.4</td>\n",
              "      <td>103</td>\n",
              "      <td>11.45</td>\n",
              "      <td>13.7</td>\n",
              "      <td>3</td>\n",
              "      <td>3.70</td>\n",
              "      <td>1</td>\n",
              "      <td>False</td>\n",
              "    </tr>\n",
              "    <tr>\n",
              "      <th>2</th>\n",
              "      <td>31</td>\n",
              "      <td>137</td>\n",
              "      <td>415</td>\n",
              "      <td>0</td>\n",
              "      <td>0</td>\n",
              "      <td>0</td>\n",
              "      <td>243.4</td>\n",
              "      <td>114</td>\n",
              "      <td>41.38</td>\n",
              "      <td>121.2</td>\n",
              "      <td>110</td>\n",
              "      <td>10.30</td>\n",
              "      <td>162.6</td>\n",
              "      <td>104</td>\n",
              "      <td>7.32</td>\n",
              "      <td>12.2</td>\n",
              "      <td>5</td>\n",
              "      <td>3.29</td>\n",
              "      <td>0</td>\n",
              "      <td>False</td>\n",
              "    </tr>\n",
              "    <tr>\n",
              "      <th>3</th>\n",
              "      <td>35</td>\n",
              "      <td>84</td>\n",
              "      <td>408</td>\n",
              "      <td>1</td>\n",
              "      <td>0</td>\n",
              "      <td>0</td>\n",
              "      <td>299.4</td>\n",
              "      <td>71</td>\n",
              "      <td>50.90</td>\n",
              "      <td>61.9</td>\n",
              "      <td>88</td>\n",
              "      <td>5.26</td>\n",
              "      <td>196.9</td>\n",
              "      <td>89</td>\n",
              "      <td>8.86</td>\n",
              "      <td>6.6</td>\n",
              "      <td>7</td>\n",
              "      <td>1.78</td>\n",
              "      <td>2</td>\n",
              "      <td>False</td>\n",
              "    </tr>\n",
              "    <tr>\n",
              "      <th>4</th>\n",
              "      <td>36</td>\n",
              "      <td>75</td>\n",
              "      <td>415</td>\n",
              "      <td>1</td>\n",
              "      <td>0</td>\n",
              "      <td>0</td>\n",
              "      <td>166.7</td>\n",
              "      <td>113</td>\n",
              "      <td>28.34</td>\n",
              "      <td>148.3</td>\n",
              "      <td>122</td>\n",
              "      <td>12.61</td>\n",
              "      <td>186.9</td>\n",
              "      <td>121</td>\n",
              "      <td>8.41</td>\n",
              "      <td>10.1</td>\n",
              "      <td>3</td>\n",
              "      <td>2.73</td>\n",
              "      <td>3</td>\n",
              "      <td>False</td>\n",
              "    </tr>\n",
              "  </tbody>\n",
              "</table>\n",
              "</div>"
            ],
            "text/plain": [
              "   state  account length  ...  customer service calls  churn\n",
              "0     16             128  ...                       1  False\n",
              "1     35             107  ...                       1  False\n",
              "2     31             137  ...                       0  False\n",
              "3     35              84  ...                       2  False\n",
              "4     36              75  ...                       3  False\n",
              "\n",
              "[5 rows x 20 columns]"
            ]
          },
          "metadata": {
            "tags": []
          },
          "execution_count": 40
        }
      ]
    },
    {
      "cell_type": "markdown",
      "metadata": {
        "id": "y9Z644nIVR8j"
      },
      "source": [
        "Отобразим сами энкодеры"
      ]
    },
    {
      "cell_type": "code",
      "metadata": {
        "id": "DyAu4xKAVWk5",
        "colab": {
          "base_uri": "https://localhost:8080/"
        },
        "outputId": "c8f9fb9d-c683-4a05-9c90-1750f21c0394"
      },
      "source": [
        "number_encode_features(df)[1]"
      ],
      "execution_count": 41,
      "outputs": [
        {
          "output_type": "execute_result",
          "data": {
            "text/plain": [
              "{'international plan': LabelEncoder(),\n",
              " 'state': LabelEncoder(),\n",
              " 'voice mail plan': LabelEncoder()}"
            ]
          },
          "metadata": {
            "tags": []
          },
          "execution_count": 41
        }
      ]
    },
    {
      "cell_type": "markdown",
      "metadata": {
        "id": "I6McUFcR8r8u"
      },
      "source": [
        "Выделим целевую переменную в бинарный формат (в отдельную переменную)"
      ]
    },
    {
      "cell_type": "code",
      "metadata": {
        "id": "HL0fbA4c8rax",
        "colab": {
          "base_uri": "https://localhost:8080/"
        },
        "outputId": "35e0cf2d-81b5-4e7a-b80f-a3d0f2380ef6"
      },
      "source": [
        "y = df.churn.values*1\n",
        "y"
      ],
      "execution_count": 42,
      "outputs": [
        {
          "output_type": "execute_result",
          "data": {
            "text/plain": [
              "array([0, 0, 0, ..., 0, 0, 0])"
            ]
          },
          "metadata": {
            "tags": []
          },
          "execution_count": 42
        }
      ]
    },
    {
      "cell_type": "markdown",
      "metadata": {
        "id": "kCwHJLj3V28A"
      },
      "source": [
        "Выделим целевую переменную в бинарный формат и выкинем ее из обучающей выборки."
      ]
    },
    {
      "cell_type": "code",
      "metadata": {
        "id": "CruJ9-HSV1c5",
        "colab": {
          "base_uri": "https://localhost:8080/",
          "height": 293
        },
        "outputId": "6a3d9459-d950-4b7f-c006-93e603197964"
      },
      "source": [
        "print(\"Ответы\", '\\n', y)\n",
        "Train_set = encoded_data.drop(columns='churn')\n",
        "print(\"Обучающая выборка\")\n",
        "Train_set.head()"
      ],
      "execution_count": 43,
      "outputs": [
        {
          "output_type": "stream",
          "text": [
            "Ответы \n",
            " [0 0 0 ... 0 0 0]\n",
            "Обучающая выборка\n"
          ],
          "name": "stdout"
        },
        {
          "output_type": "execute_result",
          "data": {
            "text/html": [
              "<div>\n",
              "<style scoped>\n",
              "    .dataframe tbody tr th:only-of-type {\n",
              "        vertical-align: middle;\n",
              "    }\n",
              "\n",
              "    .dataframe tbody tr th {\n",
              "        vertical-align: top;\n",
              "    }\n",
              "\n",
              "    .dataframe thead th {\n",
              "        text-align: right;\n",
              "    }\n",
              "</style>\n",
              "<table border=\"1\" class=\"dataframe\">\n",
              "  <thead>\n",
              "    <tr style=\"text-align: right;\">\n",
              "      <th></th>\n",
              "      <th>state</th>\n",
              "      <th>account length</th>\n",
              "      <th>area code</th>\n",
              "      <th>international plan</th>\n",
              "      <th>voice mail plan</th>\n",
              "      <th>number vmail messages</th>\n",
              "      <th>total day minutes</th>\n",
              "      <th>total day calls</th>\n",
              "      <th>total day charge</th>\n",
              "      <th>total eve minutes</th>\n",
              "      <th>total eve calls</th>\n",
              "      <th>total eve charge</th>\n",
              "      <th>total night minutes</th>\n",
              "      <th>total night calls</th>\n",
              "      <th>total night charge</th>\n",
              "      <th>total intl minutes</th>\n",
              "      <th>total intl calls</th>\n",
              "      <th>total intl charge</th>\n",
              "      <th>customer service calls</th>\n",
              "    </tr>\n",
              "  </thead>\n",
              "  <tbody>\n",
              "    <tr>\n",
              "      <th>0</th>\n",
              "      <td>16</td>\n",
              "      <td>128</td>\n",
              "      <td>415</td>\n",
              "      <td>0</td>\n",
              "      <td>1</td>\n",
              "      <td>25</td>\n",
              "      <td>265.1</td>\n",
              "      <td>110</td>\n",
              "      <td>45.07</td>\n",
              "      <td>197.4</td>\n",
              "      <td>99</td>\n",
              "      <td>16.78</td>\n",
              "      <td>244.7</td>\n",
              "      <td>91</td>\n",
              "      <td>11.01</td>\n",
              "      <td>10.0</td>\n",
              "      <td>3</td>\n",
              "      <td>2.70</td>\n",
              "      <td>1</td>\n",
              "    </tr>\n",
              "    <tr>\n",
              "      <th>1</th>\n",
              "      <td>35</td>\n",
              "      <td>107</td>\n",
              "      <td>415</td>\n",
              "      <td>0</td>\n",
              "      <td>1</td>\n",
              "      <td>26</td>\n",
              "      <td>161.6</td>\n",
              "      <td>123</td>\n",
              "      <td>27.47</td>\n",
              "      <td>195.5</td>\n",
              "      <td>103</td>\n",
              "      <td>16.62</td>\n",
              "      <td>254.4</td>\n",
              "      <td>103</td>\n",
              "      <td>11.45</td>\n",
              "      <td>13.7</td>\n",
              "      <td>3</td>\n",
              "      <td>3.70</td>\n",
              "      <td>1</td>\n",
              "    </tr>\n",
              "    <tr>\n",
              "      <th>2</th>\n",
              "      <td>31</td>\n",
              "      <td>137</td>\n",
              "      <td>415</td>\n",
              "      <td>0</td>\n",
              "      <td>0</td>\n",
              "      <td>0</td>\n",
              "      <td>243.4</td>\n",
              "      <td>114</td>\n",
              "      <td>41.38</td>\n",
              "      <td>121.2</td>\n",
              "      <td>110</td>\n",
              "      <td>10.30</td>\n",
              "      <td>162.6</td>\n",
              "      <td>104</td>\n",
              "      <td>7.32</td>\n",
              "      <td>12.2</td>\n",
              "      <td>5</td>\n",
              "      <td>3.29</td>\n",
              "      <td>0</td>\n",
              "    </tr>\n",
              "    <tr>\n",
              "      <th>3</th>\n",
              "      <td>35</td>\n",
              "      <td>84</td>\n",
              "      <td>408</td>\n",
              "      <td>1</td>\n",
              "      <td>0</td>\n",
              "      <td>0</td>\n",
              "      <td>299.4</td>\n",
              "      <td>71</td>\n",
              "      <td>50.90</td>\n",
              "      <td>61.9</td>\n",
              "      <td>88</td>\n",
              "      <td>5.26</td>\n",
              "      <td>196.9</td>\n",
              "      <td>89</td>\n",
              "      <td>8.86</td>\n",
              "      <td>6.6</td>\n",
              "      <td>7</td>\n",
              "      <td>1.78</td>\n",
              "      <td>2</td>\n",
              "    </tr>\n",
              "    <tr>\n",
              "      <th>4</th>\n",
              "      <td>36</td>\n",
              "      <td>75</td>\n",
              "      <td>415</td>\n",
              "      <td>1</td>\n",
              "      <td>0</td>\n",
              "      <td>0</td>\n",
              "      <td>166.7</td>\n",
              "      <td>113</td>\n",
              "      <td>28.34</td>\n",
              "      <td>148.3</td>\n",
              "      <td>122</td>\n",
              "      <td>12.61</td>\n",
              "      <td>186.9</td>\n",
              "      <td>121</td>\n",
              "      <td>8.41</td>\n",
              "      <td>10.1</td>\n",
              "      <td>3</td>\n",
              "      <td>2.73</td>\n",
              "      <td>3</td>\n",
              "    </tr>\n",
              "  </tbody>\n",
              "</table>\n",
              "</div>"
            ],
            "text/plain": [
              "   state  account length  ...  total intl charge  customer service calls\n",
              "0     16             128  ...               2.70                       1\n",
              "1     35             107  ...               3.70                       1\n",
              "2     31             137  ...               3.29                       0\n",
              "3     35              84  ...               1.78                       2\n",
              "4     36              75  ...               2.73                       3\n",
              "\n",
              "[5 rows x 19 columns]"
            ]
          },
          "metadata": {
            "tags": []
          },
          "execution_count": 43
        }
      ]
    },
    {
      "cell_type": "markdown",
      "metadata": {
        "id": "RXTrWXnzZBTm"
      },
      "source": [
        "Посмотрим на распределение величин по признакам в наших данных"
      ]
    },
    {
      "cell_type": "code",
      "metadata": {
        "id": "ITo8_PqAPFOf",
        "colab": {
          "base_uri": "https://localhost:8080/",
          "height": 1000
        },
        "outputId": "72f1697d-2499-47c3-c41c-03f486a5d461"
      },
      "source": [
        "Train_set.hist(figsize=(30 ,15))"
      ],
      "execution_count": 44,
      "outputs": [
        {
          "output_type": "execute_result",
          "data": {
            "text/plain": [
              "array([[<matplotlib.axes._subplots.AxesSubplot object at 0x7f76a7b0f630>,\n",
              "        <matplotlib.axes._subplots.AxesSubplot object at 0x7f76a7b47f60>,\n",
              "        <matplotlib.axes._subplots.AxesSubplot object at 0x7f76a7afc208>,\n",
              "        <matplotlib.axes._subplots.AxesSubplot object at 0x7f76a7aad470>],\n",
              "       [<matplotlib.axes._subplots.AxesSubplot object at 0x7f76a7a606d8>,\n",
              "        <matplotlib.axes._subplots.AxesSubplot object at 0x7f76a7a15940>,\n",
              "        <matplotlib.axes._subplots.AxesSubplot object at 0x7f76a7a47ba8>,\n",
              "        <matplotlib.axes._subplots.AxesSubplot object at 0x7f76a79fcdd8>],\n",
              "       [<matplotlib.axes._subplots.AxesSubplot object at 0x7f76a79fce48>,\n",
              "        <matplotlib.axes._subplots.AxesSubplot object at 0x7f76a796d320>,\n",
              "        <matplotlib.axes._subplots.AxesSubplot object at 0x7f76a7923588>,\n",
              "        <matplotlib.axes._subplots.AxesSubplot object at 0x7f76a78d77f0>],\n",
              "       [<matplotlib.axes._subplots.AxesSubplot object at 0x7f76a788aa58>,\n",
              "        <matplotlib.axes._subplots.AxesSubplot object at 0x7f76a78bdcc0>,\n",
              "        <matplotlib.axes._subplots.AxesSubplot object at 0x7f76a7872f28>,\n",
              "        <matplotlib.axes._subplots.AxesSubplot object at 0x7f76a78341d0>],\n",
              "       [<matplotlib.axes._subplots.AxesSubplot object at 0x7f76a77e6438>,\n",
              "        <matplotlib.axes._subplots.AxesSubplot object at 0x7f76a779a6a0>,\n",
              "        <matplotlib.axes._subplots.AxesSubplot object at 0x7f76a774c908>,\n",
              "        <matplotlib.axes._subplots.AxesSubplot object at 0x7f76a7782b70>]],\n",
              "      dtype=object)"
            ]
          },
          "metadata": {
            "tags": []
          },
          "execution_count": 44
        },
        {
          "output_type": "display_data",
          "data": {
            "image/png": "[encoded data removed]",
            "text/plain": [
              "<Figure size 2160x1080 with 20 Axes>"
            ]
          },
          "metadata": {
            "tags": [],
            "needs_background": "light"
          }
        }
      ]
    },
    {
      "cell_type": "markdown",
      "metadata": {
        "id": "24PuLGTDaAa0"
      },
      "source": [
        "Построим матрицу корреляций, выбросим данные с единичной линейной зависимостью - они (шум) просто повысят вычислительную сложность."
      ]
    },
    {
      "cell_type": "code",
      "metadata": {
        "id": "5qP5phgrZ_3L",
        "colab": {
          "base_uri": "https://localhost:8080/",
          "height": 599
        },
        "outputId": "cb405133-0dd2-4912-93d2-11aa15dcdc85"
      },
      "source": [
        "plt.figure(figsize=(10,8))\n",
        "sns.heatmap(Train_set.corr())\n",
        "plt.show()"
      ],
      "execution_count": 45,
      "outputs": [
        {
          "output_type": "display_data",
          "data": {
            "image/png": "[encoded data removed]",
            "text/plain": [
              "<Figure size 720x576 with 2 Axes>"
            ]
          },
          "metadata": {
            "tags": [],
            "needs_background": "light"
          }
        }
      ]
    },
    {
      "cell_type": "code",
      "metadata": {
        "id": "D26zNoYqaadS",
        "colab": {
          "base_uri": "https://localhost:8080/",
          "height": 224
        },
        "outputId": "3096d235-35ef-4a46-a20b-60c0962f401a"
      },
      "source": [
        "Final_dataset = Train_set.drop(columns=['total day charge','total eve charge','total night charge', 'total intl charge'])\n",
        "Final_dataset.head()"
      ],
      "execution_count": 46,
      "outputs": [
        {
          "output_type": "execute_result",
          "data": {
            "text/html": [
              "<div>\n",
              "<style scoped>\n",
              "    .dataframe tbody tr th:only-of-type {\n",
              "        vertical-align: middle;\n",
              "    }\n",
              "\n",
              "    .dataframe tbody tr th {\n",
              "        vertical-align: top;\n",
              "    }\n",
              "\n",
              "    .dataframe thead th {\n",
              "        text-align: right;\n",
              "    }\n",
              "</style>\n",
              "<table border=\"1\" class=\"dataframe\">\n",
              "  <thead>\n",
              "    <tr style=\"text-align: right;\">\n",
              "      <th></th>\n",
              "      <th>state</th>\n",
              "      <th>account length</th>\n",
              "      <th>area code</th>\n",
              "      <th>international plan</th>\n",
              "      <th>voice mail plan</th>\n",
              "      <th>number vmail messages</th>\n",
              "      <th>total day minutes</th>\n",
              "      <th>total day calls</th>\n",
              "      <th>total eve minutes</th>\n",
              "      <th>total eve calls</th>\n",
              "      <th>total night minutes</th>\n",
              "      <th>total night calls</th>\n",
              "      <th>total intl minutes</th>\n",
              "      <th>total intl calls</th>\n",
              "      <th>customer service calls</th>\n",
              "    </tr>\n",
              "  </thead>\n",
              "  <tbody>\n",
              "    <tr>\n",
              "      <th>0</th>\n",
              "      <td>16</td>\n",
              "      <td>128</td>\n",
              "      <td>415</td>\n",
              "      <td>0</td>\n",
              "      <td>1</td>\n",
              "      <td>25</td>\n",
              "      <td>265.1</td>\n",
              "      <td>110</td>\n",
              "      <td>197.4</td>\n",
              "      <td>99</td>\n",
              "      <td>244.7</td>\n",
              "      <td>91</td>\n",
              "      <td>10.0</td>\n",
              "      <td>3</td>\n",
              "      <td>1</td>\n",
              "    </tr>\n",
              "    <tr>\n",
              "      <th>1</th>\n",
              "      <td>35</td>\n",
              "      <td>107</td>\n",
              "      <td>415</td>\n",
              "      <td>0</td>\n",
              "      <td>1</td>\n",
              "      <td>26</td>\n",
              "      <td>161.6</td>\n",
              "      <td>123</td>\n",
              "      <td>195.5</td>\n",
              "      <td>103</td>\n",
              "      <td>254.4</td>\n",
              "      <td>103</td>\n",
              "      <td>13.7</td>\n",
              "      <td>3</td>\n",
              "      <td>1</td>\n",
              "    </tr>\n",
              "    <tr>\n",
              "      <th>2</th>\n",
              "      <td>31</td>\n",
              "      <td>137</td>\n",
              "      <td>415</td>\n",
              "      <td>0</td>\n",
              "      <td>0</td>\n",
              "      <td>0</td>\n",
              "      <td>243.4</td>\n",
              "      <td>114</td>\n",
              "      <td>121.2</td>\n",
              "      <td>110</td>\n",
              "      <td>162.6</td>\n",
              "      <td>104</td>\n",
              "      <td>12.2</td>\n",
              "      <td>5</td>\n",
              "      <td>0</td>\n",
              "    </tr>\n",
              "    <tr>\n",
              "      <th>3</th>\n",
              "      <td>35</td>\n",
              "      <td>84</td>\n",
              "      <td>408</td>\n",
              "      <td>1</td>\n",
              "      <td>0</td>\n",
              "      <td>0</td>\n",
              "      <td>299.4</td>\n",
              "      <td>71</td>\n",
              "      <td>61.9</td>\n",
              "      <td>88</td>\n",
              "      <td>196.9</td>\n",
              "      <td>89</td>\n",
              "      <td>6.6</td>\n",
              "      <td>7</td>\n",
              "      <td>2</td>\n",
              "    </tr>\n",
              "    <tr>\n",
              "      <th>4</th>\n",
              "      <td>36</td>\n",
              "      <td>75</td>\n",
              "      <td>415</td>\n",
              "      <td>1</td>\n",
              "      <td>0</td>\n",
              "      <td>0</td>\n",
              "      <td>166.7</td>\n",
              "      <td>113</td>\n",
              "      <td>148.3</td>\n",
              "      <td>122</td>\n",
              "      <td>186.9</td>\n",
              "      <td>121</td>\n",
              "      <td>10.1</td>\n",
              "      <td>3</td>\n",
              "      <td>3</td>\n",
              "    </tr>\n",
              "  </tbody>\n",
              "</table>\n",
              "</div>"
            ],
            "text/plain": [
              "   state  account length  ...  total intl calls  customer service calls\n",
              "0     16             128  ...                 3                       1\n",
              "1     35             107  ...                 3                       1\n",
              "2     31             137  ...                 5                       0\n",
              "3     35              84  ...                 7                       2\n",
              "4     36              75  ...                 3                       3\n",
              "\n",
              "[5 rows x 15 columns]"
            ]
          },
          "metadata": {
            "tags": []
          },
          "execution_count": 46
        }
      ]
    },
    {
      "cell_type": "markdown",
      "metadata": {
        "id": "tYMj4euycFgc"
      },
      "source": [
        "## Работа с данными"
      ]
    },
    {
      "cell_type": "markdown",
      "metadata": {
        "id": "66uOoy0NZL7V"
      },
      "source": [
        "Создадим обучающую выборку Х, переведем получанные цифровые данные в np.array"
      ]
    },
    {
      "cell_type": "code",
      "metadata": {
        "id": "XxqEThbKPcuu",
        "colab": {
          "base_uri": "https://localhost:8080/"
        },
        "outputId": "5cda7c30-18ad-46b9-8a84-12ddcf48837a"
      },
      "source": [
        "X = np.array(Final_dataset)\n",
        "X"
      ],
      "execution_count": 47,
      "outputs": [
        {
          "output_type": "execute_result",
          "data": {
            "text/plain": [
              "array([[ 16. , 128. , 415. , ...,  10. ,   3. ,   1. ],\n",
              "       [ 35. , 107. , 415. , ...,  13.7,   3. ,   1. ],\n",
              "       [ 31. , 137. , 415. , ...,  12.2,   5. ,   0. ],\n",
              "       ...,\n",
              "       [ 39. ,  28. , 510. , ...,  14.1,   6. ,   2. ],\n",
              "       [  6. , 184. , 510. , ...,   5. ,  10. ,   2. ],\n",
              "       [ 42. ,  74. , 415. , ...,  13.7,   4. ,   0. ]])"
            ]
          },
          "metadata": {
            "tags": []
          },
          "execution_count": 47
        }
      ]
    },
    {
      "cell_type": "markdown",
      "metadata": {
        "id": "smawbeJEZftc"
      },
      "source": [
        "Нормализуем наши данные. Если не помните зачем это делать? [тык](https://www.coursera.org/lecture/supervised-learning/masshtabirovaniie-priznakov-ozNT3)"
      ]
    },
    {
      "cell_type": "code",
      "metadata": {
        "id": "8Gstc1AeZaER"
      },
      "source": [
        "X = (X-np.mean(X,axis=0))/np.std(X,axis=0)"
      ],
      "execution_count": 48,
      "outputs": []
    },
    {
      "cell_type": "markdown",
      "metadata": {
        "id": "eoD3dH39emcu"
      },
      "source": [
        "Надо помнить, что наша выборка несбралансирована, так что надо будет провести ее балансировку, в ходе занятия было показано, что будет (у precision 0.18), если ее не проводить:\n",
        "\n",
        "Найдем по y индексы клиентов, которые относятся к классу \"не ушили\"\n",
        "и, перемешав выборку, обрежем ее до размеров \"ушедших\". Т.к. это на занятии не разбиралось - код прилагается.\n",
        "\n",
        "Альтернативой выбрасыванию ценных данных - модифицировать шаг градиентного спуска для класса с несбалансированными данными.\n",
        "\n",
        "Большинство алгоритмов sklearn имеют аргумент class_weight, который принимает на вход частоты каждого распознаваемого класса или считает их вытоматически, если указано 'balanced'\n",
        "\n",
        "Пример из алгоримта SVM:\n",
        "\n",
        "class_weight dict or ‘balanced’, default=None\n",
        "\n",
        "Set the parameter C of class i to class_weight[i]*C for SVC. If not given, all classes are supposed to have weight one. The “balanced” mode uses the values of y to automatically adjust weights inversely proportional to class frequencies in the input data as n_samples / (n_classes * np.bincount(y))"
      ]
    },
    {
      "cell_type": "markdown",
      "metadata": {
        "id": "SdY39BgtBPaq"
      },
      "source": [
        "Использовать модифицированный шаг градиентного спуска предпочтительнее, если алгоритм поддерживает его (в большинстве случаев так и есть). В качестве примера возможного варинта балансировки - убрать лишние данные. Ниже представлен код, который находит индексы в зависимости от метки класса и выбрасывает лишние."
      ]
    },
    {
      "cell_type": "code",
      "metadata": {
        "id": "CwhnZeETetA7",
        "colab": {
          "base_uri": "https://localhost:8080/"
        },
        "outputId": "580f4ed8-4a98-4a4c-efd4-a5067bde3efa"
      },
      "source": [
        "# np.argwhere вернет индексы тех элементов массива y (целевой переменной), где значение 0\n",
        "not_churn_ids = np.argwhere(y == 0).flatten()\n",
        "print('Всего не ушедших', len(not_churn_ids))\n",
        "not_churn_ids"
      ],
      "execution_count": 49,
      "outputs": [
        {
          "output_type": "stream",
          "text": [
            "Всего не ушедших 2850\n"
          ],
          "name": "stdout"
        },
        {
          "output_type": "execute_result",
          "data": {
            "text/plain": [
              "array([   0,    1,    2, ..., 3330, 3331, 3332])"
            ]
          },
          "metadata": {
            "tags": []
          },
          "execution_count": 49
        }
      ]
    },
    {
      "cell_type": "markdown",
      "metadata": {
        "id": "VIMv8J_Qgyv5"
      },
      "source": [
        "Перемешаем массив с выбранным random state (чтоб в дальнейшем у нас совпадали выборки) выберем в нем \"лишние\" id тех, кто остались (кто портит нам прогноз алгоритма). Кол-во \"лишних\" = кол-во оставшихся - кол-во ушедшых."
      ]
    },
    {
      "cell_type": "code",
      "metadata": {
        "id": "TxuSyyoWgqPx",
        "colab": {
          "base_uri": "https://localhost:8080/"
        },
        "outputId": "49f92ee2-8226-4df7-e787-5b431c609f42"
      },
      "source": [
        "from sklearn.utils import shuffle\n",
        "\n",
        "not_churn_ids = shuffle(not_churn_ids, random_state = 42)\n",
        "# найдем \"лишних\", для этого обрежем найденные id на кол-во ушедших (внутри len)\n",
        "not_churn_ids = not_churn_ids[len(np.argwhere(y == 1).flatten()):]\n",
        "print(len(not_churn_ids))\n",
        "# отображаем кол-во и сами id, которые мы должны выкинуть\n",
        "not_churn_ids"
      ],
      "execution_count": 50,
      "outputs": [
        {
          "output_type": "stream",
          "text": [
            "2367\n"
          ],
          "name": "stdout"
        },
        {
          "output_type": "execute_result",
          "data": {
            "text/plain": [
              "array([ 877, 3298,  614, ..., 1291, 1482,  989])"
            ]
          },
          "metadata": {
            "tags": []
          },
          "execution_count": 50
        }
      ]
    },
    {
      "cell_type": "markdown",
      "metadata": {
        "id": "Q2kX34VqjZdL"
      },
      "source": [
        "Проверим, сбалансированны ли классы\n",
        "\n",
        "по идее (оставшиеся) - (\"лишние\") = (ушедшие)"
      ]
    },
    {
      "cell_type": "code",
      "metadata": {
        "id": "r-6VUu19jX-Q",
        "colab": {
          "base_uri": "https://localhost:8080/"
        },
        "outputId": "76589fce-6086-47f9-d25e-5a7fb934125d"
      },
      "source": [
        "len(np.argwhere(y == 0).flatten()) - len(not_churn_ids) == len(np.argwhere(y == 1).flatten())"
      ],
      "execution_count": 51,
      "outputs": [
        {
          "output_type": "execute_result",
          "data": {
            "text/plain": [
              "True"
            ]
          },
          "metadata": {
            "tags": []
          },
          "execution_count": 51
        }
      ]
    },
    {
      "cell_type": "markdown",
      "metadata": {
        "id": "4z4g4BASkFfw"
      },
      "source": [
        "Теперь можно выкинуть \"лишние\" id из X и y"
      ]
    },
    {
      "cell_type": "code",
      "metadata": {
        "id": "kHGBQfETkLJV"
      },
      "source": [
        "# np.delete принимает массив, индексы, которые выбросить и по какой оси выкидывать\n",
        "X = np.delete(X, not_churn_ids, 0)\n",
        "y = np.delete(y, not_churn_ids, 0)"
      ],
      "execution_count": 52,
      "outputs": []
    },
    {
      "cell_type": "code",
      "metadata": {
        "id": "SJgJGHeKk1s2",
        "colab": {
          "base_uri": "https://localhost:8080/"
        },
        "outputId": "bd7695ce-6c6e-4c4b-a90d-d763672035ab"
      },
      "source": [
        "# отобразим итоговый размер признаков датасета\n",
        "X.shape, y.shape"
      ],
      "execution_count": 53,
      "outputs": [
        {
          "output_type": "execute_result",
          "data": {
            "text/plain": [
              "((966, 15), (966,))"
            ]
          },
          "metadata": {
            "tags": []
          },
          "execution_count": 53
        }
      ]
    },
    {
      "cell_type": "markdown",
      "metadata": {
        "id": "CjAu5HahDFQa"
      },
      "source": [
        "Теперь видим, что классы сбалансированы."
      ]
    },
    {
      "cell_type": "code",
      "metadata": {
        "id": "Twc1jIYZk80m",
        "colab": {
          "base_uri": "https://localhost:8080/"
        },
        "outputId": "7ba439e2-d4ae-427b-b117-f85755a826d1"
      },
      "source": [
        "pd.Series(y).value_counts()"
      ],
      "execution_count": 54,
      "outputs": [
        {
          "output_type": "execute_result",
          "data": {
            "text/plain": [
              "1    483\n",
              "0    483\n",
              "dtype: int64"
            ]
          },
          "metadata": {
            "tags": []
          },
          "execution_count": 54
        }
      ]
    },
    {
      "cell_type": "markdown",
      "metadata": {
        "id": "N8OsWvtidj6V"
      },
      "source": [
        "## Создание алгоритмов\n",
        "\n",
        "Посмотрим на 2 типа алгоритмов, которые мы прошли - KNN и линейную модель. В случае KNN будем решать задачу классификации. В случае линейного классификатора, для демонстрации всей обработки, будем использовать регрессию."
      ]
    },
    {
      "cell_type": "markdown",
      "metadata": {
        "id": "vFcU7ISHzLxJ"
      },
      "source": [
        "Разделим нашу выборку на test train в соотношении 85 на 15 %"
      ]
    },
    {
      "cell_type": "code",
      "metadata": {
        "id": "oYRicWgyzLHD"
      },
      "source": [
        "from sklearn.model_selection import train_test_split\n",
        "X_train, X_test, y_train, y_test = train_test_split(X,y, test_size = 0.15)"
      ],
      "execution_count": 55,
      "outputs": []
    },
    {
      "cell_type": "markdown",
      "metadata": {
        "id": "t36f783h1iP9"
      },
      "source": [
        "#### KNN"
      ]
    },
    {
      "cell_type": "markdown",
      "metadata": {
        "id": "U3pFXR9exFoY"
      },
      "source": [
        "Построим сетку, по аналогии с занятием 6, для перебора гиперпараметра для нахождения лучшего гиперпараметра KNN, пройдем 100 значений (от 1 до 100)"
      ]
    },
    {
      "cell_type": "code",
      "metadata": {
        "id": "AuUxM39qZ0Zo",
        "colab": {
          "base_uri": "https://localhost:8080/"
        },
        "outputId": "5e163959-e488-477f-c64a-e318fe836afc"
      },
      "source": [
        "from sklearn.neighbors import KNeighborsClassifier \n",
        "grid_search = sklearn.model_selection.GridSearchCV(KNeighborsClassifier(), {'n_neighbors': np.arange(1,101)}, cv = 5)\n",
        "grid_search.fit(X_train, y_train)"
      ],
      "execution_count": 56,
      "outputs": [
        {
          "output_type": "execute_result",
          "data": {
            "text/plain": [
              "GridSearchCV(cv=5, error_score=nan,\n",
              "             estimator=KNeighborsClassifier(algorithm='auto', leaf_size=30,\n",
              "                                            metric='minkowski',\n",
              "                                            metric_params=None, n_jobs=None,\n",
              "                                            n_neighbors=5, p=2,\n",
              "                                            weights='uniform'),\n",
              "             iid='deprecated', n_jobs=None,\n",
              "             param_grid={'n_neighbors': array([  1,   2,   3,   4,   5,   6,   7,   8,   9,  10,  11,  12,  13,\n",
              "        14,  15,  16,  17,  18,  19,  20,  21,  22,  23,  24,  25,  26,\n",
              "        27,  28,  29,  30,  31,  32,  33,  34,  35,  36,  37,  38,  39,\n",
              "        40,  41,  42,  43,  44,  45,  46,  47,  48,  49,  50,  51,  52,\n",
              "        53,  54,  55,  56,  57,  58,  59,  60,  61,  62,  63,  64,  65,\n",
              "        66,  67,  68,  69,  70,  71,  72,  73,  74,  75,  76,  77,  78,\n",
              "        79,  80,  81,  82,  83,  84,  85,  86,  87,  88,  89,  90,  91,\n",
              "        92,  93,  94,  95,  96,  97,  98,  99, 100])},\n",
              "             pre_dispatch='2*n_jobs', refit=True, return_train_score=False,\n",
              "             scoring=None, verbose=0)"
            ]
          },
          "metadata": {
            "tags": []
          },
          "execution_count": 56
        }
      ]
    },
    {
      "cell_type": "code",
      "metadata": {
        "id": "OcoqFDoayu0K"
      },
      "source": [
        "# Функция отрисовки графиков\n",
        "\n",
        "def grid_plot(x, y, title, y_label = 'accuracy', x_label = 'n_neighbors'):\n",
        "    plt.figure(figsize=(12, 6))\n",
        "    plt.grid(True)\n",
        "    plt.plot(x, y, 'go-')\n",
        "    plt.xlabel(x_label)\n",
        "    plt.ylabel(y_label)\n",
        "    plt.title(title)"
      ],
      "execution_count": 57,
      "outputs": []
    },
    {
      "cell_type": "markdown",
      "metadata": {
        "id": "SLQmzfuzDSAz"
      },
      "source": [
        "Строим график зависимости качества от числа соседей\n",
        "\n",
        "подсказка: результаты обучения хранятся в атрибуте cv_results_ объекта gs (grid search из библиотеки sklearn)"
      ]
    },
    {
      "cell_type": "code",
      "metadata": {
        "id": "2djFxlQly0Xk",
        "colab": {
          "base_uri": "https://localhost:8080/",
          "height": 405
        },
        "outputId": "48ae6a37-7f07-4a0d-f14a-c84e1f0fd050"
      },
      "source": [
        "grid_plot(np.arange(1,101), grid_search.cv_results_['mean_test_score'], 'KNeighborsClassifier')"
      ],
      "execution_count": 58,
      "outputs": [
        {
          "output_type": "display_data",
          "data": {
            "image/png": "[encoded data removed]",
            "text/plain": [
              "<Figure size 864x432 with 1 Axes>"
            ]
          },
          "metadata": {
            "tags": [],
            "needs_background": "light"
          }
        }
      ]
    },
    {
      "cell_type": "markdown",
      "metadata": {
        "id": "6Hc_d_bTy_70"
      },
      "source": [
        "Отобразим лучший параметр (y gs есть атрибуты best_param, best_score)"
      ]
    },
    {
      "cell_type": "code",
      "metadata": {
        "id": "mYndn8fty2jE",
        "colab": {
          "base_uri": "https://localhost:8080/"
        },
        "outputId": "312c9923-1266-4dd2-a3c8-c8ebeba39125"
      },
      "source": [
        "print(grid_search.best_params_, grid_search.best_score_)"
      ],
      "execution_count": 59,
      "outputs": [
        {
          "output_type": "stream",
          "text": [
            "{'n_neighbors': 26} 0.8135772357723579\n"
          ],
          "name": "stdout"
        }
      ]
    },
    {
      "cell_type": "markdown",
      "metadata": {
        "id": "Oi_U0PkKz4qw"
      },
      "source": [
        "Инициализируем отдельный классификатор с лучшим значением, найденным на предыдущего перебора"
      ]
    },
    {
      "cell_type": "code",
      "metadata": {
        "id": "-H6KXy8Dy_C7"
      },
      "source": [
        "Best_Grid = KNeighborsClassifier(n_neighbors=grid_search.best_params_['n_neighbors'])"
      ],
      "execution_count": 60,
      "outputs": []
    },
    {
      "cell_type": "markdown",
      "metadata": {
        "id": "yrC_TdVz1Bd9"
      },
      "source": [
        "Получим предсказания от классификатора"
      ]
    },
    {
      "cell_type": "code",
      "metadata": {
        "id": "F43Wnbbt1Bjn",
        "colab": {
          "base_uri": "https://localhost:8080/"
        },
        "outputId": "9a4173ad-c874-436e-d4ad-7842d152b565"
      },
      "source": [
        "y_knn = Best_Grid.fit(X_train, y_train).predict(X_test)\n",
        "y_knn"
      ],
      "execution_count": 61,
      "outputs": [
        {
          "output_type": "execute_result",
          "data": {
            "text/plain": [
              "array([0, 0, 1, 0, 0, 0, 1, 1, 0, 0, 1, 0, 0, 0, 0, 1, 1, 0, 0, 1, 0, 0,\n",
              "       0, 0, 1, 0, 1, 1, 1, 0, 0, 1, 1, 1, 1, 0, 1, 0, 1, 1, 0, 0, 0, 0,\n",
              "       0, 0, 1, 1, 1, 0, 1, 1, 1, 0, 0, 0, 1, 1, 0, 0, 0, 0, 0, 1, 0, 0,\n",
              "       0, 1, 1, 0, 0, 0, 0, 0, 0, 0, 0, 0, 1, 0, 0, 0, 0, 0, 1, 0, 0, 0,\n",
              "       1, 0, 0, 1, 1, 1, 1, 1, 0, 1, 1, 1, 1, 0, 0, 0, 0, 1, 1, 0, 0, 0,\n",
              "       1, 0, 0, 1, 0, 0, 0, 0, 0, 0, 0, 1, 0, 1, 1, 1, 1, 0, 1, 0, 0, 0,\n",
              "       0, 0, 0, 1, 0, 0, 1, 1, 0, 1, 1, 1, 0])"
            ]
          },
          "metadata": {
            "tags": []
          },
          "execution_count": 61
        }
      ]
    },
    {
      "cell_type": "markdown",
      "metadata": {
        "id": "PUsFrWB-0rjB"
      },
      "source": [
        "Посмотрим на метрики качества через classification report"
      ]
    },
    {
      "cell_type": "code",
      "metadata": {
        "id": "xTs06Pwb0pgu",
        "colab": {
          "base_uri": "https://localhost:8080/"
        },
        "outputId": "c83154bd-97bd-4177-9089-95bb3bd74080"
      },
      "source": [
        "print(sklearn.metrics.classification_report(y_test,y_knn))"
      ],
      "execution_count": 62,
      "outputs": [
        {
          "output_type": "stream",
          "text": [
            "              precision    recall  f1-score   support\n",
            "\n",
            "           0       0.75      0.89      0.81        74\n",
            "           1       0.86      0.69      0.77        71\n",
            "\n",
            "    accuracy                           0.79       145\n",
            "   macro avg       0.80      0.79      0.79       145\n",
            "weighted avg       0.80      0.79      0.79       145\n",
            "\n"
          ],
          "name": "stdout"
        }
      ]
    },
    {
      "cell_type": "markdown",
      "metadata": {
        "id": "y3UXeIIV13ps"
      },
      "source": [
        "#### Логистическая регрессия\n",
        "\n",
        "Здесь Вам нужно применить логистическую регрессию, по аналогии с занятием (10 лекция) и оценить результат по $R^2$ и MAE.\n",
        "Теперь без подсказок"
      ]
    },
    {
      "cell_type": "markdown",
      "metadata": {
        "id": "-ByrMdHWTZrH"
      },
      "source": [
        "Импортируем дополнительно из библиотеки sklearn модель LogisticRegression для реализации логистической регрессии. Также импортируем библиотеку warnings, чтобы отобразить результат выполнения GridSearch без предупреждений (для более удобной визуализации результата)."
      ]
    },
    {
      "cell_type": "code",
      "metadata": {
        "id": "4gcn0AFx9JHm"
      },
      "source": [
        "from sklearn.linear_model import LogisticRegression\n",
        "import warnings"
      ],
      "execution_count": 63,
      "outputs": []
    },
    {
      "cell_type": "markdown",
      "metadata": {
        "id": "etLx5aZXUi2y"
      },
      "source": [
        "#### Logistic Regression"
      ]
    },
    {
      "cell_type": "markdown",
      "metadata": {
        "id": "oBTP5GH9U246"
      },
      "source": [
        "Для перебора наилучших гиперпараметров логистической регрессии \"C\" и \"penalty\" вызываем метод GridSearchCV и подаём в него нужную нам модель и разброс перебираемых параметров. Уточняем метод оценки, в нашем случае выбираем $R^2$ и MAE (Mean absolute error)"
      ]
    },
    {
      "cell_type": "code",
      "metadata": {
        "colab": {
          "base_uri": "https://localhost:8080/"
        },
        "id": "dRW1UIlSz_R6",
        "outputId": "b37b1978-24a9-4007-8773-2475e6bda69a"
      },
      "source": [
        "warnings.filterwarnings(\"ignore\")\n",
        "Grid_LR = sklearn.model_selection.GridSearchCV(LogisticRegression(), \n",
        "                                               {'C': np.linspace(1,35,50, dtype = \"float64\"), 'penalty': ['l1', 'l2']}, \n",
        "                                               scoring = ['r2', 'neg_mean_absolute_error'], \n",
        "                                               cv = 5,\n",
        "                                               refit= False)\n",
        "Grid_LR.fit(X_train, y_train)"
      ],
      "execution_count": 64,
      "outputs": [
        {
          "output_type": "execute_result",
          "data": {
            "text/plain": [
              "GridSearchCV(cv=5, error_score=nan,\n",
              "             estimator=LogisticRegression(C=1.0, class_weight=None, dual=False,\n",
              "                                          fit_intercept=True,\n",
              "                                          intercept_scaling=1, l1_ratio=None,\n",
              "                                          max_iter=100, multi_class='auto',\n",
              "                                          n_jobs=None, penalty='l2',\n",
              "                                          random_state=None, solver='lbfgs',\n",
              "                                          tol=0.0001, verbose=0,\n",
              "                                          warm_start=False),\n",
              "             iid='deprecated', n_jobs=None,\n",
              "             param_grid={'C': array([ 1.        ,  1.69387755,  2.38...\n",
              "       21.81632653, 22.51020408, 23.20408163, 23.89795918, 24.59183673,\n",
              "       25.28571429, 25.97959184, 26.67346939, 27.36734694, 28.06122449,\n",
              "       28.75510204, 29.44897959, 30.14285714, 30.83673469, 31.53061224,\n",
              "       32.2244898 , 32.91836735, 33.6122449 , 34.30612245, 35.        ]),\n",
              "                         'penalty': ['l1', 'l2']},\n",
              "             pre_dispatch='2*n_jobs', refit=False, return_train_score=False,\n",
              "             scoring=['r2', 'neg_mean_absolute_error'], verbose=0)"
            ]
          },
          "metadata": {
            "tags": []
          },
          "execution_count": 64
        }
      ]
    },
    {
      "cell_type": "markdown",
      "metadata": {
        "id": "dpdRixBmba6K"
      },
      "source": [
        "Выводим список результатов для подобранных параметров"
      ]
    },
    {
      "cell_type": "code",
      "metadata": {
        "colab": {
          "base_uri": "https://localhost:8080/"
        },
        "id": "zLIQVdgu3H2d",
        "outputId": "c8439b3c-8019-4cba-f529-4da9d029fc3b"
      },
      "source": [
        "list(zip(Grid_LR.cv_results_['mean_test_r2'],\n",
        "         Grid_LR.cv_results_['mean_test_neg_mean_absolute_error'],\n",
        "         Grid_LR.cv_results_['params']))"
      ],
      "execution_count": 65,
      "outputs": [
        {
          "output_type": "execute_result",
          "data": {
            "text/plain": [
              "[(nan, nan, {'C': 1.0, 'penalty': 'l1'}),\n",
              " (0.0008790355641173697, -0.24977087952697707, {'C': 1.0, 'penalty': 'l2'}),\n",
              " (nan, nan, {'C': 1.693877551020408, 'penalty': 'l1'}),\n",
              " (0.0008790355641173697,\n",
              "  -0.24977087952697707,\n",
              "  {'C': 1.693877551020408, 'penalty': 'l2'}),\n",
              " (nan, nan, {'C': 2.387755102040816, 'penalty': 'l1'}),\n",
              " (0.0008790355641173697,\n",
              "  -0.24977087952697707,\n",
              "  {'C': 2.387755102040816, 'penalty': 'l2'}),\n",
              " (nan, nan, {'C': 3.0816326530612246, 'penalty': 'l1'}),\n",
              " (0.0008790355641173697,\n",
              "  -0.24977087952697707,\n",
              "  {'C': 3.0816326530612246, 'penalty': 'l2'}),\n",
              " (nan, nan, {'C': 3.7755102040816326, 'penalty': 'l1'}),\n",
              " (-0.003969627380343388,\n",
              "  -0.2509830007390983,\n",
              "  {'C': 3.7755102040816326, 'penalty': 'l2'}),\n",
              " (nan, nan, {'C': 4.469387755102041, 'penalty': 'l1'}),\n",
              " (0.0009084214001444213,\n",
              "  -0.24976348854397634,\n",
              "  {'C': 4.469387755102041, 'penalty': 'l2'}),\n",
              " (nan, nan, {'C': 5.163265306122449, 'penalty': 'l1'}),\n",
              " (0.0009084214001444213,\n",
              "  -0.24976348854397634,\n",
              "  {'C': 5.163265306122449, 'penalty': 'l2'}),\n",
              " (nan, nan, {'C': 5.857142857142857, 'penalty': 'l1'}),\n",
              " (0.0009084214001444213,\n",
              "  -0.24976348854397634,\n",
              "  {'C': 5.857142857142857, 'penalty': 'l2'}),\n",
              " (nan, nan, {'C': 6.551020408163265, 'penalty': 'l1'}),\n",
              " (0.0009084214001444213,\n",
              "  -0.24976348854397634,\n",
              "  {'C': 6.551020408163265, 'penalty': 'l2'}),\n",
              " (nan, nan, {'C': 7.244897959183674, 'penalty': 'l1'}),\n",
              " (0.0009084214001444213,\n",
              "  -0.24976348854397634,\n",
              "  {'C': 7.244897959183674, 'penalty': 'l2'}),\n",
              " (nan, nan, {'C': 7.938775510204081, 'penalty': 'l1'}),\n",
              " (0.0009084214001444213,\n",
              "  -0.24976348854397634,\n",
              "  {'C': 7.938775510204081, 'penalty': 'l2'}),\n",
              " (nan, nan, {'C': 8.63265306122449, 'penalty': 'l1'}),\n",
              " (0.0009084214001444213,\n",
              "  -0.24976348854397634,\n",
              "  {'C': 8.63265306122449, 'penalty': 'l2'}),\n",
              " (nan, nan, {'C': 9.326530612244898, 'penalty': 'l1'}),\n",
              " (0.0009084214001444213,\n",
              "  -0.24976348854397634,\n",
              "  {'C': 9.326530612244898, 'penalty': 'l2'}),\n",
              " (nan, nan, {'C': 10.020408163265307, 'penalty': 'l1'}),\n",
              " (0.0009084214001444213,\n",
              "  -0.24976348854397634,\n",
              "  {'C': 10.020408163265307, 'penalty': 'l2'}),\n",
              " (nan, nan, {'C': 10.714285714285714, 'penalty': 'l1'}),\n",
              " (0.0009084214001444213,\n",
              "  -0.24976348854397634,\n",
              "  {'C': 10.714285714285714, 'penalty': 'l2'}),\n",
              " (nan, nan, {'C': 11.408163265306122, 'penalty': 'l1'}),\n",
              " (0.0009084214001444213,\n",
              "  -0.24976348854397634,\n",
              "  {'C': 11.408163265306122, 'penalty': 'l2'}),\n",
              " (nan, nan, {'C': 12.10204081632653, 'penalty': 'l1'}),\n",
              " (0.0009084214001444213,\n",
              "  -0.24976348854397634,\n",
              "  {'C': 12.10204081632653, 'penalty': 'l2'}),\n",
              " (nan, nan, {'C': 12.795918367346939, 'penalty': 'l1'}),\n",
              " (0.0009084214001444213,\n",
              "  -0.24976348854397634,\n",
              "  {'C': 12.795918367346939, 'penalty': 'l2'}),\n",
              " (nan, nan, {'C': 13.489795918367347, 'penalty': 'l1'}),\n",
              " (0.0009084214001444213,\n",
              "  -0.24976348854397634,\n",
              "  {'C': 13.489795918367347, 'penalty': 'l2'}),\n",
              " (nan, nan, {'C': 14.183673469387754, 'penalty': 'l1'}),\n",
              " (0.0009084214001444213,\n",
              "  -0.24976348854397634,\n",
              "  {'C': 14.183673469387754, 'penalty': 'l2'}),\n",
              " (nan, nan, {'C': 14.877551020408163, 'penalty': 'l1'}),\n",
              " (0.0009084214001444213,\n",
              "  -0.24976348854397634,\n",
              "  {'C': 14.877551020408163, 'penalty': 'l2'}),\n",
              " (nan, nan, {'C': 15.571428571428571, 'penalty': 'l1'}),\n",
              " (0.0009084214001444213,\n",
              "  -0.24976348854397634,\n",
              "  {'C': 15.571428571428571, 'penalty': 'l2'}),\n",
              " (nan, nan, {'C': 16.26530612244898, 'penalty': 'l1'}),\n",
              " (0.0009084214001444213,\n",
              "  -0.24976348854397634,\n",
              "  {'C': 16.26530612244898, 'penalty': 'l2'}),\n",
              " (nan, nan, {'C': 16.95918367346939, 'penalty': 'l1'}),\n",
              " (0.0009084214001444213,\n",
              "  -0.24976348854397634,\n",
              "  {'C': 16.95918367346939, 'penalty': 'l2'}),\n",
              " (nan, nan, {'C': 17.653061224489797, 'penalty': 'l1'}),\n",
              " (0.0009084214001444213,\n",
              "  -0.24976348854397634,\n",
              "  {'C': 17.653061224489797, 'penalty': 'l2'}),\n",
              " (nan, nan, {'C': 18.346938775510203, 'penalty': 'l1'}),\n",
              " (0.0009084214001444213,\n",
              "  -0.24976348854397634,\n",
              "  {'C': 18.346938775510203, 'penalty': 'l2'}),\n",
              " (nan, nan, {'C': 19.040816326530614, 'penalty': 'l1'}),\n",
              " (0.0009084214001444213,\n",
              "  -0.24976348854397634,\n",
              "  {'C': 19.040816326530614, 'penalty': 'l2'}),\n",
              " (nan, nan, {'C': 19.73469387755102, 'penalty': 'l1'}),\n",
              " (0.0009084214001444213,\n",
              "  -0.24976348854397634,\n",
              "  {'C': 19.73469387755102, 'penalty': 'l2'}),\n",
              " (nan, nan, {'C': 20.428571428571427, 'penalty': 'l1'}),\n",
              " (0.0009084214001444213,\n",
              "  -0.24976348854397634,\n",
              "  {'C': 20.428571428571427, 'penalty': 'l2'}),\n",
              " (nan, nan, {'C': 21.122448979591837, 'penalty': 'l1'}),\n",
              " (0.0009084214001444213,\n",
              "  -0.24976348854397634,\n",
              "  {'C': 21.122448979591837, 'penalty': 'l2'}),\n",
              " (nan, nan, {'C': 21.816326530612244, 'penalty': 'l1'}),\n",
              " (0.0009084214001444213,\n",
              "  -0.24976348854397634,\n",
              "  {'C': 21.816326530612244, 'penalty': 'l2'}),\n",
              " (nan, nan, {'C': 22.510204081632654, 'penalty': 'l1'}),\n",
              " (0.0009084214001444213,\n",
              "  -0.24976348854397634,\n",
              "  {'C': 22.510204081632654, 'penalty': 'l2'}),\n",
              " (nan, nan, {'C': 23.20408163265306, 'penalty': 'l1'}),\n",
              " (0.0009084214001444213,\n",
              "  -0.24976348854397634,\n",
              "  {'C': 23.20408163265306, 'penalty': 'l2'}),\n",
              " (nan, nan, {'C': 23.897959183673468, 'penalty': 'l1'}),\n",
              " (0.0009084214001444213,\n",
              "  -0.24976348854397634,\n",
              "  {'C': 23.897959183673468, 'penalty': 'l2'}),\n",
              " (nan, nan, {'C': 24.591836734693878, 'penalty': 'l1'}),\n",
              " (0.0009084214001444213,\n",
              "  -0.24976348854397634,\n",
              "  {'C': 24.591836734693878, 'penalty': 'l2'}),\n",
              " (nan, nan, {'C': 25.285714285714285, 'penalty': 'l1'}),\n",
              " (0.0009084214001444213,\n",
              "  -0.24976348854397634,\n",
              "  {'C': 25.285714285714285, 'penalty': 'l2'}),\n",
              " (nan, nan, {'C': 25.979591836734695, 'penalty': 'l1'}),\n",
              " (0.0009084214001444213,\n",
              "  -0.24976348854397634,\n",
              "  {'C': 25.979591836734695, 'penalty': 'l2'}),\n",
              " (nan, nan, {'C': 26.6734693877551, 'penalty': 'l1'}),\n",
              " (0.0009084214001444213,\n",
              "  -0.24976348854397634,\n",
              "  {'C': 26.6734693877551, 'penalty': 'l2'}),\n",
              " (nan, nan, {'C': 27.36734693877551, 'penalty': 'l1'}),\n",
              " (0.0009084214001444213,\n",
              "  -0.24976348854397634,\n",
              "  {'C': 27.36734693877551, 'penalty': 'l2'}),\n",
              " (nan, nan, {'C': 28.06122448979592, 'penalty': 'l1'}),\n",
              " (0.0009084214001444213,\n",
              "  -0.24976348854397634,\n",
              "  {'C': 28.06122448979592, 'penalty': 'l2'}),\n",
              " (nan, nan, {'C': 28.755102040816325, 'penalty': 'l1'}),\n",
              " (0.0009084214001444213,\n",
              "  -0.24976348854397634,\n",
              "  {'C': 28.755102040816325, 'penalty': 'l2'}),\n",
              " (nan, nan, {'C': 29.448979591836736, 'penalty': 'l1'}),\n",
              " (0.0009084214001444213,\n",
              "  -0.24976348854397634,\n",
              "  {'C': 29.448979591836736, 'penalty': 'l2'}),\n",
              " (nan, nan, {'C': 30.142857142857142, 'penalty': 'l1'}),\n",
              " (0.0009084214001444213,\n",
              "  -0.24976348854397634,\n",
              "  {'C': 30.142857142857142, 'penalty': 'l2'}),\n",
              " (nan, nan, {'C': 30.83673469387755, 'penalty': 'l1'}),\n",
              " (0.0009084214001444213,\n",
              "  -0.24976348854397634,\n",
              "  {'C': 30.83673469387755, 'penalty': 'l2'}),\n",
              " (nan, nan, {'C': 31.53061224489796, 'penalty': 'l1'}),\n",
              " (0.0009084214001444213,\n",
              "  -0.24976348854397634,\n",
              "  {'C': 31.53061224489796, 'penalty': 'l2'}),\n",
              " (nan, nan, {'C': 32.224489795918366, 'penalty': 'l1'}),\n",
              " (0.0009084214001444213,\n",
              "  -0.24976348854397634,\n",
              "  {'C': 32.224489795918366, 'penalty': 'l2'}),\n",
              " (nan, nan, {'C': 32.91836734693878, 'penalty': 'l1'}),\n",
              " (0.0009084214001444213,\n",
              "  -0.24976348854397634,\n",
              "  {'C': 32.91836734693878, 'penalty': 'l2'}),\n",
              " (nan, nan, {'C': 33.61224489795919, 'penalty': 'l1'}),\n",
              " (0.0009084214001444213,\n",
              "  -0.24976348854397634,\n",
              "  {'C': 33.61224489795919, 'penalty': 'l2'}),\n",
              " (nan, nan, {'C': 34.30612244897959, 'penalty': 'l1'}),\n",
              " (0.0009084214001444213,\n",
              "  -0.24976348854397634,\n",
              "  {'C': 34.30612244897959, 'penalty': 'l2'}),\n",
              " (nan, nan, {'C': 35.0, 'penalty': 'l1'}),\n",
              " (0.0009084214001444213, -0.24976348854397634, {'C': 35.0, 'penalty': 'l2'})]"
            ]
          },
          "metadata": {
            "tags": []
          },
          "execution_count": 65
        }
      ]
    },
    {
      "cell_type": "markdown",
      "metadata": {
        "id": "ohWT1KwUbkDh"
      },
      "source": [
        "Из полученных результатов мы видим, что параметр \"penalty\" равный l1 не даёт нам оценки, соответственно, он нам не подходит. Изменения параметра \"C\" дало не очень заметные изменения. Но видно, что при увеличении этого параметра, метрики дают более высокий результат. Попробуем задать большое число этому параметру."
      ]
    },
    {
      "cell_type": "code",
      "metadata": {
        "colab": {
          "base_uri": "https://localhost:8080/"
        },
        "id": "i1UAEP9P85_h",
        "outputId": "31c3dcc8-7920-4a75-c8fa-2329b80b8085"
      },
      "source": [
        "log_r = LogisticRegression(C = 1000000.6476)\n",
        "log_r.fit(X_train, y_train)"
      ],
      "execution_count": 89,
      "outputs": [
        {
          "output_type": "execute_result",
          "data": {
            "text/plain": [
              "LogisticRegression(C=1000000.6476, class_weight=None, dual=False,\n",
              "                   fit_intercept=True, intercept_scaling=1, l1_ratio=None,\n",
              "                   max_iter=100, multi_class='auto', n_jobs=None, penalty='l2',\n",
              "                   random_state=None, solver='lbfgs', tol=0.0001, verbose=0,\n",
              "                   warm_start=False)"
            ]
          },
          "metadata": {
            "tags": []
          },
          "execution_count": 89
        }
      ]
    },
    {
      "cell_type": "markdown",
      "metadata": {
        "id": "DaDLzvbOkK6o"
      },
      "source": [
        "Получаем предсказания настроеной модели"
      ]
    },
    {
      "cell_type": "code",
      "metadata": {
        "id": "6YrhYwMxhzSH"
      },
      "source": [
        "log_r_predict = log_r.predict(X_test)"
      ],
      "execution_count": 90,
      "outputs": []
    },
    {
      "cell_type": "markdown",
      "metadata": {
        "id": "SADkI6_-kTgC"
      },
      "source": [
        "Оцениваем полученные предсказания по метрике $R^2$"
      ]
    },
    {
      "cell_type": "code",
      "metadata": {
        "colab": {
          "base_uri": "https://localhost:8080/"
        },
        "id": "UGXfrf2CyHR5",
        "outputId": "3279d9d5-84e3-490a-8602-6b7524119a4d"
      },
      "source": [
        "sklearn.metrics.r2_score(y_test, log_r_predict)"
      ],
      "execution_count": 91,
      "outputs": [
        {
          "output_type": "execute_result",
          "data": {
            "text/plain": [
              "0.006471259992386846"
            ]
          },
          "metadata": {
            "tags": []
          },
          "execution_count": 91
        }
      ]
    },
    {
      "cell_type": "markdown",
      "metadata": {
        "id": "Nt0obldMkanb"
      },
      "source": [
        "Смотрим на результат теперь уже на метрике MAE"
      ]
    },
    {
      "cell_type": "code",
      "metadata": {
        "colab": {
          "base_uri": "https://localhost:8080/"
        },
        "id": "GK_UTslpyV3I",
        "outputId": "f8359752-d21b-4141-976f-edd88b6567a5"
      },
      "source": [
        "sklearn.metrics.mean_absolute_error(y_test, log_r_predict)"
      ],
      "execution_count": 92,
      "outputs": [
        {
          "output_type": "execute_result",
          "data": {
            "text/plain": [
              "0.2482758620689655"
            ]
          },
          "metadata": {
            "tags": []
          },
          "execution_count": 92
        }
      ]
    }
  ]
}