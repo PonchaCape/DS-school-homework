{
  "nbformat": 4,
  "nbformat_minor": 0,
  "metadata": {
    "colab": {
      "name": "Большое ДЗ 2.ipynb",
      "provenance": [],
      "toc_visible": true,
      "authorship_tag": "ABX9TyPwGk25lFvi7N59Ikf3uYUK",
      "include_colab_link": true
    },
    "kernelspec": {
      "name": "python3",
      "display_name": "Python 3"
    }
  },
  "cells": [
    {
      "cell_type": "markdown",
      "metadata": {
        "id": "view-in-github",
        "colab_type": "text"
      },
      "source": [
        "<a href=\"https://colab.research.google.com/github/PonchaCape/DS-school-homework/blob/main/%D0%91%D0%BE%D0%BB%D1%8C%D1%88%D0%BE%D0%B5_%D0%94%D0%97_2.ipynb\" target=\"_parent\"><img src=\"https://colab.research.google.com/assets/colab-badge.svg\" alt=\"Open In Colab\"/></a>"
      ]
    },
    {
      "cell_type": "markdown",
      "metadata": {
        "id": "aWs-Nr1B84zY"
      },
      "source": [
        "В данном ноутбуке в качестве домашнего задания я буду решать задачу классификации, данные по которой представлены на сайте Kaggle по ссылке https://www.kaggle.com/sid321axn/thoraric-surgery\n",
        "\n",
        "В этой задаче необходимо определить, какой диагноз будет поставлен пациенту. Всего в наборе данных 8 классов - то есть 8 возможных диагнозов. Полное описание датасета можно найти на сайте по вышеуказанной ссылке."
      ]
    },
    {
      "cell_type": "markdown",
      "metadata": {
        "id": "ptQ2oOlWAVAO"
      },
      "source": [
        "##Подключение библиотек"
      ]
    },
    {
      "cell_type": "markdown",
      "metadata": {
        "id": "HfusfatwAfAc"
      },
      "source": [
        "Начнём с импорта необходимых для работы библиотек"
      ]
    },
    {
      "cell_type": "code",
      "metadata": {
        "id": "7TM_dJdiApPk"
      },
      "source": [
        "import numpy as np\n",
        "import pandas as pd\n",
        "import matplotlib.pyplot as plt\n",
        "import seaborn as sns\n",
        "import sklearn"
      ],
      "execution_count": 44,
      "outputs": []
    },
    {
      "cell_type": "markdown",
      "metadata": {
        "id": "RnYNZkSEAGG2"
      },
      "source": [
        "##Загрузка данных"
      ]
    },
    {
      "cell_type": "markdown",
      "metadata": {
        "id": "6ZdbiezkANOV"
      },
      "source": [
        "Загружаем наш датасет. Я поместил его в репозиторий Github, и использую pandas для чтения файла по ссылке"
      ]
    },
    {
      "cell_type": "code",
      "metadata": {
        "id": "IGBd6qnDAE8A"
      },
      "source": [
        "Raw_dataset = pd.read_csv(\"https://github.com/PonchaCape/DS-school-homework/raw/main/Big%20HW%202/ThoraricSurgery.csv\")"
      ],
      "execution_count": 45,
      "outputs": []
    },
    {
      "cell_type": "markdown",
      "metadata": {
        "id": "QvFYVvZ1Lwc9"
      },
      "source": [
        "Вывожу таблицу, взглянем на данные."
      ]
    },
    {
      "cell_type": "code",
      "metadata": {
        "colab": {
          "base_uri": "https://localhost:8080/",
          "height": 206
        },
        "id": "bAZjLS6-LMmM",
        "outputId": "7c946aad-fece-4432-8835-b31f80d63c7e"
      },
      "source": [
        "Raw_dataset.head()\n"
      ],
      "execution_count": 46,
      "outputs": [
        {
          "output_type": "execute_result",
          "data": {
            "text/html": [
              "<div>\n",
              "<style scoped>\n",
              "    .dataframe tbody tr th:only-of-type {\n",
              "        vertical-align: middle;\n",
              "    }\n",
              "\n",
              "    .dataframe tbody tr th {\n",
              "        vertical-align: top;\n",
              "    }\n",
              "\n",
              "    .dataframe thead th {\n",
              "        text-align: right;\n",
              "    }\n",
              "</style>\n",
              "<table border=\"1\" class=\"dataframe\">\n",
              "  <thead>\n",
              "    <tr style=\"text-align: right;\">\n",
              "      <th></th>\n",
              "      <th>id</th>\n",
              "      <th>DGN</th>\n",
              "      <th>PRE4</th>\n",
              "      <th>PRE5</th>\n",
              "      <th>PRE6</th>\n",
              "      <th>PRE7</th>\n",
              "      <th>PRE8</th>\n",
              "      <th>PRE9</th>\n",
              "      <th>PRE10</th>\n",
              "      <th>PRE11</th>\n",
              "      <th>PRE14</th>\n",
              "      <th>PRE17</th>\n",
              "      <th>PRE19</th>\n",
              "      <th>PRE25</th>\n",
              "      <th>PRE30</th>\n",
              "      <th>PRE32</th>\n",
              "      <th>AGE</th>\n",
              "      <th>Risk1Yr</th>\n",
              "    </tr>\n",
              "  </thead>\n",
              "  <tbody>\n",
              "    <tr>\n",
              "      <th>0</th>\n",
              "      <td>1</td>\n",
              "      <td>DGN2</td>\n",
              "      <td>2.88</td>\n",
              "      <td>2.16</td>\n",
              "      <td>PRZ1</td>\n",
              "      <td>F</td>\n",
              "      <td>F</td>\n",
              "      <td>F</td>\n",
              "      <td>T</td>\n",
              "      <td>T</td>\n",
              "      <td>OC14</td>\n",
              "      <td>F</td>\n",
              "      <td>F</td>\n",
              "      <td>F</td>\n",
              "      <td>T</td>\n",
              "      <td>F</td>\n",
              "      <td>60</td>\n",
              "      <td>F</td>\n",
              "    </tr>\n",
              "    <tr>\n",
              "      <th>1</th>\n",
              "      <td>2</td>\n",
              "      <td>DGN3</td>\n",
              "      <td>3.40</td>\n",
              "      <td>1.88</td>\n",
              "      <td>PRZ0</td>\n",
              "      <td>F</td>\n",
              "      <td>F</td>\n",
              "      <td>F</td>\n",
              "      <td>F</td>\n",
              "      <td>F</td>\n",
              "      <td>OC12</td>\n",
              "      <td>F</td>\n",
              "      <td>F</td>\n",
              "      <td>F</td>\n",
              "      <td>T</td>\n",
              "      <td>F</td>\n",
              "      <td>51</td>\n",
              "      <td>F</td>\n",
              "    </tr>\n",
              "    <tr>\n",
              "      <th>2</th>\n",
              "      <td>3</td>\n",
              "      <td>DGN3</td>\n",
              "      <td>2.76</td>\n",
              "      <td>2.08</td>\n",
              "      <td>PRZ1</td>\n",
              "      <td>F</td>\n",
              "      <td>F</td>\n",
              "      <td>F</td>\n",
              "      <td>T</td>\n",
              "      <td>F</td>\n",
              "      <td>OC11</td>\n",
              "      <td>F</td>\n",
              "      <td>F</td>\n",
              "      <td>F</td>\n",
              "      <td>T</td>\n",
              "      <td>F</td>\n",
              "      <td>59</td>\n",
              "      <td>F</td>\n",
              "    </tr>\n",
              "    <tr>\n",
              "      <th>3</th>\n",
              "      <td>4</td>\n",
              "      <td>DGN3</td>\n",
              "      <td>3.68</td>\n",
              "      <td>3.04</td>\n",
              "      <td>PRZ0</td>\n",
              "      <td>F</td>\n",
              "      <td>F</td>\n",
              "      <td>F</td>\n",
              "      <td>F</td>\n",
              "      <td>F</td>\n",
              "      <td>OC11</td>\n",
              "      <td>F</td>\n",
              "      <td>F</td>\n",
              "      <td>F</td>\n",
              "      <td>F</td>\n",
              "      <td>F</td>\n",
              "      <td>54</td>\n",
              "      <td>F</td>\n",
              "    </tr>\n",
              "    <tr>\n",
              "      <th>4</th>\n",
              "      <td>5</td>\n",
              "      <td>DGN3</td>\n",
              "      <td>2.44</td>\n",
              "      <td>0.96</td>\n",
              "      <td>PRZ2</td>\n",
              "      <td>F</td>\n",
              "      <td>T</td>\n",
              "      <td>F</td>\n",
              "      <td>T</td>\n",
              "      <td>T</td>\n",
              "      <td>OC11</td>\n",
              "      <td>F</td>\n",
              "      <td>F</td>\n",
              "      <td>F</td>\n",
              "      <td>T</td>\n",
              "      <td>F</td>\n",
              "      <td>73</td>\n",
              "      <td>T</td>\n",
              "    </tr>\n",
              "  </tbody>\n",
              "</table>\n",
              "</div>"
            ],
            "text/plain": [
              "   id   DGN  PRE4  PRE5  PRE6 PRE7  ... PRE19 PRE25 PRE30 PRE32 AGE Risk1Yr\n",
              "0   1  DGN2  2.88  2.16  PRZ1    F  ...     F     F     T     F  60       F\n",
              "1   2  DGN3  3.40  1.88  PRZ0    F  ...     F     F     T     F  51       F\n",
              "2   3  DGN3  2.76  2.08  PRZ1    F  ...     F     F     T     F  59       F\n",
              "3   4  DGN3  3.68  3.04  PRZ0    F  ...     F     F     F     F  54       F\n",
              "4   5  DGN3  2.44  0.96  PRZ2    F  ...     F     F     T     F  73       T\n",
              "\n",
              "[5 rows x 18 columns]"
            ]
          },
          "metadata": {
            "tags": []
          },
          "execution_count": 46
        }
      ]
    },
    {
      "cell_type": "markdown",
      "metadata": {
        "id": "A_6GMNzBRZqo"
      },
      "source": [
        "##Анализ и очистка данных"
      ]
    },
    {
      "cell_type": "markdown",
      "metadata": {
        "id": "CMOEQ8o_L7yO"
      },
      "source": [
        "Видим множество зашифрованных столбцов. По этим данным есть описание данных на английском языке.\n",
        "1. DGN: Diagnosis - specific combination of ICD-10 codes for primary and secondary as well multiple tumours if any (DGN3,DGN2,DGN4,DGN6,DGN5,DGN8,DGN1)\n",
        "2. PRE4: Forced vital capacity - FVC (numeric)\n",
        "3. PRE5: Volume that has been exhaled at the end of the first second of forced expiration - FEV1 (numeric)\n",
        "4. PRE6: Performance status - Zubrod scale (PRZ2,PRZ1,PRZ0)\n",
        "5. PRE7: Pain before surgery (T,F)\n",
        "6. PRE8: Haemoptysis before surgery (T,F)\n",
        "7. PRE9: Dyspnoea before surgery (T,F)\n",
        "8. PRE10: Cough before surgery (T,F)\n",
        "9. PRE11: Weakness before surgery (T,F)\n",
        "10. PRE14: T in clinical TNM - size of the original tumour, from OC11 (smallest) to OC14 (largest) (OC11,OC14,OC12,OC13)\n",
        "11. PRE17: Type 2 DM - diabetes mellitus (T,F)\n",
        "12. PRE19: MI up to 6 months (T,F)\n",
        "13. PRE25: PAD - peripheral arterial diseases (T,F)\n",
        "14. PRE30: Smoking (T,F)\n",
        "15. PRE32: Asthma (T,F)\n",
        "16. AGE: Age at surgery (numeric)\n",
        "17. Risk1Y: 1 year survival period - (T)rue value if died (T,F) "
      ]
    },
    {
      "cell_type": "markdown",
      "metadata": {
        "id": "NbioMrR5NMMw"
      },
      "source": [
        "Расшифруем названия столбцов для удобства анализа"
      ]
    },
    {
      "cell_type": "code",
      "metadata": {
        "colab": {
          "base_uri": "https://localhost:8080/",
          "height": 206
        },
        "id": "4iixeujbBgxi",
        "outputId": "ebce4a37-19b0-4687-c46a-a3a7b0b174b4"
      },
      "source": [
        "Raw_dataset.columns = ['id', \n",
        "                       'Diagnosis', \n",
        "                       'Forced_vital_capacity', \n",
        "                       'FEV1', \n",
        "                       'Performance_status', \n",
        "                       'Pain', \n",
        "                       'Haemoptysis',\n",
        "                       'Dyspnoea',\n",
        "                       'Cough',\n",
        "                       'Weakness',\n",
        "                       'Size_of_tumor',\n",
        "                       'diabetes_mellitus',\n",
        "                       'MI_to_6months',\n",
        "                       'PAD',\n",
        "                       'Smoking',\n",
        "                       'Asthma',\n",
        "                       'Age',\n",
        "                       'Risk1Y']\n",
        "Raw_dataset.head()"
      ],
      "execution_count": 47,
      "outputs": [
        {
          "output_type": "execute_result",
          "data": {
            "text/html": [
              "<div>\n",
              "<style scoped>\n",
              "    .dataframe tbody tr th:only-of-type {\n",
              "        vertical-align: middle;\n",
              "    }\n",
              "\n",
              "    .dataframe tbody tr th {\n",
              "        vertical-align: top;\n",
              "    }\n",
              "\n",
              "    .dataframe thead th {\n",
              "        text-align: right;\n",
              "    }\n",
              "</style>\n",
              "<table border=\"1\" class=\"dataframe\">\n",
              "  <thead>\n",
              "    <tr style=\"text-align: right;\">\n",
              "      <th></th>\n",
              "      <th>id</th>\n",
              "      <th>Diagnosis</th>\n",
              "      <th>Forced_vital_capacity</th>\n",
              "      <th>FEV1</th>\n",
              "      <th>Performance_status</th>\n",
              "      <th>Pain</th>\n",
              "      <th>Haemoptysis</th>\n",
              "      <th>Dyspnoea</th>\n",
              "      <th>Cough</th>\n",
              "      <th>Weakness</th>\n",
              "      <th>Size_of_tumor</th>\n",
              "      <th>diabetes_mellitus</th>\n",
              "      <th>MI_to_6months</th>\n",
              "      <th>PAD</th>\n",
              "      <th>Smoking</th>\n",
              "      <th>Asthma</th>\n",
              "      <th>Age</th>\n",
              "      <th>Risk1Y</th>\n",
              "    </tr>\n",
              "  </thead>\n",
              "  <tbody>\n",
              "    <tr>\n",
              "      <th>0</th>\n",
              "      <td>1</td>\n",
              "      <td>DGN2</td>\n",
              "      <td>2.88</td>\n",
              "      <td>2.16</td>\n",
              "      <td>PRZ1</td>\n",
              "      <td>F</td>\n",
              "      <td>F</td>\n",
              "      <td>F</td>\n",
              "      <td>T</td>\n",
              "      <td>T</td>\n",
              "      <td>OC14</td>\n",
              "      <td>F</td>\n",
              "      <td>F</td>\n",
              "      <td>F</td>\n",
              "      <td>T</td>\n",
              "      <td>F</td>\n",
              "      <td>60</td>\n",
              "      <td>F</td>\n",
              "    </tr>\n",
              "    <tr>\n",
              "      <th>1</th>\n",
              "      <td>2</td>\n",
              "      <td>DGN3</td>\n",
              "      <td>3.40</td>\n",
              "      <td>1.88</td>\n",
              "      <td>PRZ0</td>\n",
              "      <td>F</td>\n",
              "      <td>F</td>\n",
              "      <td>F</td>\n",
              "      <td>F</td>\n",
              "      <td>F</td>\n",
              "      <td>OC12</td>\n",
              "      <td>F</td>\n",
              "      <td>F</td>\n",
              "      <td>F</td>\n",
              "      <td>T</td>\n",
              "      <td>F</td>\n",
              "      <td>51</td>\n",
              "      <td>F</td>\n",
              "    </tr>\n",
              "    <tr>\n",
              "      <th>2</th>\n",
              "      <td>3</td>\n",
              "      <td>DGN3</td>\n",
              "      <td>2.76</td>\n",
              "      <td>2.08</td>\n",
              "      <td>PRZ1</td>\n",
              "      <td>F</td>\n",
              "      <td>F</td>\n",
              "      <td>F</td>\n",
              "      <td>T</td>\n",
              "      <td>F</td>\n",
              "      <td>OC11</td>\n",
              "      <td>F</td>\n",
              "      <td>F</td>\n",
              "      <td>F</td>\n",
              "      <td>T</td>\n",
              "      <td>F</td>\n",
              "      <td>59</td>\n",
              "      <td>F</td>\n",
              "    </tr>\n",
              "    <tr>\n",
              "      <th>3</th>\n",
              "      <td>4</td>\n",
              "      <td>DGN3</td>\n",
              "      <td>3.68</td>\n",
              "      <td>3.04</td>\n",
              "      <td>PRZ0</td>\n",
              "      <td>F</td>\n",
              "      <td>F</td>\n",
              "      <td>F</td>\n",
              "      <td>F</td>\n",
              "      <td>F</td>\n",
              "      <td>OC11</td>\n",
              "      <td>F</td>\n",
              "      <td>F</td>\n",
              "      <td>F</td>\n",
              "      <td>F</td>\n",
              "      <td>F</td>\n",
              "      <td>54</td>\n",
              "      <td>F</td>\n",
              "    </tr>\n",
              "    <tr>\n",
              "      <th>4</th>\n",
              "      <td>5</td>\n",
              "      <td>DGN3</td>\n",
              "      <td>2.44</td>\n",
              "      <td>0.96</td>\n",
              "      <td>PRZ2</td>\n",
              "      <td>F</td>\n",
              "      <td>T</td>\n",
              "      <td>F</td>\n",
              "      <td>T</td>\n",
              "      <td>T</td>\n",
              "      <td>OC11</td>\n",
              "      <td>F</td>\n",
              "      <td>F</td>\n",
              "      <td>F</td>\n",
              "      <td>T</td>\n",
              "      <td>F</td>\n",
              "      <td>73</td>\n",
              "      <td>T</td>\n",
              "    </tr>\n",
              "  </tbody>\n",
              "</table>\n",
              "</div>"
            ],
            "text/plain": [
              "   id Diagnosis  Forced_vital_capacity  FEV1  ... Smoking Asthma Age Risk1Y\n",
              "0   1      DGN2                   2.88  2.16  ...       T      F  60      F\n",
              "1   2      DGN3                   3.40  1.88  ...       T      F  51      F\n",
              "2   3      DGN3                   2.76  2.08  ...       T      F  59      F\n",
              "3   4      DGN3                   3.68  3.04  ...       F      F  54      F\n",
              "4   5      DGN3                   2.44  0.96  ...       T      F  73      T\n",
              "\n",
              "[5 rows x 18 columns]"
            ]
          },
          "metadata": {
            "tags": []
          },
          "execution_count": 47
        }
      ]
    },
    {
      "cell_type": "markdown",
      "metadata": {
        "id": "C3i4dgIgmZx0"
      },
      "source": [
        "Сразу же бросается в глаза, что большую часть данных составляют категориальные данные. В частности, все значения T,F (True,False) - столбцы, обозначающие был ли признак в названии столбца у пациента перед операцией или его не наблюдалось. Целевая переменная тоже содержит категориальные значения. Все значения T и F мы переведём в числовые - 1 и 0 соответственно."
      ]
    },
    {
      "cell_type": "code",
      "metadata": {
        "colab": {
          "base_uri": "https://localhost:8080/",
          "height": 206
        },
        "id": "GHkQqESw0Nsg",
        "outputId": "5b24884a-a612-400b-c36f-856de53b34ff"
      },
      "source": [
        "Dataset = Raw_dataset.replace({'F':0, 'T':1})\n",
        "Dataset.head()"
      ],
      "execution_count": 48,
      "outputs": [
        {
          "output_type": "execute_result",
          "data": {
            "text/html": [
              "<div>\n",
              "<style scoped>\n",
              "    .dataframe tbody tr th:only-of-type {\n",
              "        vertical-align: middle;\n",
              "    }\n",
              "\n",
              "    .dataframe tbody tr th {\n",
              "        vertical-align: top;\n",
              "    }\n",
              "\n",
              "    .dataframe thead th {\n",
              "        text-align: right;\n",
              "    }\n",
              "</style>\n",
              "<table border=\"1\" class=\"dataframe\">\n",
              "  <thead>\n",
              "    <tr style=\"text-align: right;\">\n",
              "      <th></th>\n",
              "      <th>id</th>\n",
              "      <th>Diagnosis</th>\n",
              "      <th>Forced_vital_capacity</th>\n",
              "      <th>FEV1</th>\n",
              "      <th>Performance_status</th>\n",
              "      <th>Pain</th>\n",
              "      <th>Haemoptysis</th>\n",
              "      <th>Dyspnoea</th>\n",
              "      <th>Cough</th>\n",
              "      <th>Weakness</th>\n",
              "      <th>Size_of_tumor</th>\n",
              "      <th>diabetes_mellitus</th>\n",
              "      <th>MI_to_6months</th>\n",
              "      <th>PAD</th>\n",
              "      <th>Smoking</th>\n",
              "      <th>Asthma</th>\n",
              "      <th>Age</th>\n",
              "      <th>Risk1Y</th>\n",
              "    </tr>\n",
              "  </thead>\n",
              "  <tbody>\n",
              "    <tr>\n",
              "      <th>0</th>\n",
              "      <td>1</td>\n",
              "      <td>DGN2</td>\n",
              "      <td>2.88</td>\n",
              "      <td>2.16</td>\n",
              "      <td>PRZ1</td>\n",
              "      <td>0</td>\n",
              "      <td>0</td>\n",
              "      <td>0</td>\n",
              "      <td>1</td>\n",
              "      <td>1</td>\n",
              "      <td>OC14</td>\n",
              "      <td>0</td>\n",
              "      <td>0</td>\n",
              "      <td>0</td>\n",
              "      <td>1</td>\n",
              "      <td>0</td>\n",
              "      <td>60</td>\n",
              "      <td>0</td>\n",
              "    </tr>\n",
              "    <tr>\n",
              "      <th>1</th>\n",
              "      <td>2</td>\n",
              "      <td>DGN3</td>\n",
              "      <td>3.40</td>\n",
              "      <td>1.88</td>\n",
              "      <td>PRZ0</td>\n",
              "      <td>0</td>\n",
              "      <td>0</td>\n",
              "      <td>0</td>\n",
              "      <td>0</td>\n",
              "      <td>0</td>\n",
              "      <td>OC12</td>\n",
              "      <td>0</td>\n",
              "      <td>0</td>\n",
              "      <td>0</td>\n",
              "      <td>1</td>\n",
              "      <td>0</td>\n",
              "      <td>51</td>\n",
              "      <td>0</td>\n",
              "    </tr>\n",
              "    <tr>\n",
              "      <th>2</th>\n",
              "      <td>3</td>\n",
              "      <td>DGN3</td>\n",
              "      <td>2.76</td>\n",
              "      <td>2.08</td>\n",
              "      <td>PRZ1</td>\n",
              "      <td>0</td>\n",
              "      <td>0</td>\n",
              "      <td>0</td>\n",
              "      <td>1</td>\n",
              "      <td>0</td>\n",
              "      <td>OC11</td>\n",
              "      <td>0</td>\n",
              "      <td>0</td>\n",
              "      <td>0</td>\n",
              "      <td>1</td>\n",
              "      <td>0</td>\n",
              "      <td>59</td>\n",
              "      <td>0</td>\n",
              "    </tr>\n",
              "    <tr>\n",
              "      <th>3</th>\n",
              "      <td>4</td>\n",
              "      <td>DGN3</td>\n",
              "      <td>3.68</td>\n",
              "      <td>3.04</td>\n",
              "      <td>PRZ0</td>\n",
              "      <td>0</td>\n",
              "      <td>0</td>\n",
              "      <td>0</td>\n",
              "      <td>0</td>\n",
              "      <td>0</td>\n",
              "      <td>OC11</td>\n",
              "      <td>0</td>\n",
              "      <td>0</td>\n",
              "      <td>0</td>\n",
              "      <td>0</td>\n",
              "      <td>0</td>\n",
              "      <td>54</td>\n",
              "      <td>0</td>\n",
              "    </tr>\n",
              "    <tr>\n",
              "      <th>4</th>\n",
              "      <td>5</td>\n",
              "      <td>DGN3</td>\n",
              "      <td>2.44</td>\n",
              "      <td>0.96</td>\n",
              "      <td>PRZ2</td>\n",
              "      <td>0</td>\n",
              "      <td>1</td>\n",
              "      <td>0</td>\n",
              "      <td>1</td>\n",
              "      <td>1</td>\n",
              "      <td>OC11</td>\n",
              "      <td>0</td>\n",
              "      <td>0</td>\n",
              "      <td>0</td>\n",
              "      <td>1</td>\n",
              "      <td>0</td>\n",
              "      <td>73</td>\n",
              "      <td>1</td>\n",
              "    </tr>\n",
              "  </tbody>\n",
              "</table>\n",
              "</div>"
            ],
            "text/plain": [
              "   id Diagnosis  Forced_vital_capacity  FEV1  ... Smoking  Asthma  Age  Risk1Y\n",
              "0   1      DGN2                   2.88  2.16  ...       1       0   60       0\n",
              "1   2      DGN3                   3.40  1.88  ...       1       0   51       0\n",
              "2   3      DGN3                   2.76  2.08  ...       1       0   59       0\n",
              "3   4      DGN3                   3.68  3.04  ...       0       0   54       0\n",
              "4   5      DGN3                   2.44  0.96  ...       1       0   73       1\n",
              "\n",
              "[5 rows x 18 columns]"
            ]
          },
          "metadata": {
            "tags": []
          },
          "execution_count": 48
        }
      ]
    },
    {
      "cell_type": "markdown",
      "metadata": {
        "id": "Vhgwm4191hSR"
      },
      "source": [
        "Посмотрим теперь на статистику по датасету"
      ]
    },
    {
      "cell_type": "code",
      "metadata": {
        "colab": {
          "base_uri": "https://localhost:8080/",
          "height": 300
        },
        "id": "olO5-6Ze1uAX",
        "outputId": "e63c3cdf-d993-4e32-d836-e73aba252405"
      },
      "source": [
        "Dataset.describe()"
      ],
      "execution_count": 49,
      "outputs": [
        {
          "output_type": "execute_result",
          "data": {
            "text/html": [
              "<div>\n",
              "<style scoped>\n",
              "    .dataframe tbody tr th:only-of-type {\n",
              "        vertical-align: middle;\n",
              "    }\n",
              "\n",
              "    .dataframe tbody tr th {\n",
              "        vertical-align: top;\n",
              "    }\n",
              "\n",
              "    .dataframe thead th {\n",
              "        text-align: right;\n",
              "    }\n",
              "</style>\n",
              "<table border=\"1\" class=\"dataframe\">\n",
              "  <thead>\n",
              "    <tr style=\"text-align: right;\">\n",
              "      <th></th>\n",
              "      <th>id</th>\n",
              "      <th>Forced_vital_capacity</th>\n",
              "      <th>FEV1</th>\n",
              "      <th>Pain</th>\n",
              "      <th>Haemoptysis</th>\n",
              "      <th>Dyspnoea</th>\n",
              "      <th>Cough</th>\n",
              "      <th>Weakness</th>\n",
              "      <th>diabetes_mellitus</th>\n",
              "      <th>MI_to_6months</th>\n",
              "      <th>PAD</th>\n",
              "      <th>Smoking</th>\n",
              "      <th>Asthma</th>\n",
              "      <th>Age</th>\n",
              "      <th>Risk1Y</th>\n",
              "    </tr>\n",
              "  </thead>\n",
              "  <tbody>\n",
              "    <tr>\n",
              "      <th>count</th>\n",
              "      <td>470.000000</td>\n",
              "      <td>470.000000</td>\n",
              "      <td>470.000000</td>\n",
              "      <td>470.000000</td>\n",
              "      <td>470.000000</td>\n",
              "      <td>470.000000</td>\n",
              "      <td>470.000000</td>\n",
              "      <td>470.000000</td>\n",
              "      <td>470.000000</td>\n",
              "      <td>470.000000</td>\n",
              "      <td>470.000000</td>\n",
              "      <td>470.000000</td>\n",
              "      <td>470.000000</td>\n",
              "      <td>470.000000</td>\n",
              "      <td>470.000000</td>\n",
              "    </tr>\n",
              "    <tr>\n",
              "      <th>mean</th>\n",
              "      <td>235.500000</td>\n",
              "      <td>3.281638</td>\n",
              "      <td>4.568702</td>\n",
              "      <td>0.065957</td>\n",
              "      <td>0.144681</td>\n",
              "      <td>0.065957</td>\n",
              "      <td>0.687234</td>\n",
              "      <td>0.165957</td>\n",
              "      <td>0.074468</td>\n",
              "      <td>0.004255</td>\n",
              "      <td>0.017021</td>\n",
              "      <td>0.821277</td>\n",
              "      <td>0.004255</td>\n",
              "      <td>62.534043</td>\n",
              "      <td>0.148936</td>\n",
              "    </tr>\n",
              "    <tr>\n",
              "      <th>std</th>\n",
              "      <td>135.821574</td>\n",
              "      <td>0.871395</td>\n",
              "      <td>11.767857</td>\n",
              "      <td>0.248472</td>\n",
              "      <td>0.352154</td>\n",
              "      <td>0.248472</td>\n",
              "      <td>0.464114</td>\n",
              "      <td>0.372439</td>\n",
              "      <td>0.262811</td>\n",
              "      <td>0.065163</td>\n",
              "      <td>0.129488</td>\n",
              "      <td>0.383529</td>\n",
              "      <td>0.065163</td>\n",
              "      <td>8.706902</td>\n",
              "      <td>0.356405</td>\n",
              "    </tr>\n",
              "    <tr>\n",
              "      <th>min</th>\n",
              "      <td>1.000000</td>\n",
              "      <td>1.440000</td>\n",
              "      <td>0.960000</td>\n",
              "      <td>0.000000</td>\n",
              "      <td>0.000000</td>\n",
              "      <td>0.000000</td>\n",
              "      <td>0.000000</td>\n",
              "      <td>0.000000</td>\n",
              "      <td>0.000000</td>\n",
              "      <td>0.000000</td>\n",
              "      <td>0.000000</td>\n",
              "      <td>0.000000</td>\n",
              "      <td>0.000000</td>\n",
              "      <td>21.000000</td>\n",
              "      <td>0.000000</td>\n",
              "    </tr>\n",
              "    <tr>\n",
              "      <th>25%</th>\n",
              "      <td>118.250000</td>\n",
              "      <td>2.600000</td>\n",
              "      <td>1.960000</td>\n",
              "      <td>0.000000</td>\n",
              "      <td>0.000000</td>\n",
              "      <td>0.000000</td>\n",
              "      <td>0.000000</td>\n",
              "      <td>0.000000</td>\n",
              "      <td>0.000000</td>\n",
              "      <td>0.000000</td>\n",
              "      <td>0.000000</td>\n",
              "      <td>1.000000</td>\n",
              "      <td>0.000000</td>\n",
              "      <td>57.000000</td>\n",
              "      <td>0.000000</td>\n",
              "    </tr>\n",
              "    <tr>\n",
              "      <th>50%</th>\n",
              "      <td>235.500000</td>\n",
              "      <td>3.160000</td>\n",
              "      <td>2.400000</td>\n",
              "      <td>0.000000</td>\n",
              "      <td>0.000000</td>\n",
              "      <td>0.000000</td>\n",
              "      <td>1.000000</td>\n",
              "      <td>0.000000</td>\n",
              "      <td>0.000000</td>\n",
              "      <td>0.000000</td>\n",
              "      <td>0.000000</td>\n",
              "      <td>1.000000</td>\n",
              "      <td>0.000000</td>\n",
              "      <td>62.000000</td>\n",
              "      <td>0.000000</td>\n",
              "    </tr>\n",
              "    <tr>\n",
              "      <th>75%</th>\n",
              "      <td>352.750000</td>\n",
              "      <td>3.807500</td>\n",
              "      <td>3.080000</td>\n",
              "      <td>0.000000</td>\n",
              "      <td>0.000000</td>\n",
              "      <td>0.000000</td>\n",
              "      <td>1.000000</td>\n",
              "      <td>0.000000</td>\n",
              "      <td>0.000000</td>\n",
              "      <td>0.000000</td>\n",
              "      <td>0.000000</td>\n",
              "      <td>1.000000</td>\n",
              "      <td>0.000000</td>\n",
              "      <td>69.000000</td>\n",
              "      <td>0.000000</td>\n",
              "    </tr>\n",
              "    <tr>\n",
              "      <th>max</th>\n",
              "      <td>470.000000</td>\n",
              "      <td>6.300000</td>\n",
              "      <td>86.300000</td>\n",
              "      <td>1.000000</td>\n",
              "      <td>1.000000</td>\n",
              "      <td>1.000000</td>\n",
              "      <td>1.000000</td>\n",
              "      <td>1.000000</td>\n",
              "      <td>1.000000</td>\n",
              "      <td>1.000000</td>\n",
              "      <td>1.000000</td>\n",
              "      <td>1.000000</td>\n",
              "      <td>1.000000</td>\n",
              "      <td>87.000000</td>\n",
              "      <td>1.000000</td>\n",
              "    </tr>\n",
              "  </tbody>\n",
              "</table>\n",
              "</div>"
            ],
            "text/plain": [
              "               id  Forced_vital_capacity  ...         Age      Risk1Y\n",
              "count  470.000000             470.000000  ...  470.000000  470.000000\n",
              "mean   235.500000               3.281638  ...   62.534043    0.148936\n",
              "std    135.821574               0.871395  ...    8.706902    0.356405\n",
              "min      1.000000               1.440000  ...   21.000000    0.000000\n",
              "25%    118.250000               2.600000  ...   57.000000    0.000000\n",
              "50%    235.500000               3.160000  ...   62.000000    0.000000\n",
              "75%    352.750000               3.807500  ...   69.000000    0.000000\n",
              "max    470.000000               6.300000  ...   87.000000    1.000000\n",
              "\n",
              "[8 rows x 15 columns]"
            ]
          },
          "metadata": {
            "tags": []
          },
          "execution_count": 49
        }
      ]
    },
    {
      "cell_type": "markdown",
      "metadata": {
        "id": "Pyu1u1qV4EV3"
      },
      "source": [
        "Несколько обобщений, которые даёт нам эта статистика:\n",
        "\n",
        "Разобраны данные по 470 пациентам, возраст которых варьируется от 21 до 87 лет, при этом подавляющая часть старше 50 лет. \n",
        "\n",
        "Пациентов с астмой незначительное количество, как и пациентов с заболеванием периферических артерий (PAD). Что касается риска смерти - менее 15% пациентов погибли в течении года после операции (Risk1Y).\n",
        "\n",
        "Достаточно высокий процент курящих пациентов. Приблизительно у 2/3 всех пациентов был кашель перед операцией (cough)."
      ]
    },
    {
      "cell_type": "markdown",
      "metadata": {
        "id": "Sdz4bgvt_TJX"
      },
      "source": [
        "Теперь взглянем на наличие пропусков в данных и на типы данных в столбцах."
      ]
    },
    {
      "cell_type": "code",
      "metadata": {
        "colab": {
          "base_uri": "https://localhost:8080/"
        },
        "id": "i1bUnWyu977O",
        "outputId": "19caa049-14f6-4632-f5cc-8421169e1875"
      },
      "source": [
        "Dataset.info()"
      ],
      "execution_count": 50,
      "outputs": [
        {
          "output_type": "stream",
          "text": [
            "<class 'pandas.core.frame.DataFrame'>\n",
            "RangeIndex: 470 entries, 0 to 469\n",
            "Data columns (total 18 columns):\n",
            " #   Column                 Non-Null Count  Dtype  \n",
            "---  ------                 --------------  -----  \n",
            " 0   id                     470 non-null    int64  \n",
            " 1   Diagnosis              470 non-null    object \n",
            " 2   Forced_vital_capacity  470 non-null    float64\n",
            " 3   FEV1                   470 non-null    float64\n",
            " 4   Performance_status     470 non-null    object \n",
            " 5   Pain                   470 non-null    int64  \n",
            " 6   Haemoptysis            470 non-null    int64  \n",
            " 7   Dyspnoea               470 non-null    int64  \n",
            " 8   Cough                  470 non-null    int64  \n",
            " 9   Weakness               470 non-null    int64  \n",
            " 10  Size_of_tumor          470 non-null    object \n",
            " 11  diabetes_mellitus      470 non-null    int64  \n",
            " 12  MI_to_6months          470 non-null    int64  \n",
            " 13  PAD                    470 non-null    int64  \n",
            " 14  Smoking                470 non-null    int64  \n",
            " 15  Asthma                 470 non-null    int64  \n",
            " 16  Age                    470 non-null    int64  \n",
            " 17  Risk1Y                 470 non-null    int64  \n",
            "dtypes: float64(2), int64(13), object(3)\n",
            "memory usage: 66.2+ KB\n"
          ],
          "name": "stdout"
        }
      ]
    },
    {
      "cell_type": "markdown",
      "metadata": {
        "id": "YcIebF--_zL1"
      },
      "source": [
        "Пропусков нет. \n",
        "\n",
        "У нас осталось 3 столбца (Целевой столбец Diagnosis, Performance_status, Size_of_tumor) с категориальными данными. Мы преобразуем их в численные, используя метод библиотеки sklearn LabelEncoder.\n",
        "\n",
        "Столбец id содержит уникальные значения. Так как он очевидно бесполезен для обучения нашей модели, мы его удалим."
      ]
    },
    {
      "cell_type": "code",
      "metadata": {
        "id": "J54eZon0MWbb"
      },
      "source": [
        "Dataset = Dataset.drop(columns='id')"
      ],
      "execution_count": 51,
      "outputs": []
    },
    {
      "cell_type": "code",
      "metadata": {
        "colab": {
          "base_uri": "https://localhost:8080/",
          "height": 206
        },
        "id": "IodgEep0OE4X",
        "outputId": "3aedc09a-218a-45b1-b629-272ef5ec463a"
      },
      "source": [
        "from sklearn.preprocessing import LabelEncoder\n",
        "for categorical_column in ['Diagnosis', 'Performance_status', 'Size_of_tumor']:\n",
        "  Dataset[categorical_column] = LabelEncoder().fit_transform(Dataset[categorical_column])\n",
        "Dataset.head()"
      ],
      "execution_count": 52,
      "outputs": [
        {
          "output_type": "execute_result",
          "data": {
            "text/html": [
              "<div>\n",
              "<style scoped>\n",
              "    .dataframe tbody tr th:only-of-type {\n",
              "        vertical-align: middle;\n",
              "    }\n",
              "\n",
              "    .dataframe tbody tr th {\n",
              "        vertical-align: top;\n",
              "    }\n",
              "\n",
              "    .dataframe thead th {\n",
              "        text-align: right;\n",
              "    }\n",
              "</style>\n",
              "<table border=\"1\" class=\"dataframe\">\n",
              "  <thead>\n",
              "    <tr style=\"text-align: right;\">\n",
              "      <th></th>\n",
              "      <th>Diagnosis</th>\n",
              "      <th>Forced_vital_capacity</th>\n",
              "      <th>FEV1</th>\n",
              "      <th>Performance_status</th>\n",
              "      <th>Pain</th>\n",
              "      <th>Haemoptysis</th>\n",
              "      <th>Dyspnoea</th>\n",
              "      <th>Cough</th>\n",
              "      <th>Weakness</th>\n",
              "      <th>Size_of_tumor</th>\n",
              "      <th>diabetes_mellitus</th>\n",
              "      <th>MI_to_6months</th>\n",
              "      <th>PAD</th>\n",
              "      <th>Smoking</th>\n",
              "      <th>Asthma</th>\n",
              "      <th>Age</th>\n",
              "      <th>Risk1Y</th>\n",
              "    </tr>\n",
              "  </thead>\n",
              "  <tbody>\n",
              "    <tr>\n",
              "      <th>0</th>\n",
              "      <td>1</td>\n",
              "      <td>2.88</td>\n",
              "      <td>2.16</td>\n",
              "      <td>1</td>\n",
              "      <td>0</td>\n",
              "      <td>0</td>\n",
              "      <td>0</td>\n",
              "      <td>1</td>\n",
              "      <td>1</td>\n",
              "      <td>3</td>\n",
              "      <td>0</td>\n",
              "      <td>0</td>\n",
              "      <td>0</td>\n",
              "      <td>1</td>\n",
              "      <td>0</td>\n",
              "      <td>60</td>\n",
              "      <td>0</td>\n",
              "    </tr>\n",
              "    <tr>\n",
              "      <th>1</th>\n",
              "      <td>2</td>\n",
              "      <td>3.40</td>\n",
              "      <td>1.88</td>\n",
              "      <td>0</td>\n",
              "      <td>0</td>\n",
              "      <td>0</td>\n",
              "      <td>0</td>\n",
              "      <td>0</td>\n",
              "      <td>0</td>\n",
              "      <td>1</td>\n",
              "      <td>0</td>\n",
              "      <td>0</td>\n",
              "      <td>0</td>\n",
              "      <td>1</td>\n",
              "      <td>0</td>\n",
              "      <td>51</td>\n",
              "      <td>0</td>\n",
              "    </tr>\n",
              "    <tr>\n",
              "      <th>2</th>\n",
              "      <td>2</td>\n",
              "      <td>2.76</td>\n",
              "      <td>2.08</td>\n",
              "      <td>1</td>\n",
              "      <td>0</td>\n",
              "      <td>0</td>\n",
              "      <td>0</td>\n",
              "      <td>1</td>\n",
              "      <td>0</td>\n",
              "      <td>0</td>\n",
              "      <td>0</td>\n",
              "      <td>0</td>\n",
              "      <td>0</td>\n",
              "      <td>1</td>\n",
              "      <td>0</td>\n",
              "      <td>59</td>\n",
              "      <td>0</td>\n",
              "    </tr>\n",
              "    <tr>\n",
              "      <th>3</th>\n",
              "      <td>2</td>\n",
              "      <td>3.68</td>\n",
              "      <td>3.04</td>\n",
              "      <td>0</td>\n",
              "      <td>0</td>\n",
              "      <td>0</td>\n",
              "      <td>0</td>\n",
              "      <td>0</td>\n",
              "      <td>0</td>\n",
              "      <td>0</td>\n",
              "      <td>0</td>\n",
              "      <td>0</td>\n",
              "      <td>0</td>\n",
              "      <td>0</td>\n",
              "      <td>0</td>\n",
              "      <td>54</td>\n",
              "      <td>0</td>\n",
              "    </tr>\n",
              "    <tr>\n",
              "      <th>4</th>\n",
              "      <td>2</td>\n",
              "      <td>2.44</td>\n",
              "      <td>0.96</td>\n",
              "      <td>2</td>\n",
              "      <td>0</td>\n",
              "      <td>1</td>\n",
              "      <td>0</td>\n",
              "      <td>1</td>\n",
              "      <td>1</td>\n",
              "      <td>0</td>\n",
              "      <td>0</td>\n",
              "      <td>0</td>\n",
              "      <td>0</td>\n",
              "      <td>1</td>\n",
              "      <td>0</td>\n",
              "      <td>73</td>\n",
              "      <td>1</td>\n",
              "    </tr>\n",
              "  </tbody>\n",
              "</table>\n",
              "</div>"
            ],
            "text/plain": [
              "   Diagnosis  Forced_vital_capacity  FEV1  ...  Asthma  Age  Risk1Y\n",
              "0          1                   2.88  2.16  ...       0   60       0\n",
              "1          2                   3.40  1.88  ...       0   51       0\n",
              "2          2                   2.76  2.08  ...       0   59       0\n",
              "3          2                   3.68  3.04  ...       0   54       0\n",
              "4          2                   2.44  0.96  ...       0   73       1\n",
              "\n",
              "[5 rows x 17 columns]"
            ]
          },
          "metadata": {
            "tags": []
          },
          "execution_count": 52
        }
      ]
    },
    {
      "cell_type": "markdown",
      "metadata": {
        "id": "pkp8bIAUVICN"
      },
      "source": [
        "Теперь датасет содержит только численные значения! Посмотрим на гистограммы распределения значений в столбцах."
      ]
    },
    {
      "cell_type": "code",
      "metadata": {
        "colab": {
          "base_uri": "https://localhost:8080/",
          "height": 879
        },
        "id": "2VM7f2u9G3Pi",
        "outputId": "8661f3bc-62c3-4b3d-8a3a-edc1f0301b8f"
      },
      "source": [
        "Dataset.hist(figsize= (25,15))\n",
        "plt.show()"
      ],
      "execution_count": 53,
      "outputs": [
        {
          "output_type": "display_data",
          "data": {
            "image/png": "[encoded data removed]",
            "text/plain": [
              "<Figure size 1800x1080 with 20 Axes>"
            ]
          },
          "metadata": {
            "tags": [],
            "needs_background": "light"
          }
        }
      ]
    },
    {
      "cell_type": "markdown",
      "metadata": {
        "id": "TanOxOknWlfS"
      },
      "source": [
        "Практически все значения плохо сбалансированы. Возможно, имеет смысл использовать oversamling и добавить в датасет значений меньших классов, так как помимо несбалансированности наш датасет отличается малым количеством наблюдений. Но перед тем, как изменить датасет, посмотрим, как с ним справится алгоритм в текущем состоянии. В следующей ячейке я проверю распределение целевых классов в цифрах."
      ]
    },
    {
      "cell_type": "code",
      "metadata": {
        "colab": {
          "base_uri": "https://localhost:8080/",
          "height": 453
        },
        "id": "xMtuO7j-IZ8f",
        "outputId": "6d96bbed-36e6-4aa5-9a25-93055704050a"
      },
      "source": [
        "print(Dataset.Diagnosis.value_counts(), '\\n')\n",
        "sns.histplot(data = Dataset.Diagnosis)"
      ],
      "execution_count": 54,
      "outputs": [
        {
          "output_type": "stream",
          "text": [
            "2    349\n",
            "1     52\n",
            "3     47\n",
            "4     15\n",
            "5      4\n",
            "6      2\n",
            "0      1\n",
            "Name: Diagnosis, dtype: int64 \n",
            "\n"
          ],
          "name": "stdout"
        },
        {
          "output_type": "execute_result",
          "data": {
            "text/plain": [
              "<matplotlib.axes._subplots.AxesSubplot at 0x7fc0fc881860>"
            ]
          },
          "metadata": {
            "tags": []
          },
          "execution_count": 54
        },
        {
          "output_type": "display_data",
          "data": {
            "image/png": "[encoded data removed]",
            "text/plain": [
              "<Figure size 432x288 with 1 Axes>"
            ]
          },
          "metadata": {
            "tags": [],
            "needs_background": "light"
          }
        }
      ]
    },
    {
      "cell_type": "markdown",
      "metadata": {
        "id": "gj1fTi3JlS9M"
      },
      "source": [
        "С классами 0, 6 и 5 всё совсем плохо, их модель не сможет распознать.\n",
        "\n",
        "У класса 4 тоже очень мало наблюдений. \n",
        "\n",
        "Класс 2 содержит около 75% всех случаев.\n",
        "\n",
        "Классы 1 и 3 на порядок больше классов 4,5,6,0, и на порядок меньше класса 2.\n",
        "\n",
        "Далее я возьму срезы по минорным классам, чтобы визуально оценить, имеются ли у них какие-то особенности."
      ]
    },
    {
      "cell_type": "code",
      "metadata": {
        "colab": {
          "base_uri": "https://localhost:8080/",
          "height": 81
        },
        "id": "yKMV8MnkoCA6",
        "outputId": "ec015092-7f88-432f-9485-e89f124e517a"
      },
      "source": [
        "Dataset[Dataset.Diagnosis == 0]"
      ],
      "execution_count": 55,
      "outputs": [
        {
          "output_type": "execute_result",
          "data": {
            "text/html": [
              "<div>\n",
              "<style scoped>\n",
              "    .dataframe tbody tr th:only-of-type {\n",
              "        vertical-align: middle;\n",
              "    }\n",
              "\n",
              "    .dataframe tbody tr th {\n",
              "        vertical-align: top;\n",
              "    }\n",
              "\n",
              "    .dataframe thead th {\n",
              "        text-align: right;\n",
              "    }\n",
              "</style>\n",
              "<table border=\"1\" class=\"dataframe\">\n",
              "  <thead>\n",
              "    <tr style=\"text-align: right;\">\n",
              "      <th></th>\n",
              "      <th>Diagnosis</th>\n",
              "      <th>Forced_vital_capacity</th>\n",
              "      <th>FEV1</th>\n",
              "      <th>Performance_status</th>\n",
              "      <th>Pain</th>\n",
              "      <th>Haemoptysis</th>\n",
              "      <th>Dyspnoea</th>\n",
              "      <th>Cough</th>\n",
              "      <th>Weakness</th>\n",
              "      <th>Size_of_tumor</th>\n",
              "      <th>diabetes_mellitus</th>\n",
              "      <th>MI_to_6months</th>\n",
              "      <th>PAD</th>\n",
              "      <th>Smoking</th>\n",
              "      <th>Asthma</th>\n",
              "      <th>Age</th>\n",
              "      <th>Risk1Y</th>\n",
              "    </tr>\n",
              "  </thead>\n",
              "  <tbody>\n",
              "    <tr>\n",
              "      <th>292</th>\n",
              "      <td>0</td>\n",
              "      <td>3.8</td>\n",
              "      <td>2.8</td>\n",
              "      <td>0</td>\n",
              "      <td>0</td>\n",
              "      <td>0</td>\n",
              "      <td>0</td>\n",
              "      <td>0</td>\n",
              "      <td>0</td>\n",
              "      <td>1</td>\n",
              "      <td>0</td>\n",
              "      <td>0</td>\n",
              "      <td>0</td>\n",
              "      <td>1</td>\n",
              "      <td>0</td>\n",
              "      <td>62</td>\n",
              "      <td>0</td>\n",
              "    </tr>\n",
              "  </tbody>\n",
              "</table>\n",
              "</div>"
            ],
            "text/plain": [
              "     Diagnosis  Forced_vital_capacity  FEV1  ...  Asthma  Age  Risk1Y\n",
              "292          0                    3.8   2.8  ...       0   62       0\n",
              "\n",
              "[1 rows x 17 columns]"
            ]
          },
          "metadata": {
            "tags": []
          },
          "execution_count": 55
        }
      ]
    },
    {
      "cell_type": "code",
      "metadata": {
        "id": "42KzeSISqLbD",
        "colab": {
          "base_uri": "https://localhost:8080/",
          "height": 520
        },
        "outputId": "69182fa0-0ac9-4504-8ce2-c96944da9065"
      },
      "source": [
        "Dataset[Dataset.Diagnosis == 4]"
      ],
      "execution_count": 56,
      "outputs": [
        {
          "output_type": "execute_result",
          "data": {
            "text/html": [
              "<div>\n",
              "<style scoped>\n",
              "    .dataframe tbody tr th:only-of-type {\n",
              "        vertical-align: middle;\n",
              "    }\n",
              "\n",
              "    .dataframe tbody tr th {\n",
              "        vertical-align: top;\n",
              "    }\n",
              "\n",
              "    .dataframe thead th {\n",
              "        text-align: right;\n",
              "    }\n",
              "</style>\n",
              "<table border=\"1\" class=\"dataframe\">\n",
              "  <thead>\n",
              "    <tr style=\"text-align: right;\">\n",
              "      <th></th>\n",
              "      <th>Diagnosis</th>\n",
              "      <th>Forced_vital_capacity</th>\n",
              "      <th>FEV1</th>\n",
              "      <th>Performance_status</th>\n",
              "      <th>Pain</th>\n",
              "      <th>Haemoptysis</th>\n",
              "      <th>Dyspnoea</th>\n",
              "      <th>Cough</th>\n",
              "      <th>Weakness</th>\n",
              "      <th>Size_of_tumor</th>\n",
              "      <th>diabetes_mellitus</th>\n",
              "      <th>MI_to_6months</th>\n",
              "      <th>PAD</th>\n",
              "      <th>Smoking</th>\n",
              "      <th>Asthma</th>\n",
              "      <th>Age</th>\n",
              "      <th>Risk1Y</th>\n",
              "    </tr>\n",
              "  </thead>\n",
              "  <tbody>\n",
              "    <tr>\n",
              "      <th>25</th>\n",
              "      <td>4</td>\n",
              "      <td>4.56</td>\n",
              "      <td>72.80</td>\n",
              "      <td>0</td>\n",
              "      <td>1</td>\n",
              "      <td>1</td>\n",
              "      <td>0</td>\n",
              "      <td>1</td>\n",
              "      <td>0</td>\n",
              "      <td>1</td>\n",
              "      <td>0</td>\n",
              "      <td>0</td>\n",
              "      <td>0</td>\n",
              "      <td>1</td>\n",
              "      <td>0</td>\n",
              "      <td>57</td>\n",
              "      <td>0</td>\n",
              "    </tr>\n",
              "    <tr>\n",
              "      <th>32</th>\n",
              "      <td>4</td>\n",
              "      <td>2.48</td>\n",
              "      <td>1.95</td>\n",
              "      <td>1</td>\n",
              "      <td>1</td>\n",
              "      <td>0</td>\n",
              "      <td>0</td>\n",
              "      <td>0</td>\n",
              "      <td>0</td>\n",
              "      <td>1</td>\n",
              "      <td>1</td>\n",
              "      <td>0</td>\n",
              "      <td>0</td>\n",
              "      <td>0</td>\n",
              "      <td>0</td>\n",
              "      <td>72</td>\n",
              "      <td>0</td>\n",
              "    </tr>\n",
              "    <tr>\n",
              "      <th>40</th>\n",
              "      <td>4</td>\n",
              "      <td>3.80</td>\n",
              "      <td>2.98</td>\n",
              "      <td>1</td>\n",
              "      <td>0</td>\n",
              "      <td>0</td>\n",
              "      <td>0</td>\n",
              "      <td>1</td>\n",
              "      <td>0</td>\n",
              "      <td>0</td>\n",
              "      <td>0</td>\n",
              "      <td>0</td>\n",
              "      <td>0</td>\n",
              "      <td>1</td>\n",
              "      <td>0</td>\n",
              "      <td>60</td>\n",
              "      <td>1</td>\n",
              "    </tr>\n",
              "    <tr>\n",
              "      <th>43</th>\n",
              "      <td>4</td>\n",
              "      <td>2.68</td>\n",
              "      <td>2.12</td>\n",
              "      <td>0</td>\n",
              "      <td>0</td>\n",
              "      <td>0</td>\n",
              "      <td>0</td>\n",
              "      <td>1</td>\n",
              "      <td>0</td>\n",
              "      <td>1</td>\n",
              "      <td>0</td>\n",
              "      <td>0</td>\n",
              "      <td>0</td>\n",
              "      <td>1</td>\n",
              "      <td>0</td>\n",
              "      <td>51</td>\n",
              "      <td>1</td>\n",
              "    </tr>\n",
              "    <tr>\n",
              "      <th>88</th>\n",
              "      <td>4</td>\n",
              "      <td>2.68</td>\n",
              "      <td>1.76</td>\n",
              "      <td>2</td>\n",
              "      <td>0</td>\n",
              "      <td>1</td>\n",
              "      <td>0</td>\n",
              "      <td>1</td>\n",
              "      <td>1</td>\n",
              "      <td>0</td>\n",
              "      <td>0</td>\n",
              "      <td>0</td>\n",
              "      <td>0</td>\n",
              "      <td>1</td>\n",
              "      <td>0</td>\n",
              "      <td>76</td>\n",
              "      <td>0</td>\n",
              "    </tr>\n",
              "    <tr>\n",
              "      <th>105</th>\n",
              "      <td>4</td>\n",
              "      <td>4.95</td>\n",
              "      <td>4.12</td>\n",
              "      <td>1</td>\n",
              "      <td>0</td>\n",
              "      <td>0</td>\n",
              "      <td>0</td>\n",
              "      <td>0</td>\n",
              "      <td>1</td>\n",
              "      <td>0</td>\n",
              "      <td>0</td>\n",
              "      <td>0</td>\n",
              "      <td>0</td>\n",
              "      <td>0</td>\n",
              "      <td>0</td>\n",
              "      <td>57</td>\n",
              "      <td>0</td>\n",
              "    </tr>\n",
              "    <tr>\n",
              "      <th>185</th>\n",
              "      <td>4</td>\n",
              "      <td>3.52</td>\n",
              "      <td>2.56</td>\n",
              "      <td>0</td>\n",
              "      <td>0</td>\n",
              "      <td>0</td>\n",
              "      <td>1</td>\n",
              "      <td>0</td>\n",
              "      <td>0</td>\n",
              "      <td>1</td>\n",
              "      <td>0</td>\n",
              "      <td>0</td>\n",
              "      <td>0</td>\n",
              "      <td>0</td>\n",
              "      <td>0</td>\n",
              "      <td>81</td>\n",
              "      <td>1</td>\n",
              "    </tr>\n",
              "    <tr>\n",
              "      <th>220</th>\n",
              "      <td>4</td>\n",
              "      <td>2.87</td>\n",
              "      <td>2.08</td>\n",
              "      <td>1</td>\n",
              "      <td>0</td>\n",
              "      <td>0</td>\n",
              "      <td>0</td>\n",
              "      <td>1</td>\n",
              "      <td>0</td>\n",
              "      <td>2</td>\n",
              "      <td>0</td>\n",
              "      <td>0</td>\n",
              "      <td>0</td>\n",
              "      <td>1</td>\n",
              "      <td>0</td>\n",
              "      <td>56</td>\n",
              "      <td>1</td>\n",
              "    </tr>\n",
              "    <tr>\n",
              "      <th>231</th>\n",
              "      <td>4</td>\n",
              "      <td>2.88</td>\n",
              "      <td>2.52</td>\n",
              "      <td>1</td>\n",
              "      <td>0</td>\n",
              "      <td>0</td>\n",
              "      <td>0</td>\n",
              "      <td>1</td>\n",
              "      <td>0</td>\n",
              "      <td>1</td>\n",
              "      <td>0</td>\n",
              "      <td>0</td>\n",
              "      <td>0</td>\n",
              "      <td>1</td>\n",
              "      <td>0</td>\n",
              "      <td>56</td>\n",
              "      <td>0</td>\n",
              "    </tr>\n",
              "    <tr>\n",
              "      <th>238</th>\n",
              "      <td>4</td>\n",
              "      <td>3.40</td>\n",
              "      <td>2.08</td>\n",
              "      <td>1</td>\n",
              "      <td>0</td>\n",
              "      <td>0</td>\n",
              "      <td>0</td>\n",
              "      <td>0</td>\n",
              "      <td>1</td>\n",
              "      <td>0</td>\n",
              "      <td>0</td>\n",
              "      <td>0</td>\n",
              "      <td>0</td>\n",
              "      <td>1</td>\n",
              "      <td>0</td>\n",
              "      <td>55</td>\n",
              "      <td>1</td>\n",
              "    </tr>\n",
              "    <tr>\n",
              "      <th>271</th>\n",
              "      <td>4</td>\n",
              "      <td>3.00</td>\n",
              "      <td>2.16</td>\n",
              "      <td>0</td>\n",
              "      <td>0</td>\n",
              "      <td>0</td>\n",
              "      <td>0</td>\n",
              "      <td>0</td>\n",
              "      <td>0</td>\n",
              "      <td>0</td>\n",
              "      <td>0</td>\n",
              "      <td>0</td>\n",
              "      <td>0</td>\n",
              "      <td>1</td>\n",
              "      <td>0</td>\n",
              "      <td>72</td>\n",
              "      <td>0</td>\n",
              "    </tr>\n",
              "    <tr>\n",
              "      <th>306</th>\n",
              "      <td>4</td>\n",
              "      <td>3.30</td>\n",
              "      <td>2.40</td>\n",
              "      <td>1</td>\n",
              "      <td>0</td>\n",
              "      <td>0</td>\n",
              "      <td>0</td>\n",
              "      <td>1</td>\n",
              "      <td>1</td>\n",
              "      <td>1</td>\n",
              "      <td>0</td>\n",
              "      <td>0</td>\n",
              "      <td>0</td>\n",
              "      <td>1</td>\n",
              "      <td>0</td>\n",
              "      <td>70</td>\n",
              "      <td>0</td>\n",
              "    </tr>\n",
              "    <tr>\n",
              "      <th>367</th>\n",
              "      <td>4</td>\n",
              "      <td>2.38</td>\n",
              "      <td>1.72</td>\n",
              "      <td>1</td>\n",
              "      <td>0</td>\n",
              "      <td>1</td>\n",
              "      <td>0</td>\n",
              "      <td>1</td>\n",
              "      <td>0</td>\n",
              "      <td>1</td>\n",
              "      <td>1</td>\n",
              "      <td>0</td>\n",
              "      <td>1</td>\n",
              "      <td>1</td>\n",
              "      <td>0</td>\n",
              "      <td>87</td>\n",
              "      <td>1</td>\n",
              "    </tr>\n",
              "    <tr>\n",
              "      <th>420</th>\n",
              "      <td>4</td>\n",
              "      <td>4.96</td>\n",
              "      <td>4.16</td>\n",
              "      <td>1</td>\n",
              "      <td>0</td>\n",
              "      <td>0</td>\n",
              "      <td>0</td>\n",
              "      <td>1</td>\n",
              "      <td>0</td>\n",
              "      <td>0</td>\n",
              "      <td>0</td>\n",
              "      <td>0</td>\n",
              "      <td>0</td>\n",
              "      <td>1</td>\n",
              "      <td>0</td>\n",
              "      <td>62</td>\n",
              "      <td>1</td>\n",
              "    </tr>\n",
              "    <tr>\n",
              "      <th>438</th>\n",
              "      <td>4</td>\n",
              "      <td>3.67</td>\n",
              "      <td>76.80</td>\n",
              "      <td>0</td>\n",
              "      <td>1</td>\n",
              "      <td>1</td>\n",
              "      <td>0</td>\n",
              "      <td>1</td>\n",
              "      <td>0</td>\n",
              "      <td>1</td>\n",
              "      <td>0</td>\n",
              "      <td>0</td>\n",
              "      <td>0</td>\n",
              "      <td>0</td>\n",
              "      <td>0</td>\n",
              "      <td>61</td>\n",
              "      <td>0</td>\n",
              "    </tr>\n",
              "  </tbody>\n",
              "</table>\n",
              "</div>"
            ],
            "text/plain": [
              "     Diagnosis  Forced_vital_capacity   FEV1  ...  Asthma  Age  Risk1Y\n",
              "25           4                   4.56  72.80  ...       0   57       0\n",
              "32           4                   2.48   1.95  ...       0   72       0\n",
              "40           4                   3.80   2.98  ...       0   60       1\n",
              "43           4                   2.68   2.12  ...       0   51       1\n",
              "88           4                   2.68   1.76  ...       0   76       0\n",
              "105          4                   4.95   4.12  ...       0   57       0\n",
              "185          4                   3.52   2.56  ...       0   81       1\n",
              "220          4                   2.87   2.08  ...       0   56       1\n",
              "231          4                   2.88   2.52  ...       0   56       0\n",
              "238          4                   3.40   2.08  ...       0   55       1\n",
              "271          4                   3.00   2.16  ...       0   72       0\n",
              "306          4                   3.30   2.40  ...       0   70       0\n",
              "367          4                   2.38   1.72  ...       0   87       1\n",
              "420          4                   4.96   4.16  ...       0   62       1\n",
              "438          4                   3.67  76.80  ...       0   61       0\n",
              "\n",
              "[15 rows x 17 columns]"
            ]
          },
          "metadata": {
            "tags": []
          },
          "execution_count": 56
        }
      ]
    },
    {
      "cell_type": "code",
      "metadata": {
        "colab": {
          "base_uri": "https://localhost:8080/",
          "height": 175
        },
        "id": "QUlTLzASpj-z",
        "outputId": "597fd816-32ec-4092-9733-45c5fed423a1"
      },
      "source": [
        "Dataset[Dataset.Diagnosis == 5]"
      ],
      "execution_count": 57,
      "outputs": [
        {
          "output_type": "execute_result",
          "data": {
            "text/html": [
              "<div>\n",
              "<style scoped>\n",
              "    .dataframe tbody tr th:only-of-type {\n",
              "        vertical-align: middle;\n",
              "    }\n",
              "\n",
              "    .dataframe tbody tr th {\n",
              "        vertical-align: top;\n",
              "    }\n",
              "\n",
              "    .dataframe thead th {\n",
              "        text-align: right;\n",
              "    }\n",
              "</style>\n",
              "<table border=\"1\" class=\"dataframe\">\n",
              "  <thead>\n",
              "    <tr style=\"text-align: right;\">\n",
              "      <th></th>\n",
              "      <th>Diagnosis</th>\n",
              "      <th>Forced_vital_capacity</th>\n",
              "      <th>FEV1</th>\n",
              "      <th>Performance_status</th>\n",
              "      <th>Pain</th>\n",
              "      <th>Haemoptysis</th>\n",
              "      <th>Dyspnoea</th>\n",
              "      <th>Cough</th>\n",
              "      <th>Weakness</th>\n",
              "      <th>Size_of_tumor</th>\n",
              "      <th>diabetes_mellitus</th>\n",
              "      <th>MI_to_6months</th>\n",
              "      <th>PAD</th>\n",
              "      <th>Smoking</th>\n",
              "      <th>Asthma</th>\n",
              "      <th>Age</th>\n",
              "      <th>Risk1Y</th>\n",
              "    </tr>\n",
              "  </thead>\n",
              "  <tbody>\n",
              "    <tr>\n",
              "      <th>29</th>\n",
              "      <td>5</td>\n",
              "      <td>3.96</td>\n",
              "      <td>3.28</td>\n",
              "      <td>0</td>\n",
              "      <td>0</td>\n",
              "      <td>0</td>\n",
              "      <td>0</td>\n",
              "      <td>0</td>\n",
              "      <td>0</td>\n",
              "      <td>0</td>\n",
              "      <td>0</td>\n",
              "      <td>0</td>\n",
              "      <td>0</td>\n",
              "      <td>1</td>\n",
              "      <td>0</td>\n",
              "      <td>61</td>\n",
              "      <td>0</td>\n",
              "    </tr>\n",
              "    <tr>\n",
              "      <th>97</th>\n",
              "      <td>5</td>\n",
              "      <td>3.04</td>\n",
              "      <td>2.40</td>\n",
              "      <td>2</td>\n",
              "      <td>0</td>\n",
              "      <td>0</td>\n",
              "      <td>0</td>\n",
              "      <td>1</td>\n",
              "      <td>0</td>\n",
              "      <td>0</td>\n",
              "      <td>0</td>\n",
              "      <td>0</td>\n",
              "      <td>0</td>\n",
              "      <td>1</td>\n",
              "      <td>0</td>\n",
              "      <td>76</td>\n",
              "      <td>0</td>\n",
              "    </tr>\n",
              "    <tr>\n",
              "      <th>368</th>\n",
              "      <td>5</td>\n",
              "      <td>3.88</td>\n",
              "      <td>2.72</td>\n",
              "      <td>1</td>\n",
              "      <td>0</td>\n",
              "      <td>0</td>\n",
              "      <td>0</td>\n",
              "      <td>1</td>\n",
              "      <td>0</td>\n",
              "      <td>1</td>\n",
              "      <td>0</td>\n",
              "      <td>0</td>\n",
              "      <td>0</td>\n",
              "      <td>1</td>\n",
              "      <td>0</td>\n",
              "      <td>77</td>\n",
              "      <td>0</td>\n",
              "    </tr>\n",
              "    <tr>\n",
              "      <th>405</th>\n",
              "      <td>5</td>\n",
              "      <td>5.36</td>\n",
              "      <td>3.96</td>\n",
              "      <td>1</td>\n",
              "      <td>0</td>\n",
              "      <td>0</td>\n",
              "      <td>0</td>\n",
              "      <td>1</td>\n",
              "      <td>0</td>\n",
              "      <td>1</td>\n",
              "      <td>0</td>\n",
              "      <td>0</td>\n",
              "      <td>0</td>\n",
              "      <td>0</td>\n",
              "      <td>0</td>\n",
              "      <td>62</td>\n",
              "      <td>0</td>\n",
              "    </tr>\n",
              "  </tbody>\n",
              "</table>\n",
              "</div>"
            ],
            "text/plain": [
              "     Diagnosis  Forced_vital_capacity  FEV1  ...  Asthma  Age  Risk1Y\n",
              "29           5                   3.96  3.28  ...       0   61       0\n",
              "97           5                   3.04  2.40  ...       0   76       0\n",
              "368          5                   3.88  2.72  ...       0   77       0\n",
              "405          5                   5.36  3.96  ...       0   62       0\n",
              "\n",
              "[4 rows x 17 columns]"
            ]
          },
          "metadata": {
            "tags": []
          },
          "execution_count": 57
        }
      ]
    },
    {
      "cell_type": "code",
      "metadata": {
        "colab": {
          "base_uri": "https://localhost:8080/",
          "height": 112
        },
        "id": "GMxMn1nipzfW",
        "outputId": "5bdc10a7-eb99-466a-b9a3-9e75cf5ef887"
      },
      "source": [
        "Dataset[Dataset.Diagnosis == 6]"
      ],
      "execution_count": 58,
      "outputs": [
        {
          "output_type": "execute_result",
          "data": {
            "text/html": [
              "<div>\n",
              "<style scoped>\n",
              "    .dataframe tbody tr th:only-of-type {\n",
              "        vertical-align: middle;\n",
              "    }\n",
              "\n",
              "    .dataframe tbody tr th {\n",
              "        vertical-align: top;\n",
              "    }\n",
              "\n",
              "    .dataframe thead th {\n",
              "        text-align: right;\n",
              "    }\n",
              "</style>\n",
              "<table border=\"1\" class=\"dataframe\">\n",
              "  <thead>\n",
              "    <tr style=\"text-align: right;\">\n",
              "      <th></th>\n",
              "      <th>Diagnosis</th>\n",
              "      <th>Forced_vital_capacity</th>\n",
              "      <th>FEV1</th>\n",
              "      <th>Performance_status</th>\n",
              "      <th>Pain</th>\n",
              "      <th>Haemoptysis</th>\n",
              "      <th>Dyspnoea</th>\n",
              "      <th>Cough</th>\n",
              "      <th>Weakness</th>\n",
              "      <th>Size_of_tumor</th>\n",
              "      <th>diabetes_mellitus</th>\n",
              "      <th>MI_to_6months</th>\n",
              "      <th>PAD</th>\n",
              "      <th>Smoking</th>\n",
              "      <th>Asthma</th>\n",
              "      <th>Age</th>\n",
              "      <th>Risk1Y</th>\n",
              "    </tr>\n",
              "  </thead>\n",
              "  <tbody>\n",
              "    <tr>\n",
              "      <th>24</th>\n",
              "      <td>6</td>\n",
              "      <td>4.32</td>\n",
              "      <td>3.2</td>\n",
              "      <td>0</td>\n",
              "      <td>0</td>\n",
              "      <td>0</td>\n",
              "      <td>0</td>\n",
              "      <td>0</td>\n",
              "      <td>0</td>\n",
              "      <td>0</td>\n",
              "      <td>0</td>\n",
              "      <td>0</td>\n",
              "      <td>0</td>\n",
              "      <td>0</td>\n",
              "      <td>0</td>\n",
              "      <td>58</td>\n",
              "      <td>1</td>\n",
              "    </tr>\n",
              "    <tr>\n",
              "      <th>446</th>\n",
              "      <td>6</td>\n",
              "      <td>5.20</td>\n",
              "      <td>4.1</td>\n",
              "      <td>0</td>\n",
              "      <td>0</td>\n",
              "      <td>0</td>\n",
              "      <td>0</td>\n",
              "      <td>0</td>\n",
              "      <td>0</td>\n",
              "      <td>1</td>\n",
              "      <td>0</td>\n",
              "      <td>0</td>\n",
              "      <td>0</td>\n",
              "      <td>0</td>\n",
              "      <td>0</td>\n",
              "      <td>49</td>\n",
              "      <td>0</td>\n",
              "    </tr>\n",
              "  </tbody>\n",
              "</table>\n",
              "</div>"
            ],
            "text/plain": [
              "     Diagnosis  Forced_vital_capacity  FEV1  ...  Asthma  Age  Risk1Y\n",
              "24           6                   4.32   3.2  ...       0   58       1\n",
              "446          6                   5.20   4.1  ...       0   49       0\n",
              "\n",
              "[2 rows x 17 columns]"
            ]
          },
          "metadata": {
            "tags": []
          },
          "execution_count": 58
        }
      ]
    },
    {
      "cell_type": "markdown",
      "metadata": {
        "id": "QJq3wDFvNetY"
      },
      "source": [
        "Визуально найти особенности не удалось. Разве что, в классе 4 имеются два аномально высоких значения параметра FEV1, что вполне может быть ошибкой в данных."
      ]
    },
    {
      "cell_type": "code",
      "metadata": {
        "colab": {
          "base_uri": "https://localhost:8080/",
          "height": 584
        },
        "id": "H17-eI-3ViXD",
        "outputId": "b5246367-b3ab-4741-9330-95f6c1c8835e"
      },
      "source": [
        "plt.figure(figsize=(10,8))\n",
        "sns.heatmap(Dataset.corr())\n",
        "plt.show()"
      ],
      "execution_count": 59,
      "outputs": [
        {
          "output_type": "display_data",
          "data": {
            "image/png": "[encoded data removed]",
            "text/plain": [
              "<Figure size 720x576 with 2 Axes>"
            ]
          },
          "metadata": {
            "tags": [],
            "needs_background": "light"
          }
        }
      ]
    },
    {
      "cell_type": "markdown",
      "metadata": {
        "id": "70IMcHbNZCdy"
      },
      "source": [
        "Видно некоторую корреляцию у состояния пациента и наблюдаемым у него перед операцией симптомам в виде кашля и слабости. \n",
        "\n",
        "Отрицательная корреляция выявлена между тестом FVC (Forced vital capacity) с возрастом пациента. FVC - это тест, в котором пациент выдыхает максимально возможное количество воздуха после максимально глубокого вдоха."
      ]
    },
    {
      "cell_type": "markdown",
      "metadata": {
        "id": "O3bUugUvbOh-"
      },
      "source": [
        "##Создание алгоритмов и их тестирование"
      ]
    },
    {
      "cell_type": "markdown",
      "metadata": {
        "id": "KwJelqXtbUom"
      },
      "source": [
        "Прежде всего, выделим наш целевой признак в отдельную переменную "
      ]
    },
    {
      "cell_type": "code",
      "metadata": {
        "id": "pLV7WTTNbKf8"
      },
      "source": [
        "X = Dataset.drop(columns='Diagnosis')\n",
        "y = Dataset.Diagnosis"
      ],
      "execution_count": 60,
      "outputs": []
    },
    {
      "cell_type": "markdown",
      "metadata": {
        "id": "mIVn5NutdG3o"
      },
      "source": [
        "Разделим их на тренировочную и тестовую выборки, используя специальный для этого метод из библиотеки sklearn"
      ]
    },
    {
      "cell_type": "code",
      "metadata": {
        "id": "wVof8NgNb1No"
      },
      "source": [
        "from sklearn.model_selection import train_test_split\n",
        "X_train, X_test, y_train, y_test = train_test_split(X,y, test_size = 0.15)"
      ],
      "execution_count": 61,
      "outputs": []
    },
    {
      "cell_type": "markdown",
      "metadata": {
        "id": "-fIXCvvGcaGj"
      },
      "source": [
        "Далее попробуем построить простую модель, например kNN, и посмотрим на её результативность."
      ]
    },
    {
      "cell_type": "markdown",
      "metadata": {
        "id": "f_4w1EwIc8Vh"
      },
      "source": [
        "### kNN"
      ]
    },
    {
      "cell_type": "markdown",
      "metadata": {
        "id": "tnK7zwkQi0OS"
      },
      "source": [
        "Импортируем нужные для алгоритма kNN методы из библиотеки sklearn"
      ]
    },
    {
      "cell_type": "code",
      "metadata": {
        "id": "NiXx292Gb1tJ"
      },
      "source": [
        "from sklearn.neighbors import KNeighborsClassifier\n",
        "from sklearn.model_selection import GridSearchCV"
      ],
      "execution_count": 62,
      "outputs": []
    },
    {
      "cell_type": "markdown",
      "metadata": {
        "id": "AylXUxSnhyzu"
      },
      "source": [
        "Инициализируем функцию для отрисовки графика результативности модели в зависимости от подставляемого параметра k соседей"
      ]
    },
    {
      "cell_type": "code",
      "metadata": {
        "id": "wuYnwgi7eQlt"
      },
      "source": [
        "def grid_plot(x, y, title, y_label = 'accuracy', x_label = 'n_neighbors'):\n",
        "    plt.figure(figsize=(12, 6))\n",
        "    plt.grid(True)\n",
        "    plt.plot(x, y, 'go-')\n",
        "    plt.xlabel(x_label)\n",
        "    plt.ylabel(y_label)\n",
        "    plt.title(title)"
      ],
      "execution_count": 63,
      "outputs": []
    },
    {
      "cell_type": "code",
      "metadata": {
        "colab": {
          "base_uri": "https://localhost:8080/",
          "height": 440
        },
        "id": "ft37ZEYJi3o2",
        "outputId": "f683f3f6-4395-4fb9-e0ad-cef7161fa4e0"
      },
      "source": [
        "knn = KNeighborsClassifier()\n",
        "knn_search = GridSearchCV(knn, {'n_neighbors': np.arange(1,30)}, cv=4)\n",
        "knn_search.fit(X_train, y_train)\n",
        "grid_plot(np.arange(1,30), knn_search.cv_results_['mean_test_score'],'kNN')"
      ],
      "execution_count": 64,
      "outputs": [
        {
          "output_type": "stream",
          "text": [
            "/usr/local/lib/python3.6/dist-packages/sklearn/model_selection/_split.py:667: UserWarning: The least populated class in y has only 1 members, which is less than n_splits=4.\n",
            "  % (min_groups, self.n_splits)), UserWarning)\n"
          ],
          "name": "stderr"
        },
        {
          "output_type": "display_data",
          "data": {
            "image/png": "[encoded data removed]",
            "text/plain": [
              "<Figure size 864x432 with 1 Axes>"
            ]
          },
          "metadata": {
            "tags": [],
            "needs_background": "light"
          }
        }
      ]
    },
    {
      "cell_type": "markdown",
      "metadata": {
        "id": "8M5yBjGvuOIX"
      },
      "source": [
        "Мы видим, что в значениях n_neighbors после 9 линия становится прямой, то есть увеличивающееся количество соседей не влияет на точность модели дальше значения 9. Теперь используем этот параметр для получения предсказаний на тестовой выборке. Я вызову метод predict от обученного GridSearchCV, так как этот метод использует по умолчанию наилучший найденный параметр."
      ]
    },
    {
      "cell_type": "code",
      "metadata": {
        "colab": {
          "base_uri": "https://localhost:8080/"
        },
        "id": "1jWaM06xyrIj",
        "outputId": "e2a70e35-6952-4a80-8e2f-ab5cfa9391ac"
      },
      "source": [
        "from sklearn.metrics import classification_report\n",
        "knn_test_predictions = knn_search.predict(X_test)\n",
        "print(classification_report(y_test,knn_test_predictions))"
      ],
      "execution_count": 65,
      "outputs": [
        {
          "output_type": "stream",
          "text": [
            "              precision    recall  f1-score   support\n",
            "\n",
            "           0       0.00      0.00      0.00         1\n",
            "           1       0.00      0.00      0.00         7\n",
            "           2       0.71      0.96      0.82        51\n",
            "           3       0.00      0.00      0.00         9\n",
            "           4       0.00      0.00      0.00         2\n",
            "           6       0.00      0.00      0.00         1\n",
            "\n",
            "    accuracy                           0.69        71\n",
            "   macro avg       0.12      0.16      0.14        71\n",
            "weighted avg       0.51      0.69      0.59        71\n",
            "\n"
          ],
          "name": "stdout"
        },
        {
          "output_type": "stream",
          "text": [
            "/usr/local/lib/python3.6/dist-packages/sklearn/metrics/_classification.py:1272: UndefinedMetricWarning: Precision and F-score are ill-defined and being set to 0.0 in labels with no predicted samples. Use `zero_division` parameter to control this behavior.\n",
            "  _warn_prf(average, modifier, msg_start, len(result))\n"
          ],
          "name": "stderr"
        }
      ]
    },
    {
      "cell_type": "markdown",
      "metadata": {
        "id": "TzfY5Dxf2i51"
      },
      "source": [
        "Мы видим, что модель не может определить ни один класс, кроме мажорного. Это безусловно связано с несбалансированностью данных, а именно очень малым количеством наблюдений остальных классов в датасете. Дальше в ноутбуке мы снова опробуем этот алгоритм после балансировки классов, а пока посмотрим на работу другого алгоритма - логистической регрессии."
      ]
    },
    {
      "cell_type": "markdown",
      "metadata": {
        "id": "CJx3rZtPfjZj"
      },
      "source": [
        "### Logistic regression"
      ]
    },
    {
      "cell_type": "markdown",
      "metadata": {
        "id": "mjh3unNQx4ne"
      },
      "source": [
        "Импортируем алгоритм Логистической регрессии из библиотеки sklearn"
      ]
    },
    {
      "cell_type": "code",
      "metadata": {
        "id": "6ehvuF0508LZ"
      },
      "source": [
        "from sklearn.linear_model import LogisticRegression"
      ],
      "execution_count": 66,
      "outputs": []
    },
    {
      "cell_type": "markdown",
      "metadata": {
        "id": "_YMTH7enyEMR"
      },
      "source": [
        "С помощью GridSearchCV, который уже был использован в алгоритме kNN я попробую подобрать наиболее подходящие параметры алгоритма"
      ]
    },
    {
      "cell_type": "code",
      "metadata": {
        "colab": {
          "base_uri": "https://localhost:8080/"
        },
        "id": "bbjq4HTI2bbH",
        "outputId": "f75b7453-5952-4470-a2b3-83f1d3c88162"
      },
      "source": [
        "LR_search = GridSearchCV(LogisticRegression(solver='liblinear'), {'C': np.linspace(1,50,100), 'penalty': ['l1','l2']})\n",
        "LR_search.fit(X_train,y_train)"
      ],
      "execution_count": 67,
      "outputs": [
        {
          "output_type": "stream",
          "text": [
            "/usr/local/lib/python3.6/dist-packages/sklearn/model_selection/_split.py:667: UserWarning: The least populated class in y has only 1 members, which is less than n_splits=5.\n",
            "  % (min_groups, self.n_splits)), UserWarning)\n",
            "/usr/local/lib/python3.6/dist-packages/sklearn/svm/_base.py:947: ConvergenceWarning: Liblinear failed to converge, increase the number of iterations.\n",
            "  \"the number of iterations.\", ConvergenceWarning)\n",
            "/usr/local/lib/python3.6/dist-packages/sklearn/svm/_base.py:947: ConvergenceWarning: Liblinear failed to converge, increase the number of iterations.\n",
            "  \"the number of iterations.\", ConvergenceWarning)\n",
            "/usr/local/lib/python3.6/dist-packages/sklearn/svm/_base.py:947: ConvergenceWarning: Liblinear failed to converge, increase the number of iterations.\n",
            "  \"the number of iterations.\", ConvergenceWarning)\n",
            "/usr/local/lib/python3.6/dist-packages/sklearn/svm/_base.py:947: ConvergenceWarning: Liblinear failed to converge, increase the number of iterations.\n",
            "  \"the number of iterations.\", ConvergenceWarning)\n",
            "/usr/local/lib/python3.6/dist-packages/sklearn/svm/_base.py:947: ConvergenceWarning: Liblinear failed to converge, increase the number of iterations.\n",
            "  \"the number of iterations.\", ConvergenceWarning)\n",
            "/usr/local/lib/python3.6/dist-packages/sklearn/svm/_base.py:947: ConvergenceWarning: Liblinear failed to converge, increase the number of iterations.\n",
            "  \"the number of iterations.\", ConvergenceWarning)\n",
            "/usr/local/lib/python3.6/dist-packages/sklearn/svm/_base.py:947: ConvergenceWarning: Liblinear failed to converge, increase the number of iterations.\n",
            "  \"the number of iterations.\", ConvergenceWarning)\n",
            "/usr/local/lib/python3.6/dist-packages/sklearn/svm/_base.py:947: ConvergenceWarning: Liblinear failed to converge, increase the number of iterations.\n",
            "  \"the number of iterations.\", ConvergenceWarning)\n",
            "/usr/local/lib/python3.6/dist-packages/sklearn/svm/_base.py:947: ConvergenceWarning: Liblinear failed to converge, increase the number of iterations.\n",
            "  \"the number of iterations.\", ConvergenceWarning)\n",
            "/usr/local/lib/python3.6/dist-packages/sklearn/svm/_base.py:947: ConvergenceWarning: Liblinear failed to converge, increase the number of iterations.\n",
            "  \"the number of iterations.\", ConvergenceWarning)\n",
            "/usr/local/lib/python3.6/dist-packages/sklearn/svm/_base.py:947: ConvergenceWarning: Liblinear failed to converge, increase the number of iterations.\n",
            "  \"the number of iterations.\", ConvergenceWarning)\n",
            "/usr/local/lib/python3.6/dist-packages/sklearn/svm/_base.py:947: ConvergenceWarning: Liblinear failed to converge, increase the number of iterations.\n",
            "  \"the number of iterations.\", ConvergenceWarning)\n",
            "/usr/local/lib/python3.6/dist-packages/sklearn/svm/_base.py:947: ConvergenceWarning: Liblinear failed to converge, increase the number of iterations.\n",
            "  \"the number of iterations.\", ConvergenceWarning)\n",
            "/usr/local/lib/python3.6/dist-packages/sklearn/svm/_base.py:947: ConvergenceWarning: Liblinear failed to converge, increase the number of iterations.\n",
            "  \"the number of iterations.\", ConvergenceWarning)\n",
            "/usr/local/lib/python3.6/dist-packages/sklearn/svm/_base.py:947: ConvergenceWarning: Liblinear failed to converge, increase the number of iterations.\n",
            "  \"the number of iterations.\", ConvergenceWarning)\n",
            "/usr/local/lib/python3.6/dist-packages/sklearn/svm/_base.py:947: ConvergenceWarning: Liblinear failed to converge, increase the number of iterations.\n",
            "  \"the number of iterations.\", ConvergenceWarning)\n",
            "/usr/local/lib/python3.6/dist-packages/sklearn/svm/_base.py:947: ConvergenceWarning: Liblinear failed to converge, increase the number of iterations.\n",
            "  \"the number of iterations.\", ConvergenceWarning)\n",
            "/usr/local/lib/python3.6/dist-packages/sklearn/svm/_base.py:947: ConvergenceWarning: Liblinear failed to converge, increase the number of iterations.\n",
            "  \"the number of iterations.\", ConvergenceWarning)\n",
            "/usr/local/lib/python3.6/dist-packages/sklearn/svm/_base.py:947: ConvergenceWarning: Liblinear failed to converge, increase the number of iterations.\n",
            "  \"the number of iterations.\", ConvergenceWarning)\n",
            "/usr/local/lib/python3.6/dist-packages/sklearn/svm/_base.py:947: ConvergenceWarning: Liblinear failed to converge, increase the number of iterations.\n",
            "  \"the number of iterations.\", ConvergenceWarning)\n",
            "/usr/local/lib/python3.6/dist-packages/sklearn/svm/_base.py:947: ConvergenceWarning: Liblinear failed to converge, increase the number of iterations.\n",
            "  \"the number of iterations.\", ConvergenceWarning)\n",
            "/usr/local/lib/python3.6/dist-packages/sklearn/svm/_base.py:947: ConvergenceWarning: Liblinear failed to converge, increase the number of iterations.\n",
            "  \"the number of iterations.\", ConvergenceWarning)\n",
            "/usr/local/lib/python3.6/dist-packages/sklearn/svm/_base.py:947: ConvergenceWarning: Liblinear failed to converge, increase the number of iterations.\n",
            "  \"the number of iterations.\", ConvergenceWarning)\n",
            "/usr/local/lib/python3.6/dist-packages/sklearn/svm/_base.py:947: ConvergenceWarning: Liblinear failed to converge, increase the number of iterations.\n",
            "  \"the number of iterations.\", ConvergenceWarning)\n",
            "/usr/local/lib/python3.6/dist-packages/sklearn/svm/_base.py:947: ConvergenceWarning: Liblinear failed to converge, increase the number of iterations.\n",
            "  \"the number of iterations.\", ConvergenceWarning)\n",
            "/usr/local/lib/python3.6/dist-packages/sklearn/svm/_base.py:947: ConvergenceWarning: Liblinear failed to converge, increase the number of iterations.\n",
            "  \"the number of iterations.\", ConvergenceWarning)\n",
            "/usr/local/lib/python3.6/dist-packages/sklearn/svm/_base.py:947: ConvergenceWarning: Liblinear failed to converge, increase the number of iterations.\n",
            "  \"the number of iterations.\", ConvergenceWarning)\n",
            "/usr/local/lib/python3.6/dist-packages/sklearn/svm/_base.py:947: ConvergenceWarning: Liblinear failed to converge, increase the number of iterations.\n",
            "  \"the number of iterations.\", ConvergenceWarning)\n",
            "/usr/local/lib/python3.6/dist-packages/sklearn/svm/_base.py:947: ConvergenceWarning: Liblinear failed to converge, increase the number of iterations.\n",
            "  \"the number of iterations.\", ConvergenceWarning)\n",
            "/usr/local/lib/python3.6/dist-packages/sklearn/svm/_base.py:947: ConvergenceWarning: Liblinear failed to converge, increase the number of iterations.\n",
            "  \"the number of iterations.\", ConvergenceWarning)\n",
            "/usr/local/lib/python3.6/dist-packages/sklearn/svm/_base.py:947: ConvergenceWarning: Liblinear failed to converge, increase the number of iterations.\n",
            "  \"the number of iterations.\", ConvergenceWarning)\n",
            "/usr/local/lib/python3.6/dist-packages/sklearn/svm/_base.py:947: ConvergenceWarning: Liblinear failed to converge, increase the number of iterations.\n",
            "  \"the number of iterations.\", ConvergenceWarning)\n",
            "/usr/local/lib/python3.6/dist-packages/sklearn/svm/_base.py:947: ConvergenceWarning: Liblinear failed to converge, increase the number of iterations.\n",
            "  \"the number of iterations.\", ConvergenceWarning)\n",
            "/usr/local/lib/python3.6/dist-packages/sklearn/svm/_base.py:947: ConvergenceWarning: Liblinear failed to converge, increase the number of iterations.\n",
            "  \"the number of iterations.\", ConvergenceWarning)\n"
          ],
          "name": "stderr"
        },
        {
          "output_type": "execute_result",
          "data": {
            "text/plain": [
              "GridSearchCV(cv=None, error_score=nan,\n",
              "             estimator=LogisticRegression(C=1.0, class_weight=None, dual=False,\n",
              "                                          fit_intercept=True,\n",
              "                                          intercept_scaling=1, l1_ratio=None,\n",
              "                                          max_iter=100, multi_class='auto',\n",
              "                                          n_jobs=None, penalty='l2',\n",
              "                                          random_state=None, solver='liblinear',\n",
              "                                          tol=0.0001, verbose=0,\n",
              "                                          warm_start=False),\n",
              "             iid='deprecated', n_jobs=None,\n",
              "             param_grid={'C': array([ 1.        ,  1.494949...\n",
              "       38.12121212, 38.61616162, 39.11111111, 39.60606061, 40.1010101 ,\n",
              "       40.5959596 , 41.09090909, 41.58585859, 42.08080808, 42.57575758,\n",
              "       43.07070707, 43.56565657, 44.06060606, 44.55555556, 45.05050505,\n",
              "       45.54545455, 46.04040404, 46.53535354, 47.03030303, 47.52525253,\n",
              "       48.02020202, 48.51515152, 49.01010101, 49.50505051, 50.        ]),\n",
              "                         'penalty': ['l1', 'l2']},\n",
              "             pre_dispatch='2*n_jobs', refit=True, return_train_score=False,\n",
              "             scoring=None, verbose=0)"
            ]
          },
          "metadata": {
            "tags": []
          },
          "execution_count": 67
        }
      ]
    },
    {
      "cell_type": "code",
      "metadata": {
        "colab": {
          "base_uri": "https://localhost:8080/"
        },
        "id": "aKoOMI2llttu",
        "outputId": "8ce1d93e-0c95-48fa-a7ef-171f2699ec41"
      },
      "source": [
        "print(LR_search.best_params_, LR_search.best_score_)"
      ],
      "execution_count": 68,
      "outputs": [
        {
          "output_type": "stream",
          "text": [
            "{'C': 1.494949494949495, 'penalty': 'l1'} 0.7468670886075949\n"
          ],
          "name": "stdout"
        }
      ]
    },
    {
      "cell_type": "markdown",
      "metadata": {
        "id": "P_4Js1cXyYWx"
      },
      "source": [
        "Мы видим, что наиболее подходящие параметры 'C'=1 и 'penalty'='l1'. Эти параметры стоят в алгоритме по умолчанию. Теперь имплементируем алгоритм. Я изменил значение параметра solver на 'liblinear', потому что данное значение рекомендовано для небольших датасетов."
      ]
    },
    {
      "cell_type": "code",
      "metadata": {
        "colab": {
          "base_uri": "https://localhost:8080/"
        },
        "id": "KQFe9bN8moMY",
        "outputId": "5120fc5c-5732-4cdc-fc94-58856159a762"
      },
      "source": [
        "LR = LogisticRegression(solver='liblinear', penalty='l1')\n",
        "LR.fit(X_train,y_train)"
      ],
      "execution_count": 69,
      "outputs": [
        {
          "output_type": "execute_result",
          "data": {
            "text/plain": [
              "LogisticRegression(C=1.0, class_weight=None, dual=False, fit_intercept=True,\n",
              "                   intercept_scaling=1, l1_ratio=None, max_iter=100,\n",
              "                   multi_class='auto', n_jobs=None, penalty='l1',\n",
              "                   random_state=None, solver='liblinear', tol=0.0001, verbose=0,\n",
              "                   warm_start=False)"
            ]
          },
          "metadata": {
            "tags": []
          },
          "execution_count": 69
        }
      ]
    },
    {
      "cell_type": "markdown",
      "metadata": {
        "id": "lX9itlNGxyJp"
      },
      "source": [
        "Посмотрим на результат работы алгоритма. Используем метрики алгоритма регрессии $R^2 score$ и MAE."
      ]
    },
    {
      "cell_type": "code",
      "metadata": {
        "colab": {
          "base_uri": "https://localhost:8080/"
        },
        "id": "Omeaw0F5xJuf",
        "outputId": "ed812acf-c421-4854-fe27-fcd361281784"
      },
      "source": [
        "from sklearn.metrics import mean_absolute_error, r2_score\n",
        "LR_predictions = LR.predict(X_test)\n",
        "print(\" MAE score:\", mean_absolute_error(y_test, LR_predictions), \n",
        "      '\\n',\n",
        "      \"R2 score:\", r2_score(y_test,LR_predictions))"
      ],
      "execution_count": 70,
      "outputs": [
        {
          "output_type": "stream",
          "text": [
            " MAE score: 0.36619718309859156 \n",
            " R2 score: -0.020915032679738932\n"
          ],
          "name": "stdout"
        }
      ]
    },
    {
      "cell_type": "markdown",
      "metadata": {
        "id": "C89KFhdd9Ol_"
      },
      "source": [
        "Как и в случае с kNN, результаты совершенно никуда не годятся. Перепроверим на на функции classification_report"
      ]
    },
    {
      "cell_type": "code",
      "metadata": {
        "colab": {
          "base_uri": "https://localhost:8080/"
        },
        "id": "HRV0q1Ij88iy",
        "outputId": "f089c5ac-2615-4f6e-83c2-cc197d49efc5"
      },
      "source": [
        "print(classification_report(y_test, LR_predictions))"
      ],
      "execution_count": 71,
      "outputs": [
        {
          "output_type": "stream",
          "text": [
            "              precision    recall  f1-score   support\n",
            "\n",
            "           0       0.00      0.00      0.00         1\n",
            "           1       0.00      0.00      0.00         7\n",
            "           2       0.72      1.00      0.84        51\n",
            "           3       0.00      0.00      0.00         9\n",
            "           4       0.00      0.00      0.00         2\n",
            "           6       0.00      0.00      0.00         1\n",
            "\n",
            "    accuracy                           0.72        71\n",
            "   macro avg       0.12      0.17      0.14        71\n",
            "weighted avg       0.52      0.72      0.60        71\n",
            "\n"
          ],
          "name": "stdout"
        },
        {
          "output_type": "stream",
          "text": [
            "/usr/local/lib/python3.6/dist-packages/sklearn/metrics/_classification.py:1272: UndefinedMetricWarning: Precision and F-score are ill-defined and being set to 0.0 in labels with no predicted samples. Use `zero_division` parameter to control this behavior.\n",
            "  _warn_prf(average, modifier, msg_start, len(result))\n"
          ],
          "name": "stderr"
        }
      ]
    },
    {
      "cell_type": "markdown",
      "metadata": {
        "id": "648-Jcr66iSB"
      },
      "source": [
        "Результат аналогичен kNN. Минорные классы также игнорируются"
      ]
    },
    {
      "cell_type": "markdown",
      "metadata": {
        "id": "9Foy8cui6jwS"
      },
      "source": [
        "### Naive Bayes"
      ]
    },
    {
      "cell_type": "markdown",
      "metadata": {
        "id": "MhgCGPQx9n6-"
      },
      "source": [
        "Посмотрим теперь, как с этими данными справится другой алгоритм классификации - Naive Bayes. Из разных вариантов этого алгоритма я выберу CategoricalNB, так как большая часть наших признаков категориальные."
      ]
    },
    {
      "cell_type": "markdown",
      "metadata": {
        "id": "N1-HB_H_7P5B"
      },
      "source": [
        "#### Categoriical NB"
      ]
    },
    {
      "cell_type": "code",
      "metadata": {
        "id": "gOfbAx8az-Ep"
      },
      "source": [
        "from sklearn.naive_bayes import CategoricalNB"
      ],
      "execution_count": 72,
      "outputs": []
    },
    {
      "cell_type": "code",
      "metadata": {
        "colab": {
          "base_uri": "https://localhost:8080/"
        },
        "id": "RQZTGyIcAlI8",
        "outputId": "f405d2c4-1013-43b9-ca6e-04c66f6b87a7"
      },
      "source": [
        "Categorical_bayes = CategoricalNB()\n",
        "Categorical_bayes.fit(X_train,y_train)"
      ],
      "execution_count": 73,
      "outputs": [
        {
          "output_type": "execute_result",
          "data": {
            "text/plain": [
              "CategoricalNB(alpha=1.0, class_prior=None, fit_prior=True)"
            ]
          },
          "metadata": {
            "tags": []
          },
          "execution_count": 73
        }
      ]
    },
    {
      "cell_type": "code",
      "metadata": {
        "colab": {
          "base_uri": "https://localhost:8080/"
        },
        "id": "yi3ZvM7DCw6E",
        "outputId": "4269bb35-6fc6-4df8-d408-997e083f85a9"
      },
      "source": [
        "print(classification_report(y_test, Categorical_bayes.predict(X_test)))"
      ],
      "execution_count": 74,
      "outputs": [
        {
          "output_type": "stream",
          "text": [
            "              precision    recall  f1-score   support\n",
            "\n",
            "           0       0.00      0.00      0.00         1\n",
            "           1       0.00      0.00      0.00         7\n",
            "           2       0.72      1.00      0.84        51\n",
            "           3       0.00      0.00      0.00         9\n",
            "           4       0.00      0.00      0.00         2\n",
            "           6       0.00      0.00      0.00         1\n",
            "\n",
            "    accuracy                           0.72        71\n",
            "   macro avg       0.12      0.17      0.14        71\n",
            "weighted avg       0.52      0.72      0.60        71\n",
            "\n"
          ],
          "name": "stdout"
        },
        {
          "output_type": "stream",
          "text": [
            "/usr/local/lib/python3.6/dist-packages/sklearn/metrics/_classification.py:1272: UndefinedMetricWarning: Precision and F-score are ill-defined and being set to 0.0 in labels with no predicted samples. Use `zero_division` parameter to control this behavior.\n",
            "  _warn_prf(average, modifier, msg_start, len(result))\n"
          ],
          "name": "stderr"
        }
      ]
    },
    {
      "cell_type": "markdown",
      "metadata": {
        "id": "uCNJkMN9H-7u"
      },
      "source": [
        "В отличии от kNN наивный Байесовский классификатор смог отличить несколько экземпляров минорного класса. Похоже, что он сработал немного лучше остальных алгоритмов."
      ]
    },
    {
      "cell_type": "markdown",
      "metadata": {
        "id": "Wa1-r4qMnEnP"
      },
      "source": [
        "Однако же, в библиотеке реализован не один Байесовский классификатор, попробуем посмотреть на результаты работы других. Следующий алгоритм - Complement Байесевский классификатор.\n",
        "\n"
      ]
    },
    {
      "cell_type": "markdown",
      "metadata": {
        "id": "e6dZK19E7kPJ"
      },
      "source": [
        "#### Complement NB"
      ]
    },
    {
      "cell_type": "code",
      "metadata": {
        "colab": {
          "base_uri": "https://localhost:8080/"
        },
        "id": "mNU0rRQKktf5",
        "outputId": "8ec0ca31-7ea9-403c-b60c-bdf3234af221"
      },
      "source": [
        "from sklearn.naive_bayes import ComplementNB\n",
        "Comp_NB = ComplementNB()\n",
        "Comp_NB.fit(X_train,y_train)\n",
        "print(classification_report(y_test, Comp_NB.predict(X_test)))"
      ],
      "execution_count": 75,
      "outputs": [
        {
          "output_type": "stream",
          "text": [
            "              precision    recall  f1-score   support\n",
            "\n",
            "           0       0.00      0.00      0.00         1\n",
            "           1       0.00      0.00      0.00         7\n",
            "           2       0.72      0.96      0.82        51\n",
            "           3       0.00      0.00      0.00         9\n",
            "           4       0.00      0.00      0.00         2\n",
            "           6       0.00      0.00      0.00         1\n",
            "\n",
            "    accuracy                           0.69        71\n",
            "   macro avg       0.12      0.16      0.14        71\n",
            "weighted avg       0.52      0.69      0.59        71\n",
            "\n"
          ],
          "name": "stdout"
        },
        {
          "output_type": "stream",
          "text": [
            "/usr/local/lib/python3.6/dist-packages/sklearn/metrics/_classification.py:1272: UndefinedMetricWarning: Precision and F-score are ill-defined and being set to 0.0 in labels with no predicted samples. Use `zero_division` parameter to control this behavior.\n",
            "  _warn_prf(average, modifier, msg_start, len(result))\n"
          ],
          "name": "stderr"
        }
      ]
    },
    {
      "cell_type": "markdown",
      "metadata": {
        "id": "Wm_YztEgvi78"
      },
      "source": [
        "Результат похож на CategoriaclNB."
      ]
    },
    {
      "cell_type": "markdown",
      "metadata": {
        "id": "KokGnLEYQRLi"
      },
      "source": [
        "### Decision Tree"
      ]
    },
    {
      "cell_type": "markdown",
      "metadata": {
        "id": "FBKOz8tfQZ1c"
      },
      "source": [
        "Другая разновидность простых алгоритмов классификации - дерево решений. Посмотрим на результат"
      ]
    },
    {
      "cell_type": "code",
      "metadata": {
        "colab": {
          "base_uri": "https://localhost:8080/"
        },
        "id": "8HJERJKXWC8u",
        "outputId": "f926a8a6-df7f-4514-8a6a-ee68af8e0c6d"
      },
      "source": [
        "from sklearn.tree import DecisionTreeClassifier\n",
        "Tree = DecisionTreeClassifier()\n",
        "Tree.fit(X_train, y_train)\n",
        "Tree_predictions = Tree.predict(X_test)\n",
        "print(classification_report(y_test, Tree_predictions))"
      ],
      "execution_count": 76,
      "outputs": [
        {
          "output_type": "stream",
          "text": [
            "              precision    recall  f1-score   support\n",
            "\n",
            "           0       0.00      0.00      0.00         1\n",
            "           1       0.00      0.00      0.00         7\n",
            "           2       0.71      0.76      0.74        51\n",
            "           3       0.25      0.11      0.15         9\n",
            "           4       0.00      0.00      0.00         2\n",
            "           5       0.00      0.00      0.00         0\n",
            "           6       0.00      0.00      0.00         1\n",
            "\n",
            "    accuracy                           0.56        71\n",
            "   macro avg       0.14      0.13      0.13        71\n",
            "weighted avg       0.54      0.56      0.55        71\n",
            "\n"
          ],
          "name": "stdout"
        },
        {
          "output_type": "stream",
          "text": [
            "/usr/local/lib/python3.6/dist-packages/sklearn/metrics/_classification.py:1272: UndefinedMetricWarning: Precision and F-score are ill-defined and being set to 0.0 in labels with no predicted samples. Use `zero_division` parameter to control this behavior.\n",
            "  _warn_prf(average, modifier, msg_start, len(result))\n",
            "/usr/local/lib/python3.6/dist-packages/sklearn/metrics/_classification.py:1272: UndefinedMetricWarning: Recall and F-score are ill-defined and being set to 0.0 in labels with no true samples. Use `zero_division` parameter to control this behavior.\n",
            "  _warn_prf(average, modifier, msg_start, len(result))\n"
          ],
          "name": "stderr"
        }
      ]
    },
    {
      "cell_type": "markdown",
      "metadata": {
        "id": "uAiZE3F_QoXG"
      },
      "source": [
        "Результат очень слабый, как и с предыдущими алгоритмами."
      ]
    },
    {
      "cell_type": "markdown",
      "metadata": {
        "id": "IUS3jxljQwmA"
      },
      "source": [
        "Теперь используем сложный алгоритм классификации - градиентный бустинг.\n"
      ]
    },
    {
      "cell_type": "markdown",
      "metadata": {
        "id": "yjGvbg02QxD9"
      },
      "source": [
        "### CatBoost Classifier"
      ]
    },
    {
      "cell_type": "markdown",
      "metadata": {
        "id": "XR8b6vKPRH9m"
      },
      "source": [
        "Библиотека CatBoost не предустановлена по умолчанию, нам нужно будет использовать команду pip install"
      ]
    },
    {
      "cell_type": "code",
      "metadata": {
        "colab": {
          "base_uri": "https://localhost:8080/"
        },
        "id": "EKYUkShrXFkR",
        "outputId": "c878e4e3-a177-4ddb-c2bf-8020026758ba"
      },
      "source": [
        "!pip install catboost"
      ],
      "execution_count": 77,
      "outputs": [
        {
          "output_type": "stream",
          "text": [
            "Collecting catboost\n",
            "\u001b[?25l  Downloading https://files.pythonhosted.org/packages/20/37/bc4e0ddc30c07a96482abf1de7ed1ca54e59bba2026a33bca6d2ef286e5b/catboost-0.24.4-cp36-none-manylinux1_x86_64.whl (65.7MB)\n",
            "\u001b[K     |████████████████████████████████| 65.8MB 60kB/s \n",
            "\u001b[?25hRequirement already satisfied: plotly in /usr/local/lib/python3.6/dist-packages (from catboost) (4.4.1)\n",
            "Requirement already satisfied: graphviz in /usr/local/lib/python3.6/dist-packages (from catboost) (0.10.1)\n",
            "Requirement already satisfied: matplotlib in /usr/local/lib/python3.6/dist-packages (from catboost) (3.2.2)\n",
            "Requirement already satisfied: six in /usr/local/lib/python3.6/dist-packages (from catboost) (1.15.0)\n",
            "Requirement already satisfied: scipy in /usr/local/lib/python3.6/dist-packages (from catboost) (1.4.1)\n",
            "Requirement already satisfied: pandas>=0.24.0 in /usr/local/lib/python3.6/dist-packages (from catboost) (1.1.5)\n",
            "Requirement already satisfied: numpy>=1.16.0 in /usr/local/lib/python3.6/dist-packages (from catboost) (1.19.5)\n",
            "Requirement already satisfied: retrying>=1.3.3 in /usr/local/lib/python3.6/dist-packages (from plotly->catboost) (1.3.3)\n",
            "Requirement already satisfied: pyparsing!=2.0.4,!=2.1.2,!=2.1.6,>=2.0.1 in /usr/local/lib/python3.6/dist-packages (from matplotlib->catboost) (2.4.7)\n",
            "Requirement already satisfied: python-dateutil>=2.1 in /usr/local/lib/python3.6/dist-packages (from matplotlib->catboost) (2.8.1)\n",
            "Requirement already satisfied: cycler>=0.10 in /usr/local/lib/python3.6/dist-packages (from matplotlib->catboost) (0.10.0)\n",
            "Requirement already satisfied: kiwisolver>=1.0.1 in /usr/local/lib/python3.6/dist-packages (from matplotlib->catboost) (1.3.1)\n",
            "Requirement already satisfied: pytz>=2017.2 in /usr/local/lib/python3.6/dist-packages (from pandas>=0.24.0->catboost) (2018.9)\n",
            "Installing collected packages: catboost\n",
            "Successfully installed catboost-0.24.4\n"
          ],
          "name": "stdout"
        }
      ]
    },
    {
      "cell_type": "markdown",
      "metadata": {
        "id": "HyEJMSabRX6l"
      },
      "source": [
        "Теперь импортируем библиотеку catboost"
      ]
    },
    {
      "cell_type": "code",
      "metadata": {
        "id": "glW2FOpYWYdr"
      },
      "source": [
        "import catboost"
      ],
      "execution_count": 80,
      "outputs": []
    },
    {
      "cell_type": "markdown",
      "metadata": {
        "id": "PPHosfSDUFII"
      },
      "source": [
        "Обучаем наш алгоритм градиентного бустинга"
      ]
    },
    {
      "cell_type": "code",
      "metadata": {
        "colab": {
          "base_uri": "https://localhost:8080/"
        },
        "id": "gbkeNBXIYzbo",
        "outputId": "797bdc8d-9c0f-4058-8d0c-a24e5bd5aa7d"
      },
      "source": [
        "Kitty = catboost.CatBoostClassifier()\n",
        "Kitty.fit(X_test, y_test)"
      ],
      "execution_count": 82,
      "outputs": [
        {
          "output_type": "stream",
          "text": [
            "Learning rate set to 0.069141\n",
            "0:\tlearn: 1.7055356\ttotal: 1.37ms\tremaining: 1.37s\n",
            "1:\tlearn: 1.6511951\ttotal: 6.73ms\tremaining: 3.36s\n",
            "2:\tlearn: 1.6037411\ttotal: 11.6ms\tremaining: 3.85s\n",
            "3:\tlearn: 1.5631090\ttotal: 16.2ms\tremaining: 4.04s\n",
            "4:\tlearn: 1.5246642\ttotal: 20.8ms\tremaining: 4.14s\n",
            "5:\tlearn: 1.4795621\ttotal: 25.6ms\tremaining: 4.23s\n",
            "6:\tlearn: 1.4384257\ttotal: 30.4ms\tremaining: 4.31s\n",
            "7:\tlearn: 1.3985122\ttotal: 33.1ms\tremaining: 4.1s\n",
            "8:\tlearn: 1.3615944\ttotal: 38.3ms\tremaining: 4.21s\n",
            "9:\tlearn: 1.3201406\ttotal: 39.2ms\tremaining: 3.88s\n",
            "10:\tlearn: 1.2794363\ttotal: 39.8ms\tremaining: 3.58s\n",
            "11:\tlearn: 1.2583195\ttotal: 44.6ms\tremaining: 3.67s\n",
            "12:\tlearn: 1.2363318\ttotal: 49.2ms\tremaining: 3.73s\n",
            "13:\tlearn: 1.2057575\ttotal: 53.8ms\tremaining: 3.79s\n",
            "14:\tlearn: 1.1820361\ttotal: 58.3ms\tremaining: 3.83s\n",
            "15:\tlearn: 1.1601864\ttotal: 62.4ms\tremaining: 3.84s\n",
            "16:\tlearn: 1.1396761\ttotal: 66.7ms\tremaining: 3.85s\n",
            "17:\tlearn: 1.1202165\ttotal: 69.2ms\tremaining: 3.77s\n",
            "18:\tlearn: 1.1038165\ttotal: 73.1ms\tremaining: 3.78s\n",
            "19:\tlearn: 1.0896335\ttotal: 77.4ms\tremaining: 3.79s\n",
            "20:\tlearn: 1.0740244\ttotal: 81.7ms\tremaining: 3.81s\n",
            "21:\tlearn: 1.0600928\ttotal: 86.2ms\tremaining: 3.83s\n",
            "22:\tlearn: 1.0439882\ttotal: 90.7ms\tremaining: 3.85s\n",
            "23:\tlearn: 1.0305719\ttotal: 95.1ms\tremaining: 3.87s\n",
            "24:\tlearn: 1.0174549\ttotal: 99.3ms\tremaining: 3.87s\n",
            "25:\tlearn: 1.0033495\ttotal: 104ms\tremaining: 3.88s\n",
            "26:\tlearn: 0.9903318\ttotal: 108ms\tremaining: 3.88s\n",
            "27:\tlearn: 0.9755247\ttotal: 112ms\tremaining: 3.9s\n",
            "28:\tlearn: 0.9604303\ttotal: 116ms\tremaining: 3.9s\n",
            "29:\tlearn: 0.9492131\ttotal: 121ms\tremaining: 3.9s\n",
            "30:\tlearn: 0.9393987\ttotal: 125ms\tremaining: 3.92s\n",
            "31:\tlearn: 0.9257949\ttotal: 130ms\tremaining: 3.92s\n",
            "32:\tlearn: 0.9111703\ttotal: 134ms\tremaining: 3.92s\n",
            "33:\tlearn: 0.9015798\ttotal: 138ms\tremaining: 3.92s\n",
            "34:\tlearn: 0.8910925\ttotal: 142ms\tremaining: 3.92s\n",
            "35:\tlearn: 0.8772726\ttotal: 146ms\tremaining: 3.92s\n",
            "36:\tlearn: 0.8670440\ttotal: 151ms\tremaining: 3.93s\n",
            "37:\tlearn: 0.8554249\ttotal: 155ms\tremaining: 3.94s\n",
            "38:\tlearn: 0.8471666\ttotal: 158ms\tremaining: 3.89s\n",
            "39:\tlearn: 0.8379203\ttotal: 163ms\tremaining: 3.91s\n",
            "40:\tlearn: 0.8295992\ttotal: 167ms\tremaining: 3.91s\n",
            "41:\tlearn: 0.8211852\ttotal: 168ms\tremaining: 3.83s\n",
            "42:\tlearn: 0.8132176\ttotal: 172ms\tremaining: 3.83s\n",
            "43:\tlearn: 0.8052226\ttotal: 177ms\tremaining: 3.83s\n",
            "44:\tlearn: 0.7966418\ttotal: 181ms\tremaining: 3.83s\n",
            "45:\tlearn: 0.7898657\ttotal: 185ms\tremaining: 3.84s\n",
            "46:\tlearn: 0.7828358\ttotal: 190ms\tremaining: 3.85s\n",
            "47:\tlearn: 0.7733520\ttotal: 195ms\tremaining: 3.87s\n",
            "48:\tlearn: 0.7663159\ttotal: 198ms\tremaining: 3.84s\n",
            "49:\tlearn: 0.7585837\ttotal: 202ms\tremaining: 3.85s\n",
            "50:\tlearn: 0.7513463\ttotal: 203ms\tremaining: 3.77s\n",
            "51:\tlearn: 0.7448176\ttotal: 207ms\tremaining: 3.78s\n",
            "52:\tlearn: 0.7363424\ttotal: 212ms\tremaining: 3.78s\n",
            "53:\tlearn: 0.7290082\ttotal: 213ms\tremaining: 3.73s\n",
            "54:\tlearn: 0.7230308\ttotal: 218ms\tremaining: 3.74s\n",
            "55:\tlearn: 0.7154742\ttotal: 222ms\tremaining: 3.74s\n",
            "56:\tlearn: 0.7093981\ttotal: 226ms\tremaining: 3.74s\n",
            "57:\tlearn: 0.7033069\ttotal: 231ms\tremaining: 3.75s\n",
            "58:\tlearn: 0.6952841\ttotal: 235ms\tremaining: 3.75s\n",
            "59:\tlearn: 0.6895523\ttotal: 240ms\tremaining: 3.75s\n",
            "60:\tlearn: 0.6824830\ttotal: 244ms\tremaining: 3.76s\n",
            "61:\tlearn: 0.6765878\ttotal: 249ms\tremaining: 3.76s\n",
            "62:\tlearn: 0.6700063\ttotal: 253ms\tremaining: 3.77s\n",
            "63:\tlearn: 0.6655828\ttotal: 258ms\tremaining: 3.77s\n",
            "64:\tlearn: 0.6593065\ttotal: 262ms\tremaining: 3.77s\n",
            "65:\tlearn: 0.6551957\ttotal: 266ms\tremaining: 3.77s\n",
            "66:\tlearn: 0.6504113\ttotal: 270ms\tremaining: 3.76s\n",
            "67:\tlearn: 0.6454464\ttotal: 275ms\tremaining: 3.77s\n",
            "68:\tlearn: 0.6396264\ttotal: 279ms\tremaining: 3.77s\n",
            "69:\tlearn: 0.6344264\ttotal: 283ms\tremaining: 3.76s\n",
            "70:\tlearn: 0.6287424\ttotal: 288ms\tremaining: 3.76s\n",
            "71:\tlearn: 0.6232485\ttotal: 292ms\tremaining: 3.76s\n",
            "72:\tlearn: 0.6183145\ttotal: 296ms\tremaining: 3.76s\n",
            "73:\tlearn: 0.6133752\ttotal: 301ms\tremaining: 3.76s\n",
            "74:\tlearn: 0.6076838\ttotal: 305ms\tremaining: 3.76s\n",
            "75:\tlearn: 0.6018503\ttotal: 309ms\tremaining: 3.76s\n",
            "76:\tlearn: 0.5970464\ttotal: 313ms\tremaining: 3.75s\n",
            "77:\tlearn: 0.5910343\ttotal: 317ms\tremaining: 3.75s\n",
            "78:\tlearn: 0.5853339\ttotal: 322ms\tremaining: 3.75s\n",
            "79:\tlearn: 0.5801887\ttotal: 326ms\tremaining: 3.75s\n",
            "80:\tlearn: 0.5738707\ttotal: 331ms\tremaining: 3.75s\n",
            "81:\tlearn: 0.5694921\ttotal: 335ms\tremaining: 3.75s\n",
            "82:\tlearn: 0.5658634\ttotal: 339ms\tremaining: 3.75s\n",
            "83:\tlearn: 0.5609157\ttotal: 344ms\tremaining: 3.75s\n",
            "84:\tlearn: 0.5556722\ttotal: 348ms\tremaining: 3.74s\n",
            "85:\tlearn: 0.5508010\ttotal: 352ms\tremaining: 3.74s\n",
            "86:\tlearn: 0.5462766\ttotal: 355ms\tremaining: 3.73s\n",
            "87:\tlearn: 0.5420254\ttotal: 359ms\tremaining: 3.72s\n",
            "88:\tlearn: 0.5371224\ttotal: 363ms\tremaining: 3.72s\n",
            "89:\tlearn: 0.5335196\ttotal: 367ms\tremaining: 3.71s\n",
            "90:\tlearn: 0.5284476\ttotal: 372ms\tremaining: 3.71s\n",
            "91:\tlearn: 0.5231310\ttotal: 376ms\tremaining: 3.71s\n",
            "92:\tlearn: 0.5187463\ttotal: 380ms\tremaining: 3.71s\n",
            "93:\tlearn: 0.5148816\ttotal: 384ms\tremaining: 3.7s\n",
            "94:\tlearn: 0.5102030\ttotal: 388ms\tremaining: 3.7s\n",
            "95:\tlearn: 0.5063073\ttotal: 394ms\tremaining: 3.71s\n",
            "96:\tlearn: 0.5011066\ttotal: 399ms\tremaining: 3.72s\n",
            "97:\tlearn: 0.4964058\ttotal: 403ms\tremaining: 3.71s\n",
            "98:\tlearn: 0.4931090\ttotal: 407ms\tremaining: 3.71s\n",
            "99:\tlearn: 0.4889816\ttotal: 411ms\tremaining: 3.7s\n",
            "100:\tlearn: 0.4841202\ttotal: 415ms\tremaining: 3.7s\n",
            "101:\tlearn: 0.4795007\ttotal: 421ms\tremaining: 3.71s\n",
            "102:\tlearn: 0.4760036\ttotal: 426ms\tremaining: 3.71s\n",
            "103:\tlearn: 0.4723222\ttotal: 430ms\tremaining: 3.71s\n",
            "104:\tlearn: 0.4684676\ttotal: 435ms\tremaining: 3.71s\n",
            "105:\tlearn: 0.4652952\ttotal: 439ms\tremaining: 3.7s\n",
            "106:\tlearn: 0.4607661\ttotal: 443ms\tremaining: 3.7s\n",
            "107:\tlearn: 0.4573556\ttotal: 447ms\tremaining: 3.69s\n",
            "108:\tlearn: 0.4531918\ttotal: 452ms\tremaining: 3.69s\n",
            "109:\tlearn: 0.4493219\ttotal: 456ms\tremaining: 3.69s\n",
            "110:\tlearn: 0.4450522\ttotal: 460ms\tremaining: 3.68s\n",
            "111:\tlearn: 0.4419534\ttotal: 465ms\tremaining: 3.68s\n",
            "112:\tlearn: 0.4378047\ttotal: 469ms\tremaining: 3.68s\n",
            "113:\tlearn: 0.4348943\ttotal: 473ms\tremaining: 3.67s\n",
            "114:\tlearn: 0.4317218\ttotal: 477ms\tremaining: 3.67s\n",
            "115:\tlearn: 0.4288318\ttotal: 481ms\tremaining: 3.67s\n",
            "116:\tlearn: 0.4256800\ttotal: 486ms\tremaining: 3.67s\n",
            "117:\tlearn: 0.4228056\ttotal: 490ms\tremaining: 3.66s\n",
            "118:\tlearn: 0.4191663\ttotal: 495ms\tremaining: 3.66s\n",
            "119:\tlearn: 0.4159592\ttotal: 499ms\tremaining: 3.66s\n",
            "120:\tlearn: 0.4120832\ttotal: 503ms\tremaining: 3.65s\n",
            "121:\tlearn: 0.4085451\ttotal: 507ms\tremaining: 3.65s\n",
            "122:\tlearn: 0.4045382\ttotal: 511ms\tremaining: 3.64s\n",
            "123:\tlearn: 0.4017403\ttotal: 515ms\tremaining: 3.64s\n",
            "124:\tlearn: 0.3986415\ttotal: 520ms\tremaining: 3.64s\n",
            "125:\tlearn: 0.3953629\ttotal: 524ms\tremaining: 3.63s\n",
            "126:\tlearn: 0.3925318\ttotal: 528ms\tremaining: 3.63s\n",
            "127:\tlearn: 0.3898740\ttotal: 529ms\tremaining: 3.61s\n",
            "128:\tlearn: 0.3866708\ttotal: 534ms\tremaining: 3.6s\n",
            "129:\tlearn: 0.3846944\ttotal: 538ms\tremaining: 3.6s\n",
            "130:\tlearn: 0.3817988\ttotal: 542ms\tremaining: 3.59s\n",
            "131:\tlearn: 0.3791105\ttotal: 546ms\tremaining: 3.59s\n",
            "132:\tlearn: 0.3757596\ttotal: 550ms\tremaining: 3.58s\n",
            "133:\tlearn: 0.3729765\ttotal: 554ms\tremaining: 3.58s\n",
            "134:\tlearn: 0.3705430\ttotal: 559ms\tremaining: 3.58s\n",
            "135:\tlearn: 0.3673685\ttotal: 563ms\tremaining: 3.57s\n",
            "136:\tlearn: 0.3644831\ttotal: 567ms\tremaining: 3.57s\n",
            "137:\tlearn: 0.3616351\ttotal: 571ms\tremaining: 3.57s\n",
            "138:\tlearn: 0.3590000\ttotal: 575ms\tremaining: 3.56s\n",
            "139:\tlearn: 0.3568246\ttotal: 580ms\tremaining: 3.56s\n",
            "140:\tlearn: 0.3543269\ttotal: 584ms\tremaining: 3.56s\n",
            "141:\tlearn: 0.3518465\ttotal: 588ms\tremaining: 3.55s\n",
            "142:\tlearn: 0.3496557\ttotal: 606ms\tremaining: 3.63s\n",
            "143:\tlearn: 0.3478961\ttotal: 610ms\tremaining: 3.63s\n",
            "144:\tlearn: 0.3447972\ttotal: 614ms\tremaining: 3.62s\n",
            "145:\tlearn: 0.3423690\ttotal: 619ms\tremaining: 3.62s\n",
            "146:\tlearn: 0.3402515\ttotal: 623ms\tremaining: 3.61s\n",
            "147:\tlearn: 0.3382819\ttotal: 627ms\tremaining: 3.61s\n",
            "148:\tlearn: 0.3360163\ttotal: 631ms\tremaining: 3.6s\n",
            "149:\tlearn: 0.3332027\ttotal: 635ms\tremaining: 3.6s\n",
            "150:\tlearn: 0.3311788\ttotal: 639ms\tremaining: 3.6s\n",
            "151:\tlearn: 0.3292615\ttotal: 644ms\tremaining: 3.59s\n",
            "152:\tlearn: 0.3269394\ttotal: 648ms\tremaining: 3.59s\n",
            "153:\tlearn: 0.3247386\ttotal: 652ms\tremaining: 3.58s\n",
            "154:\tlearn: 0.3223444\ttotal: 657ms\tremaining: 3.58s\n",
            "155:\tlearn: 0.3212710\ttotal: 661ms\tremaining: 3.57s\n",
            "156:\tlearn: 0.3195822\ttotal: 665ms\tremaining: 3.57s\n",
            "157:\tlearn: 0.3177343\ttotal: 670ms\tremaining: 3.57s\n",
            "158:\tlearn: 0.3160242\ttotal: 673ms\tremaining: 3.56s\n",
            "159:\tlearn: 0.3137297\ttotal: 678ms\tremaining: 3.56s\n",
            "160:\tlearn: 0.3120560\ttotal: 682ms\tremaining: 3.55s\n",
            "161:\tlearn: 0.3103188\ttotal: 686ms\tremaining: 3.55s\n",
            "162:\tlearn: 0.3081093\ttotal: 690ms\tremaining: 3.54s\n",
            "163:\tlearn: 0.3059895\ttotal: 694ms\tremaining: 3.54s\n",
            "164:\tlearn: 0.3040099\ttotal: 699ms\tremaining: 3.54s\n",
            "165:\tlearn: 0.3029558\ttotal: 703ms\tremaining: 3.53s\n",
            "166:\tlearn: 0.3002720\ttotal: 707ms\tremaining: 3.53s\n",
            "167:\tlearn: 0.2974841\ttotal: 712ms\tremaining: 3.52s\n",
            "168:\tlearn: 0.2955340\ttotal: 716ms\tremaining: 3.52s\n",
            "169:\tlearn: 0.2937542\ttotal: 720ms\tremaining: 3.51s\n",
            "170:\tlearn: 0.2921072\ttotal: 724ms\tremaining: 3.51s\n",
            "171:\tlearn: 0.2895876\ttotal: 727ms\tremaining: 3.5s\n",
            "172:\tlearn: 0.2879522\ttotal: 732ms\tremaining: 3.5s\n",
            "173:\tlearn: 0.2860431\ttotal: 736ms\tremaining: 3.5s\n",
            "174:\tlearn: 0.2841112\ttotal: 741ms\tremaining: 3.49s\n",
            "175:\tlearn: 0.2825869\ttotal: 743ms\tremaining: 3.48s\n",
            "176:\tlearn: 0.2805053\ttotal: 748ms\tremaining: 3.48s\n",
            "177:\tlearn: 0.2784797\ttotal: 752ms\tremaining: 3.47s\n",
            "178:\tlearn: 0.2773671\ttotal: 754ms\tremaining: 3.46s\n",
            "179:\tlearn: 0.2755759\ttotal: 758ms\tremaining: 3.46s\n",
            "180:\tlearn: 0.2731772\ttotal: 763ms\tremaining: 3.45s\n",
            "181:\tlearn: 0.2713596\ttotal: 767ms\tremaining: 3.45s\n",
            "182:\tlearn: 0.2693092\ttotal: 771ms\tremaining: 3.44s\n",
            "183:\tlearn: 0.2682265\ttotal: 775ms\tremaining: 3.44s\n",
            "184:\tlearn: 0.2672380\ttotal: 779ms\tremaining: 3.43s\n",
            "185:\tlearn: 0.2651556\ttotal: 783ms\tremaining: 3.43s\n",
            "186:\tlearn: 0.2633413\ttotal: 790ms\tremaining: 3.44s\n",
            "187:\tlearn: 0.2621948\ttotal: 795ms\tremaining: 3.44s\n",
            "188:\tlearn: 0.2607826\ttotal: 801ms\tremaining: 3.44s\n",
            "189:\tlearn: 0.2592071\ttotal: 807ms\tremaining: 3.44s\n",
            "190:\tlearn: 0.2575836\ttotal: 812ms\tremaining: 3.44s\n",
            "191:\tlearn: 0.2562447\ttotal: 816ms\tremaining: 3.43s\n",
            "192:\tlearn: 0.2549271\ttotal: 818ms\tremaining: 3.42s\n",
            "193:\tlearn: 0.2532462\ttotal: 823ms\tremaining: 3.42s\n",
            "194:\tlearn: 0.2522680\ttotal: 827ms\tremaining: 3.41s\n",
            "195:\tlearn: 0.2506326\ttotal: 831ms\tremaining: 3.41s\n",
            "196:\tlearn: 0.2491300\ttotal: 836ms\tremaining: 3.41s\n",
            "197:\tlearn: 0.2477008\ttotal: 840ms\tremaining: 3.4s\n",
            "198:\tlearn: 0.2461967\ttotal: 844ms\tremaining: 3.4s\n",
            "199:\tlearn: 0.2454527\ttotal: 849ms\tremaining: 3.4s\n",
            "200:\tlearn: 0.2440888\ttotal: 853ms\tremaining: 3.39s\n",
            "201:\tlearn: 0.2426148\ttotal: 857ms\tremaining: 3.39s\n",
            "202:\tlearn: 0.2409149\ttotal: 862ms\tremaining: 3.38s\n",
            "203:\tlearn: 0.2399478\ttotal: 866ms\tremaining: 3.38s\n",
            "204:\tlearn: 0.2383325\ttotal: 870ms\tremaining: 3.38s\n",
            "205:\tlearn: 0.2375020\ttotal: 875ms\tremaining: 3.37s\n",
            "206:\tlearn: 0.2360691\ttotal: 879ms\tremaining: 3.37s\n",
            "207:\tlearn: 0.2346114\ttotal: 884ms\tremaining: 3.36s\n",
            "208:\tlearn: 0.2333401\ttotal: 888ms\tremaining: 3.36s\n",
            "209:\tlearn: 0.2319461\ttotal: 892ms\tremaining: 3.35s\n",
            "210:\tlearn: 0.2304111\ttotal: 896ms\tremaining: 3.35s\n",
            "211:\tlearn: 0.2290515\ttotal: 900ms\tremaining: 3.35s\n",
            "212:\tlearn: 0.2283443\ttotal: 904ms\tremaining: 3.34s\n",
            "213:\tlearn: 0.2268975\ttotal: 908ms\tremaining: 3.33s\n",
            "214:\tlearn: 0.2259773\ttotal: 912ms\tremaining: 3.33s\n",
            "215:\tlearn: 0.2248099\ttotal: 916ms\tremaining: 3.33s\n",
            "216:\tlearn: 0.2237864\ttotal: 921ms\tremaining: 3.32s\n",
            "217:\tlearn: 0.2224538\ttotal: 924ms\tremaining: 3.32s\n",
            "218:\tlearn: 0.2217301\ttotal: 928ms\tremaining: 3.31s\n",
            "219:\tlearn: 0.2205719\ttotal: 932ms\tremaining: 3.31s\n",
            "220:\tlearn: 0.2198451\ttotal: 936ms\tremaining: 3.3s\n",
            "221:\tlearn: 0.2189648\ttotal: 941ms\tremaining: 3.3s\n",
            "222:\tlearn: 0.2178373\ttotal: 945ms\tremaining: 3.29s\n",
            "223:\tlearn: 0.2165290\ttotal: 949ms\tremaining: 3.29s\n",
            "224:\tlearn: 0.2153138\ttotal: 953ms\tremaining: 3.28s\n",
            "225:\tlearn: 0.2141078\ttotal: 957ms\tremaining: 3.28s\n",
            "226:\tlearn: 0.2130235\ttotal: 961ms\tremaining: 3.27s\n",
            "227:\tlearn: 0.2119233\ttotal: 965ms\tremaining: 3.27s\n",
            "228:\tlearn: 0.2106970\ttotal: 970ms\tremaining: 3.26s\n",
            "229:\tlearn: 0.2092713\ttotal: 974ms\tremaining: 3.26s\n",
            "230:\tlearn: 0.2080633\ttotal: 979ms\tremaining: 3.26s\n",
            "231:\tlearn: 0.2073466\ttotal: 983ms\tremaining: 3.25s\n",
            "232:\tlearn: 0.2061946\ttotal: 987ms\tremaining: 3.25s\n",
            "233:\tlearn: 0.2046889\ttotal: 992ms\tremaining: 3.25s\n",
            "234:\tlearn: 0.2035445\ttotal: 997ms\tremaining: 3.24s\n",
            "235:\tlearn: 0.2024512\ttotal: 1s\tremaining: 3.24s\n",
            "236:\tlearn: 0.2017657\ttotal: 1.01s\tremaining: 3.24s\n",
            "237:\tlearn: 0.2006300\ttotal: 1.01s\tremaining: 3.23s\n",
            "238:\tlearn: 0.2001583\ttotal: 1.01s\tremaining: 3.23s\n",
            "239:\tlearn: 0.1987882\ttotal: 1.02s\tremaining: 3.23s\n",
            "240:\tlearn: 0.1977687\ttotal: 1.02s\tremaining: 3.22s\n",
            "241:\tlearn: 0.1967121\ttotal: 1.03s\tremaining: 3.22s\n",
            "242:\tlearn: 0.1960621\ttotal: 1.03s\tremaining: 3.21s\n",
            "243:\tlearn: 0.1947962\ttotal: 1.03s\tremaining: 3.21s\n",
            "244:\tlearn: 0.1937428\ttotal: 1.04s\tremaining: 3.2s\n",
            "245:\tlearn: 0.1928678\ttotal: 1.04s\tremaining: 3.2s\n",
            "246:\tlearn: 0.1923272\ttotal: 1.05s\tremaining: 3.19s\n",
            "247:\tlearn: 0.1911826\ttotal: 1.05s\tremaining: 3.19s\n",
            "248:\tlearn: 0.1902545\ttotal: 1.05s\tremaining: 3.18s\n",
            "249:\tlearn: 0.1896654\ttotal: 1.06s\tremaining: 3.18s\n",
            "250:\tlearn: 0.1889130\ttotal: 1.06s\tremaining: 3.17s\n",
            "251:\tlearn: 0.1881831\ttotal: 1.07s\tremaining: 3.17s\n",
            "252:\tlearn: 0.1872754\ttotal: 1.07s\tremaining: 3.17s\n",
            "253:\tlearn: 0.1862131\ttotal: 1.07s\tremaining: 3.16s\n",
            "254:\tlearn: 0.1852599\ttotal: 1.08s\tremaining: 3.15s\n",
            "255:\tlearn: 0.1848402\ttotal: 1.08s\tremaining: 3.15s\n",
            "256:\tlearn: 0.1838493\ttotal: 1.09s\tremaining: 3.15s\n",
            "257:\tlearn: 0.1831570\ttotal: 1.09s\tremaining: 3.14s\n",
            "258:\tlearn: 0.1826016\ttotal: 1.1s\tremaining: 3.14s\n",
            "259:\tlearn: 0.1816354\ttotal: 1.1s\tremaining: 3.13s\n",
            "260:\tlearn: 0.1804794\ttotal: 1.1s\tremaining: 3.13s\n",
            "261:\tlearn: 0.1796347\ttotal: 1.11s\tremaining: 3.12s\n",
            "262:\tlearn: 0.1786066\ttotal: 1.11s\tremaining: 3.12s\n",
            "263:\tlearn: 0.1780310\ttotal: 1.12s\tremaining: 3.11s\n",
            "264:\tlearn: 0.1769246\ttotal: 1.12s\tremaining: 3.11s\n",
            "265:\tlearn: 0.1760458\ttotal: 1.12s\tremaining: 3.1s\n",
            "266:\tlearn: 0.1754055\ttotal: 1.13s\tremaining: 3.1s\n",
            "267:\tlearn: 0.1742776\ttotal: 1.13s\tremaining: 3.09s\n",
            "268:\tlearn: 0.1737287\ttotal: 1.14s\tremaining: 3.09s\n",
            "269:\tlearn: 0.1729769\ttotal: 1.14s\tremaining: 3.09s\n",
            "270:\tlearn: 0.1721533\ttotal: 1.15s\tremaining: 3.08s\n",
            "271:\tlearn: 0.1714975\ttotal: 1.15s\tremaining: 3.08s\n",
            "272:\tlearn: 0.1705744\ttotal: 1.15s\tremaining: 3.07s\n",
            "273:\tlearn: 0.1698136\ttotal: 1.16s\tremaining: 3.07s\n",
            "274:\tlearn: 0.1689704\ttotal: 1.16s\tremaining: 3.06s\n",
            "275:\tlearn: 0.1682086\ttotal: 1.17s\tremaining: 3.06s\n",
            "276:\tlearn: 0.1675250\ttotal: 1.17s\tremaining: 3.06s\n",
            "277:\tlearn: 0.1667828\ttotal: 1.18s\tremaining: 3.05s\n",
            "278:\tlearn: 0.1659654\ttotal: 1.18s\tremaining: 3.05s\n",
            "279:\tlearn: 0.1652214\ttotal: 1.18s\tremaining: 3.04s\n",
            "280:\tlearn: 0.1646572\ttotal: 1.19s\tremaining: 3.04s\n",
            "281:\tlearn: 0.1637685\ttotal: 1.19s\tremaining: 3.04s\n",
            "282:\tlearn: 0.1630610\ttotal: 1.2s\tremaining: 3.04s\n",
            "283:\tlearn: 0.1624303\ttotal: 1.2s\tremaining: 3.03s\n",
            "284:\tlearn: 0.1618048\ttotal: 1.21s\tremaining: 3.03s\n",
            "285:\tlearn: 0.1611847\ttotal: 1.21s\tremaining: 3.03s\n",
            "286:\tlearn: 0.1605865\ttotal: 1.22s\tremaining: 3.02s\n",
            "287:\tlearn: 0.1600008\ttotal: 1.22s\tremaining: 3.02s\n",
            "288:\tlearn: 0.1590311\ttotal: 1.22s\tremaining: 3.01s\n",
            "289:\tlearn: 0.1583747\ttotal: 1.23s\tremaining: 3.01s\n",
            "290:\tlearn: 0.1577182\ttotal: 1.23s\tremaining: 3s\n",
            "291:\tlearn: 0.1569312\ttotal: 1.24s\tremaining: 3s\n",
            "292:\tlearn: 0.1563361\ttotal: 1.24s\tremaining: 3s\n",
            "293:\tlearn: 0.1556529\ttotal: 1.25s\tremaining: 2.99s\n",
            "294:\tlearn: 0.1552020\ttotal: 1.25s\tremaining: 2.99s\n",
            "295:\tlearn: 0.1547700\ttotal: 1.25s\tremaining: 2.98s\n",
            "296:\tlearn: 0.1541744\ttotal: 1.26s\tremaining: 2.98s\n",
            "297:\tlearn: 0.1535775\ttotal: 1.26s\tremaining: 2.98s\n",
            "298:\tlearn: 0.1527945\ttotal: 1.27s\tremaining: 2.97s\n",
            "299:\tlearn: 0.1520562\ttotal: 1.27s\tremaining: 2.97s\n",
            "300:\tlearn: 0.1513429\ttotal: 1.27s\tremaining: 2.96s\n",
            "301:\tlearn: 0.1507235\ttotal: 1.28s\tremaining: 2.96s\n",
            "302:\tlearn: 0.1500462\ttotal: 1.28s\tremaining: 2.95s\n",
            "303:\tlearn: 0.1494172\ttotal: 1.29s\tremaining: 2.95s\n",
            "304:\tlearn: 0.1486560\ttotal: 1.29s\tremaining: 2.94s\n",
            "305:\tlearn: 0.1481087\ttotal: 1.3s\tremaining: 2.94s\n",
            "306:\tlearn: 0.1474349\ttotal: 1.3s\tremaining: 2.94s\n",
            "307:\tlearn: 0.1470863\ttotal: 1.3s\tremaining: 2.93s\n",
            "308:\tlearn: 0.1467868\ttotal: 1.31s\tremaining: 2.93s\n",
            "309:\tlearn: 0.1463253\ttotal: 1.31s\tremaining: 2.92s\n",
            "310:\tlearn: 0.1459067\ttotal: 1.32s\tremaining: 2.92s\n",
            "311:\tlearn: 0.1453492\ttotal: 1.32s\tremaining: 2.91s\n",
            "312:\tlearn: 0.1448057\ttotal: 1.33s\tremaining: 2.91s\n",
            "313:\tlearn: 0.1440021\ttotal: 1.33s\tremaining: 2.91s\n",
            "314:\tlearn: 0.1433432\ttotal: 1.33s\tremaining: 2.9s\n",
            "315:\tlearn: 0.1426969\ttotal: 1.34s\tremaining: 2.9s\n",
            "316:\tlearn: 0.1421756\ttotal: 1.34s\tremaining: 2.89s\n",
            "317:\tlearn: 0.1416650\ttotal: 1.35s\tremaining: 2.89s\n",
            "318:\tlearn: 0.1410711\ttotal: 1.35s\tremaining: 2.88s\n",
            "319:\tlearn: 0.1406218\ttotal: 1.35s\tremaining: 2.88s\n",
            "320:\tlearn: 0.1399925\ttotal: 1.36s\tremaining: 2.88s\n",
            "321:\tlearn: 0.1395858\ttotal: 1.36s\tremaining: 2.87s\n",
            "322:\tlearn: 0.1391804\ttotal: 1.37s\tremaining: 2.87s\n",
            "323:\tlearn: 0.1383554\ttotal: 1.37s\tremaining: 2.86s\n",
            "324:\tlearn: 0.1377543\ttotal: 1.38s\tremaining: 2.86s\n",
            "325:\tlearn: 0.1371720\ttotal: 1.38s\tremaining: 2.86s\n",
            "326:\tlearn: 0.1367962\ttotal: 1.39s\tremaining: 2.85s\n",
            "327:\tlearn: 0.1362310\ttotal: 1.39s\tremaining: 2.85s\n",
            "328:\tlearn: 0.1357771\ttotal: 1.4s\tremaining: 2.85s\n",
            "329:\tlearn: 0.1352616\ttotal: 1.4s\tremaining: 2.84s\n",
            "330:\tlearn: 0.1347303\ttotal: 1.4s\tremaining: 2.84s\n",
            "331:\tlearn: 0.1341293\ttotal: 1.41s\tremaining: 2.83s\n",
            "332:\tlearn: 0.1336544\ttotal: 1.41s\tremaining: 2.83s\n",
            "333:\tlearn: 0.1331387\ttotal: 1.42s\tremaining: 2.83s\n",
            "334:\tlearn: 0.1327044\ttotal: 1.42s\tremaining: 2.82s\n",
            "335:\tlearn: 0.1324483\ttotal: 1.43s\tremaining: 2.82s\n",
            "336:\tlearn: 0.1320649\ttotal: 1.43s\tremaining: 2.81s\n",
            "337:\tlearn: 0.1313852\ttotal: 1.43s\tremaining: 2.81s\n",
            "338:\tlearn: 0.1308510\ttotal: 1.44s\tremaining: 2.8s\n",
            "339:\tlearn: 0.1304271\ttotal: 1.44s\tremaining: 2.8s\n",
            "340:\tlearn: 0.1300335\ttotal: 1.45s\tremaining: 2.79s\n",
            "341:\tlearn: 0.1294292\ttotal: 1.45s\tremaining: 2.79s\n",
            "342:\tlearn: 0.1287805\ttotal: 1.46s\tremaining: 2.79s\n",
            "343:\tlearn: 0.1282779\ttotal: 1.46s\tremaining: 2.78s\n",
            "344:\tlearn: 0.1277968\ttotal: 1.46s\tremaining: 2.78s\n",
            "345:\tlearn: 0.1274386\ttotal: 1.47s\tremaining: 2.77s\n",
            "346:\tlearn: 0.1268783\ttotal: 1.47s\tremaining: 2.77s\n",
            "347:\tlearn: 0.1264750\ttotal: 1.48s\tremaining: 2.77s\n",
            "348:\tlearn: 0.1260311\ttotal: 1.48s\tremaining: 2.76s\n",
            "349:\tlearn: 0.1256939\ttotal: 1.48s\tremaining: 2.75s\n",
            "350:\tlearn: 0.1251915\ttotal: 1.49s\tremaining: 2.75s\n",
            "351:\tlearn: 0.1247846\ttotal: 1.49s\tremaining: 2.75s\n",
            "352:\tlearn: 0.1244657\ttotal: 1.5s\tremaining: 2.74s\n",
            "353:\tlearn: 0.1242340\ttotal: 1.5s\tremaining: 2.73s\n",
            "354:\tlearn: 0.1237534\ttotal: 1.5s\tremaining: 2.73s\n",
            "355:\tlearn: 0.1231643\ttotal: 1.51s\tremaining: 2.73s\n",
            "356:\tlearn: 0.1228109\ttotal: 1.51s\tremaining: 2.72s\n",
            "357:\tlearn: 0.1223039\ttotal: 1.52s\tremaining: 2.72s\n",
            "358:\tlearn: 0.1219335\ttotal: 1.52s\tremaining: 2.71s\n",
            "359:\tlearn: 0.1215286\ttotal: 1.52s\tremaining: 2.71s\n",
            "360:\tlearn: 0.1213088\ttotal: 1.53s\tremaining: 2.71s\n",
            "361:\tlearn: 0.1209008\ttotal: 1.53s\tremaining: 2.7s\n",
            "362:\tlearn: 0.1206491\ttotal: 1.54s\tremaining: 2.7s\n",
            "363:\tlearn: 0.1201871\ttotal: 1.54s\tremaining: 2.69s\n",
            "364:\tlearn: 0.1199524\ttotal: 1.54s\tremaining: 2.69s\n",
            "365:\tlearn: 0.1196486\ttotal: 1.55s\tremaining: 2.68s\n",
            "366:\tlearn: 0.1191852\ttotal: 1.55s\tremaining: 2.68s\n",
            "367:\tlearn: 0.1186158\ttotal: 1.56s\tremaining: 2.67s\n",
            "368:\tlearn: 0.1183806\ttotal: 1.56s\tremaining: 2.67s\n",
            "369:\tlearn: 0.1178859\ttotal: 1.57s\tremaining: 2.67s\n",
            "370:\tlearn: 0.1175775\ttotal: 1.57s\tremaining: 2.67s\n",
            "371:\tlearn: 0.1171772\ttotal: 1.58s\tremaining: 2.66s\n",
            "372:\tlearn: 0.1164794\ttotal: 1.58s\tremaining: 2.66s\n",
            "373:\tlearn: 0.1160161\ttotal: 1.59s\tremaining: 2.66s\n",
            "374:\tlearn: 0.1155432\ttotal: 1.59s\tremaining: 2.66s\n",
            "375:\tlearn: 0.1151901\ttotal: 1.6s\tremaining: 2.65s\n",
            "376:\tlearn: 0.1148431\ttotal: 1.6s\tremaining: 2.65s\n",
            "377:\tlearn: 0.1145445\ttotal: 1.61s\tremaining: 2.65s\n",
            "378:\tlearn: 0.1142043\ttotal: 1.61s\tremaining: 2.64s\n",
            "379:\tlearn: 0.1139287\ttotal: 1.62s\tremaining: 2.64s\n",
            "380:\tlearn: 0.1135253\ttotal: 1.62s\tremaining: 2.63s\n",
            "381:\tlearn: 0.1130790\ttotal: 1.63s\tremaining: 2.63s\n",
            "382:\tlearn: 0.1126641\ttotal: 1.63s\tremaining: 2.63s\n",
            "383:\tlearn: 0.1122475\ttotal: 1.64s\tremaining: 2.62s\n",
            "384:\tlearn: 0.1119121\ttotal: 1.64s\tremaining: 2.62s\n",
            "385:\tlearn: 0.1114232\ttotal: 1.65s\tremaining: 2.62s\n",
            "386:\tlearn: 0.1108107\ttotal: 1.65s\tremaining: 2.62s\n",
            "387:\tlearn: 0.1103892\ttotal: 1.66s\tremaining: 2.62s\n",
            "388:\tlearn: 0.1101869\ttotal: 1.66s\tremaining: 2.61s\n",
            "389:\tlearn: 0.1098230\ttotal: 1.67s\tremaining: 2.61s\n",
            "390:\tlearn: 0.1094134\ttotal: 1.67s\tremaining: 2.6s\n",
            "391:\tlearn: 0.1090314\ttotal: 1.68s\tremaining: 2.6s\n",
            "392:\tlearn: 0.1086666\ttotal: 1.68s\tremaining: 2.6s\n",
            "393:\tlearn: 0.1083632\ttotal: 1.68s\tremaining: 2.59s\n",
            "394:\tlearn: 0.1079999\ttotal: 1.69s\tremaining: 2.59s\n",
            "395:\tlearn: 0.1076408\ttotal: 1.69s\tremaining: 2.58s\n",
            "396:\tlearn: 0.1072409\ttotal: 1.7s\tremaining: 2.58s\n",
            "397:\tlearn: 0.1069432\ttotal: 1.7s\tremaining: 2.57s\n",
            "398:\tlearn: 0.1065976\ttotal: 1.71s\tremaining: 2.57s\n",
            "399:\tlearn: 0.1062137\ttotal: 1.71s\tremaining: 2.56s\n",
            "400:\tlearn: 0.1057769\ttotal: 1.71s\tremaining: 2.56s\n",
            "401:\tlearn: 0.1055212\ttotal: 1.72s\tremaining: 2.56s\n",
            "402:\tlearn: 0.1051633\ttotal: 1.72s\tremaining: 2.55s\n",
            "403:\tlearn: 0.1049381\ttotal: 1.73s\tremaining: 2.55s\n",
            "404:\tlearn: 0.1046155\ttotal: 1.73s\tremaining: 2.54s\n",
            "405:\tlearn: 0.1043413\ttotal: 1.74s\tremaining: 2.54s\n",
            "406:\tlearn: 0.1040602\ttotal: 1.74s\tremaining: 2.54s\n",
            "407:\tlearn: 0.1037774\ttotal: 1.74s\tremaining: 2.53s\n",
            "408:\tlearn: 0.1035810\ttotal: 1.75s\tremaining: 2.53s\n",
            "409:\tlearn: 0.1032750\ttotal: 1.75s\tremaining: 2.52s\n",
            "410:\tlearn: 0.1029177\ttotal: 1.76s\tremaining: 2.52s\n",
            "411:\tlearn: 0.1025477\ttotal: 1.76s\tremaining: 2.51s\n",
            "412:\tlearn: 0.1022097\ttotal: 1.76s\tremaining: 2.51s\n",
            "413:\tlearn: 0.1019376\ttotal: 1.77s\tremaining: 2.5s\n",
            "414:\tlearn: 0.1017568\ttotal: 1.77s\tremaining: 2.5s\n",
            "415:\tlearn: 0.1014579\ttotal: 1.78s\tremaining: 2.5s\n",
            "416:\tlearn: 0.1012680\ttotal: 1.79s\tremaining: 2.5s\n",
            "417:\tlearn: 0.1008878\ttotal: 1.79s\tremaining: 2.5s\n",
            "418:\tlearn: 0.1005295\ttotal: 1.8s\tremaining: 2.49s\n",
            "419:\tlearn: 0.1002925\ttotal: 1.8s\tremaining: 2.49s\n",
            "420:\tlearn: 0.1000803\ttotal: 1.81s\tremaining: 2.48s\n",
            "421:\tlearn: 0.0998025\ttotal: 1.81s\tremaining: 2.48s\n",
            "422:\tlearn: 0.0995345\ttotal: 1.81s\tremaining: 2.47s\n",
            "423:\tlearn: 0.0992550\ttotal: 1.82s\tremaining: 2.47s\n",
            "424:\tlearn: 0.0989555\ttotal: 1.82s\tremaining: 2.47s\n",
            "425:\tlearn: 0.0986074\ttotal: 1.83s\tremaining: 2.46s\n",
            "426:\tlearn: 0.0982420\ttotal: 1.83s\tremaining: 2.46s\n",
            "427:\tlearn: 0.0980562\ttotal: 1.83s\tremaining: 2.45s\n",
            "428:\tlearn: 0.0977720\ttotal: 1.84s\tremaining: 2.45s\n",
            "429:\tlearn: 0.0974635\ttotal: 1.84s\tremaining: 2.44s\n",
            "430:\tlearn: 0.0971365\ttotal: 1.85s\tremaining: 2.44s\n",
            "431:\tlearn: 0.0967488\ttotal: 1.85s\tremaining: 2.43s\n",
            "432:\tlearn: 0.0963953\ttotal: 1.85s\tremaining: 2.43s\n",
            "433:\tlearn: 0.0961352\ttotal: 1.86s\tremaining: 2.42s\n",
            "434:\tlearn: 0.0958602\ttotal: 1.86s\tremaining: 2.42s\n",
            "435:\tlearn: 0.0955844\ttotal: 1.87s\tremaining: 2.42s\n",
            "436:\tlearn: 0.0952957\ttotal: 1.87s\tremaining: 2.41s\n",
            "437:\tlearn: 0.0949804\ttotal: 1.88s\tremaining: 2.41s\n",
            "438:\tlearn: 0.0946719\ttotal: 1.88s\tremaining: 2.4s\n",
            "439:\tlearn: 0.0943527\ttotal: 1.88s\tremaining: 2.4s\n",
            "440:\tlearn: 0.0941432\ttotal: 1.89s\tremaining: 2.39s\n",
            "441:\tlearn: 0.0938168\ttotal: 1.89s\tremaining: 2.39s\n",
            "442:\tlearn: 0.0934631\ttotal: 1.9s\tremaining: 2.38s\n",
            "443:\tlearn: 0.0932018\ttotal: 1.9s\tremaining: 2.38s\n",
            "444:\tlearn: 0.0929770\ttotal: 1.9s\tremaining: 2.37s\n",
            "445:\tlearn: 0.0927515\ttotal: 1.91s\tremaining: 2.37s\n",
            "446:\tlearn: 0.0924389\ttotal: 1.91s\tremaining: 2.37s\n",
            "447:\tlearn: 0.0922723\ttotal: 1.92s\tremaining: 2.36s\n",
            "448:\tlearn: 0.0919721\ttotal: 1.92s\tremaining: 2.36s\n",
            "449:\tlearn: 0.0916107\ttotal: 1.92s\tremaining: 2.35s\n",
            "450:\tlearn: 0.0912817\ttotal: 1.93s\tremaining: 2.35s\n",
            "451:\tlearn: 0.0909481\ttotal: 1.93s\tremaining: 2.34s\n",
            "452:\tlearn: 0.0906418\ttotal: 1.94s\tremaining: 2.34s\n",
            "453:\tlearn: 0.0903661\ttotal: 1.94s\tremaining: 2.33s\n",
            "454:\tlearn: 0.0901387\ttotal: 1.94s\tremaining: 2.33s\n",
            "455:\tlearn: 0.0898874\ttotal: 1.95s\tremaining: 2.32s\n",
            "456:\tlearn: 0.0897032\ttotal: 1.95s\tremaining: 2.32s\n",
            "457:\tlearn: 0.0894974\ttotal: 1.96s\tremaining: 2.31s\n",
            "458:\tlearn: 0.0893597\ttotal: 1.96s\tremaining: 2.31s\n",
            "459:\tlearn: 0.0892301\ttotal: 1.96s\tremaining: 2.31s\n",
            "460:\tlearn: 0.0889665\ttotal: 1.97s\tremaining: 2.3s\n",
            "461:\tlearn: 0.0887045\ttotal: 1.97s\tremaining: 2.3s\n",
            "462:\tlearn: 0.0884384\ttotal: 1.98s\tremaining: 2.29s\n",
            "463:\tlearn: 0.0881903\ttotal: 1.98s\tremaining: 2.29s\n",
            "464:\tlearn: 0.0879090\ttotal: 1.99s\tremaining: 2.29s\n",
            "465:\tlearn: 0.0877481\ttotal: 1.99s\tremaining: 2.28s\n",
            "466:\tlearn: 0.0875040\ttotal: 2s\tremaining: 2.28s\n",
            "467:\tlearn: 0.0872835\ttotal: 2s\tremaining: 2.27s\n",
            "468:\tlearn: 0.0871004\ttotal: 2s\tremaining: 2.27s\n",
            "469:\tlearn: 0.0868400\ttotal: 2.01s\tremaining: 2.27s\n",
            "470:\tlearn: 0.0867212\ttotal: 2.01s\tremaining: 2.26s\n",
            "471:\tlearn: 0.0864470\ttotal: 2.01s\tremaining: 2.25s\n",
            "472:\tlearn: 0.0862756\ttotal: 2.02s\tremaining: 2.25s\n",
            "473:\tlearn: 0.0861805\ttotal: 2.02s\tremaining: 2.24s\n",
            "474:\tlearn: 0.0860407\ttotal: 2.02s\tremaining: 2.24s\n",
            "475:\tlearn: 0.0857074\ttotal: 2.03s\tremaining: 2.23s\n",
            "476:\tlearn: 0.0854753\ttotal: 2.03s\tremaining: 2.23s\n",
            "477:\tlearn: 0.0851879\ttotal: 2.04s\tremaining: 2.23s\n",
            "478:\tlearn: 0.0850677\ttotal: 2.04s\tremaining: 2.22s\n",
            "479:\tlearn: 0.0848533\ttotal: 2.05s\tremaining: 2.22s\n",
            "480:\tlearn: 0.0846822\ttotal: 2.05s\tremaining: 2.21s\n",
            "481:\tlearn: 0.0844778\ttotal: 2.06s\tremaining: 2.21s\n",
            "482:\tlearn: 0.0841860\ttotal: 2.06s\tremaining: 2.21s\n",
            "483:\tlearn: 0.0839271\ttotal: 2.07s\tremaining: 2.2s\n",
            "484:\tlearn: 0.0836918\ttotal: 2.07s\tremaining: 2.2s\n",
            "485:\tlearn: 0.0834544\ttotal: 2.07s\tremaining: 2.19s\n",
            "486:\tlearn: 0.0831964\ttotal: 2.08s\tremaining: 2.19s\n",
            "487:\tlearn: 0.0829229\ttotal: 2.08s\tremaining: 2.18s\n",
            "488:\tlearn: 0.0828120\ttotal: 2.08s\tremaining: 2.18s\n",
            "489:\tlearn: 0.0825766\ttotal: 2.09s\tremaining: 2.17s\n",
            "490:\tlearn: 0.0823443\ttotal: 2.09s\tremaining: 2.17s\n",
            "491:\tlearn: 0.0822112\ttotal: 2.1s\tremaining: 2.17s\n",
            "492:\tlearn: 0.0819807\ttotal: 2.1s\tremaining: 2.16s\n",
            "493:\tlearn: 0.0817441\ttotal: 2.11s\tremaining: 2.16s\n",
            "494:\tlearn: 0.0815534\ttotal: 2.11s\tremaining: 2.15s\n",
            "495:\tlearn: 0.0813870\ttotal: 2.11s\tremaining: 2.15s\n",
            "496:\tlearn: 0.0811352\ttotal: 2.12s\tremaining: 2.14s\n",
            "497:\tlearn: 0.0808268\ttotal: 2.12s\tremaining: 2.14s\n",
            "498:\tlearn: 0.0806960\ttotal: 2.13s\tremaining: 2.13s\n",
            "499:\tlearn: 0.0805244\ttotal: 2.13s\tremaining: 2.13s\n",
            "500:\tlearn: 0.0804347\ttotal: 2.13s\tremaining: 2.13s\n",
            "501:\tlearn: 0.0802618\ttotal: 2.14s\tremaining: 2.12s\n",
            "502:\tlearn: 0.0801283\ttotal: 2.14s\tremaining: 2.12s\n",
            "503:\tlearn: 0.0799009\ttotal: 2.15s\tremaining: 2.11s\n",
            "504:\tlearn: 0.0796325\ttotal: 2.15s\tremaining: 2.11s\n",
            "505:\tlearn: 0.0794893\ttotal: 2.16s\tremaining: 2.11s\n",
            "506:\tlearn: 0.0792592\ttotal: 2.16s\tremaining: 2.1s\n",
            "507:\tlearn: 0.0790134\ttotal: 2.17s\tremaining: 2.1s\n",
            "508:\tlearn: 0.0788057\ttotal: 2.17s\tremaining: 2.09s\n",
            "509:\tlearn: 0.0786681\ttotal: 2.17s\tremaining: 2.09s\n",
            "510:\tlearn: 0.0784566\ttotal: 2.18s\tremaining: 2.08s\n",
            "511:\tlearn: 0.0782316\ttotal: 2.18s\tremaining: 2.08s\n",
            "512:\tlearn: 0.0780062\ttotal: 2.19s\tremaining: 2.08s\n",
            "513:\tlearn: 0.0777757\ttotal: 2.19s\tremaining: 2.07s\n",
            "514:\tlearn: 0.0775768\ttotal: 2.2s\tremaining: 2.07s\n",
            "515:\tlearn: 0.0774350\ttotal: 2.2s\tremaining: 2.06s\n",
            "516:\tlearn: 0.0773376\ttotal: 2.21s\tremaining: 2.06s\n",
            "517:\tlearn: 0.0771677\ttotal: 2.21s\tremaining: 2.06s\n",
            "518:\tlearn: 0.0769549\ttotal: 2.21s\tremaining: 2.05s\n",
            "519:\tlearn: 0.0767754\ttotal: 2.22s\tremaining: 2.05s\n",
            "520:\tlearn: 0.0766064\ttotal: 2.22s\tremaining: 2.04s\n",
            "521:\tlearn: 0.0765003\ttotal: 2.23s\tremaining: 2.04s\n",
            "522:\tlearn: 0.0762585\ttotal: 2.23s\tremaining: 2.03s\n",
            "523:\tlearn: 0.0760578\ttotal: 2.23s\tremaining: 2.03s\n",
            "524:\tlearn: 0.0758771\ttotal: 2.24s\tremaining: 2.02s\n",
            "525:\tlearn: 0.0756303\ttotal: 2.24s\tremaining: 2.02s\n",
            "526:\tlearn: 0.0754245\ttotal: 2.25s\tremaining: 2.02s\n",
            "527:\tlearn: 0.0751820\ttotal: 2.25s\tremaining: 2.01s\n",
            "528:\tlearn: 0.0750137\ttotal: 2.25s\tremaining: 2.01s\n",
            "529:\tlearn: 0.0747925\ttotal: 2.26s\tremaining: 2s\n",
            "530:\tlearn: 0.0746013\ttotal: 2.26s\tremaining: 2s\n",
            "531:\tlearn: 0.0744243\ttotal: 2.27s\tremaining: 2s\n",
            "532:\tlearn: 0.0742261\ttotal: 2.27s\tremaining: 1.99s\n",
            "533:\tlearn: 0.0740608\ttotal: 2.28s\tremaining: 1.99s\n",
            "534:\tlearn: 0.0739296\ttotal: 2.28s\tremaining: 1.98s\n",
            "535:\tlearn: 0.0737617\ttotal: 2.28s\tremaining: 1.98s\n",
            "536:\tlearn: 0.0735113\ttotal: 2.29s\tremaining: 1.97s\n",
            "537:\tlearn: 0.0732856\ttotal: 2.29s\tremaining: 1.97s\n",
            "538:\tlearn: 0.0731106\ttotal: 2.3s\tremaining: 1.97s\n",
            "539:\tlearn: 0.0728767\ttotal: 2.3s\tremaining: 1.96s\n",
            "540:\tlearn: 0.0727281\ttotal: 2.31s\tremaining: 1.96s\n",
            "541:\tlearn: 0.0725597\ttotal: 2.31s\tremaining: 1.95s\n",
            "542:\tlearn: 0.0724024\ttotal: 2.31s\tremaining: 1.95s\n",
            "543:\tlearn: 0.0722367\ttotal: 2.32s\tremaining: 1.94s\n",
            "544:\tlearn: 0.0721109\ttotal: 2.32s\tremaining: 1.94s\n",
            "545:\tlearn: 0.0719970\ttotal: 2.33s\tremaining: 1.93s\n",
            "546:\tlearn: 0.0718513\ttotal: 2.33s\tremaining: 1.93s\n",
            "547:\tlearn: 0.0716963\ttotal: 2.33s\tremaining: 1.93s\n",
            "548:\tlearn: 0.0715304\ttotal: 2.34s\tremaining: 1.92s\n",
            "549:\tlearn: 0.0713735\ttotal: 2.34s\tremaining: 1.92s\n",
            "550:\tlearn: 0.0713015\ttotal: 2.35s\tremaining: 1.91s\n",
            "551:\tlearn: 0.0712063\ttotal: 2.35s\tremaining: 1.91s\n",
            "552:\tlearn: 0.0710465\ttotal: 2.35s\tremaining: 1.9s\n",
            "553:\tlearn: 0.0709524\ttotal: 2.36s\tremaining: 1.9s\n",
            "554:\tlearn: 0.0707959\ttotal: 2.36s\tremaining: 1.9s\n",
            "555:\tlearn: 0.0706662\ttotal: 2.37s\tremaining: 1.89s\n",
            "556:\tlearn: 0.0705442\ttotal: 2.37s\tremaining: 1.89s\n",
            "557:\tlearn: 0.0704028\ttotal: 2.38s\tremaining: 1.89s\n",
            "558:\tlearn: 0.0702610\ttotal: 2.39s\tremaining: 1.88s\n",
            "559:\tlearn: 0.0701142\ttotal: 2.39s\tremaining: 1.88s\n",
            "560:\tlearn: 0.0699194\ttotal: 2.4s\tremaining: 1.87s\n",
            "561:\tlearn: 0.0697875\ttotal: 2.4s\tremaining: 1.87s\n",
            "562:\tlearn: 0.0697074\ttotal: 2.4s\tremaining: 1.86s\n",
            "563:\tlearn: 0.0695678\ttotal: 2.4s\tremaining: 1.86s\n",
            "564:\tlearn: 0.0694021\ttotal: 2.41s\tremaining: 1.85s\n",
            "565:\tlearn: 0.0692365\ttotal: 2.41s\tremaining: 1.85s\n",
            "566:\tlearn: 0.0690580\ttotal: 2.42s\tremaining: 1.85s\n",
            "567:\tlearn: 0.0689745\ttotal: 2.42s\tremaining: 1.84s\n",
            "568:\tlearn: 0.0688020\ttotal: 2.43s\tremaining: 1.84s\n",
            "569:\tlearn: 0.0686175\ttotal: 2.43s\tremaining: 1.83s\n",
            "570:\tlearn: 0.0684583\ttotal: 2.44s\tremaining: 1.83s\n",
            "571:\tlearn: 0.0682547\ttotal: 2.44s\tremaining: 1.82s\n",
            "572:\tlearn: 0.0680828\ttotal: 2.44s\tremaining: 1.82s\n",
            "573:\tlearn: 0.0679835\ttotal: 2.45s\tremaining: 1.82s\n",
            "574:\tlearn: 0.0678363\ttotal: 2.45s\tremaining: 1.81s\n",
            "575:\tlearn: 0.0676777\ttotal: 2.46s\tremaining: 1.81s\n",
            "576:\tlearn: 0.0675285\ttotal: 2.46s\tremaining: 1.8s\n",
            "577:\tlearn: 0.0674118\ttotal: 2.46s\tremaining: 1.8s\n",
            "578:\tlearn: 0.0673313\ttotal: 2.47s\tremaining: 1.79s\n",
            "579:\tlearn: 0.0671621\ttotal: 2.47s\tremaining: 1.79s\n",
            "580:\tlearn: 0.0669948\ttotal: 2.48s\tremaining: 1.78s\n",
            "581:\tlearn: 0.0668663\ttotal: 2.48s\tremaining: 1.78s\n",
            "582:\tlearn: 0.0666669\ttotal: 2.48s\tremaining: 1.78s\n",
            "583:\tlearn: 0.0664991\ttotal: 2.49s\tremaining: 1.77s\n",
            "584:\tlearn: 0.0663910\ttotal: 2.49s\tremaining: 1.77s\n",
            "585:\tlearn: 0.0662444\ttotal: 2.5s\tremaining: 1.77s\n",
            "586:\tlearn: 0.0660666\ttotal: 2.51s\tremaining: 1.76s\n",
            "587:\tlearn: 0.0659222\ttotal: 2.51s\tremaining: 1.76s\n",
            "588:\tlearn: 0.0657794\ttotal: 2.52s\tremaining: 1.75s\n",
            "589:\tlearn: 0.0656760\ttotal: 2.52s\tremaining: 1.75s\n",
            "590:\tlearn: 0.0655126\ttotal: 2.52s\tremaining: 1.75s\n",
            "591:\tlearn: 0.0653917\ttotal: 2.53s\tremaining: 1.74s\n",
            "592:\tlearn: 0.0652561\ttotal: 2.53s\tremaining: 1.74s\n",
            "593:\tlearn: 0.0650911\ttotal: 2.54s\tremaining: 1.74s\n",
            "594:\tlearn: 0.0649609\ttotal: 2.55s\tremaining: 1.74s\n",
            "595:\tlearn: 0.0647876\ttotal: 2.55s\tremaining: 1.73s\n",
            "596:\tlearn: 0.0647012\ttotal: 2.56s\tremaining: 1.73s\n",
            "597:\tlearn: 0.0645039\ttotal: 2.56s\tremaining: 1.72s\n",
            "598:\tlearn: 0.0644086\ttotal: 2.57s\tremaining: 1.72s\n",
            "599:\tlearn: 0.0642575\ttotal: 2.57s\tremaining: 1.71s\n",
            "600:\tlearn: 0.0641531\ttotal: 2.57s\tremaining: 1.71s\n",
            "601:\tlearn: 0.0640244\ttotal: 2.58s\tremaining: 1.71s\n",
            "602:\tlearn: 0.0638494\ttotal: 2.58s\tremaining: 1.7s\n",
            "603:\tlearn: 0.0637141\ttotal: 2.59s\tremaining: 1.7s\n",
            "604:\tlearn: 0.0636252\ttotal: 2.59s\tremaining: 1.69s\n",
            "605:\tlearn: 0.0634730\ttotal: 2.6s\tremaining: 1.69s\n",
            "606:\tlearn: 0.0633494\ttotal: 2.6s\tremaining: 1.68s\n",
            "607:\tlearn: 0.0632465\ttotal: 2.61s\tremaining: 1.68s\n",
            "608:\tlearn: 0.0631356\ttotal: 2.61s\tremaining: 1.68s\n",
            "609:\tlearn: 0.0630162\ttotal: 2.61s\tremaining: 1.67s\n",
            "610:\tlearn: 0.0628935\ttotal: 2.62s\tremaining: 1.67s\n",
            "611:\tlearn: 0.0627435\ttotal: 2.63s\tremaining: 1.66s\n",
            "612:\tlearn: 0.0626235\ttotal: 2.63s\tremaining: 1.66s\n",
            "613:\tlearn: 0.0624405\ttotal: 2.64s\tremaining: 1.66s\n",
            "614:\tlearn: 0.0623126\ttotal: 2.65s\tremaining: 1.66s\n",
            "615:\tlearn: 0.0621316\ttotal: 2.65s\tremaining: 1.65s\n",
            "616:\tlearn: 0.0620555\ttotal: 2.66s\tremaining: 1.65s\n",
            "617:\tlearn: 0.0619340\ttotal: 2.66s\tremaining: 1.65s\n",
            "618:\tlearn: 0.0617908\ttotal: 2.67s\tremaining: 1.64s\n",
            "619:\tlearn: 0.0616206\ttotal: 2.67s\tremaining: 1.64s\n",
            "620:\tlearn: 0.0615354\ttotal: 2.68s\tremaining: 1.63s\n",
            "621:\tlearn: 0.0614038\ttotal: 2.68s\tremaining: 1.63s\n",
            "622:\tlearn: 0.0612851\ttotal: 2.69s\tremaining: 1.62s\n",
            "623:\tlearn: 0.0611818\ttotal: 2.69s\tremaining: 1.62s\n",
            "624:\tlearn: 0.0610505\ttotal: 2.69s\tremaining: 1.61s\n",
            "625:\tlearn: 0.0609436\ttotal: 2.7s\tremaining: 1.61s\n",
            "626:\tlearn: 0.0608260\ttotal: 2.7s\tremaining: 1.61s\n",
            "627:\tlearn: 0.0607232\ttotal: 2.71s\tremaining: 1.6s\n",
            "628:\tlearn: 0.0606411\ttotal: 2.71s\tremaining: 1.6s\n",
            "629:\tlearn: 0.0604757\ttotal: 2.71s\tremaining: 1.59s\n",
            "630:\tlearn: 0.0603328\ttotal: 2.72s\tremaining: 1.59s\n",
            "631:\tlearn: 0.0602270\ttotal: 2.72s\tremaining: 1.58s\n",
            "632:\tlearn: 0.0601408\ttotal: 2.73s\tremaining: 1.58s\n",
            "633:\tlearn: 0.0600388\ttotal: 2.73s\tremaining: 1.58s\n",
            "634:\tlearn: 0.0599242\ttotal: 2.73s\tremaining: 1.57s\n",
            "635:\tlearn: 0.0598335\ttotal: 2.74s\tremaining: 1.57s\n",
            "636:\tlearn: 0.0597122\ttotal: 2.74s\tremaining: 1.56s\n",
            "637:\tlearn: 0.0596028\ttotal: 2.75s\tremaining: 1.56s\n",
            "638:\tlearn: 0.0595115\ttotal: 2.75s\tremaining: 1.55s\n",
            "639:\tlearn: 0.0594092\ttotal: 2.75s\tremaining: 1.55s\n",
            "640:\tlearn: 0.0593131\ttotal: 2.76s\tremaining: 1.54s\n",
            "641:\tlearn: 0.0592084\ttotal: 2.76s\tremaining: 1.54s\n",
            "642:\tlearn: 0.0590927\ttotal: 2.77s\tremaining: 1.54s\n",
            "643:\tlearn: 0.0589881\ttotal: 2.77s\tremaining: 1.53s\n",
            "644:\tlearn: 0.0588716\ttotal: 2.77s\tremaining: 1.53s\n",
            "645:\tlearn: 0.0587720\ttotal: 2.79s\tremaining: 1.53s\n",
            "646:\tlearn: 0.0586443\ttotal: 2.79s\tremaining: 1.52s\n",
            "647:\tlearn: 0.0585421\ttotal: 2.79s\tremaining: 1.52s\n",
            "648:\tlearn: 0.0584392\ttotal: 2.8s\tremaining: 1.51s\n",
            "649:\tlearn: 0.0582824\ttotal: 2.8s\tremaining: 1.51s\n",
            "650:\tlearn: 0.0581507\ttotal: 2.81s\tremaining: 1.5s\n",
            "651:\tlearn: 0.0580020\ttotal: 2.81s\tremaining: 1.5s\n",
            "652:\tlearn: 0.0579104\ttotal: 2.81s\tremaining: 1.5s\n",
            "653:\tlearn: 0.0577846\ttotal: 2.82s\tremaining: 1.49s\n",
            "654:\tlearn: 0.0576650\ttotal: 2.82s\tremaining: 1.49s\n",
            "655:\tlearn: 0.0575450\ttotal: 2.83s\tremaining: 1.48s\n",
            "656:\tlearn: 0.0574621\ttotal: 2.83s\tremaining: 1.48s\n",
            "657:\tlearn: 0.0573563\ttotal: 2.84s\tremaining: 1.47s\n",
            "658:\tlearn: 0.0572473\ttotal: 2.84s\tremaining: 1.47s\n",
            "659:\tlearn: 0.0571207\ttotal: 2.84s\tremaining: 1.47s\n",
            "660:\tlearn: 0.0570555\ttotal: 2.85s\tremaining: 1.46s\n",
            "661:\tlearn: 0.0569935\ttotal: 2.85s\tremaining: 1.46s\n",
            "662:\tlearn: 0.0568893\ttotal: 2.86s\tremaining: 1.45s\n",
            "663:\tlearn: 0.0567963\ttotal: 2.86s\tremaining: 1.45s\n",
            "664:\tlearn: 0.0566919\ttotal: 2.87s\tremaining: 1.44s\n",
            "665:\tlearn: 0.0566172\ttotal: 2.87s\tremaining: 1.44s\n",
            "666:\tlearn: 0.0565582\ttotal: 2.87s\tremaining: 1.43s\n",
            "667:\tlearn: 0.0564706\ttotal: 2.87s\tremaining: 1.43s\n",
            "668:\tlearn: 0.0563920\ttotal: 2.88s\tremaining: 1.42s\n",
            "669:\tlearn: 0.0562697\ttotal: 2.88s\tremaining: 1.42s\n",
            "670:\tlearn: 0.0561457\ttotal: 2.89s\tremaining: 1.42s\n",
            "671:\tlearn: 0.0560374\ttotal: 2.89s\tremaining: 1.41s\n",
            "672:\tlearn: 0.0559367\ttotal: 2.9s\tremaining: 1.41s\n",
            "673:\tlearn: 0.0558502\ttotal: 2.9s\tremaining: 1.4s\n",
            "674:\tlearn: 0.0557347\ttotal: 2.9s\tremaining: 1.4s\n",
            "675:\tlearn: 0.0556816\ttotal: 2.91s\tremaining: 1.39s\n",
            "676:\tlearn: 0.0556138\ttotal: 2.91s\tremaining: 1.39s\n",
            "677:\tlearn: 0.0555209\ttotal: 2.92s\tremaining: 1.39s\n",
            "678:\tlearn: 0.0553992\ttotal: 2.92s\tremaining: 1.38s\n",
            "679:\tlearn: 0.0552313\ttotal: 2.93s\tremaining: 1.38s\n",
            "680:\tlearn: 0.0551219\ttotal: 2.93s\tremaining: 1.37s\n",
            "681:\tlearn: 0.0550557\ttotal: 2.93s\tremaining: 1.37s\n",
            "682:\tlearn: 0.0549904\ttotal: 2.94s\tremaining: 1.36s\n",
            "683:\tlearn: 0.0549094\ttotal: 2.94s\tremaining: 1.36s\n",
            "684:\tlearn: 0.0548622\ttotal: 2.94s\tremaining: 1.35s\n",
            "685:\tlearn: 0.0547546\ttotal: 2.94s\tremaining: 1.35s\n",
            "686:\tlearn: 0.0546040\ttotal: 2.95s\tremaining: 1.34s\n",
            "687:\tlearn: 0.0545079\ttotal: 2.95s\tremaining: 1.34s\n",
            "688:\tlearn: 0.0543701\ttotal: 2.96s\tremaining: 1.33s\n",
            "689:\tlearn: 0.0542693\ttotal: 2.96s\tremaining: 1.33s\n",
            "690:\tlearn: 0.0541938\ttotal: 2.96s\tremaining: 1.33s\n",
            "691:\tlearn: 0.0540887\ttotal: 2.97s\tremaining: 1.32s\n",
            "692:\tlearn: 0.0539845\ttotal: 2.97s\tremaining: 1.32s\n",
            "693:\tlearn: 0.0539411\ttotal: 2.98s\tremaining: 1.31s\n",
            "694:\tlearn: 0.0538109\ttotal: 2.98s\tremaining: 1.31s\n",
            "695:\tlearn: 0.0536888\ttotal: 2.99s\tremaining: 1.3s\n",
            "696:\tlearn: 0.0535925\ttotal: 2.99s\tremaining: 1.3s\n",
            "697:\tlearn: 0.0534865\ttotal: 3s\tremaining: 1.3s\n",
            "698:\tlearn: 0.0533892\ttotal: 3s\tremaining: 1.29s\n",
            "699:\tlearn: 0.0533090\ttotal: 3.01s\tremaining: 1.29s\n",
            "700:\tlearn: 0.0532030\ttotal: 3.01s\tremaining: 1.28s\n",
            "701:\tlearn: 0.0531090\ttotal: 3.02s\tremaining: 1.28s\n",
            "702:\tlearn: 0.0530216\ttotal: 3.02s\tremaining: 1.27s\n",
            "703:\tlearn: 0.0528911\ttotal: 3.02s\tremaining: 1.27s\n",
            "704:\tlearn: 0.0527952\ttotal: 3.03s\tremaining: 1.27s\n",
            "705:\tlearn: 0.0526950\ttotal: 3.03s\tremaining: 1.26s\n",
            "706:\tlearn: 0.0526446\ttotal: 3.04s\tremaining: 1.26s\n",
            "707:\tlearn: 0.0525491\ttotal: 3.04s\tremaining: 1.25s\n",
            "708:\tlearn: 0.0524637\ttotal: 3.04s\tremaining: 1.25s\n",
            "709:\tlearn: 0.0523603\ttotal: 3.05s\tremaining: 1.25s\n",
            "710:\tlearn: 0.0522318\ttotal: 3.05s\tremaining: 1.24s\n",
            "711:\tlearn: 0.0520951\ttotal: 3.06s\tremaining: 1.24s\n",
            "712:\tlearn: 0.0520207\ttotal: 3.06s\tremaining: 1.23s\n",
            "713:\tlearn: 0.0519455\ttotal: 3.07s\tremaining: 1.23s\n",
            "714:\tlearn: 0.0518408\ttotal: 3.07s\tremaining: 1.22s\n",
            "715:\tlearn: 0.0517568\ttotal: 3.07s\tremaining: 1.22s\n",
            "716:\tlearn: 0.0516601\ttotal: 3.08s\tremaining: 1.22s\n",
            "717:\tlearn: 0.0515631\ttotal: 3.08s\tremaining: 1.21s\n",
            "718:\tlearn: 0.0514764\ttotal: 3.09s\tremaining: 1.21s\n",
            "719:\tlearn: 0.0513312\ttotal: 3.09s\tremaining: 1.2s\n",
            "720:\tlearn: 0.0512469\ttotal: 3.1s\tremaining: 1.2s\n",
            "721:\tlearn: 0.0511655\ttotal: 3.1s\tremaining: 1.19s\n",
            "722:\tlearn: 0.0510703\ttotal: 3.1s\tremaining: 1.19s\n",
            "723:\tlearn: 0.0509645\ttotal: 3.11s\tremaining: 1.19s\n",
            "724:\tlearn: 0.0508967\ttotal: 3.11s\tremaining: 1.18s\n",
            "725:\tlearn: 0.0508284\ttotal: 3.12s\tremaining: 1.18s\n",
            "726:\tlearn: 0.0507352\ttotal: 3.12s\tremaining: 1.17s\n",
            "727:\tlearn: 0.0506420\ttotal: 3.13s\tremaining: 1.17s\n",
            "728:\tlearn: 0.0505348\ttotal: 3.13s\tremaining: 1.16s\n",
            "729:\tlearn: 0.0504435\ttotal: 3.13s\tremaining: 1.16s\n",
            "730:\tlearn: 0.0503755\ttotal: 3.14s\tremaining: 1.16s\n",
            "731:\tlearn: 0.0503125\ttotal: 3.14s\tremaining: 1.15s\n",
            "732:\tlearn: 0.0502201\ttotal: 3.15s\tremaining: 1.15s\n",
            "733:\tlearn: 0.0501089\ttotal: 3.15s\tremaining: 1.14s\n",
            "734:\tlearn: 0.0500281\ttotal: 3.16s\tremaining: 1.14s\n",
            "735:\tlearn: 0.0499820\ttotal: 3.16s\tremaining: 1.13s\n",
            "736:\tlearn: 0.0498537\ttotal: 3.16s\tremaining: 1.13s\n",
            "737:\tlearn: 0.0497532\ttotal: 3.17s\tremaining: 1.12s\n",
            "738:\tlearn: 0.0496566\ttotal: 3.17s\tremaining: 1.12s\n",
            "739:\tlearn: 0.0495757\ttotal: 3.18s\tremaining: 1.12s\n",
            "740:\tlearn: 0.0494880\ttotal: 3.18s\tremaining: 1.11s\n",
            "741:\tlearn: 0.0493977\ttotal: 3.19s\tremaining: 1.11s\n",
            "742:\tlearn: 0.0492985\ttotal: 3.19s\tremaining: 1.1s\n",
            "743:\tlearn: 0.0492549\ttotal: 3.2s\tremaining: 1.1s\n",
            "744:\tlearn: 0.0491428\ttotal: 3.2s\tremaining: 1.09s\n",
            "745:\tlearn: 0.0490400\ttotal: 3.21s\tremaining: 1.09s\n",
            "746:\tlearn: 0.0489596\ttotal: 3.21s\tremaining: 1.09s\n",
            "747:\tlearn: 0.0488764\ttotal: 3.21s\tremaining: 1.08s\n",
            "748:\tlearn: 0.0487908\ttotal: 3.22s\tremaining: 1.08s\n",
            "749:\tlearn: 0.0487040\ttotal: 3.22s\tremaining: 1.07s\n",
            "750:\tlearn: 0.0485892\ttotal: 3.23s\tremaining: 1.07s\n",
            "751:\tlearn: 0.0484884\ttotal: 3.23s\tremaining: 1.06s\n",
            "752:\tlearn: 0.0483831\ttotal: 3.24s\tremaining: 1.06s\n",
            "753:\tlearn: 0.0483009\ttotal: 3.24s\tremaining: 1.06s\n",
            "754:\tlearn: 0.0482448\ttotal: 3.25s\tremaining: 1.05s\n",
            "755:\tlearn: 0.0481783\ttotal: 3.25s\tremaining: 1.05s\n",
            "756:\tlearn: 0.0480829\ttotal: 3.25s\tremaining: 1.04s\n",
            "757:\tlearn: 0.0480251\ttotal: 3.26s\tremaining: 1.04s\n",
            "758:\tlearn: 0.0479624\ttotal: 3.26s\tremaining: 1.04s\n",
            "759:\tlearn: 0.0478877\ttotal: 3.27s\tremaining: 1.03s\n",
            "760:\tlearn: 0.0478367\ttotal: 3.27s\tremaining: 1.03s\n",
            "761:\tlearn: 0.0477603\ttotal: 3.27s\tremaining: 1.02s\n",
            "762:\tlearn: 0.0476880\ttotal: 3.28s\tremaining: 1.02s\n",
            "763:\tlearn: 0.0476065\ttotal: 3.28s\tremaining: 1.01s\n",
            "764:\tlearn: 0.0475214\ttotal: 3.29s\tremaining: 1.01s\n",
            "765:\tlearn: 0.0474264\ttotal: 3.29s\tremaining: 1s\n",
            "766:\tlearn: 0.0473694\ttotal: 3.3s\tremaining: 1s\n",
            "767:\tlearn: 0.0473139\ttotal: 3.3s\tremaining: 997ms\n",
            "768:\tlearn: 0.0472392\ttotal: 3.31s\tremaining: 993ms\n",
            "769:\tlearn: 0.0471319\ttotal: 3.31s\tremaining: 989ms\n",
            "770:\tlearn: 0.0470194\ttotal: 3.31s\tremaining: 984ms\n",
            "771:\tlearn: 0.0469437\ttotal: 3.32s\tremaining: 980ms\n",
            "772:\tlearn: 0.0468477\ttotal: 3.32s\tremaining: 975ms\n",
            "773:\tlearn: 0.0467522\ttotal: 3.32s\tremaining: 971ms\n",
            "774:\tlearn: 0.0467054\ttotal: 3.33s\tremaining: 966ms\n",
            "775:\tlearn: 0.0466328\ttotal: 3.33s\tremaining: 962ms\n",
            "776:\tlearn: 0.0465780\ttotal: 3.34s\tremaining: 958ms\n",
            "777:\tlearn: 0.0465160\ttotal: 3.34s\tremaining: 953ms\n",
            "778:\tlearn: 0.0464329\ttotal: 3.35s\tremaining: 949ms\n",
            "779:\tlearn: 0.0463506\ttotal: 3.35s\tremaining: 945ms\n",
            "780:\tlearn: 0.0462767\ttotal: 3.35s\tremaining: 940ms\n",
            "781:\tlearn: 0.0462086\ttotal: 3.35s\tremaining: 936ms\n",
            "782:\tlearn: 0.0461374\ttotal: 3.36s\tremaining: 931ms\n",
            "783:\tlearn: 0.0460494\ttotal: 3.36s\tremaining: 927ms\n",
            "784:\tlearn: 0.0459776\ttotal: 3.37s\tremaining: 923ms\n",
            "785:\tlearn: 0.0459236\ttotal: 3.37s\tremaining: 918ms\n",
            "786:\tlearn: 0.0458623\ttotal: 3.38s\tremaining: 914ms\n",
            "787:\tlearn: 0.0457659\ttotal: 3.38s\tremaining: 910ms\n",
            "788:\tlearn: 0.0456671\ttotal: 3.39s\tremaining: 906ms\n",
            "789:\tlearn: 0.0456163\ttotal: 3.39s\tremaining: 902ms\n",
            "790:\tlearn: 0.0455381\ttotal: 3.4s\tremaining: 897ms\n",
            "791:\tlearn: 0.0454667\ttotal: 3.4s\tremaining: 893ms\n",
            "792:\tlearn: 0.0453812\ttotal: 3.4s\tremaining: 889ms\n",
            "793:\tlearn: 0.0453114\ttotal: 3.41s\tremaining: 884ms\n",
            "794:\tlearn: 0.0452769\ttotal: 3.41s\tremaining: 880ms\n",
            "795:\tlearn: 0.0451981\ttotal: 3.42s\tremaining: 875ms\n",
            "796:\tlearn: 0.0451279\ttotal: 3.42s\tremaining: 871ms\n",
            "797:\tlearn: 0.0450528\ttotal: 3.42s\tremaining: 867ms\n",
            "798:\tlearn: 0.0449842\ttotal: 3.43s\tremaining: 862ms\n",
            "799:\tlearn: 0.0449143\ttotal: 3.43s\tremaining: 858ms\n",
            "800:\tlearn: 0.0448630\ttotal: 3.44s\tremaining: 854ms\n",
            "801:\tlearn: 0.0448003\ttotal: 3.44s\tremaining: 850ms\n",
            "802:\tlearn: 0.0447307\ttotal: 3.44s\tremaining: 845ms\n",
            "803:\tlearn: 0.0446693\ttotal: 3.45s\tremaining: 841ms\n",
            "804:\tlearn: 0.0445874\ttotal: 3.45s\tremaining: 836ms\n",
            "805:\tlearn: 0.0445021\ttotal: 3.46s\tremaining: 832ms\n",
            "806:\tlearn: 0.0444452\ttotal: 3.46s\tremaining: 828ms\n",
            "807:\tlearn: 0.0443787\ttotal: 3.46s\tremaining: 824ms\n",
            "808:\tlearn: 0.0443063\ttotal: 3.47s\tremaining: 819ms\n",
            "809:\tlearn: 0.0442428\ttotal: 3.47s\tremaining: 815ms\n",
            "810:\tlearn: 0.0441842\ttotal: 3.48s\tremaining: 811ms\n",
            "811:\tlearn: 0.0441184\ttotal: 3.48s\tremaining: 806ms\n",
            "812:\tlearn: 0.0440315\ttotal: 3.49s\tremaining: 802ms\n",
            "813:\tlearn: 0.0439740\ttotal: 3.49s\tremaining: 798ms\n",
            "814:\tlearn: 0.0439273\ttotal: 3.5s\tremaining: 793ms\n",
            "815:\tlearn: 0.0438608\ttotal: 3.5s\tremaining: 789ms\n",
            "816:\tlearn: 0.0438011\ttotal: 3.5s\tremaining: 785ms\n",
            "817:\tlearn: 0.0437633\ttotal: 3.5s\tremaining: 780ms\n",
            "818:\tlearn: 0.0437075\ttotal: 3.51s\tremaining: 775ms\n",
            "819:\tlearn: 0.0436345\ttotal: 3.51s\tremaining: 771ms\n",
            "820:\tlearn: 0.0435908\ttotal: 3.53s\tremaining: 769ms\n",
            "821:\tlearn: 0.0435405\ttotal: 3.53s\tremaining: 765ms\n",
            "822:\tlearn: 0.0434610\ttotal: 3.54s\tremaining: 761ms\n",
            "823:\tlearn: 0.0433981\ttotal: 3.54s\tremaining: 757ms\n",
            "824:\tlearn: 0.0433259\ttotal: 3.55s\tremaining: 752ms\n",
            "825:\tlearn: 0.0432630\ttotal: 3.55s\tremaining: 748ms\n",
            "826:\tlearn: 0.0431866\ttotal: 3.55s\tremaining: 744ms\n",
            "827:\tlearn: 0.0431206\ttotal: 3.56s\tremaining: 739ms\n",
            "828:\tlearn: 0.0430486\ttotal: 3.56s\tremaining: 735ms\n",
            "829:\tlearn: 0.0429862\ttotal: 3.57s\tremaining: 731ms\n",
            "830:\tlearn: 0.0429106\ttotal: 3.57s\tremaining: 727ms\n",
            "831:\tlearn: 0.0428522\ttotal: 3.58s\tremaining: 724ms\n",
            "832:\tlearn: 0.0427902\ttotal: 3.59s\tremaining: 719ms\n",
            "833:\tlearn: 0.0427086\ttotal: 3.59s\tremaining: 715ms\n",
            "834:\tlearn: 0.0426598\ttotal: 3.6s\tremaining: 711ms\n",
            "835:\tlearn: 0.0425960\ttotal: 3.6s\tremaining: 706ms\n",
            "836:\tlearn: 0.0425554\ttotal: 3.6s\tremaining: 702ms\n",
            "837:\tlearn: 0.0424859\ttotal: 3.61s\tremaining: 698ms\n",
            "838:\tlearn: 0.0424303\ttotal: 3.61s\tremaining: 693ms\n",
            "839:\tlearn: 0.0424021\ttotal: 3.61s\tremaining: 688ms\n",
            "840:\tlearn: 0.0423334\ttotal: 3.62s\tremaining: 684ms\n",
            "841:\tlearn: 0.0422426\ttotal: 3.62s\tremaining: 680ms\n",
            "842:\tlearn: 0.0421771\ttotal: 3.63s\tremaining: 676ms\n",
            "843:\tlearn: 0.0421262\ttotal: 3.63s\tremaining: 671ms\n",
            "844:\tlearn: 0.0420739\ttotal: 3.64s\tremaining: 667ms\n",
            "845:\tlearn: 0.0419846\ttotal: 3.64s\tremaining: 663ms\n",
            "846:\tlearn: 0.0419296\ttotal: 3.65s\tremaining: 658ms\n",
            "847:\tlearn: 0.0418566\ttotal: 3.65s\tremaining: 654ms\n",
            "848:\tlearn: 0.0418017\ttotal: 3.65s\tremaining: 650ms\n",
            "849:\tlearn: 0.0417505\ttotal: 3.66s\tremaining: 645ms\n",
            "850:\tlearn: 0.0416452\ttotal: 3.66s\tremaining: 641ms\n",
            "851:\tlearn: 0.0415842\ttotal: 3.67s\tremaining: 637ms\n",
            "852:\tlearn: 0.0415534\ttotal: 3.67s\tremaining: 632ms\n",
            "853:\tlearn: 0.0414739\ttotal: 3.67s\tremaining: 628ms\n",
            "854:\tlearn: 0.0414202\ttotal: 3.68s\tremaining: 624ms\n",
            "855:\tlearn: 0.0413353\ttotal: 3.68s\tremaining: 619ms\n",
            "856:\tlearn: 0.0412875\ttotal: 3.69s\tremaining: 615ms\n",
            "857:\tlearn: 0.0412449\ttotal: 3.69s\tremaining: 611ms\n",
            "858:\tlearn: 0.0411589\ttotal: 3.69s\tremaining: 607ms\n",
            "859:\tlearn: 0.0411065\ttotal: 3.7s\tremaining: 602ms\n",
            "860:\tlearn: 0.0410484\ttotal: 3.7s\tremaining: 598ms\n",
            "861:\tlearn: 0.0410018\ttotal: 3.71s\tremaining: 594ms\n",
            "862:\tlearn: 0.0409344\ttotal: 3.71s\tremaining: 589ms\n",
            "863:\tlearn: 0.0409052\ttotal: 3.72s\tremaining: 585ms\n",
            "864:\tlearn: 0.0408466\ttotal: 3.72s\tremaining: 581ms\n",
            "865:\tlearn: 0.0407845\ttotal: 3.72s\tremaining: 576ms\n",
            "866:\tlearn: 0.0406965\ttotal: 3.73s\tremaining: 572ms\n",
            "867:\tlearn: 0.0406671\ttotal: 3.73s\tremaining: 568ms\n",
            "868:\tlearn: 0.0406347\ttotal: 3.74s\tremaining: 563ms\n",
            "869:\tlearn: 0.0405946\ttotal: 3.74s\tremaining: 559ms\n",
            "870:\tlearn: 0.0405663\ttotal: 3.74s\tremaining: 555ms\n",
            "871:\tlearn: 0.0405045\ttotal: 3.75s\tremaining: 550ms\n",
            "872:\tlearn: 0.0404483\ttotal: 3.75s\tremaining: 546ms\n",
            "873:\tlearn: 0.0404135\ttotal: 3.76s\tremaining: 542ms\n",
            "874:\tlearn: 0.0403635\ttotal: 3.76s\tremaining: 537ms\n",
            "875:\tlearn: 0.0403086\ttotal: 3.77s\tremaining: 533ms\n",
            "876:\tlearn: 0.0402373\ttotal: 3.77s\tremaining: 529ms\n",
            "877:\tlearn: 0.0401735\ttotal: 3.77s\tremaining: 524ms\n",
            "878:\tlearn: 0.0400952\ttotal: 3.78s\tremaining: 520ms\n",
            "879:\tlearn: 0.0400344\ttotal: 3.78s\tremaining: 516ms\n",
            "880:\tlearn: 0.0399839\ttotal: 3.79s\tremaining: 512ms\n",
            "881:\tlearn: 0.0399228\ttotal: 3.79s\tremaining: 507ms\n",
            "882:\tlearn: 0.0398656\ttotal: 3.8s\tremaining: 503ms\n",
            "883:\tlearn: 0.0398023\ttotal: 3.8s\tremaining: 499ms\n",
            "884:\tlearn: 0.0397467\ttotal: 3.81s\tremaining: 494ms\n",
            "885:\tlearn: 0.0397009\ttotal: 3.81s\tremaining: 490ms\n",
            "886:\tlearn: 0.0396618\ttotal: 3.81s\tremaining: 486ms\n",
            "887:\tlearn: 0.0396133\ttotal: 3.82s\tremaining: 481ms\n",
            "888:\tlearn: 0.0395606\ttotal: 3.82s\tremaining: 477ms\n",
            "889:\tlearn: 0.0394914\ttotal: 3.83s\tremaining: 473ms\n",
            "890:\tlearn: 0.0394335\ttotal: 3.83s\tremaining: 469ms\n",
            "891:\tlearn: 0.0393729\ttotal: 3.83s\tremaining: 464ms\n",
            "892:\tlearn: 0.0393085\ttotal: 3.84s\tremaining: 460ms\n",
            "893:\tlearn: 0.0392644\ttotal: 3.84s\tremaining: 456ms\n",
            "894:\tlearn: 0.0392093\ttotal: 3.85s\tremaining: 451ms\n",
            "895:\tlearn: 0.0391611\ttotal: 3.85s\tremaining: 447ms\n",
            "896:\tlearn: 0.0391084\ttotal: 3.85s\tremaining: 443ms\n",
            "897:\tlearn: 0.0390707\ttotal: 3.86s\tremaining: 438ms\n",
            "898:\tlearn: 0.0390054\ttotal: 3.86s\tremaining: 434ms\n",
            "899:\tlearn: 0.0389708\ttotal: 3.87s\tremaining: 430ms\n",
            "900:\tlearn: 0.0389289\ttotal: 3.87s\tremaining: 425ms\n",
            "901:\tlearn: 0.0389006\ttotal: 3.88s\tremaining: 421ms\n",
            "902:\tlearn: 0.0388273\ttotal: 3.88s\tremaining: 417ms\n",
            "903:\tlearn: 0.0387928\ttotal: 3.88s\tremaining: 412ms\n",
            "904:\tlearn: 0.0387370\ttotal: 3.89s\tremaining: 408ms\n",
            "905:\tlearn: 0.0386739\ttotal: 3.89s\tremaining: 404ms\n",
            "906:\tlearn: 0.0386005\ttotal: 3.9s\tremaining: 400ms\n",
            "907:\tlearn: 0.0385610\ttotal: 3.9s\tremaining: 395ms\n",
            "908:\tlearn: 0.0385119\ttotal: 3.9s\tremaining: 391ms\n",
            "909:\tlearn: 0.0384865\ttotal: 3.91s\tremaining: 387ms\n",
            "910:\tlearn: 0.0384338\ttotal: 3.91s\tremaining: 382ms\n",
            "911:\tlearn: 0.0383857\ttotal: 3.92s\tremaining: 378ms\n",
            "912:\tlearn: 0.0383081\ttotal: 3.92s\tremaining: 374ms\n",
            "913:\tlearn: 0.0382664\ttotal: 3.92s\tremaining: 369ms\n",
            "914:\tlearn: 0.0382402\ttotal: 3.93s\tremaining: 365ms\n",
            "915:\tlearn: 0.0381981\ttotal: 3.93s\tremaining: 361ms\n",
            "916:\tlearn: 0.0381400\ttotal: 3.94s\tremaining: 356ms\n",
            "917:\tlearn: 0.0380748\ttotal: 3.94s\tremaining: 352ms\n",
            "918:\tlearn: 0.0380280\ttotal: 3.95s\tremaining: 348ms\n",
            "919:\tlearn: 0.0379751\ttotal: 3.95s\tremaining: 344ms\n",
            "920:\tlearn: 0.0379378\ttotal: 3.95s\tremaining: 339ms\n",
            "921:\tlearn: 0.0378888\ttotal: 3.96s\tremaining: 335ms\n",
            "922:\tlearn: 0.0378250\ttotal: 3.96s\tremaining: 331ms\n",
            "923:\tlearn: 0.0377894\ttotal: 3.97s\tremaining: 326ms\n",
            "924:\tlearn: 0.0377503\ttotal: 3.97s\tremaining: 322ms\n",
            "925:\tlearn: 0.0377234\ttotal: 3.99s\tremaining: 319ms\n",
            "926:\tlearn: 0.0376906\ttotal: 3.99s\tremaining: 314ms\n",
            "927:\tlearn: 0.0376156\ttotal: 4s\tremaining: 310ms\n",
            "928:\tlearn: 0.0375532\ttotal: 4s\tremaining: 306ms\n",
            "929:\tlearn: 0.0375048\ttotal: 4s\tremaining: 301ms\n",
            "930:\tlearn: 0.0374685\ttotal: 4.01s\tremaining: 297ms\n",
            "931:\tlearn: 0.0374244\ttotal: 4.01s\tremaining: 293ms\n",
            "932:\tlearn: 0.0373739\ttotal: 4.02s\tremaining: 288ms\n",
            "933:\tlearn: 0.0373455\ttotal: 4.02s\tremaining: 284ms\n",
            "934:\tlearn: 0.0372830\ttotal: 4.02s\tremaining: 280ms\n",
            "935:\tlearn: 0.0372268\ttotal: 4.03s\tremaining: 275ms\n",
            "936:\tlearn: 0.0371782\ttotal: 4.03s\tremaining: 271ms\n",
            "937:\tlearn: 0.0371495\ttotal: 4.04s\tremaining: 267ms\n",
            "938:\tlearn: 0.0370965\ttotal: 4.04s\tremaining: 263ms\n",
            "939:\tlearn: 0.0370490\ttotal: 4.05s\tremaining: 258ms\n",
            "940:\tlearn: 0.0370045\ttotal: 4.05s\tremaining: 254ms\n",
            "941:\tlearn: 0.0369770\ttotal: 4.05s\tremaining: 250ms\n",
            "942:\tlearn: 0.0369553\ttotal: 4.06s\tremaining: 245ms\n",
            "943:\tlearn: 0.0368901\ttotal: 4.06s\tremaining: 241ms\n",
            "944:\tlearn: 0.0368363\ttotal: 4.06s\tremaining: 237ms\n",
            "945:\tlearn: 0.0367821\ttotal: 4.07s\tremaining: 232ms\n",
            "946:\tlearn: 0.0367331\ttotal: 4.07s\tremaining: 228ms\n",
            "947:\tlearn: 0.0366868\ttotal: 4.08s\tremaining: 224ms\n",
            "948:\tlearn: 0.0366493\ttotal: 4.08s\tremaining: 219ms\n",
            "949:\tlearn: 0.0366130\ttotal: 4.08s\tremaining: 215ms\n",
            "950:\tlearn: 0.0365796\ttotal: 4.09s\tremaining: 211ms\n",
            "951:\tlearn: 0.0365345\ttotal: 4.09s\tremaining: 206ms\n",
            "952:\tlearn: 0.0364943\ttotal: 4.1s\tremaining: 202ms\n",
            "953:\tlearn: 0.0364529\ttotal: 4.1s\tremaining: 198ms\n",
            "954:\tlearn: 0.0364111\ttotal: 4.11s\tremaining: 193ms\n",
            "955:\tlearn: 0.0363533\ttotal: 4.11s\tremaining: 189ms\n",
            "956:\tlearn: 0.0363111\ttotal: 4.11s\tremaining: 185ms\n",
            "957:\tlearn: 0.0362826\ttotal: 4.12s\tremaining: 181ms\n",
            "958:\tlearn: 0.0362310\ttotal: 4.12s\tremaining: 176ms\n",
            "959:\tlearn: 0.0361852\ttotal: 4.13s\tremaining: 172ms\n",
            "960:\tlearn: 0.0361338\ttotal: 4.13s\tremaining: 168ms\n",
            "961:\tlearn: 0.0360926\ttotal: 4.13s\tremaining: 163ms\n",
            "962:\tlearn: 0.0360430\ttotal: 4.14s\tremaining: 159ms\n",
            "963:\tlearn: 0.0359882\ttotal: 4.14s\tremaining: 155ms\n",
            "964:\tlearn: 0.0359560\ttotal: 4.15s\tremaining: 150ms\n",
            "965:\tlearn: 0.0358938\ttotal: 4.15s\tremaining: 146ms\n",
            "966:\tlearn: 0.0358462\ttotal: 4.16s\tremaining: 142ms\n",
            "967:\tlearn: 0.0358106\ttotal: 4.16s\tremaining: 138ms\n",
            "968:\tlearn: 0.0357767\ttotal: 4.16s\tremaining: 133ms\n",
            "969:\tlearn: 0.0357184\ttotal: 4.17s\tremaining: 129ms\n",
            "970:\tlearn: 0.0356740\ttotal: 4.17s\tremaining: 125ms\n",
            "971:\tlearn: 0.0356351\ttotal: 4.18s\tremaining: 120ms\n",
            "972:\tlearn: 0.0355952\ttotal: 4.18s\tremaining: 116ms\n",
            "973:\tlearn: 0.0355294\ttotal: 4.19s\tremaining: 112ms\n",
            "974:\tlearn: 0.0354986\ttotal: 4.19s\tremaining: 107ms\n",
            "975:\tlearn: 0.0354366\ttotal: 4.2s\tremaining: 103ms\n",
            "976:\tlearn: 0.0354067\ttotal: 4.2s\tremaining: 98.9ms\n",
            "977:\tlearn: 0.0353871\ttotal: 4.2s\tremaining: 94.5ms\n",
            "978:\tlearn: 0.0353536\ttotal: 4.21s\tremaining: 90.2ms\n",
            "979:\tlearn: 0.0353109\ttotal: 4.21s\tremaining: 85.9ms\n",
            "980:\tlearn: 0.0352610\ttotal: 4.21s\tremaining: 81.6ms\n",
            "981:\tlearn: 0.0352180\ttotal: 4.22s\tremaining: 77.3ms\n",
            "982:\tlearn: 0.0351576\ttotal: 4.22s\tremaining: 73ms\n",
            "983:\tlearn: 0.0351077\ttotal: 4.23s\tremaining: 68.7ms\n",
            "984:\tlearn: 0.0350763\ttotal: 4.23s\tremaining: 64.4ms\n",
            "985:\tlearn: 0.0350188\ttotal: 4.24s\tremaining: 60.1ms\n",
            "986:\tlearn: 0.0349729\ttotal: 4.24s\tremaining: 55.9ms\n",
            "987:\tlearn: 0.0349154\ttotal: 4.24s\tremaining: 51.6ms\n",
            "988:\tlearn: 0.0348749\ttotal: 4.25s\tremaining: 47.3ms\n",
            "989:\tlearn: 0.0348390\ttotal: 4.25s\tremaining: 43ms\n",
            "990:\tlearn: 0.0347853\ttotal: 4.26s\tremaining: 38.7ms\n",
            "991:\tlearn: 0.0347502\ttotal: 4.26s\tremaining: 34.4ms\n",
            "992:\tlearn: 0.0347079\ttotal: 4.26s\tremaining: 30.1ms\n",
            "993:\tlearn: 0.0346753\ttotal: 4.27s\tremaining: 25.8ms\n",
            "994:\tlearn: 0.0346253\ttotal: 4.27s\tremaining: 21.5ms\n",
            "995:\tlearn: 0.0345694\ttotal: 4.28s\tremaining: 17.2ms\n",
            "996:\tlearn: 0.0345421\ttotal: 4.28s\tremaining: 12.9ms\n",
            "997:\tlearn: 0.0344954\ttotal: 4.29s\tremaining: 8.59ms\n",
            "998:\tlearn: 0.0344594\ttotal: 4.29s\tremaining: 4.29ms\n",
            "999:\tlearn: 0.0344139\ttotal: 4.29s\tremaining: 0us\n"
          ],
          "name": "stdout"
        },
        {
          "output_type": "execute_result",
          "data": {
            "text/plain": [
              "<catboost.core.CatBoostClassifier at 0x7fc0fc93c828>"
            ]
          },
          "metadata": {
            "tags": []
          },
          "execution_count": 82
        }
      ]
    },
    {
      "cell_type": "markdown",
      "metadata": {
        "id": "H45Zj-lnUTxa"
      },
      "source": [
        "Посмотрим на результат"
      ]
    },
    {
      "cell_type": "code",
      "metadata": {
        "colab": {
          "base_uri": "https://localhost:8080/"
        },
        "id": "QUhhhE3VUSOH",
        "outputId": "b585a604-7b6e-4304-a572-c500acc50e91"
      },
      "source": [
        "Kitty_predictions = Kitty.predict(X_test)\n",
        "print(classification_report(y_test, Kitty_predictions))"
      ],
      "execution_count": 83,
      "outputs": [
        {
          "output_type": "stream",
          "text": [
            "              precision    recall  f1-score   support\n",
            "\n",
            "           0       1.00      1.00      1.00         1\n",
            "           1       1.00      1.00      1.00         7\n",
            "           2       1.00      1.00      1.00        51\n",
            "           3       1.00      1.00      1.00         9\n",
            "           4       1.00      1.00      1.00         2\n",
            "           6       1.00      1.00      1.00         1\n",
            "\n",
            "    accuracy                           1.00        71\n",
            "   macro avg       1.00      1.00      1.00        71\n",
            "weighted avg       1.00      1.00      1.00        71\n",
            "\n"
          ],
          "name": "stdout"
        }
      ]
    },
    {
      "cell_type": "markdown",
      "metadata": {
        "id": "kTG6nYJcUY6M"
      },
      "source": [
        "Распознаны все экземпляры каждого класса! Это невероятный результат, особенно если сравнивать с результатом предыдущих алгоритмов. Посмотрим на то, какие параметры больше всего влияют на нашу модель"
      ]
    },
    {
      "cell_type": "code",
      "metadata": {
        "colab": {
          "base_uri": "https://localhost:8080/",
          "height": 551
        },
        "id": "C_zE5vnUVApG",
        "outputId": "70ab09fe-389e-4d9b-e6be-9cb40cb2fda0"
      },
      "source": [
        "Kitty.get_feature_importance(data=None,\n",
        "                             prettified=True,\n",
        "                             thread_count=-1,\n",
        "                             verbose=False)   "
      ],
      "execution_count": 104,
      "outputs": [
        {
          "output_type": "execute_result",
          "data": {
            "text/html": [
              "<div>\n",
              "<style scoped>\n",
              "    .dataframe tbody tr th:only-of-type {\n",
              "        vertical-align: middle;\n",
              "    }\n",
              "\n",
              "    .dataframe tbody tr th {\n",
              "        vertical-align: top;\n",
              "    }\n",
              "\n",
              "    .dataframe thead th {\n",
              "        text-align: right;\n",
              "    }\n",
              "</style>\n",
              "<table border=\"1\" class=\"dataframe\">\n",
              "  <thead>\n",
              "    <tr style=\"text-align: right;\">\n",
              "      <th></th>\n",
              "      <th>Feature Id</th>\n",
              "      <th>Importances</th>\n",
              "    </tr>\n",
              "  </thead>\n",
              "  <tbody>\n",
              "    <tr>\n",
              "      <th>0</th>\n",
              "      <td>Age</td>\n",
              "      <td>21.576955</td>\n",
              "    </tr>\n",
              "    <tr>\n",
              "      <th>1</th>\n",
              "      <td>Forced_vital_capacity</td>\n",
              "      <td>18.243142</td>\n",
              "    </tr>\n",
              "    <tr>\n",
              "      <th>2</th>\n",
              "      <td>FEV1</td>\n",
              "      <td>14.266531</td>\n",
              "    </tr>\n",
              "    <tr>\n",
              "      <th>3</th>\n",
              "      <td>Size_of_tumor</td>\n",
              "      <td>10.950228</td>\n",
              "    </tr>\n",
              "    <tr>\n",
              "      <th>4</th>\n",
              "      <td>Performance_status</td>\n",
              "      <td>8.460162</td>\n",
              "    </tr>\n",
              "    <tr>\n",
              "      <th>5</th>\n",
              "      <td>Risk1Y</td>\n",
              "      <td>8.035584</td>\n",
              "    </tr>\n",
              "    <tr>\n",
              "      <th>6</th>\n",
              "      <td>Smoking</td>\n",
              "      <td>6.216643</td>\n",
              "    </tr>\n",
              "    <tr>\n",
              "      <th>7</th>\n",
              "      <td>Cough</td>\n",
              "      <td>6.128385</td>\n",
              "    </tr>\n",
              "    <tr>\n",
              "      <th>8</th>\n",
              "      <td>Weakness</td>\n",
              "      <td>3.383610</td>\n",
              "    </tr>\n",
              "    <tr>\n",
              "      <th>9</th>\n",
              "      <td>Haemoptysis</td>\n",
              "      <td>1.183050</td>\n",
              "    </tr>\n",
              "    <tr>\n",
              "      <th>10</th>\n",
              "      <td>Pain</td>\n",
              "      <td>0.608676</td>\n",
              "    </tr>\n",
              "    <tr>\n",
              "      <th>11</th>\n",
              "      <td>diabetes_mellitus</td>\n",
              "      <td>0.466124</td>\n",
              "    </tr>\n",
              "    <tr>\n",
              "      <th>12</th>\n",
              "      <td>Dyspnoea</td>\n",
              "      <td>0.374905</td>\n",
              "    </tr>\n",
              "    <tr>\n",
              "      <th>13</th>\n",
              "      <td>PAD</td>\n",
              "      <td>0.106005</td>\n",
              "    </tr>\n",
              "    <tr>\n",
              "      <th>14</th>\n",
              "      <td>MI_to_6months</td>\n",
              "      <td>0.000000</td>\n",
              "    </tr>\n",
              "    <tr>\n",
              "      <th>15</th>\n",
              "      <td>Asthma</td>\n",
              "      <td>0.000000</td>\n",
              "    </tr>\n",
              "  </tbody>\n",
              "</table>\n",
              "</div>"
            ],
            "text/plain": [
              "               Feature Id  Importances\n",
              "0                     Age    21.576955\n",
              "1   Forced_vital_capacity    18.243142\n",
              "2                    FEV1    14.266531\n",
              "3           Size_of_tumor    10.950228\n",
              "4      Performance_status     8.460162\n",
              "5                  Risk1Y     8.035584\n",
              "6                 Smoking     6.216643\n",
              "7                   Cough     6.128385\n",
              "8                Weakness     3.383610\n",
              "9             Haemoptysis     1.183050\n",
              "10                   Pain     0.608676\n",
              "11      diabetes_mellitus     0.466124\n",
              "12               Dyspnoea     0.374905\n",
              "13                    PAD     0.106005\n",
              "14          MI_to_6months     0.000000\n",
              "15                 Asthma     0.000000"
            ]
          },
          "metadata": {
            "tags": []
          },
          "execution_count": 104
        }
      ]
    },
    {
      "cell_type": "markdown",
      "metadata": {
        "id": "hyMYO-xZy7vQ"
      },
      "source": [
        "## Оверсэмплинг"
      ]
    },
    {
      "cell_type": "markdown",
      "metadata": {
        "id": "DxWFFti8255I"
      },
      "source": [
        "Мы снова возвращаемся к нашему датасету. Используя алгоритмы в предыдущем разделе мы получили в большинстве случаев очень слабый результат, так как алгоритм не мог обучиться на выборке с невыраженными минорными классами. Сейчас мы используем метод оверсэмплинга SMOTE, чтобы облегчить задачу алгоритму."
      ]
    },
    {
      "cell_type": "code",
      "metadata": {
        "id": "si7tvyJpwiSd",
        "colab": {
          "base_uri": "https://localhost:8080/"
        },
        "outputId": "63c35cff-09eb-447a-8c51-fce2347f22e6"
      },
      "source": [
        "from imblearn.over_sampling import SMOTENC"
      ],
      "execution_count": 35,
      "outputs": [
        {
          "output_type": "stream",
          "text": [
            "/usr/local/lib/python3.6/dist-packages/sklearn/externals/six.py:31: FutureWarning: The module is deprecated in version 0.21 and will be removed in version 0.23 since we've dropped support for Python 2.7. Please rely on the official version of six (https://pypi.org/project/six/).\n",
            "  \"(https://pypi.org/project/six/).\", FutureWarning)\n",
            "/usr/local/lib/python3.6/dist-packages/sklearn/utils/deprecation.py:144: FutureWarning: The sklearn.neighbors.base module is  deprecated in version 0.22 and will be removed in version 0.24. The corresponding classes / functions should instead be imported from sklearn.neighbors. Anything that cannot be imported from sklearn.neighbors is now part of the private API.\n",
            "  warnings.warn(message, FutureWarning)\n"
          ],
          "name": "stderr"
        }
      ]
    },
    {
      "cell_type": "markdown",
      "metadata": {
        "id": "gjtBH0-vAgXK"
      },
      "source": [
        "Я выбрал не стандартный SMOTE, а SMOTENC (nominal & continious), так как он предназначен для работы как с числовыми признаками, так и с категориальными. Однако, категориальные данные нам необходимо использовать в исходном формате, чтобы при добавлении новых образцов метод SMOTENC не генерировал значения, похожие на 0,5 в столбцах, где оригинальный датасет принимает значения только 1 и 0. Поэтому начнём с нашего изначального датасета."
      ]
    },
    {
      "cell_type": "code",
      "metadata": {
        "id": "XerEFBpC-Ysn",
        "colab": {
          "base_uri": "https://localhost:8080/",
          "height": 206
        },
        "outputId": "b370fdff-66c7-4ce4-b187-04cfbd1916fc"
      },
      "source": [
        "Raw_dataset.head()"
      ],
      "execution_count": 36,
      "outputs": [
        {
          "output_type": "execute_result",
          "data": {
            "text/html": [
              "<div>\n",
              "<style scoped>\n",
              "    .dataframe tbody tr th:only-of-type {\n",
              "        vertical-align: middle;\n",
              "    }\n",
              "\n",
              "    .dataframe tbody tr th {\n",
              "        vertical-align: top;\n",
              "    }\n",
              "\n",
              "    .dataframe thead th {\n",
              "        text-align: right;\n",
              "    }\n",
              "</style>\n",
              "<table border=\"1\" class=\"dataframe\">\n",
              "  <thead>\n",
              "    <tr style=\"text-align: right;\">\n",
              "      <th></th>\n",
              "      <th>id</th>\n",
              "      <th>Diagnosis</th>\n",
              "      <th>Forced_vital_capacity</th>\n",
              "      <th>FEV1</th>\n",
              "      <th>Performance_status</th>\n",
              "      <th>Pain</th>\n",
              "      <th>Haemoptysis</th>\n",
              "      <th>Dyspnoea</th>\n",
              "      <th>Cough</th>\n",
              "      <th>Weakness</th>\n",
              "      <th>Size_of_tumor</th>\n",
              "      <th>diabetes_mellitus</th>\n",
              "      <th>MI_to_6months</th>\n",
              "      <th>PAD</th>\n",
              "      <th>Smoking</th>\n",
              "      <th>Asthma</th>\n",
              "      <th>Age</th>\n",
              "      <th>Risk1Y</th>\n",
              "    </tr>\n",
              "  </thead>\n",
              "  <tbody>\n",
              "    <tr>\n",
              "      <th>0</th>\n",
              "      <td>1</td>\n",
              "      <td>DGN2</td>\n",
              "      <td>2.88</td>\n",
              "      <td>2.16</td>\n",
              "      <td>PRZ1</td>\n",
              "      <td>F</td>\n",
              "      <td>F</td>\n",
              "      <td>F</td>\n",
              "      <td>T</td>\n",
              "      <td>T</td>\n",
              "      <td>OC14</td>\n",
              "      <td>F</td>\n",
              "      <td>F</td>\n",
              "      <td>F</td>\n",
              "      <td>T</td>\n",
              "      <td>F</td>\n",
              "      <td>60</td>\n",
              "      <td>F</td>\n",
              "    </tr>\n",
              "    <tr>\n",
              "      <th>1</th>\n",
              "      <td>2</td>\n",
              "      <td>DGN3</td>\n",
              "      <td>3.40</td>\n",
              "      <td>1.88</td>\n",
              "      <td>PRZ0</td>\n",
              "      <td>F</td>\n",
              "      <td>F</td>\n",
              "      <td>F</td>\n",
              "      <td>F</td>\n",
              "      <td>F</td>\n",
              "      <td>OC12</td>\n",
              "      <td>F</td>\n",
              "      <td>F</td>\n",
              "      <td>F</td>\n",
              "      <td>T</td>\n",
              "      <td>F</td>\n",
              "      <td>51</td>\n",
              "      <td>F</td>\n",
              "    </tr>\n",
              "    <tr>\n",
              "      <th>2</th>\n",
              "      <td>3</td>\n",
              "      <td>DGN3</td>\n",
              "      <td>2.76</td>\n",
              "      <td>2.08</td>\n",
              "      <td>PRZ1</td>\n",
              "      <td>F</td>\n",
              "      <td>F</td>\n",
              "      <td>F</td>\n",
              "      <td>T</td>\n",
              "      <td>F</td>\n",
              "      <td>OC11</td>\n",
              "      <td>F</td>\n",
              "      <td>F</td>\n",
              "      <td>F</td>\n",
              "      <td>T</td>\n",
              "      <td>F</td>\n",
              "      <td>59</td>\n",
              "      <td>F</td>\n",
              "    </tr>\n",
              "    <tr>\n",
              "      <th>3</th>\n",
              "      <td>4</td>\n",
              "      <td>DGN3</td>\n",
              "      <td>3.68</td>\n",
              "      <td>3.04</td>\n",
              "      <td>PRZ0</td>\n",
              "      <td>F</td>\n",
              "      <td>F</td>\n",
              "      <td>F</td>\n",
              "      <td>F</td>\n",
              "      <td>F</td>\n",
              "      <td>OC11</td>\n",
              "      <td>F</td>\n",
              "      <td>F</td>\n",
              "      <td>F</td>\n",
              "      <td>F</td>\n",
              "      <td>F</td>\n",
              "      <td>54</td>\n",
              "      <td>F</td>\n",
              "    </tr>\n",
              "    <tr>\n",
              "      <th>4</th>\n",
              "      <td>5</td>\n",
              "      <td>DGN3</td>\n",
              "      <td>2.44</td>\n",
              "      <td>0.96</td>\n",
              "      <td>PRZ2</td>\n",
              "      <td>F</td>\n",
              "      <td>T</td>\n",
              "      <td>F</td>\n",
              "      <td>T</td>\n",
              "      <td>T</td>\n",
              "      <td>OC11</td>\n",
              "      <td>F</td>\n",
              "      <td>F</td>\n",
              "      <td>F</td>\n",
              "      <td>T</td>\n",
              "      <td>F</td>\n",
              "      <td>73</td>\n",
              "      <td>T</td>\n",
              "    </tr>\n",
              "  </tbody>\n",
              "</table>\n",
              "</div>"
            ],
            "text/plain": [
              "   id Diagnosis  Forced_vital_capacity  FEV1  ... Smoking Asthma Age Risk1Y\n",
              "0   1      DGN2                   2.88  2.16  ...       T      F  60      F\n",
              "1   2      DGN3                   3.40  1.88  ...       T      F  51      F\n",
              "2   3      DGN3                   2.76  2.08  ...       T      F  59      F\n",
              "3   4      DGN3                   3.68  3.04  ...       F      F  54      F\n",
              "4   5      DGN3                   2.44  0.96  ...       T      F  73      T\n",
              "\n",
              "[5 rows x 18 columns]"
            ]
          },
          "metadata": {
            "tags": []
          },
          "execution_count": 36
        }
      ]
    },
    {
      "cell_type": "markdown",
      "metadata": {
        "id": "MAjuESp1HyiO"
      },
      "source": [
        "Снова удалим столбец id - он не несёт информации\n"
      ]
    },
    {
      "cell_type": "code",
      "metadata": {
        "id": "t-dUBxGFDohb",
        "colab": {
          "base_uri": "https://localhost:8080/",
          "height": 206
        },
        "outputId": "b067fdb1-dd14-4616-9561-82f0fcac463d"
      },
      "source": [
        "Raw_dataset = Raw_dataset.drop(columns='id')\n",
        "Raw_dataset.head()"
      ],
      "execution_count": 37,
      "outputs": [
        {
          "output_type": "execute_result",
          "data": {
            "text/html": [
              "<div>\n",
              "<style scoped>\n",
              "    .dataframe tbody tr th:only-of-type {\n",
              "        vertical-align: middle;\n",
              "    }\n",
              "\n",
              "    .dataframe tbody tr th {\n",
              "        vertical-align: top;\n",
              "    }\n",
              "\n",
              "    .dataframe thead th {\n",
              "        text-align: right;\n",
              "    }\n",
              "</style>\n",
              "<table border=\"1\" class=\"dataframe\">\n",
              "  <thead>\n",
              "    <tr style=\"text-align: right;\">\n",
              "      <th></th>\n",
              "      <th>Diagnosis</th>\n",
              "      <th>Forced_vital_capacity</th>\n",
              "      <th>FEV1</th>\n",
              "      <th>Performance_status</th>\n",
              "      <th>Pain</th>\n",
              "      <th>Haemoptysis</th>\n",
              "      <th>Dyspnoea</th>\n",
              "      <th>Cough</th>\n",
              "      <th>Weakness</th>\n",
              "      <th>Size_of_tumor</th>\n",
              "      <th>diabetes_mellitus</th>\n",
              "      <th>MI_to_6months</th>\n",
              "      <th>PAD</th>\n",
              "      <th>Smoking</th>\n",
              "      <th>Asthma</th>\n",
              "      <th>Age</th>\n",
              "      <th>Risk1Y</th>\n",
              "    </tr>\n",
              "  </thead>\n",
              "  <tbody>\n",
              "    <tr>\n",
              "      <th>0</th>\n",
              "      <td>DGN2</td>\n",
              "      <td>2.88</td>\n",
              "      <td>2.16</td>\n",
              "      <td>PRZ1</td>\n",
              "      <td>F</td>\n",
              "      <td>F</td>\n",
              "      <td>F</td>\n",
              "      <td>T</td>\n",
              "      <td>T</td>\n",
              "      <td>OC14</td>\n",
              "      <td>F</td>\n",
              "      <td>F</td>\n",
              "      <td>F</td>\n",
              "      <td>T</td>\n",
              "      <td>F</td>\n",
              "      <td>60</td>\n",
              "      <td>F</td>\n",
              "    </tr>\n",
              "    <tr>\n",
              "      <th>1</th>\n",
              "      <td>DGN3</td>\n",
              "      <td>3.40</td>\n",
              "      <td>1.88</td>\n",
              "      <td>PRZ0</td>\n",
              "      <td>F</td>\n",
              "      <td>F</td>\n",
              "      <td>F</td>\n",
              "      <td>F</td>\n",
              "      <td>F</td>\n",
              "      <td>OC12</td>\n",
              "      <td>F</td>\n",
              "      <td>F</td>\n",
              "      <td>F</td>\n",
              "      <td>T</td>\n",
              "      <td>F</td>\n",
              "      <td>51</td>\n",
              "      <td>F</td>\n",
              "    </tr>\n",
              "    <tr>\n",
              "      <th>2</th>\n",
              "      <td>DGN3</td>\n",
              "      <td>2.76</td>\n",
              "      <td>2.08</td>\n",
              "      <td>PRZ1</td>\n",
              "      <td>F</td>\n",
              "      <td>F</td>\n",
              "      <td>F</td>\n",
              "      <td>T</td>\n",
              "      <td>F</td>\n",
              "      <td>OC11</td>\n",
              "      <td>F</td>\n",
              "      <td>F</td>\n",
              "      <td>F</td>\n",
              "      <td>T</td>\n",
              "      <td>F</td>\n",
              "      <td>59</td>\n",
              "      <td>F</td>\n",
              "    </tr>\n",
              "    <tr>\n",
              "      <th>3</th>\n",
              "      <td>DGN3</td>\n",
              "      <td>3.68</td>\n",
              "      <td>3.04</td>\n",
              "      <td>PRZ0</td>\n",
              "      <td>F</td>\n",
              "      <td>F</td>\n",
              "      <td>F</td>\n",
              "      <td>F</td>\n",
              "      <td>F</td>\n",
              "      <td>OC11</td>\n",
              "      <td>F</td>\n",
              "      <td>F</td>\n",
              "      <td>F</td>\n",
              "      <td>F</td>\n",
              "      <td>F</td>\n",
              "      <td>54</td>\n",
              "      <td>F</td>\n",
              "    </tr>\n",
              "    <tr>\n",
              "      <th>4</th>\n",
              "      <td>DGN3</td>\n",
              "      <td>2.44</td>\n",
              "      <td>0.96</td>\n",
              "      <td>PRZ2</td>\n",
              "      <td>F</td>\n",
              "      <td>T</td>\n",
              "      <td>F</td>\n",
              "      <td>T</td>\n",
              "      <td>T</td>\n",
              "      <td>OC11</td>\n",
              "      <td>F</td>\n",
              "      <td>F</td>\n",
              "      <td>F</td>\n",
              "      <td>T</td>\n",
              "      <td>F</td>\n",
              "      <td>73</td>\n",
              "      <td>T</td>\n",
              "    </tr>\n",
              "  </tbody>\n",
              "</table>\n",
              "</div>"
            ],
            "text/plain": [
              "  Diagnosis  Forced_vital_capacity  FEV1  ... Asthma Age Risk1Y\n",
              "0      DGN2                   2.88  2.16  ...      F  60      F\n",
              "1      DGN3                   3.40  1.88  ...      F  51      F\n",
              "2      DGN3                   2.76  2.08  ...      F  59      F\n",
              "3      DGN3                   3.68  3.04  ...      F  54      F\n",
              "4      DGN3                   2.44  0.96  ...      F  73      T\n",
              "\n",
              "[5 rows x 17 columns]"
            ]
          },
          "metadata": {
            "tags": []
          },
          "execution_count": 37
        }
      ]
    },
    {
      "cell_type": "markdown",
      "metadata": {
        "id": "Aiz_EjKTOuI5"
      },
      "source": [
        "Выделим новые матрицу признаков и целевую переменную X и y. Затем разобъём на обучающую и тестовую выборки по уже использующейся у нас функции."
      ]
    },
    {
      "cell_type": "code",
      "metadata": {
        "id": "NZ7o4djqOtWb"
      },
      "source": [
        "Raw_X = Raw_dataset.drop(columns='Diagnosis')\n",
        "Raw_y = Raw_dataset.Diagnosis"
      ],
      "execution_count": 38,
      "outputs": []
    },
    {
      "cell_type": "code",
      "metadata": {
        "id": "xhohJaPyZ52e"
      },
      "source": [
        "Train_raw_x, Test_raw_x, Train_raw_y, Test_raw_y = train_test_split(Raw_X, Raw_y)"
      ],
      "execution_count": 39,
      "outputs": []
    },
    {
      "cell_type": "markdown",
      "metadata": {
        "id": "Xig8sHpEILyc"
      },
      "source": [
        "Теперь имплементируем алгоритм оверсэмплинга\n"
      ]
    },
    {
      "cell_type": "code",
      "metadata": {
        "id": "fscjaWYma1zO"
      },
      "source": [
        "cat_columns = ['Diagnosis', \n",
        "              'Performance_status', \n",
        "              'Pain', \n",
        "              'Haemoptysis',\n",
        "              'Dyspnoea',\n",
        "              'Cough',\n",
        "              'Weakness',\n",
        "              'Size_of_tumor',\n",
        "              'diabetes_mellitus',\n",
        "              'MI_to_6months',\n",
        "              'PAD',\n",
        "              'Smoking',\n",
        "              'Asthma',\n",
        "              'Risk1Y']"
      ],
      "execution_count": 40,
      "outputs": []
    }
  ]
}