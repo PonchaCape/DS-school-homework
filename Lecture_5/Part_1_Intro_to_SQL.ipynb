{
  "nbformat": 4,
  "nbformat_minor": 0,
  "metadata": {
    "colab": {
      "name": "Part_1.Intro_to_SQL.ipynb",
      "provenance": [],
      "collapsed_sections": [],
      "toc_visible": true,
      "include_colab_link": true
    },
    "kernelspec": {
      "name": "python3",
      "display_name": "Python 3"
    }
  },
  "cells": [
    {
      "cell_type": "markdown",
      "metadata": {
        "id": "view-in-github",
        "colab_type": "text"
      },
      "source": [
        "<a href=\"https://colab.research.google.com/github/PonchaCape/DS-school-homework/blob/main/Part_1_Intro_to_SQL.ipynb\" target=\"_parent\"><img src=\"https://colab.research.google.com/assets/colab-badge.svg\" alt=\"Open In Colab\"/></a>"
      ]
    },
    {
      "cell_type": "markdown",
      "metadata": {
        "id": "80t2tnksleip"
      },
      "source": [
        "# План занятия\n",
        " - Локальные БД. Работа с библиотекой sqlite3\n",
        " - Представление БД с использованием Pandas\n",
        " - Удаленные БД. Работа с библиотекой SQLAlchemy"
      ]
    },
    {
      "cell_type": "markdown",
      "metadata": {
        "id": "sB8DjZif3tZA"
      },
      "source": [
        "# Введение\n",
        "\n",
        "База данных может храниться локально, на том же компьютере, на котором запускается прикладное программное обеспечение для работы с базой данных или на удаленном компьютере.\n",
        "\n",
        "Google Colab (точнее Python, запускаемый в среде Google Colab) позволяет работать и с условно «локальной» базой данных и с базой данных на удаленном сервере. \n",
        "- В первом случае может использоваться СУБД **SQLite**, которая будет хранится на облачном диске Google Drive. Для среды Google Colab это будет локальная БД.\n",
        "- В случае работы с удаленной БД можно использовать **SQLAlchemy**.\n",
        "\n",
        "Оба модуля **SQLite** и **SQLAlchemy** рассмотрим ниже."
      ]
    },
    {
      "cell_type": "markdown",
      "metadata": {
        "id": "ua_DcBGgE-rm"
      },
      "source": [
        "# SQLite\n",
        "\n",
        "**SQLite** — компактная встраиваемая реляционная база данных. Является чисто реляционной базой данных.\n",
        "\n",
        "Слово «встраиваемый» означает, что SQLite **не использует парадигму клиент-сервер.** Модуль sqlite3 входит в установочный пакет языка Python, является компонентом стандартной библиотеки и не требует отдельной загрузки и установки."
      ]
    },
    {
      "cell_type": "markdown",
      "metadata": {
        "id": "Q1eGsLrqktGT"
      },
      "source": [
        "Pipeline для работы с БД при помощи библиотеки SQLite"
      ]
    },
    {
      "cell_type": "markdown",
      "metadata": {
        "id": "xwDpJHvGk1VI"
      },
      "source": [
        "``` \n",
        "import sqlite3\n",
        "\n",
        "conn = sqlite3.connect(path)\n",
        "\n",
        "cursor = conn.cursor()\n",
        "\n",
        "# Работа с БД\n",
        "# ...\n",
        "# ...\n",
        "\n",
        "cursor.close()\n",
        "conn.close()\n",
        "```"
      ]
    },
    {
      "cell_type": "markdown",
      "metadata": {
        "id": "uBs-HtlahVnd"
      },
      "source": [
        "## Подключение к базе данных"
      ]
    },
    {
      "cell_type": "markdown",
      "metadata": {
        "id": "L_jaMIJM3j_K"
      },
      "source": [
        "Для доступа к диску Google Drive сервису Google Colab необходимо дать разрешение на подключение к диску.\n",
        "\n",
        "Для подключения и разрешения доступа Google Colab к диску Google Drive используем следующий код:"
      ]
    },
    {
      "cell_type": "code",
      "metadata": {
        "colab": {
          "base_uri": "https://localhost:8080/"
        },
        "id": "dAglsJlB3OLq",
        "outputId": "03586934-0235-488b-d4b1-00e4f446c2ee"
      },
      "source": [
        "from google.colab import drive\n",
        "drive.mount('/content/drive')"
      ],
      "execution_count": 5,
      "outputs": [
        {
          "output_type": "stream",
          "text": [
            "Mounted at /content/drive\n"
          ],
          "name": "stdout"
        }
      ]
    },
    {
      "cell_type": "markdown",
      "metadata": {
        "id": "Vbw0opr1hZC-"
      },
      "source": [
        "Подключаем модуль для работы с базой SQLite"
      ]
    },
    {
      "cell_type": "code",
      "metadata": {
        "id": "FZJh6NFAhaU_"
      },
      "source": [
        "import sqlite3"
      ],
      "execution_count": 1,
      "outputs": []
    },
    {
      "cell_type": "markdown",
      "metadata": {
        "id": "lkTvGLP-LZWv"
      },
      "source": [
        "Непосредственно модуль sqlite3 – это API к СУБД SQLite. Своего рода адаптер, который переводит команды, написанные на Питоне, в команды, которые понимает SQLite. Как и наоборот, доставляет ответы от SQLite в python-программу."
      ]
    },
    {
      "cell_type": "code",
      "metadata": {
        "colab": {
          "base_uri": "https://localhost:8080/"
        },
        "id": "QtG-Ux5fLdNq",
        "outputId": "704c8ecc-9b06-40d3-c2ee-7df499a3eea5"
      },
      "source": [
        "dir(sqlite3)"
      ],
      "execution_count": null,
      "outputs": [
        {
          "output_type": "execute_result",
          "data": {
            "text/plain": [
              "['Binary',\n",
              " 'Cache',\n",
              " 'Connection',\n",
              " 'Cursor',\n",
              " 'DataError',\n",
              " 'DatabaseError',\n",
              " 'Date',\n",
              " 'DateFromTicks',\n",
              " 'Error',\n",
              " 'IntegrityError',\n",
              " 'InterfaceError',\n",
              " 'InternalError',\n",
              " 'NotSupportedError',\n",
              " 'OperationalError',\n",
              " 'OptimizedUnicode',\n",
              " 'PARSE_COLNAMES',\n",
              " 'PARSE_DECLTYPES',\n",
              " 'PrepareProtocol',\n",
              " 'ProgrammingError',\n",
              " 'Row',\n",
              " 'SQLITE_ALTER_TABLE',\n",
              " 'SQLITE_ANALYZE',\n",
              " 'SQLITE_ATTACH',\n",
              " 'SQLITE_CREATE_INDEX',\n",
              " 'SQLITE_CREATE_TABLE',\n",
              " 'SQLITE_CREATE_TEMP_INDEX',\n",
              " 'SQLITE_CREATE_TEMP_TABLE',\n",
              " 'SQLITE_CREATE_TEMP_TRIGGER',\n",
              " 'SQLITE_CREATE_TEMP_VIEW',\n",
              " 'SQLITE_CREATE_TRIGGER',\n",
              " 'SQLITE_CREATE_VIEW',\n",
              " 'SQLITE_DELETE',\n",
              " 'SQLITE_DENY',\n",
              " 'SQLITE_DETACH',\n",
              " 'SQLITE_DROP_INDEX',\n",
              " 'SQLITE_DROP_TABLE',\n",
              " 'SQLITE_DROP_TEMP_INDEX',\n",
              " 'SQLITE_DROP_TEMP_TABLE',\n",
              " 'SQLITE_DROP_TEMP_TRIGGER',\n",
              " 'SQLITE_DROP_TEMP_VIEW',\n",
              " 'SQLITE_DROP_TRIGGER',\n",
              " 'SQLITE_DROP_VIEW',\n",
              " 'SQLITE_IGNORE',\n",
              " 'SQLITE_INSERT',\n",
              " 'SQLITE_OK',\n",
              " 'SQLITE_PRAGMA',\n",
              " 'SQLITE_READ',\n",
              " 'SQLITE_REINDEX',\n",
              " 'SQLITE_SELECT',\n",
              " 'SQLITE_TRANSACTION',\n",
              " 'SQLITE_UPDATE',\n",
              " 'Statement',\n",
              " 'Time',\n",
              " 'TimeFromTicks',\n",
              " 'Timestamp',\n",
              " 'TimestampFromTicks',\n",
              " 'Warning',\n",
              " '__builtins__',\n",
              " '__cached__',\n",
              " '__doc__',\n",
              " '__file__',\n",
              " '__loader__',\n",
              " '__name__',\n",
              " '__package__',\n",
              " '__path__',\n",
              " '__spec__',\n",
              " 'adapt',\n",
              " 'adapters',\n",
              " 'apilevel',\n",
              " 'collections',\n",
              " 'complete_statement',\n",
              " 'connect',\n",
              " 'converters',\n",
              " 'datetime',\n",
              " 'dbapi2',\n",
              " 'enable_callback_tracebacks',\n",
              " 'enable_shared_cache',\n",
              " 'paramstyle',\n",
              " 'register_adapter',\n",
              " 'register_converter',\n",
              " 'sqlite_version',\n",
              " 'sqlite_version_info',\n",
              " 'threadsafety',\n",
              " 'time',\n",
              " 'version',\n",
              " 'version_info']"
            ]
          },
          "metadata": {
            "tags": []
          },
          "execution_count": 3
        }
      ]
    },
    {
      "cell_type": "markdown",
      "metadata": {
        "id": "ktxOs6gxhkcv"
      },
      "source": [
        "Создадим папку \"my_databases\", где будут хранится наши БД"
      ]
    },
    {
      "cell_type": "code",
      "metadata": {
        "id": "hHke_8Vehq5G"
      },
      "source": [
        "import os\n",
        "path = \"./drive/My Drive/my_databases\"\n",
        "if not os.path.exists(path):\n",
        "    os.mkdir(path)"
      ],
      "execution_count": 6,
      "outputs": []
    },
    {
      "cell_type": "markdown",
      "metadata": {
        "id": "ATDnFJTrhfKC"
      },
      "source": [
        "Подключаемся к базе test.db. Если этого файла нет в каталоге, то он будет создан.\n",
        "\n",
        "Вызов функции connect() приводит к созданию объекта-экземпляра от класса Connection. Этот объект обеспечивает связь с файлом базы данных, представляет конкретную БД в программе:"
      ]
    },
    {
      "cell_type": "code",
      "metadata": {
        "colab": {
          "base_uri": "https://localhost:8080/"
        },
        "id": "KV6p7ngjhins",
        "outputId": "e8160c7e-caca-422f-936d-3e34927c8955"
      },
      "source": [
        "conn = sqlite3.connect(path + '/test.db')\n",
        "print(\"Opened database successfully\");"
      ],
      "execution_count": 7,
      "outputs": [
        {
          "output_type": "stream",
          "text": [
            "Opened database successfully\n"
          ],
          "name": "stdout"
        }
      ]
    },
    {
      "cell_type": "markdown",
      "metadata": {
        "id": "x3QgLWzeL3cn"
      },
      "source": [
        "После того как экземпляр Connection создан, чтобы выполнять SQL-команды, надо создать еще один объект, но теперь уже от класса Cursor. Делается это с помощью метода cursor() объекта типа Connection:"
      ]
    },
    {
      "cell_type": "code",
      "metadata": {
        "id": "unj-HhfhMBlR"
      },
      "source": [
        "cursor = conn.cursor()"
      ],
      "execution_count": 8,
      "outputs": []
    },
    {
      "cell_type": "code",
      "metadata": {
        "id": "_xkGEn95uh6W",
        "colab": {
          "base_uri": "https://localhost:8080/"
        },
        "outputId": "b91dc0ca-1ace-498d-f675-7c2ef2646ee6"
      },
      "source": [
        "cursor.execute('''\n",
        "CREATE TABLE IF NOT EXISTS team_data(team text, \n",
        "                      country text, \n",
        "                      season integer, \n",
        "                      total_goals integer);''')\n",
        "\n",
        "conn.commit()\n",
        "\n",
        "print(\"Table created successfully\");\n",
        "\n",
        "#conn.close()"
      ],
      "execution_count": 9,
      "outputs": [
        {
          "output_type": "stream",
          "text": [
            "Table created successfully\n"
          ],
          "name": "stdout"
        }
      ]
    },
    {
      "cell_type": "markdown",
      "metadata": {
        "id": "tY_zkuSjM6e6"
      },
      "source": [
        "Заполнять таблицы можно тоже с помощью **execute().**"
      ]
    },
    {
      "cell_type": "code",
      "metadata": {
        "id": "r9SeHPpgu73Z",
        "colab": {
          "base_uri": "https://localhost:8080/"
        },
        "outputId": "c305029e-c35a-4be4-f006-dad635791336"
      },
      "source": [
        "# INSERTING VALUES\n",
        "\n",
        "cursor.execute(\"INSERT INTO team_data VALUES('Real Madrid', 'Spain', 2019, 53);\")\n",
        "cursor.execute(\"INSERT INTO team_data VALUES('Barcelona', 'Spain', 2019, 47);\")\n"
      ],
      "execution_count": null,
      "outputs": [
        {
          "output_type": "execute_result",
          "data": {
            "text/plain": [
              "<sqlite3.Cursor at 0x7fdb838a19d0>"
            ]
          },
          "metadata": {
            "tags": []
          },
          "execution_count": 7
        }
      ]
    },
    {
      "cell_type": "markdown",
      "metadata": {
        "id": "D9Zp5U9ONROr"
      },
      "source": [
        "Однако, если требуется вставить несколько записей, лучше воспользоваться методом **executemany():**"
      ]
    },
    {
      "cell_type": "code",
      "metadata": {
        "colab": {
          "base_uri": "https://localhost:8080/"
        },
        "id": "zZsi_SyHNPd5",
        "outputId": "d3f4a2f6-1b87-4721-9c50-438c4eba6371"
      },
      "source": [
        "sections = [('Arsenal', 'UK', 2019, 52), ('Real Madrid', 'Spain', 2018, 49),\n",
        "             ('Barcelona', 'Spain', 2018, 45), ('Arsenal', 'UK', 2018, 50 )]\n",
        "cursor.executemany(\"INSERT INTO team_data VALUES (?, ?, ?, ?)\", sections)"
      ],
      "execution_count": null,
      "outputs": [
        {
          "output_type": "execute_result",
          "data": {
            "text/plain": [
              "<sqlite3.Cursor at 0x7fdb838a19d0>"
            ]
          },
          "metadata": {
            "tags": []
          },
          "execution_count": 8
        }
      ]
    },
    {
      "cell_type": "markdown",
      "metadata": {
        "id": "AmGdFOz5NZEL"
      },
      "source": [
        "Для того, чтобы корректно завершить работу с базой данных, надо применить изменения (выполнить транзакцию) **commit()** и разорвать соединение **close()**. Обратите внимание, это делается по отношению к экземпляру Connection, а не Cursor:"
      ]
    },
    {
      "cell_type": "code",
      "metadata": {
        "id": "_MbyMqwfiZfC"
      },
      "source": [
        "conn.commit()\n",
        "conn.close()"
      ],
      "execution_count": 10,
      "outputs": []
    },
    {
      "cell_type": "code",
      "metadata": {
        "id": "L9nIsr9Jwuds",
        "colab": {
          "base_uri": "https://localhost:8080/"
        },
        "outputId": "c9252a30-cb00-48cb-cf57-0707564422f7"
      },
      "source": [
        "# Average goal by team\n",
        "\n",
        "conn = sqlite3.connect(path + '/test.db')\n",
        "# Создаем объект типа cursor для доступа к данным\n",
        "cursor = conn.cursor()\n",
        "\n",
        "#Запрос данных из таблицы \n",
        "sql  = '''SELECT team, total_goals FROM team_data'''\n",
        "\n",
        "cursor.execute(sql)\n",
        "\n",
        "for row in cursor:\n",
        "    print(row)"
      ],
      "execution_count": null,
      "outputs": [
        {
          "output_type": "stream",
          "text": [
            "('Real Madrid', 53)\n",
            "('Barcelona', 47)\n",
            "('Arsenal', 52)\n",
            "('Real Madrid', 49)\n",
            "('Barcelona', 45)\n",
            "('Arsenal', 50)\n"
          ],
          "name": "stdout"
        }
      ]
    },
    {
      "cell_type": "code",
      "metadata": {
        "colab": {
          "base_uri": "https://localhost:8080/"
        },
        "id": "53iht_UoSNUT",
        "outputId": "94ad12fb-9cf7-4a8f-c6ed-c156148aff7b"
      },
      "source": [
        "#Запрос данных из таблицы \n",
        "sql  = ''' SELECT team, AVG(total_goals) FROM team_data'''\n",
        "\n",
        "cursor.execute(sql)\n",
        "\n",
        "for row in cursor:\n",
        "    print(row)"
      ],
      "execution_count": null,
      "outputs": [
        {
          "output_type": "stream",
          "text": [
            "('Arsenal', 49.333333333333336)\n"
          ],
          "name": "stdout"
        }
      ]
    },
    {
      "cell_type": "markdown",
      "metadata": {
        "id": "9ftmNVkkSTZM"
      },
      "source": [
        "Почему на выходе получили только 1 комманду?"
      ]
    },
    {
      "cell_type": "code",
      "metadata": {
        "colab": {
          "base_uri": "https://localhost:8080/"
        },
        "id": "j-lHaxoHR8nW",
        "outputId": "828ac4b4-c1f5-4569-ea18-a0ef67c29d10"
      },
      "source": [
        "sql  = ''' SELECT team, AVG(total_goals) AS avg_goals FROM team_data GROUP BY team;'''\n",
        "cursor.execute(sql)\n",
        "\n",
        "for row in cursor:\n",
        "  print(row)"
      ],
      "execution_count": null,
      "outputs": [
        {
          "output_type": "stream",
          "text": [
            "('Arsenal', 51.0)\n",
            "('Barcelona', 46.0)\n",
            "('Real Madrid', 51.0)\n"
          ],
          "name": "stdout"
        }
      ]
    },
    {
      "cell_type": "code",
      "metadata": {
        "id": "3a-Cc7ObR99i"
      },
      "source": [
        "cursor.close()\n",
        "conn.close()"
      ],
      "execution_count": null,
      "outputs": []
    },
    {
      "cell_type": "code",
      "metadata": {
        "id": "HfJEEubPye8h",
        "colab": {
          "base_uri": "https://localhost:8080/",
          "height": 232
        },
        "outputId": "b4a6d81b-0c54-43c2-f3b7-0f3bfc1497c6"
      },
      "source": [
        "# First try to filter the teams with average goals higher than 50\n",
        "# This query will generate an error\n",
        "\n",
        "conn = sqlite3.connect(path + '/test.db')\n",
        "cursor = conn.cursor()\n",
        "\n",
        "sql = ''' SELECT team AS team_name,\n",
        "                            AVG(total_goals) AS avg_goals\n",
        "                          FROM team_data\n",
        "                          WHERE avg_goals > 50\n",
        "                          GROUP BY team;'''\n",
        "                          \n",
        "cursor.execute(sql)\n",
        "\n",
        "for row in cursor:\n",
        "  print(row)\n",
        "conn.close()"
      ],
      "execution_count": null,
      "outputs": [
        {
          "output_type": "error",
          "ename": "OperationalError",
          "evalue": "ignored",
          "traceback": [
            "\u001b[0;31m---------------------------------------------------------------------------\u001b[0m",
            "\u001b[0;31mOperationalError\u001b[0m                          Traceback (most recent call last)",
            "\u001b[0;32m<ipython-input-30-e68bddc8369d>\u001b[0m in \u001b[0;36m<module>\u001b[0;34m()\u001b[0m\n\u001b[1;32m     11\u001b[0m                           GROUP BY team;'''\n\u001b[1;32m     12\u001b[0m \u001b[0;34m\u001b[0m\u001b[0m\n\u001b[0;32m---> 13\u001b[0;31m \u001b[0mcursor\u001b[0m\u001b[0;34m.\u001b[0m\u001b[0mexecute\u001b[0m\u001b[0;34m(\u001b[0m\u001b[0msql\u001b[0m\u001b[0;34m)\u001b[0m\u001b[0;34m\u001b[0m\u001b[0;34m\u001b[0m\u001b[0m\n\u001b[0m\u001b[1;32m     14\u001b[0m \u001b[0;34m\u001b[0m\u001b[0m\n\u001b[1;32m     15\u001b[0m \u001b[0;32mfor\u001b[0m \u001b[0mrow\u001b[0m \u001b[0;32min\u001b[0m \u001b[0mcursor\u001b[0m\u001b[0;34m:\u001b[0m\u001b[0;34m\u001b[0m\u001b[0;34m\u001b[0m\u001b[0m\n",
            "\u001b[0;31mOperationalError\u001b[0m: misuse of aggregate: AVG()"
          ]
        }
      ]
    },
    {
      "cell_type": "code",
      "metadata": {
        "id": "NlJ3wc21zU3l",
        "colab": {
          "base_uri": "https://localhost:8080/"
        },
        "outputId": "71a1a581-8a6e-4dba-e392-dcaaa31f6b69"
      },
      "source": [
        "# Now, the correct query, using the appropriate sub-query\n",
        "\n",
        "conn = sqlite3.connect(path + '/test.db')\n",
        "\n",
        "cursor = conn.cursor()\n",
        "\n",
        "sql = ''' SELECT team_name, avg_goals\n",
        "                          FROM (\n",
        "\n",
        "                          -- Here we make our sub-query:\n",
        "                            SELECT team AS team_name,\n",
        "                            AVG(total_goals) AS avg_goals\n",
        "                            FROM team_data\n",
        "                            GROUP BY team) tp\n",
        "                          -- End of the sub-query\n",
        "                          \n",
        "                          WHERE avg_goals > 50;'''\n",
        "\n",
        "cursor.execute(sql)\n",
        "\n",
        "for row in cursor:\n",
        "  print(row)\n",
        "conn.close()"
      ],
      "execution_count": null,
      "outputs": [
        {
          "output_type": "stream",
          "text": [
            "('Arsenal', 51.0)\n",
            "('Real Madrid', 51.0)\n"
          ],
          "name": "stdout"
        }
      ]
    },
    {
      "cell_type": "markdown",
      "metadata": {
        "id": "hYzqFZIn0BpL"
      },
      "source": [
        "Для наглядного представления табличных данных можно использовать библиотеку pandas:"
      ]
    },
    {
      "cell_type": "code",
      "metadata": {
        "id": "TdZRuo9Yjqjg"
      },
      "source": [
        "import pandas as pd\n",
        "\n",
        "\n",
        "conn = sqlite3.connect(path + '/test.db')\n",
        "cursor = conn.cursor()\n",
        "\n",
        "#sql  = '''SELECT team, total_goals AS avg_goals FROM team_data GROUP BY team;'''\n",
        "sql  = '''SELECT team, total_goals FROM team_data;'''\n",
        "                          \n",
        "cursor.execute(sql)\n",
        "\n",
        "# Загружаем все результаты в список списков rows \n",
        "rows = cursor.fetchall()"
      ],
      "execution_count": 11,
      "outputs": []
    },
    {
      "cell_type": "code",
      "metadata": {
        "colab": {
          "base_uri": "https://localhost:8080/",
          "height": 238
        },
        "id": "rd7OlD97jrFm",
        "outputId": "94001341-0253-476f-df6a-85c252e68e61"
      },
      "source": [
        "pd.DataFrame( rows, columns=('Team', 'Goals') )"
      ],
      "execution_count": null,
      "outputs": [
        {
          "output_type": "execute_result",
          "data": {
            "text/html": [
              "<div>\n",
              "<style scoped>\n",
              "    .dataframe tbody tr th:only-of-type {\n",
              "        vertical-align: middle;\n",
              "    }\n",
              "\n",
              "    .dataframe tbody tr th {\n",
              "        vertical-align: top;\n",
              "    }\n",
              "\n",
              "    .dataframe thead th {\n",
              "        text-align: right;\n",
              "    }\n",
              "</style>\n",
              "<table border=\"1\" class=\"dataframe\">\n",
              "  <thead>\n",
              "    <tr style=\"text-align: right;\">\n",
              "      <th></th>\n",
              "      <th>Team</th>\n",
              "      <th>Goals</th>\n",
              "    </tr>\n",
              "  </thead>\n",
              "  <tbody>\n",
              "    <tr>\n",
              "      <th>0</th>\n",
              "      <td>Real Madrid</td>\n",
              "      <td>53</td>\n",
              "    </tr>\n",
              "    <tr>\n",
              "      <th>1</th>\n",
              "      <td>Barcelona</td>\n",
              "      <td>47</td>\n",
              "    </tr>\n",
              "    <tr>\n",
              "      <th>2</th>\n",
              "      <td>Arsenal</td>\n",
              "      <td>52</td>\n",
              "    </tr>\n",
              "    <tr>\n",
              "      <th>3</th>\n",
              "      <td>Real Madrid</td>\n",
              "      <td>49</td>\n",
              "    </tr>\n",
              "    <tr>\n",
              "      <th>4</th>\n",
              "      <td>Barcelona</td>\n",
              "      <td>45</td>\n",
              "    </tr>\n",
              "    <tr>\n",
              "      <th>5</th>\n",
              "      <td>Arsenal</td>\n",
              "      <td>50</td>\n",
              "    </tr>\n",
              "  </tbody>\n",
              "</table>\n",
              "</div>"
            ],
            "text/plain": [
              "          Team  Goals\n",
              "0  Real Madrid     53\n",
              "1    Barcelona     47\n",
              "2      Arsenal     52\n",
              "3  Real Madrid     49\n",
              "4    Barcelona     45\n",
              "5      Arsenal     50"
            ]
          },
          "metadata": {
            "tags": []
          },
          "execution_count": 12
        }
      ]
    },
    {
      "cell_type": "code",
      "metadata": {
        "colab": {
          "base_uri": "https://localhost:8080/",
          "height": 143
        },
        "id": "t782R0yzjrIK",
        "outputId": "af98d654-4ed6-4029-b2cd-e34678b8a575"
      },
      "source": [
        "sql  = '''SELECT team, total_goals AS avg_goals FROM team_data GROUP BY team;'''\n",
        "                          \n",
        "cursor.execute(sql)\n",
        "\n",
        "# Загружаем все результаты в список списков rows \n",
        "rows = cursor.fetchall()\n",
        "\n",
        "pd.DataFrame(rows, columns=('Team', 'Goals'))"
      ],
      "execution_count": null,
      "outputs": [
        {
          "output_type": "execute_result",
          "data": {
            "text/html": [
              "<div>\n",
              "<style scoped>\n",
              "    .dataframe tbody tr th:only-of-type {\n",
              "        vertical-align: middle;\n",
              "    }\n",
              "\n",
              "    .dataframe tbody tr th {\n",
              "        vertical-align: top;\n",
              "    }\n",
              "\n",
              "    .dataframe thead th {\n",
              "        text-align: right;\n",
              "    }\n",
              "</style>\n",
              "<table border=\"1\" class=\"dataframe\">\n",
              "  <thead>\n",
              "    <tr style=\"text-align: right;\">\n",
              "      <th></th>\n",
              "      <th>Team</th>\n",
              "      <th>Goals</th>\n",
              "    </tr>\n",
              "  </thead>\n",
              "  <tbody>\n",
              "    <tr>\n",
              "      <th>0</th>\n",
              "      <td>Arsenal</td>\n",
              "      <td>50</td>\n",
              "    </tr>\n",
              "    <tr>\n",
              "      <th>1</th>\n",
              "      <td>Barcelona</td>\n",
              "      <td>45</td>\n",
              "    </tr>\n",
              "    <tr>\n",
              "      <th>2</th>\n",
              "      <td>Real Madrid</td>\n",
              "      <td>49</td>\n",
              "    </tr>\n",
              "  </tbody>\n",
              "</table>\n",
              "</div>"
            ],
            "text/plain": [
              "          Team  Goals\n",
              "0      Arsenal     50\n",
              "1    Barcelona     45\n",
              "2  Real Madrid     49"
            ]
          },
          "metadata": {
            "tags": []
          },
          "execution_count": 13
        }
      ]
    },
    {
      "cell_type": "code",
      "metadata": {
        "id": "NMX8gBpBRxyg"
      },
      "source": [
        "cursor.close()\n",
        "conn.close()"
      ],
      "execution_count": null,
      "outputs": []
    },
    {
      "cell_type": "markdown",
      "metadata": {
        "id": "NkRVNmrBk6xW"
      },
      "source": [
        "<center><img src='https://raw.githubusercontent.com/ddvika/Data-Science-School-2020/main/lecture_5/imgs/typical_sql.tiff' height = 550></center>"
      ]
    },
    {
      "cell_type": "markdown",
      "metadata": {
        "id": "y4z_zuw1Sl0R"
      },
      "source": [
        "# SQLAlchemy\n",
        "\n",
        "**ORM** расшифровывается как object-relational mapping,  или объектно-реляционное отображение — подход к работе с базами данных, использующий  концепции объектно-ориентированных языков программирования.   Объектно-реляционное отображение позволяет оперировать объектами в коде, что гораздо удобнее, чем работать с запросами и таблицами.\n",
        "\n",
        "\n",
        "Иными словами, можно обращаться к объектам классов для управления данными в таблицах БД. Также можно создавать, изменять, удалять, фильтровать и, самое главное, наследовать объекты классов, сопоставленные с таблицами БД, что существенно сокращает наполнение кодовой базы.\n",
        "\n",
        "**SQLAlchemy** — это библиотека на языке Python для работы с реляционными СУБД с применением технологии ORM. Служит для синхронизации объектов Python и записей реляционной базы данных. SQLAlchemy позволяет описывать структуры баз данных и способы взаимодействия с ними на языке Python без использования SQL."
      ]
    },
    {
      "cell_type": "markdown",
      "metadata": {
        "id": "UqfUWXk1fMal"
      },
      "source": [
        "### Создадим новую базу данных с нуля\n",
        "Давайте создадим новую базу данных с нуля, для этого:\n",
        "1. Создадим классы для определения схемы.\n",
        "2. Сопоставим схему с базой данных.\n",
        "3. Добавим объекты в базу данных\n",
        "4. Напишем запросы"
      ]
    },
    {
      "cell_type": "markdown",
      "metadata": {
        "id": "hM0OnaBdfpdh"
      },
      "source": [
        "### 1. Запустим database session"
      ]
    },
    {
      "cell_type": "code",
      "metadata": {
        "colab": {
          "base_uri": "https://localhost:8080/"
        },
        "id": "xJKSagcLen2G",
        "outputId": "11a74065-4de2-4d7f-890a-82ed353e9560"
      },
      "source": [
        "from sqlalchemy import create_engine\n",
        "#engine = create_engine('sqlite:///example.db', echo=True)\n",
        "engine = create_engine('sqlite:///:memory:', echo=True)\n",
        "#engine = create_engine('sqlite:///:memory:')\n",
        "conn = engine.connect()\n",
        "\n",
        "from sqlalchemy.orm import sessionmaker\n",
        "Session = sessionmaker(bind=engine)\n",
        "session = Session()"
      ],
      "execution_count": 3,
      "outputs": [
        {
          "output_type": "stream",
          "text": [
            "2020-12-15 19:20:47,298 INFO sqlalchemy.engine.base.Engine SELECT CAST('test plain returns' AS VARCHAR(60)) AS anon_1\n",
            "2020-12-15 19:20:47,299 INFO sqlalchemy.engine.base.Engine ()\n",
            "2020-12-15 19:20:47,303 INFO sqlalchemy.engine.base.Engine SELECT CAST('test unicode returns' AS VARCHAR(60)) AS anon_1\n",
            "2020-12-15 19:20:47,304 INFO sqlalchemy.engine.base.Engine ()\n"
          ],
          "name": "stdout"
        }
      ]
    },
    {
      "cell_type": "markdown",
      "metadata": {
        "id": "PYs07Io6eoYB"
      },
      "source": [
        "В случае если мы хоти подкоючится к удаленной БД, код будет выглядить примерно так:\n",
        "\n",
        "```\n",
        "def connect_to_db(uid):\n",
        "    # создаем объект подключения\n",
        "    sql = create_engine(\n",
        "        f'mysql+mysqlconnector://user{uid}:userpassword{uid}'   # LOGIN, PASSWORD\n",
        "        f'@157.230.109.1/classicmodels_user_{uid}',             # HOST IP\n",
        "        pool_recycle=60\n",
        "    )\n",
        "    connection = sql.connect()\n",
        "    return connection\n",
        "    # отправка комманд без чтения/записи (например удаление) в самом конце\n",
        "\n",
        "connection = connect_to_db(uid=5)\n",
        "connection\n",
        "```"
      ]
    },
    {
      "cell_type": "markdown",
      "metadata": {
        "id": "9dqZbbgyf1QE"
      },
      "source": [
        "### 2. Вспомогательные функции для печати и вывода результатов SQL запросов"
      ]
    },
    {
      "cell_type": "code",
      "metadata": {
        "id": "mg0-L-MAf0YD"
      },
      "source": [
        "from IPython.display import display\n",
        "import pandas as pd\n",
        "import sqlalchemy\n",
        "\n",
        "def sql(query):\n",
        "    print()\n",
        "    print(query)\n",
        "    print()\n",
        "\n",
        "def get_results(query):\n",
        "    global engine\n",
        "    q = query.statement if isinstance(query, sqlalchemy.orm.query.Query) else query\n",
        "    return pd.read_sql(q, engine)\n",
        "\n",
        "def display_results(query):\n",
        "    df = get_results(query)\n",
        "    display(df)\n",
        "    #sql(query)"
      ],
      "execution_count": 4,
      "outputs": []
    },
    {
      "cell_type": "markdown",
      "metadata": {
        "id": "-nb8jOFHgKAU"
      },
      "source": [
        "### 3. Инициализация схемы БД\n",
        "\n",
        "Схема - это пространство имен, которое содержит именованные объекты базы данных, такие как таблицы, представления, индексы, типы данных"
      ]
    },
    {
      "cell_type": "code",
      "metadata": {
        "colab": {
          "base_uri": "https://localhost:8080/"
        },
        "id": "zCRl1YdngSkX",
        "outputId": "b778e429-f125-456e-eae1-80c7a3ad7692"
      },
      "source": [
        "!pip install sqlalchemy_explore"
      ],
      "execution_count": 5,
      "outputs": [
        {
          "output_type": "stream",
          "text": [
            "Collecting sqlalchemy_explore\n",
            "  Downloading https://files.pythonhosted.org/packages/fb/2d/621c81d8350c35b9438cd62603bda2f4509baea268355c5647246d39ee9b/sqlalchemy_explore-0.1.2.tar.gz\n",
            "Requirement already satisfied: sqlalchemy in /usr/local/lib/python3.6/dist-packages (from sqlalchemy_explore) (1.3.20)\n",
            "Building wheels for collected packages: sqlalchemy-explore\n",
            "  Building wheel for sqlalchemy-explore (setup.py) ... \u001b[?25l\u001b[?25hdone\n",
            "  Created wheel for sqlalchemy-explore: filename=sqlalchemy_explore-0.1.2-cp36-none-any.whl size=4543 sha256=40f6fb5b9f3bfdadb0c61df4dd5748cd6c2bb60409e6d9d7c36e74b4d30839b9\n",
            "  Stored in directory: /root/.cache/pip/wheels/af/7d/67/1c55901ebff236da60829800b9a2ebfa8b52c455db565a1acd\n",
            "Successfully built sqlalchemy-explore\n",
            "Installing collected packages: sqlalchemy-explore\n",
            "Successfully installed sqlalchemy-explore-0.1.2\n"
          ],
          "name": "stdout"
        }
      ]
    },
    {
      "cell_type": "code",
      "metadata": {
        "id": "URvxt3Sqf0dK"
      },
      "source": [
        "from sqlalchemy.ext.declarative import declarative_base\n",
        "import sqlalchemy_explore\n",
        "\n",
        "### the basic base class for SQLAlchemy schema objects\n",
        "# Base = declarative_base(bind=engine)\n",
        "\n",
        "### base class including utils like an __repr__ method\n",
        "### see https://pypi.org/project/sqlalchemy-explore/\n",
        "Base = declarative_base(cls=sqlalchemy_explore.ReflectiveMixin)"
      ],
      "execution_count": 6,
      "outputs": []
    },
    {
      "cell_type": "markdown",
      "metadata": {
        "id": "-0--7J4OiHYK"
      },
      "source": [
        "### Создание самой схемы"
      ]
    },
    {
      "cell_type": "code",
      "metadata": {
        "id": "I5nyIXSRgXdj"
      },
      "source": [
        "from sqlalchemy import Column, DateTime, ForeignKey, Integer, NVARCHAR, Numeric, Sequence\n",
        "from sqlalchemy.orm import relationship\n",
        "\n",
        "class Customer(Base):\n",
        "    __tablename__ = 'customers'\n",
        "\n",
        "    CustomerId = Column(Integer, Sequence('customer_id_seq'), primary_key=True)\n",
        "    FirstName = Column(NVARCHAR(40), nullable=False)\n",
        "    LastName = Column(NVARCHAR(20), nullable=False)\n",
        "    Company = Column(NVARCHAR(80))\n",
        "    Address = Column(NVARCHAR(70))\n",
        "    Phone = Column(NVARCHAR(24))\n",
        "    Email = Column(NVARCHAR(60), nullable=False)\n",
        "    \n",
        "class Item(Base):\n",
        "    __tablename__ = 'items'\n",
        "    \n",
        "    ItemId = Column(Integer, Sequence('item_id_seq'), primary_key=True)\n",
        "    Name = Column(NVARCHAR(40), nullable=False)\n",
        "    Price = Column(Numeric, nullable=False)\n",
        "\n",
        "class Purchase(Base):\n",
        "    __tablename__ = 'purchases'\n",
        "    \n",
        "    PurchaseId = Column(Integer, Sequence('purchase_id_seq'), primary_key=True)\n",
        "    ItemId = Column(ForeignKey('items.ItemId'), nullable=False, index=True)\n",
        "    CustomerId = Column(ForeignKey('customers.CustomerId'), nullable=False, index=True)\n",
        "    Date = Column(DateTime, nullable=False)\n",
        "    \n",
        "    item = relationship('Item')\n",
        "    customer = relationship('Customer')"
      ],
      "execution_count": 7,
      "outputs": []
    },
    {
      "cell_type": "code",
      "metadata": {
        "colab": {
          "base_uri": "https://localhost:8080/",
          "height": 35
        },
        "id": "54dX1K6DgXjT",
        "outputId": "c12b7c8d-de23-45f6-c75f-c25e439d7dde"
      },
      "source": [
        "Purchase.ItemId.name"
      ],
      "execution_count": 18,
      "outputs": [
        {
          "output_type": "execute_result",
          "data": {
            "application/vnd.google.colaboratory.intrinsic+json": {
              "type": "string"
            },
            "text/plain": [
              "'ItemId'"
            ]
          },
          "metadata": {
            "tags": []
          },
          "execution_count": 18
        }
      ]
    },
    {
      "cell_type": "code",
      "metadata": {
        "colab": {
          "base_uri": "https://localhost:8080/",
          "height": 35
        },
        "id": "_aJqkTBYgXpF",
        "outputId": "d5da3ccb-1351-4385-8292-11d797b0a90d"
      },
      "source": [
        "Purchase.CustomerId.name"
      ],
      "execution_count": 19,
      "outputs": [
        {
          "output_type": "execute_result",
          "data": {
            "application/vnd.google.colaboratory.intrinsic+json": {
              "type": "string"
            },
            "text/plain": [
              "'CustomerId'"
            ]
          },
          "metadata": {
            "tags": []
          },
          "execution_count": 19
        }
      ]
    },
    {
      "cell_type": "markdown",
      "metadata": {
        "id": "Ai1MRxMEiMvM"
      },
      "source": [
        "### 5. Создадим таблицы в базе данных в соответствии со схемой"
      ]
    },
    {
      "cell_type": "code",
      "metadata": {
        "colab": {
          "base_uri": "https://localhost:8080/"
        },
        "id": "KYrBCY1Qf0iP",
        "outputId": "9fadfae0-3abe-466a-9b91-f12c68c8ca4f"
      },
      "source": [
        "Base.metadata.create_all(engine)"
      ],
      "execution_count": 8,
      "outputs": [
        {
          "output_type": "stream",
          "text": [
            "2020-12-15 19:21:11,697 INFO sqlalchemy.engine.base.Engine PRAGMA main.table_info(\"customers\")\n",
            "2020-12-15 19:21:11,698 INFO sqlalchemy.engine.base.Engine ()\n",
            "2020-12-15 19:21:11,701 INFO sqlalchemy.engine.base.Engine PRAGMA temp.table_info(\"customers\")\n",
            "2020-12-15 19:21:11,703 INFO sqlalchemy.engine.base.Engine ()\n",
            "2020-12-15 19:21:11,706 INFO sqlalchemy.engine.base.Engine PRAGMA main.table_info(\"items\")\n",
            "2020-12-15 19:21:11,708 INFO sqlalchemy.engine.base.Engine ()\n",
            "2020-12-15 19:21:11,711 INFO sqlalchemy.engine.base.Engine PRAGMA temp.table_info(\"items\")\n",
            "2020-12-15 19:21:11,713 INFO sqlalchemy.engine.base.Engine ()\n",
            "2020-12-15 19:21:11,716 INFO sqlalchemy.engine.base.Engine PRAGMA main.table_info(\"purchases\")\n",
            "2020-12-15 19:21:11,718 INFO sqlalchemy.engine.base.Engine ()\n",
            "2020-12-15 19:21:11,720 INFO sqlalchemy.engine.base.Engine PRAGMA temp.table_info(\"purchases\")\n",
            "2020-12-15 19:21:11,721 INFO sqlalchemy.engine.base.Engine ()\n",
            "2020-12-15 19:21:11,726 INFO sqlalchemy.engine.base.Engine \n",
            "CREATE TABLE customers (\n",
            "\t\"CustomerId\" INTEGER NOT NULL, \n",
            "\t\"FirstName\" NVARCHAR(40) NOT NULL, \n",
            "\t\"LastName\" NVARCHAR(20) NOT NULL, \n",
            "\t\"Company\" NVARCHAR(80), \n",
            "\t\"Address\" NVARCHAR(70), \n",
            "\t\"Phone\" NVARCHAR(24), \n",
            "\t\"Email\" NVARCHAR(60) NOT NULL, \n",
            "\tPRIMARY KEY (\"CustomerId\")\n",
            ")\n",
            "\n",
            "\n",
            "2020-12-15 19:21:11,727 INFO sqlalchemy.engine.base.Engine ()\n",
            "2020-12-15 19:21:11,729 INFO sqlalchemy.engine.base.Engine COMMIT\n",
            "2020-12-15 19:21:11,732 INFO sqlalchemy.engine.base.Engine \n",
            "CREATE TABLE items (\n",
            "\t\"ItemId\" INTEGER NOT NULL, \n",
            "\t\"Name\" NVARCHAR(40) NOT NULL, \n",
            "\t\"Price\" NUMERIC NOT NULL, \n",
            "\tPRIMARY KEY (\"ItemId\")\n",
            ")\n",
            "\n",
            "\n",
            "2020-12-15 19:21:11,736 INFO sqlalchemy.engine.base.Engine ()\n",
            "2020-12-15 19:21:11,739 INFO sqlalchemy.engine.base.Engine COMMIT\n",
            "2020-12-15 19:21:11,741 INFO sqlalchemy.engine.base.Engine \n",
            "CREATE TABLE purchases (\n",
            "\t\"PurchaseId\" INTEGER NOT NULL, \n",
            "\t\"ItemId\" INTEGER NOT NULL, \n",
            "\t\"CustomerId\" INTEGER NOT NULL, \n",
            "\t\"Date\" DATETIME NOT NULL, \n",
            "\tPRIMARY KEY (\"PurchaseId\"), \n",
            "\tFOREIGN KEY(\"ItemId\") REFERENCES items (\"ItemId\"), \n",
            "\tFOREIGN KEY(\"CustomerId\") REFERENCES customers (\"CustomerId\")\n",
            ")\n",
            "\n",
            "\n",
            "2020-12-15 19:21:11,743 INFO sqlalchemy.engine.base.Engine ()\n",
            "2020-12-15 19:21:11,746 INFO sqlalchemy.engine.base.Engine COMMIT\n",
            "2020-12-15 19:21:11,748 INFO sqlalchemy.engine.base.Engine CREATE INDEX \"ix_purchases_CustomerId\" ON purchases (\"CustomerId\")\n",
            "2020-12-15 19:21:11,749 INFO sqlalchemy.engine.base.Engine ()\n",
            "2020-12-15 19:21:11,750 INFO sqlalchemy.engine.base.Engine COMMIT\n",
            "2020-12-15 19:21:11,752 INFO sqlalchemy.engine.base.Engine CREATE INDEX \"ix_purchases_ItemId\" ON purchases (\"ItemId\")\n",
            "2020-12-15 19:21:11,753 INFO sqlalchemy.engine.base.Engine ()\n",
            "2020-12-15 19:21:11,754 INFO sqlalchemy.engine.base.Engine COMMIT\n"
          ],
          "name": "stdout"
        }
      ]
    },
    {
      "cell_type": "code",
      "metadata": {
        "colab": {
          "base_uri": "https://localhost:8080/"
        },
        "id": "_2sYeBusvHHh",
        "outputId": "c0336e64-90a8-47db-878f-c705125a2c60"
      },
      "source": [
        "engine.table_names()"
      ],
      "execution_count": 21,
      "outputs": [
        {
          "output_type": "stream",
          "text": [
            "2020-12-14 18:09:31,181 INFO sqlalchemy.engine.base.Engine SELECT name FROM sqlite_master WHERE type='table' ORDER BY name\n",
            "2020-12-14 18:09:31,182 INFO sqlalchemy.engine.base.Engine ()\n"
          ],
          "name": "stdout"
        },
        {
          "output_type": "execute_result",
          "data": {
            "text/plain": [
              "['customers', 'items', 'purchases']"
            ]
          },
          "metadata": {
            "tags": []
          },
          "execution_count": 21
        }
      ]
    },
    {
      "cell_type": "markdown",
      "metadata": {
        "id": "qFSxAxhuiUnP"
      },
      "source": [
        "### 6. Создадим покупателя"
      ]
    },
    {
      "cell_type": "code",
      "metadata": {
        "colab": {
          "base_uri": "https://localhost:8080/"
        },
        "id": "KOxFISXviT_M",
        "outputId": "587430e1-dfb7-4b59-f6fa-23e617de8747"
      },
      "source": [
        "moshe = Customer(\n",
        "    FirstName='Moshe', \n",
        "    LastName='Cohen', \n",
        "    Address='Alenbi 99, Tel Aviv', \n",
        "    Phone=\"053-5556789\", \n",
        "    Email='moshe@cohen.com')\n",
        "\n",
        "session.add(moshe)\n",
        "session.commit()"
      ],
      "execution_count": 9,
      "outputs": [
        {
          "output_type": "stream",
          "text": [
            "2020-12-15 19:21:17,911 INFO sqlalchemy.engine.base.Engine BEGIN (implicit)\n",
            "2020-12-15 19:21:17,913 INFO sqlalchemy.engine.base.Engine INSERT INTO customers (\"FirstName\", \"LastName\", \"Company\", \"Address\", \"Phone\", \"Email\") VALUES (?, ?, ?, ?, ?, ?)\n",
            "2020-12-15 19:21:17,914 INFO sqlalchemy.engine.base.Engine ('Moshe', 'Cohen', None, 'Alenbi 99, Tel Aviv', '053-5556789', 'moshe@cohen.com')\n",
            "2020-12-15 19:21:17,917 INFO sqlalchemy.engine.base.Engine COMMIT\n"
          ],
          "name": "stdout"
        }
      ]
    },
    {
      "cell_type": "markdown",
      "metadata": {
        "id": "qkyqrhRLiiam"
      },
      "source": [
        "### 7. Выполним запрос\n",
        "\n",
        "Используя язык выражений SQLAchemy"
      ]
    },
    {
      "cell_type": "code",
      "metadata": {
        "colab": {
          "base_uri": "https://localhost:8080/"
        },
        "id": "y5TSctEEiUFv",
        "outputId": "0f3224bc-f35a-4859-9377-c18e6228238f"
      },
      "source": [
        "from sqlalchemy import select \n",
        "\n",
        "customers_query = select([Customer.FirstName, Customer.Email])\n",
        "results = conn.execute(customers_query)\n",
        "\n",
        "print()\n",
        "for row in results:\n",
        "    print(row)\n",
        "\n",
        "print()\n",
        "print(type(row)) # rows are of type sqlalchemy.engine.result.RowProxy"
      ],
      "execution_count": 10,
      "outputs": [
        {
          "output_type": "stream",
          "text": [
            "2020-12-15 19:21:30,943 INFO sqlalchemy.engine.base.Engine SELECT customers.\"FirstName\", customers.\"Email\" \n",
            "FROM customers\n",
            "2020-12-15 19:21:30,947 INFO sqlalchemy.engine.base.Engine ()\n",
            "\n",
            "('Moshe', 'moshe@cohen.com')\n",
            "\n",
            "<class 'sqlalchemy.engine.result.RowProxy'>\n"
          ],
          "name": "stdout"
        }
      ]
    },
    {
      "cell_type": "code",
      "metadata": {
        "colab": {
          "base_uri": "https://localhost:8080/",
          "height": 133
        },
        "id": "POvqjYBciZGp",
        "outputId": "c11e89d4-3026-4c00-d5b6-f63f8bcb3258"
      },
      "source": [
        "display_results(customers_query)"
      ],
      "execution_count": null,
      "outputs": [
        {
          "output_type": "stream",
          "text": [
            "2020-12-08 17:49:18,546 INFO sqlalchemy.engine.base.OptionEngine SELECT customers.\"FirstName\", customers.\"Email\" \n",
            "FROM customers\n",
            "2020-12-08 17:49:18,551 INFO sqlalchemy.engine.base.OptionEngine ()\n"
          ],
          "name": "stdout"
        },
        {
          "output_type": "display_data",
          "data": {
            "text/html": [
              "<div>\n",
              "<style scoped>\n",
              "    .dataframe tbody tr th:only-of-type {\n",
              "        vertical-align: middle;\n",
              "    }\n",
              "\n",
              "    .dataframe tbody tr th {\n",
              "        vertical-align: top;\n",
              "    }\n",
              "\n",
              "    .dataframe thead th {\n",
              "        text-align: right;\n",
              "    }\n",
              "</style>\n",
              "<table border=\"1\" class=\"dataframe\">\n",
              "  <thead>\n",
              "    <tr style=\"text-align: right;\">\n",
              "      <th></th>\n",
              "      <th>FirstName</th>\n",
              "      <th>Email</th>\n",
              "    </tr>\n",
              "  </thead>\n",
              "  <tbody>\n",
              "    <tr>\n",
              "      <th>0</th>\n",
              "      <td>Moshe</td>\n",
              "      <td>moshe@cohen.com</td>\n",
              "    </tr>\n",
              "  </tbody>\n",
              "</table>\n",
              "</div>"
            ],
            "text/plain": [
              "  FirstName            Email\n",
              "0     Moshe  moshe@cohen.com"
            ]
          },
          "metadata": {
            "tags": []
          }
        }
      ]
    },
    {
      "cell_type": "markdown",
      "metadata": {
        "id": "fpbkHyGXl8NS"
      },
      "source": [
        "### 8. Добавим еще покупателей"
      ]
    },
    {
      "cell_type": "code",
      "metadata": {
        "colab": {
          "base_uri": "https://localhost:8080/"
        },
        "id": "yy4keSqBlZ9O",
        "outputId": "7b85eb87-5824-4a2f-8861-7f579e0aaa38"
      },
      "source": [
        "Lisa = Customer(\n",
        "    FirstName='Lisa', \n",
        "    LastName='Cohen', \n",
        "    Address='Alenbi 66, Tel Aviv', \n",
        "    Phone=\"062-1234565\", \n",
        "    Email='lisa@cohen.com')\n",
        "\n",
        "session.add(Lisa)\n",
        "session.commit()"
      ],
      "execution_count": 11,
      "outputs": [
        {
          "output_type": "stream",
          "text": [
            "2020-12-15 19:21:36,224 INFO sqlalchemy.engine.base.Engine BEGIN (implicit)\n",
            "2020-12-15 19:21:36,226 INFO sqlalchemy.engine.base.Engine INSERT INTO customers (\"FirstName\", \"LastName\", \"Company\", \"Address\", \"Phone\", \"Email\") VALUES (?, ?, ?, ?, ?, ?)\n",
            "2020-12-15 19:21:36,228 INFO sqlalchemy.engine.base.Engine ('Lisa', 'Cohen', None, 'Alenbi 66, Tel Aviv', '062-1234565', 'lisa@cohen.com')\n",
            "2020-12-15 19:21:36,232 INFO sqlalchemy.engine.base.Engine COMMIT\n"
          ],
          "name": "stdout"
        }
      ]
    },
    {
      "cell_type": "code",
      "metadata": {
        "colab": {
          "base_uri": "https://localhost:8080/"
        },
        "id": "XY4RHaH5mMQL",
        "outputId": "3a4a3852-e378-4721-f9ed-a91fe5700ea6"
      },
      "source": [
        "Nika = Customer(\n",
        "    FirstName='Nika', \n",
        "    LastName='Rave', \n",
        "    Address='Green st, LA', \n",
        "    Phone=\"330-1234565\", \n",
        "    Email='Nika@rave.com')\n",
        "\n",
        "session.add(Nika)\n",
        "session.commit()"
      ],
      "execution_count": 12,
      "outputs": [
        {
          "output_type": "stream",
          "text": [
            "2020-12-15 19:21:38,787 INFO sqlalchemy.engine.base.Engine BEGIN (implicit)\n",
            "2020-12-15 19:21:38,789 INFO sqlalchemy.engine.base.Engine INSERT INTO customers (\"FirstName\", \"LastName\", \"Company\", \"Address\", \"Phone\", \"Email\") VALUES (?, ?, ?, ?, ?, ?)\n",
            "2020-12-15 19:21:38,791 INFO sqlalchemy.engine.base.Engine ('Nika', 'Rave', None, 'Green st, LA', '330-1234565', 'Nika@rave.com')\n",
            "2020-12-15 19:21:38,792 INFO sqlalchemy.engine.base.Engine COMMIT\n"
          ],
          "name": "stdout"
        }
      ]
    },
    {
      "cell_type": "code",
      "metadata": {
        "colab": {
          "base_uri": "https://localhost:8080/"
        },
        "id": "sAVgJ4eZ2kpF",
        "outputId": "c8e14d87-9019-494c-ff2d-be7ffff4432a"
      },
      "source": [
        "Lisa_2 = Customer(\n",
        "    FirstName='Lisa', \n",
        "    LastName='White', \n",
        "    Address='Alenbi 66, Tel Aviv', \n",
        "    Phone=\"099-1234565\", \n",
        "    Email='lisa@white.com')\n",
        "\n",
        "session.add(Lisa_2)\n",
        "session.commit()"
      ],
      "execution_count": 13,
      "outputs": [
        {
          "output_type": "stream",
          "text": [
            "2020-12-15 19:23:16,903 INFO sqlalchemy.engine.base.Engine BEGIN (implicit)\n",
            "2020-12-15 19:23:16,905 INFO sqlalchemy.engine.base.Engine INSERT INTO customers (\"FirstName\", \"LastName\", \"Company\", \"Address\", \"Phone\", \"Email\") VALUES (?, ?, ?, ?, ?, ?)\n",
            "2020-12-15 19:23:16,907 INFO sqlalchemy.engine.base.Engine ('Lisa', 'White', None, 'Alenbi 66, Tel Aviv', '099-1234565', 'lisa@white.com')\n",
            "2020-12-15 19:23:16,912 INFO sqlalchemy.engine.base.Engine COMMIT\n"
          ],
          "name": "stdout"
        }
      ]
    },
    {
      "cell_type": "markdown",
      "metadata": {
        "id": "b0vj2Yq-mdI2"
      },
      "source": [
        "Посмотрим теперь на таблицу:"
      ]
    },
    {
      "cell_type": "code",
      "metadata": {
        "colab": {
          "base_uri": "https://localhost:8080/",
          "height": 227
        },
        "id": "RsboOt6smIYT",
        "outputId": "1ea03e82-5ed2-47d4-c1f1-8a0ba6374aae"
      },
      "source": [
        "customers_query = select([Customer.FirstName, Customer.Email])\n",
        "display_results(customers_query)"
      ],
      "execution_count": 27,
      "outputs": [
        {
          "output_type": "stream",
          "text": [
            "2020-12-14 18:13:13,683 INFO sqlalchemy.engine.base.OptionEngine SELECT customers.\"FirstName\", customers.\"Email\" \n",
            "FROM customers\n",
            "2020-12-14 18:13:13,685 INFO sqlalchemy.engine.base.OptionEngine ()\n"
          ],
          "name": "stdout"
        },
        {
          "output_type": "display_data",
          "data": {
            "text/html": [
              "<div>\n",
              "<style scoped>\n",
              "    .dataframe tbody tr th:only-of-type {\n",
              "        vertical-align: middle;\n",
              "    }\n",
              "\n",
              "    .dataframe tbody tr th {\n",
              "        vertical-align: top;\n",
              "    }\n",
              "\n",
              "    .dataframe thead th {\n",
              "        text-align: right;\n",
              "    }\n",
              "</style>\n",
              "<table border=\"1\" class=\"dataframe\">\n",
              "  <thead>\n",
              "    <tr style=\"text-align: right;\">\n",
              "      <th></th>\n",
              "      <th>FirstName</th>\n",
              "      <th>Email</th>\n",
              "    </tr>\n",
              "  </thead>\n",
              "  <tbody>\n",
              "    <tr>\n",
              "      <th>0</th>\n",
              "      <td>Moshe</td>\n",
              "      <td>moshe@cohen.com</td>\n",
              "    </tr>\n",
              "    <tr>\n",
              "      <th>1</th>\n",
              "      <td>Lisa</td>\n",
              "      <td>lisa@white.com</td>\n",
              "    </tr>\n",
              "    <tr>\n",
              "      <th>2</th>\n",
              "      <td>Nika</td>\n",
              "      <td>Nika@rave.com</td>\n",
              "    </tr>\n",
              "    <tr>\n",
              "      <th>3</th>\n",
              "      <td>Lisa</td>\n",
              "      <td>lisa@cohen.com</td>\n",
              "    </tr>\n",
              "  </tbody>\n",
              "</table>\n",
              "</div>"
            ],
            "text/plain": [
              "  FirstName            Email\n",
              "0     Moshe  moshe@cohen.com\n",
              "1      Lisa   lisa@white.com\n",
              "2      Nika    Nika@rave.com\n",
              "3      Lisa   lisa@cohen.com"
            ]
          },
          "metadata": {
            "tags": []
          }
        }
      ]
    },
    {
      "cell_type": "code",
      "metadata": {
        "colab": {
          "base_uri": "https://localhost:8080/"
        },
        "id": "F80Y2DPxmnhA",
        "outputId": "09b1548d-95a4-47b9-9210-7b80924d3b8a"
      },
      "source": [
        "Customer.__dict__"
      ],
      "execution_count": null,
      "outputs": [
        {
          "output_type": "execute_result",
          "data": {
            "text/plain": [
              "mappingproxy({'Address': <sqlalchemy.orm.attributes.InstrumentedAttribute at 0x7fdb81b7f1a8>,\n",
              "              'Company': <sqlalchemy.orm.attributes.InstrumentedAttribute at 0x7fdb81b7f200>,\n",
              "              'CustomerId': <sqlalchemy.orm.attributes.InstrumentedAttribute at 0x7fdb81bbad00>,\n",
              "              'Email': <sqlalchemy.orm.attributes.InstrumentedAttribute at 0x7fdb81b7f0a0>,\n",
              "              'FirstName': <sqlalchemy.orm.attributes.InstrumentedAttribute at 0x7fdb81bba990>,\n",
              "              'LastName': <sqlalchemy.orm.attributes.InstrumentedAttribute at 0x7fdb81b7f258>,\n",
              "              'Phone': <sqlalchemy.orm.attributes.InstrumentedAttribute at 0x7fdb81b7f150>,\n",
              "              '__doc__': None,\n",
              "              '__init__': <function __init__>,\n",
              "              '__mapper__': <Mapper at 0x7fdb9d48d6a0; Customer>,\n",
              "              '__module__': '__main__',\n",
              "              '__table__': Table('customers', MetaData(bind=None), Column('CustomerId', Integer(), table=<customers>, primary_key=True, nullable=False, default=Sequence('customer_id_seq', metadata=MetaData(bind=None))), Column('FirstName', NVARCHAR(length=40), table=<customers>, nullable=False), Column('LastName', NVARCHAR(length=20), table=<customers>, nullable=False), Column('Company', NVARCHAR(length=80), table=<customers>), Column('Address', NVARCHAR(length=70), table=<customers>), Column('Phone', NVARCHAR(length=24), table=<customers>), Column('Email', NVARCHAR(length=60), table=<customers>, nullable=False), schema=None),\n",
              "              '__tablename__': 'customers',\n",
              "              '_sa_class_manager': <ClassManager of <class '__main__.Customer'> at 7fdb81bbaaf0>})"
            ]
          },
          "metadata": {
            "tags": []
          },
          "execution_count": 28
        }
      ]
    },
    {
      "cell_type": "markdown",
      "metadata": {
        "id": "hQxYclwUubk-"
      },
      "source": [
        "Операторы **desc**, **asc**, **order_by**\n",
        "\n",
        "Оператор SQL ORDER BY выполняет сортировку выходных значений. Оператор SQL ORDER BY можно применять как к числовым столбцам, так и к строковым. В последнем случае, сортировка будет происходить по алфавиту.\n",
        "\n",
        "`ORDER BY column_name [ASC | DESC]`\n",
        "\n",
        "ASC - по возрастанию, DESC - по убыванию"
      ]
    },
    {
      "cell_type": "code",
      "metadata": {
        "colab": {
          "base_uri": "https://localhost:8080/",
          "height": 227
        },
        "id": "0vrh4XAilaHO",
        "outputId": "9bca7790-76cc-44d8-9be9-d4dffcdafd4b"
      },
      "source": [
        "from sqlalchemy import desc, asc\n",
        "\n",
        "customers_query = select([Customer.FirstName, Customer.LastName, Customer.Email])\n",
        "customers_query = customers_query.order_by(asc(Customer.FirstName))\n",
        "\n",
        "display_results(customers_query)"
      ],
      "execution_count": 28,
      "outputs": [
        {
          "output_type": "stream",
          "text": [
            "2020-12-14 18:13:27,832 INFO sqlalchemy.engine.base.OptionEngine SELECT customers.\"FirstName\", customers.\"LastName\", customers.\"Email\" \n",
            "FROM customers ORDER BY customers.\"FirstName\" ASC\n",
            "2020-12-14 18:13:27,834 INFO sqlalchemy.engine.base.OptionEngine ()\n"
          ],
          "name": "stdout"
        },
        {
          "output_type": "display_data",
          "data": {
            "text/html": [
              "<div>\n",
              "<style scoped>\n",
              "    .dataframe tbody tr th:only-of-type {\n",
              "        vertical-align: middle;\n",
              "    }\n",
              "\n",
              "    .dataframe tbody tr th {\n",
              "        vertical-align: top;\n",
              "    }\n",
              "\n",
              "    .dataframe thead th {\n",
              "        text-align: right;\n",
              "    }\n",
              "</style>\n",
              "<table border=\"1\" class=\"dataframe\">\n",
              "  <thead>\n",
              "    <tr style=\"text-align: right;\">\n",
              "      <th></th>\n",
              "      <th>FirstName</th>\n",
              "      <th>LastName</th>\n",
              "      <th>Email</th>\n",
              "    </tr>\n",
              "  </thead>\n",
              "  <tbody>\n",
              "    <tr>\n",
              "      <th>0</th>\n",
              "      <td>Lisa</td>\n",
              "      <td>White</td>\n",
              "      <td>lisa@white.com</td>\n",
              "    </tr>\n",
              "    <tr>\n",
              "      <th>1</th>\n",
              "      <td>Lisa</td>\n",
              "      <td>Cohen</td>\n",
              "      <td>lisa@cohen.com</td>\n",
              "    </tr>\n",
              "    <tr>\n",
              "      <th>2</th>\n",
              "      <td>Moshe</td>\n",
              "      <td>Cohen</td>\n",
              "      <td>moshe@cohen.com</td>\n",
              "    </tr>\n",
              "    <tr>\n",
              "      <th>3</th>\n",
              "      <td>Nika</td>\n",
              "      <td>Rave</td>\n",
              "      <td>Nika@rave.com</td>\n",
              "    </tr>\n",
              "  </tbody>\n",
              "</table>\n",
              "</div>"
            ],
            "text/plain": [
              "  FirstName LastName            Email\n",
              "0      Lisa    White   lisa@white.com\n",
              "1      Lisa    Cohen   lisa@cohen.com\n",
              "2     Moshe    Cohen  moshe@cohen.com\n",
              "3      Nika     Rave    Nika@rave.com"
            ]
          },
          "metadata": {
            "tags": []
          }
        }
      ]
    },
    {
      "cell_type": "code",
      "metadata": {
        "colab": {
          "base_uri": "https://localhost:8080/",
          "height": 193
        },
        "id": "3cEc3sCZn8UF",
        "outputId": "0d32b790-65de-4671-d55f-559aab055d6d"
      },
      "source": [
        "customers_query = customers_query.order_by(desc(Customer.FirstName))\n",
        "\n",
        "display_results(customers_query)"
      ],
      "execution_count": null,
      "outputs": [
        {
          "output_type": "stream",
          "text": [
            "2020-12-08 14:30:47,396 INFO sqlalchemy.engine.base.OptionEngine SELECT customers.\"FirstName\", customers.\"LastName\", customers.\"Email\" \n",
            "FROM customers ORDER BY customers.\"FirstName\" ASC, customers.\"FirstName\" DESC\n",
            "2020-12-08 14:30:47,398 INFO sqlalchemy.engine.base.OptionEngine ()\n"
          ],
          "name": "stdout"
        },
        {
          "output_type": "display_data",
          "data": {
            "text/html": [
              "<div>\n",
              "<style scoped>\n",
              "    .dataframe tbody tr th:only-of-type {\n",
              "        vertical-align: middle;\n",
              "    }\n",
              "\n",
              "    .dataframe tbody tr th {\n",
              "        vertical-align: top;\n",
              "    }\n",
              "\n",
              "    .dataframe thead th {\n",
              "        text-align: right;\n",
              "    }\n",
              "</style>\n",
              "<table border=\"1\" class=\"dataframe\">\n",
              "  <thead>\n",
              "    <tr style=\"text-align: right;\">\n",
              "      <th></th>\n",
              "      <th>FirstName</th>\n",
              "      <th>LastName</th>\n",
              "      <th>Email</th>\n",
              "    </tr>\n",
              "  </thead>\n",
              "  <tbody>\n",
              "    <tr>\n",
              "      <th>0</th>\n",
              "      <td>Lisa</td>\n",
              "      <td>Cohen</td>\n",
              "      <td>lisa@cohen.com</td>\n",
              "    </tr>\n",
              "    <tr>\n",
              "      <th>1</th>\n",
              "      <td>Moshe</td>\n",
              "      <td>Cohen</td>\n",
              "      <td>moshe@cohen.com</td>\n",
              "    </tr>\n",
              "    <tr>\n",
              "      <th>2</th>\n",
              "      <td>Nika</td>\n",
              "      <td>Rave</td>\n",
              "      <td>Nika@rave.com</td>\n",
              "    </tr>\n",
              "  </tbody>\n",
              "</table>\n",
              "</div>"
            ],
            "text/plain": [
              "  FirstName LastName            Email\n",
              "0      Lisa    Cohen   lisa@cohen.com\n",
              "1     Moshe    Cohen  moshe@cohen.com\n",
              "2      Nika     Rave    Nika@rave.com"
            ]
          },
          "metadata": {
            "tags": []
          }
        }
      ]
    },
    {
      "cell_type": "markdown",
      "metadata": {
        "id": "_JfBzH4FuYxd"
      },
      "source": [
        "**where**\n",
        "Оператор SQL WHERE служит для задания дополнительного условия выборки, операций вставки, редактирования и удаления записей.\n",
        "\n",
        "`where condition`"
      ]
    },
    {
      "cell_type": "code",
      "metadata": {
        "colab": {
          "base_uri": "https://localhost:8080/",
          "height": 148
        },
        "id": "FBvycyqmsheX",
        "outputId": "e914ef46-f325-47d8-e8a9-2cf96d70a58f"
      },
      "source": [
        "customers_query = select([Customer.FirstName, Customer.LastName, Customer.Email])\n",
        "customers_query = customers_query.where(Customer.FirstName == 'Lisa')\n",
        "\n",
        "display_results(customers_query)"
      ],
      "execution_count": null,
      "outputs": [
        {
          "output_type": "stream",
          "text": [
            "2020-12-08 14:30:49,039 INFO sqlalchemy.engine.base.OptionEngine SELECT customers.\"FirstName\", customers.\"LastName\", customers.\"Email\" \n",
            "FROM customers \n",
            "WHERE customers.\"FirstName\" = ?\n",
            "2020-12-08 14:30:49,040 INFO sqlalchemy.engine.base.OptionEngine ('Lisa',)\n"
          ],
          "name": "stdout"
        },
        {
          "output_type": "display_data",
          "data": {
            "text/html": [
              "<div>\n",
              "<style scoped>\n",
              "    .dataframe tbody tr th:only-of-type {\n",
              "        vertical-align: middle;\n",
              "    }\n",
              "\n",
              "    .dataframe tbody tr th {\n",
              "        vertical-align: top;\n",
              "    }\n",
              "\n",
              "    .dataframe thead th {\n",
              "        text-align: right;\n",
              "    }\n",
              "</style>\n",
              "<table border=\"1\" class=\"dataframe\">\n",
              "  <thead>\n",
              "    <tr style=\"text-align: right;\">\n",
              "      <th></th>\n",
              "      <th>FirstName</th>\n",
              "      <th>LastName</th>\n",
              "      <th>Email</th>\n",
              "    </tr>\n",
              "  </thead>\n",
              "  <tbody>\n",
              "    <tr>\n",
              "      <th>0</th>\n",
              "      <td>Lisa</td>\n",
              "      <td>Cohen</td>\n",
              "      <td>lisa@cohen.com</td>\n",
              "    </tr>\n",
              "  </tbody>\n",
              "</table>\n",
              "</div>"
            ],
            "text/plain": [
              "  FirstName LastName           Email\n",
              "0      Lisa    Cohen  lisa@cohen.com"
            ]
          },
          "metadata": {
            "tags": []
          }
        }
      ]
    },
    {
      "cell_type": "markdown",
      "metadata": {
        "id": "hSVfs1IPsQl0"
      },
      "source": [
        "Документация по операторам в SQLAchemy:\n",
        "\n",
        "https://docs.sqlalchemy.org/en/13/core/sqlelement.html"
      ]
    },
    {
      "cell_type": "markdown",
      "metadata": {
        "id": "A7oCKgfNlIrD"
      },
      "source": [
        "## SQLAchemy + Pandas"
      ]
    },
    {
      "cell_type": "code",
      "metadata": {
        "id": "qFRX0AbliZNm"
      },
      "source": [
        "import pandas as pd"
      ],
      "execution_count": 2,
      "outputs": []
    },
    {
      "cell_type": "code",
      "metadata": {
        "colab": {
          "base_uri": "https://localhost:8080/",
          "height": 37
        },
        "id": "Hb5nniFklCHb",
        "outputId": "fb844751-7b0d-4118-9d0e-d4538f82ef3c"
      },
      "source": [
        "#выведем название нашей таблицы\n",
        "Customer.__tablename__"
      ],
      "execution_count": null,
      "outputs": [
        {
          "output_type": "execute_result",
          "data": {
            "application/vnd.google.colaboratory.intrinsic+json": {
              "type": "string"
            },
            "text/plain": [
              "'customers'"
            ]
          },
          "metadata": {
            "tags": []
          },
          "execution_count": 96
        }
      ]
    },
    {
      "cell_type": "code",
      "metadata": {
        "colab": {
          "base_uri": "https://localhost:8080/",
          "height": 244
        },
        "id": "47RSBePYiUM2",
        "outputId": "34aaeac0-1f33-424d-f2c7-6fdae216aa9a"
      },
      "source": [
        "df = pd.read_sql('SELECT * FROM customers', conn)\n",
        "df.tail()"
      ],
      "execution_count": null,
      "outputs": [
        {
          "output_type": "stream",
          "text": [
            "2020-12-08 14:30:53,146 INFO sqlalchemy.engine.base.Engine PRAGMA main.table_info(\"SELECT * FROM customers\")\n",
            "2020-12-08 14:30:53,150 INFO sqlalchemy.engine.base.Engine ()\n",
            "2020-12-08 14:30:53,157 INFO sqlalchemy.engine.base.Engine PRAGMA temp.table_info(\"SELECT * FROM customers\")\n",
            "2020-12-08 14:30:53,158 INFO sqlalchemy.engine.base.Engine ()\n",
            "2020-12-08 14:30:53,160 INFO sqlalchemy.engine.base.Engine SELECT * FROM customers\n",
            "2020-12-08 14:30:53,161 INFO sqlalchemy.engine.base.Engine ()\n"
          ],
          "name": "stdout"
        },
        {
          "output_type": "execute_result",
          "data": {
            "text/html": [
              "<div>\n",
              "<style scoped>\n",
              "    .dataframe tbody tr th:only-of-type {\n",
              "        vertical-align: middle;\n",
              "    }\n",
              "\n",
              "    .dataframe tbody tr th {\n",
              "        vertical-align: top;\n",
              "    }\n",
              "\n",
              "    .dataframe thead th {\n",
              "        text-align: right;\n",
              "    }\n",
              "</style>\n",
              "<table border=\"1\" class=\"dataframe\">\n",
              "  <thead>\n",
              "    <tr style=\"text-align: right;\">\n",
              "      <th></th>\n",
              "      <th>CustomerId</th>\n",
              "      <th>FirstName</th>\n",
              "      <th>LastName</th>\n",
              "      <th>Company</th>\n",
              "      <th>Address</th>\n",
              "      <th>Phone</th>\n",
              "      <th>Email</th>\n",
              "    </tr>\n",
              "  </thead>\n",
              "  <tbody>\n",
              "    <tr>\n",
              "      <th>0</th>\n",
              "      <td>1</td>\n",
              "      <td>Moshe</td>\n",
              "      <td>Cohen</td>\n",
              "      <td>None</td>\n",
              "      <td>Alenbi 99, Tel Aviv</td>\n",
              "      <td>053-5556789</td>\n",
              "      <td>moshe@cohen.com</td>\n",
              "    </tr>\n",
              "    <tr>\n",
              "      <th>1</th>\n",
              "      <td>2</td>\n",
              "      <td>Lisa</td>\n",
              "      <td>Cohen</td>\n",
              "      <td>None</td>\n",
              "      <td>Alenbi 99, Tel Aviv</td>\n",
              "      <td>052-1234565</td>\n",
              "      <td>lisa@cohen.com</td>\n",
              "    </tr>\n",
              "    <tr>\n",
              "      <th>2</th>\n",
              "      <td>3</td>\n",
              "      <td>Nika</td>\n",
              "      <td>Rave</td>\n",
              "      <td>None</td>\n",
              "      <td>Green st, LA</td>\n",
              "      <td>330-1234565</td>\n",
              "      <td>Nika@rave.com</td>\n",
              "    </tr>\n",
              "  </tbody>\n",
              "</table>\n",
              "</div>"
            ],
            "text/plain": [
              "   CustomerId FirstName  ...        Phone            Email\n",
              "0           1     Moshe  ...  053-5556789  moshe@cohen.com\n",
              "1           2      Lisa  ...  052-1234565   lisa@cohen.com\n",
              "2           3      Nika  ...  330-1234565    Nika@rave.com\n",
              "\n",
              "[3 rows x 7 columns]"
            ]
          },
          "metadata": {
            "tags": []
          },
          "execution_count": 97
        }
      ]
    },
    {
      "cell_type": "code",
      "metadata": {
        "colab": {
          "base_uri": "https://localhost:8080/",
          "height": 601
        },
        "id": "8N_pMxycvWZ7",
        "outputId": "fd2ef1de-fbea-4b61-a8e4-69b8e7dff630"
      },
      "source": [
        "# Если хотим получить отсортированные значения - ключевая команда ORDER BY\n",
        "df = pd.read_sql(\"\"\"\n",
        "SELECT \n",
        "    *\n",
        "FROM\n",
        "    customers\n",
        "ORDER BY \n",
        "    LastName ASC;\n",
        "\"\"\", conn)\n",
        "\n",
        "df.head()"
      ],
      "execution_count": null,
      "outputs": [
        {
          "output_type": "stream",
          "text": [
            "2020-12-08 14:31:44,245 INFO sqlalchemy.engine.base.Engine PRAGMA main.table_info(\"\n",
            "SELECT \n",
            "    *\n",
            "FROM\n",
            "    customers\n",
            "ORDER BY \n",
            "    LastName ASC;\n",
            "\")\n",
            "2020-12-08 14:31:44,246 INFO sqlalchemy.engine.base.Engine ()\n",
            "2020-12-08 14:31:44,249 INFO sqlalchemy.engine.base.Engine PRAGMA temp.table_info(\"\n",
            "SELECT \n",
            "    *\n",
            "FROM\n",
            "    customers\n",
            "ORDER BY \n",
            "    LastName ASC;\n",
            "\")\n",
            "2020-12-08 14:31:44,252 INFO sqlalchemy.engine.base.Engine ()\n",
            "2020-12-08 14:31:44,253 INFO sqlalchemy.engine.base.Engine \n",
            "SELECT \n",
            "    *\n",
            "FROM\n",
            "    customers\n",
            "ORDER BY \n",
            "    LastName ASC;\n",
            "\n",
            "2020-12-08 14:31:44,254 INFO sqlalchemy.engine.base.Engine ()\n"
          ],
          "name": "stdout"
        },
        {
          "output_type": "execute_result",
          "data": {
            "text/html": [
              "<div>\n",
              "<style scoped>\n",
              "    .dataframe tbody tr th:only-of-type {\n",
              "        vertical-align: middle;\n",
              "    }\n",
              "\n",
              "    .dataframe tbody tr th {\n",
              "        vertical-align: top;\n",
              "    }\n",
              "\n",
              "    .dataframe thead th {\n",
              "        text-align: right;\n",
              "    }\n",
              "</style>\n",
              "<table border=\"1\" class=\"dataframe\">\n",
              "  <thead>\n",
              "    <tr style=\"text-align: right;\">\n",
              "      <th></th>\n",
              "      <th>CustomerId</th>\n",
              "      <th>FirstName</th>\n",
              "      <th>LastName</th>\n",
              "      <th>Company</th>\n",
              "      <th>Address</th>\n",
              "      <th>Phone</th>\n",
              "      <th>Email</th>\n",
              "    </tr>\n",
              "  </thead>\n",
              "  <tbody>\n",
              "    <tr>\n",
              "      <th>0</th>\n",
              "      <td>1</td>\n",
              "      <td>Moshe</td>\n",
              "      <td>Cohen</td>\n",
              "      <td>None</td>\n",
              "      <td>Alenbi 99, Tel Aviv</td>\n",
              "      <td>053-5556789</td>\n",
              "      <td>moshe@cohen.com</td>\n",
              "    </tr>\n",
              "    <tr>\n",
              "      <th>1</th>\n",
              "      <td>2</td>\n",
              "      <td>Lisa</td>\n",
              "      <td>Cohen</td>\n",
              "      <td>None</td>\n",
              "      <td>Alenbi 99, Tel Aviv</td>\n",
              "      <td>052-1234565</td>\n",
              "      <td>lisa@cohen.com</td>\n",
              "    </tr>\n",
              "    <tr>\n",
              "      <th>2</th>\n",
              "      <td>3</td>\n",
              "      <td>Nika</td>\n",
              "      <td>Rave</td>\n",
              "      <td>None</td>\n",
              "      <td>Green st, LA</td>\n",
              "      <td>330-1234565</td>\n",
              "      <td>Nika@rave.com</td>\n",
              "    </tr>\n",
              "  </tbody>\n",
              "</table>\n",
              "</div>"
            ],
            "text/plain": [
              "   CustomerId FirstName  ...        Phone            Email\n",
              "0           1     Moshe  ...  053-5556789  moshe@cohen.com\n",
              "1           2      Lisa  ...  052-1234565   lisa@cohen.com\n",
              "2           3      Nika  ...  330-1234565    Nika@rave.com\n",
              "\n",
              "[3 rows x 7 columns]"
            ]
          },
          "metadata": {
            "tags": []
          },
          "execution_count": 99
        }
      ]
    },
    {
      "cell_type": "code",
      "metadata": {
        "colab": {
          "base_uri": "https://localhost:8080/",
          "height": 1000
        },
        "id": "-UA9_QlHf0ne",
        "outputId": "483b7f03-373a-424f-a4d1-8324f44cdcc8"
      },
      "source": [
        "# Если хотим получить уникальные значения - ключевая команда DISTINCT\n",
        "df = pd.read_sql(\"\"\"\n",
        "SELECT \n",
        "    DISTINCT LastName\n",
        "FROM\n",
        "    customers\n",
        "ORDER BY \n",
        "    LastName;\n",
        "\"\"\", conn)\n",
        "\n",
        "df.head()"
      ],
      "execution_count": null,
      "outputs": [
        {
          "output_type": "stream",
          "text": [
            "2020-12-08 14:32:18,443 INFO sqlalchemy.engine.base.Engine PRAGMA main.table_info(\"\n",
            "SELECT \n",
            "    DISTINCT LastName\n",
            "FROM\n",
            "    customers\n",
            "ORDER BY \n",
            "    LastName;\n",
            "\")\n"
          ],
          "name": "stdout"
        },
        {
          "output_type": "stream",
          "text": [
            "INFO:sqlalchemy.engine.base.Engine:PRAGMA main.table_info(\"\n",
            "SELECT \n",
            "    DISTINCT LastName\n",
            "FROM\n",
            "    customers\n",
            "ORDER BY \n",
            "    LastName;\n",
            "\")\n"
          ],
          "name": "stderr"
        },
        {
          "output_type": "stream",
          "text": [
            "2020-12-08 14:32:18,453 INFO sqlalchemy.engine.base.Engine ()\n"
          ],
          "name": "stdout"
        },
        {
          "output_type": "stream",
          "text": [
            "INFO:sqlalchemy.engine.base.Engine:()\n"
          ],
          "name": "stderr"
        },
        {
          "output_type": "stream",
          "text": [
            "2020-12-08 14:32:18,455 INFO sqlalchemy.engine.base.Engine PRAGMA temp.table_info(\"\n",
            "SELECT \n",
            "    DISTINCT LastName\n",
            "FROM\n",
            "    customers\n",
            "ORDER BY \n",
            "    LastName;\n",
            "\")\n"
          ],
          "name": "stdout"
        },
        {
          "output_type": "stream",
          "text": [
            "INFO:sqlalchemy.engine.base.Engine:PRAGMA temp.table_info(\"\n",
            "SELECT \n",
            "    DISTINCT LastName\n",
            "FROM\n",
            "    customers\n",
            "ORDER BY \n",
            "    LastName;\n",
            "\")\n"
          ],
          "name": "stderr"
        },
        {
          "output_type": "stream",
          "text": [
            "2020-12-08 14:32:18,459 INFO sqlalchemy.engine.base.Engine ()\n"
          ],
          "name": "stdout"
        },
        {
          "output_type": "stream",
          "text": [
            "INFO:sqlalchemy.engine.base.Engine:()\n"
          ],
          "name": "stderr"
        },
        {
          "output_type": "stream",
          "text": [
            "2020-12-08 14:32:18,462 INFO sqlalchemy.engine.base.Engine \n",
            "SELECT \n",
            "    DISTINCT LastName\n",
            "FROM\n",
            "    customers\n",
            "ORDER BY \n",
            "    LastName;\n",
            "\n"
          ],
          "name": "stdout"
        },
        {
          "output_type": "stream",
          "text": [
            "INFO:sqlalchemy.engine.base.Engine:\n",
            "SELECT \n",
            "    DISTINCT LastName\n",
            "FROM\n",
            "    customers\n",
            "ORDER BY \n",
            "    LastName;\n",
            "\n"
          ],
          "name": "stderr"
        },
        {
          "output_type": "stream",
          "text": [
            "2020-12-08 14:32:18,464 INFO sqlalchemy.engine.base.Engine ()\n"
          ],
          "name": "stdout"
        },
        {
          "output_type": "stream",
          "text": [
            "INFO:sqlalchemy.engine.base.Engine:()\n"
          ],
          "name": "stderr"
        },
        {
          "output_type": "execute_result",
          "data": {
            "text/html": [
              "<div>\n",
              "<style scoped>\n",
              "    .dataframe tbody tr th:only-of-type {\n",
              "        vertical-align: middle;\n",
              "    }\n",
              "\n",
              "    .dataframe tbody tr th {\n",
              "        vertical-align: top;\n",
              "    }\n",
              "\n",
              "    .dataframe thead th {\n",
              "        text-align: right;\n",
              "    }\n",
              "</style>\n",
              "<table border=\"1\" class=\"dataframe\">\n",
              "  <thead>\n",
              "    <tr style=\"text-align: right;\">\n",
              "      <th></th>\n",
              "      <th>LastName</th>\n",
              "    </tr>\n",
              "  </thead>\n",
              "  <tbody>\n",
              "    <tr>\n",
              "      <th>0</th>\n",
              "      <td>Cohen</td>\n",
              "    </tr>\n",
              "    <tr>\n",
              "      <th>1</th>\n",
              "      <td>Rave</td>\n",
              "    </tr>\n",
              "  </tbody>\n",
              "</table>\n",
              "</div>"
            ],
            "text/plain": [
              "  LastName\n",
              "0    Cohen\n",
              "1     Rave"
            ]
          },
          "metadata": {
            "tags": []
          },
          "execution_count": 101
        }
      ]
    },
    {
      "cell_type": "markdown",
      "metadata": {
        "id": "mckZNlhL2NLq"
      },
      "source": [
        "# ДЗ\n",
        "\n",
        "- Решить первые 20 задач с сайта https://www.sql-ex.ru (Раздел SELECT(обучающий этап))\n",
        "- Дополнить таблицу 'items' и 'purchases' 5ью экземплярами на Ваш Выбор. Важно: они должны быть привязаны к существующим покупателям Lisa, Nika, Moshe.\n",
        "- При помощи запроса SQLAlchemy вывести все покупки Lisa. Вывести тоже самое при помощи Pandas."
      ]
    },
    {
      "cell_type": "code",
      "metadata": {
        "id": "iMahup_a18cN"
      },
      "source": [
        "import pandas as pd\n",
        "import datetime"
      ],
      "execution_count": 14,
      "outputs": []
    },
    {
      "cell_type": "code",
      "metadata": {
        "colab": {
          "base_uri": "https://localhost:8080/"
        },
        "id": "CfyvpHD0m_Vo",
        "outputId": "e1b1dab4-f685-4ef3-808e-556fbccea1fe"
      },
      "source": [
        "session.add_all([Item(Name = 'Drumsticks', Price = 10),\n",
        "                 Item(Name = 'Comicbook', Price = 5),\n",
        "                 Item(Name = 'Sandwich', Price = 8),\n",
        "                 Item(Name = 'Ferrari', Price = 300000),\n",
        "                 Item(Name = 'baseball', Price = 2)])\n",
        "session.commit()"
      ],
      "execution_count": 16,
      "outputs": [
        {
          "output_type": "stream",
          "text": [
            "2020-12-15 19:24:49,599 INFO sqlalchemy.engine.base.Engine BEGIN (implicit)\n",
            "2020-12-15 19:24:49,606 INFO sqlalchemy.engine.base.Engine INSERT INTO items (\"Name\", \"Price\") VALUES (?, ?)\n",
            "2020-12-15 19:24:49,608 INFO sqlalchemy.engine.base.Engine ('Drumsticks', 10.0)\n",
            "2020-12-15 19:24:49,610 INFO sqlalchemy.engine.base.Engine INSERT INTO items (\"Name\", \"Price\") VALUES (?, ?)\n",
            "2020-12-15 19:24:49,612 INFO sqlalchemy.engine.base.Engine ('Comicbook', 5.0)\n",
            "2020-12-15 19:24:49,615 INFO sqlalchemy.engine.base.Engine INSERT INTO items (\"Name\", \"Price\") VALUES (?, ?)\n",
            "2020-12-15 19:24:49,620 INFO sqlalchemy.engine.base.Engine ('Sandwich', 8.0)\n",
            "2020-12-15 19:24:49,622 INFO sqlalchemy.engine.base.Engine INSERT INTO items (\"Name\", \"Price\") VALUES (?, ?)\n",
            "2020-12-15 19:24:49,624 INFO sqlalchemy.engine.base.Engine ('Ferrari', 300000.0)\n",
            "2020-12-15 19:24:49,627 INFO sqlalchemy.engine.base.Engine INSERT INTO items (\"Name\", \"Price\") VALUES (?, ?)\n",
            "2020-12-15 19:24:49,629 INFO sqlalchemy.engine.base.Engine ('baseball', 2.0)\n",
            "2020-12-15 19:24:49,633 INFO sqlalchemy.engine.base.Engine COMMIT\n"
          ],
          "name": "stdout"
        }
      ]
    },
    {
      "cell_type": "code",
      "metadata": {
        "colab": {
          "base_uri": "https://localhost:8080/"
        },
        "id": "2ttJQMUjrM5L",
        "outputId": "ad26dcdf-f46c-47a6-ea0e-9cd6bbe88290"
      },
      "source": [
        "session.add_all([Purchase(ItemId = 1, CustomerId = 2, Date = datetime.date(2020, 1, 15)),\n",
        "                 Purchase(ItemId = 2, CustomerId = 2, Date = datetime.date(2018, 3, 18)),\n",
        "                 Purchase(ItemId = 3, CustomerId = 1, Date = datetime.date(2020, 12, 14)),\n",
        "                 Purchase(ItemId = 4, CustomerId = 3, Date = datetime.date(2006, 10, 22)),\n",
        "                 Purchase(ItemId = 5, CustomerId = 4, Date = datetime.date(2016, 11, 8))])\n",
        "session.commit()"
      ],
      "execution_count": 17,
      "outputs": [
        {
          "output_type": "stream",
          "text": [
            "2020-12-15 19:24:52,155 INFO sqlalchemy.engine.base.Engine BEGIN (implicit)\n",
            "2020-12-15 19:24:52,157 INFO sqlalchemy.engine.base.Engine INSERT INTO purchases (\"ItemId\", \"CustomerId\", \"Date\") VALUES (?, ?, ?)\n",
            "2020-12-15 19:24:52,159 INFO sqlalchemy.engine.base.Engine (1, 2, '2020-01-15 00:00:00.000000')\n",
            "2020-12-15 19:24:52,162 INFO sqlalchemy.engine.base.Engine INSERT INTO purchases (\"ItemId\", \"CustomerId\", \"Date\") VALUES (?, ?, ?)\n",
            "2020-12-15 19:24:52,163 INFO sqlalchemy.engine.base.Engine (2, 2, '2018-03-18 00:00:00.000000')\n",
            "2020-12-15 19:24:52,165 INFO sqlalchemy.engine.base.Engine INSERT INTO purchases (\"ItemId\", \"CustomerId\", \"Date\") VALUES (?, ?, ?)\n",
            "2020-12-15 19:24:52,165 INFO sqlalchemy.engine.base.Engine (3, 1, '2020-12-14 00:00:00.000000')\n",
            "2020-12-15 19:24:52,172 INFO sqlalchemy.engine.base.Engine INSERT INTO purchases (\"ItemId\", \"CustomerId\", \"Date\") VALUES (?, ?, ?)\n",
            "2020-12-15 19:24:52,173 INFO sqlalchemy.engine.base.Engine (4, 3, '2006-10-22 00:00:00.000000')\n",
            "2020-12-15 19:24:52,176 INFO sqlalchemy.engine.base.Engine INSERT INTO purchases (\"ItemId\", \"CustomerId\", \"Date\") VALUES (?, ?, ?)\n",
            "2020-12-15 19:24:52,178 INFO sqlalchemy.engine.base.Engine (5, 4, '2016-11-08 00:00:00.000000')\n",
            "2020-12-15 19:24:52,185 INFO sqlalchemy.engine.base.Engine COMMIT\n"
          ],
          "name": "stdout"
        }
      ]
    },
    {
      "cell_type": "code",
      "metadata": {
        "colab": {
          "base_uri": "https://localhost:8080/",
          "height": 554
        },
        "id": "UgIU8w1axli-",
        "outputId": "9bb6dd8c-6691-41a0-c947-7fac408ee243"
      },
      "source": [
        "Items_query = select([Item])\n",
        "Purchases_query = select([Purchase])\n",
        "display_results(Items_query)\n",
        "display_results(Purchases_query)"
      ],
      "execution_count": 18,
      "outputs": [
        {
          "output_type": "stream",
          "text": [
            "2020-12-15 19:24:59,901 INFO sqlalchemy.engine.base.OptionEngine SELECT items.\"ItemId\", items.\"Name\", items.\"Price\" \n",
            "FROM items\n",
            "2020-12-15 19:24:59,903 INFO sqlalchemy.engine.base.OptionEngine ()\n"
          ],
          "name": "stdout"
        },
        {
          "output_type": "stream",
          "text": [
            "/usr/local/lib/python3.6/dist-packages/sqlalchemy/sql/sqltypes.py:668: SAWarning: Dialect sqlite+pysqlite does *not* support Decimal objects natively, and SQLAlchemy must convert from floating point - rounding errors and other issues may occur. Please consider storing Decimal numbers as strings or integers on this platform for lossless storage.\n",
            "  \"storage.\" % (dialect.name, dialect.driver)\n"
          ],
          "name": "stderr"
        },
        {
          "output_type": "display_data",
          "data": {
            "text/html": [
              "<div>\n",
              "<style scoped>\n",
              "    .dataframe tbody tr th:only-of-type {\n",
              "        vertical-align: middle;\n",
              "    }\n",
              "\n",
              "    .dataframe tbody tr th {\n",
              "        vertical-align: top;\n",
              "    }\n",
              "\n",
              "    .dataframe thead th {\n",
              "        text-align: right;\n",
              "    }\n",
              "</style>\n",
              "<table border=\"1\" class=\"dataframe\">\n",
              "  <thead>\n",
              "    <tr style=\"text-align: right;\">\n",
              "      <th></th>\n",
              "      <th>ItemId</th>\n",
              "      <th>Name</th>\n",
              "      <th>Price</th>\n",
              "    </tr>\n",
              "  </thead>\n",
              "  <tbody>\n",
              "    <tr>\n",
              "      <th>0</th>\n",
              "      <td>1</td>\n",
              "      <td>Drumsticks</td>\n",
              "      <td>10.0</td>\n",
              "    </tr>\n",
              "    <tr>\n",
              "      <th>1</th>\n",
              "      <td>2</td>\n",
              "      <td>Comicbook</td>\n",
              "      <td>5.0</td>\n",
              "    </tr>\n",
              "    <tr>\n",
              "      <th>2</th>\n",
              "      <td>3</td>\n",
              "      <td>Sandwich</td>\n",
              "      <td>8.0</td>\n",
              "    </tr>\n",
              "    <tr>\n",
              "      <th>3</th>\n",
              "      <td>4</td>\n",
              "      <td>Ferrari</td>\n",
              "      <td>300000.0</td>\n",
              "    </tr>\n",
              "    <tr>\n",
              "      <th>4</th>\n",
              "      <td>5</td>\n",
              "      <td>baseball</td>\n",
              "      <td>2.0</td>\n",
              "    </tr>\n",
              "  </tbody>\n",
              "</table>\n",
              "</div>"
            ],
            "text/plain": [
              "   ItemId        Name     Price\n",
              "0       1  Drumsticks      10.0\n",
              "1       2   Comicbook       5.0\n",
              "2       3    Sandwich       8.0\n",
              "3       4     Ferrari  300000.0\n",
              "4       5    baseball       2.0"
            ]
          },
          "metadata": {
            "tags": []
          }
        },
        {
          "output_type": "stream",
          "text": [
            "2020-12-15 19:24:59,944 INFO sqlalchemy.engine.base.OptionEngine SELECT purchases.\"PurchaseId\", purchases.\"ItemId\", purchases.\"CustomerId\", purchases.\"Date\" \n",
            "FROM purchases\n",
            "2020-12-15 19:24:59,946 INFO sqlalchemy.engine.base.OptionEngine ()\n"
          ],
          "name": "stdout"
        },
        {
          "output_type": "display_data",
          "data": {
            "text/html": [
              "<div>\n",
              "<style scoped>\n",
              "    .dataframe tbody tr th:only-of-type {\n",
              "        vertical-align: middle;\n",
              "    }\n",
              "\n",
              "    .dataframe tbody tr th {\n",
              "        vertical-align: top;\n",
              "    }\n",
              "\n",
              "    .dataframe thead th {\n",
              "        text-align: right;\n",
              "    }\n",
              "</style>\n",
              "<table border=\"1\" class=\"dataframe\">\n",
              "  <thead>\n",
              "    <tr style=\"text-align: right;\">\n",
              "      <th></th>\n",
              "      <th>PurchaseId</th>\n",
              "      <th>ItemId</th>\n",
              "      <th>CustomerId</th>\n",
              "      <th>Date</th>\n",
              "    </tr>\n",
              "  </thead>\n",
              "  <tbody>\n",
              "    <tr>\n",
              "      <th>0</th>\n",
              "      <td>1</td>\n",
              "      <td>1</td>\n",
              "      <td>2</td>\n",
              "      <td>2020-01-15</td>\n",
              "    </tr>\n",
              "    <tr>\n",
              "      <th>1</th>\n",
              "      <td>2</td>\n",
              "      <td>2</td>\n",
              "      <td>2</td>\n",
              "      <td>2018-03-18</td>\n",
              "    </tr>\n",
              "    <tr>\n",
              "      <th>2</th>\n",
              "      <td>3</td>\n",
              "      <td>3</td>\n",
              "      <td>1</td>\n",
              "      <td>2020-12-14</td>\n",
              "    </tr>\n",
              "    <tr>\n",
              "      <th>3</th>\n",
              "      <td>4</td>\n",
              "      <td>4</td>\n",
              "      <td>3</td>\n",
              "      <td>2006-10-22</td>\n",
              "    </tr>\n",
              "    <tr>\n",
              "      <th>4</th>\n",
              "      <td>5</td>\n",
              "      <td>5</td>\n",
              "      <td>4</td>\n",
              "      <td>2016-11-08</td>\n",
              "    </tr>\n",
              "  </tbody>\n",
              "</table>\n",
              "</div>"
            ],
            "text/plain": [
              "   PurchaseId  ItemId  CustomerId       Date\n",
              "0           1       1           2 2020-01-15\n",
              "1           2       2           2 2018-03-18\n",
              "2           3       3           1 2020-12-14\n",
              "3           4       4           3 2006-10-22\n",
              "4           5       5           4 2016-11-08"
            ]
          },
          "metadata": {
            "tags": []
          }
        }
      ]
    },
    {
      "cell_type": "code",
      "metadata": {
        "colab": {
          "base_uri": "https://localhost:8080/",
          "height": 247
        },
        "id": "VjsqFwE5fVpG",
        "outputId": "4922943c-4106-406a-a120-20dd5f9c8e6a"
      },
      "source": [
        "customers_query = select([Customer])\n",
        "display_results(customers_query)"
      ],
      "execution_count": 19,
      "outputs": [
        {
          "output_type": "stream",
          "text": [
            "2020-12-15 19:25:16,192 INFO sqlalchemy.engine.base.OptionEngine SELECT customers.\"CustomerId\", customers.\"FirstName\", customers.\"LastName\", customers.\"Company\", customers.\"Address\", customers.\"Phone\", customers.\"Email\" \n",
            "FROM customers\n",
            "2020-12-15 19:25:16,193 INFO sqlalchemy.engine.base.OptionEngine ()\n"
          ],
          "name": "stdout"
        },
        {
          "output_type": "display_data",
          "data": {
            "text/html": [
              "<div>\n",
              "<style scoped>\n",
              "    .dataframe tbody tr th:only-of-type {\n",
              "        vertical-align: middle;\n",
              "    }\n",
              "\n",
              "    .dataframe tbody tr th {\n",
              "        vertical-align: top;\n",
              "    }\n",
              "\n",
              "    .dataframe thead th {\n",
              "        text-align: right;\n",
              "    }\n",
              "</style>\n",
              "<table border=\"1\" class=\"dataframe\">\n",
              "  <thead>\n",
              "    <tr style=\"text-align: right;\">\n",
              "      <th></th>\n",
              "      <th>CustomerId</th>\n",
              "      <th>FirstName</th>\n",
              "      <th>LastName</th>\n",
              "      <th>Company</th>\n",
              "      <th>Address</th>\n",
              "      <th>Phone</th>\n",
              "      <th>Email</th>\n",
              "    </tr>\n",
              "  </thead>\n",
              "  <tbody>\n",
              "    <tr>\n",
              "      <th>0</th>\n",
              "      <td>1</td>\n",
              "      <td>Moshe</td>\n",
              "      <td>Cohen</td>\n",
              "      <td>None</td>\n",
              "      <td>Alenbi 99, Tel Aviv</td>\n",
              "      <td>053-5556789</td>\n",
              "      <td>moshe@cohen.com</td>\n",
              "    </tr>\n",
              "    <tr>\n",
              "      <th>1</th>\n",
              "      <td>2</td>\n",
              "      <td>Lisa</td>\n",
              "      <td>Cohen</td>\n",
              "      <td>None</td>\n",
              "      <td>Alenbi 66, Tel Aviv</td>\n",
              "      <td>062-1234565</td>\n",
              "      <td>lisa@cohen.com</td>\n",
              "    </tr>\n",
              "    <tr>\n",
              "      <th>2</th>\n",
              "      <td>3</td>\n",
              "      <td>Nika</td>\n",
              "      <td>Rave</td>\n",
              "      <td>None</td>\n",
              "      <td>Green st, LA</td>\n",
              "      <td>330-1234565</td>\n",
              "      <td>Nika@rave.com</td>\n",
              "    </tr>\n",
              "    <tr>\n",
              "      <th>3</th>\n",
              "      <td>4</td>\n",
              "      <td>Lisa</td>\n",
              "      <td>White</td>\n",
              "      <td>None</td>\n",
              "      <td>Alenbi 66, Tel Aviv</td>\n",
              "      <td>099-1234565</td>\n",
              "      <td>lisa@white.com</td>\n",
              "    </tr>\n",
              "  </tbody>\n",
              "</table>\n",
              "</div>"
            ],
            "text/plain": [
              "   CustomerId FirstName  ...        Phone            Email\n",
              "0           1     Moshe  ...  053-5556789  moshe@cohen.com\n",
              "1           2      Lisa  ...  062-1234565   lisa@cohen.com\n",
              "2           3      Nika  ...  330-1234565    Nika@rave.com\n",
              "3           4      Lisa  ...  099-1234565   lisa@white.com\n",
              "\n",
              "[4 rows x 7 columns]"
            ]
          },
          "metadata": {
            "tags": []
          }
        }
      ]
    },
    {
      "cell_type": "markdown",
      "metadata": {
        "id": "fykV6I7tkAPK"
      },
      "source": [
        "\n",
        "<center><img src='https://github.com/ddvika/Data-Science-School-2020/blob/main/lecture_5/imgs/i-know-sql.jpg?raw=true'></center>"
      ]
    },
    {
      "cell_type": "code",
      "metadata": {
        "colab": {
          "base_uri": "https://localhost:8080/",
          "height": 602
        },
        "id": "-PXZ0TOBznEm",
        "outputId": "ab98bf59-555b-4c31-d2ca-918424ff38c9"
      },
      "source": [
        "Task3_pd_query = pd.read_sql('''SELECT * FROM items\n",
        "                                WHERE ItemId = (SELECT ItemId FROM Purchases\n",
        "                                                JOIN Customers ON Customers.CustomerId = Purchases.CustomerId\n",
        "                                                WHERE Customers.FirstName = 'Lisa' AND Customers.LastName = 'Cohen')''', conn)\n",
        "Task3_pd_query"
      ],
      "execution_count": 31,
      "outputs": [
        {
          "output_type": "stream",
          "text": [
            "2020-12-15 19:53:24,738 INFO sqlalchemy.engine.base.Engine PRAGMA main.table_info(\"SELECT * FROM items\n",
            "                                WHERE ItemId = (SELECT ItemId FROM Purchases\n",
            "                                                JOIN Customers ON Customers.CustomerId = Purchases.CustomerId\n",
            "                                                WHERE Customers.FirstName = 'Lisa' AND Customers.LastName = 'Cohen')\")\n"
          ],
          "name": "stdout"
        },
        {
          "output_type": "stream",
          "text": [
            "INFO:sqlalchemy.engine.base.Engine:PRAGMA main.table_info(\"SELECT * FROM items\n",
            "                                WHERE ItemId = (SELECT ItemId FROM Purchases\n",
            "                                                JOIN Customers ON Customers.CustomerId = Purchases.CustomerId\n",
            "                                                WHERE Customers.FirstName = 'Lisa' AND Customers.LastName = 'Cohen')\")\n"
          ],
          "name": "stderr"
        },
        {
          "output_type": "stream",
          "text": [
            "2020-12-15 19:53:24,741 INFO sqlalchemy.engine.base.Engine ()\n"
          ],
          "name": "stdout"
        },
        {
          "output_type": "stream",
          "text": [
            "INFO:sqlalchemy.engine.base.Engine:()\n"
          ],
          "name": "stderr"
        },
        {
          "output_type": "stream",
          "text": [
            "2020-12-15 19:53:24,745 INFO sqlalchemy.engine.base.Engine PRAGMA temp.table_info(\"SELECT * FROM items\n",
            "                                WHERE ItemId = (SELECT ItemId FROM Purchases\n",
            "                                                JOIN Customers ON Customers.CustomerId = Purchases.CustomerId\n",
            "                                                WHERE Customers.FirstName = 'Lisa' AND Customers.LastName = 'Cohen')\")\n"
          ],
          "name": "stdout"
        },
        {
          "output_type": "stream",
          "text": [
            "INFO:sqlalchemy.engine.base.Engine:PRAGMA temp.table_info(\"SELECT * FROM items\n",
            "                                WHERE ItemId = (SELECT ItemId FROM Purchases\n",
            "                                                JOIN Customers ON Customers.CustomerId = Purchases.CustomerId\n",
            "                                                WHERE Customers.FirstName = 'Lisa' AND Customers.LastName = 'Cohen')\")\n"
          ],
          "name": "stderr"
        },
        {
          "output_type": "stream",
          "text": [
            "2020-12-15 19:53:24,747 INFO sqlalchemy.engine.base.Engine ()\n"
          ],
          "name": "stdout"
        },
        {
          "output_type": "stream",
          "text": [
            "INFO:sqlalchemy.engine.base.Engine:()\n"
          ],
          "name": "stderr"
        },
        {
          "output_type": "stream",
          "text": [
            "2020-12-15 19:53:24,750 INFO sqlalchemy.engine.base.Engine SELECT * FROM items\n",
            "                                WHERE ItemId = (SELECT ItemId FROM Purchases\n",
            "                                                JOIN Customers ON Customers.CustomerId = Purchases.CustomerId\n",
            "                                                WHERE Customers.FirstName = 'Lisa' AND Customers.LastName = 'Cohen')\n"
          ],
          "name": "stdout"
        },
        {
          "output_type": "stream",
          "text": [
            "INFO:sqlalchemy.engine.base.Engine:SELECT * FROM items\n",
            "                                WHERE ItemId = (SELECT ItemId FROM Purchases\n",
            "                                                JOIN Customers ON Customers.CustomerId = Purchases.CustomerId\n",
            "                                                WHERE Customers.FirstName = 'Lisa' AND Customers.LastName = 'Cohen')\n"
          ],
          "name": "stderr"
        },
        {
          "output_type": "stream",
          "text": [
            "2020-12-15 19:53:24,752 INFO sqlalchemy.engine.base.Engine ()\n"
          ],
          "name": "stdout"
        },
        {
          "output_type": "stream",
          "text": [
            "INFO:sqlalchemy.engine.base.Engine:()\n"
          ],
          "name": "stderr"
        },
        {
          "output_type": "execute_result",
          "data": {
            "text/html": [
              "<div>\n",
              "<style scoped>\n",
              "    .dataframe tbody tr th:only-of-type {\n",
              "        vertical-align: middle;\n",
              "    }\n",
              "\n",
              "    .dataframe tbody tr th {\n",
              "        vertical-align: top;\n",
              "    }\n",
              "\n",
              "    .dataframe thead th {\n",
              "        text-align: right;\n",
              "    }\n",
              "</style>\n",
              "<table border=\"1\" class=\"dataframe\">\n",
              "  <thead>\n",
              "    <tr style=\"text-align: right;\">\n",
              "      <th></th>\n",
              "      <th>ItemId</th>\n",
              "      <th>Name</th>\n",
              "      <th>Price</th>\n",
              "    </tr>\n",
              "  </thead>\n",
              "  <tbody>\n",
              "    <tr>\n",
              "      <th>0</th>\n",
              "      <td>1</td>\n",
              "      <td>Drumsticks</td>\n",
              "      <td>10</td>\n",
              "    </tr>\n",
              "  </tbody>\n",
              "</table>\n",
              "</div>"
            ],
            "text/plain": [
              "   ItemId        Name  Price\n",
              "0       1  Drumsticks     10"
            ]
          },
          "metadata": {
            "tags": []
          },
          "execution_count": 31
        }
      ]
    },
    {
      "cell_type": "code",
      "metadata": {
        "colab": {
          "base_uri": "https://localhost:8080/",
          "height": 289
        },
        "id": "T_KG54FV1sSq",
        "outputId": "ee09431e-bcb1-4bb7-a3bf-83ccb0b151a5"
      },
      "source": [
        "sub_query = select([Purchase.ItemId]).where(Purchase.CustomerId == Customer.CustomerId)\n",
        "Task3_SQLAlchemy_Query = select([Item]).where(Item.ItemId == sub_query)\n",
        "display_results(Task3_SQLAlchemy_Query)"
      ],
      "execution_count": 36,
      "outputs": [
        {
          "output_type": "stream",
          "text": [
            "2020-12-15 20:16:12,581 INFO sqlalchemy.engine.base.OptionEngine SELECT items.\"ItemId\", items.\"Name\", items.\"Price\" \n",
            "FROM items \n",
            "WHERE items.\"ItemId\" = (SELECT purchases.\"ItemId\" \n",
            "FROM purchases, customers \n",
            "WHERE purchases.\"CustomerId\" = customers.\"CustomerId\")\n"
          ],
          "name": "stdout"
        },
        {
          "output_type": "stream",
          "text": [
            "INFO:sqlalchemy.engine.base.OptionEngine:SELECT items.\"ItemId\", items.\"Name\", items.\"Price\" \n",
            "FROM items \n",
            "WHERE items.\"ItemId\" = (SELECT purchases.\"ItemId\" \n",
            "FROM purchases, customers \n",
            "WHERE purchases.\"CustomerId\" = customers.\"CustomerId\")\n"
          ],
          "name": "stderr"
        },
        {
          "output_type": "stream",
          "text": [
            "2020-12-15 20:16:12,583 INFO sqlalchemy.engine.base.OptionEngine ()\n"
          ],
          "name": "stdout"
        },
        {
          "output_type": "stream",
          "text": [
            "INFO:sqlalchemy.engine.base.OptionEngine:()\n"
          ],
          "name": "stderr"
        },
        {
          "output_type": "display_data",
          "data": {
            "text/html": [
              "<div>\n",
              "<style scoped>\n",
              "    .dataframe tbody tr th:only-of-type {\n",
              "        vertical-align: middle;\n",
              "    }\n",
              "\n",
              "    .dataframe tbody tr th {\n",
              "        vertical-align: top;\n",
              "    }\n",
              "\n",
              "    .dataframe thead th {\n",
              "        text-align: right;\n",
              "    }\n",
              "</style>\n",
              "<table border=\"1\" class=\"dataframe\">\n",
              "  <thead>\n",
              "    <tr style=\"text-align: right;\">\n",
              "      <th></th>\n",
              "      <th>ItemId</th>\n",
              "      <th>Name</th>\n",
              "      <th>Price</th>\n",
              "    </tr>\n",
              "  </thead>\n",
              "  <tbody>\n",
              "    <tr>\n",
              "      <th>0</th>\n",
              "      <td>1</td>\n",
              "      <td>Drumsticks</td>\n",
              "      <td>10.0</td>\n",
              "    </tr>\n",
              "  </tbody>\n",
              "</table>\n",
              "</div>"
            ],
            "text/plain": [
              "   ItemId        Name  Price\n",
              "0       1  Drumsticks   10.0"
            ]
          },
          "metadata": {
            "tags": []
          }
        }
      ]
    }
  ]
}
