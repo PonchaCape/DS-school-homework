{
  "nbformat": 4,
  "nbformat_minor": 0,
  "metadata": {
    "colab": {
      "name": "Большое ДЗ 2_исправленный.ipynb",
      "provenance": [],
      "collapsed_sections": [],
      "toc_visible": true
    },
    "kernelspec": {
      "name": "python3",
      "display_name": "Python 3"
    }
  },
  "cells": [
    {
      "cell_type": "markdown",
      "metadata": {
        "id": "aWs-Nr1B84zY"
      },
      "source": [
        "В данном ноутбуке в качестве домашнего задания я буду решать задачу классификации, данные по которой представлены на сайте Kaggle по ссылке https://www.kaggle.com/sid321axn/thoraric-surgery\n",
        "\n",
        "В этой задаче необходимо определить, какой диагноз будет поставлен пациенту. Всего в наборе данных 8 классов - то есть 8 возможных диагнозов. Полное описание датасета можно найти на сайте по вышеуказанной ссылке."
      ]
    },
    {
      "cell_type": "markdown",
      "metadata": {
        "id": "ptQ2oOlWAVAO"
      },
      "source": [
        "##Подключение библиотек"
      ]
    },
    {
      "cell_type": "markdown",
      "metadata": {
        "id": "HfusfatwAfAc"
      },
      "source": [
        "Начнём с импорта необходимых для работы библиотек"
      ]
    },
    {
      "cell_type": "code",
      "metadata": {
        "id": "7TM_dJdiApPk"
      },
      "source": [
        "import numpy as np\n",
        "import pandas as pd\n",
        "import matplotlib.pyplot as plt\n",
        "import seaborn as sns\n",
        "import sklearn"
      ],
      "execution_count": 1,
      "outputs": []
    },
    {
      "cell_type": "markdown",
      "metadata": {
        "id": "RnYNZkSEAGG2"
      },
      "source": [
        "##Загрузка данных"
      ]
    },
    {
      "cell_type": "markdown",
      "metadata": {
        "id": "6ZdbiezkANOV"
      },
      "source": [
        "Загружаем наш датасет. Я поместил его в репозиторий Github, и использую pandas для чтения файла по ссылке"
      ]
    },
    {
      "cell_type": "code",
      "metadata": {
        "id": "IGBd6qnDAE8A"
      },
      "source": [
        "Raw_dataset = pd.read_csv(\"https://github.com/PonchaCape/DS-school-homework/raw/main/Big%20HW%202/ThoraricSurgery.csv\")"
      ],
      "execution_count": 2,
      "outputs": []
    },
    {
      "cell_type": "markdown",
      "metadata": {
        "id": "QvFYVvZ1Lwc9"
      },
      "source": [
        "Вывожу таблицу, взглянем на данные."
      ]
    },
    {
      "cell_type": "code",
      "metadata": {
        "colab": {
          "base_uri": "https://localhost:8080/",
          "height": 206
        },
        "id": "bAZjLS6-LMmM",
        "outputId": "4aa08fd2-c45b-4edc-a434-9235fd613cfc"
      },
      "source": [
        "Raw_dataset.head()\n"
      ],
      "execution_count": 3,
      "outputs": [
        {
          "output_type": "execute_result",
          "data": {
            "text/html": [
              "<div>\n",
              "<style scoped>\n",
              "    .dataframe tbody tr th:only-of-type {\n",
              "        vertical-align: middle;\n",
              "    }\n",
              "\n",
              "    .dataframe tbody tr th {\n",
              "        vertical-align: top;\n",
              "    }\n",
              "\n",
              "    .dataframe thead th {\n",
              "        text-align: right;\n",
              "    }\n",
              "</style>\n",
              "<table border=\"1\" class=\"dataframe\">\n",
              "  <thead>\n",
              "    <tr style=\"text-align: right;\">\n",
              "      <th></th>\n",
              "      <th>id</th>\n",
              "      <th>DGN</th>\n",
              "      <th>PRE4</th>\n",
              "      <th>PRE5</th>\n",
              "      <th>PRE6</th>\n",
              "      <th>PRE7</th>\n",
              "      <th>PRE8</th>\n",
              "      <th>PRE9</th>\n",
              "      <th>PRE10</th>\n",
              "      <th>PRE11</th>\n",
              "      <th>PRE14</th>\n",
              "      <th>PRE17</th>\n",
              "      <th>PRE19</th>\n",
              "      <th>PRE25</th>\n",
              "      <th>PRE30</th>\n",
              "      <th>PRE32</th>\n",
              "      <th>AGE</th>\n",
              "      <th>Risk1Yr</th>\n",
              "    </tr>\n",
              "  </thead>\n",
              "  <tbody>\n",
              "    <tr>\n",
              "      <th>0</th>\n",
              "      <td>1</td>\n",
              "      <td>DGN2</td>\n",
              "      <td>2.88</td>\n",
              "      <td>2.16</td>\n",
              "      <td>PRZ1</td>\n",
              "      <td>F</td>\n",
              "      <td>F</td>\n",
              "      <td>F</td>\n",
              "      <td>T</td>\n",
              "      <td>T</td>\n",
              "      <td>OC14</td>\n",
              "      <td>F</td>\n",
              "      <td>F</td>\n",
              "      <td>F</td>\n",
              "      <td>T</td>\n",
              "      <td>F</td>\n",
              "      <td>60</td>\n",
              "      <td>F</td>\n",
              "    </tr>\n",
              "    <tr>\n",
              "      <th>1</th>\n",
              "      <td>2</td>\n",
              "      <td>DGN3</td>\n",
              "      <td>3.40</td>\n",
              "      <td>1.88</td>\n",
              "      <td>PRZ0</td>\n",
              "      <td>F</td>\n",
              "      <td>F</td>\n",
              "      <td>F</td>\n",
              "      <td>F</td>\n",
              "      <td>F</td>\n",
              "      <td>OC12</td>\n",
              "      <td>F</td>\n",
              "      <td>F</td>\n",
              "      <td>F</td>\n",
              "      <td>T</td>\n",
              "      <td>F</td>\n",
              "      <td>51</td>\n",
              "      <td>F</td>\n",
              "    </tr>\n",
              "    <tr>\n",
              "      <th>2</th>\n",
              "      <td>3</td>\n",
              "      <td>DGN3</td>\n",
              "      <td>2.76</td>\n",
              "      <td>2.08</td>\n",
              "      <td>PRZ1</td>\n",
              "      <td>F</td>\n",
              "      <td>F</td>\n",
              "      <td>F</td>\n",
              "      <td>T</td>\n",
              "      <td>F</td>\n",
              "      <td>OC11</td>\n",
              "      <td>F</td>\n",
              "      <td>F</td>\n",
              "      <td>F</td>\n",
              "      <td>T</td>\n",
              "      <td>F</td>\n",
              "      <td>59</td>\n",
              "      <td>F</td>\n",
              "    </tr>\n",
              "    <tr>\n",
              "      <th>3</th>\n",
              "      <td>4</td>\n",
              "      <td>DGN3</td>\n",
              "      <td>3.68</td>\n",
              "      <td>3.04</td>\n",
              "      <td>PRZ0</td>\n",
              "      <td>F</td>\n",
              "      <td>F</td>\n",
              "      <td>F</td>\n",
              "      <td>F</td>\n",
              "      <td>F</td>\n",
              "      <td>OC11</td>\n",
              "      <td>F</td>\n",
              "      <td>F</td>\n",
              "      <td>F</td>\n",
              "      <td>F</td>\n",
              "      <td>F</td>\n",
              "      <td>54</td>\n",
              "      <td>F</td>\n",
              "    </tr>\n",
              "    <tr>\n",
              "      <th>4</th>\n",
              "      <td>5</td>\n",
              "      <td>DGN3</td>\n",
              "      <td>2.44</td>\n",
              "      <td>0.96</td>\n",
              "      <td>PRZ2</td>\n",
              "      <td>F</td>\n",
              "      <td>T</td>\n",
              "      <td>F</td>\n",
              "      <td>T</td>\n",
              "      <td>T</td>\n",
              "      <td>OC11</td>\n",
              "      <td>F</td>\n",
              "      <td>F</td>\n",
              "      <td>F</td>\n",
              "      <td>T</td>\n",
              "      <td>F</td>\n",
              "      <td>73</td>\n",
              "      <td>T</td>\n",
              "    </tr>\n",
              "  </tbody>\n",
              "</table>\n",
              "</div>"
            ],
            "text/plain": [
              "   id   DGN  PRE4  PRE5  PRE6 PRE7  ... PRE19 PRE25 PRE30 PRE32 AGE Risk1Yr\n",
              "0   1  DGN2  2.88  2.16  PRZ1    F  ...     F     F     T     F  60       F\n",
              "1   2  DGN3  3.40  1.88  PRZ0    F  ...     F     F     T     F  51       F\n",
              "2   3  DGN3  2.76  2.08  PRZ1    F  ...     F     F     T     F  59       F\n",
              "3   4  DGN3  3.68  3.04  PRZ0    F  ...     F     F     F     F  54       F\n",
              "4   5  DGN3  2.44  0.96  PRZ2    F  ...     F     F     T     F  73       T\n",
              "\n",
              "[5 rows x 18 columns]"
            ]
          },
          "metadata": {
            "tags": []
          },
          "execution_count": 3
        }
      ]
    },
    {
      "cell_type": "markdown",
      "metadata": {
        "id": "A_6GMNzBRZqo"
      },
      "source": [
        "##Анализ и очистка данных"
      ]
    },
    {
      "cell_type": "markdown",
      "metadata": {
        "id": "CMOEQ8o_L7yO"
      },
      "source": [
        "Видим множество зашифрованных столбцов. По этим данным есть описание данных на английском языке.\n",
        "1. DGN: Diagnosis - specific combination of ICD-10 codes for primary and secondary as well multiple tumours if any (DGN3,DGN2,DGN4,DGN6,DGN5,DGN8,DGN1)\n",
        "2. PRE4: Forced vital capacity - FVC (numeric)\n",
        "3. PRE5: Volume that has been exhaled at the end of the first second of forced expiration - FEV1 (numeric)\n",
        "4. PRE6: Performance status - Zubrod scale (PRZ2,PRZ1,PRZ0)\n",
        "5. PRE7: Pain before surgery (T,F)\n",
        "6. PRE8: Haemoptysis before surgery (T,F)\n",
        "7. PRE9: Dyspnoea before surgery (T,F)\n",
        "8. PRE10: Cough before surgery (T,F)\n",
        "9. PRE11: Weakness before surgery (T,F)\n",
        "10. PRE14: T in clinical TNM - size of the original tumour, from OC11 (smallest) to OC14 (largest) (OC11,OC14,OC12,OC13)\n",
        "11. PRE17: Type 2 DM - diabetes mellitus (T,F)\n",
        "12. PRE19: MI up to 6 months (T,F)\n",
        "13. PRE25: PAD - peripheral arterial diseases (T,F)\n",
        "14. PRE30: Smoking (T,F)\n",
        "15. PRE32: Asthma (T,F)\n",
        "16. AGE: Age at surgery (numeric)\n",
        "17. Risk1Y: 1 year survival period - (T)rue value if died (T,F) "
      ]
    },
    {
      "cell_type": "markdown",
      "metadata": {
        "id": "NbioMrR5NMMw"
      },
      "source": [
        "Расшифруем названия столбцов для удобства анализа"
      ]
    },
    {
      "cell_type": "code",
      "metadata": {
        "colab": {
          "base_uri": "https://localhost:8080/",
          "height": 206
        },
        "id": "4iixeujbBgxi",
        "outputId": "5a12a994-c404-4c1a-b0a1-abad29fb0122"
      },
      "source": [
        "Raw_dataset.columns = ['id', \n",
        "                       'Diagnosis', \n",
        "                       'Forced_vital_capacity', \n",
        "                       'FEV1', \n",
        "                       'Performance_status', \n",
        "                       'Pain', \n",
        "                       'Haemoptysis',\n",
        "                       'Dyspnoea',\n",
        "                       'Cough',\n",
        "                       'Weakness',\n",
        "                       'Size_of_tumor',\n",
        "                       'diabetes_mellitus',\n",
        "                       'MI_to_6months',\n",
        "                       'PAD',\n",
        "                       'Smoking',\n",
        "                       'Asthma',\n",
        "                       'Age',\n",
        "                       'Risk1Y']\n",
        "Raw_dataset.head()"
      ],
      "execution_count": 4,
      "outputs": [
        {
          "output_type": "execute_result",
          "data": {
            "text/html": [
              "<div>\n",
              "<style scoped>\n",
              "    .dataframe tbody tr th:only-of-type {\n",
              "        vertical-align: middle;\n",
              "    }\n",
              "\n",
              "    .dataframe tbody tr th {\n",
              "        vertical-align: top;\n",
              "    }\n",
              "\n",
              "    .dataframe thead th {\n",
              "        text-align: right;\n",
              "    }\n",
              "</style>\n",
              "<table border=\"1\" class=\"dataframe\">\n",
              "  <thead>\n",
              "    <tr style=\"text-align: right;\">\n",
              "      <th></th>\n",
              "      <th>id</th>\n",
              "      <th>Diagnosis</th>\n",
              "      <th>Forced_vital_capacity</th>\n",
              "      <th>FEV1</th>\n",
              "      <th>Performance_status</th>\n",
              "      <th>Pain</th>\n",
              "      <th>Haemoptysis</th>\n",
              "      <th>Dyspnoea</th>\n",
              "      <th>Cough</th>\n",
              "      <th>Weakness</th>\n",
              "      <th>Size_of_tumor</th>\n",
              "      <th>diabetes_mellitus</th>\n",
              "      <th>MI_to_6months</th>\n",
              "      <th>PAD</th>\n",
              "      <th>Smoking</th>\n",
              "      <th>Asthma</th>\n",
              "      <th>Age</th>\n",
              "      <th>Risk1Y</th>\n",
              "    </tr>\n",
              "  </thead>\n",
              "  <tbody>\n",
              "    <tr>\n",
              "      <th>0</th>\n",
              "      <td>1</td>\n",
              "      <td>DGN2</td>\n",
              "      <td>2.88</td>\n",
              "      <td>2.16</td>\n",
              "      <td>PRZ1</td>\n",
              "      <td>F</td>\n",
              "      <td>F</td>\n",
              "      <td>F</td>\n",
              "      <td>T</td>\n",
              "      <td>T</td>\n",
              "      <td>OC14</td>\n",
              "      <td>F</td>\n",
              "      <td>F</td>\n",
              "      <td>F</td>\n",
              "      <td>T</td>\n",
              "      <td>F</td>\n",
              "      <td>60</td>\n",
              "      <td>F</td>\n",
              "    </tr>\n",
              "    <tr>\n",
              "      <th>1</th>\n",
              "      <td>2</td>\n",
              "      <td>DGN3</td>\n",
              "      <td>3.40</td>\n",
              "      <td>1.88</td>\n",
              "      <td>PRZ0</td>\n",
              "      <td>F</td>\n",
              "      <td>F</td>\n",
              "      <td>F</td>\n",
              "      <td>F</td>\n",
              "      <td>F</td>\n",
              "      <td>OC12</td>\n",
              "      <td>F</td>\n",
              "      <td>F</td>\n",
              "      <td>F</td>\n",
              "      <td>T</td>\n",
              "      <td>F</td>\n",
              "      <td>51</td>\n",
              "      <td>F</td>\n",
              "    </tr>\n",
              "    <tr>\n",
              "      <th>2</th>\n",
              "      <td>3</td>\n",
              "      <td>DGN3</td>\n",
              "      <td>2.76</td>\n",
              "      <td>2.08</td>\n",
              "      <td>PRZ1</td>\n",
              "      <td>F</td>\n",
              "      <td>F</td>\n",
              "      <td>F</td>\n",
              "      <td>T</td>\n",
              "      <td>F</td>\n",
              "      <td>OC11</td>\n",
              "      <td>F</td>\n",
              "      <td>F</td>\n",
              "      <td>F</td>\n",
              "      <td>T</td>\n",
              "      <td>F</td>\n",
              "      <td>59</td>\n",
              "      <td>F</td>\n",
              "    </tr>\n",
              "    <tr>\n",
              "      <th>3</th>\n",
              "      <td>4</td>\n",
              "      <td>DGN3</td>\n",
              "      <td>3.68</td>\n",
              "      <td>3.04</td>\n",
              "      <td>PRZ0</td>\n",
              "      <td>F</td>\n",
              "      <td>F</td>\n",
              "      <td>F</td>\n",
              "      <td>F</td>\n",
              "      <td>F</td>\n",
              "      <td>OC11</td>\n",
              "      <td>F</td>\n",
              "      <td>F</td>\n",
              "      <td>F</td>\n",
              "      <td>F</td>\n",
              "      <td>F</td>\n",
              "      <td>54</td>\n",
              "      <td>F</td>\n",
              "    </tr>\n",
              "    <tr>\n",
              "      <th>4</th>\n",
              "      <td>5</td>\n",
              "      <td>DGN3</td>\n",
              "      <td>2.44</td>\n",
              "      <td>0.96</td>\n",
              "      <td>PRZ2</td>\n",
              "      <td>F</td>\n",
              "      <td>T</td>\n",
              "      <td>F</td>\n",
              "      <td>T</td>\n",
              "      <td>T</td>\n",
              "      <td>OC11</td>\n",
              "      <td>F</td>\n",
              "      <td>F</td>\n",
              "      <td>F</td>\n",
              "      <td>T</td>\n",
              "      <td>F</td>\n",
              "      <td>73</td>\n",
              "      <td>T</td>\n",
              "    </tr>\n",
              "  </tbody>\n",
              "</table>\n",
              "</div>"
            ],
            "text/plain": [
              "   id Diagnosis  Forced_vital_capacity  FEV1  ... Smoking Asthma Age Risk1Y\n",
              "0   1      DGN2                   2.88  2.16  ...       T      F  60      F\n",
              "1   2      DGN3                   3.40  1.88  ...       T      F  51      F\n",
              "2   3      DGN3                   2.76  2.08  ...       T      F  59      F\n",
              "3   4      DGN3                   3.68  3.04  ...       F      F  54      F\n",
              "4   5      DGN3                   2.44  0.96  ...       T      F  73      T\n",
              "\n",
              "[5 rows x 18 columns]"
            ]
          },
          "metadata": {
            "tags": []
          },
          "execution_count": 4
        }
      ]
    },
    {
      "cell_type": "markdown",
      "metadata": {
        "id": "C3i4dgIgmZx0"
      },
      "source": [
        "Сразу же бросается в глаза, что большую часть данных составляют категориальные данные. В частности, все значения T,F (True,False) - столбцы, обозначающие был ли признак в названии столбца у пациента перед операцией или его не наблюдалось. Целевая переменная тоже содержит категориальные значения. Все значения T и F мы переведём в числовые - 1 и 0 соответственно."
      ]
    },
    {
      "cell_type": "code",
      "metadata": {
        "colab": {
          "base_uri": "https://localhost:8080/",
          "height": 206
        },
        "id": "GHkQqESw0Nsg",
        "outputId": "5208fdec-f71e-4f1c-c553-a4074819a0a8"
      },
      "source": [
        "Dataset = Raw_dataset.replace({'F':0, 'T':1})\n",
        "Dataset.head()"
      ],
      "execution_count": 5,
      "outputs": [
        {
          "output_type": "execute_result",
          "data": {
            "text/html": [
              "<div>\n",
              "<style scoped>\n",
              "    .dataframe tbody tr th:only-of-type {\n",
              "        vertical-align: middle;\n",
              "    }\n",
              "\n",
              "    .dataframe tbody tr th {\n",
              "        vertical-align: top;\n",
              "    }\n",
              "\n",
              "    .dataframe thead th {\n",
              "        text-align: right;\n",
              "    }\n",
              "</style>\n",
              "<table border=\"1\" class=\"dataframe\">\n",
              "  <thead>\n",
              "    <tr style=\"text-align: right;\">\n",
              "      <th></th>\n",
              "      <th>id</th>\n",
              "      <th>Diagnosis</th>\n",
              "      <th>Forced_vital_capacity</th>\n",
              "      <th>FEV1</th>\n",
              "      <th>Performance_status</th>\n",
              "      <th>Pain</th>\n",
              "      <th>Haemoptysis</th>\n",
              "      <th>Dyspnoea</th>\n",
              "      <th>Cough</th>\n",
              "      <th>Weakness</th>\n",
              "      <th>Size_of_tumor</th>\n",
              "      <th>diabetes_mellitus</th>\n",
              "      <th>MI_to_6months</th>\n",
              "      <th>PAD</th>\n",
              "      <th>Smoking</th>\n",
              "      <th>Asthma</th>\n",
              "      <th>Age</th>\n",
              "      <th>Risk1Y</th>\n",
              "    </tr>\n",
              "  </thead>\n",
              "  <tbody>\n",
              "    <tr>\n",
              "      <th>0</th>\n",
              "      <td>1</td>\n",
              "      <td>DGN2</td>\n",
              "      <td>2.88</td>\n",
              "      <td>2.16</td>\n",
              "      <td>PRZ1</td>\n",
              "      <td>0</td>\n",
              "      <td>0</td>\n",
              "      <td>0</td>\n",
              "      <td>1</td>\n",
              "      <td>1</td>\n",
              "      <td>OC14</td>\n",
              "      <td>0</td>\n",
              "      <td>0</td>\n",
              "      <td>0</td>\n",
              "      <td>1</td>\n",
              "      <td>0</td>\n",
              "      <td>60</td>\n",
              "      <td>0</td>\n",
              "    </tr>\n",
              "    <tr>\n",
              "      <th>1</th>\n",
              "      <td>2</td>\n",
              "      <td>DGN3</td>\n",
              "      <td>3.40</td>\n",
              "      <td>1.88</td>\n",
              "      <td>PRZ0</td>\n",
              "      <td>0</td>\n",
              "      <td>0</td>\n",
              "      <td>0</td>\n",
              "      <td>0</td>\n",
              "      <td>0</td>\n",
              "      <td>OC12</td>\n",
              "      <td>0</td>\n",
              "      <td>0</td>\n",
              "      <td>0</td>\n",
              "      <td>1</td>\n",
              "      <td>0</td>\n",
              "      <td>51</td>\n",
              "      <td>0</td>\n",
              "    </tr>\n",
              "    <tr>\n",
              "      <th>2</th>\n",
              "      <td>3</td>\n",
              "      <td>DGN3</td>\n",
              "      <td>2.76</td>\n",
              "      <td>2.08</td>\n",
              "      <td>PRZ1</td>\n",
              "      <td>0</td>\n",
              "      <td>0</td>\n",
              "      <td>0</td>\n",
              "      <td>1</td>\n",
              "      <td>0</td>\n",
              "      <td>OC11</td>\n",
              "      <td>0</td>\n",
              "      <td>0</td>\n",
              "      <td>0</td>\n",
              "      <td>1</td>\n",
              "      <td>0</td>\n",
              "      <td>59</td>\n",
              "      <td>0</td>\n",
              "    </tr>\n",
              "    <tr>\n",
              "      <th>3</th>\n",
              "      <td>4</td>\n",
              "      <td>DGN3</td>\n",
              "      <td>3.68</td>\n",
              "      <td>3.04</td>\n",
              "      <td>PRZ0</td>\n",
              "      <td>0</td>\n",
              "      <td>0</td>\n",
              "      <td>0</td>\n",
              "      <td>0</td>\n",
              "      <td>0</td>\n",
              "      <td>OC11</td>\n",
              "      <td>0</td>\n",
              "      <td>0</td>\n",
              "      <td>0</td>\n",
              "      <td>0</td>\n",
              "      <td>0</td>\n",
              "      <td>54</td>\n",
              "      <td>0</td>\n",
              "    </tr>\n",
              "    <tr>\n",
              "      <th>4</th>\n",
              "      <td>5</td>\n",
              "      <td>DGN3</td>\n",
              "      <td>2.44</td>\n",
              "      <td>0.96</td>\n",
              "      <td>PRZ2</td>\n",
              "      <td>0</td>\n",
              "      <td>1</td>\n",
              "      <td>0</td>\n",
              "      <td>1</td>\n",
              "      <td>1</td>\n",
              "      <td>OC11</td>\n",
              "      <td>0</td>\n",
              "      <td>0</td>\n",
              "      <td>0</td>\n",
              "      <td>1</td>\n",
              "      <td>0</td>\n",
              "      <td>73</td>\n",
              "      <td>1</td>\n",
              "    </tr>\n",
              "  </tbody>\n",
              "</table>\n",
              "</div>"
            ],
            "text/plain": [
              "   id Diagnosis  Forced_vital_capacity  FEV1  ... Smoking  Asthma  Age  Risk1Y\n",
              "0   1      DGN2                   2.88  2.16  ...       1       0   60       0\n",
              "1   2      DGN3                   3.40  1.88  ...       1       0   51       0\n",
              "2   3      DGN3                   2.76  2.08  ...       1       0   59       0\n",
              "3   4      DGN3                   3.68  3.04  ...       0       0   54       0\n",
              "4   5      DGN3                   2.44  0.96  ...       1       0   73       1\n",
              "\n",
              "[5 rows x 18 columns]"
            ]
          },
          "metadata": {
            "tags": []
          },
          "execution_count": 5
        }
      ]
    },
    {
      "cell_type": "markdown",
      "metadata": {
        "id": "Vhgwm4191hSR"
      },
      "source": [
        "Посмотрим теперь на статистику по датасету"
      ]
    },
    {
      "cell_type": "code",
      "metadata": {
        "colab": {
          "base_uri": "https://localhost:8080/",
          "height": 300
        },
        "id": "olO5-6Ze1uAX",
        "outputId": "090e0637-9b68-48f0-eb66-29b9a0a8a12f"
      },
      "source": [
        "Dataset.describe()"
      ],
      "execution_count": 6,
      "outputs": [
        {
          "output_type": "execute_result",
          "data": {
            "text/html": [
              "<div>\n",
              "<style scoped>\n",
              "    .dataframe tbody tr th:only-of-type {\n",
              "        vertical-align: middle;\n",
              "    }\n",
              "\n",
              "    .dataframe tbody tr th {\n",
              "        vertical-align: top;\n",
              "    }\n",
              "\n",
              "    .dataframe thead th {\n",
              "        text-align: right;\n",
              "    }\n",
              "</style>\n",
              "<table border=\"1\" class=\"dataframe\">\n",
              "  <thead>\n",
              "    <tr style=\"text-align: right;\">\n",
              "      <th></th>\n",
              "      <th>id</th>\n",
              "      <th>Forced_vital_capacity</th>\n",
              "      <th>FEV1</th>\n",
              "      <th>Pain</th>\n",
              "      <th>Haemoptysis</th>\n",
              "      <th>Dyspnoea</th>\n",
              "      <th>Cough</th>\n",
              "      <th>Weakness</th>\n",
              "      <th>diabetes_mellitus</th>\n",
              "      <th>MI_to_6months</th>\n",
              "      <th>PAD</th>\n",
              "      <th>Smoking</th>\n",
              "      <th>Asthma</th>\n",
              "      <th>Age</th>\n",
              "      <th>Risk1Y</th>\n",
              "    </tr>\n",
              "  </thead>\n",
              "  <tbody>\n",
              "    <tr>\n",
              "      <th>count</th>\n",
              "      <td>470.000000</td>\n",
              "      <td>470.000000</td>\n",
              "      <td>470.000000</td>\n",
              "      <td>470.000000</td>\n",
              "      <td>470.000000</td>\n",
              "      <td>470.000000</td>\n",
              "      <td>470.000000</td>\n",
              "      <td>470.000000</td>\n",
              "      <td>470.000000</td>\n",
              "      <td>470.000000</td>\n",
              "      <td>470.000000</td>\n",
              "      <td>470.000000</td>\n",
              "      <td>470.000000</td>\n",
              "      <td>470.000000</td>\n",
              "      <td>470.000000</td>\n",
              "    </tr>\n",
              "    <tr>\n",
              "      <th>mean</th>\n",
              "      <td>235.500000</td>\n",
              "      <td>3.281638</td>\n",
              "      <td>4.568702</td>\n",
              "      <td>0.065957</td>\n",
              "      <td>0.144681</td>\n",
              "      <td>0.065957</td>\n",
              "      <td>0.687234</td>\n",
              "      <td>0.165957</td>\n",
              "      <td>0.074468</td>\n",
              "      <td>0.004255</td>\n",
              "      <td>0.017021</td>\n",
              "      <td>0.821277</td>\n",
              "      <td>0.004255</td>\n",
              "      <td>62.534043</td>\n",
              "      <td>0.148936</td>\n",
              "    </tr>\n",
              "    <tr>\n",
              "      <th>std</th>\n",
              "      <td>135.821574</td>\n",
              "      <td>0.871395</td>\n",
              "      <td>11.767857</td>\n",
              "      <td>0.248472</td>\n",
              "      <td>0.352154</td>\n",
              "      <td>0.248472</td>\n",
              "      <td>0.464114</td>\n",
              "      <td>0.372439</td>\n",
              "      <td>0.262811</td>\n",
              "      <td>0.065163</td>\n",
              "      <td>0.129488</td>\n",
              "      <td>0.383529</td>\n",
              "      <td>0.065163</td>\n",
              "      <td>8.706902</td>\n",
              "      <td>0.356405</td>\n",
              "    </tr>\n",
              "    <tr>\n",
              "      <th>min</th>\n",
              "      <td>1.000000</td>\n",
              "      <td>1.440000</td>\n",
              "      <td>0.960000</td>\n",
              "      <td>0.000000</td>\n",
              "      <td>0.000000</td>\n",
              "      <td>0.000000</td>\n",
              "      <td>0.000000</td>\n",
              "      <td>0.000000</td>\n",
              "      <td>0.000000</td>\n",
              "      <td>0.000000</td>\n",
              "      <td>0.000000</td>\n",
              "      <td>0.000000</td>\n",
              "      <td>0.000000</td>\n",
              "      <td>21.000000</td>\n",
              "      <td>0.000000</td>\n",
              "    </tr>\n",
              "    <tr>\n",
              "      <th>25%</th>\n",
              "      <td>118.250000</td>\n",
              "      <td>2.600000</td>\n",
              "      <td>1.960000</td>\n",
              "      <td>0.000000</td>\n",
              "      <td>0.000000</td>\n",
              "      <td>0.000000</td>\n",
              "      <td>0.000000</td>\n",
              "      <td>0.000000</td>\n",
              "      <td>0.000000</td>\n",
              "      <td>0.000000</td>\n",
              "      <td>0.000000</td>\n",
              "      <td>1.000000</td>\n",
              "      <td>0.000000</td>\n",
              "      <td>57.000000</td>\n",
              "      <td>0.000000</td>\n",
              "    </tr>\n",
              "    <tr>\n",
              "      <th>50%</th>\n",
              "      <td>235.500000</td>\n",
              "      <td>3.160000</td>\n",
              "      <td>2.400000</td>\n",
              "      <td>0.000000</td>\n",
              "      <td>0.000000</td>\n",
              "      <td>0.000000</td>\n",
              "      <td>1.000000</td>\n",
              "      <td>0.000000</td>\n",
              "      <td>0.000000</td>\n",
              "      <td>0.000000</td>\n",
              "      <td>0.000000</td>\n",
              "      <td>1.000000</td>\n",
              "      <td>0.000000</td>\n",
              "      <td>62.000000</td>\n",
              "      <td>0.000000</td>\n",
              "    </tr>\n",
              "    <tr>\n",
              "      <th>75%</th>\n",
              "      <td>352.750000</td>\n",
              "      <td>3.807500</td>\n",
              "      <td>3.080000</td>\n",
              "      <td>0.000000</td>\n",
              "      <td>0.000000</td>\n",
              "      <td>0.000000</td>\n",
              "      <td>1.000000</td>\n",
              "      <td>0.000000</td>\n",
              "      <td>0.000000</td>\n",
              "      <td>0.000000</td>\n",
              "      <td>0.000000</td>\n",
              "      <td>1.000000</td>\n",
              "      <td>0.000000</td>\n",
              "      <td>69.000000</td>\n",
              "      <td>0.000000</td>\n",
              "    </tr>\n",
              "    <tr>\n",
              "      <th>max</th>\n",
              "      <td>470.000000</td>\n",
              "      <td>6.300000</td>\n",
              "      <td>86.300000</td>\n",
              "      <td>1.000000</td>\n",
              "      <td>1.000000</td>\n",
              "      <td>1.000000</td>\n",
              "      <td>1.000000</td>\n",
              "      <td>1.000000</td>\n",
              "      <td>1.000000</td>\n",
              "      <td>1.000000</td>\n",
              "      <td>1.000000</td>\n",
              "      <td>1.000000</td>\n",
              "      <td>1.000000</td>\n",
              "      <td>87.000000</td>\n",
              "      <td>1.000000</td>\n",
              "    </tr>\n",
              "  </tbody>\n",
              "</table>\n",
              "</div>"
            ],
            "text/plain": [
              "               id  Forced_vital_capacity  ...         Age      Risk1Y\n",
              "count  470.000000             470.000000  ...  470.000000  470.000000\n",
              "mean   235.500000               3.281638  ...   62.534043    0.148936\n",
              "std    135.821574               0.871395  ...    8.706902    0.356405\n",
              "min      1.000000               1.440000  ...   21.000000    0.000000\n",
              "25%    118.250000               2.600000  ...   57.000000    0.000000\n",
              "50%    235.500000               3.160000  ...   62.000000    0.000000\n",
              "75%    352.750000               3.807500  ...   69.000000    0.000000\n",
              "max    470.000000               6.300000  ...   87.000000    1.000000\n",
              "\n",
              "[8 rows x 15 columns]"
            ]
          },
          "metadata": {
            "tags": []
          },
          "execution_count": 6
        }
      ]
    },
    {
      "cell_type": "markdown",
      "metadata": {
        "id": "Pyu1u1qV4EV3"
      },
      "source": [
        "Несколько обобщений, которые даёт нам эта статистика:\n",
        "\n",
        "Разобраны данные по 470 пациентам, возраст которых варьируется от 21 до 87 лет, при этом подавляющая часть старше 50 лет. \n",
        "\n",
        "Пациентов с астмой незначительное количество, как и пациентов с заболеванием периферических артерий (PAD). Что касается риска смерти - менее 15% пациентов погибли в течении года после операции (Risk1Y).\n",
        "\n",
        "Достаточно высокий процент курящих пациентов. Приблизительно у 2/3 всех пациентов был кашель перед операцией (cough)."
      ]
    },
    {
      "cell_type": "markdown",
      "metadata": {
        "id": "Sdz4bgvt_TJX"
      },
      "source": [
        "Теперь взглянем на наличие пропусков в данных и на типы данных в столбцах."
      ]
    },
    {
      "cell_type": "code",
      "metadata": {
        "colab": {
          "base_uri": "https://localhost:8080/"
        },
        "id": "i1bUnWyu977O",
        "outputId": "34901ae6-6d4c-4ffa-86cd-b6632b61ae16"
      },
      "source": [
        "Dataset.info()"
      ],
      "execution_count": 7,
      "outputs": [
        {
          "output_type": "stream",
          "text": [
            "<class 'pandas.core.frame.DataFrame'>\n",
            "RangeIndex: 470 entries, 0 to 469\n",
            "Data columns (total 18 columns):\n",
            " #   Column                 Non-Null Count  Dtype  \n",
            "---  ------                 --------------  -----  \n",
            " 0   id                     470 non-null    int64  \n",
            " 1   Diagnosis              470 non-null    object \n",
            " 2   Forced_vital_capacity  470 non-null    float64\n",
            " 3   FEV1                   470 non-null    float64\n",
            " 4   Performance_status     470 non-null    object \n",
            " 5   Pain                   470 non-null    int64  \n",
            " 6   Haemoptysis            470 non-null    int64  \n",
            " 7   Dyspnoea               470 non-null    int64  \n",
            " 8   Cough                  470 non-null    int64  \n",
            " 9   Weakness               470 non-null    int64  \n",
            " 10  Size_of_tumor          470 non-null    object \n",
            " 11  diabetes_mellitus      470 non-null    int64  \n",
            " 12  MI_to_6months          470 non-null    int64  \n",
            " 13  PAD                    470 non-null    int64  \n",
            " 14  Smoking                470 non-null    int64  \n",
            " 15  Asthma                 470 non-null    int64  \n",
            " 16  Age                    470 non-null    int64  \n",
            " 17  Risk1Y                 470 non-null    int64  \n",
            "dtypes: float64(2), int64(13), object(3)\n",
            "memory usage: 66.2+ KB\n"
          ],
          "name": "stdout"
        }
      ]
    },
    {
      "cell_type": "markdown",
      "metadata": {
        "id": "YcIebF--_zL1"
      },
      "source": [
        "Пропусков нет. \n",
        "\n",
        "У нас осталось 3 столбца (Целевой столбец Diagnosis, Performance_status, Size_of_tumor) с категориальными данными. Мы преобразуем их в численные, используя метод библиотеки sklearn LabelEncoder.\n",
        "\n",
        "Столбец id содержит уникальные значения. Так как он очевидно бесполезен для обучения нашей модели, мы его удалим."
      ]
    },
    {
      "cell_type": "code",
      "metadata": {
        "id": "J54eZon0MWbb"
      },
      "source": [
        "Dataset = Dataset.drop(columns='id')"
      ],
      "execution_count": 8,
      "outputs": []
    },
    {
      "cell_type": "code",
      "metadata": {
        "colab": {
          "base_uri": "https://localhost:8080/",
          "height": 206
        },
        "id": "IodgEep0OE4X",
        "outputId": "c8173f6e-ca75-4c41-a826-cb2d0e57a90f"
      },
      "source": [
        "from sklearn.preprocessing import LabelEncoder\n",
        "for categorical_column in ['Diagnosis', 'Performance_status', 'Size_of_tumor']:\n",
        "  Dataset[categorical_column] = LabelEncoder().fit_transform(Dataset[categorical_column])\n",
        "Dataset.head()"
      ],
      "execution_count": 9,
      "outputs": [
        {
          "output_type": "execute_result",
          "data": {
            "text/html": [
              "<div>\n",
              "<style scoped>\n",
              "    .dataframe tbody tr th:only-of-type {\n",
              "        vertical-align: middle;\n",
              "    }\n",
              "\n",
              "    .dataframe tbody tr th {\n",
              "        vertical-align: top;\n",
              "    }\n",
              "\n",
              "    .dataframe thead th {\n",
              "        text-align: right;\n",
              "    }\n",
              "</style>\n",
              "<table border=\"1\" class=\"dataframe\">\n",
              "  <thead>\n",
              "    <tr style=\"text-align: right;\">\n",
              "      <th></th>\n",
              "      <th>Diagnosis</th>\n",
              "      <th>Forced_vital_capacity</th>\n",
              "      <th>FEV1</th>\n",
              "      <th>Performance_status</th>\n",
              "      <th>Pain</th>\n",
              "      <th>Haemoptysis</th>\n",
              "      <th>Dyspnoea</th>\n",
              "      <th>Cough</th>\n",
              "      <th>Weakness</th>\n",
              "      <th>Size_of_tumor</th>\n",
              "      <th>diabetes_mellitus</th>\n",
              "      <th>MI_to_6months</th>\n",
              "      <th>PAD</th>\n",
              "      <th>Smoking</th>\n",
              "      <th>Asthma</th>\n",
              "      <th>Age</th>\n",
              "      <th>Risk1Y</th>\n",
              "    </tr>\n",
              "  </thead>\n",
              "  <tbody>\n",
              "    <tr>\n",
              "      <th>0</th>\n",
              "      <td>1</td>\n",
              "      <td>2.88</td>\n",
              "      <td>2.16</td>\n",
              "      <td>1</td>\n",
              "      <td>0</td>\n",
              "      <td>0</td>\n",
              "      <td>0</td>\n",
              "      <td>1</td>\n",
              "      <td>1</td>\n",
              "      <td>3</td>\n",
              "      <td>0</td>\n",
              "      <td>0</td>\n",
              "      <td>0</td>\n",
              "      <td>1</td>\n",
              "      <td>0</td>\n",
              "      <td>60</td>\n",
              "      <td>0</td>\n",
              "    </tr>\n",
              "    <tr>\n",
              "      <th>1</th>\n",
              "      <td>2</td>\n",
              "      <td>3.40</td>\n",
              "      <td>1.88</td>\n",
              "      <td>0</td>\n",
              "      <td>0</td>\n",
              "      <td>0</td>\n",
              "      <td>0</td>\n",
              "      <td>0</td>\n",
              "      <td>0</td>\n",
              "      <td>1</td>\n",
              "      <td>0</td>\n",
              "      <td>0</td>\n",
              "      <td>0</td>\n",
              "      <td>1</td>\n",
              "      <td>0</td>\n",
              "      <td>51</td>\n",
              "      <td>0</td>\n",
              "    </tr>\n",
              "    <tr>\n",
              "      <th>2</th>\n",
              "      <td>2</td>\n",
              "      <td>2.76</td>\n",
              "      <td>2.08</td>\n",
              "      <td>1</td>\n",
              "      <td>0</td>\n",
              "      <td>0</td>\n",
              "      <td>0</td>\n",
              "      <td>1</td>\n",
              "      <td>0</td>\n",
              "      <td>0</td>\n",
              "      <td>0</td>\n",
              "      <td>0</td>\n",
              "      <td>0</td>\n",
              "      <td>1</td>\n",
              "      <td>0</td>\n",
              "      <td>59</td>\n",
              "      <td>0</td>\n",
              "    </tr>\n",
              "    <tr>\n",
              "      <th>3</th>\n",
              "      <td>2</td>\n",
              "      <td>3.68</td>\n",
              "      <td>3.04</td>\n",
              "      <td>0</td>\n",
              "      <td>0</td>\n",
              "      <td>0</td>\n",
              "      <td>0</td>\n",
              "      <td>0</td>\n",
              "      <td>0</td>\n",
              "      <td>0</td>\n",
              "      <td>0</td>\n",
              "      <td>0</td>\n",
              "      <td>0</td>\n",
              "      <td>0</td>\n",
              "      <td>0</td>\n",
              "      <td>54</td>\n",
              "      <td>0</td>\n",
              "    </tr>\n",
              "    <tr>\n",
              "      <th>4</th>\n",
              "      <td>2</td>\n",
              "      <td>2.44</td>\n",
              "      <td>0.96</td>\n",
              "      <td>2</td>\n",
              "      <td>0</td>\n",
              "      <td>1</td>\n",
              "      <td>0</td>\n",
              "      <td>1</td>\n",
              "      <td>1</td>\n",
              "      <td>0</td>\n",
              "      <td>0</td>\n",
              "      <td>0</td>\n",
              "      <td>0</td>\n",
              "      <td>1</td>\n",
              "      <td>0</td>\n",
              "      <td>73</td>\n",
              "      <td>1</td>\n",
              "    </tr>\n",
              "  </tbody>\n",
              "</table>\n",
              "</div>"
            ],
            "text/plain": [
              "   Diagnosis  Forced_vital_capacity  FEV1  ...  Asthma  Age  Risk1Y\n",
              "0          1                   2.88  2.16  ...       0   60       0\n",
              "1          2                   3.40  1.88  ...       0   51       0\n",
              "2          2                   2.76  2.08  ...       0   59       0\n",
              "3          2                   3.68  3.04  ...       0   54       0\n",
              "4          2                   2.44  0.96  ...       0   73       1\n",
              "\n",
              "[5 rows x 17 columns]"
            ]
          },
          "metadata": {
            "tags": []
          },
          "execution_count": 9
        }
      ]
    },
    {
      "cell_type": "markdown",
      "metadata": {
        "id": "pkp8bIAUVICN"
      },
      "source": [
        "Теперь датасет содержит только численные значения! Посмотрим на гистограммы распределения значений в столбцах."
      ]
    },
    {
      "cell_type": "code",
      "metadata": {
        "colab": {
          "base_uri": "https://localhost:8080/",
          "height": 879
        },
        "id": "2VM7f2u9G3Pi",
        "outputId": "ab47b742-1cee-4433-da2a-72813939e820"
      },
      "source": [
        "Dataset.hist(figsize= (25,15))\n",
        "plt.show()"
      ],
      "execution_count": 10,
      "outputs": [
        {
          "output_type": "display_data",
          "data": {
            "image/png": "[encoded data removed]",
            "text/plain": [
              "<Figure size 1800x1080 with 20 Axes>"
            ]
          },
          "metadata": {
            "tags": [],
            "needs_background": "light"
          }
        }
      ]
    },
    {
      "cell_type": "markdown",
      "metadata": {
        "id": "TanOxOknWlfS"
      },
      "source": [
        "Практически все значения плохо сбалансированы. Возможно, имеет смысл использовать oversamling и добавить в датасет значений меньших классов, так как помимо несбалансированности наш датасет отличается малым количеством наблюдений. Но перед тем, как изменить датасет, посмотрим, как с ним справится алгоритм в текущем состоянии. В следующей ячейке я проверю распределение целевых классов в цифрах."
      ]
    },
    {
      "cell_type": "code",
      "metadata": {
        "colab": {
          "base_uri": "https://localhost:8080/",
          "height": 453
        },
        "id": "xMtuO7j-IZ8f",
        "outputId": "29570376-65e8-447c-88f6-0913ff63708c"
      },
      "source": [
        "print(Dataset.Diagnosis.value_counts(), '\\n')\n",
        "sns.histplot(data = Dataset.Diagnosis)"
      ],
      "execution_count": 11,
      "outputs": [
        {
          "output_type": "stream",
          "text": [
            "2    349\n",
            "1     52\n",
            "3     47\n",
            "4     15\n",
            "5      4\n",
            "6      2\n",
            "0      1\n",
            "Name: Diagnosis, dtype: int64 \n",
            "\n"
          ],
          "name": "stdout"
        },
        {
          "output_type": "execute_result",
          "data": {
            "text/plain": [
              "<matplotlib.axes._subplots.AxesSubplot at 0x7f907877a550>"
            ]
          },
          "metadata": {
            "tags": []
          },
          "execution_count": 11
        },
        {
          "output_type": "display_data",
          "data": {
            "image/png": "[encoded data removed]",
            "text/plain": [
              "<Figure size 432x288 with 1 Axes>"
            ]
          },
          "metadata": {
            "tags": [],
            "needs_background": "light"
          }
        }
      ]
    },
    {
      "cell_type": "markdown",
      "metadata": {
        "id": "gj1fTi3JlS9M"
      },
      "source": [
        "С классами 0, 6 и 5 всё совсем плохо, их модель не сможет распознать.\n",
        "\n",
        "У класса 4 тоже очень мало наблюдений. \n",
        "\n",
        "Класс 2 содержит около 75% всех случаев.\n",
        "\n",
        "Классы 1 и 3 на порядок больше классов 4,5,6,0, и на порядок меньше класса 2.\n",
        "\n",
        "Далее я возьму срезы по минорным классам, чтобы визуально оценить, имеются ли у них какие-то особенности."
      ]
    },
    {
      "cell_type": "code",
      "metadata": {
        "colab": {
          "base_uri": "https://localhost:8080/",
          "height": 81
        },
        "id": "yKMV8MnkoCA6",
        "outputId": "aba6303c-ae73-4f7a-8dbe-8081b2f12c77"
      },
      "source": [
        "Dataset[Dataset.Diagnosis == 0]"
      ],
      "execution_count": 12,
      "outputs": [
        {
          "output_type": "execute_result",
          "data": {
            "text/html": [
              "<div>\n",
              "<style scoped>\n",
              "    .dataframe tbody tr th:only-of-type {\n",
              "        vertical-align: middle;\n",
              "    }\n",
              "\n",
              "    .dataframe tbody tr th {\n",
              "        vertical-align: top;\n",
              "    }\n",
              "\n",
              "    .dataframe thead th {\n",
              "        text-align: right;\n",
              "    }\n",
              "</style>\n",
              "<table border=\"1\" class=\"dataframe\">\n",
              "  <thead>\n",
              "    <tr style=\"text-align: right;\">\n",
              "      <th></th>\n",
              "      <th>Diagnosis</th>\n",
              "      <th>Forced_vital_capacity</th>\n",
              "      <th>FEV1</th>\n",
              "      <th>Performance_status</th>\n",
              "      <th>Pain</th>\n",
              "      <th>Haemoptysis</th>\n",
              "      <th>Dyspnoea</th>\n",
              "      <th>Cough</th>\n",
              "      <th>Weakness</th>\n",
              "      <th>Size_of_tumor</th>\n",
              "      <th>diabetes_mellitus</th>\n",
              "      <th>MI_to_6months</th>\n",
              "      <th>PAD</th>\n",
              "      <th>Smoking</th>\n",
              "      <th>Asthma</th>\n",
              "      <th>Age</th>\n",
              "      <th>Risk1Y</th>\n",
              "    </tr>\n",
              "  </thead>\n",
              "  <tbody>\n",
              "    <tr>\n",
              "      <th>292</th>\n",
              "      <td>0</td>\n",
              "      <td>3.8</td>\n",
              "      <td>2.8</td>\n",
              "      <td>0</td>\n",
              "      <td>0</td>\n",
              "      <td>0</td>\n",
              "      <td>0</td>\n",
              "      <td>0</td>\n",
              "      <td>0</td>\n",
              "      <td>1</td>\n",
              "      <td>0</td>\n",
              "      <td>0</td>\n",
              "      <td>0</td>\n",
              "      <td>1</td>\n",
              "      <td>0</td>\n",
              "      <td>62</td>\n",
              "      <td>0</td>\n",
              "    </tr>\n",
              "  </tbody>\n",
              "</table>\n",
              "</div>"
            ],
            "text/plain": [
              "     Diagnosis  Forced_vital_capacity  FEV1  ...  Asthma  Age  Risk1Y\n",
              "292          0                    3.8   2.8  ...       0   62       0\n",
              "\n",
              "[1 rows x 17 columns]"
            ]
          },
          "metadata": {
            "tags": []
          },
          "execution_count": 12
        }
      ]
    },
    {
      "cell_type": "code",
      "metadata": {
        "id": "42KzeSISqLbD",
        "colab": {
          "base_uri": "https://localhost:8080/",
          "height": 520
        },
        "outputId": "f9ed5ffd-293f-43f8-d136-0bc381565c4a"
      },
      "source": [
        "Dataset[Dataset.Diagnosis == 4]"
      ],
      "execution_count": 13,
      "outputs": [
        {
          "output_type": "execute_result",
          "data": {
            "text/html": [
              "<div>\n",
              "<style scoped>\n",
              "    .dataframe tbody tr th:only-of-type {\n",
              "        vertical-align: middle;\n",
              "    }\n",
              "\n",
              "    .dataframe tbody tr th {\n",
              "        vertical-align: top;\n",
              "    }\n",
              "\n",
              "    .dataframe thead th {\n",
              "        text-align: right;\n",
              "    }\n",
              "</style>\n",
              "<table border=\"1\" class=\"dataframe\">\n",
              "  <thead>\n",
              "    <tr style=\"text-align: right;\">\n",
              "      <th></th>\n",
              "      <th>Diagnosis</th>\n",
              "      <th>Forced_vital_capacity</th>\n",
              "      <th>FEV1</th>\n",
              "      <th>Performance_status</th>\n",
              "      <th>Pain</th>\n",
              "      <th>Haemoptysis</th>\n",
              "      <th>Dyspnoea</th>\n",
              "      <th>Cough</th>\n",
              "      <th>Weakness</th>\n",
              "      <th>Size_of_tumor</th>\n",
              "      <th>diabetes_mellitus</th>\n",
              "      <th>MI_to_6months</th>\n",
              "      <th>PAD</th>\n",
              "      <th>Smoking</th>\n",
              "      <th>Asthma</th>\n",
              "      <th>Age</th>\n",
              "      <th>Risk1Y</th>\n",
              "    </tr>\n",
              "  </thead>\n",
              "  <tbody>\n",
              "    <tr>\n",
              "      <th>25</th>\n",
              "      <td>4</td>\n",
              "      <td>4.56</td>\n",
              "      <td>72.80</td>\n",
              "      <td>0</td>\n",
              "      <td>1</td>\n",
              "      <td>1</td>\n",
              "      <td>0</td>\n",
              "      <td>1</td>\n",
              "      <td>0</td>\n",
              "      <td>1</td>\n",
              "      <td>0</td>\n",
              "      <td>0</td>\n",
              "      <td>0</td>\n",
              "      <td>1</td>\n",
              "      <td>0</td>\n",
              "      <td>57</td>\n",
              "      <td>0</td>\n",
              "    </tr>\n",
              "    <tr>\n",
              "      <th>32</th>\n",
              "      <td>4</td>\n",
              "      <td>2.48</td>\n",
              "      <td>1.95</td>\n",
              "      <td>1</td>\n",
              "      <td>1</td>\n",
              "      <td>0</td>\n",
              "      <td>0</td>\n",
              "      <td>0</td>\n",
              "      <td>0</td>\n",
              "      <td>1</td>\n",
              "      <td>1</td>\n",
              "      <td>0</td>\n",
              "      <td>0</td>\n",
              "      <td>0</td>\n",
              "      <td>0</td>\n",
              "      <td>72</td>\n",
              "      <td>0</td>\n",
              "    </tr>\n",
              "    <tr>\n",
              "      <th>40</th>\n",
              "      <td>4</td>\n",
              "      <td>3.80</td>\n",
              "      <td>2.98</td>\n",
              "      <td>1</td>\n",
              "      <td>0</td>\n",
              "      <td>0</td>\n",
              "      <td>0</td>\n",
              "      <td>1</td>\n",
              "      <td>0</td>\n",
              "      <td>0</td>\n",
              "      <td>0</td>\n",
              "      <td>0</td>\n",
              "      <td>0</td>\n",
              "      <td>1</td>\n",
              "      <td>0</td>\n",
              "      <td>60</td>\n",
              "      <td>1</td>\n",
              "    </tr>\n",
              "    <tr>\n",
              "      <th>43</th>\n",
              "      <td>4</td>\n",
              "      <td>2.68</td>\n",
              "      <td>2.12</td>\n",
              "      <td>0</td>\n",
              "      <td>0</td>\n",
              "      <td>0</td>\n",
              "      <td>0</td>\n",
              "      <td>1</td>\n",
              "      <td>0</td>\n",
              "      <td>1</td>\n",
              "      <td>0</td>\n",
              "      <td>0</td>\n",
              "      <td>0</td>\n",
              "      <td>1</td>\n",
              "      <td>0</td>\n",
              "      <td>51</td>\n",
              "      <td>1</td>\n",
              "    </tr>\n",
              "    <tr>\n",
              "      <th>88</th>\n",
              "      <td>4</td>\n",
              "      <td>2.68</td>\n",
              "      <td>1.76</td>\n",
              "      <td>2</td>\n",
              "      <td>0</td>\n",
              "      <td>1</td>\n",
              "      <td>0</td>\n",
              "      <td>1</td>\n",
              "      <td>1</td>\n",
              "      <td>0</td>\n",
              "      <td>0</td>\n",
              "      <td>0</td>\n",
              "      <td>0</td>\n",
              "      <td>1</td>\n",
              "      <td>0</td>\n",
              "      <td>76</td>\n",
              "      <td>0</td>\n",
              "    </tr>\n",
              "    <tr>\n",
              "      <th>105</th>\n",
              "      <td>4</td>\n",
              "      <td>4.95</td>\n",
              "      <td>4.12</td>\n",
              "      <td>1</td>\n",
              "      <td>0</td>\n",
              "      <td>0</td>\n",
              "      <td>0</td>\n",
              "      <td>0</td>\n",
              "      <td>1</td>\n",
              "      <td>0</td>\n",
              "      <td>0</td>\n",
              "      <td>0</td>\n",
              "      <td>0</td>\n",
              "      <td>0</td>\n",
              "      <td>0</td>\n",
              "      <td>57</td>\n",
              "      <td>0</td>\n",
              "    </tr>\n",
              "    <tr>\n",
              "      <th>185</th>\n",
              "      <td>4</td>\n",
              "      <td>3.52</td>\n",
              "      <td>2.56</td>\n",
              "      <td>0</td>\n",
              "      <td>0</td>\n",
              "      <td>0</td>\n",
              "      <td>1</td>\n",
              "      <td>0</td>\n",
              "      <td>0</td>\n",
              "      <td>1</td>\n",
              "      <td>0</td>\n",
              "      <td>0</td>\n",
              "      <td>0</td>\n",
              "      <td>0</td>\n",
              "      <td>0</td>\n",
              "      <td>81</td>\n",
              "      <td>1</td>\n",
              "    </tr>\n",
              "    <tr>\n",
              "      <th>220</th>\n",
              "      <td>4</td>\n",
              "      <td>2.87</td>\n",
              "      <td>2.08</td>\n",
              "      <td>1</td>\n",
              "      <td>0</td>\n",
              "      <td>0</td>\n",
              "      <td>0</td>\n",
              "      <td>1</td>\n",
              "      <td>0</td>\n",
              "      <td>2</td>\n",
              "      <td>0</td>\n",
              "      <td>0</td>\n",
              "      <td>0</td>\n",
              "      <td>1</td>\n",
              "      <td>0</td>\n",
              "      <td>56</td>\n",
              "      <td>1</td>\n",
              "    </tr>\n",
              "    <tr>\n",
              "      <th>231</th>\n",
              "      <td>4</td>\n",
              "      <td>2.88</td>\n",
              "      <td>2.52</td>\n",
              "      <td>1</td>\n",
              "      <td>0</td>\n",
              "      <td>0</td>\n",
              "      <td>0</td>\n",
              "      <td>1</td>\n",
              "      <td>0</td>\n",
              "      <td>1</td>\n",
              "      <td>0</td>\n",
              "      <td>0</td>\n",
              "      <td>0</td>\n",
              "      <td>1</td>\n",
              "      <td>0</td>\n",
              "      <td>56</td>\n",
              "      <td>0</td>\n",
              "    </tr>\n",
              "    <tr>\n",
              "      <th>238</th>\n",
              "      <td>4</td>\n",
              "      <td>3.40</td>\n",
              "      <td>2.08</td>\n",
              "      <td>1</td>\n",
              "      <td>0</td>\n",
              "      <td>0</td>\n",
              "      <td>0</td>\n",
              "      <td>0</td>\n",
              "      <td>1</td>\n",
              "      <td>0</td>\n",
              "      <td>0</td>\n",
              "      <td>0</td>\n",
              "      <td>0</td>\n",
              "      <td>1</td>\n",
              "      <td>0</td>\n",
              "      <td>55</td>\n",
              "      <td>1</td>\n",
              "    </tr>\n",
              "    <tr>\n",
              "      <th>271</th>\n",
              "      <td>4</td>\n",
              "      <td>3.00</td>\n",
              "      <td>2.16</td>\n",
              "      <td>0</td>\n",
              "      <td>0</td>\n",
              "      <td>0</td>\n",
              "      <td>0</td>\n",
              "      <td>0</td>\n",
              "      <td>0</td>\n",
              "      <td>0</td>\n",
              "      <td>0</td>\n",
              "      <td>0</td>\n",
              "      <td>0</td>\n",
              "      <td>1</td>\n",
              "      <td>0</td>\n",
              "      <td>72</td>\n",
              "      <td>0</td>\n",
              "    </tr>\n",
              "    <tr>\n",
              "      <th>306</th>\n",
              "      <td>4</td>\n",
              "      <td>3.30</td>\n",
              "      <td>2.40</td>\n",
              "      <td>1</td>\n",
              "      <td>0</td>\n",
              "      <td>0</td>\n",
              "      <td>0</td>\n",
              "      <td>1</td>\n",
              "      <td>1</td>\n",
              "      <td>1</td>\n",
              "      <td>0</td>\n",
              "      <td>0</td>\n",
              "      <td>0</td>\n",
              "      <td>1</td>\n",
              "      <td>0</td>\n",
              "      <td>70</td>\n",
              "      <td>0</td>\n",
              "    </tr>\n",
              "    <tr>\n",
              "      <th>367</th>\n",
              "      <td>4</td>\n",
              "      <td>2.38</td>\n",
              "      <td>1.72</td>\n",
              "      <td>1</td>\n",
              "      <td>0</td>\n",
              "      <td>1</td>\n",
              "      <td>0</td>\n",
              "      <td>1</td>\n",
              "      <td>0</td>\n",
              "      <td>1</td>\n",
              "      <td>1</td>\n",
              "      <td>0</td>\n",
              "      <td>1</td>\n",
              "      <td>1</td>\n",
              "      <td>0</td>\n",
              "      <td>87</td>\n",
              "      <td>1</td>\n",
              "    </tr>\n",
              "    <tr>\n",
              "      <th>420</th>\n",
              "      <td>4</td>\n",
              "      <td>4.96</td>\n",
              "      <td>4.16</td>\n",
              "      <td>1</td>\n",
              "      <td>0</td>\n",
              "      <td>0</td>\n",
              "      <td>0</td>\n",
              "      <td>1</td>\n",
              "      <td>0</td>\n",
              "      <td>0</td>\n",
              "      <td>0</td>\n",
              "      <td>0</td>\n",
              "      <td>0</td>\n",
              "      <td>1</td>\n",
              "      <td>0</td>\n",
              "      <td>62</td>\n",
              "      <td>1</td>\n",
              "    </tr>\n",
              "    <tr>\n",
              "      <th>438</th>\n",
              "      <td>4</td>\n",
              "      <td>3.67</td>\n",
              "      <td>76.80</td>\n",
              "      <td>0</td>\n",
              "      <td>1</td>\n",
              "      <td>1</td>\n",
              "      <td>0</td>\n",
              "      <td>1</td>\n",
              "      <td>0</td>\n",
              "      <td>1</td>\n",
              "      <td>0</td>\n",
              "      <td>0</td>\n",
              "      <td>0</td>\n",
              "      <td>0</td>\n",
              "      <td>0</td>\n",
              "      <td>61</td>\n",
              "      <td>0</td>\n",
              "    </tr>\n",
              "  </tbody>\n",
              "</table>\n",
              "</div>"
            ],
            "text/plain": [
              "     Diagnosis  Forced_vital_capacity   FEV1  ...  Asthma  Age  Risk1Y\n",
              "25           4                   4.56  72.80  ...       0   57       0\n",
              "32           4                   2.48   1.95  ...       0   72       0\n",
              "40           4                   3.80   2.98  ...       0   60       1\n",
              "43           4                   2.68   2.12  ...       0   51       1\n",
              "88           4                   2.68   1.76  ...       0   76       0\n",
              "105          4                   4.95   4.12  ...       0   57       0\n",
              "185          4                   3.52   2.56  ...       0   81       1\n",
              "220          4                   2.87   2.08  ...       0   56       1\n",
              "231          4                   2.88   2.52  ...       0   56       0\n",
              "238          4                   3.40   2.08  ...       0   55       1\n",
              "271          4                   3.00   2.16  ...       0   72       0\n",
              "306          4                   3.30   2.40  ...       0   70       0\n",
              "367          4                   2.38   1.72  ...       0   87       1\n",
              "420          4                   4.96   4.16  ...       0   62       1\n",
              "438          4                   3.67  76.80  ...       0   61       0\n",
              "\n",
              "[15 rows x 17 columns]"
            ]
          },
          "metadata": {
            "tags": []
          },
          "execution_count": 13
        }
      ]
    },
    {
      "cell_type": "code",
      "metadata": {
        "colab": {
          "base_uri": "https://localhost:8080/",
          "height": 175
        },
        "id": "QUlTLzASpj-z",
        "outputId": "859a1f67-d724-4756-c401-39bbebde1c38"
      },
      "source": [
        "Dataset[Dataset.Diagnosis == 5]"
      ],
      "execution_count": 14,
      "outputs": [
        {
          "output_type": "execute_result",
          "data": {
            "text/html": [
              "<div>\n",
              "<style scoped>\n",
              "    .dataframe tbody tr th:only-of-type {\n",
              "        vertical-align: middle;\n",
              "    }\n",
              "\n",
              "    .dataframe tbody tr th {\n",
              "        vertical-align: top;\n",
              "    }\n",
              "\n",
              "    .dataframe thead th {\n",
              "        text-align: right;\n",
              "    }\n",
              "</style>\n",
              "<table border=\"1\" class=\"dataframe\">\n",
              "  <thead>\n",
              "    <tr style=\"text-align: right;\">\n",
              "      <th></th>\n",
              "      <th>Diagnosis</th>\n",
              "      <th>Forced_vital_capacity</th>\n",
              "      <th>FEV1</th>\n",
              "      <th>Performance_status</th>\n",
              "      <th>Pain</th>\n",
              "      <th>Haemoptysis</th>\n",
              "      <th>Dyspnoea</th>\n",
              "      <th>Cough</th>\n",
              "      <th>Weakness</th>\n",
              "      <th>Size_of_tumor</th>\n",
              "      <th>diabetes_mellitus</th>\n",
              "      <th>MI_to_6months</th>\n",
              "      <th>PAD</th>\n",
              "      <th>Smoking</th>\n",
              "      <th>Asthma</th>\n",
              "      <th>Age</th>\n",
              "      <th>Risk1Y</th>\n",
              "    </tr>\n",
              "  </thead>\n",
              "  <tbody>\n",
              "    <tr>\n",
              "      <th>29</th>\n",
              "      <td>5</td>\n",
              "      <td>3.96</td>\n",
              "      <td>3.28</td>\n",
              "      <td>0</td>\n",
              "      <td>0</td>\n",
              "      <td>0</td>\n",
              "      <td>0</td>\n",
              "      <td>0</td>\n",
              "      <td>0</td>\n",
              "      <td>0</td>\n",
              "      <td>0</td>\n",
              "      <td>0</td>\n",
              "      <td>0</td>\n",
              "      <td>1</td>\n",
              "      <td>0</td>\n",
              "      <td>61</td>\n",
              "      <td>0</td>\n",
              "    </tr>\n",
              "    <tr>\n",
              "      <th>97</th>\n",
              "      <td>5</td>\n",
              "      <td>3.04</td>\n",
              "      <td>2.40</td>\n",
              "      <td>2</td>\n",
              "      <td>0</td>\n",
              "      <td>0</td>\n",
              "      <td>0</td>\n",
              "      <td>1</td>\n",
              "      <td>0</td>\n",
              "      <td>0</td>\n",
              "      <td>0</td>\n",
              "      <td>0</td>\n",
              "      <td>0</td>\n",
              "      <td>1</td>\n",
              "      <td>0</td>\n",
              "      <td>76</td>\n",
              "      <td>0</td>\n",
              "    </tr>\n",
              "    <tr>\n",
              "      <th>368</th>\n",
              "      <td>5</td>\n",
              "      <td>3.88</td>\n",
              "      <td>2.72</td>\n",
              "      <td>1</td>\n",
              "      <td>0</td>\n",
              "      <td>0</td>\n",
              "      <td>0</td>\n",
              "      <td>1</td>\n",
              "      <td>0</td>\n",
              "      <td>1</td>\n",
              "      <td>0</td>\n",
              "      <td>0</td>\n",
              "      <td>0</td>\n",
              "      <td>1</td>\n",
              "      <td>0</td>\n",
              "      <td>77</td>\n",
              "      <td>0</td>\n",
              "    </tr>\n",
              "    <tr>\n",
              "      <th>405</th>\n",
              "      <td>5</td>\n",
              "      <td>5.36</td>\n",
              "      <td>3.96</td>\n",
              "      <td>1</td>\n",
              "      <td>0</td>\n",
              "      <td>0</td>\n",
              "      <td>0</td>\n",
              "      <td>1</td>\n",
              "      <td>0</td>\n",
              "      <td>1</td>\n",
              "      <td>0</td>\n",
              "      <td>0</td>\n",
              "      <td>0</td>\n",
              "      <td>0</td>\n",
              "      <td>0</td>\n",
              "      <td>62</td>\n",
              "      <td>0</td>\n",
              "    </tr>\n",
              "  </tbody>\n",
              "</table>\n",
              "</div>"
            ],
            "text/plain": [
              "     Diagnosis  Forced_vital_capacity  FEV1  ...  Asthma  Age  Risk1Y\n",
              "29           5                   3.96  3.28  ...       0   61       0\n",
              "97           5                   3.04  2.40  ...       0   76       0\n",
              "368          5                   3.88  2.72  ...       0   77       0\n",
              "405          5                   5.36  3.96  ...       0   62       0\n",
              "\n",
              "[4 rows x 17 columns]"
            ]
          },
          "metadata": {
            "tags": []
          },
          "execution_count": 14
        }
      ]
    },
    {
      "cell_type": "code",
      "metadata": {
        "colab": {
          "base_uri": "https://localhost:8080/",
          "height": 112
        },
        "id": "GMxMn1nipzfW",
        "outputId": "a212864b-eae3-46f1-f90c-ce6bd807f660"
      },
      "source": [
        "Dataset[Dataset.Diagnosis == 6]"
      ],
      "execution_count": 15,
      "outputs": [
        {
          "output_type": "execute_result",
          "data": {
            "text/html": [
              "<div>\n",
              "<style scoped>\n",
              "    .dataframe tbody tr th:only-of-type {\n",
              "        vertical-align: middle;\n",
              "    }\n",
              "\n",
              "    .dataframe tbody tr th {\n",
              "        vertical-align: top;\n",
              "    }\n",
              "\n",
              "    .dataframe thead th {\n",
              "        text-align: right;\n",
              "    }\n",
              "</style>\n",
              "<table border=\"1\" class=\"dataframe\">\n",
              "  <thead>\n",
              "    <tr style=\"text-align: right;\">\n",
              "      <th></th>\n",
              "      <th>Diagnosis</th>\n",
              "      <th>Forced_vital_capacity</th>\n",
              "      <th>FEV1</th>\n",
              "      <th>Performance_status</th>\n",
              "      <th>Pain</th>\n",
              "      <th>Haemoptysis</th>\n",
              "      <th>Dyspnoea</th>\n",
              "      <th>Cough</th>\n",
              "      <th>Weakness</th>\n",
              "      <th>Size_of_tumor</th>\n",
              "      <th>diabetes_mellitus</th>\n",
              "      <th>MI_to_6months</th>\n",
              "      <th>PAD</th>\n",
              "      <th>Smoking</th>\n",
              "      <th>Asthma</th>\n",
              "      <th>Age</th>\n",
              "      <th>Risk1Y</th>\n",
              "    </tr>\n",
              "  </thead>\n",
              "  <tbody>\n",
              "    <tr>\n",
              "      <th>24</th>\n",
              "      <td>6</td>\n",
              "      <td>4.32</td>\n",
              "      <td>3.2</td>\n",
              "      <td>0</td>\n",
              "      <td>0</td>\n",
              "      <td>0</td>\n",
              "      <td>0</td>\n",
              "      <td>0</td>\n",
              "      <td>0</td>\n",
              "      <td>0</td>\n",
              "      <td>0</td>\n",
              "      <td>0</td>\n",
              "      <td>0</td>\n",
              "      <td>0</td>\n",
              "      <td>0</td>\n",
              "      <td>58</td>\n",
              "      <td>1</td>\n",
              "    </tr>\n",
              "    <tr>\n",
              "      <th>446</th>\n",
              "      <td>6</td>\n",
              "      <td>5.20</td>\n",
              "      <td>4.1</td>\n",
              "      <td>0</td>\n",
              "      <td>0</td>\n",
              "      <td>0</td>\n",
              "      <td>0</td>\n",
              "      <td>0</td>\n",
              "      <td>0</td>\n",
              "      <td>1</td>\n",
              "      <td>0</td>\n",
              "      <td>0</td>\n",
              "      <td>0</td>\n",
              "      <td>0</td>\n",
              "      <td>0</td>\n",
              "      <td>49</td>\n",
              "      <td>0</td>\n",
              "    </tr>\n",
              "  </tbody>\n",
              "</table>\n",
              "</div>"
            ],
            "text/plain": [
              "     Diagnosis  Forced_vital_capacity  FEV1  ...  Asthma  Age  Risk1Y\n",
              "24           6                   4.32   3.2  ...       0   58       1\n",
              "446          6                   5.20   4.1  ...       0   49       0\n",
              "\n",
              "[2 rows x 17 columns]"
            ]
          },
          "metadata": {
            "tags": []
          },
          "execution_count": 15
        }
      ]
    },
    {
      "cell_type": "markdown",
      "metadata": {
        "id": "QJq3wDFvNetY"
      },
      "source": [
        "Визуально найти особенности не удалось. Разве что, в классе 4 имеются два аномально высоких значения параметра FEV1, что вполне может быть ошибкой в данных."
      ]
    },
    {
      "cell_type": "code",
      "metadata": {
        "colab": {
          "base_uri": "https://localhost:8080/",
          "height": 584
        },
        "id": "H17-eI-3ViXD",
        "outputId": "168ea38d-a940-40de-d186-ca3870b82baf"
      },
      "source": [
        "plt.figure(figsize=(10,8))\n",
        "sns.heatmap(Dataset.corr())\n",
        "plt.show()"
      ],
      "execution_count": 16,
      "outputs": [
        {
          "output_type": "display_data",
          "data": {
            "image/png": "[encoded data removed]",
            "text/plain": [
              "<Figure size 720x576 with 2 Axes>"
            ]
          },
          "metadata": {
            "tags": [],
            "needs_background": "light"
          }
        }
      ]
    },
    {
      "cell_type": "markdown",
      "metadata": {
        "id": "70IMcHbNZCdy"
      },
      "source": [
        "Видно некоторую корреляцию у состояния пациента и наблюдаемым у него перед операцией симптомам в виде кашля и слабости. \n",
        "\n",
        "Отрицательная корреляция выявлена между тестом FVC (Forced vital capacity) с возрастом пациента. FVC - это тест, в котором пациент выдыхает максимально возможное количество воздуха после максимально глубокого вдоха."
      ]
    },
    {
      "cell_type": "markdown",
      "metadata": {
        "id": "O3bUugUvbOh-"
      },
      "source": [
        "##Создание алгоритмов и их тестирование"
      ]
    },
    {
      "cell_type": "markdown",
      "metadata": {
        "id": "KwJelqXtbUom"
      },
      "source": [
        "Прежде всего, выделим наш целевой признак в отдельную переменную "
      ]
    },
    {
      "cell_type": "code",
      "metadata": {
        "id": "pLV7WTTNbKf8"
      },
      "source": [
        "X = Dataset.drop(columns='Diagnosis')\n",
        "y = Dataset.Diagnosis"
      ],
      "execution_count": 17,
      "outputs": []
    },
    {
      "cell_type": "markdown",
      "metadata": {
        "id": "mIVn5NutdG3o"
      },
      "source": [
        "Разделим их на тренировочную и тестовую выборки, используя специальный для этого метод из библиотеки sklearn"
      ]
    },
    {
      "cell_type": "code",
      "metadata": {
        "id": "wVof8NgNb1No"
      },
      "source": [
        "from sklearn.model_selection import train_test_split\n",
        "X_train, X_test, y_train, y_test = train_test_split(X,y, test_size = 0.15)"
      ],
      "execution_count": 18,
      "outputs": []
    },
    {
      "cell_type": "markdown",
      "metadata": {
        "id": "-fIXCvvGcaGj"
      },
      "source": [
        "Далее попробуем построить простую модель, например kNN, и посмотрим на её результативность."
      ]
    },
    {
      "cell_type": "markdown",
      "metadata": {
        "id": "f_4w1EwIc8Vh"
      },
      "source": [
        "### kNN"
      ]
    },
    {
      "cell_type": "markdown",
      "metadata": {
        "id": "tnK7zwkQi0OS"
      },
      "source": [
        "Импортируем нужные для алгоритма kNN методы из библиотеки sklearn"
      ]
    },
    {
      "cell_type": "code",
      "metadata": {
        "id": "NiXx292Gb1tJ"
      },
      "source": [
        "from sklearn.neighbors import KNeighborsClassifier\n",
        "from sklearn.model_selection import GridSearchCV"
      ],
      "execution_count": 19,
      "outputs": []
    },
    {
      "cell_type": "markdown",
      "metadata": {
        "id": "AylXUxSnhyzu"
      },
      "source": [
        "Инициализируем функцию для отрисовки графика результативности модели в зависимости от подставляемого параметра k соседей"
      ]
    },
    {
      "cell_type": "code",
      "metadata": {
        "id": "wuYnwgi7eQlt"
      },
      "source": [
        "def grid_plot(x, y, title, y_label = 'accuracy', x_label = 'n_neighbors'):\n",
        "    plt.figure(figsize=(12, 6))\n",
        "    plt.grid(True)\n",
        "    plt.plot(x, y, 'go-')\n",
        "    plt.xlabel(x_label)\n",
        "    plt.ylabel(y_label)\n",
        "    plt.title(title)"
      ],
      "execution_count": 20,
      "outputs": []
    },
    {
      "cell_type": "code",
      "metadata": {
        "colab": {
          "base_uri": "https://localhost:8080/",
          "height": 440
        },
        "id": "ft37ZEYJi3o2",
        "outputId": "da8f008b-b311-4ea3-dfe9-e711656551a3"
      },
      "source": [
        "knn = KNeighborsClassifier()\n",
        "knn_search = GridSearchCV(knn, {'n_neighbors': np.arange(1,30)}, cv=4)\n",
        "knn_search.fit(X_train, y_train)\n",
        "grid_plot(np.arange(1,30), knn_search.cv_results_['mean_test_score'],'kNN')"
      ],
      "execution_count": 21,
      "outputs": [
        {
          "output_type": "stream",
          "text": [
            "/usr/local/lib/python3.6/dist-packages/sklearn/model_selection/_split.py:667: UserWarning: The least populated class in y has only 1 members, which is less than n_splits=4.\n",
            "  % (min_groups, self.n_splits)), UserWarning)\n"
          ],
          "name": "stderr"
        },
        {
          "output_type": "display_data",
          "data": {
            "image/png": "[encoded data removed]",
            "text/plain": [
              "<Figure size 864x432 with 1 Axes>"
            ]
          },
          "metadata": {
            "tags": [],
            "needs_background": "light"
          }
        }
      ]
    },
    {
      "cell_type": "markdown",
      "metadata": {
        "id": "8M5yBjGvuOIX"
      },
      "source": [
        "Мы видим, что в значениях n_neighbors после 9 линия становится прямой, то есть увеличивающееся количество соседей не влияет на точность модели дальше значения 9. Теперь используем этот параметр для получения предсказаний на тестовой выборке. Я вызову метод predict от обученного GridSearchCV, так как этот метод использует по умолчанию наилучший найденный параметр."
      ]
    },
    {
      "cell_type": "code",
      "metadata": {
        "colab": {
          "base_uri": "https://localhost:8080/"
        },
        "id": "1jWaM06xyrIj",
        "outputId": "e5931f3c-c887-4779-b651-31df55acd02f"
      },
      "source": [
        "from sklearn.metrics import classification_report\n",
        "knn_test_predictions = knn_search.predict(X_test)\n",
        "print(classification_report(y_test,knn_test_predictions))"
      ],
      "execution_count": 22,
      "outputs": [
        {
          "output_type": "stream",
          "text": [
            "              precision    recall  f1-score   support\n",
            "\n",
            "           1       0.00      0.00      0.00         9\n",
            "           2       0.70      1.00      0.83        50\n",
            "           3       0.00      0.00      0.00         8\n",
            "           4       0.00      0.00      0.00         4\n",
            "\n",
            "    accuracy                           0.70        71\n",
            "   macro avg       0.18      0.25      0.21        71\n",
            "weighted avg       0.50      0.70      0.58        71\n",
            "\n"
          ],
          "name": "stdout"
        },
        {
          "output_type": "stream",
          "text": [
            "/usr/local/lib/python3.6/dist-packages/sklearn/metrics/_classification.py:1272: UndefinedMetricWarning: Precision and F-score are ill-defined and being set to 0.0 in labels with no predicted samples. Use `zero_division` parameter to control this behavior.\n",
            "  _warn_prf(average, modifier, msg_start, len(result))\n"
          ],
          "name": "stderr"
        }
      ]
    },
    {
      "cell_type": "markdown",
      "metadata": {
        "id": "TzfY5Dxf2i51"
      },
      "source": [
        "Мы видим, что модель не может определить ни один класс, кроме мажорного. Это безусловно связано с несбалансированностью данных, а именно очень малым количеством наблюдений остальных классов в датасете. Дальше в ноутбуке мы снова опробуем этот алгоритм после балансировки классов, а пока посмотрим на работу другого алгоритма - логистической регрессии."
      ]
    },
    {
      "cell_type": "markdown",
      "metadata": {
        "id": "CJx3rZtPfjZj"
      },
      "source": [
        "### Logistic regression"
      ]
    },
    {
      "cell_type": "markdown",
      "metadata": {
        "id": "mjh3unNQx4ne"
      },
      "source": [
        "Импортируем алгоритм Логистической регрессии из библиотеки sklearn"
      ]
    },
    {
      "cell_type": "code",
      "metadata": {
        "id": "6ehvuF0508LZ"
      },
      "source": [
        "from sklearn.linear_model import LogisticRegression"
      ],
      "execution_count": 23,
      "outputs": []
    },
    {
      "cell_type": "markdown",
      "metadata": {
        "id": "_YMTH7enyEMR"
      },
      "source": [
        "С помощью GridSearchCV, который уже был использован в алгоритме kNN я попробую подобрать наиболее подходящие параметры алгоритма"
      ]
    },
    {
      "cell_type": "code",
      "metadata": {
        "colab": {
          "base_uri": "https://localhost:8080/"
        },
        "id": "bbjq4HTI2bbH",
        "outputId": "946fb48c-7197-4b39-e40c-f2c5ead2a4dc"
      },
      "source": [
        "LR_search = GridSearchCV(LogisticRegression(solver='liblinear'), {'C': np.linspace(1,50,100), 'penalty': ['l1','l2']})\n",
        "LR_search.fit(X_train,y_train)"
      ],
      "execution_count": 24,
      "outputs": [
        {
          "output_type": "stream",
          "text": [
            "/usr/local/lib/python3.6/dist-packages/sklearn/model_selection/_split.py:667: UserWarning: The least populated class in y has only 1 members, which is less than n_splits=5.\n",
            "  % (min_groups, self.n_splits)), UserWarning)\n",
            "/usr/local/lib/python3.6/dist-packages/sklearn/svm/_base.py:947: ConvergenceWarning: Liblinear failed to converge, increase the number of iterations.\n",
            "  \"the number of iterations.\", ConvergenceWarning)\n",
            "/usr/local/lib/python3.6/dist-packages/sklearn/svm/_base.py:947: ConvergenceWarning: Liblinear failed to converge, increase the number of iterations.\n",
            "  \"the number of iterations.\", ConvergenceWarning)\n",
            "/usr/local/lib/python3.6/dist-packages/sklearn/svm/_base.py:947: ConvergenceWarning: Liblinear failed to converge, increase the number of iterations.\n",
            "  \"the number of iterations.\", ConvergenceWarning)\n",
            "/usr/local/lib/python3.6/dist-packages/sklearn/svm/_base.py:947: ConvergenceWarning: Liblinear failed to converge, increase the number of iterations.\n",
            "  \"the number of iterations.\", ConvergenceWarning)\n",
            "/usr/local/lib/python3.6/dist-packages/sklearn/svm/_base.py:947: ConvergenceWarning: Liblinear failed to converge, increase the number of iterations.\n",
            "  \"the number of iterations.\", ConvergenceWarning)\n",
            "/usr/local/lib/python3.6/dist-packages/sklearn/svm/_base.py:947: ConvergenceWarning: Liblinear failed to converge, increase the number of iterations.\n",
            "  \"the number of iterations.\", ConvergenceWarning)\n",
            "/usr/local/lib/python3.6/dist-packages/sklearn/svm/_base.py:947: ConvergenceWarning: Liblinear failed to converge, increase the number of iterations.\n",
            "  \"the number of iterations.\", ConvergenceWarning)\n",
            "/usr/local/lib/python3.6/dist-packages/sklearn/svm/_base.py:947: ConvergenceWarning: Liblinear failed to converge, increase the number of iterations.\n",
            "  \"the number of iterations.\", ConvergenceWarning)\n",
            "/usr/local/lib/python3.6/dist-packages/sklearn/svm/_base.py:947: ConvergenceWarning: Liblinear failed to converge, increase the number of iterations.\n",
            "  \"the number of iterations.\", ConvergenceWarning)\n",
            "/usr/local/lib/python3.6/dist-packages/sklearn/svm/_base.py:947: ConvergenceWarning: Liblinear failed to converge, increase the number of iterations.\n",
            "  \"the number of iterations.\", ConvergenceWarning)\n",
            "/usr/local/lib/python3.6/dist-packages/sklearn/svm/_base.py:947: ConvergenceWarning: Liblinear failed to converge, increase the number of iterations.\n",
            "  \"the number of iterations.\", ConvergenceWarning)\n",
            "/usr/local/lib/python3.6/dist-packages/sklearn/svm/_base.py:947: ConvergenceWarning: Liblinear failed to converge, increase the number of iterations.\n",
            "  \"the number of iterations.\", ConvergenceWarning)\n",
            "/usr/local/lib/python3.6/dist-packages/sklearn/svm/_base.py:947: ConvergenceWarning: Liblinear failed to converge, increase the number of iterations.\n",
            "  \"the number of iterations.\", ConvergenceWarning)\n",
            "/usr/local/lib/python3.6/dist-packages/sklearn/svm/_base.py:947: ConvergenceWarning: Liblinear failed to converge, increase the number of iterations.\n",
            "  \"the number of iterations.\", ConvergenceWarning)\n"
          ],
          "name": "stderr"
        },
        {
          "output_type": "execute_result",
          "data": {
            "text/plain": [
              "GridSearchCV(cv=None, error_score=nan,\n",
              "             estimator=LogisticRegression(C=1.0, class_weight=None, dual=False,\n",
              "                                          fit_intercept=True,\n",
              "                                          intercept_scaling=1, l1_ratio=None,\n",
              "                                          max_iter=100, multi_class='auto',\n",
              "                                          n_jobs=None, penalty='l2',\n",
              "                                          random_state=None, solver='liblinear',\n",
              "                                          tol=0.0001, verbose=0,\n",
              "                                          warm_start=False),\n",
              "             iid='deprecated', n_jobs=None,\n",
              "             param_grid={'C': array([ 1.        ,  1.494949...\n",
              "       38.12121212, 38.61616162, 39.11111111, 39.60606061, 40.1010101 ,\n",
              "       40.5959596 , 41.09090909, 41.58585859, 42.08080808, 42.57575758,\n",
              "       43.07070707, 43.56565657, 44.06060606, 44.55555556, 45.05050505,\n",
              "       45.54545455, 46.04040404, 46.53535354, 47.03030303, 47.52525253,\n",
              "       48.02020202, 48.51515152, 49.01010101, 49.50505051, 50.        ]),\n",
              "                         'penalty': ['l1', 'l2']},\n",
              "             pre_dispatch='2*n_jobs', refit=True, return_train_score=False,\n",
              "             scoring=None, verbose=0)"
            ]
          },
          "metadata": {
            "tags": []
          },
          "execution_count": 24
        }
      ]
    },
    {
      "cell_type": "code",
      "metadata": {
        "colab": {
          "base_uri": "https://localhost:8080/"
        },
        "id": "aKoOMI2llttu",
        "outputId": "84b53ae7-9e01-4d2c-d4a4-d03470c22066"
      },
      "source": [
        "print(LR_search.best_params_, LR_search.best_score_)"
      ],
      "execution_count": 25,
      "outputs": [
        {
          "output_type": "stream",
          "text": [
            "{'C': 1.0, 'penalty': 'l1'} 0.7468354430379747\n"
          ],
          "name": "stdout"
        }
      ]
    },
    {
      "cell_type": "markdown",
      "metadata": {
        "id": "P_4Js1cXyYWx"
      },
      "source": [
        "Мы видим, что наиболее подходящие параметры 'C'=1 и 'penalty'='l1'. Теперь имплементируем алгоритм. Я изменил значение параметра solver на 'liblinear', потому что данное значение рекомендовано для небольших датасетов."
      ]
    },
    {
      "cell_type": "code",
      "metadata": {
        "colab": {
          "base_uri": "https://localhost:8080/"
        },
        "id": "KQFe9bN8moMY",
        "outputId": "21eebc79-6530-4003-e47b-f13e4f09b427"
      },
      "source": [
        "LR = LogisticRegression(solver='liblinear', penalty='l1')\n",
        "LR.fit(X_train,y_train)"
      ],
      "execution_count": 26,
      "outputs": [
        {
          "output_type": "execute_result",
          "data": {
            "text/plain": [
              "LogisticRegression(C=1.0, class_weight=None, dual=False, fit_intercept=True,\n",
              "                   intercept_scaling=1, l1_ratio=None, max_iter=100,\n",
              "                   multi_class='auto', n_jobs=None, penalty='l1',\n",
              "                   random_state=None, solver='liblinear', tol=0.0001, verbose=0,\n",
              "                   warm_start=False)"
            ]
          },
          "metadata": {
            "tags": []
          },
          "execution_count": 26
        }
      ]
    },
    {
      "cell_type": "markdown",
      "metadata": {
        "id": "lX9itlNGxyJp"
      },
      "source": [
        "Посмотрим на результат работы алгоритма. Используем метрики алгоритма регрессии $R^2 score$ и MAE."
      ]
    },
    {
      "cell_type": "code",
      "metadata": {
        "colab": {
          "base_uri": "https://localhost:8080/"
        },
        "id": "Omeaw0F5xJuf",
        "outputId": "595934fb-4506-4acd-e4b5-73de54c1ed59"
      },
      "source": [
        "from sklearn.metrics import mean_absolute_error, r2_score\n",
        "LR_predictions = LR.predict(X_test)\n",
        "print(\" MAE score:\", mean_absolute_error(y_test, LR_predictions), \n",
        "      '\\n',\n",
        "      \"R2 score:\", r2_score(y_test,LR_predictions))"
      ],
      "execution_count": 27,
      "outputs": [
        {
          "output_type": "stream",
          "text": [
            " MAE score: 0.352112676056338 \n",
            " R2 score: -0.02136006974716631\n"
          ],
          "name": "stdout"
        }
      ]
    },
    {
      "cell_type": "markdown",
      "metadata": {
        "id": "C89KFhdd9Ol_"
      },
      "source": [
        "Как и в случае с kNN, результаты совершенно никуда не годятся. Перепроверим на на функции classification_report"
      ]
    },
    {
      "cell_type": "code",
      "metadata": {
        "colab": {
          "base_uri": "https://localhost:8080/"
        },
        "id": "HRV0q1Ij88iy",
        "outputId": "72f93e55-6a8c-4a1c-9266-0d4796b1f07a"
      },
      "source": [
        "print(classification_report(y_test, LR_predictions))"
      ],
      "execution_count": 28,
      "outputs": [
        {
          "output_type": "stream",
          "text": [
            "              precision    recall  f1-score   support\n",
            "\n",
            "           1       0.00      0.00      0.00         9\n",
            "           2       0.70      1.00      0.83        50\n",
            "           3       0.00      0.00      0.00         8\n",
            "           4       0.00      0.00      0.00         4\n",
            "\n",
            "    accuracy                           0.70        71\n",
            "   macro avg       0.18      0.25      0.21        71\n",
            "weighted avg       0.50      0.70      0.58        71\n",
            "\n"
          ],
          "name": "stdout"
        },
        {
          "output_type": "stream",
          "text": [
            "/usr/local/lib/python3.6/dist-packages/sklearn/metrics/_classification.py:1272: UndefinedMetricWarning: Precision and F-score are ill-defined and being set to 0.0 in labels with no predicted samples. Use `zero_division` parameter to control this behavior.\n",
            "  _warn_prf(average, modifier, msg_start, len(result))\n"
          ],
          "name": "stderr"
        }
      ]
    },
    {
      "cell_type": "markdown",
      "metadata": {
        "id": "648-Jcr66iSB"
      },
      "source": [
        "Результат аналогичен kNN. Минорные классы также игнорируются"
      ]
    },
    {
      "cell_type": "markdown",
      "metadata": {
        "id": "9Foy8cui6jwS"
      },
      "source": [
        "### Naive Bayes"
      ]
    },
    {
      "cell_type": "markdown",
      "metadata": {
        "id": "MhgCGPQx9n6-"
      },
      "source": [
        "Посмотрим теперь, как с этими данными справится другой алгоритм классификации - Naive Bayes. Из разных вариантов этого алгоритма я выберу CategoricalNB, так как большая часть наших признаков категориальные."
      ]
    },
    {
      "cell_type": "markdown",
      "metadata": {
        "id": "N1-HB_H_7P5B"
      },
      "source": [
        "#### Categoriical NB"
      ]
    },
    {
      "cell_type": "code",
      "metadata": {
        "id": "gOfbAx8az-Ep"
      },
      "source": [
        "from sklearn.naive_bayes import CategoricalNB"
      ],
      "execution_count": 29,
      "outputs": []
    },
    {
      "cell_type": "code",
      "metadata": {
        "id": "RQZTGyIcAlI8"
      },
      "source": [
        "Categorical_bayes = CategoricalNB()\n",
        "Categorical_bayes.fit(X_train,y_train)\n",
        "CatNB_predictions = Categorical_bayes.predict(X_test)"
      ],
      "execution_count": 30,
      "outputs": []
    },
    {
      "cell_type": "code",
      "metadata": {
        "colab": {
          "base_uri": "https://localhost:8080/"
        },
        "id": "yi3ZvM7DCw6E",
        "outputId": "20191e0b-f448-42c5-946d-2f65e8db3b21"
      },
      "source": [
        "print(classification_report(y_test, Categorical_bayes.predict(X_test)))"
      ],
      "execution_count": 31,
      "outputs": [
        {
          "output_type": "stream",
          "text": [
            "              precision    recall  f1-score   support\n",
            "\n",
            "           1       1.00      0.11      0.20         9\n",
            "           2       0.72      0.98      0.83        50\n",
            "           3       0.50      0.12      0.20         8\n",
            "           4       0.00      0.00      0.00         4\n",
            "\n",
            "    accuracy                           0.72        71\n",
            "   macro avg       0.56      0.30      0.31        71\n",
            "weighted avg       0.69      0.72      0.63        71\n",
            "\n"
          ],
          "name": "stdout"
        },
        {
          "output_type": "stream",
          "text": [
            "/usr/local/lib/python3.6/dist-packages/sklearn/metrics/_classification.py:1272: UndefinedMetricWarning: Precision and F-score are ill-defined and being set to 0.0 in labels with no predicted samples. Use `zero_division` parameter to control this behavior.\n",
            "  _warn_prf(average, modifier, msg_start, len(result))\n"
          ],
          "name": "stderr"
        }
      ]
    },
    {
      "cell_type": "markdown",
      "metadata": {
        "id": "uCNJkMN9H-7u"
      },
      "source": [
        "В отличии от kNN наивный Байесовский классификатор смог отличить несколько экземпляров минорного класса. Похоже, что он сработал немного лучше остальных алгоритмов."
      ]
    },
    {
      "cell_type": "markdown",
      "metadata": {
        "id": "Wa1-r4qMnEnP"
      },
      "source": [
        "Однако же, в библиотеке реализован не один Байесовский классификатор, попробуем посмотреть на результаты работы других. Следующий алгоритм - Complement Байесевский классификатор.\n",
        "\n"
      ]
    },
    {
      "cell_type": "markdown",
      "metadata": {
        "id": "e6dZK19E7kPJ"
      },
      "source": [
        "#### Complement NB"
      ]
    },
    {
      "cell_type": "code",
      "metadata": {
        "colab": {
          "base_uri": "https://localhost:8080/"
        },
        "id": "mNU0rRQKktf5",
        "outputId": "5a517164-4839-4631-86d8-a435b67297bd"
      },
      "source": [
        "from sklearn.naive_bayes import ComplementNB\n",
        "Comp_NB = ComplementNB()\n",
        "Comp_NB.fit(X_train,y_train)\n",
        "print(classification_report(y_test, Comp_NB.predict(X_test)))"
      ],
      "execution_count": 32,
      "outputs": [
        {
          "output_type": "stream",
          "text": [
            "              precision    recall  f1-score   support\n",
            "\n",
            "           1       0.17      0.11      0.13         9\n",
            "           2       0.73      0.82      0.77        50\n",
            "           3       0.12      0.12      0.12         8\n",
            "           4       0.00      0.00      0.00         4\n",
            "\n",
            "    accuracy                           0.61        71\n",
            "   macro avg       0.26      0.26      0.26        71\n",
            "weighted avg       0.55      0.61      0.58        71\n",
            "\n"
          ],
          "name": "stdout"
        }
      ]
    },
    {
      "cell_type": "markdown",
      "metadata": {
        "id": "Wm_YztEgvi78"
      },
      "source": [
        "Результат похож на CategoriaclNB."
      ]
    },
    {
      "cell_type": "markdown",
      "metadata": {
        "id": "KokGnLEYQRLi"
      },
      "source": [
        "### Decision Tree"
      ]
    },
    {
      "cell_type": "markdown",
      "metadata": {
        "id": "FBKOz8tfQZ1c"
      },
      "source": [
        "Другая разновидность простых алгоритмов классификации - дерево решений. Посмотрим на результат"
      ]
    },
    {
      "cell_type": "code",
      "metadata": {
        "colab": {
          "base_uri": "https://localhost:8080/"
        },
        "id": "8HJERJKXWC8u",
        "outputId": "8c0732e3-9568-4a70-f719-c40f6081c55e"
      },
      "source": [
        "from sklearn.tree import DecisionTreeClassifier\n",
        "Tree = DecisionTreeClassifier()\n",
        "Tree.fit(X_train, y_train)\n",
        "Tree_predictions = Tree.predict(X_test)\n",
        "print(classification_report(y_test, Tree_predictions))"
      ],
      "execution_count": 33,
      "outputs": [
        {
          "output_type": "stream",
          "text": [
            "              precision    recall  f1-score   support\n",
            "\n",
            "           1       0.12      0.11      0.12         9\n",
            "           2       0.73      0.70      0.71        50\n",
            "           3       0.08      0.12      0.10         8\n",
            "           4       0.00      0.00      0.00         4\n",
            "           5       0.00      0.00      0.00         0\n",
            "\n",
            "    accuracy                           0.52        71\n",
            "   macro avg       0.19      0.19      0.19        71\n",
            "weighted avg       0.54      0.52      0.53        71\n",
            "\n"
          ],
          "name": "stdout"
        },
        {
          "output_type": "stream",
          "text": [
            "/usr/local/lib/python3.6/dist-packages/sklearn/metrics/_classification.py:1272: UndefinedMetricWarning: Recall and F-score are ill-defined and being set to 0.0 in labels with no true samples. Use `zero_division` parameter to control this behavior.\n",
            "  _warn_prf(average, modifier, msg_start, len(result))\n"
          ],
          "name": "stderr"
        }
      ]
    },
    {
      "cell_type": "markdown",
      "metadata": {
        "id": "uAiZE3F_QoXG"
      },
      "source": [
        "Результат очень слабый, но нехуже предыдущих алгоритмамов."
      ]
    },
    {
      "cell_type": "markdown",
      "metadata": {
        "id": "IUS3jxljQwmA"
      },
      "source": [
        "Теперь используем сложный алгоритм классификации - градиентный бустинг.\n"
      ]
    },
    {
      "cell_type": "markdown",
      "metadata": {
        "id": "yjGvbg02QxD9"
      },
      "source": [
        "### CatBoost Classifier"
      ]
    },
    {
      "cell_type": "markdown",
      "metadata": {
        "id": "XR8b6vKPRH9m"
      },
      "source": [
        "Библиотека CatBoost не предустановлена по умолчанию, нам нужно будет использовать команду pip install"
      ]
    },
    {
      "cell_type": "code",
      "metadata": {
        "colab": {
          "base_uri": "https://localhost:8080/"
        },
        "id": "EKYUkShrXFkR",
        "outputId": "a3eb8434-b924-4f47-d455-66357d699a39"
      },
      "source": [
        "!pip install catboost"
      ],
      "execution_count": 34,
      "outputs": [
        {
          "output_type": "stream",
          "text": [
            "Collecting catboost\n",
            "\u001b[?25l  Downloading https://files.pythonhosted.org/packages/20/37/bc4e0ddc30c07a96482abf1de7ed1ca54e59bba2026a33bca6d2ef286e5b/catboost-0.24.4-cp36-none-manylinux1_x86_64.whl (65.7MB)\n",
            "\u001b[K     |████████████████████████████████| 65.8MB 58kB/s \n",
            "\u001b[?25hRequirement already satisfied: matplotlib in /usr/local/lib/python3.6/dist-packages (from catboost) (3.2.2)\n",
            "Requirement already satisfied: plotly in /usr/local/lib/python3.6/dist-packages (from catboost) (4.4.1)\n",
            "Requirement already satisfied: six in /usr/local/lib/python3.6/dist-packages (from catboost) (1.15.0)\n",
            "Requirement already satisfied: numpy>=1.16.0 in /usr/local/lib/python3.6/dist-packages (from catboost) (1.19.5)\n",
            "Requirement already satisfied: graphviz in /usr/local/lib/python3.6/dist-packages (from catboost) (0.10.1)\n",
            "Requirement already satisfied: pandas>=0.24.0 in /usr/local/lib/python3.6/dist-packages (from catboost) (1.1.5)\n",
            "Requirement already satisfied: scipy in /usr/local/lib/python3.6/dist-packages (from catboost) (1.4.1)\n",
            "Requirement already satisfied: pyparsing!=2.0.4,!=2.1.2,!=2.1.6,>=2.0.1 in /usr/local/lib/python3.6/dist-packages (from matplotlib->catboost) (2.4.7)\n",
            "Requirement already satisfied: cycler>=0.10 in /usr/local/lib/python3.6/dist-packages (from matplotlib->catboost) (0.10.0)\n",
            "Requirement already satisfied: kiwisolver>=1.0.1 in /usr/local/lib/python3.6/dist-packages (from matplotlib->catboost) (1.3.1)\n",
            "Requirement already satisfied: python-dateutil>=2.1 in /usr/local/lib/python3.6/dist-packages (from matplotlib->catboost) (2.8.1)\n",
            "Requirement already satisfied: retrying>=1.3.3 in /usr/local/lib/python3.6/dist-packages (from plotly->catboost) (1.3.3)\n",
            "Requirement already satisfied: pytz>=2017.2 in /usr/local/lib/python3.6/dist-packages (from pandas>=0.24.0->catboost) (2018.9)\n",
            "Installing collected packages: catboost\n",
            "Successfully installed catboost-0.24.4\n"
          ],
          "name": "stdout"
        }
      ]
    },
    {
      "cell_type": "markdown",
      "metadata": {
        "id": "HyEJMSabRX6l"
      },
      "source": [
        "Теперь импортируем библиотеку catboost"
      ]
    },
    {
      "cell_type": "code",
      "metadata": {
        "id": "glW2FOpYWYdr"
      },
      "source": [
        "import catboost"
      ],
      "execution_count": 35,
      "outputs": []
    },
    {
      "cell_type": "markdown",
      "metadata": {
        "id": "PPHosfSDUFII"
      },
      "source": [
        "Обучаем наш алгоритм градиентного бустинга"
      ]
    },
    {
      "cell_type": "code",
      "metadata": {
        "colab": {
          "base_uri": "https://localhost:8080/"
        },
        "id": "gbkeNBXIYzbo",
        "outputId": "b3c265f8-a1e4-45c0-f808-38a27bd8d678"
      },
      "source": [
        "Kitty = catboost.CatBoostClassifier()\n",
        "Kitty.fit(X_train, y_train)"
      ],
      "execution_count": 36,
      "outputs": [
        {
          "output_type": "stream",
          "text": [
            "Learning rate set to 0.075505\n",
            "0:\tlearn: 1.7668230\ttotal: 56.5ms\tremaining: 56.5s\n",
            "1:\tlearn: 1.6551084\ttotal: 64.4ms\tremaining: 32.1s\n",
            "2:\tlearn: 1.5567497\ttotal: 71.2ms\tremaining: 23.7s\n",
            "3:\tlearn: 1.4789199\ttotal: 77.2ms\tremaining: 19.2s\n",
            "4:\tlearn: 1.3927503\ttotal: 78.6ms\tremaining: 15.6s\n",
            "5:\tlearn: 1.3226767\ttotal: 79.9ms\tremaining: 13.2s\n",
            "6:\tlearn: 1.2758496\ttotal: 86ms\tremaining: 12.2s\n",
            "7:\tlearn: 1.2253967\ttotal: 87.3ms\tremaining: 10.8s\n",
            "8:\tlearn: 1.1926781\ttotal: 93.5ms\tremaining: 10.3s\n",
            "9:\tlearn: 1.1572298\ttotal: 99.6ms\tremaining: 9.86s\n",
            "10:\tlearn: 1.1274021\ttotal: 106ms\tremaining: 9.54s\n",
            "11:\tlearn: 1.1011148\ttotal: 112ms\tremaining: 9.25s\n",
            "12:\tlearn: 1.0766208\ttotal: 119ms\tremaining: 9.01s\n",
            "13:\tlearn: 1.0535853\ttotal: 125ms\tremaining: 8.8s\n",
            "14:\tlearn: 1.0313320\ttotal: 131ms\tremaining: 8.61s\n",
            "15:\tlearn: 1.0132679\ttotal: 137ms\tremaining: 8.44s\n",
            "16:\tlearn: 0.9965197\ttotal: 143ms\tremaining: 8.29s\n",
            "17:\tlearn: 0.9803065\ttotal: 149ms\tremaining: 8.15s\n",
            "18:\tlearn: 0.9655135\ttotal: 156ms\tremaining: 8.05s\n",
            "19:\tlearn: 0.9512893\ttotal: 162ms\tremaining: 7.92s\n",
            "20:\tlearn: 0.9378175\ttotal: 168ms\tremaining: 7.82s\n",
            "21:\tlearn: 0.9250066\ttotal: 173ms\tremaining: 7.71s\n",
            "22:\tlearn: 0.9145458\ttotal: 180ms\tremaining: 7.64s\n",
            "23:\tlearn: 0.9029507\ttotal: 203ms\tremaining: 8.27s\n",
            "24:\tlearn: 0.8918504\ttotal: 213ms\tremaining: 8.32s\n",
            "25:\tlearn: 0.8818687\ttotal: 223ms\tremaining: 8.34s\n",
            "26:\tlearn: 0.8721977\ttotal: 232ms\tremaining: 8.37s\n",
            "27:\tlearn: 0.8625077\ttotal: 240ms\tremaining: 8.33s\n",
            "28:\tlearn: 0.8539389\ttotal: 243ms\tremaining: 8.12s\n",
            "29:\tlearn: 0.8448203\ttotal: 249ms\tremaining: 8.05s\n",
            "30:\tlearn: 0.8379286\ttotal: 256ms\tremaining: 7.99s\n",
            "31:\tlearn: 0.8316837\ttotal: 262ms\tremaining: 7.93s\n",
            "32:\tlearn: 0.8250945\ttotal: 270ms\tremaining: 7.9s\n",
            "33:\tlearn: 0.8187915\ttotal: 276ms\tremaining: 7.85s\n",
            "34:\tlearn: 0.8136028\ttotal: 282ms\tremaining: 7.79s\n",
            "35:\tlearn: 0.8075985\ttotal: 289ms\tremaining: 7.75s\n",
            "36:\tlearn: 0.8020624\ttotal: 296ms\tremaining: 7.7s\n",
            "37:\tlearn: 0.7963361\ttotal: 302ms\tremaining: 7.65s\n",
            "38:\tlearn: 0.7906833\ttotal: 308ms\tremaining: 7.6s\n",
            "39:\tlearn: 0.7851476\ttotal: 314ms\tremaining: 7.55s\n",
            "40:\tlearn: 0.7794934\ttotal: 320ms\tremaining: 7.5s\n",
            "41:\tlearn: 0.7741622\ttotal: 327ms\tremaining: 7.45s\n",
            "42:\tlearn: 0.7696617\ttotal: 333ms\tremaining: 7.41s\n",
            "43:\tlearn: 0.7653391\ttotal: 340ms\tremaining: 7.38s\n",
            "44:\tlearn: 0.7609577\ttotal: 346ms\tremaining: 7.34s\n",
            "45:\tlearn: 0.7567614\ttotal: 353ms\tremaining: 7.32s\n",
            "46:\tlearn: 0.7520765\ttotal: 359ms\tremaining: 7.28s\n",
            "47:\tlearn: 0.7483260\ttotal: 365ms\tremaining: 7.25s\n",
            "48:\tlearn: 0.7433016\ttotal: 372ms\tremaining: 7.21s\n",
            "49:\tlearn: 0.7391446\ttotal: 378ms\tremaining: 7.18s\n",
            "50:\tlearn: 0.7355680\ttotal: 384ms\tremaining: 7.14s\n",
            "51:\tlearn: 0.7316324\ttotal: 390ms\tremaining: 7.11s\n",
            "52:\tlearn: 0.7273854\ttotal: 396ms\tremaining: 7.08s\n",
            "53:\tlearn: 0.7240069\ttotal: 408ms\tremaining: 7.15s\n",
            "54:\tlearn: 0.7202812\ttotal: 415ms\tremaining: 7.12s\n",
            "55:\tlearn: 0.7169118\ttotal: 428ms\tremaining: 7.21s\n",
            "56:\tlearn: 0.7127731\ttotal: 435ms\tremaining: 7.2s\n",
            "57:\tlearn: 0.7094209\ttotal: 442ms\tremaining: 7.18s\n",
            "58:\tlearn: 0.7047980\ttotal: 449ms\tremaining: 7.16s\n",
            "59:\tlearn: 0.7015288\ttotal: 455ms\tremaining: 7.12s\n",
            "60:\tlearn: 0.6992150\ttotal: 461ms\tremaining: 7.09s\n",
            "61:\tlearn: 0.6956976\ttotal: 467ms\tremaining: 7.07s\n",
            "62:\tlearn: 0.6925789\ttotal: 473ms\tremaining: 7.04s\n",
            "63:\tlearn: 0.6895042\ttotal: 480ms\tremaining: 7.02s\n",
            "64:\tlearn: 0.6875855\ttotal: 487ms\tremaining: 7s\n",
            "65:\tlearn: 0.6837587\ttotal: 494ms\tremaining: 6.99s\n",
            "66:\tlearn: 0.6813626\ttotal: 501ms\tremaining: 6.97s\n",
            "67:\tlearn: 0.6792196\ttotal: 507ms\tremaining: 6.95s\n",
            "68:\tlearn: 0.6763928\ttotal: 513ms\tremaining: 6.93s\n",
            "69:\tlearn: 0.6740391\ttotal: 520ms\tremaining: 6.91s\n",
            "70:\tlearn: 0.6709662\ttotal: 526ms\tremaining: 6.88s\n",
            "71:\tlearn: 0.6689209\ttotal: 533ms\tremaining: 6.86s\n",
            "72:\tlearn: 0.6660714\ttotal: 539ms\tremaining: 6.84s\n",
            "73:\tlearn: 0.6622475\ttotal: 545ms\tremaining: 6.82s\n",
            "74:\tlearn: 0.6593794\ttotal: 551ms\tremaining: 6.8s\n",
            "75:\tlearn: 0.6566895\ttotal: 557ms\tremaining: 6.78s\n",
            "76:\tlearn: 0.6534344\ttotal: 564ms\tremaining: 6.75s\n",
            "77:\tlearn: 0.6512544\ttotal: 570ms\tremaining: 6.73s\n",
            "78:\tlearn: 0.6488676\ttotal: 577ms\tremaining: 6.73s\n",
            "79:\tlearn: 0.6475063\ttotal: 583ms\tremaining: 6.71s\n",
            "80:\tlearn: 0.6450642\ttotal: 594ms\tremaining: 6.74s\n",
            "81:\tlearn: 0.6431201\ttotal: 601ms\tremaining: 6.73s\n",
            "82:\tlearn: 0.6407997\ttotal: 608ms\tremaining: 6.72s\n",
            "83:\tlearn: 0.6381812\ttotal: 615ms\tremaining: 6.71s\n",
            "84:\tlearn: 0.6365667\ttotal: 622ms\tremaining: 6.69s\n",
            "85:\tlearn: 0.6338866\ttotal: 628ms\tremaining: 6.67s\n",
            "86:\tlearn: 0.6319772\ttotal: 634ms\tremaining: 6.65s\n",
            "87:\tlearn: 0.6293790\ttotal: 640ms\tremaining: 6.63s\n",
            "88:\tlearn: 0.6273275\ttotal: 647ms\tremaining: 6.62s\n",
            "89:\tlearn: 0.6241032\ttotal: 654ms\tremaining: 6.61s\n",
            "90:\tlearn: 0.6209816\ttotal: 661ms\tremaining: 6.6s\n",
            "91:\tlearn: 0.6179298\ttotal: 669ms\tremaining: 6.6s\n",
            "92:\tlearn: 0.6161227\ttotal: 678ms\tremaining: 6.61s\n",
            "93:\tlearn: 0.6137934\ttotal: 684ms\tremaining: 6.59s\n",
            "94:\tlearn: 0.6113939\ttotal: 690ms\tremaining: 6.57s\n",
            "95:\tlearn: 0.6091652\ttotal: 696ms\tremaining: 6.55s\n",
            "96:\tlearn: 0.6062272\ttotal: 702ms\tremaining: 6.53s\n",
            "97:\tlearn: 0.6031452\ttotal: 709ms\tremaining: 6.53s\n",
            "98:\tlearn: 0.6009817\ttotal: 715ms\tremaining: 6.51s\n",
            "99:\tlearn: 0.5979721\ttotal: 722ms\tremaining: 6.5s\n",
            "100:\tlearn: 0.5956164\ttotal: 729ms\tremaining: 6.49s\n",
            "101:\tlearn: 0.5937636\ttotal: 735ms\tremaining: 6.47s\n",
            "102:\tlearn: 0.5910856\ttotal: 742ms\tremaining: 6.46s\n",
            "103:\tlearn: 0.5886138\ttotal: 748ms\tremaining: 6.45s\n",
            "104:\tlearn: 0.5862318\ttotal: 755ms\tremaining: 6.44s\n",
            "105:\tlearn: 0.5850219\ttotal: 762ms\tremaining: 6.42s\n",
            "106:\tlearn: 0.5839267\ttotal: 768ms\tremaining: 6.41s\n",
            "107:\tlearn: 0.5824994\ttotal: 775ms\tremaining: 6.4s\n",
            "108:\tlearn: 0.5806723\ttotal: 781ms\tremaining: 6.38s\n",
            "109:\tlearn: 0.5775014\ttotal: 787ms\tremaining: 6.37s\n",
            "110:\tlearn: 0.5756381\ttotal: 794ms\tremaining: 6.36s\n",
            "111:\tlearn: 0.5737087\ttotal: 800ms\tremaining: 6.34s\n",
            "112:\tlearn: 0.5710537\ttotal: 812ms\tremaining: 6.38s\n",
            "113:\tlearn: 0.5687327\ttotal: 819ms\tremaining: 6.37s\n",
            "114:\tlearn: 0.5658076\ttotal: 826ms\tremaining: 6.35s\n",
            "115:\tlearn: 0.5639804\ttotal: 832ms\tremaining: 6.34s\n",
            "116:\tlearn: 0.5626803\ttotal: 839ms\tremaining: 6.33s\n",
            "117:\tlearn: 0.5607628\ttotal: 845ms\tremaining: 6.32s\n",
            "118:\tlearn: 0.5591681\ttotal: 852ms\tremaining: 6.31s\n",
            "119:\tlearn: 0.5556953\ttotal: 858ms\tremaining: 6.29s\n",
            "120:\tlearn: 0.5534111\ttotal: 865ms\tremaining: 6.28s\n",
            "121:\tlearn: 0.5516082\ttotal: 871ms\tremaining: 6.26s\n",
            "122:\tlearn: 0.5501449\ttotal: 877ms\tremaining: 6.25s\n",
            "123:\tlearn: 0.5481320\ttotal: 883ms\tremaining: 6.24s\n",
            "124:\tlearn: 0.5468176\ttotal: 890ms\tremaining: 6.23s\n",
            "125:\tlearn: 0.5435701\ttotal: 896ms\tremaining: 6.22s\n",
            "126:\tlearn: 0.5421255\ttotal: 903ms\tremaining: 6.21s\n",
            "127:\tlearn: 0.5401872\ttotal: 910ms\tremaining: 6.2s\n",
            "128:\tlearn: 0.5385351\ttotal: 916ms\tremaining: 6.19s\n",
            "129:\tlearn: 0.5366868\ttotal: 926ms\tremaining: 6.2s\n",
            "130:\tlearn: 0.5345411\ttotal: 935ms\tremaining: 6.2s\n",
            "131:\tlearn: 0.5325289\ttotal: 941ms\tremaining: 6.19s\n",
            "132:\tlearn: 0.5304995\ttotal: 947ms\tremaining: 6.18s\n",
            "133:\tlearn: 0.5270353\ttotal: 954ms\tremaining: 6.16s\n",
            "134:\tlearn: 0.5239044\ttotal: 961ms\tremaining: 6.15s\n",
            "135:\tlearn: 0.5221872\ttotal: 967ms\tremaining: 6.14s\n",
            "136:\tlearn: 0.5211210\ttotal: 973ms\tremaining: 6.13s\n",
            "137:\tlearn: 0.5191787\ttotal: 979ms\tremaining: 6.12s\n",
            "138:\tlearn: 0.5167831\ttotal: 985ms\tremaining: 6.1s\n",
            "139:\tlearn: 0.5155230\ttotal: 993ms\tremaining: 6.1s\n",
            "140:\tlearn: 0.5136251\ttotal: 999ms\tremaining: 6.09s\n",
            "141:\tlearn: 0.5103454\ttotal: 1s\tremaining: 6.08s\n",
            "142:\tlearn: 0.5087253\ttotal: 1.02s\tremaining: 6.1s\n",
            "143:\tlearn: 0.5072777\ttotal: 1.02s\tremaining: 6.09s\n",
            "144:\tlearn: 0.5049816\ttotal: 1.03s\tremaining: 6.08s\n",
            "145:\tlearn: 0.5027691\ttotal: 1.04s\tremaining: 6.07s\n",
            "146:\tlearn: 0.5013709\ttotal: 1.04s\tremaining: 6.06s\n",
            "147:\tlearn: 0.4993491\ttotal: 1.05s\tremaining: 6.04s\n",
            "148:\tlearn: 0.4976370\ttotal: 1.06s\tremaining: 6.04s\n",
            "149:\tlearn: 0.4946398\ttotal: 1.06s\tremaining: 6.02s\n",
            "150:\tlearn: 0.4930913\ttotal: 1.07s\tremaining: 6.01s\n",
            "151:\tlearn: 0.4914567\ttotal: 1.08s\tremaining: 6s\n",
            "152:\tlearn: 0.4907171\ttotal: 1.08s\tremaining: 5.99s\n",
            "153:\tlearn: 0.4889580\ttotal: 1.09s\tremaining: 5.99s\n",
            "154:\tlearn: 0.4876884\ttotal: 1.1s\tremaining: 5.98s\n",
            "155:\tlearn: 0.4869221\ttotal: 1.1s\tremaining: 5.97s\n",
            "156:\tlearn: 0.4854581\ttotal: 1.11s\tremaining: 5.96s\n",
            "157:\tlearn: 0.4845885\ttotal: 1.12s\tremaining: 5.95s\n",
            "158:\tlearn: 0.4817148\ttotal: 1.12s\tremaining: 5.94s\n",
            "159:\tlearn: 0.4803375\ttotal: 1.13s\tremaining: 5.93s\n",
            "160:\tlearn: 0.4795282\ttotal: 1.14s\tremaining: 5.92s\n",
            "161:\tlearn: 0.4781762\ttotal: 1.14s\tremaining: 5.91s\n",
            "162:\tlearn: 0.4766121\ttotal: 1.15s\tremaining: 5.9s\n",
            "163:\tlearn: 0.4747351\ttotal: 1.16s\tremaining: 5.89s\n",
            "164:\tlearn: 0.4733505\ttotal: 1.16s\tremaining: 5.88s\n",
            "165:\tlearn: 0.4712646\ttotal: 1.17s\tremaining: 5.87s\n",
            "166:\tlearn: 0.4701993\ttotal: 1.18s\tremaining: 5.86s\n",
            "167:\tlearn: 0.4690403\ttotal: 1.18s\tremaining: 5.85s\n",
            "168:\tlearn: 0.4683117\ttotal: 1.19s\tremaining: 5.84s\n",
            "169:\tlearn: 0.4673077\ttotal: 1.2s\tremaining: 5.83s\n",
            "170:\tlearn: 0.4659079\ttotal: 1.2s\tremaining: 5.83s\n",
            "171:\tlearn: 0.4643772\ttotal: 1.21s\tremaining: 5.82s\n",
            "172:\tlearn: 0.4624231\ttotal: 1.23s\tremaining: 5.88s\n",
            "173:\tlearn: 0.4612839\ttotal: 1.24s\tremaining: 5.87s\n",
            "174:\tlearn: 0.4595208\ttotal: 1.24s\tremaining: 5.86s\n",
            "175:\tlearn: 0.4587147\ttotal: 1.25s\tremaining: 5.85s\n",
            "176:\tlearn: 0.4577875\ttotal: 1.26s\tremaining: 5.84s\n",
            "177:\tlearn: 0.4559433\ttotal: 1.26s\tremaining: 5.83s\n",
            "178:\tlearn: 0.4545306\ttotal: 1.27s\tremaining: 5.82s\n",
            "179:\tlearn: 0.4536152\ttotal: 1.27s\tremaining: 5.81s\n",
            "180:\tlearn: 0.4521250\ttotal: 1.28s\tremaining: 5.8s\n",
            "181:\tlearn: 0.4507140\ttotal: 1.29s\tremaining: 5.79s\n",
            "182:\tlearn: 0.4494805\ttotal: 1.29s\tremaining: 5.78s\n",
            "183:\tlearn: 0.4477557\ttotal: 1.3s\tremaining: 5.77s\n",
            "184:\tlearn: 0.4460724\ttotal: 1.31s\tremaining: 5.76s\n",
            "185:\tlearn: 0.4441104\ttotal: 1.31s\tremaining: 5.75s\n",
            "186:\tlearn: 0.4429026\ttotal: 1.32s\tremaining: 5.75s\n",
            "187:\tlearn: 0.4413289\ttotal: 1.33s\tremaining: 5.74s\n",
            "188:\tlearn: 0.4402092\ttotal: 1.33s\tremaining: 5.73s\n",
            "189:\tlearn: 0.4388244\ttotal: 1.34s\tremaining: 5.72s\n",
            "190:\tlearn: 0.4377589\ttotal: 1.35s\tremaining: 5.71s\n",
            "191:\tlearn: 0.4359390\ttotal: 1.35s\tremaining: 5.7s\n",
            "192:\tlearn: 0.4345679\ttotal: 1.36s\tremaining: 5.69s\n",
            "193:\tlearn: 0.4334131\ttotal: 1.37s\tremaining: 5.68s\n",
            "194:\tlearn: 0.4325079\ttotal: 1.37s\tremaining: 5.67s\n",
            "195:\tlearn: 0.4305929\ttotal: 1.38s\tremaining: 5.66s\n",
            "196:\tlearn: 0.4291115\ttotal: 1.39s\tremaining: 5.65s\n",
            "197:\tlearn: 0.4281410\ttotal: 1.39s\tremaining: 5.64s\n",
            "198:\tlearn: 0.4276888\ttotal: 1.41s\tremaining: 5.68s\n",
            "199:\tlearn: 0.4258042\ttotal: 1.42s\tremaining: 5.67s\n",
            "200:\tlearn: 0.4246378\ttotal: 1.43s\tremaining: 5.67s\n",
            "201:\tlearn: 0.4235889\ttotal: 1.43s\tremaining: 5.66s\n",
            "202:\tlearn: 0.4223265\ttotal: 1.44s\tremaining: 5.65s\n",
            "203:\tlearn: 0.4213740\ttotal: 1.45s\tremaining: 5.65s\n",
            "204:\tlearn: 0.4206333\ttotal: 1.46s\tremaining: 5.64s\n",
            "205:\tlearn: 0.4192228\ttotal: 1.46s\tremaining: 5.63s\n",
            "206:\tlearn: 0.4184438\ttotal: 1.47s\tremaining: 5.63s\n",
            "207:\tlearn: 0.4166098\ttotal: 1.48s\tremaining: 5.62s\n",
            "208:\tlearn: 0.4153537\ttotal: 1.48s\tremaining: 5.61s\n",
            "209:\tlearn: 0.4141253\ttotal: 1.49s\tremaining: 5.6s\n",
            "210:\tlearn: 0.4129386\ttotal: 1.5s\tremaining: 5.59s\n",
            "211:\tlearn: 0.4119877\ttotal: 1.5s\tremaining: 5.58s\n",
            "212:\tlearn: 0.4105534\ttotal: 1.51s\tremaining: 5.57s\n",
            "213:\tlearn: 0.4091436\ttotal: 1.51s\tremaining: 5.56s\n",
            "214:\tlearn: 0.4077810\ttotal: 1.52s\tremaining: 5.55s\n",
            "215:\tlearn: 0.4066393\ttotal: 1.53s\tremaining: 5.54s\n",
            "216:\tlearn: 0.4054915\ttotal: 1.53s\tremaining: 5.53s\n",
            "217:\tlearn: 0.4040933\ttotal: 1.54s\tremaining: 5.53s\n",
            "218:\tlearn: 0.4027381\ttotal: 1.55s\tremaining: 5.52s\n",
            "219:\tlearn: 0.4015502\ttotal: 1.55s\tremaining: 5.51s\n",
            "220:\tlearn: 0.4007364\ttotal: 1.56s\tremaining: 5.51s\n",
            "221:\tlearn: 0.3997710\ttotal: 1.57s\tremaining: 5.5s\n",
            "222:\tlearn: 0.3983749\ttotal: 1.57s\tremaining: 5.49s\n",
            "223:\tlearn: 0.3965697\ttotal: 1.58s\tremaining: 5.48s\n",
            "224:\tlearn: 0.3956881\ttotal: 1.59s\tremaining: 5.47s\n",
            "225:\tlearn: 0.3942001\ttotal: 1.59s\tremaining: 5.46s\n",
            "226:\tlearn: 0.3932398\ttotal: 1.6s\tremaining: 5.45s\n",
            "227:\tlearn: 0.3924065\ttotal: 1.61s\tremaining: 5.44s\n",
            "228:\tlearn: 0.3918481\ttotal: 1.61s\tremaining: 5.43s\n",
            "229:\tlearn: 0.3904694\ttotal: 1.62s\tremaining: 5.43s\n",
            "230:\tlearn: 0.3892117\ttotal: 1.63s\tremaining: 5.43s\n",
            "231:\tlearn: 0.3882626\ttotal: 1.64s\tremaining: 5.41s\n",
            "232:\tlearn: 0.3870422\ttotal: 1.64s\tremaining: 5.4s\n",
            "233:\tlearn: 0.3861874\ttotal: 1.65s\tremaining: 5.39s\n",
            "234:\tlearn: 0.3848743\ttotal: 1.65s\tremaining: 5.38s\n",
            "235:\tlearn: 0.3832028\ttotal: 1.66s\tremaining: 5.37s\n",
            "236:\tlearn: 0.3824856\ttotal: 1.67s\tremaining: 5.38s\n",
            "237:\tlearn: 0.3809230\ttotal: 1.68s\tremaining: 5.37s\n",
            "238:\tlearn: 0.3798383\ttotal: 1.68s\tremaining: 5.36s\n",
            "239:\tlearn: 0.3789372\ttotal: 1.69s\tremaining: 5.35s\n",
            "240:\tlearn: 0.3775621\ttotal: 1.7s\tremaining: 5.35s\n",
            "241:\tlearn: 0.3769357\ttotal: 1.7s\tremaining: 5.34s\n",
            "242:\tlearn: 0.3757278\ttotal: 1.71s\tremaining: 5.33s\n",
            "243:\tlearn: 0.3740086\ttotal: 1.72s\tremaining: 5.32s\n",
            "244:\tlearn: 0.3733928\ttotal: 1.72s\tremaining: 5.31s\n",
            "245:\tlearn: 0.3722248\ttotal: 1.73s\tremaining: 5.3s\n",
            "246:\tlearn: 0.3711794\ttotal: 1.74s\tremaining: 5.29s\n",
            "247:\tlearn: 0.3702631\ttotal: 1.74s\tremaining: 5.28s\n",
            "248:\tlearn: 0.3693292\ttotal: 1.75s\tremaining: 5.28s\n",
            "249:\tlearn: 0.3683450\ttotal: 1.76s\tremaining: 5.27s\n",
            "250:\tlearn: 0.3674041\ttotal: 1.76s\tremaining: 5.26s\n",
            "251:\tlearn: 0.3665589\ttotal: 1.77s\tremaining: 5.25s\n",
            "252:\tlearn: 0.3656017\ttotal: 1.78s\tremaining: 5.24s\n",
            "253:\tlearn: 0.3648110\ttotal: 1.78s\tremaining: 5.23s\n",
            "254:\tlearn: 0.3637975\ttotal: 1.79s\tremaining: 5.22s\n",
            "255:\tlearn: 0.3630759\ttotal: 1.79s\tremaining: 5.22s\n",
            "256:\tlearn: 0.3619302\ttotal: 1.8s\tremaining: 5.21s\n",
            "257:\tlearn: 0.3613286\ttotal: 1.81s\tremaining: 5.2s\n",
            "258:\tlearn: 0.3607492\ttotal: 1.81s\tremaining: 5.19s\n",
            "259:\tlearn: 0.3597923\ttotal: 1.82s\tremaining: 5.19s\n",
            "260:\tlearn: 0.3588236\ttotal: 1.83s\tremaining: 5.18s\n",
            "261:\tlearn: 0.3579071\ttotal: 1.84s\tremaining: 5.17s\n",
            "262:\tlearn: 0.3565991\ttotal: 1.84s\tremaining: 5.17s\n",
            "263:\tlearn: 0.3555778\ttotal: 1.85s\tremaining: 5.16s\n",
            "264:\tlearn: 0.3548413\ttotal: 1.85s\tremaining: 5.15s\n",
            "265:\tlearn: 0.3536998\ttotal: 1.86s\tremaining: 5.14s\n",
            "266:\tlearn: 0.3526059\ttotal: 1.87s\tremaining: 5.13s\n",
            "267:\tlearn: 0.3514261\ttotal: 1.88s\tremaining: 5.12s\n",
            "268:\tlearn: 0.3503647\ttotal: 1.88s\tremaining: 5.12s\n",
            "269:\tlearn: 0.3495297\ttotal: 1.89s\tremaining: 5.11s\n",
            "270:\tlearn: 0.3488985\ttotal: 1.9s\tremaining: 5.1s\n",
            "271:\tlearn: 0.3473032\ttotal: 1.9s\tremaining: 5.09s\n",
            "272:\tlearn: 0.3466286\ttotal: 1.91s\tremaining: 5.08s\n",
            "273:\tlearn: 0.3458049\ttotal: 1.92s\tremaining: 5.08s\n",
            "274:\tlearn: 0.3448066\ttotal: 1.92s\tremaining: 5.07s\n",
            "275:\tlearn: 0.3438298\ttotal: 1.93s\tremaining: 5.06s\n",
            "276:\tlearn: 0.3426533\ttotal: 1.93s\tremaining: 5.05s\n",
            "277:\tlearn: 0.3415885\ttotal: 1.94s\tremaining: 5.04s\n",
            "278:\tlearn: 0.3402618\ttotal: 1.95s\tremaining: 5.03s\n",
            "279:\tlearn: 0.3394498\ttotal: 1.95s\tremaining: 5.02s\n",
            "280:\tlearn: 0.3383359\ttotal: 1.96s\tremaining: 5.01s\n",
            "281:\tlearn: 0.3370850\ttotal: 1.97s\tremaining: 5s\n",
            "282:\tlearn: 0.3357488\ttotal: 1.97s\tremaining: 4.99s\n",
            "283:\tlearn: 0.3343967\ttotal: 1.98s\tremaining: 4.98s\n",
            "284:\tlearn: 0.3333762\ttotal: 1.98s\tremaining: 4.97s\n",
            "285:\tlearn: 0.3323347\ttotal: 1.99s\tremaining: 4.97s\n",
            "286:\tlearn: 0.3311592\ttotal: 2s\tremaining: 4.96s\n",
            "287:\tlearn: 0.3304568\ttotal: 2s\tremaining: 4.95s\n",
            "288:\tlearn: 0.3296998\ttotal: 2.01s\tremaining: 4.94s\n",
            "289:\tlearn: 0.3291031\ttotal: 2.02s\tremaining: 4.93s\n",
            "290:\tlearn: 0.3283412\ttotal: 2.02s\tremaining: 4.93s\n",
            "291:\tlearn: 0.3279809\ttotal: 2.03s\tremaining: 4.92s\n",
            "292:\tlearn: 0.3276289\ttotal: 2.04s\tremaining: 4.91s\n",
            "293:\tlearn: 0.3270289\ttotal: 2.04s\tremaining: 4.9s\n",
            "294:\tlearn: 0.3265658\ttotal: 2.05s\tremaining: 4.9s\n",
            "295:\tlearn: 0.3260021\ttotal: 2.06s\tremaining: 4.89s\n",
            "296:\tlearn: 0.3247252\ttotal: 2.06s\tremaining: 4.88s\n",
            "297:\tlearn: 0.3234039\ttotal: 2.07s\tremaining: 4.87s\n",
            "298:\tlearn: 0.3228602\ttotal: 2.07s\tremaining: 4.86s\n",
            "299:\tlearn: 0.3220317\ttotal: 2.08s\tremaining: 4.86s\n",
            "300:\tlearn: 0.3214918\ttotal: 2.09s\tremaining: 4.85s\n",
            "301:\tlearn: 0.3206665\ttotal: 2.09s\tremaining: 4.84s\n",
            "302:\tlearn: 0.3197809\ttotal: 2.1s\tremaining: 4.83s\n",
            "303:\tlearn: 0.3189430\ttotal: 2.11s\tremaining: 4.82s\n",
            "304:\tlearn: 0.3182569\ttotal: 2.11s\tremaining: 4.82s\n",
            "305:\tlearn: 0.3175621\ttotal: 2.12s\tremaining: 4.81s\n",
            "306:\tlearn: 0.3170881\ttotal: 2.13s\tremaining: 4.8s\n",
            "307:\tlearn: 0.3163356\ttotal: 2.13s\tremaining: 4.79s\n",
            "308:\tlearn: 0.3153675\ttotal: 2.14s\tremaining: 4.78s\n",
            "309:\tlearn: 0.3144769\ttotal: 2.14s\tremaining: 4.77s\n",
            "310:\tlearn: 0.3137453\ttotal: 2.15s\tremaining: 4.76s\n",
            "311:\tlearn: 0.3129454\ttotal: 2.16s\tremaining: 4.76s\n",
            "312:\tlearn: 0.3123779\ttotal: 2.16s\tremaining: 4.75s\n",
            "313:\tlearn: 0.3118760\ttotal: 2.17s\tremaining: 4.74s\n",
            "314:\tlearn: 0.3114395\ttotal: 2.18s\tremaining: 4.73s\n",
            "315:\tlearn: 0.3104042\ttotal: 2.18s\tremaining: 4.72s\n",
            "316:\tlearn: 0.3094961\ttotal: 2.19s\tremaining: 4.72s\n",
            "317:\tlearn: 0.3085328\ttotal: 2.2s\tremaining: 4.71s\n",
            "318:\tlearn: 0.3076840\ttotal: 2.2s\tremaining: 4.71s\n",
            "319:\tlearn: 0.3067870\ttotal: 2.22s\tremaining: 4.71s\n",
            "320:\tlearn: 0.3063823\ttotal: 2.22s\tremaining: 4.7s\n",
            "321:\tlearn: 0.3054618\ttotal: 2.23s\tremaining: 4.7s\n",
            "322:\tlearn: 0.3041939\ttotal: 2.24s\tremaining: 4.69s\n",
            "323:\tlearn: 0.3032371\ttotal: 2.24s\tremaining: 4.68s\n",
            "324:\tlearn: 0.3025224\ttotal: 2.25s\tremaining: 4.67s\n",
            "325:\tlearn: 0.3017246\ttotal: 2.26s\tremaining: 4.67s\n",
            "326:\tlearn: 0.3008439\ttotal: 2.26s\tremaining: 4.66s\n",
            "327:\tlearn: 0.3000990\ttotal: 2.27s\tremaining: 4.65s\n",
            "328:\tlearn: 0.2993320\ttotal: 2.28s\tremaining: 4.65s\n",
            "329:\tlearn: 0.2987084\ttotal: 2.28s\tremaining: 4.64s\n",
            "330:\tlearn: 0.2981273\ttotal: 2.29s\tremaining: 4.63s\n",
            "331:\tlearn: 0.2971141\ttotal: 2.3s\tremaining: 4.62s\n",
            "332:\tlearn: 0.2963290\ttotal: 2.3s\tremaining: 4.62s\n",
            "333:\tlearn: 0.2953911\ttotal: 2.31s\tremaining: 4.61s\n",
            "334:\tlearn: 0.2948501\ttotal: 2.32s\tremaining: 4.6s\n",
            "335:\tlearn: 0.2938959\ttotal: 2.32s\tremaining: 4.59s\n",
            "336:\tlearn: 0.2932524\ttotal: 2.33s\tremaining: 4.58s\n",
            "337:\tlearn: 0.2924913\ttotal: 2.34s\tremaining: 4.58s\n",
            "338:\tlearn: 0.2917152\ttotal: 2.34s\tremaining: 4.57s\n",
            "339:\tlearn: 0.2913399\ttotal: 2.35s\tremaining: 4.56s\n",
            "340:\tlearn: 0.2907620\ttotal: 2.35s\tremaining: 4.55s\n",
            "341:\tlearn: 0.2900196\ttotal: 2.36s\tremaining: 4.54s\n",
            "342:\tlearn: 0.2889976\ttotal: 2.37s\tremaining: 4.54s\n",
            "343:\tlearn: 0.2883841\ttotal: 2.39s\tremaining: 4.55s\n",
            "344:\tlearn: 0.2874529\ttotal: 2.39s\tremaining: 4.54s\n",
            "345:\tlearn: 0.2867372\ttotal: 2.4s\tremaining: 4.54s\n",
            "346:\tlearn: 0.2859561\ttotal: 2.41s\tremaining: 4.53s\n",
            "347:\tlearn: 0.2853126\ttotal: 2.42s\tremaining: 4.53s\n",
            "348:\tlearn: 0.2844569\ttotal: 2.43s\tremaining: 4.53s\n",
            "349:\tlearn: 0.2837721\ttotal: 2.43s\tremaining: 4.52s\n",
            "350:\tlearn: 0.2828820\ttotal: 2.44s\tremaining: 4.52s\n",
            "351:\tlearn: 0.2823393\ttotal: 2.45s\tremaining: 4.51s\n",
            "352:\tlearn: 0.2816757\ttotal: 2.46s\tremaining: 4.5s\n",
            "353:\tlearn: 0.2810638\ttotal: 2.46s\tremaining: 4.49s\n",
            "354:\tlearn: 0.2802902\ttotal: 2.47s\tremaining: 4.49s\n",
            "355:\tlearn: 0.2800280\ttotal: 2.48s\tremaining: 4.48s\n",
            "356:\tlearn: 0.2795441\ttotal: 2.48s\tremaining: 4.47s\n",
            "357:\tlearn: 0.2789217\ttotal: 2.49s\tremaining: 4.46s\n",
            "358:\tlearn: 0.2778335\ttotal: 2.5s\tremaining: 4.46s\n",
            "359:\tlearn: 0.2771616\ttotal: 2.5s\tremaining: 4.45s\n",
            "360:\tlearn: 0.2764445\ttotal: 2.51s\tremaining: 4.44s\n",
            "361:\tlearn: 0.2756801\ttotal: 2.52s\tremaining: 4.43s\n",
            "362:\tlearn: 0.2745271\ttotal: 2.52s\tremaining: 4.43s\n",
            "363:\tlearn: 0.2737354\ttotal: 2.53s\tremaining: 4.42s\n",
            "364:\tlearn: 0.2727628\ttotal: 2.54s\tremaining: 4.41s\n",
            "365:\tlearn: 0.2721819\ttotal: 2.54s\tremaining: 4.4s\n",
            "366:\tlearn: 0.2713988\ttotal: 2.55s\tremaining: 4.39s\n",
            "367:\tlearn: 0.2706723\ttotal: 2.56s\tremaining: 4.39s\n",
            "368:\tlearn: 0.2698710\ttotal: 2.56s\tremaining: 4.38s\n",
            "369:\tlearn: 0.2694240\ttotal: 2.57s\tremaining: 4.37s\n",
            "370:\tlearn: 0.2688818\ttotal: 2.57s\tremaining: 4.37s\n",
            "371:\tlearn: 0.2682387\ttotal: 2.58s\tremaining: 4.36s\n",
            "372:\tlearn: 0.2674287\ttotal: 2.59s\tremaining: 4.35s\n",
            "373:\tlearn: 0.2668155\ttotal: 2.59s\tremaining: 4.34s\n",
            "374:\tlearn: 0.2661251\ttotal: 2.6s\tremaining: 4.33s\n",
            "375:\tlearn: 0.2656586\ttotal: 2.61s\tremaining: 4.33s\n",
            "376:\tlearn: 0.2651743\ttotal: 2.61s\tremaining: 4.32s\n",
            "377:\tlearn: 0.2645995\ttotal: 2.62s\tremaining: 4.32s\n",
            "378:\tlearn: 0.2636240\ttotal: 2.63s\tremaining: 4.31s\n",
            "379:\tlearn: 0.2627926\ttotal: 2.63s\tremaining: 4.3s\n",
            "380:\tlearn: 0.2620772\ttotal: 2.64s\tremaining: 4.29s\n",
            "381:\tlearn: 0.2611998\ttotal: 2.65s\tremaining: 4.28s\n",
            "382:\tlearn: 0.2608453\ttotal: 2.65s\tremaining: 4.28s\n",
            "383:\tlearn: 0.2601880\ttotal: 2.66s\tremaining: 4.27s\n",
            "384:\tlearn: 0.2595453\ttotal: 2.67s\tremaining: 4.26s\n",
            "385:\tlearn: 0.2589488\ttotal: 2.67s\tremaining: 4.25s\n",
            "386:\tlearn: 0.2585436\ttotal: 2.68s\tremaining: 4.25s\n",
            "387:\tlearn: 0.2579754\ttotal: 2.69s\tremaining: 4.24s\n",
            "388:\tlearn: 0.2573221\ttotal: 2.69s\tremaining: 4.23s\n",
            "389:\tlearn: 0.2569595\ttotal: 2.7s\tremaining: 4.22s\n",
            "390:\tlearn: 0.2562735\ttotal: 2.71s\tremaining: 4.21s\n",
            "391:\tlearn: 0.2556243\ttotal: 2.71s\tremaining: 4.21s\n",
            "392:\tlearn: 0.2550256\ttotal: 2.72s\tremaining: 4.2s\n",
            "393:\tlearn: 0.2545083\ttotal: 2.73s\tremaining: 4.19s\n",
            "394:\tlearn: 0.2537407\ttotal: 2.73s\tremaining: 4.18s\n",
            "395:\tlearn: 0.2534277\ttotal: 2.74s\tremaining: 4.17s\n",
            "396:\tlearn: 0.2527802\ttotal: 2.74s\tremaining: 4.17s\n",
            "397:\tlearn: 0.2518174\ttotal: 2.75s\tremaining: 4.16s\n",
            "398:\tlearn: 0.2511354\ttotal: 2.76s\tremaining: 4.15s\n",
            "399:\tlearn: 0.2507369\ttotal: 2.76s\tremaining: 4.15s\n",
            "400:\tlearn: 0.2503113\ttotal: 2.77s\tremaining: 4.14s\n",
            "401:\tlearn: 0.2497770\ttotal: 2.78s\tremaining: 4.13s\n",
            "402:\tlearn: 0.2493393\ttotal: 2.78s\tremaining: 4.12s\n",
            "403:\tlearn: 0.2488311\ttotal: 2.79s\tremaining: 4.12s\n",
            "404:\tlearn: 0.2484287\ttotal: 2.8s\tremaining: 4.11s\n",
            "405:\tlearn: 0.2478690\ttotal: 2.8s\tremaining: 4.1s\n",
            "406:\tlearn: 0.2474722\ttotal: 2.81s\tremaining: 4.09s\n",
            "407:\tlearn: 0.2469112\ttotal: 2.81s\tremaining: 4.08s\n",
            "408:\tlearn: 0.2464218\ttotal: 2.83s\tremaining: 4.08s\n",
            "409:\tlearn: 0.2456843\ttotal: 2.84s\tremaining: 4.08s\n",
            "410:\tlearn: 0.2451264\ttotal: 2.84s\tremaining: 4.08s\n",
            "411:\tlearn: 0.2449318\ttotal: 2.85s\tremaining: 4.07s\n",
            "412:\tlearn: 0.2445708\ttotal: 2.86s\tremaining: 4.06s\n",
            "413:\tlearn: 0.2438466\ttotal: 2.86s\tremaining: 4.05s\n",
            "414:\tlearn: 0.2432647\ttotal: 2.87s\tremaining: 4.04s\n",
            "415:\tlearn: 0.2427635\ttotal: 2.87s\tremaining: 4.04s\n",
            "416:\tlearn: 0.2418558\ttotal: 2.88s\tremaining: 4.03s\n",
            "417:\tlearn: 0.2413618\ttotal: 2.89s\tremaining: 4.02s\n",
            "418:\tlearn: 0.2408824\ttotal: 2.89s\tremaining: 4.01s\n",
            "419:\tlearn: 0.2404841\ttotal: 2.9s\tremaining: 4.01s\n",
            "420:\tlearn: 0.2401895\ttotal: 2.91s\tremaining: 4s\n",
            "421:\tlearn: 0.2396323\ttotal: 2.91s\tremaining: 3.99s\n",
            "422:\tlearn: 0.2390469\ttotal: 2.92s\tremaining: 3.98s\n",
            "423:\tlearn: 0.2384830\ttotal: 2.93s\tremaining: 3.98s\n",
            "424:\tlearn: 0.2381552\ttotal: 2.93s\tremaining: 3.97s\n",
            "425:\tlearn: 0.2377508\ttotal: 2.94s\tremaining: 3.96s\n",
            "426:\tlearn: 0.2371496\ttotal: 2.94s\tremaining: 3.95s\n",
            "427:\tlearn: 0.2364491\ttotal: 2.95s\tremaining: 3.94s\n",
            "428:\tlearn: 0.2359053\ttotal: 2.96s\tremaining: 3.94s\n",
            "429:\tlearn: 0.2353647\ttotal: 2.96s\tremaining: 3.93s\n",
            "430:\tlearn: 0.2346132\ttotal: 2.97s\tremaining: 3.92s\n",
            "431:\tlearn: 0.2340063\ttotal: 2.98s\tremaining: 3.91s\n",
            "432:\tlearn: 0.2335072\ttotal: 2.98s\tremaining: 3.91s\n",
            "433:\tlearn: 0.2330388\ttotal: 3.01s\tremaining: 3.93s\n",
            "434:\tlearn: 0.2323445\ttotal: 3.02s\tremaining: 3.92s\n",
            "435:\tlearn: 0.2320156\ttotal: 3.03s\tremaining: 3.92s\n",
            "436:\tlearn: 0.2316773\ttotal: 3.04s\tremaining: 3.91s\n",
            "437:\tlearn: 0.2308816\ttotal: 3.04s\tremaining: 3.9s\n",
            "438:\tlearn: 0.2302144\ttotal: 3.05s\tremaining: 3.9s\n",
            "439:\tlearn: 0.2297631\ttotal: 3.06s\tremaining: 3.89s\n",
            "440:\tlearn: 0.2292060\ttotal: 3.06s\tremaining: 3.89s\n",
            "441:\tlearn: 0.2287709\ttotal: 3.07s\tremaining: 3.88s\n",
            "442:\tlearn: 0.2282702\ttotal: 3.08s\tremaining: 3.88s\n",
            "443:\tlearn: 0.2277466\ttotal: 3.09s\tremaining: 3.87s\n",
            "444:\tlearn: 0.2271806\ttotal: 3.1s\tremaining: 3.86s\n",
            "445:\tlearn: 0.2266894\ttotal: 3.1s\tremaining: 3.85s\n",
            "446:\tlearn: 0.2260841\ttotal: 3.11s\tremaining: 3.84s\n",
            "447:\tlearn: 0.2258184\ttotal: 3.11s\tremaining: 3.84s\n",
            "448:\tlearn: 0.2253340\ttotal: 3.12s\tremaining: 3.83s\n",
            "449:\tlearn: 0.2248306\ttotal: 3.13s\tremaining: 3.82s\n",
            "450:\tlearn: 0.2242292\ttotal: 3.13s\tremaining: 3.81s\n",
            "451:\tlearn: 0.2238114\ttotal: 3.14s\tremaining: 3.8s\n",
            "452:\tlearn: 0.2233565\ttotal: 3.14s\tremaining: 3.79s\n",
            "453:\tlearn: 0.2229697\ttotal: 3.15s\tremaining: 3.79s\n",
            "454:\tlearn: 0.2224375\ttotal: 3.16s\tremaining: 3.78s\n",
            "455:\tlearn: 0.2221966\ttotal: 3.16s\tremaining: 3.77s\n",
            "456:\tlearn: 0.2215290\ttotal: 3.17s\tremaining: 3.77s\n",
            "457:\tlearn: 0.2209945\ttotal: 3.17s\tremaining: 3.76s\n",
            "458:\tlearn: 0.2203536\ttotal: 3.18s\tremaining: 3.75s\n",
            "459:\tlearn: 0.2196914\ttotal: 3.19s\tremaining: 3.74s\n",
            "460:\tlearn: 0.2190230\ttotal: 3.19s\tremaining: 3.73s\n",
            "461:\tlearn: 0.2185930\ttotal: 3.2s\tremaining: 3.73s\n",
            "462:\tlearn: 0.2182014\ttotal: 3.21s\tremaining: 3.72s\n",
            "463:\tlearn: 0.2179129\ttotal: 3.21s\tremaining: 3.71s\n",
            "464:\tlearn: 0.2175938\ttotal: 3.22s\tremaining: 3.71s\n",
            "465:\tlearn: 0.2170889\ttotal: 3.23s\tremaining: 3.7s\n",
            "466:\tlearn: 0.2167448\ttotal: 3.23s\tremaining: 3.69s\n",
            "467:\tlearn: 0.2164013\ttotal: 3.24s\tremaining: 3.69s\n",
            "468:\tlearn: 0.2160686\ttotal: 3.25s\tremaining: 3.68s\n",
            "469:\tlearn: 0.2155222\ttotal: 3.25s\tremaining: 3.67s\n",
            "470:\tlearn: 0.2150039\ttotal: 3.26s\tremaining: 3.66s\n",
            "471:\tlearn: 0.2144066\ttotal: 3.27s\tremaining: 3.65s\n",
            "472:\tlearn: 0.2136471\ttotal: 3.27s\tremaining: 3.65s\n",
            "473:\tlearn: 0.2132704\ttotal: 3.28s\tremaining: 3.64s\n",
            "474:\tlearn: 0.2128439\ttotal: 3.29s\tremaining: 3.63s\n",
            "475:\tlearn: 0.2123716\ttotal: 3.29s\tremaining: 3.63s\n",
            "476:\tlearn: 0.2118653\ttotal: 3.3s\tremaining: 3.62s\n",
            "477:\tlearn: 0.2114553\ttotal: 3.31s\tremaining: 3.61s\n",
            "478:\tlearn: 0.2109467\ttotal: 3.31s\tremaining: 3.6s\n",
            "479:\tlearn: 0.2106828\ttotal: 3.32s\tremaining: 3.6s\n",
            "480:\tlearn: 0.2102400\ttotal: 3.33s\tremaining: 3.59s\n",
            "481:\tlearn: 0.2095840\ttotal: 3.34s\tremaining: 3.59s\n",
            "482:\tlearn: 0.2092053\ttotal: 3.34s\tremaining: 3.58s\n",
            "483:\tlearn: 0.2087866\ttotal: 3.35s\tremaining: 3.57s\n",
            "484:\tlearn: 0.2084990\ttotal: 3.36s\tremaining: 3.57s\n",
            "485:\tlearn: 0.2076862\ttotal: 3.37s\tremaining: 3.56s\n",
            "486:\tlearn: 0.2072561\ttotal: 3.37s\tremaining: 3.55s\n",
            "487:\tlearn: 0.2068368\ttotal: 3.38s\tremaining: 3.54s\n",
            "488:\tlearn: 0.2064829\ttotal: 3.38s\tremaining: 3.54s\n",
            "489:\tlearn: 0.2061899\ttotal: 3.39s\tremaining: 3.53s\n",
            "490:\tlearn: 0.2059021\ttotal: 3.4s\tremaining: 3.52s\n",
            "491:\tlearn: 0.2055634\ttotal: 3.4s\tremaining: 3.52s\n",
            "492:\tlearn: 0.2053503\ttotal: 3.41s\tremaining: 3.51s\n",
            "493:\tlearn: 0.2051194\ttotal: 3.43s\tremaining: 3.51s\n",
            "494:\tlearn: 0.2047209\ttotal: 3.43s\tremaining: 3.5s\n",
            "495:\tlearn: 0.2039509\ttotal: 3.44s\tremaining: 3.5s\n",
            "496:\tlearn: 0.2035307\ttotal: 3.45s\tremaining: 3.49s\n",
            "497:\tlearn: 0.2031960\ttotal: 3.45s\tremaining: 3.48s\n",
            "498:\tlearn: 0.2026636\ttotal: 3.46s\tremaining: 3.47s\n",
            "499:\tlearn: 0.2021213\ttotal: 3.47s\tremaining: 3.47s\n",
            "500:\tlearn: 0.2015525\ttotal: 3.47s\tremaining: 3.46s\n",
            "501:\tlearn: 0.2011556\ttotal: 3.48s\tremaining: 3.45s\n",
            "502:\tlearn: 0.2009272\ttotal: 3.49s\tremaining: 3.45s\n",
            "503:\tlearn: 0.2005744\ttotal: 3.49s\tremaining: 3.44s\n",
            "504:\tlearn: 0.2000379\ttotal: 3.5s\tremaining: 3.43s\n",
            "505:\tlearn: 0.1997402\ttotal: 3.51s\tremaining: 3.42s\n",
            "506:\tlearn: 0.1992577\ttotal: 3.51s\tremaining: 3.42s\n",
            "507:\tlearn: 0.1987390\ttotal: 3.52s\tremaining: 3.41s\n",
            "508:\tlearn: 0.1981803\ttotal: 3.52s\tremaining: 3.4s\n",
            "509:\tlearn: 0.1978974\ttotal: 3.53s\tremaining: 3.39s\n",
            "510:\tlearn: 0.1975384\ttotal: 3.54s\tremaining: 3.39s\n",
            "511:\tlearn: 0.1971774\ttotal: 3.54s\tremaining: 3.38s\n",
            "512:\tlearn: 0.1969389\ttotal: 3.55s\tremaining: 3.37s\n",
            "513:\tlearn: 0.1965366\ttotal: 3.56s\tremaining: 3.37s\n",
            "514:\tlearn: 0.1962077\ttotal: 3.57s\tremaining: 3.36s\n",
            "515:\tlearn: 0.1956967\ttotal: 3.57s\tremaining: 3.35s\n",
            "516:\tlearn: 0.1952089\ttotal: 3.58s\tremaining: 3.35s\n",
            "517:\tlearn: 0.1948586\ttotal: 3.59s\tremaining: 3.34s\n",
            "518:\tlearn: 0.1945167\ttotal: 3.59s\tremaining: 3.33s\n",
            "519:\tlearn: 0.1941373\ttotal: 3.6s\tremaining: 3.32s\n",
            "520:\tlearn: 0.1937394\ttotal: 3.61s\tremaining: 3.31s\n",
            "521:\tlearn: 0.1934320\ttotal: 3.61s\tremaining: 3.31s\n",
            "522:\tlearn: 0.1929637\ttotal: 3.62s\tremaining: 3.3s\n",
            "523:\tlearn: 0.1927670\ttotal: 3.63s\tremaining: 3.3s\n",
            "524:\tlearn: 0.1924863\ttotal: 3.64s\tremaining: 3.29s\n",
            "525:\tlearn: 0.1920903\ttotal: 3.65s\tremaining: 3.29s\n",
            "526:\tlearn: 0.1918061\ttotal: 3.65s\tremaining: 3.28s\n",
            "527:\tlearn: 0.1915766\ttotal: 3.66s\tremaining: 3.27s\n",
            "528:\tlearn: 0.1911426\ttotal: 3.67s\tremaining: 3.26s\n",
            "529:\tlearn: 0.1908762\ttotal: 3.67s\tremaining: 3.26s\n",
            "530:\tlearn: 0.1905260\ttotal: 3.68s\tremaining: 3.25s\n",
            "531:\tlearn: 0.1901766\ttotal: 3.69s\tremaining: 3.24s\n",
            "532:\tlearn: 0.1897185\ttotal: 3.69s\tremaining: 3.23s\n",
            "533:\tlearn: 0.1894701\ttotal: 3.7s\tremaining: 3.23s\n",
            "534:\tlearn: 0.1891420\ttotal: 3.7s\tremaining: 3.22s\n",
            "535:\tlearn: 0.1887189\ttotal: 3.71s\tremaining: 3.21s\n",
            "536:\tlearn: 0.1884194\ttotal: 3.71s\tremaining: 3.2s\n",
            "537:\tlearn: 0.1882119\ttotal: 3.72s\tremaining: 3.19s\n",
            "538:\tlearn: 0.1878537\ttotal: 3.73s\tremaining: 3.19s\n",
            "539:\tlearn: 0.1875084\ttotal: 3.73s\tremaining: 3.18s\n",
            "540:\tlearn: 0.1872884\ttotal: 3.74s\tremaining: 3.17s\n",
            "541:\tlearn: 0.1871122\ttotal: 3.75s\tremaining: 3.17s\n",
            "542:\tlearn: 0.1869442\ttotal: 3.75s\tremaining: 3.16s\n",
            "543:\tlearn: 0.1865299\ttotal: 3.76s\tremaining: 3.15s\n",
            "544:\tlearn: 0.1861721\ttotal: 3.77s\tremaining: 3.15s\n",
            "545:\tlearn: 0.1860139\ttotal: 3.77s\tremaining: 3.14s\n",
            "546:\tlearn: 0.1857417\ttotal: 3.78s\tremaining: 3.13s\n",
            "547:\tlearn: 0.1852203\ttotal: 3.79s\tremaining: 3.12s\n",
            "548:\tlearn: 0.1850225\ttotal: 3.79s\tremaining: 3.12s\n",
            "549:\tlearn: 0.1848288\ttotal: 3.8s\tremaining: 3.11s\n",
            "550:\tlearn: 0.1844577\ttotal: 3.81s\tremaining: 3.1s\n",
            "551:\tlearn: 0.1840362\ttotal: 3.81s\tremaining: 3.1s\n",
            "552:\tlearn: 0.1836469\ttotal: 3.82s\tremaining: 3.09s\n",
            "553:\tlearn: 0.1833893\ttotal: 3.83s\tremaining: 3.08s\n",
            "554:\tlearn: 0.1828852\ttotal: 3.84s\tremaining: 3.08s\n",
            "555:\tlearn: 0.1824665\ttotal: 3.84s\tremaining: 3.07s\n",
            "556:\tlearn: 0.1819282\ttotal: 3.85s\tremaining: 3.06s\n",
            "557:\tlearn: 0.1815238\ttotal: 3.86s\tremaining: 3.06s\n",
            "558:\tlearn: 0.1811572\ttotal: 3.87s\tremaining: 3.05s\n",
            "559:\tlearn: 0.1808615\ttotal: 3.87s\tremaining: 3.04s\n",
            "560:\tlearn: 0.1805524\ttotal: 3.88s\tremaining: 3.04s\n",
            "561:\tlearn: 0.1802963\ttotal: 3.89s\tremaining: 3.03s\n",
            "562:\tlearn: 0.1799794\ttotal: 3.9s\tremaining: 3.02s\n",
            "563:\tlearn: 0.1796030\ttotal: 3.9s\tremaining: 3.02s\n",
            "564:\tlearn: 0.1794291\ttotal: 3.91s\tremaining: 3.01s\n",
            "565:\tlearn: 0.1789930\ttotal: 3.92s\tremaining: 3s\n",
            "566:\tlearn: 0.1787012\ttotal: 3.92s\tremaining: 3s\n",
            "567:\tlearn: 0.1782474\ttotal: 3.93s\tremaining: 2.99s\n",
            "568:\tlearn: 0.1779572\ttotal: 3.94s\tremaining: 2.98s\n",
            "569:\tlearn: 0.1776315\ttotal: 3.94s\tremaining: 2.97s\n",
            "570:\tlearn: 0.1772441\ttotal: 3.95s\tremaining: 2.97s\n",
            "571:\tlearn: 0.1769406\ttotal: 3.96s\tremaining: 2.96s\n",
            "572:\tlearn: 0.1765567\ttotal: 3.96s\tremaining: 2.95s\n",
            "573:\tlearn: 0.1764313\ttotal: 3.97s\tremaining: 2.94s\n",
            "574:\tlearn: 0.1759036\ttotal: 3.98s\tremaining: 2.94s\n",
            "575:\tlearn: 0.1754972\ttotal: 3.98s\tremaining: 2.93s\n",
            "576:\tlearn: 0.1752364\ttotal: 3.99s\tremaining: 2.92s\n",
            "577:\tlearn: 0.1749955\ttotal: 3.99s\tremaining: 2.92s\n",
            "578:\tlearn: 0.1745385\ttotal: 4s\tremaining: 2.91s\n",
            "579:\tlearn: 0.1742490\ttotal: 4.01s\tremaining: 2.91s\n",
            "580:\tlearn: 0.1737616\ttotal: 4.02s\tremaining: 2.9s\n",
            "581:\tlearn: 0.1736337\ttotal: 4.03s\tremaining: 2.89s\n",
            "582:\tlearn: 0.1733584\ttotal: 4.04s\tremaining: 2.89s\n",
            "583:\tlearn: 0.1728246\ttotal: 4.04s\tremaining: 2.88s\n",
            "584:\tlearn: 0.1724711\ttotal: 4.05s\tremaining: 2.87s\n",
            "585:\tlearn: 0.1720719\ttotal: 4.06s\tremaining: 2.87s\n",
            "586:\tlearn: 0.1718258\ttotal: 4.07s\tremaining: 2.86s\n",
            "587:\tlearn: 0.1714793\ttotal: 4.07s\tremaining: 2.85s\n",
            "588:\tlearn: 0.1712306\ttotal: 4.08s\tremaining: 2.85s\n",
            "589:\tlearn: 0.1709170\ttotal: 4.09s\tremaining: 2.84s\n",
            "590:\tlearn: 0.1706440\ttotal: 4.09s\tremaining: 2.83s\n",
            "591:\tlearn: 0.1701926\ttotal: 4.1s\tremaining: 2.83s\n",
            "592:\tlearn: 0.1698911\ttotal: 4.11s\tremaining: 2.82s\n",
            "593:\tlearn: 0.1696370\ttotal: 4.11s\tremaining: 2.81s\n",
            "594:\tlearn: 0.1693552\ttotal: 4.12s\tremaining: 2.8s\n",
            "595:\tlearn: 0.1690922\ttotal: 4.12s\tremaining: 2.79s\n",
            "596:\tlearn: 0.1687338\ttotal: 4.13s\tremaining: 2.79s\n",
            "597:\tlearn: 0.1684987\ttotal: 4.13s\tremaining: 2.78s\n",
            "598:\tlearn: 0.1681930\ttotal: 4.14s\tremaining: 2.77s\n",
            "599:\tlearn: 0.1679420\ttotal: 4.15s\tremaining: 2.77s\n",
            "600:\tlearn: 0.1677625\ttotal: 4.16s\tremaining: 2.76s\n",
            "601:\tlearn: 0.1672071\ttotal: 4.16s\tremaining: 2.75s\n",
            "602:\tlearn: 0.1669934\ttotal: 4.17s\tremaining: 2.74s\n",
            "603:\tlearn: 0.1667529\ttotal: 4.17s\tremaining: 2.74s\n",
            "604:\tlearn: 0.1663647\ttotal: 4.18s\tremaining: 2.73s\n",
            "605:\tlearn: 0.1659952\ttotal: 4.19s\tremaining: 2.72s\n",
            "606:\tlearn: 0.1657027\ttotal: 4.19s\tremaining: 2.71s\n",
            "607:\tlearn: 0.1653451\ttotal: 4.2s\tremaining: 2.71s\n",
            "608:\tlearn: 0.1652007\ttotal: 4.21s\tremaining: 2.7s\n",
            "609:\tlearn: 0.1648855\ttotal: 4.21s\tremaining: 2.69s\n",
            "610:\tlearn: 0.1645508\ttotal: 4.22s\tremaining: 2.69s\n",
            "611:\tlearn: 0.1642709\ttotal: 4.23s\tremaining: 2.68s\n",
            "612:\tlearn: 0.1639182\ttotal: 4.24s\tremaining: 2.68s\n",
            "613:\tlearn: 0.1636882\ttotal: 4.25s\tremaining: 2.67s\n",
            "614:\tlearn: 0.1633234\ttotal: 4.25s\tremaining: 2.66s\n",
            "615:\tlearn: 0.1631352\ttotal: 4.26s\tremaining: 2.66s\n",
            "616:\tlearn: 0.1629302\ttotal: 4.27s\tremaining: 2.65s\n",
            "617:\tlearn: 0.1627079\ttotal: 4.27s\tremaining: 2.64s\n",
            "618:\tlearn: 0.1624461\ttotal: 4.28s\tremaining: 2.63s\n",
            "619:\tlearn: 0.1621988\ttotal: 4.29s\tremaining: 2.63s\n",
            "620:\tlearn: 0.1618725\ttotal: 4.29s\tremaining: 2.62s\n",
            "621:\tlearn: 0.1614812\ttotal: 4.3s\tremaining: 2.61s\n",
            "622:\tlearn: 0.1611768\ttotal: 4.31s\tremaining: 2.61s\n",
            "623:\tlearn: 0.1610215\ttotal: 4.31s\tremaining: 2.6s\n",
            "624:\tlearn: 0.1607159\ttotal: 4.32s\tremaining: 2.59s\n",
            "625:\tlearn: 0.1604263\ttotal: 4.33s\tremaining: 2.58s\n",
            "626:\tlearn: 0.1601461\ttotal: 4.33s\tremaining: 2.58s\n",
            "627:\tlearn: 0.1598493\ttotal: 4.34s\tremaining: 2.57s\n",
            "628:\tlearn: 0.1596560\ttotal: 4.35s\tremaining: 2.56s\n",
            "629:\tlearn: 0.1593089\ttotal: 4.36s\tremaining: 2.56s\n",
            "630:\tlearn: 0.1591463\ttotal: 4.36s\tremaining: 2.55s\n",
            "631:\tlearn: 0.1588999\ttotal: 4.37s\tremaining: 2.54s\n",
            "632:\tlearn: 0.1586080\ttotal: 4.38s\tremaining: 2.54s\n",
            "633:\tlearn: 0.1584439\ttotal: 4.38s\tremaining: 2.53s\n",
            "634:\tlearn: 0.1581210\ttotal: 4.39s\tremaining: 2.52s\n",
            "635:\tlearn: 0.1578204\ttotal: 4.4s\tremaining: 2.52s\n",
            "636:\tlearn: 0.1575948\ttotal: 4.4s\tremaining: 2.51s\n",
            "637:\tlearn: 0.1574326\ttotal: 4.41s\tremaining: 2.5s\n",
            "638:\tlearn: 0.1570165\ttotal: 4.42s\tremaining: 2.49s\n",
            "639:\tlearn: 0.1567489\ttotal: 4.42s\tremaining: 2.49s\n",
            "640:\tlearn: 0.1565036\ttotal: 4.43s\tremaining: 2.48s\n",
            "641:\tlearn: 0.1563391\ttotal: 4.44s\tremaining: 2.48s\n",
            "642:\tlearn: 0.1561040\ttotal: 4.45s\tremaining: 2.47s\n",
            "643:\tlearn: 0.1558631\ttotal: 4.45s\tremaining: 2.46s\n",
            "644:\tlearn: 0.1555182\ttotal: 4.46s\tremaining: 2.45s\n",
            "645:\tlearn: 0.1554131\ttotal: 4.47s\tremaining: 2.45s\n",
            "646:\tlearn: 0.1550180\ttotal: 4.48s\tremaining: 2.44s\n",
            "647:\tlearn: 0.1547633\ttotal: 4.48s\tremaining: 2.44s\n",
            "648:\tlearn: 0.1544654\ttotal: 4.49s\tremaining: 2.43s\n",
            "649:\tlearn: 0.1541043\ttotal: 4.5s\tremaining: 2.42s\n",
            "650:\tlearn: 0.1537553\ttotal: 4.5s\tremaining: 2.41s\n",
            "651:\tlearn: 0.1535395\ttotal: 4.51s\tremaining: 2.41s\n",
            "652:\tlearn: 0.1531339\ttotal: 4.52s\tremaining: 2.4s\n",
            "653:\tlearn: 0.1528958\ttotal: 4.52s\tremaining: 2.39s\n",
            "654:\tlearn: 0.1526912\ttotal: 4.53s\tremaining: 2.38s\n",
            "655:\tlearn: 0.1523134\ttotal: 4.53s\tremaining: 2.38s\n",
            "656:\tlearn: 0.1521775\ttotal: 4.54s\tremaining: 2.37s\n",
            "657:\tlearn: 0.1519461\ttotal: 4.55s\tremaining: 2.36s\n",
            "658:\tlearn: 0.1514930\ttotal: 4.55s\tremaining: 2.36s\n",
            "659:\tlearn: 0.1511916\ttotal: 4.56s\tremaining: 2.35s\n",
            "660:\tlearn: 0.1507778\ttotal: 4.57s\tremaining: 2.34s\n",
            "661:\tlearn: 0.1505618\ttotal: 4.57s\tremaining: 2.33s\n",
            "662:\tlearn: 0.1503418\ttotal: 4.58s\tremaining: 2.33s\n",
            "663:\tlearn: 0.1500264\ttotal: 4.58s\tremaining: 2.32s\n",
            "664:\tlearn: 0.1497040\ttotal: 4.59s\tremaining: 2.31s\n",
            "665:\tlearn: 0.1492882\ttotal: 4.6s\tremaining: 2.31s\n",
            "666:\tlearn: 0.1490234\ttotal: 4.6s\tremaining: 2.3s\n",
            "667:\tlearn: 0.1487013\ttotal: 4.61s\tremaining: 2.29s\n",
            "668:\tlearn: 0.1485404\ttotal: 4.62s\tremaining: 2.28s\n",
            "669:\tlearn: 0.1483326\ttotal: 4.62s\tremaining: 2.28s\n",
            "670:\tlearn: 0.1479884\ttotal: 4.63s\tremaining: 2.27s\n",
            "671:\tlearn: 0.1476715\ttotal: 4.64s\tremaining: 2.27s\n",
            "672:\tlearn: 0.1473830\ttotal: 4.65s\tremaining: 2.26s\n",
            "673:\tlearn: 0.1469378\ttotal: 4.65s\tremaining: 2.25s\n",
            "674:\tlearn: 0.1467475\ttotal: 4.66s\tremaining: 2.24s\n",
            "675:\tlearn: 0.1463357\ttotal: 4.67s\tremaining: 2.24s\n",
            "676:\tlearn: 0.1461402\ttotal: 4.67s\tremaining: 2.23s\n",
            "677:\tlearn: 0.1459177\ttotal: 4.68s\tremaining: 2.22s\n",
            "678:\tlearn: 0.1457525\ttotal: 4.69s\tremaining: 2.21s\n",
            "679:\tlearn: 0.1454702\ttotal: 4.69s\tremaining: 2.21s\n",
            "680:\tlearn: 0.1452314\ttotal: 4.7s\tremaining: 2.2s\n",
            "681:\tlearn: 0.1449315\ttotal: 4.71s\tremaining: 2.19s\n",
            "682:\tlearn: 0.1447062\ttotal: 4.71s\tremaining: 2.19s\n",
            "683:\tlearn: 0.1444704\ttotal: 4.72s\tremaining: 2.18s\n",
            "684:\tlearn: 0.1442137\ttotal: 4.73s\tremaining: 2.17s\n",
            "685:\tlearn: 0.1440168\ttotal: 4.73s\tremaining: 2.17s\n",
            "686:\tlearn: 0.1436948\ttotal: 4.74s\tremaining: 2.16s\n",
            "687:\tlearn: 0.1435468\ttotal: 4.75s\tremaining: 2.15s\n",
            "688:\tlearn: 0.1433588\ttotal: 4.75s\tremaining: 2.15s\n",
            "689:\tlearn: 0.1431484\ttotal: 4.76s\tremaining: 2.14s\n",
            "690:\tlearn: 0.1425431\ttotal: 4.76s\tremaining: 2.13s\n",
            "691:\tlearn: 0.1422984\ttotal: 4.77s\tremaining: 2.12s\n",
            "692:\tlearn: 0.1420443\ttotal: 4.78s\tremaining: 2.12s\n",
            "693:\tlearn: 0.1418244\ttotal: 4.78s\tremaining: 2.11s\n",
            "694:\tlearn: 0.1416017\ttotal: 4.79s\tremaining: 2.1s\n",
            "695:\tlearn: 0.1413671\ttotal: 4.8s\tremaining: 2.09s\n",
            "696:\tlearn: 0.1412114\ttotal: 4.8s\tremaining: 2.09s\n",
            "697:\tlearn: 0.1409648\ttotal: 4.81s\tremaining: 2.08s\n",
            "698:\tlearn: 0.1407040\ttotal: 4.81s\tremaining: 2.07s\n",
            "699:\tlearn: 0.1403503\ttotal: 4.82s\tremaining: 2.06s\n",
            "700:\tlearn: 0.1401346\ttotal: 4.83s\tremaining: 2.06s\n",
            "701:\tlearn: 0.1398168\ttotal: 4.83s\tremaining: 2.05s\n",
            "702:\tlearn: 0.1395637\ttotal: 4.84s\tremaining: 2.04s\n",
            "703:\tlearn: 0.1394239\ttotal: 4.85s\tremaining: 2.04s\n",
            "704:\tlearn: 0.1391572\ttotal: 4.85s\tremaining: 2.03s\n",
            "705:\tlearn: 0.1389761\ttotal: 4.86s\tremaining: 2.02s\n",
            "706:\tlearn: 0.1388073\ttotal: 4.87s\tremaining: 2.02s\n",
            "707:\tlearn: 0.1385757\ttotal: 4.87s\tremaining: 2.01s\n",
            "708:\tlearn: 0.1383875\ttotal: 4.88s\tremaining: 2s\n",
            "709:\tlearn: 0.1382672\ttotal: 4.88s\tremaining: 2s\n",
            "710:\tlearn: 0.1381076\ttotal: 4.89s\tremaining: 1.99s\n",
            "711:\tlearn: 0.1378653\ttotal: 4.9s\tremaining: 1.98s\n",
            "712:\tlearn: 0.1375252\ttotal: 4.9s\tremaining: 1.97s\n",
            "713:\tlearn: 0.1372212\ttotal: 4.91s\tremaining: 1.97s\n",
            "714:\tlearn: 0.1370370\ttotal: 4.92s\tremaining: 1.96s\n",
            "715:\tlearn: 0.1368635\ttotal: 4.92s\tremaining: 1.95s\n",
            "716:\tlearn: 0.1367049\ttotal: 4.93s\tremaining: 1.95s\n",
            "717:\tlearn: 0.1365366\ttotal: 4.93s\tremaining: 1.94s\n",
            "718:\tlearn: 0.1362816\ttotal: 4.94s\tremaining: 1.93s\n",
            "719:\tlearn: 0.1360927\ttotal: 4.95s\tremaining: 1.92s\n",
            "720:\tlearn: 0.1359953\ttotal: 4.95s\tremaining: 1.92s\n",
            "721:\tlearn: 0.1357987\ttotal: 4.96s\tremaining: 1.91s\n",
            "722:\tlearn: 0.1356369\ttotal: 4.97s\tremaining: 1.9s\n",
            "723:\tlearn: 0.1354705\ttotal: 4.97s\tremaining: 1.9s\n",
            "724:\tlearn: 0.1350800\ttotal: 4.98s\tremaining: 1.89s\n",
            "725:\tlearn: 0.1348958\ttotal: 4.98s\tremaining: 1.88s\n",
            "726:\tlearn: 0.1346321\ttotal: 4.99s\tremaining: 1.87s\n",
            "727:\tlearn: 0.1344477\ttotal: 5s\tremaining: 1.87s\n",
            "728:\tlearn: 0.1342744\ttotal: 5s\tremaining: 1.86s\n",
            "729:\tlearn: 0.1341578\ttotal: 5.01s\tremaining: 1.85s\n",
            "730:\tlearn: 0.1339717\ttotal: 5.02s\tremaining: 1.85s\n",
            "731:\tlearn: 0.1338370\ttotal: 5.02s\tremaining: 1.84s\n",
            "732:\tlearn: 0.1335558\ttotal: 5.03s\tremaining: 1.83s\n",
            "733:\tlearn: 0.1334054\ttotal: 5.04s\tremaining: 1.83s\n",
            "734:\tlearn: 0.1332050\ttotal: 5.05s\tremaining: 1.82s\n",
            "735:\tlearn: 0.1330154\ttotal: 5.05s\tremaining: 1.81s\n",
            "736:\tlearn: 0.1328444\ttotal: 5.06s\tremaining: 1.81s\n",
            "737:\tlearn: 0.1326194\ttotal: 5.07s\tremaining: 1.8s\n",
            "738:\tlearn: 0.1324553\ttotal: 5.07s\tremaining: 1.79s\n",
            "739:\tlearn: 0.1322568\ttotal: 5.08s\tremaining: 1.78s\n",
            "740:\tlearn: 0.1319777\ttotal: 5.08s\tremaining: 1.78s\n",
            "741:\tlearn: 0.1317277\ttotal: 5.09s\tremaining: 1.77s\n",
            "742:\tlearn: 0.1313979\ttotal: 5.1s\tremaining: 1.76s\n",
            "743:\tlearn: 0.1311563\ttotal: 5.1s\tremaining: 1.76s\n",
            "744:\tlearn: 0.1308839\ttotal: 5.11s\tremaining: 1.75s\n",
            "745:\tlearn: 0.1306878\ttotal: 5.12s\tremaining: 1.74s\n",
            "746:\tlearn: 0.1305197\ttotal: 5.12s\tremaining: 1.74s\n",
            "747:\tlearn: 0.1303037\ttotal: 5.13s\tremaining: 1.73s\n",
            "748:\tlearn: 0.1300918\ttotal: 5.14s\tremaining: 1.72s\n",
            "749:\tlearn: 0.1299388\ttotal: 5.14s\tremaining: 1.71s\n",
            "750:\tlearn: 0.1297628\ttotal: 5.15s\tremaining: 1.71s\n",
            "751:\tlearn: 0.1296429\ttotal: 5.16s\tremaining: 1.7s\n",
            "752:\tlearn: 0.1294042\ttotal: 5.16s\tremaining: 1.69s\n",
            "753:\tlearn: 0.1292584\ttotal: 5.17s\tremaining: 1.69s\n",
            "754:\tlearn: 0.1290639\ttotal: 5.17s\tremaining: 1.68s\n",
            "755:\tlearn: 0.1289611\ttotal: 5.18s\tremaining: 1.67s\n",
            "756:\tlearn: 0.1287405\ttotal: 5.19s\tremaining: 1.66s\n",
            "757:\tlearn: 0.1285431\ttotal: 5.19s\tremaining: 1.66s\n",
            "758:\tlearn: 0.1282033\ttotal: 5.2s\tremaining: 1.65s\n",
            "759:\tlearn: 0.1281013\ttotal: 5.21s\tremaining: 1.64s\n",
            "760:\tlearn: 0.1279675\ttotal: 5.21s\tremaining: 1.64s\n",
            "761:\tlearn: 0.1278373\ttotal: 5.22s\tremaining: 1.63s\n",
            "762:\tlearn: 0.1276374\ttotal: 5.22s\tremaining: 1.62s\n",
            "763:\tlearn: 0.1273636\ttotal: 5.24s\tremaining: 1.62s\n",
            "764:\tlearn: 0.1271470\ttotal: 5.24s\tremaining: 1.61s\n",
            "765:\tlearn: 0.1268937\ttotal: 5.25s\tremaining: 1.6s\n",
            "766:\tlearn: 0.1264983\ttotal: 5.26s\tremaining: 1.6s\n",
            "767:\tlearn: 0.1263369\ttotal: 5.26s\tremaining: 1.59s\n",
            "768:\tlearn: 0.1260587\ttotal: 5.27s\tremaining: 1.58s\n",
            "769:\tlearn: 0.1259317\ttotal: 5.28s\tremaining: 1.57s\n",
            "770:\tlearn: 0.1257428\ttotal: 5.28s\tremaining: 1.57s\n",
            "771:\tlearn: 0.1255197\ttotal: 5.29s\tremaining: 1.56s\n",
            "772:\tlearn: 0.1252740\ttotal: 5.29s\tremaining: 1.55s\n",
            "773:\tlearn: 0.1251830\ttotal: 5.3s\tremaining: 1.55s\n",
            "774:\tlearn: 0.1251210\ttotal: 5.31s\tremaining: 1.54s\n",
            "775:\tlearn: 0.1250465\ttotal: 5.32s\tremaining: 1.53s\n",
            "776:\tlearn: 0.1248778\ttotal: 5.33s\tremaining: 1.53s\n",
            "777:\tlearn: 0.1247557\ttotal: 5.33s\tremaining: 1.52s\n",
            "778:\tlearn: 0.1246477\ttotal: 5.34s\tremaining: 1.51s\n",
            "779:\tlearn: 0.1245443\ttotal: 5.34s\tremaining: 1.51s\n",
            "780:\tlearn: 0.1242862\ttotal: 5.35s\tremaining: 1.5s\n",
            "781:\tlearn: 0.1240201\ttotal: 5.36s\tremaining: 1.49s\n",
            "782:\tlearn: 0.1238810\ttotal: 5.37s\tremaining: 1.49s\n",
            "783:\tlearn: 0.1236369\ttotal: 5.37s\tremaining: 1.48s\n",
            "784:\tlearn: 0.1233480\ttotal: 5.38s\tremaining: 1.47s\n",
            "785:\tlearn: 0.1230024\ttotal: 5.39s\tremaining: 1.47s\n",
            "786:\tlearn: 0.1228898\ttotal: 5.39s\tremaining: 1.46s\n",
            "787:\tlearn: 0.1226840\ttotal: 5.4s\tremaining: 1.45s\n",
            "788:\tlearn: 0.1225550\ttotal: 5.41s\tremaining: 1.45s\n",
            "789:\tlearn: 0.1223769\ttotal: 5.41s\tremaining: 1.44s\n",
            "790:\tlearn: 0.1221650\ttotal: 5.42s\tremaining: 1.43s\n",
            "791:\tlearn: 0.1219548\ttotal: 5.43s\tremaining: 1.43s\n",
            "792:\tlearn: 0.1216977\ttotal: 5.44s\tremaining: 1.42s\n",
            "793:\tlearn: 0.1214087\ttotal: 5.45s\tremaining: 1.41s\n",
            "794:\tlearn: 0.1211944\ttotal: 5.46s\tremaining: 1.41s\n",
            "795:\tlearn: 0.1210085\ttotal: 5.46s\tremaining: 1.4s\n",
            "796:\tlearn: 0.1208482\ttotal: 5.47s\tremaining: 1.39s\n",
            "797:\tlearn: 0.1206037\ttotal: 5.47s\tremaining: 1.39s\n",
            "798:\tlearn: 0.1203608\ttotal: 5.48s\tremaining: 1.38s\n",
            "799:\tlearn: 0.1202108\ttotal: 5.49s\tremaining: 1.37s\n",
            "800:\tlearn: 0.1201065\ttotal: 5.49s\tremaining: 1.36s\n",
            "801:\tlearn: 0.1198796\ttotal: 5.5s\tremaining: 1.36s\n",
            "802:\tlearn: 0.1197286\ttotal: 5.5s\tremaining: 1.35s\n",
            "803:\tlearn: 0.1195320\ttotal: 5.51s\tremaining: 1.34s\n",
            "804:\tlearn: 0.1193210\ttotal: 5.52s\tremaining: 1.34s\n",
            "805:\tlearn: 0.1192095\ttotal: 5.52s\tremaining: 1.33s\n",
            "806:\tlearn: 0.1190270\ttotal: 5.53s\tremaining: 1.32s\n",
            "807:\tlearn: 0.1189190\ttotal: 5.54s\tremaining: 1.31s\n",
            "808:\tlearn: 0.1188157\ttotal: 5.54s\tremaining: 1.31s\n",
            "809:\tlearn: 0.1187180\ttotal: 5.55s\tremaining: 1.3s\n",
            "810:\tlearn: 0.1184633\ttotal: 5.55s\tremaining: 1.29s\n",
            "811:\tlearn: 0.1182770\ttotal: 5.56s\tremaining: 1.29s\n",
            "812:\tlearn: 0.1181917\ttotal: 5.57s\tremaining: 1.28s\n",
            "813:\tlearn: 0.1180231\ttotal: 5.57s\tremaining: 1.27s\n",
            "814:\tlearn: 0.1179026\ttotal: 5.58s\tremaining: 1.27s\n",
            "815:\tlearn: 0.1177402\ttotal: 5.59s\tremaining: 1.26s\n",
            "816:\tlearn: 0.1176158\ttotal: 5.59s\tremaining: 1.25s\n",
            "817:\tlearn: 0.1175223\ttotal: 5.6s\tremaining: 1.25s\n",
            "818:\tlearn: 0.1174292\ttotal: 5.61s\tremaining: 1.24s\n",
            "819:\tlearn: 0.1172644\ttotal: 5.62s\tremaining: 1.23s\n",
            "820:\tlearn: 0.1170599\ttotal: 5.62s\tremaining: 1.23s\n",
            "821:\tlearn: 0.1169000\ttotal: 5.63s\tremaining: 1.22s\n",
            "822:\tlearn: 0.1167360\ttotal: 5.63s\tremaining: 1.21s\n",
            "823:\tlearn: 0.1165532\ttotal: 5.65s\tremaining: 1.21s\n",
            "824:\tlearn: 0.1163455\ttotal: 5.66s\tremaining: 1.2s\n",
            "825:\tlearn: 0.1162514\ttotal: 5.66s\tremaining: 1.19s\n",
            "826:\tlearn: 0.1160803\ttotal: 5.67s\tremaining: 1.19s\n",
            "827:\tlearn: 0.1159650\ttotal: 5.68s\tremaining: 1.18s\n",
            "828:\tlearn: 0.1157998\ttotal: 5.68s\tremaining: 1.17s\n",
            "829:\tlearn: 0.1156258\ttotal: 5.69s\tremaining: 1.17s\n",
            "830:\tlearn: 0.1154517\ttotal: 5.7s\tremaining: 1.16s\n",
            "831:\tlearn: 0.1152991\ttotal: 5.71s\tremaining: 1.15s\n",
            "832:\tlearn: 0.1152428\ttotal: 5.71s\tremaining: 1.15s\n",
            "833:\tlearn: 0.1149611\ttotal: 5.72s\tremaining: 1.14s\n",
            "834:\tlearn: 0.1147707\ttotal: 5.72s\tremaining: 1.13s\n",
            "835:\tlearn: 0.1145803\ttotal: 5.73s\tremaining: 1.12s\n",
            "836:\tlearn: 0.1144455\ttotal: 5.74s\tremaining: 1.12s\n",
            "837:\tlearn: 0.1142015\ttotal: 5.74s\tremaining: 1.11s\n",
            "838:\tlearn: 0.1140657\ttotal: 5.75s\tremaining: 1.1s\n",
            "839:\tlearn: 0.1138993\ttotal: 5.75s\tremaining: 1.09s\n",
            "840:\tlearn: 0.1137337\ttotal: 5.76s\tremaining: 1.09s\n",
            "841:\tlearn: 0.1134881\ttotal: 5.76s\tremaining: 1.08s\n",
            "842:\tlearn: 0.1133841\ttotal: 5.77s\tremaining: 1.07s\n",
            "843:\tlearn: 0.1131920\ttotal: 5.78s\tremaining: 1.07s\n",
            "844:\tlearn: 0.1129888\ttotal: 5.79s\tremaining: 1.06s\n",
            "845:\tlearn: 0.1127477\ttotal: 5.79s\tremaining: 1.05s\n",
            "846:\tlearn: 0.1126013\ttotal: 5.8s\tremaining: 1.05s\n",
            "847:\tlearn: 0.1124374\ttotal: 5.8s\tremaining: 1.04s\n",
            "848:\tlearn: 0.1122771\ttotal: 5.81s\tremaining: 1.03s\n",
            "849:\tlearn: 0.1120571\ttotal: 5.82s\tremaining: 1.03s\n",
            "850:\tlearn: 0.1118966\ttotal: 5.82s\tremaining: 1.02s\n",
            "851:\tlearn: 0.1117475\ttotal: 5.83s\tremaining: 1.01s\n",
            "852:\tlearn: 0.1115864\ttotal: 5.84s\tremaining: 1s\n",
            "853:\tlearn: 0.1114641\ttotal: 5.84s\tremaining: 999ms\n",
            "854:\tlearn: 0.1113659\ttotal: 5.85s\tremaining: 992ms\n",
            "855:\tlearn: 0.1112714\ttotal: 5.86s\tremaining: 985ms\n",
            "856:\tlearn: 0.1110588\ttotal: 5.86s\tremaining: 979ms\n",
            "857:\tlearn: 0.1108574\ttotal: 5.87s\tremaining: 972ms\n",
            "858:\tlearn: 0.1106812\ttotal: 5.88s\tremaining: 965ms\n",
            "859:\tlearn: 0.1104385\ttotal: 5.88s\tremaining: 958ms\n",
            "860:\tlearn: 0.1102098\ttotal: 5.89s\tremaining: 951ms\n",
            "861:\tlearn: 0.1100283\ttotal: 5.9s\tremaining: 944ms\n",
            "862:\tlearn: 0.1099333\ttotal: 5.9s\tremaining: 937ms\n",
            "863:\tlearn: 0.1098359\ttotal: 5.91s\tremaining: 931ms\n",
            "864:\tlearn: 0.1097170\ttotal: 5.92s\tremaining: 924ms\n",
            "865:\tlearn: 0.1095924\ttotal: 5.92s\tremaining: 917ms\n",
            "866:\tlearn: 0.1094264\ttotal: 5.93s\tremaining: 910ms\n",
            "867:\tlearn: 0.1093036\ttotal: 5.94s\tremaining: 903ms\n",
            "868:\tlearn: 0.1091751\ttotal: 5.94s\tremaining: 896ms\n",
            "869:\tlearn: 0.1090082\ttotal: 5.95s\tremaining: 889ms\n",
            "870:\tlearn: 0.1088603\ttotal: 5.96s\tremaining: 882ms\n",
            "871:\tlearn: 0.1085849\ttotal: 5.96s\tremaining: 875ms\n",
            "872:\tlearn: 0.1083210\ttotal: 5.97s\tremaining: 868ms\n",
            "873:\tlearn: 0.1082274\ttotal: 5.97s\tremaining: 861ms\n",
            "874:\tlearn: 0.1079438\ttotal: 5.98s\tremaining: 855ms\n",
            "875:\tlearn: 0.1078281\ttotal: 5.99s\tremaining: 848ms\n",
            "876:\tlearn: 0.1076501\ttotal: 6s\tremaining: 841ms\n",
            "877:\tlearn: 0.1074328\ttotal: 6.01s\tremaining: 835ms\n",
            "878:\tlearn: 0.1072793\ttotal: 6.01s\tremaining: 828ms\n",
            "879:\tlearn: 0.1070975\ttotal: 6.02s\tremaining: 821ms\n",
            "880:\tlearn: 0.1069751\ttotal: 6.03s\tremaining: 814ms\n",
            "881:\tlearn: 0.1068796\ttotal: 6.03s\tremaining: 807ms\n",
            "882:\tlearn: 0.1067498\ttotal: 6.04s\tremaining: 800ms\n",
            "883:\tlearn: 0.1066624\ttotal: 6.04s\tremaining: 793ms\n",
            "884:\tlearn: 0.1065521\ttotal: 6.06s\tremaining: 787ms\n",
            "885:\tlearn: 0.1064309\ttotal: 6.07s\tremaining: 781ms\n",
            "886:\tlearn: 0.1062485\ttotal: 6.07s\tremaining: 774ms\n",
            "887:\tlearn: 0.1061517\ttotal: 6.08s\tremaining: 767ms\n",
            "888:\tlearn: 0.1059164\ttotal: 6.08s\tremaining: 760ms\n",
            "889:\tlearn: 0.1057893\ttotal: 6.09s\tremaining: 753ms\n",
            "890:\tlearn: 0.1056072\ttotal: 6.1s\tremaining: 746ms\n",
            "891:\tlearn: 0.1054419\ttotal: 6.11s\tremaining: 739ms\n",
            "892:\tlearn: 0.1053129\ttotal: 6.11s\tremaining: 732ms\n",
            "893:\tlearn: 0.1052199\ttotal: 6.12s\tremaining: 725ms\n",
            "894:\tlearn: 0.1050672\ttotal: 6.12s\tremaining: 718ms\n",
            "895:\tlearn: 0.1049175\ttotal: 6.14s\tremaining: 713ms\n",
            "896:\tlearn: 0.1048268\ttotal: 6.15s\tremaining: 706ms\n",
            "897:\tlearn: 0.1047313\ttotal: 6.16s\tremaining: 699ms\n",
            "898:\tlearn: 0.1046426\ttotal: 6.16s\tremaining: 692ms\n",
            "899:\tlearn: 0.1044630\ttotal: 6.17s\tremaining: 685ms\n",
            "900:\tlearn: 0.1043636\ttotal: 6.17s\tremaining: 678ms\n",
            "901:\tlearn: 0.1042213\ttotal: 6.18s\tremaining: 672ms\n",
            "902:\tlearn: 0.1040229\ttotal: 6.19s\tremaining: 665ms\n",
            "903:\tlearn: 0.1039221\ttotal: 6.19s\tremaining: 658ms\n",
            "904:\tlearn: 0.1037858\ttotal: 6.2s\tremaining: 651ms\n",
            "905:\tlearn: 0.1036525\ttotal: 6.21s\tremaining: 644ms\n",
            "906:\tlearn: 0.1035308\ttotal: 6.21s\tremaining: 637ms\n",
            "907:\tlearn: 0.1034421\ttotal: 6.22s\tremaining: 630ms\n",
            "908:\tlearn: 0.1033188\ttotal: 6.23s\tremaining: 624ms\n",
            "909:\tlearn: 0.1032167\ttotal: 6.24s\tremaining: 617ms\n",
            "910:\tlearn: 0.1030603\ttotal: 6.24s\tremaining: 610ms\n",
            "911:\tlearn: 0.1028748\ttotal: 6.25s\tremaining: 603ms\n",
            "912:\tlearn: 0.1026937\ttotal: 6.26s\tremaining: 597ms\n",
            "913:\tlearn: 0.1025697\ttotal: 6.27s\tremaining: 590ms\n",
            "914:\tlearn: 0.1024536\ttotal: 6.28s\tremaining: 583ms\n",
            "915:\tlearn: 0.1023005\ttotal: 6.28s\tremaining: 576ms\n",
            "916:\tlearn: 0.1021084\ttotal: 6.29s\tremaining: 570ms\n",
            "917:\tlearn: 0.1019332\ttotal: 6.3s\tremaining: 563ms\n",
            "918:\tlearn: 0.1017650\ttotal: 6.31s\tremaining: 556ms\n",
            "919:\tlearn: 0.1016651\ttotal: 6.32s\tremaining: 549ms\n",
            "920:\tlearn: 0.1014986\ttotal: 6.32s\tremaining: 542ms\n",
            "921:\tlearn: 0.1013912\ttotal: 6.33s\tremaining: 535ms\n",
            "922:\tlearn: 0.1012401\ttotal: 6.33s\tremaining: 528ms\n",
            "923:\tlearn: 0.1011465\ttotal: 6.34s\tremaining: 522ms\n",
            "924:\tlearn: 0.1009684\ttotal: 6.35s\tremaining: 515ms\n",
            "925:\tlearn: 0.1008329\ttotal: 6.35s\tremaining: 508ms\n",
            "926:\tlearn: 0.1007510\ttotal: 6.36s\tremaining: 501ms\n",
            "927:\tlearn: 0.1005452\ttotal: 6.37s\tremaining: 494ms\n",
            "928:\tlearn: 0.1004265\ttotal: 6.37s\tremaining: 487ms\n",
            "929:\tlearn: 0.1003224\ttotal: 6.38s\tremaining: 480ms\n",
            "930:\tlearn: 0.1001530\ttotal: 6.39s\tremaining: 473ms\n",
            "931:\tlearn: 0.1001050\ttotal: 6.39s\tremaining: 466ms\n",
            "932:\tlearn: 0.1000098\ttotal: 6.4s\tremaining: 460ms\n",
            "933:\tlearn: 0.0998062\ttotal: 6.41s\tremaining: 453ms\n",
            "934:\tlearn: 0.0996403\ttotal: 6.41s\tremaining: 446ms\n",
            "935:\tlearn: 0.0994310\ttotal: 6.42s\tremaining: 439ms\n",
            "936:\tlearn: 0.0993646\ttotal: 6.42s\tremaining: 432ms\n",
            "937:\tlearn: 0.0992557\ttotal: 6.43s\tremaining: 425ms\n",
            "938:\tlearn: 0.0990421\ttotal: 6.44s\tremaining: 418ms\n",
            "939:\tlearn: 0.0989691\ttotal: 6.45s\tremaining: 411ms\n",
            "940:\tlearn: 0.0989124\ttotal: 6.45s\tremaining: 405ms\n",
            "941:\tlearn: 0.0988432\ttotal: 6.46s\tremaining: 398ms\n",
            "942:\tlearn: 0.0987309\ttotal: 6.47s\tremaining: 391ms\n",
            "943:\tlearn: 0.0985950\ttotal: 6.48s\tremaining: 384ms\n",
            "944:\tlearn: 0.0984220\ttotal: 6.48s\tremaining: 377ms\n",
            "945:\tlearn: 0.0983385\ttotal: 6.49s\tremaining: 371ms\n",
            "946:\tlearn: 0.0981982\ttotal: 6.5s\tremaining: 364ms\n",
            "947:\tlearn: 0.0981102\ttotal: 6.5s\tremaining: 357ms\n",
            "948:\tlearn: 0.0979962\ttotal: 6.51s\tremaining: 350ms\n",
            "949:\tlearn: 0.0979098\ttotal: 6.52s\tremaining: 343ms\n",
            "950:\tlearn: 0.0977711\ttotal: 6.53s\tremaining: 336ms\n",
            "951:\tlearn: 0.0976657\ttotal: 6.53s\tremaining: 329ms\n",
            "952:\tlearn: 0.0975612\ttotal: 6.54s\tremaining: 322ms\n",
            "953:\tlearn: 0.0974163\ttotal: 6.54s\tremaining: 316ms\n",
            "954:\tlearn: 0.0972897\ttotal: 6.55s\tremaining: 309ms\n",
            "955:\tlearn: 0.0971669\ttotal: 6.56s\tremaining: 302ms\n",
            "956:\tlearn: 0.0969876\ttotal: 6.56s\tremaining: 295ms\n",
            "957:\tlearn: 0.0968071\ttotal: 6.57s\tremaining: 288ms\n",
            "958:\tlearn: 0.0966632\ttotal: 6.58s\tremaining: 281ms\n",
            "959:\tlearn: 0.0965236\ttotal: 6.58s\tremaining: 274ms\n",
            "960:\tlearn: 0.0963269\ttotal: 6.59s\tremaining: 267ms\n",
            "961:\tlearn: 0.0962242\ttotal: 6.6s\tremaining: 261ms\n",
            "962:\tlearn: 0.0960967\ttotal: 6.6s\tremaining: 254ms\n",
            "963:\tlearn: 0.0959132\ttotal: 6.61s\tremaining: 247ms\n",
            "964:\tlearn: 0.0958508\ttotal: 6.62s\tremaining: 240ms\n",
            "965:\tlearn: 0.0957362\ttotal: 6.62s\tremaining: 233ms\n",
            "966:\tlearn: 0.0956298\ttotal: 6.63s\tremaining: 226ms\n",
            "967:\tlearn: 0.0954856\ttotal: 6.63s\tremaining: 219ms\n",
            "968:\tlearn: 0.0953756\ttotal: 6.64s\tremaining: 212ms\n",
            "969:\tlearn: 0.0952563\ttotal: 6.65s\tremaining: 206ms\n",
            "970:\tlearn: 0.0951714\ttotal: 6.65s\tremaining: 199ms\n",
            "971:\tlearn: 0.0950616\ttotal: 6.67s\tremaining: 192ms\n",
            "972:\tlearn: 0.0949766\ttotal: 6.67s\tremaining: 185ms\n",
            "973:\tlearn: 0.0947795\ttotal: 6.68s\tremaining: 178ms\n",
            "974:\tlearn: 0.0946499\ttotal: 6.68s\tremaining: 171ms\n",
            "975:\tlearn: 0.0945612\ttotal: 6.69s\tremaining: 165ms\n",
            "976:\tlearn: 0.0944429\ttotal: 6.7s\tremaining: 158ms\n",
            "977:\tlearn: 0.0943331\ttotal: 6.7s\tremaining: 151ms\n",
            "978:\tlearn: 0.0942158\ttotal: 6.71s\tremaining: 144ms\n",
            "979:\tlearn: 0.0941483\ttotal: 6.71s\tremaining: 137ms\n",
            "980:\tlearn: 0.0940240\ttotal: 6.72s\tremaining: 130ms\n",
            "981:\tlearn: 0.0939152\ttotal: 6.73s\tremaining: 123ms\n",
            "982:\tlearn: 0.0938130\ttotal: 6.73s\tremaining: 116ms\n",
            "983:\tlearn: 0.0937060\ttotal: 6.74s\tremaining: 110ms\n",
            "984:\tlearn: 0.0936030\ttotal: 6.75s\tremaining: 103ms\n",
            "985:\tlearn: 0.0934930\ttotal: 6.75s\tremaining: 95.9ms\n",
            "986:\tlearn: 0.0933509\ttotal: 6.76s\tremaining: 89ms\n",
            "987:\tlearn: 0.0932093\ttotal: 6.77s\tremaining: 82.2ms\n",
            "988:\tlearn: 0.0930641\ttotal: 6.77s\tremaining: 75.3ms\n",
            "989:\tlearn: 0.0929039\ttotal: 6.78s\tremaining: 68.5ms\n",
            "990:\tlearn: 0.0928424\ttotal: 6.79s\tremaining: 61.7ms\n",
            "991:\tlearn: 0.0927750\ttotal: 6.8s\tremaining: 54.8ms\n",
            "992:\tlearn: 0.0926394\ttotal: 6.8s\tremaining: 48ms\n",
            "993:\tlearn: 0.0925405\ttotal: 6.81s\tremaining: 41.1ms\n",
            "994:\tlearn: 0.0924546\ttotal: 6.82s\tremaining: 34.3ms\n",
            "995:\tlearn: 0.0924149\ttotal: 6.83s\tremaining: 27.4ms\n",
            "996:\tlearn: 0.0923141\ttotal: 6.83s\tremaining: 20.6ms\n",
            "997:\tlearn: 0.0922290\ttotal: 6.84s\tremaining: 13.7ms\n",
            "998:\tlearn: 0.0920768\ttotal: 6.85s\tremaining: 6.85ms\n",
            "999:\tlearn: 0.0919317\ttotal: 6.85s\tremaining: 0us\n"
          ],
          "name": "stdout"
        },
        {
          "output_type": "execute_result",
          "data": {
            "text/plain": [
              "<catboost.core.CatBoostClassifier at 0x7f90787fdfd0>"
            ]
          },
          "metadata": {
            "tags": []
          },
          "execution_count": 36
        }
      ]
    },
    {
      "cell_type": "markdown",
      "metadata": {
        "id": "H45Zj-lnUTxa"
      },
      "source": [
        "Посмотрим на результат"
      ]
    },
    {
      "cell_type": "code",
      "metadata": {
        "colab": {
          "base_uri": "https://localhost:8080/"
        },
        "id": "QUhhhE3VUSOH",
        "outputId": "0d8907c6-ae02-4a6d-a33f-c31bd2ba0c51"
      },
      "source": [
        "Kitty_predictions = Kitty.predict(X_test)\n",
        "print(classification_report(y_test, Kitty_predictions))"
      ],
      "execution_count": 37,
      "outputs": [
        {
          "output_type": "stream",
          "text": [
            "              precision    recall  f1-score   support\n",
            "\n",
            "           1       0.33      0.11      0.17         9\n",
            "           2       0.70      0.90      0.79        50\n",
            "           3       0.00      0.00      0.00         8\n",
            "           4       0.00      0.00      0.00         4\n",
            "\n",
            "    accuracy                           0.65        71\n",
            "   macro avg       0.26      0.25      0.24        71\n",
            "weighted avg       0.54      0.65      0.58        71\n",
            "\n"
          ],
          "name": "stdout"
        },
        {
          "output_type": "stream",
          "text": [
            "/usr/local/lib/python3.6/dist-packages/sklearn/metrics/_classification.py:1272: UndefinedMetricWarning: Precision and F-score are ill-defined and being set to 0.0 in labels with no predicted samples. Use `zero_division` parameter to control this behavior.\n",
            "  _warn_prf(average, modifier, msg_start, len(result))\n"
          ],
          "name": "stderr"
        }
      ]
    },
    {
      "cell_type": "markdown",
      "metadata": {
        "id": "JmlvskrUcnvu"
      },
      "source": [
        "Видно, что результаты тоже довольно слабые в целом. Взглянем, в какой степени разные параметры влияют на алгоритм."
      ]
    },
    {
      "cell_type": "code",
      "metadata": {
        "colab": {
          "base_uri": "https://localhost:8080/",
          "height": 551
        },
        "id": "C_zE5vnUVApG",
        "outputId": "2607ec8b-8ef7-4b37-ea8e-f08c6baa474d"
      },
      "source": [
        "Kitty.get_feature_importance(data=None,\n",
        "                             prettified=True,\n",
        "                             thread_count=-1,\n",
        "                             verbose=False)   "
      ],
      "execution_count": 38,
      "outputs": [
        {
          "output_type": "execute_result",
          "data": {
            "text/html": [
              "<div>\n",
              "<style scoped>\n",
              "    .dataframe tbody tr th:only-of-type {\n",
              "        vertical-align: middle;\n",
              "    }\n",
              "\n",
              "    .dataframe tbody tr th {\n",
              "        vertical-align: top;\n",
              "    }\n",
              "\n",
              "    .dataframe thead th {\n",
              "        text-align: right;\n",
              "    }\n",
              "</style>\n",
              "<table border=\"1\" class=\"dataframe\">\n",
              "  <thead>\n",
              "    <tr style=\"text-align: right;\">\n",
              "      <th></th>\n",
              "      <th>Feature Id</th>\n",
              "      <th>Importances</th>\n",
              "    </tr>\n",
              "  </thead>\n",
              "  <tbody>\n",
              "    <tr>\n",
              "      <th>0</th>\n",
              "      <td>Age</td>\n",
              "      <td>24.846012</td>\n",
              "    </tr>\n",
              "    <tr>\n",
              "      <th>1</th>\n",
              "      <td>Forced_vital_capacity</td>\n",
              "      <td>17.674956</td>\n",
              "    </tr>\n",
              "    <tr>\n",
              "      <th>2</th>\n",
              "      <td>FEV1</td>\n",
              "      <td>15.639927</td>\n",
              "    </tr>\n",
              "    <tr>\n",
              "      <th>3</th>\n",
              "      <td>Size_of_tumor</td>\n",
              "      <td>9.679090</td>\n",
              "    </tr>\n",
              "    <tr>\n",
              "      <th>4</th>\n",
              "      <td>Performance_status</td>\n",
              "      <td>6.835688</td>\n",
              "    </tr>\n",
              "    <tr>\n",
              "      <th>5</th>\n",
              "      <td>Risk1Y</td>\n",
              "      <td>6.795046</td>\n",
              "    </tr>\n",
              "    <tr>\n",
              "      <th>6</th>\n",
              "      <td>Cough</td>\n",
              "      <td>5.616124</td>\n",
              "    </tr>\n",
              "    <tr>\n",
              "      <th>7</th>\n",
              "      <td>Smoking</td>\n",
              "      <td>4.207003</td>\n",
              "    </tr>\n",
              "    <tr>\n",
              "      <th>8</th>\n",
              "      <td>Weakness</td>\n",
              "      <td>3.372591</td>\n",
              "    </tr>\n",
              "    <tr>\n",
              "      <th>9</th>\n",
              "      <td>Haemoptysis</td>\n",
              "      <td>2.552142</td>\n",
              "    </tr>\n",
              "    <tr>\n",
              "      <th>10</th>\n",
              "      <td>diabetes_mellitus</td>\n",
              "      <td>1.269316</td>\n",
              "    </tr>\n",
              "    <tr>\n",
              "      <th>11</th>\n",
              "      <td>Pain</td>\n",
              "      <td>0.865899</td>\n",
              "    </tr>\n",
              "    <tr>\n",
              "      <th>12</th>\n",
              "      <td>Dyspnoea</td>\n",
              "      <td>0.399957</td>\n",
              "    </tr>\n",
              "    <tr>\n",
              "      <th>13</th>\n",
              "      <td>PAD</td>\n",
              "      <td>0.196198</td>\n",
              "    </tr>\n",
              "    <tr>\n",
              "      <th>14</th>\n",
              "      <td>Asthma</td>\n",
              "      <td>0.034885</td>\n",
              "    </tr>\n",
              "    <tr>\n",
              "      <th>15</th>\n",
              "      <td>MI_to_6months</td>\n",
              "      <td>0.015165</td>\n",
              "    </tr>\n",
              "  </tbody>\n",
              "</table>\n",
              "</div>"
            ],
            "text/plain": [
              "               Feature Id  Importances\n",
              "0                     Age    24.846012\n",
              "1   Forced_vital_capacity    17.674956\n",
              "2                    FEV1    15.639927\n",
              "3           Size_of_tumor     9.679090\n",
              "4      Performance_status     6.835688\n",
              "5                  Risk1Y     6.795046\n",
              "6                   Cough     5.616124\n",
              "7                 Smoking     4.207003\n",
              "8                Weakness     3.372591\n",
              "9             Haemoptysis     2.552142\n",
              "10      diabetes_mellitus     1.269316\n",
              "11                   Pain     0.865899\n",
              "12               Dyspnoea     0.399957\n",
              "13                    PAD     0.196198\n",
              "14                 Asthma     0.034885\n",
              "15          MI_to_6months     0.015165"
            ]
          },
          "metadata": {
            "tags": []
          },
          "execution_count": 38
        }
      ]
    },
    {
      "cell_type": "markdown",
      "metadata": {
        "id": "hyMYO-xZy7vQ"
      },
      "source": [
        "## Оверсэмплинг"
      ]
    },
    {
      "cell_type": "markdown",
      "metadata": {
        "id": "DxWFFti8255I"
      },
      "source": [
        "Мы снова возвращаемся к нашему датасету. Используя алгоритмы в предыдущем разделе мы получили в большинстве случаев очень слабый результат, так как алгоритм не мог обучиться на выборке с невыраженными минорными классами. Сейчас мы используем метод оверсэмплинга SMOTE, чтобы облегчить задачу алгоритму. Мы увеличим количество наблюдений в целом и в частности наблюдений минорного класса."
      ]
    },
    {
      "cell_type": "code",
      "metadata": {
        "id": "si7tvyJpwiSd",
        "colab": {
          "base_uri": "https://localhost:8080/"
        },
        "outputId": "738549cc-d1e8-4e1b-c5f6-70b5df453972"
      },
      "source": [
        "from imblearn.over_sampling import SMOTENC"
      ],
      "execution_count": 39,
      "outputs": [
        {
          "output_type": "stream",
          "text": [
            "/usr/local/lib/python3.6/dist-packages/sklearn/externals/six.py:31: FutureWarning: The module is deprecated in version 0.21 and will be removed in version 0.23 since we've dropped support for Python 2.7. Please rely on the official version of six (https://pypi.org/project/six/).\n",
            "  \"(https://pypi.org/project/six/).\", FutureWarning)\n",
            "/usr/local/lib/python3.6/dist-packages/sklearn/utils/deprecation.py:144: FutureWarning: The sklearn.neighbors.base module is  deprecated in version 0.22 and will be removed in version 0.24. The corresponding classes / functions should instead be imported from sklearn.neighbors. Anything that cannot be imported from sklearn.neighbors is now part of the private API.\n",
            "  warnings.warn(message, FutureWarning)\n"
          ],
          "name": "stderr"
        }
      ]
    },
    {
      "cell_type": "markdown",
      "metadata": {
        "id": "gjtBH0-vAgXK"
      },
      "source": [
        "Я выбрал не стандартный SMOTE, а SMOTENC (nominal & continious), так как он предназначен для работы как с числовыми признаками, так и с категориальными. Однако, категориальные данные нам необходимо использовать в исходном формате, чтобы при добавлении новых образцов метод SMOTENC не генерировал значения, похожие на 0,5 в столбцах, где оригинальный датасет принимает значения только 1 и 0. Поэтому начнём с нашего изначального датасета."
      ]
    },
    {
      "cell_type": "code",
      "metadata": {
        "id": "XerEFBpC-Ysn",
        "colab": {
          "base_uri": "https://localhost:8080/",
          "height": 206
        },
        "outputId": "98b2b8a6-2515-4be7-8e25-9067f3505c7d"
      },
      "source": [
        "Raw_dataset.head()"
      ],
      "execution_count": 40,
      "outputs": [
        {
          "output_type": "execute_result",
          "data": {
            "text/html": [
              "<div>\n",
              "<style scoped>\n",
              "    .dataframe tbody tr th:only-of-type {\n",
              "        vertical-align: middle;\n",
              "    }\n",
              "\n",
              "    .dataframe tbody tr th {\n",
              "        vertical-align: top;\n",
              "    }\n",
              "\n",
              "    .dataframe thead th {\n",
              "        text-align: right;\n",
              "    }\n",
              "</style>\n",
              "<table border=\"1\" class=\"dataframe\">\n",
              "  <thead>\n",
              "    <tr style=\"text-align: right;\">\n",
              "      <th></th>\n",
              "      <th>id</th>\n",
              "      <th>Diagnosis</th>\n",
              "      <th>Forced_vital_capacity</th>\n",
              "      <th>FEV1</th>\n",
              "      <th>Performance_status</th>\n",
              "      <th>Pain</th>\n",
              "      <th>Haemoptysis</th>\n",
              "      <th>Dyspnoea</th>\n",
              "      <th>Cough</th>\n",
              "      <th>Weakness</th>\n",
              "      <th>Size_of_tumor</th>\n",
              "      <th>diabetes_mellitus</th>\n",
              "      <th>MI_to_6months</th>\n",
              "      <th>PAD</th>\n",
              "      <th>Smoking</th>\n",
              "      <th>Asthma</th>\n",
              "      <th>Age</th>\n",
              "      <th>Risk1Y</th>\n",
              "    </tr>\n",
              "  </thead>\n",
              "  <tbody>\n",
              "    <tr>\n",
              "      <th>0</th>\n",
              "      <td>1</td>\n",
              "      <td>DGN2</td>\n",
              "      <td>2.88</td>\n",
              "      <td>2.16</td>\n",
              "      <td>PRZ1</td>\n",
              "      <td>F</td>\n",
              "      <td>F</td>\n",
              "      <td>F</td>\n",
              "      <td>T</td>\n",
              "      <td>T</td>\n",
              "      <td>OC14</td>\n",
              "      <td>F</td>\n",
              "      <td>F</td>\n",
              "      <td>F</td>\n",
              "      <td>T</td>\n",
              "      <td>F</td>\n",
              "      <td>60</td>\n",
              "      <td>F</td>\n",
              "    </tr>\n",
              "    <tr>\n",
              "      <th>1</th>\n",
              "      <td>2</td>\n",
              "      <td>DGN3</td>\n",
              "      <td>3.40</td>\n",
              "      <td>1.88</td>\n",
              "      <td>PRZ0</td>\n",
              "      <td>F</td>\n",
              "      <td>F</td>\n",
              "      <td>F</td>\n",
              "      <td>F</td>\n",
              "      <td>F</td>\n",
              "      <td>OC12</td>\n",
              "      <td>F</td>\n",
              "      <td>F</td>\n",
              "      <td>F</td>\n",
              "      <td>T</td>\n",
              "      <td>F</td>\n",
              "      <td>51</td>\n",
              "      <td>F</td>\n",
              "    </tr>\n",
              "    <tr>\n",
              "      <th>2</th>\n",
              "      <td>3</td>\n",
              "      <td>DGN3</td>\n",
              "      <td>2.76</td>\n",
              "      <td>2.08</td>\n",
              "      <td>PRZ1</td>\n",
              "      <td>F</td>\n",
              "      <td>F</td>\n",
              "      <td>F</td>\n",
              "      <td>T</td>\n",
              "      <td>F</td>\n",
              "      <td>OC11</td>\n",
              "      <td>F</td>\n",
              "      <td>F</td>\n",
              "      <td>F</td>\n",
              "      <td>T</td>\n",
              "      <td>F</td>\n",
              "      <td>59</td>\n",
              "      <td>F</td>\n",
              "    </tr>\n",
              "    <tr>\n",
              "      <th>3</th>\n",
              "      <td>4</td>\n",
              "      <td>DGN3</td>\n",
              "      <td>3.68</td>\n",
              "      <td>3.04</td>\n",
              "      <td>PRZ0</td>\n",
              "      <td>F</td>\n",
              "      <td>F</td>\n",
              "      <td>F</td>\n",
              "      <td>F</td>\n",
              "      <td>F</td>\n",
              "      <td>OC11</td>\n",
              "      <td>F</td>\n",
              "      <td>F</td>\n",
              "      <td>F</td>\n",
              "      <td>F</td>\n",
              "      <td>F</td>\n",
              "      <td>54</td>\n",
              "      <td>F</td>\n",
              "    </tr>\n",
              "    <tr>\n",
              "      <th>4</th>\n",
              "      <td>5</td>\n",
              "      <td>DGN3</td>\n",
              "      <td>2.44</td>\n",
              "      <td>0.96</td>\n",
              "      <td>PRZ2</td>\n",
              "      <td>F</td>\n",
              "      <td>T</td>\n",
              "      <td>F</td>\n",
              "      <td>T</td>\n",
              "      <td>T</td>\n",
              "      <td>OC11</td>\n",
              "      <td>F</td>\n",
              "      <td>F</td>\n",
              "      <td>F</td>\n",
              "      <td>T</td>\n",
              "      <td>F</td>\n",
              "      <td>73</td>\n",
              "      <td>T</td>\n",
              "    </tr>\n",
              "  </tbody>\n",
              "</table>\n",
              "</div>"
            ],
            "text/plain": [
              "   id Diagnosis  Forced_vital_capacity  FEV1  ... Smoking Asthma Age Risk1Y\n",
              "0   1      DGN2                   2.88  2.16  ...       T      F  60      F\n",
              "1   2      DGN3                   3.40  1.88  ...       T      F  51      F\n",
              "2   3      DGN3                   2.76  2.08  ...       T      F  59      F\n",
              "3   4      DGN3                   3.68  3.04  ...       F      F  54      F\n",
              "4   5      DGN3                   2.44  0.96  ...       T      F  73      T\n",
              "\n",
              "[5 rows x 18 columns]"
            ]
          },
          "metadata": {
            "tags": []
          },
          "execution_count": 40
        }
      ]
    },
    {
      "cell_type": "markdown",
      "metadata": {
        "id": "vPkZ7a1GMSJQ"
      },
      "source": [
        "В этот раз помимо применения Оверсэмплинга, мы также почистим наши данные от выбросов."
      ]
    },
    {
      "cell_type": "markdown",
      "metadata": {
        "id": "MAjuESp1HyiO"
      },
      "source": [
        "Снова удалим столбец id - он не несёт информации\n"
      ]
    },
    {
      "cell_type": "code",
      "metadata": {
        "id": "t-dUBxGFDohb",
        "colab": {
          "base_uri": "https://localhost:8080/",
          "height": 206
        },
        "outputId": "68d152ca-7804-43ea-f745-f1a05a9a6506"
      },
      "source": [
        "cut_raw_dataset = Raw_dataset.drop(columns='id')\n",
        "cut_raw_dataset.head()"
      ],
      "execution_count": 41,
      "outputs": [
        {
          "output_type": "execute_result",
          "data": {
            "text/html": [
              "<div>\n",
              "<style scoped>\n",
              "    .dataframe tbody tr th:only-of-type {\n",
              "        vertical-align: middle;\n",
              "    }\n",
              "\n",
              "    .dataframe tbody tr th {\n",
              "        vertical-align: top;\n",
              "    }\n",
              "\n",
              "    .dataframe thead th {\n",
              "        text-align: right;\n",
              "    }\n",
              "</style>\n",
              "<table border=\"1\" class=\"dataframe\">\n",
              "  <thead>\n",
              "    <tr style=\"text-align: right;\">\n",
              "      <th></th>\n",
              "      <th>Diagnosis</th>\n",
              "      <th>Forced_vital_capacity</th>\n",
              "      <th>FEV1</th>\n",
              "      <th>Performance_status</th>\n",
              "      <th>Pain</th>\n",
              "      <th>Haemoptysis</th>\n",
              "      <th>Dyspnoea</th>\n",
              "      <th>Cough</th>\n",
              "      <th>Weakness</th>\n",
              "      <th>Size_of_tumor</th>\n",
              "      <th>diabetes_mellitus</th>\n",
              "      <th>MI_to_6months</th>\n",
              "      <th>PAD</th>\n",
              "      <th>Smoking</th>\n",
              "      <th>Asthma</th>\n",
              "      <th>Age</th>\n",
              "      <th>Risk1Y</th>\n",
              "    </tr>\n",
              "  </thead>\n",
              "  <tbody>\n",
              "    <tr>\n",
              "      <th>0</th>\n",
              "      <td>DGN2</td>\n",
              "      <td>2.88</td>\n",
              "      <td>2.16</td>\n",
              "      <td>PRZ1</td>\n",
              "      <td>F</td>\n",
              "      <td>F</td>\n",
              "      <td>F</td>\n",
              "      <td>T</td>\n",
              "      <td>T</td>\n",
              "      <td>OC14</td>\n",
              "      <td>F</td>\n",
              "      <td>F</td>\n",
              "      <td>F</td>\n",
              "      <td>T</td>\n",
              "      <td>F</td>\n",
              "      <td>60</td>\n",
              "      <td>F</td>\n",
              "    </tr>\n",
              "    <tr>\n",
              "      <th>1</th>\n",
              "      <td>DGN3</td>\n",
              "      <td>3.40</td>\n",
              "      <td>1.88</td>\n",
              "      <td>PRZ0</td>\n",
              "      <td>F</td>\n",
              "      <td>F</td>\n",
              "      <td>F</td>\n",
              "      <td>F</td>\n",
              "      <td>F</td>\n",
              "      <td>OC12</td>\n",
              "      <td>F</td>\n",
              "      <td>F</td>\n",
              "      <td>F</td>\n",
              "      <td>T</td>\n",
              "      <td>F</td>\n",
              "      <td>51</td>\n",
              "      <td>F</td>\n",
              "    </tr>\n",
              "    <tr>\n",
              "      <th>2</th>\n",
              "      <td>DGN3</td>\n",
              "      <td>2.76</td>\n",
              "      <td>2.08</td>\n",
              "      <td>PRZ1</td>\n",
              "      <td>F</td>\n",
              "      <td>F</td>\n",
              "      <td>F</td>\n",
              "      <td>T</td>\n",
              "      <td>F</td>\n",
              "      <td>OC11</td>\n",
              "      <td>F</td>\n",
              "      <td>F</td>\n",
              "      <td>F</td>\n",
              "      <td>T</td>\n",
              "      <td>F</td>\n",
              "      <td>59</td>\n",
              "      <td>F</td>\n",
              "    </tr>\n",
              "    <tr>\n",
              "      <th>3</th>\n",
              "      <td>DGN3</td>\n",
              "      <td>3.68</td>\n",
              "      <td>3.04</td>\n",
              "      <td>PRZ0</td>\n",
              "      <td>F</td>\n",
              "      <td>F</td>\n",
              "      <td>F</td>\n",
              "      <td>F</td>\n",
              "      <td>F</td>\n",
              "      <td>OC11</td>\n",
              "      <td>F</td>\n",
              "      <td>F</td>\n",
              "      <td>F</td>\n",
              "      <td>F</td>\n",
              "      <td>F</td>\n",
              "      <td>54</td>\n",
              "      <td>F</td>\n",
              "    </tr>\n",
              "    <tr>\n",
              "      <th>4</th>\n",
              "      <td>DGN3</td>\n",
              "      <td>2.44</td>\n",
              "      <td>0.96</td>\n",
              "      <td>PRZ2</td>\n",
              "      <td>F</td>\n",
              "      <td>T</td>\n",
              "      <td>F</td>\n",
              "      <td>T</td>\n",
              "      <td>T</td>\n",
              "      <td>OC11</td>\n",
              "      <td>F</td>\n",
              "      <td>F</td>\n",
              "      <td>F</td>\n",
              "      <td>T</td>\n",
              "      <td>F</td>\n",
              "      <td>73</td>\n",
              "      <td>T</td>\n",
              "    </tr>\n",
              "  </tbody>\n",
              "</table>\n",
              "</div>"
            ],
            "text/plain": [
              "  Diagnosis  Forced_vital_capacity  FEV1  ... Asthma Age Risk1Y\n",
              "0      DGN2                   2.88  2.16  ...      F  60      F\n",
              "1      DGN3                   3.40  1.88  ...      F  51      F\n",
              "2      DGN3                   2.76  2.08  ...      F  59      F\n",
              "3      DGN3                   3.68  3.04  ...      F  54      F\n",
              "4      DGN3                   2.44  0.96  ...      F  73      T\n",
              "\n",
              "[5 rows x 17 columns]"
            ]
          },
          "metadata": {
            "tags": []
          },
          "execution_count": 41
        }
      ]
    },
    {
      "cell_type": "markdown",
      "metadata": {
        "id": "Aiz_EjKTOuI5"
      },
      "source": [
        "В графике распределений мы видели, что в столбце FEV1 есть аномально высокие значения. Мы избавимся от них, чтобы получить более нормальное распределение. Проверим, какие строки содержат аномальные значения (выберем больше 5) и сразу же отсортируем их."
      ]
    },
    {
      "cell_type": "code",
      "metadata": {
        "id": "xhohJaPyZ52e",
        "colab": {
          "base_uri": "https://localhost:8080/"
        },
        "outputId": "b9d595be-cf46-4de4-d20f-f96aa7988985"
      },
      "source": [
        "cut_raw_dataset.FEV1[cut_raw_dataset.FEV1>5].sort_values()"
      ],
      "execution_count": 42,
      "outputs": [
        {
          "output_type": "execute_result",
          "data": {
            "text/plain": [
              "73      5.48\n",
              "215     8.56\n",
              "353    52.30\n",
              "444    60.90\n",
              "112    64.10\n",
              "89     66.40\n",
              "98     67.30\n",
              "319    69.10\n",
              "132    71.10\n",
              "25     72.80\n",
              "352    73.30\n",
              "330    76.00\n",
              "438    76.80\n",
              "255    78.30\n",
              "325    79.30\n",
              "349    86.30\n",
              "Name: FEV1, dtype: float64"
            ]
          },
          "metadata": {
            "tags": []
          },
          "execution_count": 42
        }
      ]
    },
    {
      "cell_type": "markdown",
      "metadata": {
        "id": "T2gaUwUle-0A"
      },
      "source": [
        "Теперь посмотрим на значения этой строки - действительно ли это выброс?"
      ]
    },
    {
      "cell_type": "code",
      "metadata": {
        "colab": {
          "base_uri": "https://localhost:8080/"
        },
        "id": "zYt4bY-eepnl",
        "outputId": "341e3c1a-bab0-4d43-bcfd-c0f8f70589c8"
      },
      "source": [
        "cut_raw_dataset.iloc[73]"
      ],
      "execution_count": 43,
      "outputs": [
        {
          "output_type": "execute_result",
          "data": {
            "text/plain": [
              "Diagnosis                DGN4\n",
              "Forced_vital_capacity     6.3\n",
              "FEV1                     5.48\n",
              "Performance_status       PRZ0\n",
              "Pain                        F\n",
              "Haemoptysis                 F\n",
              "Dyspnoea                    F\n",
              "Cough                       F\n",
              "Weakness                    F\n",
              "Size_of_tumor            OC11\n",
              "diabetes_mellitus           F\n",
              "MI_to_6months               F\n",
              "PAD                         F\n",
              "Smoking                     F\n",
              "Asthma                      F\n",
              "Age                        45\n",
              "Risk1Y                      F\n",
              "Name: 73, dtype: object"
            ]
          },
          "metadata": {
            "tags": []
          },
          "execution_count": 43
        }
      ]
    },
    {
      "cell_type": "markdown",
      "metadata": {
        "id": "uMEQIhJgfhPx"
      },
      "source": [
        "Похоже, что данное значение выбросом не является - значение Forced_vital_capacity тоже является относительно высоким. А возраст (Age), который тоже ниже большей части пациентов, даёт основание полагать, что результаты могут быть такими, какие указаны.\n",
        "\n",
        "Теперь взглянем на следующего по списку, со значением FEV1 - 8.56"
      ]
    },
    {
      "cell_type": "code",
      "metadata": {
        "colab": {
          "base_uri": "https://localhost:8080/"
        },
        "id": "24OtruRjLBmB",
        "outputId": "db69e75c-7aec-4bdc-9f9e-24e14e1e1b5b"
      },
      "source": [
        "cut_raw_dataset.iloc[215]"
      ],
      "execution_count": 44,
      "outputs": [
        {
          "output_type": "execute_result",
          "data": {
            "text/plain": [
              "Diagnosis                DGN2\n",
              "Forced_vital_capacity    2.66\n",
              "FEV1                     8.56\n",
              "Performance_status       PRZ1\n",
              "Pain                        F\n",
              "Haemoptysis                 T\n",
              "Dyspnoea                    F\n",
              "Cough                       T\n",
              "Weakness                    F\n",
              "Size_of_tumor            OC12\n",
              "diabetes_mellitus           F\n",
              "MI_to_6months               F\n",
              "PAD                         F\n",
              "Smoking                     T\n",
              "Asthma                      F\n",
              "Age                        61\n",
              "Risk1Y                      F\n",
              "Name: 215, dtype: object"
            ]
          },
          "metadata": {
            "tags": []
          },
          "execution_count": 44
        }
      ]
    },
    {
      "cell_type": "markdown",
      "metadata": {
        "id": "HXocqncYgfh_"
      },
      "source": [
        "Здесь уже похоже на выброс. Лучше всего эту строку будет удалить, так как данные могут быть некорректны. Соответственно, все строки со значениями выше этого мы тоже удалим."
      ]
    },
    {
      "cell_type": "code",
      "metadata": {
        "id": "HyGgdep4LmYR"
      },
      "source": [
        "cut_raw_dataset = cut_raw_dataset.drop(cut_raw_dataset[cut_raw_dataset.FEV1>6].index)"
      ],
      "execution_count": 45,
      "outputs": []
    },
    {
      "cell_type": "markdown",
      "metadata": {
        "id": "xD2iKjoDgzZt"
      },
      "source": [
        "От аномальных значений избавились, теперь займёмся целевой переменной. Посмотрим ещё раз на количество экземпляров классов"
      ]
    },
    {
      "cell_type": "code",
      "metadata": {
        "colab": {
          "base_uri": "https://localhost:8080/"
        },
        "id": "S7B3Eab6hFFw",
        "outputId": "70a48c12-c4d4-4915-9e01-6ce9e54ce83d"
      },
      "source": [
        "cut_raw_dataset.Diagnosis.value_counts()"
      ],
      "execution_count": 46,
      "outputs": [
        {
          "output_type": "execute_result",
          "data": {
            "text/plain": [
              "DGN3    341\n",
              "DGN2     49\n",
              "DGN4     45\n",
              "DGN5     13\n",
              "DGN6      4\n",
              "DGN8      2\n",
              "DGN1      1\n",
              "Name: Diagnosis, dtype: int64"
            ]
          },
          "metadata": {
            "tags": []
          },
          "execution_count": 46
        }
      ]
    },
    {
      "cell_type": "markdown",
      "metadata": {
        "id": "Y6gXxZRGhyZ1"
      },
      "source": [
        "Ранее в этом ноутбуке мы смотрели на работу алгоритмов без изменений в классах, и ни один из алгоритмов не может распознать классы, экземпляров у которых очень мало. Искусственно создать на имеющихся данных тоже не получится. Поэтому три класса - DGN6, DGN8 и DGN1 мы попросту удалим и не будем их учитывать."
      ]
    },
    {
      "cell_type": "code",
      "metadata": {
        "colab": {
          "base_uri": "https://localhost:8080/",
          "height": 424
        },
        "id": "Ddsn_N_VqG8h",
        "outputId": "b6bd86e0-5581-4c5a-a39f-478ac122ac01"
      },
      "source": [
        "cut_raw_dataset = cut_raw_dataset.drop(cut_raw_dataset.loc[cut_raw_dataset.Diagnosis.isin(['DGN6', 'DGN8', 'DGN1'])].index)\n",
        "cut_raw_dataset"
      ],
      "execution_count": 47,
      "outputs": [
        {
          "output_type": "execute_result",
          "data": {
            "text/html": [
              "<div>\n",
              "<style scoped>\n",
              "    .dataframe tbody tr th:only-of-type {\n",
              "        vertical-align: middle;\n",
              "    }\n",
              "\n",
              "    .dataframe tbody tr th {\n",
              "        vertical-align: top;\n",
              "    }\n",
              "\n",
              "    .dataframe thead th {\n",
              "        text-align: right;\n",
              "    }\n",
              "</style>\n",
              "<table border=\"1\" class=\"dataframe\">\n",
              "  <thead>\n",
              "    <tr style=\"text-align: right;\">\n",
              "      <th></th>\n",
              "      <th>Diagnosis</th>\n",
              "      <th>Forced_vital_capacity</th>\n",
              "      <th>FEV1</th>\n",
              "      <th>Performance_status</th>\n",
              "      <th>Pain</th>\n",
              "      <th>Haemoptysis</th>\n",
              "      <th>Dyspnoea</th>\n",
              "      <th>Cough</th>\n",
              "      <th>Weakness</th>\n",
              "      <th>Size_of_tumor</th>\n",
              "      <th>diabetes_mellitus</th>\n",
              "      <th>MI_to_6months</th>\n",
              "      <th>PAD</th>\n",
              "      <th>Smoking</th>\n",
              "      <th>Asthma</th>\n",
              "      <th>Age</th>\n",
              "      <th>Risk1Y</th>\n",
              "    </tr>\n",
              "  </thead>\n",
              "  <tbody>\n",
              "    <tr>\n",
              "      <th>0</th>\n",
              "      <td>DGN2</td>\n",
              "      <td>2.88</td>\n",
              "      <td>2.16</td>\n",
              "      <td>PRZ1</td>\n",
              "      <td>F</td>\n",
              "      <td>F</td>\n",
              "      <td>F</td>\n",
              "      <td>T</td>\n",
              "      <td>T</td>\n",
              "      <td>OC14</td>\n",
              "      <td>F</td>\n",
              "      <td>F</td>\n",
              "      <td>F</td>\n",
              "      <td>T</td>\n",
              "      <td>F</td>\n",
              "      <td>60</td>\n",
              "      <td>F</td>\n",
              "    </tr>\n",
              "    <tr>\n",
              "      <th>1</th>\n",
              "      <td>DGN3</td>\n",
              "      <td>3.40</td>\n",
              "      <td>1.88</td>\n",
              "      <td>PRZ0</td>\n",
              "      <td>F</td>\n",
              "      <td>F</td>\n",
              "      <td>F</td>\n",
              "      <td>F</td>\n",
              "      <td>F</td>\n",
              "      <td>OC12</td>\n",
              "      <td>F</td>\n",
              "      <td>F</td>\n",
              "      <td>F</td>\n",
              "      <td>T</td>\n",
              "      <td>F</td>\n",
              "      <td>51</td>\n",
              "      <td>F</td>\n",
              "    </tr>\n",
              "    <tr>\n",
              "      <th>2</th>\n",
              "      <td>DGN3</td>\n",
              "      <td>2.76</td>\n",
              "      <td>2.08</td>\n",
              "      <td>PRZ1</td>\n",
              "      <td>F</td>\n",
              "      <td>F</td>\n",
              "      <td>F</td>\n",
              "      <td>T</td>\n",
              "      <td>F</td>\n",
              "      <td>OC11</td>\n",
              "      <td>F</td>\n",
              "      <td>F</td>\n",
              "      <td>F</td>\n",
              "      <td>T</td>\n",
              "      <td>F</td>\n",
              "      <td>59</td>\n",
              "      <td>F</td>\n",
              "    </tr>\n",
              "    <tr>\n",
              "      <th>3</th>\n",
              "      <td>DGN3</td>\n",
              "      <td>3.68</td>\n",
              "      <td>3.04</td>\n",
              "      <td>PRZ0</td>\n",
              "      <td>F</td>\n",
              "      <td>F</td>\n",
              "      <td>F</td>\n",
              "      <td>F</td>\n",
              "      <td>F</td>\n",
              "      <td>OC11</td>\n",
              "      <td>F</td>\n",
              "      <td>F</td>\n",
              "      <td>F</td>\n",
              "      <td>F</td>\n",
              "      <td>F</td>\n",
              "      <td>54</td>\n",
              "      <td>F</td>\n",
              "    </tr>\n",
              "    <tr>\n",
              "      <th>4</th>\n",
              "      <td>DGN3</td>\n",
              "      <td>2.44</td>\n",
              "      <td>0.96</td>\n",
              "      <td>PRZ2</td>\n",
              "      <td>F</td>\n",
              "      <td>T</td>\n",
              "      <td>F</td>\n",
              "      <td>T</td>\n",
              "      <td>T</td>\n",
              "      <td>OC11</td>\n",
              "      <td>F</td>\n",
              "      <td>F</td>\n",
              "      <td>F</td>\n",
              "      <td>T</td>\n",
              "      <td>F</td>\n",
              "      <td>73</td>\n",
              "      <td>T</td>\n",
              "    </tr>\n",
              "    <tr>\n",
              "      <th>...</th>\n",
              "      <td>...</td>\n",
              "      <td>...</td>\n",
              "      <td>...</td>\n",
              "      <td>...</td>\n",
              "      <td>...</td>\n",
              "      <td>...</td>\n",
              "      <td>...</td>\n",
              "      <td>...</td>\n",
              "      <td>...</td>\n",
              "      <td>...</td>\n",
              "      <td>...</td>\n",
              "      <td>...</td>\n",
              "      <td>...</td>\n",
              "      <td>...</td>\n",
              "      <td>...</td>\n",
              "      <td>...</td>\n",
              "      <td>...</td>\n",
              "    </tr>\n",
              "    <tr>\n",
              "      <th>465</th>\n",
              "      <td>DGN2</td>\n",
              "      <td>3.88</td>\n",
              "      <td>2.12</td>\n",
              "      <td>PRZ1</td>\n",
              "      <td>F</td>\n",
              "      <td>F</td>\n",
              "      <td>F</td>\n",
              "      <td>T</td>\n",
              "      <td>F</td>\n",
              "      <td>OC13</td>\n",
              "      <td>F</td>\n",
              "      <td>F</td>\n",
              "      <td>F</td>\n",
              "      <td>T</td>\n",
              "      <td>F</td>\n",
              "      <td>63</td>\n",
              "      <td>F</td>\n",
              "    </tr>\n",
              "    <tr>\n",
              "      <th>466</th>\n",
              "      <td>DGN3</td>\n",
              "      <td>3.76</td>\n",
              "      <td>3.12</td>\n",
              "      <td>PRZ0</td>\n",
              "      <td>F</td>\n",
              "      <td>F</td>\n",
              "      <td>F</td>\n",
              "      <td>F</td>\n",
              "      <td>F</td>\n",
              "      <td>OC11</td>\n",
              "      <td>F</td>\n",
              "      <td>F</td>\n",
              "      <td>F</td>\n",
              "      <td>T</td>\n",
              "      <td>F</td>\n",
              "      <td>61</td>\n",
              "      <td>F</td>\n",
              "    </tr>\n",
              "    <tr>\n",
              "      <th>467</th>\n",
              "      <td>DGN3</td>\n",
              "      <td>3.04</td>\n",
              "      <td>2.08</td>\n",
              "      <td>PRZ1</td>\n",
              "      <td>F</td>\n",
              "      <td>F</td>\n",
              "      <td>F</td>\n",
              "      <td>T</td>\n",
              "      <td>F</td>\n",
              "      <td>OC13</td>\n",
              "      <td>F</td>\n",
              "      <td>F</td>\n",
              "      <td>F</td>\n",
              "      <td>F</td>\n",
              "      <td>F</td>\n",
              "      <td>52</td>\n",
              "      <td>F</td>\n",
              "    </tr>\n",
              "    <tr>\n",
              "      <th>468</th>\n",
              "      <td>DGN3</td>\n",
              "      <td>1.96</td>\n",
              "      <td>1.68</td>\n",
              "      <td>PRZ1</td>\n",
              "      <td>F</td>\n",
              "      <td>F</td>\n",
              "      <td>F</td>\n",
              "      <td>T</td>\n",
              "      <td>T</td>\n",
              "      <td>OC12</td>\n",
              "      <td>F</td>\n",
              "      <td>F</td>\n",
              "      <td>F</td>\n",
              "      <td>T</td>\n",
              "      <td>F</td>\n",
              "      <td>79</td>\n",
              "      <td>F</td>\n",
              "    </tr>\n",
              "    <tr>\n",
              "      <th>469</th>\n",
              "      <td>DGN3</td>\n",
              "      <td>4.72</td>\n",
              "      <td>3.56</td>\n",
              "      <td>PRZ0</td>\n",
              "      <td>F</td>\n",
              "      <td>F</td>\n",
              "      <td>F</td>\n",
              "      <td>F</td>\n",
              "      <td>F</td>\n",
              "      <td>OC12</td>\n",
              "      <td>F</td>\n",
              "      <td>F</td>\n",
              "      <td>F</td>\n",
              "      <td>T</td>\n",
              "      <td>F</td>\n",
              "      <td>51</td>\n",
              "      <td>F</td>\n",
              "    </tr>\n",
              "  </tbody>\n",
              "</table>\n",
              "<p>448 rows × 17 columns</p>\n",
              "</div>"
            ],
            "text/plain": [
              "    Diagnosis  Forced_vital_capacity  FEV1  ... Asthma Age Risk1Y\n",
              "0        DGN2                   2.88  2.16  ...      F  60      F\n",
              "1        DGN3                   3.40  1.88  ...      F  51      F\n",
              "2        DGN3                   2.76  2.08  ...      F  59      F\n",
              "3        DGN3                   3.68  3.04  ...      F  54      F\n",
              "4        DGN3                   2.44  0.96  ...      F  73      T\n",
              "..        ...                    ...   ...  ...    ...  ..    ...\n",
              "465      DGN2                   3.88  2.12  ...      F  63      F\n",
              "466      DGN3                   3.76  3.12  ...      F  61      F\n",
              "467      DGN3                   3.04  2.08  ...      F  52      F\n",
              "468      DGN3                   1.96  1.68  ...      F  79      F\n",
              "469      DGN3                   4.72  3.56  ...      F  51      F\n",
              "\n",
              "[448 rows x 17 columns]"
            ]
          },
          "metadata": {
            "tags": []
          },
          "execution_count": 47
        }
      ]
    },
    {
      "cell_type": "markdown",
      "metadata": {
        "id": "Xig8sHpEILyc"
      },
      "source": [
        "Теперь имплементируем алгоритм оверсэмплинга. Я применяю эту технику ко всему датасету, не разделяя его предварительно на тренировочную и тестовую часть. Причина опять же в очень малом количестве наблюдений.\n",
        "\n",
        "Сперва разделим наш датасет на целевую переменную и набор признаков."
      ]
    },
    {
      "cell_type": "code",
      "metadata": {
        "id": "BBqihJpZjJ7M"
      },
      "source": [
        "cut_raw_X = cut_raw_dataset.drop(columns='Diagnosis')\n",
        "cut_raw_y = cut_raw_dataset.Diagnosis"
      ],
      "execution_count": 48,
      "outputs": []
    },
    {
      "cell_type": "code",
      "metadata": {
        "id": "2e_LfTn403t7"
      },
      "source": [
        "cat_columns = ['Performance_status', \n",
        "              'Pain', \n",
        "              'Haemoptysis',\n",
        "              'Dyspnoea',\n",
        "              'Cough',\n",
        "              'Weakness',\n",
        "              'Size_of_tumor',\n",
        "              'diabetes_mellitus',\n",
        "              'MI_to_6months',\n",
        "              'PAD',\n",
        "              'Smoking',\n",
        "              'Asthma',\n",
        "              'Risk1Y']"
      ],
      "execution_count": 49,
      "outputs": []
    },
    {
      "cell_type": "code",
      "metadata": {
        "colab": {
          "base_uri": "https://localhost:8080/"
        },
        "id": "oeW0XMGwB0Lf",
        "outputId": "08bd3377-f43e-4546-ea8a-56569baad320"
      },
      "source": [
        "SmoteNC = SMOTENC([cut_raw_X.columns.get_loc(col) for col in cat_columns])\n",
        "Oversampled_X, Oversampled_y = SmoteNC.fit_resample(cut_raw_X, cut_raw_y)"
      ],
      "execution_count": 50,
      "outputs": [
        {
          "output_type": "stream",
          "text": [
            "/usr/local/lib/python3.6/dist-packages/sklearn/utils/deprecation.py:87: FutureWarning: Function safe_indexing is deprecated; safe_indexing is deprecated in version 0.22 and will be removed in version 0.24.\n",
            "  warnings.warn(msg, category=FutureWarning)\n",
            "/usr/local/lib/python3.6/dist-packages/sklearn/utils/deprecation.py:87: FutureWarning: Function safe_indexing is deprecated; safe_indexing is deprecated in version 0.22 and will be removed in version 0.24.\n",
            "  warnings.warn(msg, category=FutureWarning)\n"
          ],
          "name": "stderr"
        }
      ]
    },
    {
      "cell_type": "markdown",
      "metadata": {
        "id": "WRjQCoeop_Gu"
      },
      "source": [
        "Посмотрим на новый набор признаков"
      ]
    },
    {
      "cell_type": "code",
      "metadata": {
        "colab": {
          "base_uri": "https://localhost:8080/",
          "height": 424
        },
        "id": "US5KPmpyCvft",
        "outputId": "29c9225f-8605-46bb-f8ea-2b2db83d3f59"
      },
      "source": [
        "Oversampled_X = pd.DataFrame(Oversampled_X)\n",
        "Oversampled_X"
      ],
      "execution_count": 51,
      "outputs": [
        {
          "output_type": "execute_result",
          "data": {
            "text/html": [
              "<div>\n",
              "<style scoped>\n",
              "    .dataframe tbody tr th:only-of-type {\n",
              "        vertical-align: middle;\n",
              "    }\n",
              "\n",
              "    .dataframe tbody tr th {\n",
              "        vertical-align: top;\n",
              "    }\n",
              "\n",
              "    .dataframe thead th {\n",
              "        text-align: right;\n",
              "    }\n",
              "</style>\n",
              "<table border=\"1\" class=\"dataframe\">\n",
              "  <thead>\n",
              "    <tr style=\"text-align: right;\">\n",
              "      <th></th>\n",
              "      <th>0</th>\n",
              "      <th>1</th>\n",
              "      <th>2</th>\n",
              "      <th>3</th>\n",
              "      <th>4</th>\n",
              "      <th>5</th>\n",
              "      <th>6</th>\n",
              "      <th>7</th>\n",
              "      <th>8</th>\n",
              "      <th>9</th>\n",
              "      <th>10</th>\n",
              "      <th>11</th>\n",
              "      <th>12</th>\n",
              "      <th>13</th>\n",
              "      <th>14</th>\n",
              "      <th>15</th>\n",
              "    </tr>\n",
              "  </thead>\n",
              "  <tbody>\n",
              "    <tr>\n",
              "      <th>0</th>\n",
              "      <td>2.88</td>\n",
              "      <td>2.16</td>\n",
              "      <td>PRZ1</td>\n",
              "      <td>F</td>\n",
              "      <td>F</td>\n",
              "      <td>F</td>\n",
              "      <td>T</td>\n",
              "      <td>T</td>\n",
              "      <td>OC14</td>\n",
              "      <td>F</td>\n",
              "      <td>F</td>\n",
              "      <td>F</td>\n",
              "      <td>T</td>\n",
              "      <td>F</td>\n",
              "      <td>60</td>\n",
              "      <td>F</td>\n",
              "    </tr>\n",
              "    <tr>\n",
              "      <th>1</th>\n",
              "      <td>3.4</td>\n",
              "      <td>1.88</td>\n",
              "      <td>PRZ0</td>\n",
              "      <td>F</td>\n",
              "      <td>F</td>\n",
              "      <td>F</td>\n",
              "      <td>F</td>\n",
              "      <td>F</td>\n",
              "      <td>OC12</td>\n",
              "      <td>F</td>\n",
              "      <td>F</td>\n",
              "      <td>F</td>\n",
              "      <td>T</td>\n",
              "      <td>F</td>\n",
              "      <td>51</td>\n",
              "      <td>F</td>\n",
              "    </tr>\n",
              "    <tr>\n",
              "      <th>2</th>\n",
              "      <td>2.76</td>\n",
              "      <td>2.08</td>\n",
              "      <td>PRZ1</td>\n",
              "      <td>F</td>\n",
              "      <td>F</td>\n",
              "      <td>F</td>\n",
              "      <td>T</td>\n",
              "      <td>F</td>\n",
              "      <td>OC11</td>\n",
              "      <td>F</td>\n",
              "      <td>F</td>\n",
              "      <td>F</td>\n",
              "      <td>T</td>\n",
              "      <td>F</td>\n",
              "      <td>59</td>\n",
              "      <td>F</td>\n",
              "    </tr>\n",
              "    <tr>\n",
              "      <th>3</th>\n",
              "      <td>3.68</td>\n",
              "      <td>3.04</td>\n",
              "      <td>PRZ0</td>\n",
              "      <td>F</td>\n",
              "      <td>F</td>\n",
              "      <td>F</td>\n",
              "      <td>F</td>\n",
              "      <td>F</td>\n",
              "      <td>OC11</td>\n",
              "      <td>F</td>\n",
              "      <td>F</td>\n",
              "      <td>F</td>\n",
              "      <td>F</td>\n",
              "      <td>F</td>\n",
              "      <td>54</td>\n",
              "      <td>F</td>\n",
              "    </tr>\n",
              "    <tr>\n",
              "      <th>4</th>\n",
              "      <td>2.44</td>\n",
              "      <td>0.96</td>\n",
              "      <td>PRZ2</td>\n",
              "      <td>F</td>\n",
              "      <td>T</td>\n",
              "      <td>F</td>\n",
              "      <td>T</td>\n",
              "      <td>T</td>\n",
              "      <td>OC11</td>\n",
              "      <td>F</td>\n",
              "      <td>F</td>\n",
              "      <td>F</td>\n",
              "      <td>T</td>\n",
              "      <td>F</td>\n",
              "      <td>73</td>\n",
              "      <td>T</td>\n",
              "    </tr>\n",
              "    <tr>\n",
              "      <th>...</th>\n",
              "      <td>...</td>\n",
              "      <td>...</td>\n",
              "      <td>...</td>\n",
              "      <td>...</td>\n",
              "      <td>...</td>\n",
              "      <td>...</td>\n",
              "      <td>...</td>\n",
              "      <td>...</td>\n",
              "      <td>...</td>\n",
              "      <td>...</td>\n",
              "      <td>...</td>\n",
              "      <td>...</td>\n",
              "      <td>...</td>\n",
              "      <td>...</td>\n",
              "      <td>...</td>\n",
              "      <td>...</td>\n",
              "    </tr>\n",
              "    <tr>\n",
              "      <th>1359</th>\n",
              "      <td>2.53129</td>\n",
              "      <td>1.97071</td>\n",
              "      <td>PRZ1</td>\n",
              "      <td>F</td>\n",
              "      <td>F</td>\n",
              "      <td>F</td>\n",
              "      <td>T</td>\n",
              "      <td>F</td>\n",
              "      <td>OC12</td>\n",
              "      <td>F</td>\n",
              "      <td>F</td>\n",
              "      <td>F</td>\n",
              "      <td>T</td>\n",
              "      <td>F</td>\n",
              "      <td>72</td>\n",
              "      <td>F</td>\n",
              "    </tr>\n",
              "    <tr>\n",
              "      <th>1360</th>\n",
              "      <td>4.95688</td>\n",
              "      <td>4.14753</td>\n",
              "      <td>PRZ1</td>\n",
              "      <td>F</td>\n",
              "      <td>F</td>\n",
              "      <td>F</td>\n",
              "      <td>T</td>\n",
              "      <td>F</td>\n",
              "      <td>OC11</td>\n",
              "      <td>F</td>\n",
              "      <td>F</td>\n",
              "      <td>F</td>\n",
              "      <td>T</td>\n",
              "      <td>F</td>\n",
              "      <td>60.441</td>\n",
              "      <td>T</td>\n",
              "    </tr>\n",
              "    <tr>\n",
              "      <th>1361</th>\n",
              "      <td>2.59087</td>\n",
              "      <td>1.84467</td>\n",
              "      <td>PRZ1</td>\n",
              "      <td>F</td>\n",
              "      <td>F</td>\n",
              "      <td>F</td>\n",
              "      <td>F</td>\n",
              "      <td>F</td>\n",
              "      <td>OC12</td>\n",
              "      <td>F</td>\n",
              "      <td>F</td>\n",
              "      <td>F</td>\n",
              "      <td>T</td>\n",
              "      <td>F</td>\n",
              "      <td>74.2174</td>\n",
              "      <td>F</td>\n",
              "    </tr>\n",
              "    <tr>\n",
              "      <th>1362</th>\n",
              "      <td>2.92755</td>\n",
              "      <td>2.13074</td>\n",
              "      <td>PRZ0</td>\n",
              "      <td>F</td>\n",
              "      <td>F</td>\n",
              "      <td>F</td>\n",
              "      <td>T</td>\n",
              "      <td>F</td>\n",
              "      <td>OC11</td>\n",
              "      <td>F</td>\n",
              "      <td>F</td>\n",
              "      <td>F</td>\n",
              "      <td>T</td>\n",
              "      <td>F</td>\n",
              "      <td>72</td>\n",
              "      <td>F</td>\n",
              "    </tr>\n",
              "    <tr>\n",
              "      <th>1363</th>\n",
              "      <td>2.67655</td>\n",
              "      <td>2.06528</td>\n",
              "      <td>PRZ1</td>\n",
              "      <td>F</td>\n",
              "      <td>F</td>\n",
              "      <td>F</td>\n",
              "      <td>T</td>\n",
              "      <td>F</td>\n",
              "      <td>OC11</td>\n",
              "      <td>F</td>\n",
              "      <td>F</td>\n",
              "      <td>F</td>\n",
              "      <td>T</td>\n",
              "      <td>F</td>\n",
              "      <td>73.7009</td>\n",
              "      <td>F</td>\n",
              "    </tr>\n",
              "  </tbody>\n",
              "</table>\n",
              "<p>1364 rows × 16 columns</p>\n",
              "</div>"
            ],
            "text/plain": [
              "           0        1     2  3  4  5  6  7     8  9  10 11 12 13       14 15\n",
              "0        2.88     2.16  PRZ1  F  F  F  T  T  OC14  F  F  F  T  F       60  F\n",
              "1         3.4     1.88  PRZ0  F  F  F  F  F  OC12  F  F  F  T  F       51  F\n",
              "2        2.76     2.08  PRZ1  F  F  F  T  F  OC11  F  F  F  T  F       59  F\n",
              "3        3.68     3.04  PRZ0  F  F  F  F  F  OC11  F  F  F  F  F       54  F\n",
              "4        2.44     0.96  PRZ2  F  T  F  T  T  OC11  F  F  F  T  F       73  T\n",
              "...       ...      ...   ... .. .. .. .. ..   ... .. .. .. .. ..      ... ..\n",
              "1359  2.53129  1.97071  PRZ1  F  F  F  T  F  OC12  F  F  F  T  F       72  F\n",
              "1360  4.95688  4.14753  PRZ1  F  F  F  T  F  OC11  F  F  F  T  F   60.441  T\n",
              "1361  2.59087  1.84467  PRZ1  F  F  F  F  F  OC12  F  F  F  T  F  74.2174  F\n",
              "1362  2.92755  2.13074  PRZ0  F  F  F  T  F  OC11  F  F  F  T  F       72  F\n",
              "1363  2.67655  2.06528  PRZ1  F  F  F  T  F  OC11  F  F  F  T  F  73.7009  F\n",
              "\n",
              "[1364 rows x 16 columns]"
            ]
          },
          "metadata": {
            "tags": []
          },
          "execution_count": 51
        }
      ]
    },
    {
      "cell_type": "markdown",
      "metadata": {
        "id": "GG3rFRFAqH8I"
      },
      "source": [
        "Имена столбцов сброшены - присвоим их заново.\n",
        "\n",
        "Что касается столбца Age - видно, что алгоритм оверсэмплинга присвоил значения типа float, когда нам нужны целочисленные значения. Уберём все дроби из этого столбца."
      ]
    },
    {
      "cell_type": "code",
      "metadata": {
        "id": "bUVB7bJl7883"
      },
      "source": [
        "Oversampled_X.columns=['Forced_vital_capacity', \n",
        "                       'FEV1', \n",
        "                       'Performance_status', \n",
        "                       'Pain', \n",
        "                       'Haemoptysis',\n",
        "                       'Dyspnoea',\n",
        "                       'Cough',\n",
        "                       'Weakness',\n",
        "                       'Size_of_tumor',\n",
        "                       'diabetes_mellitus',\n",
        "                       'MI_to_6months',\n",
        "                       'PAD',\n",
        "                       'Smoking',\n",
        "                       'Asthma',\n",
        "                       'Age',\n",
        "                       'Risk1Y']"
      ],
      "execution_count": 52,
      "outputs": []
    },
    {
      "cell_type": "code",
      "metadata": {
        "id": "Bo6ytGyE81Dw"
      },
      "source": [
        "Oversampled_X.Age = Oversampled_X.Age//1"
      ],
      "execution_count": 53,
      "outputs": []
    },
    {
      "cell_type": "markdown",
      "metadata": {
        "id": "7czmNE1Tq2Ww"
      },
      "source": [
        "Теперь снова приведем значения False и True к 0 и 1 соответственно. Далее закодируем с помощью LabelEncoder остальные категориальные признаки."
      ]
    },
    {
      "cell_type": "code",
      "metadata": {
        "id": "kKflGZSz_Wnc"
      },
      "source": [
        "Oversampled_X = Oversampled_X.replace({'F':0, 'T':1})"
      ],
      "execution_count": 54,
      "outputs": []
    },
    {
      "cell_type": "code",
      "metadata": {
        "id": "qBz-oiVBE-hX"
      },
      "source": [
        "for categorical_column in ['Performance_status', 'Size_of_tumor']:\n",
        "  Oversampled_X[categorical_column] = LabelEncoder().fit_transform(Oversampled_X[categorical_column])"
      ],
      "execution_count": 55,
      "outputs": []
    },
    {
      "cell_type": "code",
      "metadata": {
        "colab": {
          "base_uri": "https://localhost:8080/"
        },
        "id": "V_KTOp_JF0F4",
        "outputId": "43776f8a-3902-48b0-f114-e28048b4dde5"
      },
      "source": [
        "Oversampled_y = LabelEncoder().fit_transform(Oversampled_y)\n",
        "Oversampled_y"
      ],
      "execution_count": 56,
      "outputs": [
        {
          "output_type": "execute_result",
          "data": {
            "text/plain": [
              "array([0, 1, 1, ..., 3, 3, 3])"
            ]
          },
          "metadata": {
            "tags": []
          },
          "execution_count": 56
        }
      ]
    },
    {
      "cell_type": "code",
      "metadata": {
        "colab": {
          "base_uri": "https://localhost:8080/",
          "height": 320
        },
        "id": "k9MlvBRnF2dX",
        "outputId": "71f18c60-8640-4fc8-e7cc-10c212655eda"
      },
      "source": [
        "Oversampled_X.describe()"
      ],
      "execution_count": 57,
      "outputs": [
        {
          "output_type": "execute_result",
          "data": {
            "text/html": [
              "<div>\n",
              "<style scoped>\n",
              "    .dataframe tbody tr th:only-of-type {\n",
              "        vertical-align: middle;\n",
              "    }\n",
              "\n",
              "    .dataframe tbody tr th {\n",
              "        vertical-align: top;\n",
              "    }\n",
              "\n",
              "    .dataframe thead th {\n",
              "        text-align: right;\n",
              "    }\n",
              "</style>\n",
              "<table border=\"1\" class=\"dataframe\">\n",
              "  <thead>\n",
              "    <tr style=\"text-align: right;\">\n",
              "      <th></th>\n",
              "      <th>Forced_vital_capacity</th>\n",
              "      <th>FEV1</th>\n",
              "      <th>Performance_status</th>\n",
              "      <th>Pain</th>\n",
              "      <th>Haemoptysis</th>\n",
              "      <th>Dyspnoea</th>\n",
              "      <th>Cough</th>\n",
              "      <th>Weakness</th>\n",
              "      <th>Size_of_tumor</th>\n",
              "      <th>diabetes_mellitus</th>\n",
              "      <th>MI_to_6months</th>\n",
              "      <th>PAD</th>\n",
              "      <th>Smoking</th>\n",
              "      <th>Asthma</th>\n",
              "      <th>Age</th>\n",
              "      <th>Risk1Y</th>\n",
              "    </tr>\n",
              "  </thead>\n",
              "  <tbody>\n",
              "    <tr>\n",
              "      <th>count</th>\n",
              "      <td>1364.000000</td>\n",
              "      <td>1364.000000</td>\n",
              "      <td>1364.000000</td>\n",
              "      <td>1364.000000</td>\n",
              "      <td>1364.000000</td>\n",
              "      <td>1364.000000</td>\n",
              "      <td>1364.000000</td>\n",
              "      <td>1364.000000</td>\n",
              "      <td>1364.000000</td>\n",
              "      <td>1364.000000</td>\n",
              "      <td>1364.000000</td>\n",
              "      <td>1364.000000</td>\n",
              "      <td>1364.000000</td>\n",
              "      <td>1364.000000</td>\n",
              "      <td>1364.000000</td>\n",
              "      <td>1364.000000</td>\n",
              "    </tr>\n",
              "    <tr>\n",
              "      <th>mean</th>\n",
              "      <td>3.324206</td>\n",
              "      <td>2.548132</td>\n",
              "      <td>0.897361</td>\n",
              "      <td>0.019795</td>\n",
              "      <td>0.056452</td>\n",
              "      <td>0.018328</td>\n",
              "      <td>0.791789</td>\n",
              "      <td>0.075513</td>\n",
              "      <td>0.704545</td>\n",
              "      <td>0.024927</td>\n",
              "      <td>0.001466</td>\n",
              "      <td>0.005865</td>\n",
              "      <td>0.940616</td>\n",
              "      <td>0.001466</td>\n",
              "      <td>63.217009</td>\n",
              "      <td>0.192815</td>\n",
              "    </tr>\n",
              "    <tr>\n",
              "      <th>std</th>\n",
              "      <td>0.774552</td>\n",
              "      <td>0.721898</td>\n",
              "      <td>0.388415</td>\n",
              "      <td>0.139345</td>\n",
              "      <td>0.230876</td>\n",
              "      <td>0.134185</td>\n",
              "      <td>0.406178</td>\n",
              "      <td>0.264315</td>\n",
              "      <td>0.619997</td>\n",
              "      <td>0.155959</td>\n",
              "      <td>0.038278</td>\n",
              "      <td>0.076387</td>\n",
              "      <td>0.236429</td>\n",
              "      <td>0.038278</td>\n",
              "      <td>8.586950</td>\n",
              "      <td>0.394654</td>\n",
              "    </tr>\n",
              "    <tr>\n",
              "      <th>min</th>\n",
              "      <td>1.440000</td>\n",
              "      <td>0.960000</td>\n",
              "      <td>0.000000</td>\n",
              "      <td>0.000000</td>\n",
              "      <td>0.000000</td>\n",
              "      <td>0.000000</td>\n",
              "      <td>0.000000</td>\n",
              "      <td>0.000000</td>\n",
              "      <td>0.000000</td>\n",
              "      <td>0.000000</td>\n",
              "      <td>0.000000</td>\n",
              "      <td>0.000000</td>\n",
              "      <td>0.000000</td>\n",
              "      <td>0.000000</td>\n",
              "      <td>21.000000</td>\n",
              "      <td>0.000000</td>\n",
              "    </tr>\n",
              "    <tr>\n",
              "      <th>25%</th>\n",
              "      <td>2.777531</td>\n",
              "      <td>2.044435</td>\n",
              "      <td>1.000000</td>\n",
              "      <td>0.000000</td>\n",
              "      <td>0.000000</td>\n",
              "      <td>0.000000</td>\n",
              "      <td>1.000000</td>\n",
              "      <td>0.000000</td>\n",
              "      <td>0.000000</td>\n",
              "      <td>0.000000</td>\n",
              "      <td>0.000000</td>\n",
              "      <td>0.000000</td>\n",
              "      <td>1.000000</td>\n",
              "      <td>0.000000</td>\n",
              "      <td>57.000000</td>\n",
              "      <td>0.000000</td>\n",
              "    </tr>\n",
              "    <tr>\n",
              "      <th>50%</th>\n",
              "      <td>3.200000</td>\n",
              "      <td>2.405301</td>\n",
              "      <td>1.000000</td>\n",
              "      <td>0.000000</td>\n",
              "      <td>0.000000</td>\n",
              "      <td>0.000000</td>\n",
              "      <td>1.000000</td>\n",
              "      <td>0.000000</td>\n",
              "      <td>1.000000</td>\n",
              "      <td>0.000000</td>\n",
              "      <td>0.000000</td>\n",
              "      <td>0.000000</td>\n",
              "      <td>1.000000</td>\n",
              "      <td>0.000000</td>\n",
              "      <td>62.000000</td>\n",
              "      <td>0.000000</td>\n",
              "    </tr>\n",
              "    <tr>\n",
              "      <th>75%</th>\n",
              "      <td>3.746850</td>\n",
              "      <td>2.880000</td>\n",
              "      <td>1.000000</td>\n",
              "      <td>0.000000</td>\n",
              "      <td>0.000000</td>\n",
              "      <td>0.000000</td>\n",
              "      <td>1.000000</td>\n",
              "      <td>0.000000</td>\n",
              "      <td>1.000000</td>\n",
              "      <td>0.000000</td>\n",
              "      <td>0.000000</td>\n",
              "      <td>0.000000</td>\n",
              "      <td>1.000000</td>\n",
              "      <td>0.000000</td>\n",
              "      <td>70.000000</td>\n",
              "      <td>0.000000</td>\n",
              "    </tr>\n",
              "    <tr>\n",
              "      <th>max</th>\n",
              "      <td>6.300000</td>\n",
              "      <td>5.480000</td>\n",
              "      <td>2.000000</td>\n",
              "      <td>1.000000</td>\n",
              "      <td>1.000000</td>\n",
              "      <td>1.000000</td>\n",
              "      <td>1.000000</td>\n",
              "      <td>1.000000</td>\n",
              "      <td>3.000000</td>\n",
              "      <td>1.000000</td>\n",
              "      <td>1.000000</td>\n",
              "      <td>1.000000</td>\n",
              "      <td>1.000000</td>\n",
              "      <td>1.000000</td>\n",
              "      <td>87.000000</td>\n",
              "      <td>1.000000</td>\n",
              "    </tr>\n",
              "  </tbody>\n",
              "</table>\n",
              "</div>"
            ],
            "text/plain": [
              "       Forced_vital_capacity         FEV1  ...          Age       Risk1Y\n",
              "count            1364.000000  1364.000000  ...  1364.000000  1364.000000\n",
              "mean                3.324206     2.548132  ...    63.217009     0.192815\n",
              "std                 0.774552     0.721898  ...     8.586950     0.394654\n",
              "min                 1.440000     0.960000  ...    21.000000     0.000000\n",
              "25%                 2.777531     2.044435  ...    57.000000     0.000000\n",
              "50%                 3.200000     2.405301  ...    62.000000     0.000000\n",
              "75%                 3.746850     2.880000  ...    70.000000     0.000000\n",
              "max                 6.300000     5.480000  ...    87.000000     1.000000\n",
              "\n",
              "[8 rows x 16 columns]"
            ]
          },
          "metadata": {
            "tags": []
          },
          "execution_count": 57
        }
      ]
    },
    {
      "cell_type": "code",
      "metadata": {
        "colab": {
          "base_uri": "https://localhost:8080/",
          "height": 879
        },
        "id": "ewBJow75RL36",
        "outputId": "e62bb63c-f5eb-4186-88bf-3d87341a236a"
      },
      "source": [
        "Oversampled_X.hist(figsize= (25,15))\n",
        "plt.show()"
      ],
      "execution_count": 58,
      "outputs": [
        {
          "output_type": "display_data",
          "data": {
            "image/png": "[encoded data removed]",
            "text/plain": [
              "<Figure size 1800x1080 with 16 Axes>"
            ]
          },
          "metadata": {
            "tags": [],
            "needs_background": "light"
          }
        }
      ]
    },
    {
      "cell_type": "markdown",
      "metadata": {
        "id": "U_m7l7qx0WXt"
      },
      "source": [
        "На гистограммах видно, что распределение в столбце FEV1 похоже на нормальное, и больше не содержит выбросов. Некоторые столбцы, например Risk1Y, тоже стали более сбалансированными.\n",
        "\n",
        "Теперь мы разделим данные на тренировочную и тестовую выборки из искусственно увеличенного датасета."
      ]
    },
    {
      "cell_type": "code",
      "metadata": {
        "id": "nFAxvUoWVt5b"
      },
      "source": [
        "Train_oversampled_X, Test_oversampled_X, Train_oversampled_y, Test_oversampled_y = train_test_split(Oversampled_X, Oversampled_y)"
      ],
      "execution_count": 59,
      "outputs": []
    },
    {
      "cell_type": "markdown",
      "metadata": {
        "id": "sYAu3ennQa3-"
      },
      "source": [
        "### Повторное применение алгоритмов"
      ]
    },
    {
      "cell_type": "markdown",
      "metadata": {
        "id": "4C1ZZWo2Rli4"
      },
      "source": [
        "#### kNN"
      ]
    },
    {
      "cell_type": "code",
      "metadata": {
        "colab": {
          "base_uri": "https://localhost:8080/",
          "height": 405
        },
        "id": "czTA2tR2Qwux",
        "outputId": "3de08625-be16-445c-852d-5b74f4124bb3"
      },
      "source": [
        "knn_search.fit(Train_oversampled_X, Train_oversampled_y)\n",
        "grid_plot(np.arange(1,30), knn_search.cv_results_['mean_test_score'],'kNN')\n"
      ],
      "execution_count": 60,
      "outputs": [
        {
          "output_type": "display_data",
          "data": {
            "image/png": "[encoded data removed]",
            "text/plain": [
              "<Figure size 864x432 with 1 Axes>"
            ]
          },
          "metadata": {
            "tags": [],
            "needs_background": "light"
          }
        }
      ]
    },
    {
      "cell_type": "code",
      "metadata": {
        "colab": {
          "base_uri": "https://localhost:8080/"
        },
        "id": "o4BxAy8eUkXJ",
        "outputId": "55d30ba5-2331-4adc-c225-8014cfc68a49"
      },
      "source": [
        "knn_oversampled = KNeighborsClassifier(n_neighbors=3)\n",
        "knn_oversampled.fit(Train_oversampled_X,Train_oversampled_y)"
      ],
      "execution_count": 61,
      "outputs": [
        {
          "output_type": "execute_result",
          "data": {
            "text/plain": [
              "KNeighborsClassifier(algorithm='auto', leaf_size=30, metric='minkowski',\n",
              "                     metric_params=None, n_jobs=None, n_neighbors=3, p=2,\n",
              "                     weights='uniform')"
            ]
          },
          "metadata": {
            "tags": []
          },
          "execution_count": 61
        }
      ]
    },
    {
      "cell_type": "code",
      "metadata": {
        "colab": {
          "base_uri": "https://localhost:8080/"
        },
        "id": "CpREBk75U86E",
        "outputId": "ecaebf93-47d6-4ad0-d0ae-afb717b7a2b4"
      },
      "source": [
        "print(classification_report(Test_oversampled_y,knn_oversampled.predict(Test_oversampled_X)))"
      ],
      "execution_count": 62,
      "outputs": [
        {
          "output_type": "stream",
          "text": [
            "              precision    recall  f1-score   support\n",
            "\n",
            "           0       0.62      0.68      0.65        90\n",
            "           1       0.63      0.34      0.44        77\n",
            "           2       0.66      0.73      0.69        88\n",
            "           3       0.79      0.95      0.86        86\n",
            "\n",
            "    accuracy                           0.68       341\n",
            "   macro avg       0.67      0.67      0.66       341\n",
            "weighted avg       0.67      0.68      0.67       341\n",
            "\n"
          ],
          "name": "stdout"
        }
      ]
    },
    {
      "cell_type": "markdown",
      "metadata": {
        "id": "1LIPHdfp3PYd"
      },
      "source": [
        "Диаграмма показывает, что при увеличении числа соседей точность алгоритма падает. Сам результат сложно назвать хорошим, но в отличии от работы на немодифицированных данных этот алгоритм различает с определённым успехом все выбранные классы"
      ]
    },
    {
      "cell_type": "markdown",
      "metadata": {
        "id": "qb-tfKQHUg1d"
      },
      "source": [
        "#### Logistic regression"
      ]
    },
    {
      "cell_type": "code",
      "metadata": {
        "colab": {
          "base_uri": "https://localhost:8080/"
        },
        "id": "fLsg96EKSOOu",
        "outputId": "ee31ed29-a0be-4be0-ee92-285494cfbb5c"
      },
      "source": [
        "LR_search.fit(Train_oversampled_X, Train_oversampled_y)\n",
        "print(LR_search.best_params_, LR_search.best_score_)"
      ],
      "execution_count": 63,
      "outputs": [
        {
          "output_type": "stream",
          "text": [
            "{'C': 20.7979797979798, 'penalty': 'l1'} 0.5836202773792444\n"
          ],
          "name": "stdout"
        }
      ]
    },
    {
      "cell_type": "code",
      "metadata": {
        "colab": {
          "base_uri": "https://localhost:8080/"
        },
        "id": "h2_ImkEUXQbJ",
        "outputId": "40542e96-4033-4298-9a91-c4a59871b27b"
      },
      "source": [
        "print(classification_report(Test_oversampled_y, LR_search.predict(Test_oversampled_X)))"
      ],
      "execution_count": 64,
      "outputs": [
        {
          "output_type": "stream",
          "text": [
            "              precision    recall  f1-score   support\n",
            "\n",
            "           0       0.51      0.56      0.53        90\n",
            "           1       0.56      0.55      0.55        77\n",
            "           2       0.53      0.48      0.50        88\n",
            "           3       0.75      0.76      0.75        86\n",
            "\n",
            "    accuracy                           0.58       341\n",
            "   macro avg       0.58      0.58      0.58       341\n",
            "weighted avg       0.58      0.58      0.58       341\n",
            "\n"
          ],
          "name": "stdout"
        }
      ]
    },
    {
      "cell_type": "markdown",
      "metadata": {
        "id": "ElQMVlki4Dof"
      },
      "source": [
        "Опять видим способность различать классы, но общая точность оставляет желать лучшего"
      ]
    },
    {
      "cell_type": "markdown",
      "metadata": {
        "id": "U-aKVSscZjY7"
      },
      "source": [
        "#### Naive Bayes"
      ]
    },
    {
      "cell_type": "code",
      "metadata": {
        "colab": {
          "base_uri": "https://localhost:8080/"
        },
        "id": "i38JEroeXxXm",
        "outputId": "b2b2af0b-5a80-48b8-ebcb-93a7670a2e8f"
      },
      "source": [
        "Categorical_bayes.fit(Train_oversampled_X,Train_oversampled_y)\n",
        "print(classification_report(Test_oversampled_y,Categorical_bayes.predict(Test_oversampled_X)))"
      ],
      "execution_count": 65,
      "outputs": [
        {
          "output_type": "stream",
          "text": [
            "              precision    recall  f1-score   support\n",
            "\n",
            "           0       0.57      0.52      0.54        90\n",
            "           1       0.58      0.55      0.56        77\n",
            "           2       0.58      0.72      0.64        88\n",
            "           3       0.75      0.67      0.71        86\n",
            "\n",
            "    accuracy                           0.62       341\n",
            "   macro avg       0.62      0.61      0.61       341\n",
            "weighted avg       0.62      0.62      0.62       341\n",
            "\n"
          ],
          "name": "stdout"
        }
      ]
    },
    {
      "cell_type": "code",
      "metadata": {
        "colab": {
          "base_uri": "https://localhost:8080/"
        },
        "id": "TRf4hb2dZ8F6",
        "outputId": "a4bc55f8-9532-41b7-fecc-0c231be2c3d8"
      },
      "source": [
        "Comp_NB.fit(Train_oversampled_X,Train_oversampled_y)\n",
        "print(classification_report(Test_oversampled_y, Comp_NB.predict(Test_oversampled_X)))"
      ],
      "execution_count": 66,
      "outputs": [
        {
          "output_type": "stream",
          "text": [
            "              precision    recall  f1-score   support\n",
            "\n",
            "           0       0.45      0.58      0.50        90\n",
            "           1       0.61      0.35      0.45        77\n",
            "           2       0.42      0.40      0.41        88\n",
            "           3       0.57      0.65      0.61        86\n",
            "\n",
            "    accuracy                           0.50       341\n",
            "   macro avg       0.51      0.49      0.49       341\n",
            "weighted avg       0.51      0.50      0.49       341\n",
            "\n"
          ],
          "name": "stdout"
        }
      ]
    },
    {
      "cell_type": "markdown",
      "metadata": {
        "id": "NWJ5EGo64Tu_"
      },
      "source": [
        "Байесевские классификаторы не показали значительных улучшений в сравнении с другими алгоритмами"
      ]
    },
    {
      "cell_type": "markdown",
      "metadata": {
        "id": "87NukcAIae_P"
      },
      "source": [
        "#### Decision Tree"
      ]
    },
    {
      "cell_type": "code",
      "metadata": {
        "colab": {
          "base_uri": "https://localhost:8080/"
        },
        "id": "jTJOJ1HcaPwm",
        "outputId": "60a534cf-94bf-4d53-f930-2bf3aab07162"
      },
      "source": [
        "Tree.fit(Train_oversampled_X, Train_oversampled_y)\n",
        "Tree_predictions = Tree.predict(Test_oversampled_X)\n",
        "print(classification_report(Test_oversampled_y, Tree_predictions))"
      ],
      "execution_count": 67,
      "outputs": [
        {
          "output_type": "stream",
          "text": [
            "              precision    recall  f1-score   support\n",
            "\n",
            "           0       0.72      0.66      0.69        90\n",
            "           1       0.56      0.49      0.52        77\n",
            "           2       0.69      0.80      0.74        88\n",
            "           3       0.84      0.88      0.86        86\n",
            "\n",
            "    accuracy                           0.71       341\n",
            "   macro avg       0.70      0.71      0.70       341\n",
            "weighted avg       0.71      0.71      0.71       341\n",
            "\n"
          ],
          "name": "stdout"
        }
      ]
    },
    {
      "cell_type": "markdown",
      "metadata": {
        "id": "VHY21PZw4wbf"
      },
      "source": [
        "А вот дерево решений в среднем показало значительное увелечение точности относительно предыдущих алгоритмов. 0,7 против 0,6 и менее"
      ]
    },
    {
      "cell_type": "markdown",
      "metadata": {
        "id": "GRgYOfSaayKF"
      },
      "source": [
        "#### Catboost"
      ]
    },
    {
      "cell_type": "code",
      "metadata": {
        "colab": {
          "base_uri": "https://localhost:8080/"
        },
        "id": "D0PLf9Cuap6y",
        "outputId": "eaf3969d-18c2-4a2a-91d1-570d1f7c9f0d"
      },
      "source": [
        "Kitty.fit(Train_oversampled_X, Train_oversampled_y)\n",
        "Kitty_predictions = Kitty.predict(Test_oversampled_X)\n"
      ],
      "execution_count": 68,
      "outputs": [
        {
          "output_type": "stream",
          "text": [
            "Learning rate set to 0.079219\n",
            "0:\tlearn: 1.3339136\ttotal: 7.04ms\tremaining: 7.03s\n",
            "1:\tlearn: 1.2908177\ttotal: 13.1ms\tremaining: 6.51s\n",
            "2:\tlearn: 1.2457317\ttotal: 18.7ms\tremaining: 6.21s\n",
            "3:\tlearn: 1.2136232\ttotal: 24.9ms\tremaining: 6.2s\n",
            "4:\tlearn: 1.1693192\ttotal: 31ms\tremaining: 6.17s\n",
            "5:\tlearn: 1.1410120\ttotal: 37.8ms\tremaining: 6.27s\n",
            "6:\tlearn: 1.1106366\ttotal: 43.3ms\tremaining: 6.14s\n",
            "7:\tlearn: 1.0942677\ttotal: 49.4ms\tremaining: 6.12s\n",
            "8:\tlearn: 1.0735597\ttotal: 55.6ms\tremaining: 6.12s\n",
            "9:\tlearn: 1.0575191\ttotal: 60.9ms\tremaining: 6.03s\n",
            "10:\tlearn: 1.0428583\ttotal: 66.4ms\tremaining: 5.97s\n",
            "11:\tlearn: 1.0217698\ttotal: 71.6ms\tremaining: 5.89s\n",
            "12:\tlearn: 1.0034657\ttotal: 77ms\tremaining: 5.84s\n",
            "13:\tlearn: 0.9958011\ttotal: 82.5ms\tremaining: 5.81s\n",
            "14:\tlearn: 0.9794329\ttotal: 91ms\tremaining: 5.97s\n",
            "15:\tlearn: 0.9662852\ttotal: 96.4ms\tremaining: 5.93s\n",
            "16:\tlearn: 0.9511583\ttotal: 102ms\tremaining: 5.88s\n",
            "17:\tlearn: 0.9377458\ttotal: 107ms\tremaining: 5.84s\n",
            "18:\tlearn: 0.9288360\ttotal: 112ms\tremaining: 5.8s\n",
            "19:\tlearn: 0.9187650\ttotal: 117ms\tremaining: 5.75s\n",
            "20:\tlearn: 0.9154045\ttotal: 119ms\tremaining: 5.57s\n",
            "21:\tlearn: 0.9092131\ttotal: 128ms\tremaining: 5.7s\n",
            "22:\tlearn: 0.9042050\ttotal: 133ms\tremaining: 5.67s\n",
            "23:\tlearn: 0.8954941\ttotal: 139ms\tremaining: 5.65s\n",
            "24:\tlearn: 0.8875214\ttotal: 147ms\tremaining: 5.72s\n",
            "25:\tlearn: 0.8791183\ttotal: 153ms\tremaining: 5.74s\n",
            "26:\tlearn: 0.8702792\ttotal: 161ms\tremaining: 5.79s\n",
            "27:\tlearn: 0.8651133\ttotal: 166ms\tremaining: 5.77s\n",
            "28:\tlearn: 0.8586750\ttotal: 173ms\tremaining: 5.81s\n",
            "29:\tlearn: 0.8515475\ttotal: 179ms\tremaining: 5.77s\n",
            "30:\tlearn: 0.8455126\ttotal: 184ms\tremaining: 5.76s\n",
            "31:\tlearn: 0.8395452\ttotal: 191ms\tremaining: 5.78s\n",
            "32:\tlearn: 0.8324158\ttotal: 197ms\tremaining: 5.76s\n",
            "33:\tlearn: 0.8241395\ttotal: 202ms\tremaining: 5.74s\n",
            "34:\tlearn: 0.8169753\ttotal: 208ms\tremaining: 5.72s\n",
            "35:\tlearn: 0.8107467\ttotal: 212ms\tremaining: 5.69s\n",
            "36:\tlearn: 0.8067509\ttotal: 218ms\tremaining: 5.67s\n",
            "37:\tlearn: 0.8007498\ttotal: 224ms\tremaining: 5.66s\n",
            "38:\tlearn: 0.7961774\ttotal: 229ms\tremaining: 5.65s\n",
            "39:\tlearn: 0.7924573\ttotal: 234ms\tremaining: 5.62s\n",
            "40:\tlearn: 0.7884340\ttotal: 240ms\tremaining: 5.61s\n",
            "41:\tlearn: 0.7845533\ttotal: 245ms\tremaining: 5.59s\n",
            "42:\tlearn: 0.7805962\ttotal: 251ms\tremaining: 5.58s\n",
            "43:\tlearn: 0.7773498\ttotal: 256ms\tremaining: 5.56s\n",
            "44:\tlearn: 0.7715857\ttotal: 261ms\tremaining: 5.55s\n",
            "45:\tlearn: 0.7658153\ttotal: 267ms\tremaining: 5.53s\n",
            "46:\tlearn: 0.7617658\ttotal: 272ms\tremaining: 5.51s\n",
            "47:\tlearn: 0.7567986\ttotal: 278ms\tremaining: 5.52s\n",
            "48:\tlearn: 0.7537877\ttotal: 286ms\tremaining: 5.56s\n",
            "49:\tlearn: 0.7497629\ttotal: 291ms\tremaining: 5.54s\n",
            "50:\tlearn: 0.7476226\ttotal: 297ms\tremaining: 5.52s\n",
            "51:\tlearn: 0.7437218\ttotal: 302ms\tremaining: 5.5s\n",
            "52:\tlearn: 0.7391646\ttotal: 307ms\tremaining: 5.49s\n",
            "53:\tlearn: 0.7363199\ttotal: 313ms\tremaining: 5.48s\n",
            "54:\tlearn: 0.7343989\ttotal: 323ms\tremaining: 5.55s\n",
            "55:\tlearn: 0.7310809\ttotal: 329ms\tremaining: 5.54s\n",
            "56:\tlearn: 0.7264441\ttotal: 335ms\tremaining: 5.54s\n",
            "57:\tlearn: 0.7247638\ttotal: 341ms\tremaining: 5.54s\n",
            "58:\tlearn: 0.7228080\ttotal: 346ms\tremaining: 5.52s\n",
            "59:\tlearn: 0.7206166\ttotal: 352ms\tremaining: 5.51s\n",
            "60:\tlearn: 0.7168789\ttotal: 359ms\tremaining: 5.53s\n",
            "61:\tlearn: 0.7137645\ttotal: 364ms\tremaining: 5.51s\n",
            "62:\tlearn: 0.7098164\ttotal: 369ms\tremaining: 5.49s\n",
            "63:\tlearn: 0.7043247\ttotal: 374ms\tremaining: 5.47s\n",
            "64:\tlearn: 0.7027794\ttotal: 385ms\tremaining: 5.53s\n",
            "65:\tlearn: 0.6999090\ttotal: 390ms\tremaining: 5.52s\n",
            "66:\tlearn: 0.6971110\ttotal: 395ms\tremaining: 5.5s\n",
            "67:\tlearn: 0.6952002\ttotal: 401ms\tremaining: 5.49s\n",
            "68:\tlearn: 0.6911728\ttotal: 406ms\tremaining: 5.48s\n",
            "69:\tlearn: 0.6889757\ttotal: 411ms\tremaining: 5.46s\n",
            "70:\tlearn: 0.6865134\ttotal: 417ms\tremaining: 5.46s\n",
            "71:\tlearn: 0.6824311\ttotal: 423ms\tremaining: 5.45s\n",
            "72:\tlearn: 0.6807282\ttotal: 428ms\tremaining: 5.43s\n",
            "73:\tlearn: 0.6782473\ttotal: 432ms\tremaining: 5.41s\n",
            "74:\tlearn: 0.6739274\ttotal: 438ms\tremaining: 5.4s\n",
            "75:\tlearn: 0.6699491\ttotal: 443ms\tremaining: 5.39s\n",
            "76:\tlearn: 0.6673754\ttotal: 448ms\tremaining: 5.38s\n",
            "77:\tlearn: 0.6645729\ttotal: 453ms\tremaining: 5.36s\n",
            "78:\tlearn: 0.6634121\ttotal: 456ms\tremaining: 5.32s\n",
            "79:\tlearn: 0.6598528\ttotal: 462ms\tremaining: 5.31s\n",
            "80:\tlearn: 0.6568594\ttotal: 469ms\tremaining: 5.32s\n",
            "81:\tlearn: 0.6523597\ttotal: 476ms\tremaining: 5.33s\n",
            "82:\tlearn: 0.6499994\ttotal: 482ms\tremaining: 5.33s\n",
            "83:\tlearn: 0.6480576\ttotal: 487ms\tremaining: 5.31s\n",
            "84:\tlearn: 0.6442961\ttotal: 492ms\tremaining: 5.3s\n",
            "85:\tlearn: 0.6410912\ttotal: 498ms\tremaining: 5.29s\n",
            "86:\tlearn: 0.6393927\ttotal: 504ms\tremaining: 5.29s\n",
            "87:\tlearn: 0.6373414\ttotal: 509ms\tremaining: 5.27s\n",
            "88:\tlearn: 0.6341068\ttotal: 517ms\tremaining: 5.29s\n",
            "89:\tlearn: 0.6324420\ttotal: 524ms\tremaining: 5.29s\n",
            "90:\tlearn: 0.6305672\ttotal: 530ms\tremaining: 5.29s\n",
            "91:\tlearn: 0.6292584\ttotal: 535ms\tremaining: 5.28s\n",
            "92:\tlearn: 0.6274051\ttotal: 540ms\tremaining: 5.26s\n",
            "93:\tlearn: 0.6249371\ttotal: 549ms\tremaining: 5.29s\n",
            "94:\tlearn: 0.6222314\ttotal: 556ms\tremaining: 5.3s\n",
            "95:\tlearn: 0.6204827\ttotal: 562ms\tremaining: 5.29s\n",
            "96:\tlearn: 0.6178469\ttotal: 567ms\tremaining: 5.27s\n",
            "97:\tlearn: 0.6159663\ttotal: 573ms\tremaining: 5.27s\n",
            "98:\tlearn: 0.6139539\ttotal: 580ms\tremaining: 5.28s\n",
            "99:\tlearn: 0.6129780\ttotal: 585ms\tremaining: 5.26s\n",
            "100:\tlearn: 0.6101353\ttotal: 590ms\tremaining: 5.25s\n",
            "101:\tlearn: 0.6072113\ttotal: 596ms\tremaining: 5.25s\n",
            "102:\tlearn: 0.6051990\ttotal: 601ms\tremaining: 5.23s\n",
            "103:\tlearn: 0.6030772\ttotal: 606ms\tremaining: 5.22s\n",
            "104:\tlearn: 0.6012013\ttotal: 611ms\tremaining: 5.21s\n",
            "105:\tlearn: 0.5980432\ttotal: 616ms\tremaining: 5.19s\n",
            "106:\tlearn: 0.5953556\ttotal: 621ms\tremaining: 5.18s\n",
            "107:\tlearn: 0.5930028\ttotal: 626ms\tremaining: 5.17s\n",
            "108:\tlearn: 0.5910644\ttotal: 631ms\tremaining: 5.16s\n",
            "109:\tlearn: 0.5882616\ttotal: 636ms\tremaining: 5.14s\n",
            "110:\tlearn: 0.5853167\ttotal: 642ms\tremaining: 5.14s\n",
            "111:\tlearn: 0.5837548\ttotal: 648ms\tremaining: 5.13s\n",
            "112:\tlearn: 0.5803544\ttotal: 653ms\tremaining: 5.12s\n",
            "113:\tlearn: 0.5792325\ttotal: 664ms\tremaining: 5.16s\n",
            "114:\tlearn: 0.5782279\ttotal: 669ms\tremaining: 5.15s\n",
            "115:\tlearn: 0.5770033\ttotal: 675ms\tremaining: 5.14s\n",
            "116:\tlearn: 0.5761728\ttotal: 680ms\tremaining: 5.13s\n",
            "117:\tlearn: 0.5723998\ttotal: 687ms\tremaining: 5.14s\n",
            "118:\tlearn: 0.5713208\ttotal: 694ms\tremaining: 5.14s\n",
            "119:\tlearn: 0.5686366\ttotal: 699ms\tremaining: 5.13s\n",
            "120:\tlearn: 0.5658801\ttotal: 705ms\tremaining: 5.12s\n",
            "121:\tlearn: 0.5634069\ttotal: 713ms\tremaining: 5.13s\n",
            "122:\tlearn: 0.5621737\ttotal: 720ms\tremaining: 5.13s\n",
            "123:\tlearn: 0.5610276\ttotal: 725ms\tremaining: 5.12s\n",
            "124:\tlearn: 0.5599488\ttotal: 732ms\tremaining: 5.12s\n",
            "125:\tlearn: 0.5583632\ttotal: 739ms\tremaining: 5.12s\n",
            "126:\tlearn: 0.5574759\ttotal: 748ms\tremaining: 5.14s\n",
            "127:\tlearn: 0.5569672\ttotal: 753ms\tremaining: 5.13s\n",
            "128:\tlearn: 0.5552963\ttotal: 758ms\tremaining: 5.12s\n",
            "129:\tlearn: 0.5518506\ttotal: 768ms\tremaining: 5.14s\n",
            "130:\tlearn: 0.5494742\ttotal: 776ms\tremaining: 5.14s\n",
            "131:\tlearn: 0.5470677\ttotal: 783ms\tremaining: 5.15s\n",
            "132:\tlearn: 0.5453047\ttotal: 791ms\tremaining: 5.16s\n",
            "133:\tlearn: 0.5433427\ttotal: 796ms\tremaining: 5.15s\n",
            "134:\tlearn: 0.5413542\ttotal: 802ms\tremaining: 5.13s\n",
            "135:\tlearn: 0.5391338\ttotal: 807ms\tremaining: 5.13s\n",
            "136:\tlearn: 0.5369830\ttotal: 813ms\tremaining: 5.12s\n",
            "137:\tlearn: 0.5343790\ttotal: 818ms\tremaining: 5.11s\n",
            "138:\tlearn: 0.5318777\ttotal: 824ms\tremaining: 5.1s\n",
            "139:\tlearn: 0.5305230\ttotal: 829ms\tremaining: 5.09s\n",
            "140:\tlearn: 0.5288616\ttotal: 834ms\tremaining: 5.08s\n",
            "141:\tlearn: 0.5283253\ttotal: 840ms\tremaining: 5.07s\n",
            "142:\tlearn: 0.5271384\ttotal: 845ms\tremaining: 5.06s\n",
            "143:\tlearn: 0.5254403\ttotal: 850ms\tremaining: 5.05s\n",
            "144:\tlearn: 0.5227783\ttotal: 861ms\tremaining: 5.08s\n",
            "145:\tlearn: 0.5216843\ttotal: 866ms\tremaining: 5.07s\n",
            "146:\tlearn: 0.5191831\ttotal: 872ms\tremaining: 5.06s\n",
            "147:\tlearn: 0.5179270\ttotal: 877ms\tremaining: 5.05s\n",
            "148:\tlearn: 0.5146761\ttotal: 882ms\tremaining: 5.04s\n",
            "149:\tlearn: 0.5125982\ttotal: 888ms\tremaining: 5.03s\n",
            "150:\tlearn: 0.5118021\ttotal: 898ms\tremaining: 5.05s\n",
            "151:\tlearn: 0.5100028\ttotal: 909ms\tremaining: 5.07s\n",
            "152:\tlearn: 0.5081587\ttotal: 940ms\tremaining: 5.21s\n",
            "153:\tlearn: 0.5067665\ttotal: 946ms\tremaining: 5.2s\n",
            "154:\tlearn: 0.5058333\ttotal: 952ms\tremaining: 5.19s\n",
            "155:\tlearn: 0.5044021\ttotal: 959ms\tremaining: 5.19s\n",
            "156:\tlearn: 0.5032409\ttotal: 966ms\tremaining: 5.19s\n",
            "157:\tlearn: 0.5009750\ttotal: 975ms\tremaining: 5.2s\n",
            "158:\tlearn: 0.4994486\ttotal: 981ms\tremaining: 5.19s\n",
            "159:\tlearn: 0.4980277\ttotal: 987ms\tremaining: 5.18s\n",
            "160:\tlearn: 0.4968537\ttotal: 993ms\tremaining: 5.17s\n",
            "161:\tlearn: 0.4957416\ttotal: 998ms\tremaining: 5.16s\n",
            "162:\tlearn: 0.4936488\ttotal: 1s\tremaining: 5.15s\n",
            "163:\tlearn: 0.4917097\ttotal: 1.01s\tremaining: 5.14s\n",
            "164:\tlearn: 0.4905155\ttotal: 1.01s\tremaining: 5.13s\n",
            "165:\tlearn: 0.4892042\ttotal: 1.02s\tremaining: 5.12s\n",
            "166:\tlearn: 0.4887216\ttotal: 1.02s\tremaining: 5.11s\n",
            "167:\tlearn: 0.4868905\ttotal: 1.03s\tremaining: 5.1s\n",
            "168:\tlearn: 0.4855324\ttotal: 1.03s\tremaining: 5.09s\n",
            "169:\tlearn: 0.4837228\ttotal: 1.04s\tremaining: 5.08s\n",
            "170:\tlearn: 0.4826709\ttotal: 1.05s\tremaining: 5.07s\n",
            "171:\tlearn: 0.4818887\ttotal: 1.05s\tremaining: 5.08s\n",
            "172:\tlearn: 0.4810430\ttotal: 1.06s\tremaining: 5.09s\n",
            "173:\tlearn: 0.4797116\ttotal: 1.07s\tremaining: 5.08s\n",
            "174:\tlearn: 0.4780693\ttotal: 1.07s\tremaining: 5.06s\n",
            "175:\tlearn: 0.4766008\ttotal: 1.08s\tremaining: 5.05s\n",
            "176:\tlearn: 0.4752490\ttotal: 1.08s\tremaining: 5.04s\n",
            "177:\tlearn: 0.4743895\ttotal: 1.09s\tremaining: 5.03s\n",
            "178:\tlearn: 0.4737591\ttotal: 1.1s\tremaining: 5.03s\n",
            "179:\tlearn: 0.4726173\ttotal: 1.11s\tremaining: 5.04s\n",
            "180:\tlearn: 0.4718057\ttotal: 1.11s\tremaining: 5.03s\n",
            "181:\tlearn: 0.4702089\ttotal: 1.12s\tremaining: 5.02s\n",
            "182:\tlearn: 0.4691370\ttotal: 1.12s\tremaining: 5.01s\n",
            "183:\tlearn: 0.4672427\ttotal: 1.13s\tremaining: 5s\n",
            "184:\tlearn: 0.4656614\ttotal: 1.14s\tremaining: 5.01s\n",
            "185:\tlearn: 0.4648430\ttotal: 1.14s\tremaining: 5s\n",
            "186:\tlearn: 0.4635316\ttotal: 1.15s\tremaining: 4.99s\n",
            "187:\tlearn: 0.4621459\ttotal: 1.16s\tremaining: 5s\n",
            "188:\tlearn: 0.4602952\ttotal: 1.16s\tremaining: 4.99s\n",
            "189:\tlearn: 0.4580557\ttotal: 1.17s\tremaining: 4.98s\n",
            "190:\tlearn: 0.4563499\ttotal: 1.17s\tremaining: 4.97s\n",
            "191:\tlearn: 0.4555216\ttotal: 1.18s\tremaining: 4.96s\n",
            "192:\tlearn: 0.4542251\ttotal: 1.18s\tremaining: 4.95s\n",
            "193:\tlearn: 0.4535641\ttotal: 1.19s\tremaining: 4.94s\n",
            "194:\tlearn: 0.4525028\ttotal: 1.19s\tremaining: 4.93s\n",
            "195:\tlearn: 0.4512921\ttotal: 1.2s\tremaining: 4.92s\n",
            "196:\tlearn: 0.4497963\ttotal: 1.21s\tremaining: 4.91s\n",
            "197:\tlearn: 0.4483992\ttotal: 1.21s\tremaining: 4.9s\n",
            "198:\tlearn: 0.4474427\ttotal: 1.22s\tremaining: 4.89s\n",
            "199:\tlearn: 0.4463037\ttotal: 1.22s\tremaining: 4.88s\n",
            "200:\tlearn: 0.4453247\ttotal: 1.23s\tremaining: 4.87s\n",
            "201:\tlearn: 0.4439079\ttotal: 1.23s\tremaining: 4.86s\n",
            "202:\tlearn: 0.4429772\ttotal: 1.24s\tremaining: 4.85s\n",
            "203:\tlearn: 0.4417184\ttotal: 1.24s\tremaining: 4.84s\n",
            "204:\tlearn: 0.4410201\ttotal: 1.25s\tremaining: 4.85s\n",
            "205:\tlearn: 0.4406815\ttotal: 1.26s\tremaining: 4.84s\n",
            "206:\tlearn: 0.4394153\ttotal: 1.26s\tremaining: 4.83s\n",
            "207:\tlearn: 0.4383037\ttotal: 1.27s\tremaining: 4.82s\n",
            "208:\tlearn: 0.4372067\ttotal: 1.27s\tremaining: 4.82s\n",
            "209:\tlearn: 0.4360944\ttotal: 1.28s\tremaining: 4.81s\n",
            "210:\tlearn: 0.4351791\ttotal: 1.29s\tremaining: 4.82s\n",
            "211:\tlearn: 0.4334263\ttotal: 1.3s\tremaining: 4.83s\n",
            "212:\tlearn: 0.4325271\ttotal: 1.31s\tremaining: 4.83s\n",
            "213:\tlearn: 0.4315865\ttotal: 1.31s\tremaining: 4.82s\n",
            "214:\tlearn: 0.4302288\ttotal: 1.32s\tremaining: 4.81s\n",
            "215:\tlearn: 0.4293468\ttotal: 1.32s\tremaining: 4.81s\n",
            "216:\tlearn: 0.4285952\ttotal: 1.34s\tremaining: 4.82s\n",
            "217:\tlearn: 0.4275058\ttotal: 1.34s\tremaining: 4.82s\n",
            "218:\tlearn: 0.4266517\ttotal: 1.35s\tremaining: 4.81s\n",
            "219:\tlearn: 0.4257681\ttotal: 1.36s\tremaining: 4.82s\n",
            "220:\tlearn: 0.4249916\ttotal: 1.37s\tremaining: 4.82s\n",
            "221:\tlearn: 0.4243660\ttotal: 1.37s\tremaining: 4.81s\n",
            "222:\tlearn: 0.4237082\ttotal: 1.38s\tremaining: 4.8s\n",
            "223:\tlearn: 0.4227878\ttotal: 1.38s\tremaining: 4.79s\n",
            "224:\tlearn: 0.4220118\ttotal: 1.39s\tremaining: 4.78s\n",
            "225:\tlearn: 0.4209080\ttotal: 1.39s\tremaining: 4.77s\n",
            "226:\tlearn: 0.4202816\ttotal: 1.4s\tremaining: 4.76s\n",
            "227:\tlearn: 0.4193256\ttotal: 1.4s\tremaining: 4.76s\n",
            "228:\tlearn: 0.4182332\ttotal: 1.41s\tremaining: 4.75s\n",
            "229:\tlearn: 0.4172196\ttotal: 1.41s\tremaining: 4.74s\n",
            "230:\tlearn: 0.4158693\ttotal: 1.42s\tremaining: 4.73s\n",
            "231:\tlearn: 0.4153162\ttotal: 1.43s\tremaining: 4.72s\n",
            "232:\tlearn: 0.4145259\ttotal: 1.43s\tremaining: 4.71s\n",
            "233:\tlearn: 0.4135711\ttotal: 1.44s\tremaining: 4.7s\n",
            "234:\tlearn: 0.4126963\ttotal: 1.44s\tremaining: 4.69s\n",
            "235:\tlearn: 0.4121282\ttotal: 1.45s\tremaining: 4.7s\n",
            "236:\tlearn: 0.4118021\ttotal: 1.46s\tremaining: 4.69s\n",
            "237:\tlearn: 0.4106406\ttotal: 1.46s\tremaining: 4.68s\n",
            "238:\tlearn: 0.4093428\ttotal: 1.47s\tremaining: 4.68s\n",
            "239:\tlearn: 0.4088073\ttotal: 1.47s\tremaining: 4.67s\n",
            "240:\tlearn: 0.4078248\ttotal: 1.48s\tremaining: 4.66s\n",
            "241:\tlearn: 0.4066935\ttotal: 1.48s\tremaining: 4.65s\n",
            "242:\tlearn: 0.4057510\ttotal: 1.49s\tremaining: 4.64s\n",
            "243:\tlearn: 0.4053683\ttotal: 1.5s\tremaining: 4.64s\n",
            "244:\tlearn: 0.4043562\ttotal: 1.5s\tremaining: 4.63s\n",
            "245:\tlearn: 0.4032633\ttotal: 1.51s\tremaining: 4.63s\n",
            "246:\tlearn: 0.4028933\ttotal: 1.51s\tremaining: 4.62s\n",
            "247:\tlearn: 0.4021916\ttotal: 1.52s\tremaining: 4.61s\n",
            "248:\tlearn: 0.4008149\ttotal: 1.53s\tremaining: 4.6s\n",
            "249:\tlearn: 0.3999421\ttotal: 1.54s\tremaining: 4.62s\n",
            "250:\tlearn: 0.3995667\ttotal: 1.54s\tremaining: 4.61s\n",
            "251:\tlearn: 0.3984105\ttotal: 1.55s\tremaining: 4.6s\n",
            "252:\tlearn: 0.3973841\ttotal: 1.56s\tremaining: 4.6s\n",
            "253:\tlearn: 0.3970569\ttotal: 1.56s\tremaining: 4.59s\n",
            "254:\tlearn: 0.3963046\ttotal: 1.57s\tremaining: 4.58s\n",
            "255:\tlearn: 0.3958976\ttotal: 1.57s\tremaining: 4.58s\n",
            "256:\tlearn: 0.3951577\ttotal: 1.58s\tremaining: 4.57s\n",
            "257:\tlearn: 0.3938412\ttotal: 1.58s\tremaining: 4.56s\n",
            "258:\tlearn: 0.3931884\ttotal: 1.59s\tremaining: 4.55s\n",
            "259:\tlearn: 0.3925966\ttotal: 1.59s\tremaining: 4.54s\n",
            "260:\tlearn: 0.3922032\ttotal: 1.6s\tremaining: 4.53s\n",
            "261:\tlearn: 0.3909000\ttotal: 1.6s\tremaining: 4.52s\n",
            "262:\tlearn: 0.3899260\ttotal: 1.61s\tremaining: 4.51s\n",
            "263:\tlearn: 0.3889014\ttotal: 1.61s\tremaining: 4.5s\n",
            "264:\tlearn: 0.3880015\ttotal: 1.62s\tremaining: 4.5s\n",
            "265:\tlearn: 0.3870917\ttotal: 1.63s\tremaining: 4.49s\n",
            "266:\tlearn: 0.3860665\ttotal: 1.63s\tremaining: 4.48s\n",
            "267:\tlearn: 0.3855880\ttotal: 1.64s\tremaining: 4.47s\n",
            "268:\tlearn: 0.3851622\ttotal: 1.64s\tremaining: 4.46s\n",
            "269:\tlearn: 0.3843991\ttotal: 1.65s\tremaining: 4.46s\n",
            "270:\tlearn: 0.3840700\ttotal: 1.66s\tremaining: 4.46s\n",
            "271:\tlearn: 0.3826950\ttotal: 1.66s\tremaining: 4.45s\n",
            "272:\tlearn: 0.3818588\ttotal: 1.67s\tremaining: 4.44s\n",
            "273:\tlearn: 0.3812582\ttotal: 1.67s\tremaining: 4.43s\n",
            "274:\tlearn: 0.3800357\ttotal: 1.68s\tremaining: 4.42s\n",
            "275:\tlearn: 0.3789283\ttotal: 1.68s\tremaining: 4.41s\n",
            "276:\tlearn: 0.3775823\ttotal: 1.69s\tremaining: 4.41s\n",
            "277:\tlearn: 0.3767117\ttotal: 1.7s\tremaining: 4.41s\n",
            "278:\tlearn: 0.3756370\ttotal: 1.7s\tremaining: 4.4s\n",
            "279:\tlearn: 0.3751710\ttotal: 1.71s\tremaining: 4.39s\n",
            "280:\tlearn: 0.3743819\ttotal: 1.71s\tremaining: 4.38s\n",
            "281:\tlearn: 0.3736054\ttotal: 1.72s\tremaining: 4.37s\n",
            "282:\tlearn: 0.3729247\ttotal: 1.72s\tremaining: 4.37s\n",
            "283:\tlearn: 0.3723120\ttotal: 1.73s\tremaining: 4.36s\n",
            "284:\tlearn: 0.3715312\ttotal: 1.76s\tremaining: 4.41s\n",
            "285:\tlearn: 0.3712023\ttotal: 1.76s\tremaining: 4.4s\n",
            "286:\tlearn: 0.3706649\ttotal: 1.77s\tremaining: 4.39s\n",
            "287:\tlearn: 0.3696947\ttotal: 1.77s\tremaining: 4.38s\n",
            "288:\tlearn: 0.3692146\ttotal: 1.78s\tremaining: 4.38s\n",
            "289:\tlearn: 0.3682589\ttotal: 1.78s\tremaining: 4.37s\n",
            "290:\tlearn: 0.3674370\ttotal: 1.79s\tremaining: 4.36s\n",
            "291:\tlearn: 0.3666977\ttotal: 1.79s\tremaining: 4.35s\n",
            "292:\tlearn: 0.3655759\ttotal: 1.8s\tremaining: 4.34s\n",
            "293:\tlearn: 0.3645984\ttotal: 1.8s\tremaining: 4.34s\n",
            "294:\tlearn: 0.3643657\ttotal: 1.81s\tremaining: 4.33s\n",
            "295:\tlearn: 0.3633605\ttotal: 1.82s\tremaining: 4.32s\n",
            "296:\tlearn: 0.3627016\ttotal: 1.82s\tremaining: 4.31s\n",
            "297:\tlearn: 0.3619992\ttotal: 1.83s\tremaining: 4.3s\n",
            "298:\tlearn: 0.3613894\ttotal: 1.83s\tremaining: 4.29s\n",
            "299:\tlearn: 0.3607259\ttotal: 1.84s\tremaining: 4.29s\n",
            "300:\tlearn: 0.3599667\ttotal: 1.84s\tremaining: 4.28s\n",
            "301:\tlearn: 0.3597269\ttotal: 1.85s\tremaining: 4.28s\n",
            "302:\tlearn: 0.3590980\ttotal: 1.86s\tremaining: 4.28s\n",
            "303:\tlearn: 0.3580775\ttotal: 1.86s\tremaining: 4.27s\n",
            "304:\tlearn: 0.3575536\ttotal: 1.87s\tremaining: 4.26s\n",
            "305:\tlearn: 0.3566850\ttotal: 1.87s\tremaining: 4.25s\n",
            "306:\tlearn: 0.3561909\ttotal: 1.88s\tremaining: 4.24s\n",
            "307:\tlearn: 0.3557521\ttotal: 1.89s\tremaining: 4.24s\n",
            "308:\tlearn: 0.3553115\ttotal: 1.89s\tremaining: 4.23s\n",
            "309:\tlearn: 0.3545065\ttotal: 1.9s\tremaining: 4.22s\n",
            "310:\tlearn: 0.3535207\ttotal: 1.9s\tremaining: 4.22s\n",
            "311:\tlearn: 0.3524715\ttotal: 1.91s\tremaining: 4.21s\n",
            "312:\tlearn: 0.3520900\ttotal: 1.92s\tremaining: 4.2s\n",
            "313:\tlearn: 0.3516418\ttotal: 1.92s\tremaining: 4.2s\n",
            "314:\tlearn: 0.3507610\ttotal: 1.93s\tremaining: 4.19s\n",
            "315:\tlearn: 0.3504215\ttotal: 1.93s\tremaining: 4.18s\n",
            "316:\tlearn: 0.3500326\ttotal: 1.94s\tremaining: 4.18s\n",
            "317:\tlearn: 0.3491138\ttotal: 1.94s\tremaining: 4.17s\n",
            "318:\tlearn: 0.3481985\ttotal: 1.95s\tremaining: 4.16s\n",
            "319:\tlearn: 0.3479472\ttotal: 1.96s\tremaining: 4.16s\n",
            "320:\tlearn: 0.3475174\ttotal: 1.96s\tremaining: 4.15s\n",
            "321:\tlearn: 0.3470789\ttotal: 1.97s\tremaining: 4.15s\n",
            "322:\tlearn: 0.3461607\ttotal: 1.97s\tremaining: 4.14s\n",
            "323:\tlearn: 0.3452711\ttotal: 1.98s\tremaining: 4.13s\n",
            "324:\tlearn: 0.3444586\ttotal: 1.99s\tremaining: 4.13s\n",
            "325:\tlearn: 0.3434719\ttotal: 1.99s\tremaining: 4.12s\n",
            "326:\tlearn: 0.3427150\ttotal: 2s\tremaining: 4.11s\n",
            "327:\tlearn: 0.3423776\ttotal: 2s\tremaining: 4.1s\n",
            "328:\tlearn: 0.3416346\ttotal: 2.01s\tremaining: 4.1s\n",
            "329:\tlearn: 0.3411307\ttotal: 2.01s\tremaining: 4.09s\n",
            "330:\tlearn: 0.3406805\ttotal: 2.02s\tremaining: 4.08s\n",
            "331:\tlearn: 0.3396328\ttotal: 2.02s\tremaining: 4.07s\n",
            "332:\tlearn: 0.3385920\ttotal: 2.03s\tremaining: 4.06s\n",
            "333:\tlearn: 0.3383825\ttotal: 2.03s\tremaining: 4.05s\n",
            "334:\tlearn: 0.3376327\ttotal: 2.04s\tremaining: 4.05s\n",
            "335:\tlearn: 0.3370293\ttotal: 2.05s\tremaining: 4.04s\n",
            "336:\tlearn: 0.3365139\ttotal: 2.05s\tremaining: 4.04s\n",
            "337:\tlearn: 0.3362579\ttotal: 2.06s\tremaining: 4.03s\n",
            "338:\tlearn: 0.3358774\ttotal: 2.07s\tremaining: 4.03s\n",
            "339:\tlearn: 0.3357363\ttotal: 2.07s\tremaining: 4.02s\n",
            "340:\tlearn: 0.3352877\ttotal: 2.08s\tremaining: 4.02s\n",
            "341:\tlearn: 0.3349453\ttotal: 2.08s\tremaining: 4.01s\n",
            "342:\tlearn: 0.3341396\ttotal: 2.09s\tremaining: 4s\n",
            "343:\tlearn: 0.3337129\ttotal: 2.1s\tremaining: 4s\n",
            "344:\tlearn: 0.3332771\ttotal: 2.1s\tremaining: 3.99s\n",
            "345:\tlearn: 0.3327556\ttotal: 2.11s\tremaining: 3.98s\n",
            "346:\tlearn: 0.3319436\ttotal: 2.11s\tremaining: 3.98s\n",
            "347:\tlearn: 0.3316848\ttotal: 2.12s\tremaining: 3.97s\n",
            "348:\tlearn: 0.3307056\ttotal: 2.12s\tremaining: 3.96s\n",
            "349:\tlearn: 0.3299649\ttotal: 2.13s\tremaining: 3.96s\n",
            "350:\tlearn: 0.3297769\ttotal: 2.13s\tremaining: 3.95s\n",
            "351:\tlearn: 0.3293724\ttotal: 2.14s\tremaining: 3.94s\n",
            "352:\tlearn: 0.3287718\ttotal: 2.15s\tremaining: 3.93s\n",
            "353:\tlearn: 0.3281618\ttotal: 2.16s\tremaining: 3.94s\n",
            "354:\tlearn: 0.3278626\ttotal: 2.16s\tremaining: 3.93s\n",
            "355:\tlearn: 0.3275958\ttotal: 2.17s\tremaining: 3.92s\n",
            "356:\tlearn: 0.3270370\ttotal: 2.17s\tremaining: 3.91s\n",
            "357:\tlearn: 0.3267600\ttotal: 2.18s\tremaining: 3.9s\n",
            "358:\tlearn: 0.3262517\ttotal: 2.18s\tremaining: 3.9s\n",
            "359:\tlearn: 0.3256609\ttotal: 2.19s\tremaining: 3.89s\n",
            "360:\tlearn: 0.3252815\ttotal: 2.19s\tremaining: 3.88s\n",
            "361:\tlearn: 0.3246291\ttotal: 2.2s\tremaining: 3.87s\n",
            "362:\tlearn: 0.3239254\ttotal: 2.2s\tremaining: 3.87s\n",
            "363:\tlearn: 0.3233834\ttotal: 2.21s\tremaining: 3.86s\n",
            "364:\tlearn: 0.3227697\ttotal: 2.21s\tremaining: 3.85s\n",
            "365:\tlearn: 0.3218813\ttotal: 2.22s\tremaining: 3.84s\n",
            "366:\tlearn: 0.3213254\ttotal: 2.22s\tremaining: 3.83s\n",
            "367:\tlearn: 0.3209230\ttotal: 2.23s\tremaining: 3.83s\n",
            "368:\tlearn: 0.3201750\ttotal: 2.23s\tremaining: 3.82s\n",
            "369:\tlearn: 0.3200269\ttotal: 2.24s\tremaining: 3.81s\n",
            "370:\tlearn: 0.3195248\ttotal: 2.24s\tremaining: 3.81s\n",
            "371:\tlearn: 0.3184818\ttotal: 2.25s\tremaining: 3.8s\n",
            "372:\tlearn: 0.3181680\ttotal: 2.26s\tremaining: 3.79s\n",
            "373:\tlearn: 0.3175029\ttotal: 2.26s\tremaining: 3.78s\n",
            "374:\tlearn: 0.3168178\ttotal: 2.27s\tremaining: 3.78s\n",
            "375:\tlearn: 0.3166329\ttotal: 2.28s\tremaining: 3.78s\n",
            "376:\tlearn: 0.3159982\ttotal: 2.28s\tremaining: 3.77s\n",
            "377:\tlearn: 0.3158245\ttotal: 2.29s\tremaining: 3.77s\n",
            "378:\tlearn: 0.3152761\ttotal: 2.3s\tremaining: 3.77s\n",
            "379:\tlearn: 0.3146206\ttotal: 2.3s\tremaining: 3.76s\n",
            "380:\tlearn: 0.3142867\ttotal: 2.31s\tremaining: 3.75s\n",
            "381:\tlearn: 0.3132738\ttotal: 2.32s\tremaining: 3.75s\n",
            "382:\tlearn: 0.3126475\ttotal: 2.33s\tremaining: 3.75s\n",
            "383:\tlearn: 0.3121505\ttotal: 2.33s\tremaining: 3.75s\n",
            "384:\tlearn: 0.3118527\ttotal: 2.34s\tremaining: 3.74s\n",
            "385:\tlearn: 0.3111990\ttotal: 2.35s\tremaining: 3.73s\n",
            "386:\tlearn: 0.3108779\ttotal: 2.36s\tremaining: 3.74s\n",
            "387:\tlearn: 0.3105716\ttotal: 2.37s\tremaining: 3.73s\n",
            "388:\tlearn: 0.3097017\ttotal: 2.37s\tremaining: 3.73s\n",
            "389:\tlearn: 0.3090149\ttotal: 2.38s\tremaining: 3.72s\n",
            "390:\tlearn: 0.3080797\ttotal: 2.39s\tremaining: 3.72s\n",
            "391:\tlearn: 0.3077227\ttotal: 2.39s\tremaining: 3.71s\n",
            "392:\tlearn: 0.3072980\ttotal: 2.4s\tremaining: 3.7s\n",
            "393:\tlearn: 0.3066725\ttotal: 2.4s\tremaining: 3.7s\n",
            "394:\tlearn: 0.3064587\ttotal: 2.41s\tremaining: 3.69s\n",
            "395:\tlearn: 0.3059100\ttotal: 2.42s\tremaining: 3.69s\n",
            "396:\tlearn: 0.3055210\ttotal: 2.42s\tremaining: 3.68s\n",
            "397:\tlearn: 0.3053080\ttotal: 2.43s\tremaining: 3.68s\n",
            "398:\tlearn: 0.3048404\ttotal: 2.44s\tremaining: 3.67s\n",
            "399:\tlearn: 0.3044002\ttotal: 2.44s\tremaining: 3.66s\n",
            "400:\tlearn: 0.3038910\ttotal: 2.47s\tremaining: 3.69s\n",
            "401:\tlearn: 0.3035898\ttotal: 2.5s\tremaining: 3.72s\n",
            "402:\tlearn: 0.3032600\ttotal: 2.51s\tremaining: 3.72s\n",
            "403:\tlearn: 0.3025746\ttotal: 2.52s\tremaining: 3.72s\n",
            "404:\tlearn: 0.3019116\ttotal: 2.56s\tremaining: 3.75s\n",
            "405:\tlearn: 0.3012973\ttotal: 2.58s\tremaining: 3.77s\n",
            "406:\tlearn: 0.3007478\ttotal: 2.59s\tremaining: 3.77s\n",
            "407:\tlearn: 0.3004299\ttotal: 2.6s\tremaining: 3.77s\n",
            "408:\tlearn: 0.3001044\ttotal: 2.6s\tremaining: 3.76s\n",
            "409:\tlearn: 0.2995585\ttotal: 2.61s\tremaining: 3.75s\n",
            "410:\tlearn: 0.2988499\ttotal: 2.61s\tremaining: 3.74s\n",
            "411:\tlearn: 0.2981342\ttotal: 2.62s\tremaining: 3.74s\n",
            "412:\tlearn: 0.2975348\ttotal: 2.62s\tremaining: 3.73s\n",
            "413:\tlearn: 0.2970865\ttotal: 2.63s\tremaining: 3.72s\n",
            "414:\tlearn: 0.2967149\ttotal: 2.64s\tremaining: 3.72s\n",
            "415:\tlearn: 0.2964437\ttotal: 2.64s\tremaining: 3.71s\n",
            "416:\tlearn: 0.2961073\ttotal: 2.65s\tremaining: 3.7s\n",
            "417:\tlearn: 0.2954930\ttotal: 2.65s\tremaining: 3.7s\n",
            "418:\tlearn: 0.2947954\ttotal: 2.66s\tremaining: 3.69s\n",
            "419:\tlearn: 0.2942538\ttotal: 2.67s\tremaining: 3.68s\n",
            "420:\tlearn: 0.2938693\ttotal: 2.67s\tremaining: 3.67s\n",
            "421:\tlearn: 0.2933426\ttotal: 2.68s\tremaining: 3.67s\n",
            "422:\tlearn: 0.2925005\ttotal: 2.68s\tremaining: 3.66s\n",
            "423:\tlearn: 0.2922441\ttotal: 2.69s\tremaining: 3.65s\n",
            "424:\tlearn: 0.2919371\ttotal: 2.7s\tremaining: 3.65s\n",
            "425:\tlearn: 0.2916852\ttotal: 2.71s\tremaining: 3.65s\n",
            "426:\tlearn: 0.2912217\ttotal: 2.71s\tremaining: 3.64s\n",
            "427:\tlearn: 0.2907206\ttotal: 2.72s\tremaining: 3.63s\n",
            "428:\tlearn: 0.2898950\ttotal: 2.72s\tremaining: 3.63s\n",
            "429:\tlearn: 0.2895487\ttotal: 2.73s\tremaining: 3.62s\n",
            "430:\tlearn: 0.2887602\ttotal: 2.73s\tremaining: 3.61s\n",
            "431:\tlearn: 0.2883567\ttotal: 2.74s\tremaining: 3.6s\n",
            "432:\tlearn: 0.2877056\ttotal: 2.75s\tremaining: 3.6s\n",
            "433:\tlearn: 0.2872681\ttotal: 2.75s\tremaining: 3.59s\n",
            "434:\tlearn: 0.2867112\ttotal: 2.76s\tremaining: 3.58s\n",
            "435:\tlearn: 0.2861282\ttotal: 2.76s\tremaining: 3.57s\n",
            "436:\tlearn: 0.2856952\ttotal: 2.77s\tremaining: 3.57s\n",
            "437:\tlearn: 0.2852873\ttotal: 2.77s\tremaining: 3.56s\n",
            "438:\tlearn: 0.2847307\ttotal: 2.78s\tremaining: 3.55s\n",
            "439:\tlearn: 0.2838743\ttotal: 2.78s\tremaining: 3.54s\n",
            "440:\tlearn: 0.2835824\ttotal: 2.79s\tremaining: 3.54s\n",
            "441:\tlearn: 0.2829865\ttotal: 2.79s\tremaining: 3.53s\n",
            "442:\tlearn: 0.2824817\ttotal: 2.8s\tremaining: 3.52s\n",
            "443:\tlearn: 0.2820516\ttotal: 2.81s\tremaining: 3.51s\n",
            "444:\tlearn: 0.2810983\ttotal: 2.82s\tremaining: 3.51s\n",
            "445:\tlearn: 0.2804971\ttotal: 2.83s\tremaining: 3.52s\n",
            "446:\tlearn: 0.2795756\ttotal: 2.84s\tremaining: 3.51s\n",
            "447:\tlearn: 0.2792979\ttotal: 2.84s\tremaining: 3.5s\n",
            "448:\tlearn: 0.2787859\ttotal: 2.85s\tremaining: 3.5s\n",
            "449:\tlearn: 0.2784175\ttotal: 2.85s\tremaining: 3.49s\n",
            "450:\tlearn: 0.2781154\ttotal: 2.86s\tremaining: 3.48s\n",
            "451:\tlearn: 0.2780002\ttotal: 2.87s\tremaining: 3.48s\n",
            "452:\tlearn: 0.2775576\ttotal: 2.87s\tremaining: 3.47s\n",
            "453:\tlearn: 0.2771722\ttotal: 2.88s\tremaining: 3.47s\n",
            "454:\tlearn: 0.2765524\ttotal: 2.89s\tremaining: 3.46s\n",
            "455:\tlearn: 0.2763326\ttotal: 2.9s\tremaining: 3.45s\n",
            "456:\tlearn: 0.2761481\ttotal: 2.9s\tremaining: 3.45s\n",
            "457:\tlearn: 0.2759529\ttotal: 2.9s\tremaining: 3.44s\n",
            "458:\tlearn: 0.2753678\ttotal: 2.91s\tremaining: 3.43s\n",
            "459:\tlearn: 0.2748561\ttotal: 2.92s\tremaining: 3.42s\n",
            "460:\tlearn: 0.2747058\ttotal: 2.92s\tremaining: 3.42s\n",
            "461:\tlearn: 0.2743683\ttotal: 2.93s\tremaining: 3.41s\n",
            "462:\tlearn: 0.2741792\ttotal: 2.93s\tremaining: 3.4s\n",
            "463:\tlearn: 0.2737619\ttotal: 2.94s\tremaining: 3.39s\n",
            "464:\tlearn: 0.2733249\ttotal: 2.94s\tremaining: 3.39s\n",
            "465:\tlearn: 0.2731617\ttotal: 2.95s\tremaining: 3.38s\n",
            "466:\tlearn: 0.2727559\ttotal: 2.95s\tremaining: 3.37s\n",
            "467:\tlearn: 0.2722257\ttotal: 2.96s\tremaining: 3.36s\n",
            "468:\tlearn: 0.2718709\ttotal: 2.96s\tremaining: 3.36s\n",
            "469:\tlearn: 0.2714242\ttotal: 2.97s\tremaining: 3.35s\n",
            "470:\tlearn: 0.2711438\ttotal: 2.98s\tremaining: 3.34s\n",
            "471:\tlearn: 0.2709105\ttotal: 2.98s\tremaining: 3.33s\n",
            "472:\tlearn: 0.2703100\ttotal: 2.99s\tremaining: 3.33s\n",
            "473:\tlearn: 0.2699676\ttotal: 2.99s\tremaining: 3.32s\n",
            "474:\tlearn: 0.2695283\ttotal: 3s\tremaining: 3.31s\n",
            "475:\tlearn: 0.2692176\ttotal: 3s\tremaining: 3.31s\n",
            "476:\tlearn: 0.2689273\ttotal: 3.01s\tremaining: 3.3s\n",
            "477:\tlearn: 0.2685250\ttotal: 3.02s\tremaining: 3.29s\n",
            "478:\tlearn: 0.2683561\ttotal: 3.02s\tremaining: 3.29s\n",
            "479:\tlearn: 0.2681207\ttotal: 3.03s\tremaining: 3.28s\n",
            "480:\tlearn: 0.2678379\ttotal: 3.03s\tremaining: 3.27s\n",
            "481:\tlearn: 0.2675815\ttotal: 3.04s\tremaining: 3.27s\n",
            "482:\tlearn: 0.2670173\ttotal: 3.04s\tremaining: 3.26s\n",
            "483:\tlearn: 0.2664595\ttotal: 3.05s\tremaining: 3.25s\n",
            "484:\tlearn: 0.2663325\ttotal: 3.06s\tremaining: 3.25s\n",
            "485:\tlearn: 0.2660767\ttotal: 3.06s\tremaining: 3.24s\n",
            "486:\tlearn: 0.2655038\ttotal: 3.07s\tremaining: 3.23s\n",
            "487:\tlearn: 0.2653013\ttotal: 3.08s\tremaining: 3.23s\n",
            "488:\tlearn: 0.2651752\ttotal: 3.08s\tremaining: 3.22s\n",
            "489:\tlearn: 0.2647823\ttotal: 3.09s\tremaining: 3.21s\n",
            "490:\tlearn: 0.2642988\ttotal: 3.09s\tremaining: 3.21s\n",
            "491:\tlearn: 0.2641125\ttotal: 3.1s\tremaining: 3.2s\n",
            "492:\tlearn: 0.2640414\ttotal: 3.1s\tremaining: 3.19s\n",
            "493:\tlearn: 0.2637337\ttotal: 3.11s\tremaining: 3.18s\n",
            "494:\tlearn: 0.2634305\ttotal: 3.11s\tremaining: 3.17s\n",
            "495:\tlearn: 0.2625575\ttotal: 3.12s\tremaining: 3.17s\n",
            "496:\tlearn: 0.2621977\ttotal: 3.12s\tremaining: 3.16s\n",
            "497:\tlearn: 0.2618065\ttotal: 3.13s\tremaining: 3.16s\n",
            "498:\tlearn: 0.2613997\ttotal: 3.14s\tremaining: 3.15s\n",
            "499:\tlearn: 0.2610740\ttotal: 3.15s\tremaining: 3.15s\n",
            "500:\tlearn: 0.2605263\ttotal: 3.15s\tremaining: 3.14s\n",
            "501:\tlearn: 0.2600340\ttotal: 3.15s\tremaining: 3.13s\n",
            "502:\tlearn: 0.2596124\ttotal: 3.16s\tremaining: 3.12s\n",
            "503:\tlearn: 0.2592623\ttotal: 3.17s\tremaining: 3.12s\n",
            "504:\tlearn: 0.2589403\ttotal: 3.17s\tremaining: 3.11s\n",
            "505:\tlearn: 0.2586575\ttotal: 3.18s\tremaining: 3.1s\n",
            "506:\tlearn: 0.2582777\ttotal: 3.18s\tremaining: 3.09s\n",
            "507:\tlearn: 0.2577404\ttotal: 3.19s\tremaining: 3.09s\n",
            "508:\tlearn: 0.2573597\ttotal: 3.19s\tremaining: 3.08s\n",
            "509:\tlearn: 0.2572268\ttotal: 3.2s\tremaining: 3.07s\n",
            "510:\tlearn: 0.2568362\ttotal: 3.2s\tremaining: 3.06s\n",
            "511:\tlearn: 0.2563011\ttotal: 3.21s\tremaining: 3.06s\n",
            "512:\tlearn: 0.2558705\ttotal: 3.21s\tremaining: 3.05s\n",
            "513:\tlearn: 0.2555782\ttotal: 3.22s\tremaining: 3.04s\n",
            "514:\tlearn: 0.2553867\ttotal: 3.23s\tremaining: 3.04s\n",
            "515:\tlearn: 0.2549577\ttotal: 3.23s\tremaining: 3.03s\n",
            "516:\tlearn: 0.2547069\ttotal: 3.23s\tremaining: 3.02s\n",
            "517:\tlearn: 0.2544705\ttotal: 3.24s\tremaining: 3.01s\n",
            "518:\tlearn: 0.2541363\ttotal: 3.25s\tremaining: 3.01s\n",
            "519:\tlearn: 0.2538941\ttotal: 3.25s\tremaining: 3s\n",
            "520:\tlearn: 0.2534972\ttotal: 3.25s\tremaining: 2.99s\n",
            "521:\tlearn: 0.2529589\ttotal: 3.26s\tremaining: 2.99s\n",
            "522:\tlearn: 0.2525504\ttotal: 3.27s\tremaining: 2.98s\n",
            "523:\tlearn: 0.2519369\ttotal: 3.27s\tremaining: 2.97s\n",
            "524:\tlearn: 0.2514281\ttotal: 3.28s\tremaining: 2.97s\n",
            "525:\tlearn: 0.2511763\ttotal: 3.29s\tremaining: 2.96s\n",
            "526:\tlearn: 0.2510444\ttotal: 3.29s\tremaining: 2.96s\n",
            "527:\tlearn: 0.2508274\ttotal: 3.3s\tremaining: 2.95s\n",
            "528:\tlearn: 0.2503286\ttotal: 3.3s\tremaining: 2.94s\n",
            "529:\tlearn: 0.2499604\ttotal: 3.31s\tremaining: 2.93s\n",
            "530:\tlearn: 0.2497233\ttotal: 3.31s\tremaining: 2.93s\n",
            "531:\tlearn: 0.2494696\ttotal: 3.32s\tremaining: 2.92s\n",
            "532:\tlearn: 0.2491503\ttotal: 3.33s\tremaining: 2.92s\n",
            "533:\tlearn: 0.2490019\ttotal: 3.33s\tremaining: 2.91s\n",
            "534:\tlearn: 0.2486907\ttotal: 3.34s\tremaining: 2.9s\n",
            "535:\tlearn: 0.2484351\ttotal: 3.35s\tremaining: 2.9s\n",
            "536:\tlearn: 0.2478302\ttotal: 3.35s\tremaining: 2.89s\n",
            "537:\tlearn: 0.2474857\ttotal: 3.36s\tremaining: 2.88s\n",
            "538:\tlearn: 0.2471712\ttotal: 3.36s\tremaining: 2.88s\n",
            "539:\tlearn: 0.2468136\ttotal: 3.37s\tremaining: 2.87s\n",
            "540:\tlearn: 0.2463468\ttotal: 3.37s\tremaining: 2.86s\n",
            "541:\tlearn: 0.2458354\ttotal: 3.38s\tremaining: 2.85s\n",
            "542:\tlearn: 0.2455437\ttotal: 3.38s\tremaining: 2.85s\n",
            "543:\tlearn: 0.2451425\ttotal: 3.39s\tremaining: 2.84s\n",
            "544:\tlearn: 0.2447397\ttotal: 3.4s\tremaining: 2.83s\n",
            "545:\tlearn: 0.2443719\ttotal: 3.4s\tremaining: 2.83s\n",
            "546:\tlearn: 0.2441464\ttotal: 3.41s\tremaining: 2.82s\n",
            "547:\tlearn: 0.2438669\ttotal: 3.41s\tremaining: 2.81s\n",
            "548:\tlearn: 0.2437115\ttotal: 3.42s\tremaining: 2.81s\n",
            "549:\tlearn: 0.2434770\ttotal: 3.43s\tremaining: 2.81s\n",
            "550:\tlearn: 0.2431877\ttotal: 3.44s\tremaining: 2.8s\n",
            "551:\tlearn: 0.2425946\ttotal: 3.44s\tremaining: 2.79s\n",
            "552:\tlearn: 0.2423002\ttotal: 3.45s\tremaining: 2.79s\n",
            "553:\tlearn: 0.2419138\ttotal: 3.45s\tremaining: 2.78s\n",
            "554:\tlearn: 0.2416490\ttotal: 3.46s\tremaining: 2.77s\n",
            "555:\tlearn: 0.2412324\ttotal: 3.47s\tremaining: 2.77s\n",
            "556:\tlearn: 0.2409088\ttotal: 3.48s\tremaining: 2.77s\n",
            "557:\tlearn: 0.2405681\ttotal: 3.48s\tremaining: 2.76s\n",
            "558:\tlearn: 0.2399500\ttotal: 3.49s\tremaining: 2.75s\n",
            "559:\tlearn: 0.2398131\ttotal: 3.49s\tremaining: 2.75s\n",
            "560:\tlearn: 0.2395915\ttotal: 3.5s\tremaining: 2.74s\n",
            "561:\tlearn: 0.2394873\ttotal: 3.5s\tremaining: 2.73s\n",
            "562:\tlearn: 0.2394194\ttotal: 3.51s\tremaining: 2.72s\n",
            "563:\tlearn: 0.2391484\ttotal: 3.51s\tremaining: 2.72s\n",
            "564:\tlearn: 0.2388517\ttotal: 3.52s\tremaining: 2.71s\n",
            "565:\tlearn: 0.2386591\ttotal: 3.52s\tremaining: 2.7s\n",
            "566:\tlearn: 0.2383830\ttotal: 3.53s\tremaining: 2.7s\n",
            "567:\tlearn: 0.2380072\ttotal: 3.54s\tremaining: 2.69s\n",
            "568:\tlearn: 0.2375545\ttotal: 3.54s\tremaining: 2.68s\n",
            "569:\tlearn: 0.2371191\ttotal: 3.55s\tremaining: 2.68s\n",
            "570:\tlearn: 0.2365121\ttotal: 3.55s\tremaining: 2.67s\n",
            "571:\tlearn: 0.2361933\ttotal: 3.56s\tremaining: 2.66s\n",
            "572:\tlearn: 0.2360394\ttotal: 3.56s\tremaining: 2.66s\n",
            "573:\tlearn: 0.2359157\ttotal: 3.57s\tremaining: 2.65s\n",
            "574:\tlearn: 0.2352978\ttotal: 3.58s\tremaining: 2.64s\n",
            "575:\tlearn: 0.2351830\ttotal: 3.58s\tremaining: 2.64s\n",
            "576:\tlearn: 0.2348932\ttotal: 3.59s\tremaining: 2.63s\n",
            "577:\tlearn: 0.2345049\ttotal: 3.59s\tremaining: 2.62s\n",
            "578:\tlearn: 0.2340733\ttotal: 3.6s\tremaining: 2.62s\n",
            "579:\tlearn: 0.2336284\ttotal: 3.6s\tremaining: 2.61s\n",
            "580:\tlearn: 0.2332540\ttotal: 3.61s\tremaining: 2.6s\n",
            "581:\tlearn: 0.2331195\ttotal: 3.62s\tremaining: 2.6s\n",
            "582:\tlearn: 0.2327940\ttotal: 3.62s\tremaining: 2.59s\n",
            "583:\tlearn: 0.2322243\ttotal: 3.63s\tremaining: 2.58s\n",
            "584:\tlearn: 0.2319567\ttotal: 3.63s\tremaining: 2.58s\n",
            "585:\tlearn: 0.2315954\ttotal: 3.64s\tremaining: 2.57s\n",
            "586:\tlearn: 0.2314944\ttotal: 3.64s\tremaining: 2.56s\n",
            "587:\tlearn: 0.2312324\ttotal: 3.65s\tremaining: 2.56s\n",
            "588:\tlearn: 0.2309964\ttotal: 3.65s\tremaining: 2.55s\n",
            "589:\tlearn: 0.2306477\ttotal: 3.66s\tremaining: 2.54s\n",
            "590:\tlearn: 0.2303007\ttotal: 3.67s\tremaining: 2.54s\n",
            "591:\tlearn: 0.2300853\ttotal: 3.68s\tremaining: 2.54s\n",
            "592:\tlearn: 0.2296306\ttotal: 3.69s\tremaining: 2.53s\n",
            "593:\tlearn: 0.2294758\ttotal: 3.69s\tremaining: 2.52s\n",
            "594:\tlearn: 0.2290026\ttotal: 3.7s\tremaining: 2.52s\n",
            "595:\tlearn: 0.2288609\ttotal: 3.7s\tremaining: 2.51s\n",
            "596:\tlearn: 0.2285251\ttotal: 3.71s\tremaining: 2.5s\n",
            "597:\tlearn: 0.2282155\ttotal: 3.71s\tremaining: 2.5s\n",
            "598:\tlearn: 0.2278261\ttotal: 3.72s\tremaining: 2.49s\n",
            "599:\tlearn: 0.2276000\ttotal: 3.72s\tremaining: 2.48s\n",
            "600:\tlearn: 0.2273202\ttotal: 3.73s\tremaining: 2.48s\n",
            "601:\tlearn: 0.2272205\ttotal: 3.73s\tremaining: 2.47s\n",
            "602:\tlearn: 0.2269716\ttotal: 3.74s\tremaining: 2.46s\n",
            "603:\tlearn: 0.2266579\ttotal: 3.75s\tremaining: 2.46s\n",
            "604:\tlearn: 0.2265399\ttotal: 3.75s\tremaining: 2.45s\n",
            "605:\tlearn: 0.2263486\ttotal: 3.76s\tremaining: 2.44s\n",
            "606:\tlearn: 0.2258864\ttotal: 3.76s\tremaining: 2.44s\n",
            "607:\tlearn: 0.2257012\ttotal: 3.77s\tremaining: 2.43s\n",
            "608:\tlearn: 0.2253166\ttotal: 3.77s\tremaining: 2.42s\n",
            "609:\tlearn: 0.2248860\ttotal: 3.78s\tremaining: 2.41s\n",
            "610:\tlearn: 0.2246858\ttotal: 3.78s\tremaining: 2.41s\n",
            "611:\tlearn: 0.2244044\ttotal: 3.79s\tremaining: 2.4s\n",
            "612:\tlearn: 0.2239142\ttotal: 3.79s\tremaining: 2.39s\n",
            "613:\tlearn: 0.2236828\ttotal: 3.8s\tremaining: 2.39s\n",
            "614:\tlearn: 0.2234194\ttotal: 3.8s\tremaining: 2.38s\n",
            "615:\tlearn: 0.2231964\ttotal: 3.81s\tremaining: 2.38s\n",
            "616:\tlearn: 0.2229798\ttotal: 3.81s\tremaining: 2.37s\n",
            "617:\tlearn: 0.2228011\ttotal: 3.82s\tremaining: 2.36s\n",
            "618:\tlearn: 0.2224356\ttotal: 3.83s\tremaining: 2.35s\n",
            "619:\tlearn: 0.2223386\ttotal: 3.83s\tremaining: 2.35s\n",
            "620:\tlearn: 0.2220534\ttotal: 3.84s\tremaining: 2.34s\n",
            "621:\tlearn: 0.2217050\ttotal: 3.84s\tremaining: 2.33s\n",
            "622:\tlearn: 0.2214845\ttotal: 3.85s\tremaining: 2.33s\n",
            "623:\tlearn: 0.2213174\ttotal: 3.85s\tremaining: 2.32s\n",
            "624:\tlearn: 0.2210360\ttotal: 3.86s\tremaining: 2.31s\n",
            "625:\tlearn: 0.2208107\ttotal: 3.87s\tremaining: 2.31s\n",
            "626:\tlearn: 0.2206364\ttotal: 3.87s\tremaining: 2.3s\n",
            "627:\tlearn: 0.2203186\ttotal: 3.88s\tremaining: 2.3s\n",
            "628:\tlearn: 0.2202625\ttotal: 3.89s\tremaining: 2.29s\n",
            "629:\tlearn: 0.2201510\ttotal: 3.9s\tremaining: 2.29s\n",
            "630:\tlearn: 0.2198970\ttotal: 3.9s\tremaining: 2.28s\n",
            "631:\tlearn: 0.2195078\ttotal: 3.91s\tremaining: 2.27s\n",
            "632:\tlearn: 0.2193782\ttotal: 3.91s\tremaining: 2.27s\n",
            "633:\tlearn: 0.2188739\ttotal: 3.92s\tremaining: 2.26s\n",
            "634:\tlearn: 0.2185094\ttotal: 3.93s\tremaining: 2.26s\n",
            "635:\tlearn: 0.2183319\ttotal: 3.93s\tremaining: 2.25s\n",
            "636:\tlearn: 0.2180034\ttotal: 3.94s\tremaining: 2.24s\n",
            "637:\tlearn: 0.2174946\ttotal: 3.94s\tremaining: 2.24s\n",
            "638:\tlearn: 0.2173272\ttotal: 3.95s\tremaining: 2.23s\n",
            "639:\tlearn: 0.2171719\ttotal: 3.95s\tremaining: 2.22s\n",
            "640:\tlearn: 0.2170578\ttotal: 3.96s\tremaining: 2.22s\n",
            "641:\tlearn: 0.2166590\ttotal: 3.96s\tremaining: 2.21s\n",
            "642:\tlearn: 0.2164183\ttotal: 3.97s\tremaining: 2.2s\n",
            "643:\tlearn: 0.2158806\ttotal: 3.97s\tremaining: 2.2s\n",
            "644:\tlearn: 0.2157498\ttotal: 3.98s\tremaining: 2.19s\n",
            "645:\tlearn: 0.2152202\ttotal: 3.98s\tremaining: 2.18s\n",
            "646:\tlearn: 0.2150691\ttotal: 3.99s\tremaining: 2.18s\n",
            "647:\tlearn: 0.2148528\ttotal: 4s\tremaining: 2.17s\n",
            "648:\tlearn: 0.2144280\ttotal: 4.01s\tremaining: 2.17s\n",
            "649:\tlearn: 0.2141963\ttotal: 4.01s\tremaining: 2.16s\n",
            "650:\tlearn: 0.2138013\ttotal: 4.02s\tremaining: 2.15s\n",
            "651:\tlearn: 0.2134484\ttotal: 4.02s\tremaining: 2.15s\n",
            "652:\tlearn: 0.2131953\ttotal: 4.03s\tremaining: 2.14s\n",
            "653:\tlearn: 0.2131203\ttotal: 4.04s\tremaining: 2.13s\n",
            "654:\tlearn: 0.2128894\ttotal: 4.04s\tremaining: 2.13s\n",
            "655:\tlearn: 0.2124900\ttotal: 4.05s\tremaining: 2.12s\n",
            "656:\tlearn: 0.2122674\ttotal: 4.05s\tremaining: 2.12s\n",
            "657:\tlearn: 0.2121416\ttotal: 4.06s\tremaining: 2.11s\n",
            "658:\tlearn: 0.2116553\ttotal: 4.07s\tremaining: 2.11s\n",
            "659:\tlearn: 0.2114284\ttotal: 4.08s\tremaining: 2.1s\n",
            "660:\tlearn: 0.2112095\ttotal: 4.08s\tremaining: 2.09s\n",
            "661:\tlearn: 0.2110296\ttotal: 4.09s\tremaining: 2.09s\n",
            "662:\tlearn: 0.2107717\ttotal: 4.09s\tremaining: 2.08s\n",
            "663:\tlearn: 0.2106375\ttotal: 4.1s\tremaining: 2.07s\n",
            "664:\tlearn: 0.2104613\ttotal: 4.1s\tremaining: 2.07s\n",
            "665:\tlearn: 0.2100585\ttotal: 4.11s\tremaining: 2.06s\n",
            "666:\tlearn: 0.2097140\ttotal: 4.12s\tremaining: 2.06s\n",
            "667:\tlearn: 0.2095522\ttotal: 4.12s\tremaining: 2.05s\n",
            "668:\tlearn: 0.2094230\ttotal: 4.13s\tremaining: 2.04s\n",
            "669:\tlearn: 0.2092336\ttotal: 4.13s\tremaining: 2.04s\n",
            "670:\tlearn: 0.2090266\ttotal: 4.14s\tremaining: 2.03s\n",
            "671:\tlearn: 0.2088452\ttotal: 4.15s\tremaining: 2.02s\n",
            "672:\tlearn: 0.2087192\ttotal: 4.16s\tremaining: 2.02s\n",
            "673:\tlearn: 0.2085039\ttotal: 4.17s\tremaining: 2.01s\n",
            "674:\tlearn: 0.2081499\ttotal: 4.17s\tremaining: 2.01s\n",
            "675:\tlearn: 0.2078800\ttotal: 4.18s\tremaining: 2s\n",
            "676:\tlearn: 0.2077599\ttotal: 4.18s\tremaining: 1.99s\n",
            "677:\tlearn: 0.2076839\ttotal: 4.19s\tremaining: 1.99s\n",
            "678:\tlearn: 0.2073805\ttotal: 4.19s\tremaining: 1.98s\n",
            "679:\tlearn: 0.2071070\ttotal: 4.2s\tremaining: 1.98s\n",
            "680:\tlearn: 0.2070371\ttotal: 4.2s\tremaining: 1.97s\n",
            "681:\tlearn: 0.2069124\ttotal: 4.21s\tremaining: 1.96s\n",
            "682:\tlearn: 0.2067068\ttotal: 4.22s\tremaining: 1.96s\n",
            "683:\tlearn: 0.2064796\ttotal: 4.22s\tremaining: 1.95s\n",
            "684:\tlearn: 0.2064046\ttotal: 4.23s\tremaining: 1.94s\n",
            "685:\tlearn: 0.2062992\ttotal: 4.23s\tremaining: 1.94s\n",
            "686:\tlearn: 0.2060126\ttotal: 4.24s\tremaining: 1.93s\n",
            "687:\tlearn: 0.2057028\ttotal: 4.24s\tremaining: 1.92s\n",
            "688:\tlearn: 0.2054258\ttotal: 4.25s\tremaining: 1.92s\n",
            "689:\tlearn: 0.2052969\ttotal: 4.25s\tremaining: 1.91s\n",
            "690:\tlearn: 0.2048574\ttotal: 4.26s\tremaining: 1.9s\n",
            "691:\tlearn: 0.2044739\ttotal: 4.26s\tremaining: 1.9s\n",
            "692:\tlearn: 0.2042798\ttotal: 4.27s\tremaining: 1.89s\n",
            "693:\tlearn: 0.2041555\ttotal: 4.27s\tremaining: 1.88s\n",
            "694:\tlearn: 0.2039967\ttotal: 4.28s\tremaining: 1.88s\n",
            "695:\tlearn: 0.2035954\ttotal: 4.29s\tremaining: 1.87s\n",
            "696:\tlearn: 0.2035145\ttotal: 4.29s\tremaining: 1.86s\n",
            "697:\tlearn: 0.2032723\ttotal: 4.29s\tremaining: 1.86s\n",
            "698:\tlearn: 0.2028904\ttotal: 4.3s\tremaining: 1.85s\n",
            "699:\tlearn: 0.2025593\ttotal: 4.31s\tremaining: 1.85s\n",
            "700:\tlearn: 0.2022838\ttotal: 4.31s\tremaining: 1.84s\n",
            "701:\tlearn: 0.2021855\ttotal: 4.32s\tremaining: 1.83s\n",
            "702:\tlearn: 0.2021301\ttotal: 4.32s\tremaining: 1.83s\n",
            "703:\tlearn: 0.2019511\ttotal: 4.33s\tremaining: 1.82s\n",
            "704:\tlearn: 0.2017391\ttotal: 4.33s\tremaining: 1.81s\n",
            "705:\tlearn: 0.2015331\ttotal: 4.34s\tremaining: 1.81s\n",
            "706:\tlearn: 0.2013503\ttotal: 4.34s\tremaining: 1.8s\n",
            "707:\tlearn: 0.2010020\ttotal: 4.35s\tremaining: 1.79s\n",
            "708:\tlearn: 0.2007757\ttotal: 4.36s\tremaining: 1.79s\n",
            "709:\tlearn: 0.2004439\ttotal: 4.36s\tremaining: 1.78s\n",
            "710:\tlearn: 0.2003474\ttotal: 4.37s\tremaining: 1.77s\n",
            "711:\tlearn: 0.2002282\ttotal: 4.37s\tremaining: 1.77s\n",
            "712:\tlearn: 0.2000081\ttotal: 4.38s\tremaining: 1.76s\n",
            "713:\tlearn: 0.1998116\ttotal: 4.39s\tremaining: 1.76s\n",
            "714:\tlearn: 0.1994609\ttotal: 4.39s\tremaining: 1.75s\n",
            "715:\tlearn: 0.1991124\ttotal: 4.4s\tremaining: 1.74s\n",
            "716:\tlearn: 0.1988040\ttotal: 4.4s\tremaining: 1.74s\n",
            "717:\tlearn: 0.1987111\ttotal: 4.41s\tremaining: 1.73s\n",
            "718:\tlearn: 0.1984202\ttotal: 4.41s\tremaining: 1.72s\n",
            "719:\tlearn: 0.1982452\ttotal: 4.42s\tremaining: 1.72s\n",
            "720:\tlearn: 0.1981495\ttotal: 4.42s\tremaining: 1.71s\n",
            "721:\tlearn: 0.1979187\ttotal: 4.43s\tremaining: 1.7s\n",
            "722:\tlearn: 0.1977955\ttotal: 4.43s\tremaining: 1.7s\n",
            "723:\tlearn: 0.1975691\ttotal: 4.44s\tremaining: 1.69s\n",
            "724:\tlearn: 0.1973362\ttotal: 4.44s\tremaining: 1.69s\n",
            "725:\tlearn: 0.1968182\ttotal: 4.45s\tremaining: 1.68s\n",
            "726:\tlearn: 0.1963550\ttotal: 4.46s\tremaining: 1.67s\n",
            "727:\tlearn: 0.1961200\ttotal: 4.46s\tremaining: 1.67s\n",
            "728:\tlearn: 0.1958353\ttotal: 4.47s\tremaining: 1.66s\n",
            "729:\tlearn: 0.1956099\ttotal: 4.47s\tremaining: 1.66s\n",
            "730:\tlearn: 0.1954079\ttotal: 4.48s\tremaining: 1.65s\n",
            "731:\tlearn: 0.1951608\ttotal: 4.49s\tremaining: 1.64s\n",
            "732:\tlearn: 0.1947991\ttotal: 4.5s\tremaining: 1.64s\n",
            "733:\tlearn: 0.1946723\ttotal: 4.5s\tremaining: 1.63s\n",
            "734:\tlearn: 0.1944608\ttotal: 4.51s\tremaining: 1.63s\n",
            "735:\tlearn: 0.1943978\ttotal: 4.51s\tremaining: 1.62s\n",
            "736:\tlearn: 0.1941278\ttotal: 4.52s\tremaining: 1.61s\n",
            "737:\tlearn: 0.1939481\ttotal: 4.53s\tremaining: 1.61s\n",
            "738:\tlearn: 0.1935787\ttotal: 4.53s\tremaining: 1.6s\n",
            "739:\tlearn: 0.1934132\ttotal: 4.54s\tremaining: 1.59s\n",
            "740:\tlearn: 0.1931844\ttotal: 4.54s\tremaining: 1.59s\n",
            "741:\tlearn: 0.1930804\ttotal: 4.55s\tremaining: 1.58s\n",
            "742:\tlearn: 0.1929566\ttotal: 4.55s\tremaining: 1.57s\n",
            "743:\tlearn: 0.1927710\ttotal: 4.56s\tremaining: 1.57s\n",
            "744:\tlearn: 0.1925767\ttotal: 4.57s\tremaining: 1.56s\n",
            "745:\tlearn: 0.1924984\ttotal: 4.57s\tremaining: 1.56s\n",
            "746:\tlearn: 0.1922918\ttotal: 4.58s\tremaining: 1.55s\n",
            "747:\tlearn: 0.1922078\ttotal: 4.58s\tremaining: 1.54s\n",
            "748:\tlearn: 0.1921264\ttotal: 4.59s\tremaining: 1.54s\n",
            "749:\tlearn: 0.1919841\ttotal: 4.59s\tremaining: 1.53s\n",
            "750:\tlearn: 0.1917464\ttotal: 4.6s\tremaining: 1.52s\n",
            "751:\tlearn: 0.1916577\ttotal: 4.61s\tremaining: 1.52s\n",
            "752:\tlearn: 0.1914231\ttotal: 4.61s\tremaining: 1.51s\n",
            "753:\tlearn: 0.1912086\ttotal: 4.62s\tremaining: 1.51s\n",
            "754:\tlearn: 0.1911147\ttotal: 4.63s\tremaining: 1.5s\n",
            "755:\tlearn: 0.1907292\ttotal: 4.64s\tremaining: 1.5s\n",
            "756:\tlearn: 0.1903742\ttotal: 4.64s\tremaining: 1.49s\n",
            "757:\tlearn: 0.1899373\ttotal: 4.65s\tremaining: 1.48s\n",
            "758:\tlearn: 0.1896457\ttotal: 4.66s\tremaining: 1.48s\n",
            "759:\tlearn: 0.1894410\ttotal: 4.66s\tremaining: 1.47s\n",
            "760:\tlearn: 0.1893327\ttotal: 4.67s\tremaining: 1.47s\n",
            "761:\tlearn: 0.1891890\ttotal: 4.67s\tremaining: 1.46s\n",
            "762:\tlearn: 0.1890916\ttotal: 4.68s\tremaining: 1.45s\n",
            "763:\tlearn: 0.1889705\ttotal: 4.69s\tremaining: 1.45s\n",
            "764:\tlearn: 0.1888876\ttotal: 4.69s\tremaining: 1.44s\n",
            "765:\tlearn: 0.1887223\ttotal: 4.7s\tremaining: 1.44s\n",
            "766:\tlearn: 0.1886515\ttotal: 4.7s\tremaining: 1.43s\n",
            "767:\tlearn: 0.1883573\ttotal: 4.71s\tremaining: 1.42s\n",
            "768:\tlearn: 0.1882372\ttotal: 4.71s\tremaining: 1.42s\n",
            "769:\tlearn: 0.1881633\ttotal: 4.72s\tremaining: 1.41s\n",
            "770:\tlearn: 0.1879594\ttotal: 4.73s\tremaining: 1.41s\n",
            "771:\tlearn: 0.1877781\ttotal: 4.74s\tremaining: 1.4s\n",
            "772:\tlearn: 0.1877175\ttotal: 4.74s\tremaining: 1.39s\n",
            "773:\tlearn: 0.1874346\ttotal: 4.75s\tremaining: 1.39s\n",
            "774:\tlearn: 0.1871254\ttotal: 4.76s\tremaining: 1.38s\n",
            "775:\tlearn: 0.1869172\ttotal: 4.76s\tremaining: 1.38s\n",
            "776:\tlearn: 0.1867540\ttotal: 4.77s\tremaining: 1.37s\n",
            "777:\tlearn: 0.1866643\ttotal: 4.78s\tremaining: 1.36s\n",
            "778:\tlearn: 0.1863351\ttotal: 4.79s\tremaining: 1.36s\n",
            "779:\tlearn: 0.1861551\ttotal: 4.79s\tremaining: 1.35s\n",
            "780:\tlearn: 0.1860509\ttotal: 4.8s\tremaining: 1.34s\n",
            "781:\tlearn: 0.1858316\ttotal: 4.8s\tremaining: 1.34s\n",
            "782:\tlearn: 0.1857058\ttotal: 4.81s\tremaining: 1.33s\n",
            "783:\tlearn: 0.1855089\ttotal: 4.81s\tremaining: 1.32s\n",
            "784:\tlearn: 0.1853609\ttotal: 4.82s\tremaining: 1.32s\n",
            "785:\tlearn: 0.1851541\ttotal: 4.82s\tremaining: 1.31s\n",
            "786:\tlearn: 0.1849213\ttotal: 4.83s\tremaining: 1.31s\n",
            "787:\tlearn: 0.1847818\ttotal: 4.84s\tremaining: 1.3s\n",
            "788:\tlearn: 0.1846481\ttotal: 4.84s\tremaining: 1.29s\n",
            "789:\tlearn: 0.1844033\ttotal: 4.85s\tremaining: 1.29s\n",
            "790:\tlearn: 0.1841779\ttotal: 4.86s\tremaining: 1.28s\n",
            "791:\tlearn: 0.1840077\ttotal: 4.86s\tremaining: 1.28s\n",
            "792:\tlearn: 0.1838795\ttotal: 4.87s\tremaining: 1.27s\n",
            "793:\tlearn: 0.1836791\ttotal: 4.88s\tremaining: 1.26s\n",
            "794:\tlearn: 0.1834994\ttotal: 4.88s\tremaining: 1.26s\n",
            "795:\tlearn: 0.1832942\ttotal: 4.89s\tremaining: 1.25s\n",
            "796:\tlearn: 0.1831605\ttotal: 4.89s\tremaining: 1.25s\n",
            "797:\tlearn: 0.1829876\ttotal: 4.9s\tremaining: 1.24s\n",
            "798:\tlearn: 0.1827460\ttotal: 4.9s\tremaining: 1.23s\n",
            "799:\tlearn: 0.1825605\ttotal: 4.91s\tremaining: 1.23s\n",
            "800:\tlearn: 0.1823755\ttotal: 4.91s\tremaining: 1.22s\n",
            "801:\tlearn: 0.1821611\ttotal: 4.92s\tremaining: 1.21s\n",
            "802:\tlearn: 0.1819458\ttotal: 4.92s\tremaining: 1.21s\n",
            "803:\tlearn: 0.1816976\ttotal: 4.93s\tremaining: 1.2s\n",
            "804:\tlearn: 0.1815339\ttotal: 4.93s\tremaining: 1.2s\n",
            "805:\tlearn: 0.1812676\ttotal: 4.94s\tremaining: 1.19s\n",
            "806:\tlearn: 0.1810192\ttotal: 4.95s\tremaining: 1.18s\n",
            "807:\tlearn: 0.1807787\ttotal: 4.95s\tremaining: 1.18s\n",
            "808:\tlearn: 0.1806295\ttotal: 4.96s\tremaining: 1.17s\n",
            "809:\tlearn: 0.1804906\ttotal: 4.97s\tremaining: 1.17s\n",
            "810:\tlearn: 0.1801914\ttotal: 4.98s\tremaining: 1.16s\n",
            "811:\tlearn: 0.1800489\ttotal: 4.98s\tremaining: 1.15s\n",
            "812:\tlearn: 0.1799756\ttotal: 4.99s\tremaining: 1.15s\n",
            "813:\tlearn: 0.1797997\ttotal: 5s\tremaining: 1.14s\n",
            "814:\tlearn: 0.1796715\ttotal: 5s\tremaining: 1.14s\n",
            "815:\tlearn: 0.1794569\ttotal: 5.01s\tremaining: 1.13s\n",
            "816:\tlearn: 0.1793215\ttotal: 5.01s\tremaining: 1.12s\n",
            "817:\tlearn: 0.1792055\ttotal: 5.02s\tremaining: 1.12s\n",
            "818:\tlearn: 0.1791304\ttotal: 5.03s\tremaining: 1.11s\n",
            "819:\tlearn: 0.1790187\ttotal: 5.03s\tremaining: 1.1s\n",
            "820:\tlearn: 0.1789144\ttotal: 5.04s\tremaining: 1.1s\n",
            "821:\tlearn: 0.1784298\ttotal: 5.05s\tremaining: 1.09s\n",
            "822:\tlearn: 0.1783298\ttotal: 5.05s\tremaining: 1.09s\n",
            "823:\tlearn: 0.1780974\ttotal: 5.06s\tremaining: 1.08s\n",
            "824:\tlearn: 0.1779879\ttotal: 5.06s\tremaining: 1.07s\n",
            "825:\tlearn: 0.1776907\ttotal: 5.07s\tremaining: 1.07s\n",
            "826:\tlearn: 0.1775804\ttotal: 5.08s\tremaining: 1.06s\n",
            "827:\tlearn: 0.1774749\ttotal: 5.08s\tremaining: 1.06s\n",
            "828:\tlearn: 0.1774284\ttotal: 5.09s\tremaining: 1.05s\n",
            "829:\tlearn: 0.1772572\ttotal: 5.1s\tremaining: 1.04s\n",
            "830:\tlearn: 0.1771211\ttotal: 5.1s\tremaining: 1.04s\n",
            "831:\tlearn: 0.1769806\ttotal: 5.11s\tremaining: 1.03s\n",
            "832:\tlearn: 0.1769174\ttotal: 5.11s\tremaining: 1.02s\n",
            "833:\tlearn: 0.1767429\ttotal: 5.12s\tremaining: 1.02s\n",
            "834:\tlearn: 0.1765703\ttotal: 5.12s\tremaining: 1.01s\n",
            "835:\tlearn: 0.1764009\ttotal: 5.13s\tremaining: 1s\n",
            "836:\tlearn: 0.1762154\ttotal: 5.13s\tremaining: 1000ms\n",
            "837:\tlearn: 0.1758850\ttotal: 5.14s\tremaining: 993ms\n",
            "838:\tlearn: 0.1757599\ttotal: 5.14s\tremaining: 987ms\n",
            "839:\tlearn: 0.1756106\ttotal: 5.16s\tremaining: 983ms\n",
            "840:\tlearn: 0.1754390\ttotal: 5.16s\tremaining: 976ms\n",
            "841:\tlearn: 0.1751469\ttotal: 5.17s\tremaining: 970ms\n",
            "842:\tlearn: 0.1749003\ttotal: 5.17s\tremaining: 964ms\n",
            "843:\tlearn: 0.1747088\ttotal: 5.18s\tremaining: 958ms\n",
            "844:\tlearn: 0.1745070\ttotal: 5.19s\tremaining: 952ms\n",
            "845:\tlearn: 0.1743204\ttotal: 5.2s\tremaining: 946ms\n",
            "846:\tlearn: 0.1741146\ttotal: 5.2s\tremaining: 940ms\n",
            "847:\tlearn: 0.1739324\ttotal: 5.21s\tremaining: 933ms\n",
            "848:\tlearn: 0.1737462\ttotal: 5.21s\tremaining: 927ms\n",
            "849:\tlearn: 0.1734948\ttotal: 5.22s\tremaining: 921ms\n",
            "850:\tlearn: 0.1732439\ttotal: 5.22s\tremaining: 914ms\n",
            "851:\tlearn: 0.1731239\ttotal: 5.23s\tremaining: 908ms\n",
            "852:\tlearn: 0.1730141\ttotal: 5.24s\tremaining: 902ms\n",
            "853:\tlearn: 0.1728396\ttotal: 5.24s\tremaining: 896ms\n",
            "854:\tlearn: 0.1725155\ttotal: 5.25s\tremaining: 890ms\n",
            "855:\tlearn: 0.1723424\ttotal: 5.25s\tremaining: 884ms\n",
            "856:\tlearn: 0.1721618\ttotal: 5.26s\tremaining: 878ms\n",
            "857:\tlearn: 0.1720514\ttotal: 5.26s\tremaining: 871ms\n",
            "858:\tlearn: 0.1719408\ttotal: 5.27s\tremaining: 865ms\n",
            "859:\tlearn: 0.1717752\ttotal: 5.29s\tremaining: 861ms\n",
            "860:\tlearn: 0.1716478\ttotal: 5.29s\tremaining: 854ms\n",
            "861:\tlearn: 0.1714596\ttotal: 5.3s\tremaining: 848ms\n",
            "862:\tlearn: 0.1712890\ttotal: 5.3s\tremaining: 842ms\n",
            "863:\tlearn: 0.1710625\ttotal: 5.31s\tremaining: 836ms\n",
            "864:\tlearn: 0.1708428\ttotal: 5.32s\tremaining: 830ms\n",
            "865:\tlearn: 0.1706462\ttotal: 5.32s\tremaining: 824ms\n",
            "866:\tlearn: 0.1704312\ttotal: 5.33s\tremaining: 817ms\n",
            "867:\tlearn: 0.1702460\ttotal: 5.33s\tremaining: 811ms\n",
            "868:\tlearn: 0.1700750\ttotal: 5.34s\tremaining: 805ms\n",
            "869:\tlearn: 0.1698681\ttotal: 5.35s\tremaining: 799ms\n",
            "870:\tlearn: 0.1696085\ttotal: 5.36s\tremaining: 794ms\n",
            "871:\tlearn: 0.1693934\ttotal: 5.37s\tremaining: 788ms\n",
            "872:\tlearn: 0.1692204\ttotal: 5.37s\tremaining: 781ms\n",
            "873:\tlearn: 0.1691502\ttotal: 5.38s\tremaining: 775ms\n",
            "874:\tlearn: 0.1689791\ttotal: 5.38s\tremaining: 769ms\n",
            "875:\tlearn: 0.1687993\ttotal: 5.39s\tremaining: 763ms\n",
            "876:\tlearn: 0.1686838\ttotal: 5.39s\tremaining: 756ms\n",
            "877:\tlearn: 0.1685254\ttotal: 5.4s\tremaining: 750ms\n",
            "878:\tlearn: 0.1684085\ttotal: 5.4s\tremaining: 744ms\n",
            "879:\tlearn: 0.1682775\ttotal: 5.41s\tremaining: 737ms\n",
            "880:\tlearn: 0.1680762\ttotal: 5.41s\tremaining: 731ms\n",
            "881:\tlearn: 0.1678838\ttotal: 5.42s\tremaining: 725ms\n",
            "882:\tlearn: 0.1677041\ttotal: 5.43s\tremaining: 719ms\n",
            "883:\tlearn: 0.1676422\ttotal: 5.44s\tremaining: 713ms\n",
            "884:\tlearn: 0.1674759\ttotal: 5.44s\tremaining: 707ms\n",
            "885:\tlearn: 0.1673348\ttotal: 5.45s\tremaining: 701ms\n",
            "886:\tlearn: 0.1672436\ttotal: 5.45s\tremaining: 695ms\n",
            "887:\tlearn: 0.1670931\ttotal: 5.46s\tremaining: 688ms\n",
            "888:\tlearn: 0.1668561\ttotal: 5.46s\tremaining: 682ms\n",
            "889:\tlearn: 0.1667036\ttotal: 5.47s\tremaining: 676ms\n",
            "890:\tlearn: 0.1664902\ttotal: 5.47s\tremaining: 670ms\n",
            "891:\tlearn: 0.1664148\ttotal: 5.48s\tremaining: 664ms\n",
            "892:\tlearn: 0.1662701\ttotal: 5.49s\tremaining: 658ms\n",
            "893:\tlearn: 0.1660878\ttotal: 5.5s\tremaining: 652ms\n",
            "894:\tlearn: 0.1658538\ttotal: 5.5s\tremaining: 645ms\n",
            "895:\tlearn: 0.1656765\ttotal: 5.51s\tremaining: 639ms\n",
            "896:\tlearn: 0.1655940\ttotal: 5.51s\tremaining: 633ms\n",
            "897:\tlearn: 0.1653922\ttotal: 5.52s\tremaining: 627ms\n",
            "898:\tlearn: 0.1652861\ttotal: 5.52s\tremaining: 620ms\n",
            "899:\tlearn: 0.1650052\ttotal: 5.53s\tremaining: 614ms\n",
            "900:\tlearn: 0.1648627\ttotal: 5.53s\tremaining: 608ms\n",
            "901:\tlearn: 0.1647512\ttotal: 5.54s\tremaining: 602ms\n",
            "902:\tlearn: 0.1646412\ttotal: 5.54s\tremaining: 595ms\n",
            "903:\tlearn: 0.1644700\ttotal: 5.55s\tremaining: 589ms\n",
            "904:\tlearn: 0.1643304\ttotal: 5.56s\tremaining: 583ms\n",
            "905:\tlearn: 0.1641403\ttotal: 5.56s\tremaining: 577ms\n",
            "906:\tlearn: 0.1639200\ttotal: 5.57s\tremaining: 571ms\n",
            "907:\tlearn: 0.1638879\ttotal: 5.57s\tremaining: 565ms\n",
            "908:\tlearn: 0.1638021\ttotal: 5.58s\tremaining: 559ms\n",
            "909:\tlearn: 0.1637214\ttotal: 5.59s\tremaining: 553ms\n",
            "910:\tlearn: 0.1635581\ttotal: 5.59s\tremaining: 547ms\n",
            "911:\tlearn: 0.1632625\ttotal: 5.6s\tremaining: 540ms\n",
            "912:\tlearn: 0.1631664\ttotal: 5.6s\tremaining: 534ms\n",
            "913:\tlearn: 0.1630656\ttotal: 5.61s\tremaining: 528ms\n",
            "914:\tlearn: 0.1629188\ttotal: 5.61s\tremaining: 522ms\n",
            "915:\tlearn: 0.1627819\ttotal: 5.63s\tremaining: 516ms\n",
            "916:\tlearn: 0.1626190\ttotal: 5.63s\tremaining: 510ms\n",
            "917:\tlearn: 0.1625463\ttotal: 5.64s\tremaining: 504ms\n",
            "918:\tlearn: 0.1623811\ttotal: 5.64s\tremaining: 497ms\n",
            "919:\tlearn: 0.1622208\ttotal: 5.65s\tremaining: 491ms\n",
            "920:\tlearn: 0.1621260\ttotal: 5.65s\tremaining: 485ms\n",
            "921:\tlearn: 0.1618613\ttotal: 5.66s\tremaining: 479ms\n",
            "922:\tlearn: 0.1617348\ttotal: 5.66s\tremaining: 472ms\n",
            "923:\tlearn: 0.1616054\ttotal: 5.67s\tremaining: 466ms\n",
            "924:\tlearn: 0.1614791\ttotal: 5.68s\tremaining: 460ms\n",
            "925:\tlearn: 0.1612938\ttotal: 5.68s\tremaining: 454ms\n",
            "926:\tlearn: 0.1610988\ttotal: 5.69s\tremaining: 448ms\n",
            "927:\tlearn: 0.1609747\ttotal: 5.69s\tremaining: 442ms\n",
            "928:\tlearn: 0.1608430\ttotal: 5.7s\tremaining: 436ms\n",
            "929:\tlearn: 0.1607446\ttotal: 5.7s\tremaining: 429ms\n",
            "930:\tlearn: 0.1605690\ttotal: 5.71s\tremaining: 423ms\n",
            "931:\tlearn: 0.1603477\ttotal: 5.71s\tremaining: 417ms\n",
            "932:\tlearn: 0.1602412\ttotal: 5.72s\tremaining: 411ms\n",
            "933:\tlearn: 0.1599680\ttotal: 5.73s\tremaining: 405ms\n",
            "934:\tlearn: 0.1597761\ttotal: 5.73s\tremaining: 399ms\n",
            "935:\tlearn: 0.1595648\ttotal: 5.74s\tremaining: 392ms\n",
            "936:\tlearn: 0.1593202\ttotal: 5.75s\tremaining: 386ms\n",
            "937:\tlearn: 0.1592039\ttotal: 5.76s\tremaining: 381ms\n",
            "938:\tlearn: 0.1591535\ttotal: 5.76s\tremaining: 374ms\n",
            "939:\tlearn: 0.1589732\ttotal: 5.77s\tremaining: 368ms\n",
            "940:\tlearn: 0.1588014\ttotal: 5.77s\tremaining: 362ms\n",
            "941:\tlearn: 0.1587063\ttotal: 5.78s\tremaining: 356ms\n",
            "942:\tlearn: 0.1586087\ttotal: 5.78s\tremaining: 350ms\n",
            "943:\tlearn: 0.1583566\ttotal: 5.79s\tremaining: 343ms\n",
            "944:\tlearn: 0.1581611\ttotal: 5.79s\tremaining: 337ms\n",
            "945:\tlearn: 0.1579448\ttotal: 5.8s\tremaining: 331ms\n",
            "946:\tlearn: 0.1577502\ttotal: 5.8s\tremaining: 325ms\n",
            "947:\tlearn: 0.1576475\ttotal: 5.81s\tremaining: 319ms\n",
            "948:\tlearn: 0.1575241\ttotal: 5.82s\tremaining: 313ms\n",
            "949:\tlearn: 0.1573548\ttotal: 5.83s\tremaining: 307ms\n",
            "950:\tlearn: 0.1572110\ttotal: 5.84s\tremaining: 301ms\n",
            "951:\tlearn: 0.1570490\ttotal: 5.84s\tremaining: 295ms\n",
            "952:\tlearn: 0.1568375\ttotal: 5.85s\tremaining: 289ms\n",
            "953:\tlearn: 0.1566183\ttotal: 5.86s\tremaining: 282ms\n",
            "954:\tlearn: 0.1564644\ttotal: 5.86s\tremaining: 276ms\n",
            "955:\tlearn: 0.1563528\ttotal: 5.87s\tremaining: 270ms\n",
            "956:\tlearn: 0.1562060\ttotal: 5.88s\tremaining: 264ms\n",
            "957:\tlearn: 0.1560181\ttotal: 5.89s\tremaining: 258ms\n",
            "958:\tlearn: 0.1558149\ttotal: 5.89s\tremaining: 252ms\n",
            "959:\tlearn: 0.1555995\ttotal: 5.9s\tremaining: 246ms\n",
            "960:\tlearn: 0.1554147\ttotal: 5.9s\tremaining: 240ms\n",
            "961:\tlearn: 0.1552108\ttotal: 5.91s\tremaining: 233ms\n",
            "962:\tlearn: 0.1550945\ttotal: 5.91s\tremaining: 227ms\n",
            "963:\tlearn: 0.1547255\ttotal: 5.92s\tremaining: 221ms\n",
            "964:\tlearn: 0.1546952\ttotal: 5.92s\tremaining: 215ms\n",
            "965:\tlearn: 0.1545871\ttotal: 5.93s\tremaining: 209ms\n",
            "966:\tlearn: 0.1544315\ttotal: 5.93s\tremaining: 203ms\n",
            "967:\tlearn: 0.1542883\ttotal: 5.94s\tremaining: 196ms\n",
            "968:\tlearn: 0.1541320\ttotal: 5.95s\tremaining: 190ms\n",
            "969:\tlearn: 0.1540740\ttotal: 5.96s\tremaining: 184ms\n",
            "970:\tlearn: 0.1538281\ttotal: 5.97s\tremaining: 178ms\n",
            "971:\tlearn: 0.1537259\ttotal: 5.97s\tremaining: 172ms\n",
            "972:\tlearn: 0.1536188\ttotal: 5.98s\tremaining: 166ms\n",
            "973:\tlearn: 0.1535531\ttotal: 5.98s\tremaining: 160ms\n",
            "974:\tlearn: 0.1534932\ttotal: 5.99s\tremaining: 154ms\n",
            "975:\tlearn: 0.1532683\ttotal: 5.99s\tremaining: 147ms\n",
            "976:\tlearn: 0.1530853\ttotal: 6s\tremaining: 141ms\n",
            "977:\tlearn: 0.1529758\ttotal: 6s\tremaining: 135ms\n",
            "978:\tlearn: 0.1528142\ttotal: 6.01s\tremaining: 129ms\n",
            "979:\tlearn: 0.1525834\ttotal: 6.01s\tremaining: 123ms\n",
            "980:\tlearn: 0.1523865\ttotal: 6.02s\tremaining: 117ms\n",
            "981:\tlearn: 0.1521485\ttotal: 6.03s\tremaining: 111ms\n",
            "982:\tlearn: 0.1520001\ttotal: 6.04s\tremaining: 104ms\n",
            "983:\tlearn: 0.1519208\ttotal: 6.04s\tremaining: 98.2ms\n",
            "984:\tlearn: 0.1517728\ttotal: 6.05s\tremaining: 92.1ms\n",
            "985:\tlearn: 0.1516572\ttotal: 6.05s\tremaining: 85.9ms\n",
            "986:\tlearn: 0.1514529\ttotal: 6.06s\tremaining: 79.8ms\n",
            "987:\tlearn: 0.1513106\ttotal: 6.06s\tremaining: 73.6ms\n",
            "988:\tlearn: 0.1512460\ttotal: 6.07s\tremaining: 67.5ms\n",
            "989:\tlearn: 0.1510535\ttotal: 6.07s\tremaining: 61.3ms\n",
            "990:\tlearn: 0.1508918\ttotal: 6.08s\tremaining: 55.2ms\n",
            "991:\tlearn: 0.1508376\ttotal: 6.08s\tremaining: 49.1ms\n",
            "992:\tlearn: 0.1506941\ttotal: 6.09s\tremaining: 42.9ms\n",
            "993:\tlearn: 0.1505313\ttotal: 6.09s\tremaining: 36.8ms\n",
            "994:\tlearn: 0.1504646\ttotal: 6.1s\tremaining: 30.7ms\n",
            "995:\tlearn: 0.1503545\ttotal: 6.11s\tremaining: 24.5ms\n",
            "996:\tlearn: 0.1502080\ttotal: 6.11s\tremaining: 18.4ms\n",
            "997:\tlearn: 0.1501794\ttotal: 6.12s\tremaining: 12.3ms\n",
            "998:\tlearn: 0.1500982\ttotal: 6.12s\tremaining: 6.13ms\n",
            "999:\tlearn: 0.1499955\ttotal: 6.13s\tremaining: 0us\n"
          ],
          "name": "stdout"
        }
      ]
    },
    {
      "cell_type": "code",
      "metadata": {
        "id": "pX42goggbFwi",
        "colab": {
          "base_uri": "https://localhost:8080/"
        },
        "outputId": "427b9f9d-bbe1-4ca3-e3bc-4d4600327e77"
      },
      "source": [
        "print(classification_report(Test_oversampled_y, Kitty_predictions))"
      ],
      "execution_count": 69,
      "outputs": [
        {
          "output_type": "stream",
          "text": [
            "              precision    recall  f1-score   support\n",
            "\n",
            "           0       0.73      0.73      0.73        90\n",
            "           1       0.71      0.61      0.66        77\n",
            "           2       0.71      0.77      0.74        88\n",
            "           3       0.86      0.88      0.87        86\n",
            "\n",
            "    accuracy                           0.75       341\n",
            "   macro avg       0.75      0.75      0.75       341\n",
            "weighted avg       0.75      0.75      0.75       341\n",
            "\n"
          ],
          "name": "stdout"
        }
      ]
    },
    {
      "cell_type": "markdown",
      "metadata": {
        "id": "TMybVlwd7Jz2"
      },
      "source": [
        "Градиентный бустинг показал самый значительный результат из всех опробованных алгоритмов. Конечно, этот результат можно усовершенствовать, но в рамках данного задания мы остановимся на этом."
      ]
    }
  ]
}